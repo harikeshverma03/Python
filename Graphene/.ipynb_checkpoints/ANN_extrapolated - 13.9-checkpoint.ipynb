{
 "cells": [
  {
   "cell_type": "code",
   "execution_count": null,
   "metadata": {},
   "outputs": [],
   "source": [
    "#5 percent - 64-128-128-64\n",
    "#4.5 percent - 64-64 - 3.15 - 0.944\n",
    "#4.7 percent - 64-128-256-128-64- 0.979\n",
    "#4.9 percent - 6-32-32-1 0.977\n",
    "#5.8 percent - 6-32-64-64-32-1 "
   ]
  },
  {
   "cell_type": "code",
   "execution_count": 1,
   "metadata": {},
   "outputs": [],
   "source": [
    "import sklearn"
   ]
  },
  {
   "cell_type": "code",
   "execution_count": 2,
   "metadata": {
    "colab": {
     "base_uri": "https://localhost:8080/"
    },
    "id": "TodLQ5mxBGQJ",
    "outputId": "131716a2-78cf-4f7a-e4b6-335fee22c4b0"
   },
   "outputs": [],
   "source": [
    "import keras\n",
    "import tensorflow as tf\n",
    "from sklearn.preprocessing import MinMaxScaler\n",
    "import matplotlib.pyplot as plt\n",
    "from keras.layers import Dense, Input\n",
    "from keras.models import Model\n",
    "from tensorflow.keras.layers import Dense,Activation,Dropout,Flatten\n",
    "from tensorflow.keras.models import Sequential\n",
    "from tensorflow.keras.optimizers import Adam\n",
    "import pandas as pd\n",
    "import numpy as np\n",
    "import glob\n",
    "import os\n",
    "import math\n",
    "from random import random\n",
    "from sklearn.model_selection import train_test_split\n",
    "from sklearn.metrics import mean_squared_error, r2_score, mean_absolute_error"
   ]
  },
  {
   "cell_type": "code",
   "execution_count": 3,
   "metadata": {
    "id": "TrQ0jGI0Bm_b"
   },
   "outputs": [
    {
     "data": {
      "text/plain": [
       "(448, 4)"
      ]
     },
     "execution_count": 3,
     "metadata": {},
     "output_type": "execute_result"
    }
   ],
   "source": [
    "data = pd.read_csv('data_1.csv',delimiter=\",\")\n",
    "test_data = pd.read_csv('test_data.csv',delimiter=\",\")\n",
    "\n",
    "#data = pd.read_csv('/content/drive/MyDrive/Education/PEH_Project_AIAA/data_files/train_data.csv',delimiter=\",\")\n",
    "data = data[['FT', 'T', 'CS', 'CO']]\n",
    "data1 = data.copy()\n",
    "data = data.dropna()\n",
    "data1 = data1.dropna()\n",
    "data.shape"
   ]
  },
  {
   "cell_type": "code",
   "execution_count": 4,
   "metadata": {},
   "outputs": [],
   "source": [
    "scaler_lat = MinMaxScaler()\n",
    "scaler_temp = MinMaxScaler()\n",
    "scaler_crack = MinMaxScaler()\n",
    "scaler_fs = MinMaxScaler()\n",
    "scaler_co = MinMaxScaler()\n",
    "data.FT = scaler_lat.fit_transform(data[['FT']])\n",
    "data.CO = scaler_co.fit_transform(data[['CO']])\n",
    "data.CS = scaler_crack.fit_transform(data[['CS']])\n",
    "#data.FS = scaler_fs.fit_transform(data[['FS']])\n",
    "data.T = scaler_temp.fit_transform(data[['T']])\n",
    "#test_data.LO = scaler_lat.transform(test_data[['LO']])\n",
    "#test_data.CS = scaler_crack.transform(test_data[['CS']])\n",
    "#test_data.FS = scaler_fs.transform(test_data[['FS']])\n",
    "#test_data.T = scaler_temp.transform(test_data[['T']])"
   ]
  },
  {
   "cell_type": "code",
   "execution_count": 5,
   "metadata": {},
   "outputs": [],
   "source": [
    "data.to_csv('new_data.csv')\n",
    "train, test = train_test_split(data, test_size=0.2, random_state = 1)\n",
    "train_or, test_or = train_test_split(data1, test_size=0.2, random_state = 1)"
   ]
  },
  {
   "cell_type": "code",
   "execution_count": 6,
   "metadata": {},
   "outputs": [
    {
     "data": {
      "text/html": [
       "<div>\n",
       "<style scoped>\n",
       "    .dataframe tbody tr th:only-of-type {\n",
       "        vertical-align: middle;\n",
       "    }\n",
       "\n",
       "    .dataframe tbody tr th {\n",
       "        vertical-align: top;\n",
       "    }\n",
       "\n",
       "    .dataframe thead th {\n",
       "        text-align: right;\n",
       "    }\n",
       "</style>\n",
       "<table border=\"1\" class=\"dataframe\">\n",
       "  <thead>\n",
       "    <tr style=\"text-align: right;\">\n",
       "      <th></th>\n",
       "      <th>FT</th>\n",
       "      <th>T</th>\n",
       "      <th>CS</th>\n",
       "      <th>CO</th>\n",
       "    </tr>\n",
       "  </thead>\n",
       "  <tbody>\n",
       "    <tr>\n",
       "      <th>189</th>\n",
       "      <td>0.107658</td>\n",
       "      <td>0.583333</td>\n",
       "      <td>0.50000</td>\n",
       "      <td>0.4</td>\n",
       "    </tr>\n",
       "    <tr>\n",
       "      <th>294</th>\n",
       "      <td>0.189787</td>\n",
       "      <td>0.166667</td>\n",
       "      <td>0.25000</td>\n",
       "      <td>0.6</td>\n",
       "    </tr>\n",
       "    <tr>\n",
       "      <th>185</th>\n",
       "      <td>0.130932</td>\n",
       "      <td>0.250000</td>\n",
       "      <td>0.50000</td>\n",
       "      <td>0.4</td>\n",
       "    </tr>\n",
       "    <tr>\n",
       "      <th>31</th>\n",
       "      <td>0.269044</td>\n",
       "      <td>0.416667</td>\n",
       "      <td>0.06250</td>\n",
       "      <td>0.0</td>\n",
       "    </tr>\n",
       "    <tr>\n",
       "      <th>260</th>\n",
       "      <td>0.364768</td>\n",
       "      <td>0.916667</td>\n",
       "      <td>0.03125</td>\n",
       "      <td>0.6</td>\n",
       "    </tr>\n",
       "  </tbody>\n",
       "</table>\n",
       "</div>"
      ],
      "text/plain": [
       "           FT         T       CS   CO\n",
       "189  0.107658  0.583333  0.50000  0.4\n",
       "294  0.189787  0.166667  0.25000  0.6\n",
       "185  0.130932  0.250000  0.50000  0.4\n",
       "31   0.269044  0.416667  0.06250  0.0\n",
       "260  0.364768  0.916667  0.03125  0.6"
      ]
     },
     "execution_count": 6,
     "metadata": {},
     "output_type": "execute_result"
    }
   ],
   "source": [
    "test.head()"
   ]
  },
  {
   "cell_type": "code",
   "execution_count": 7,
   "metadata": {},
   "outputs": [
    {
     "data": {
      "text/html": [
       "<div>\n",
       "<style scoped>\n",
       "    .dataframe tbody tr th:only-of-type {\n",
       "        vertical-align: middle;\n",
       "    }\n",
       "\n",
       "    .dataframe tbody tr th {\n",
       "        vertical-align: top;\n",
       "    }\n",
       "\n",
       "    .dataframe thead th {\n",
       "        text-align: right;\n",
       "    }\n",
       "</style>\n",
       "<table border=\"1\" class=\"dataframe\">\n",
       "  <thead>\n",
       "    <tr style=\"text-align: right;\">\n",
       "      <th></th>\n",
       "      <th>FT</th>\n",
       "      <th>T</th>\n",
       "      <th>CS</th>\n",
       "      <th>CO</th>\n",
       "    </tr>\n",
       "  </thead>\n",
       "  <tbody>\n",
       "    <tr>\n",
       "      <th>189</th>\n",
       "      <td>39.612</td>\n",
       "      <td>700</td>\n",
       "      <td>0.400</td>\n",
       "      <td>30</td>\n",
       "    </tr>\n",
       "    <tr>\n",
       "      <th>294</th>\n",
       "      <td>59.860</td>\n",
       "      <td>200</td>\n",
       "      <td>0.200</td>\n",
       "      <td>45</td>\n",
       "    </tr>\n",
       "    <tr>\n",
       "      <th>185</th>\n",
       "      <td>45.350</td>\n",
       "      <td>300</td>\n",
       "      <td>0.400</td>\n",
       "      <td>30</td>\n",
       "    </tr>\n",
       "    <tr>\n",
       "      <th>31</th>\n",
       "      <td>79.400</td>\n",
       "      <td>500</td>\n",
       "      <td>0.050</td>\n",
       "      <td>0</td>\n",
       "    </tr>\n",
       "    <tr>\n",
       "      <th>260</th>\n",
       "      <td>103.000</td>\n",
       "      <td>1100</td>\n",
       "      <td>0.025</td>\n",
       "      <td>45</td>\n",
       "    </tr>\n",
       "  </tbody>\n",
       "</table>\n",
       "</div>"
      ],
      "text/plain": [
       "          FT     T     CS  CO\n",
       "189   39.612   700  0.400  30\n",
       "294   59.860   200  0.200  45\n",
       "185   45.350   300  0.400  30\n",
       "31    79.400   500  0.050   0\n",
       "260  103.000  1100  0.025  45"
      ]
     },
     "execution_count": 7,
     "metadata": {},
     "output_type": "execute_result"
    }
   ],
   "source": [
    "test_or.head()"
   ]
  },
  {
   "cell_type": "code",
   "execution_count": 8,
   "metadata": {},
   "outputs": [],
   "source": [
    "test_x = test[['T', 'CS', 'CO']]\n",
    "test_y = test['FT']\n",
    "train_x = train[['T', 'CS', 'CO']]\n",
    "train_y = train['FT']"
   ]
  },
  {
   "cell_type": "code",
   "execution_count": 9,
   "metadata": {},
   "outputs": [
    {
     "data": {
      "text/html": [
       "<div>\n",
       "<style scoped>\n",
       "    .dataframe tbody tr th:only-of-type {\n",
       "        vertical-align: middle;\n",
       "    }\n",
       "\n",
       "    .dataframe tbody tr th {\n",
       "        vertical-align: top;\n",
       "    }\n",
       "\n",
       "    .dataframe thead th {\n",
       "        text-align: right;\n",
       "    }\n",
       "</style>\n",
       "<table border=\"1\" class=\"dataframe\">\n",
       "  <thead>\n",
       "    <tr style=\"text-align: right;\">\n",
       "      <th></th>\n",
       "      <th>T</th>\n",
       "      <th>CS</th>\n",
       "      <th>CO</th>\n",
       "    </tr>\n",
       "  </thead>\n",
       "  <tbody>\n",
       "    <tr>\n",
       "      <th>261</th>\n",
       "      <td>1.000000</td>\n",
       "      <td>0.03125</td>\n",
       "      <td>0.600000</td>\n",
       "    </tr>\n",
       "    <tr>\n",
       "      <th>463</th>\n",
       "      <td>0.000000</td>\n",
       "      <td>0.12500</td>\n",
       "      <td>0.733333</td>\n",
       "    </tr>\n",
       "    <tr>\n",
       "      <th>275</th>\n",
       "      <td>0.916667</td>\n",
       "      <td>0.06250</td>\n",
       "      <td>0.600000</td>\n",
       "    </tr>\n",
       "    <tr>\n",
       "      <th>80</th>\n",
       "      <td>0.166667</td>\n",
       "      <td>0.50000</td>\n",
       "      <td>0.000000</td>\n",
       "    </tr>\n",
       "    <tr>\n",
       "      <th>46</th>\n",
       "      <td>0.583333</td>\n",
       "      <td>0.12500</td>\n",
       "      <td>0.000000</td>\n",
       "    </tr>\n",
       "    <tr>\n",
       "      <th>214</th>\n",
       "      <td>0.500000</td>\n",
       "      <td>0.75000</td>\n",
       "      <td>0.400000</td>\n",
       "    </tr>\n",
       "    <tr>\n",
       "      <th>343</th>\n",
       "      <td>0.500000</td>\n",
       "      <td>0.62500</td>\n",
       "      <td>0.600000</td>\n",
       "    </tr>\n",
       "    <tr>\n",
       "      <th>85</th>\n",
       "      <td>0.583333</td>\n",
       "      <td>0.50000</td>\n",
       "      <td>0.000000</td>\n",
       "    </tr>\n",
       "    <tr>\n",
       "      <th>345</th>\n",
       "      <td>0.625000</td>\n",
       "      <td>0.62500</td>\n",
       "      <td>0.600000</td>\n",
       "    </tr>\n",
       "    <tr>\n",
       "      <th>81</th>\n",
       "      <td>0.250000</td>\n",
       "      <td>0.50000</td>\n",
       "      <td>0.000000</td>\n",
       "    </tr>\n",
       "  </tbody>\n",
       "</table>\n",
       "</div>"
      ],
      "text/plain": [
       "            T       CS        CO\n",
       "261  1.000000  0.03125  0.600000\n",
       "463  0.000000  0.12500  0.733333\n",
       "275  0.916667  0.06250  0.600000\n",
       "80   0.166667  0.50000  0.000000\n",
       "46   0.583333  0.12500  0.000000\n",
       "214  0.500000  0.75000  0.400000\n",
       "343  0.500000  0.62500  0.600000\n",
       "85   0.583333  0.50000  0.000000\n",
       "345  0.625000  0.62500  0.600000\n",
       "81   0.250000  0.50000  0.000000"
      ]
     },
     "execution_count": 9,
     "metadata": {},
     "output_type": "execute_result"
    }
   ],
   "source": [
    "train_x.head(10)"
   ]
  },
  {
   "cell_type": "code",
   "execution_count": 21,
   "metadata": {},
   "outputs": [],
   "source": [
    "model = Sequential([\n",
    "    Dense(units=8,activation='relu'),\n",
    "    Dense(units=32,activation='relu'),\n",
    "    Dense(units=64,activation='relu'),\n",
    "    Dense(units=128,activation='relu'),\n",
    "    Dense(units=64,activation='relu'),\n",
    "    Dense(units=32,activation='relu'),\n",
    "    Dense(units=1, activation = 'sigmoid'),\n",
    "    ])"
   ]
  },
  {
   "cell_type": "code",
   "execution_count": 22,
   "metadata": {},
   "outputs": [
    {
     "name": "stdout",
     "output_type": "stream",
     "text": [
      "Epoch 1/150\n",
      "179/179 [==============================] - 1s 2ms/step - loss: 0.2393 - mae: 0.2393 - mse: 0.0749\n",
      "Epoch 2/150\n",
      "179/179 [==============================] - 0s 2ms/step - loss: 0.0631 - mae: 0.0631 - mse: 0.0199\n",
      "Epoch 3/150\n",
      "179/179 [==============================] - 0s 2ms/step - loss: 0.0543 - mae: 0.0543 - mse: 0.0183\n",
      "Epoch 4/150\n",
      "179/179 [==============================] - 0s 2ms/step - loss: 0.0512 - mae: 0.0512 - mse: 0.0172\n",
      "Epoch 5/150\n",
      "179/179 [==============================] - 0s 2ms/step - loss: 0.0497 - mae: 0.0497 - mse: 0.0164\n",
      "Epoch 6/150\n",
      "179/179 [==============================] - 0s 1ms/step - loss: 0.0487 - mae: 0.0487 - mse: 0.0158\n",
      "Epoch 7/150\n",
      "179/179 [==============================] - 0s 1ms/step - loss: 0.0473 - mae: 0.0473 - mse: 0.0153\n",
      "Epoch 8/150\n",
      "179/179 [==============================] - 0s 2ms/step - loss: 0.0459 - mae: 0.0459 - mse: 0.0148\n",
      "Epoch 9/150\n",
      "179/179 [==============================] - 0s 1ms/step - loss: 0.0444 - mae: 0.0444 - mse: 0.0143\n",
      "Epoch 10/150\n",
      "179/179 [==============================] - 0s 2ms/step - loss: 0.0430 - mae: 0.0430 - mse: 0.0138\n",
      "Epoch 11/150\n",
      "179/179 [==============================] - 0s 2ms/step - loss: 0.0417 - mae: 0.0417 - mse: 0.0133\n",
      "Epoch 12/150\n",
      "179/179 [==============================] - 0s 1ms/step - loss: 0.0404 - mae: 0.0404 - mse: 0.0129\n",
      "Epoch 13/150\n",
      "179/179 [==============================] - 0s 2ms/step - loss: 0.0390 - mae: 0.0390 - mse: 0.0126\n",
      "Epoch 14/150\n",
      "179/179 [==============================] - 0s 2ms/step - loss: 0.0375 - mae: 0.0375 - mse: 0.0124\n",
      "Epoch 15/150\n",
      "179/179 [==============================] - 0s 1ms/step - loss: 0.0366 - mae: 0.0366 - mse: 0.0120\n",
      "Epoch 16/150\n",
      "179/179 [==============================] - 0s 2ms/step - loss: 0.0354 - mae: 0.0354 - mse: 0.0116\n",
      "Epoch 17/150\n",
      "179/179 [==============================] - 0s 2ms/step - loss: 0.0340 - mae: 0.0340 - mse: 0.0110\n",
      "Epoch 18/150\n",
      "179/179 [==============================] - 0s 1ms/step - loss: 0.0327 - mae: 0.0327 - mse: 0.0106\n",
      "Epoch 19/150\n",
      "179/179 [==============================] - 0s 1ms/step - loss: 0.0313 - mae: 0.0313 - mse: 0.0100\n",
      "Epoch 20/150\n",
      "179/179 [==============================] - 0s 2ms/step - loss: 0.0303 - mae: 0.0303 - mse: 0.0097\n",
      "Epoch 21/150\n",
      "179/179 [==============================] - 0s 1ms/step - loss: 0.0295 - mae: 0.0295 - mse: 0.0093\n",
      "Epoch 22/150\n",
      "179/179 [==============================] - 0s 2ms/step - loss: 0.0281 - mae: 0.0281 - mse: 0.0087\n",
      "Epoch 23/150\n",
      "179/179 [==============================] - 0s 1ms/step - loss: 0.0270 - mae: 0.0270 - mse: 0.0085\n",
      "Epoch 24/150\n",
      "179/179 [==============================] - 0s 1ms/step - loss: 0.0265 - mae: 0.0265 - mse: 0.0081\n",
      "Epoch 25/150\n",
      "179/179 [==============================] - 0s 1ms/step - loss: 0.0259 - mae: 0.0259 - mse: 0.0080\n",
      "Epoch 26/150\n",
      "179/179 [==============================] - 0s 1ms/step - loss: 0.0252 - mae: 0.0252 - mse: 0.0077\n",
      "Epoch 27/150\n",
      "179/179 [==============================] - 0s 1ms/step - loss: 0.0247 - mae: 0.0247 - mse: 0.0076\n",
      "Epoch 28/150\n",
      "179/179 [==============================] - 0s 1ms/step - loss: 0.0247 - mae: 0.0247 - mse: 0.0076\n",
      "Epoch 29/150\n",
      "179/179 [==============================] - 0s 1ms/step - loss: 0.0237 - mae: 0.0237 - mse: 0.0074 ETA: 0s - loss: 0.0208 - mae: 0.0208 - mse: 0.00\n",
      "Epoch 30/150\n",
      "179/179 [==============================] - 0s 1ms/step - loss: 0.0235 - mae: 0.0235 - mse: 0.0074\n",
      "Epoch 31/150\n",
      "179/179 [==============================] - 0s 1ms/step - loss: 0.0232 - mae: 0.0232 - mse: 0.0071\n",
      "Epoch 32/150\n",
      "179/179 [==============================] - 0s 2ms/step - loss: 0.0229 - mae: 0.0229 - mse: 0.0070A: 0s - loss: 0.0241 - mae: 0.0241 - mse: 0.007\n",
      "Epoch 33/150\n",
      "179/179 [==============================] - 0s 2ms/step - loss: 0.0228 - mae: 0.0228 - mse: 0.0067\n",
      "Epoch 34/150\n",
      "179/179 [==============================] - ETA: 0s - loss: 0.0239 - mae: 0.0239 - mse: 0.007 - 0s 2ms/step - loss: 0.0225 - mae: 0.0225 - mse: 0.0069\n",
      "Epoch 35/150\n",
      "179/179 [==============================] - 0s 2ms/step - loss: 0.0227 - mae: 0.0227 - mse: 0.0065\n",
      "Epoch 36/150\n",
      "179/179 [==============================] - 0s 2ms/step - loss: 0.0216 - mae: 0.0216 - mse: 0.0063\n",
      "Epoch 37/150\n",
      "179/179 [==============================] - 0s 1ms/step - loss: 0.0223 - mae: 0.0223 - mse: 0.0065\n",
      "Epoch 38/150\n",
      "179/179 [==============================] - 0s 1ms/step - loss: 0.0219 - mae: 0.0219 - mse: 0.0060\n",
      "Epoch 39/150\n",
      "179/179 [==============================] - 0s 2ms/step - loss: 0.0214 - mae: 0.0214 - mse: 0.0062\n",
      "Epoch 40/150\n",
      "179/179 [==============================] - 0s 1ms/step - loss: 0.0210 - mae: 0.0210 - mse: 0.0061\n",
      "Epoch 41/150\n",
      "179/179 [==============================] - 0s 1ms/step - loss: 0.0214 - mae: 0.0214 - mse: 0.0062\n",
      "Epoch 42/150\n",
      "179/179 [==============================] - 0s 2ms/step - loss: 0.0207 - mae: 0.0207 - mse: 0.0059\n",
      "Epoch 43/150\n",
      "179/179 [==============================] - 0s 1ms/step - loss: 0.0210 - mae: 0.0210 - mse: 0.0060\n",
      "Epoch 44/150\n",
      "179/179 [==============================] - 0s 1ms/step - loss: 0.0207 - mae: 0.0207 - mse: 0.0057\n",
      "Epoch 45/150\n",
      "179/179 [==============================] - 0s 1ms/step - loss: 0.0207 - mae: 0.0207 - mse: 0.0056\n",
      "Epoch 46/150\n",
      "179/179 [==============================] - 0s 1ms/step - loss: 0.0214 - mae: 0.0214 - mse: 0.0056\n",
      "Epoch 47/150\n",
      "179/179 [==============================] - 0s 1ms/step - loss: 0.0205 - mae: 0.0205 - mse: 0.0055\n",
      "Epoch 48/150\n",
      "179/179 [==============================] - 0s 1ms/step - loss: 0.0202 - mae: 0.0202 - mse: 0.0055\n",
      "Epoch 49/150\n",
      "179/179 [==============================] - 0s 1ms/step - loss: 0.0207 - mae: 0.0207 - mse: 0.0056\n",
      "Epoch 50/150\n",
      "179/179 [==============================] - 0s 2ms/step - loss: 0.0200 - mae: 0.0200 - mse: 0.0054\n",
      "Epoch 51/150\n",
      "179/179 [==============================] - 0s 1ms/step - loss: 0.0212 - mae: 0.0212 - mse: 0.0056\n",
      "Epoch 52/150\n",
      "179/179 [==============================] - 0s 2ms/step - loss: 0.0203 - mae: 0.0203 - mse: 0.0053\n",
      "Epoch 53/150\n",
      "179/179 [==============================] - 0s 1ms/step - loss: 0.0204 - mae: 0.0204 - mse: 0.0055\n",
      "Epoch 54/150\n",
      "179/179 [==============================] - 0s 1ms/step - loss: 0.0199 - mae: 0.0199 - mse: 0.0054\n",
      "Epoch 55/150\n",
      "179/179 [==============================] - 0s 2ms/step - loss: 0.0200 - mae: 0.0200 - mse: 0.0052\n",
      "Epoch 56/150\n",
      "179/179 [==============================] - 0s 2ms/step - loss: 0.0198 - mae: 0.0198 - mse: 0.0051\n",
      "Epoch 57/150\n",
      "179/179 [==============================] - 0s 2ms/step - loss: 0.0195 - mae: 0.0195 - mse: 0.0050\n",
      "Epoch 58/150\n",
      "179/179 [==============================] - 0s 1ms/step - loss: 0.0197 - mae: 0.0197 - mse: 0.0052\n",
      "Epoch 59/150\n",
      "179/179 [==============================] - 0s 1ms/step - loss: 0.0188 - mae: 0.0188 - mse: 0.0049\n",
      "Epoch 60/150\n",
      "179/179 [==============================] - 0s 2ms/step - loss: 0.0184 - mae: 0.0184 - mse: 0.0047\n",
      "Epoch 61/150\n",
      "179/179 [==============================] - 0s 2ms/step - loss: 0.0188 - mae: 0.0188 - mse: 0.0048\n",
      "Epoch 62/150\n",
      "179/179 [==============================] - 0s 1ms/step - loss: 0.0186 - mae: 0.0186 - mse: 0.0045\n",
      "Epoch 63/150\n",
      "179/179 [==============================] - 0s 2ms/step - loss: 0.0191 - mae: 0.0191 - mse: 0.0046\n",
      "Epoch 64/150\n",
      "179/179 [==============================] - 0s 2ms/step - loss: 0.0192 - mae: 0.0192 - mse: 0.0046\n",
      "Epoch 65/150\n",
      "179/179 [==============================] - 0s 1ms/step - loss: 0.0190 - mae: 0.0190 - mse: 0.0047\n",
      "Epoch 66/150\n",
      "179/179 [==============================] - 0s 1ms/step - loss: 0.0184 - mae: 0.0184 - mse: 0.0044\n",
      "Epoch 67/150\n",
      "179/179 [==============================] - 0s 2ms/step - loss: 0.0180 - mae: 0.0180 - mse: 0.0043\n",
      "Epoch 68/150\n",
      "179/179 [==============================] - 0s 1ms/step - loss: 0.0181 - mae: 0.0181 - mse: 0.0041\n",
      "Epoch 69/150\n",
      "179/179 [==============================] - 0s 2ms/step - loss: 0.0189 - mae: 0.0189 - mse: 0.0043\n",
      "Epoch 70/150\n",
      "179/179 [==============================] - 0s 2ms/step - loss: 0.0184 - mae: 0.0184 - mse: 0.0043\n",
      "Epoch 71/150\n",
      "179/179 [==============================] - 0s 2ms/step - loss: 0.0183 - mae: 0.0183 - mse: 0.0040\n",
      "Epoch 72/150\n",
      "179/179 [==============================] - 0s 2ms/step - loss: 0.0181 - mae: 0.0181 - mse: 0.0040\n",
      "Epoch 73/150\n",
      "179/179 [==============================] - 0s 2ms/step - loss: 0.0178 - mae: 0.0178 - mse: 0.0038\n",
      "Epoch 74/150\n",
      "179/179 [==============================] - 0s 1ms/step - loss: 0.0180 - mae: 0.0180 - mse: 0.0038\n",
      "Epoch 75/150\n",
      "179/179 [==============================] - 0s 1ms/step - loss: 0.0182 - mae: 0.0182 - mse: 0.0038\n",
      "Epoch 76/150\n",
      "179/179 [==============================] - 0s 2ms/step - loss: 0.0171 - mae: 0.0171 - mse: 0.0036\n",
      "Epoch 77/150\n",
      "179/179 [==============================] - 0s 1ms/step - loss: 0.0168 - mae: 0.0168 - mse: 0.0035\n",
      "Epoch 78/150\n",
      "179/179 [==============================] - 0s 2ms/step - loss: 0.0171 - mae: 0.0171 - mse: 0.0035\n",
      "Epoch 79/150\n",
      "179/179 [==============================] - 0s 2ms/step - loss: 0.0171 - mae: 0.0171 - mse: 0.0037\n",
      "Epoch 80/150\n",
      "179/179 [==============================] - 0s 1ms/step - loss: 0.0174 - mae: 0.0174 - mse: 0.0035\n",
      "Epoch 81/150\n",
      "179/179 [==============================] - 0s 2ms/step - loss: 0.0174 - mae: 0.0174 - mse: 0.0035   \n",
      "Epoch 82/150\n",
      "179/179 [==============================] - 0s 2ms/step - loss: 0.0170 - mae: 0.0170 - mse: 0.0034\n",
      "Epoch 83/150\n",
      "179/179 [==============================] - 0s 1ms/step - loss: 0.0161 - mae: 0.0161 - mse: 0.0031\n",
      "Epoch 84/150\n",
      "179/179 [==============================] - 0s 2ms/step - loss: 0.0168 - mae: 0.0168 - mse: 0.0032\n",
      "Epoch 85/150\n",
      "179/179 [==============================] - 0s 2ms/step - loss: 0.0158 - mae: 0.0158 - mse: 0.0029\n",
      "Epoch 86/150\n",
      "179/179 [==============================] - 0s 1ms/step - loss: 0.0164 - mae: 0.0164 - mse: 0.0031\n",
      "Epoch 87/150\n",
      "179/179 [==============================] - 0s 2ms/step - loss: 0.0151 - mae: 0.0151 - mse: 0.0028\n",
      "Epoch 88/150\n",
      "179/179 [==============================] - 0s 2ms/step - loss: 0.0162 - mae: 0.0162 - mse: 0.0029\n",
      "Epoch 89/150\n",
      "179/179 [==============================] - 0s 2ms/step - loss: 0.0154 - mae: 0.0154 - mse: 0.0028\n",
      "Epoch 90/150\n",
      "179/179 [==============================] - 0s 2ms/step - loss: 0.0149 - mae: 0.0149 - mse: 0.0026\n",
      "Epoch 91/150\n",
      "179/179 [==============================] - 0s 2ms/step - loss: 0.0154 - mae: 0.0154 - mse: 0.0027\n",
      "Epoch 92/150\n",
      "179/179 [==============================] - 0s 2ms/step - loss: 0.0153 - mae: 0.0153 - mse: 0.0025\n",
      "Epoch 93/150\n",
      "179/179 [==============================] - 0s 2ms/step - loss: 0.0154 - mae: 0.0154 - mse: 0.0025\n",
      "Epoch 94/150\n",
      "179/179 [==============================] - 0s 2ms/step - loss: 0.0156 - mae: 0.0156 - mse: 0.0024\n",
      "Epoch 95/150\n",
      "179/179 [==============================] - 0s 2ms/step - loss: 0.0150 - mae: 0.0150 - mse: 0.0024\n",
      "Epoch 96/150\n",
      "179/179 [==============================] - 0s 3ms/step - loss: 0.0150 - mae: 0.0150 - mse: 0.0023\n",
      "Epoch 97/150\n",
      "179/179 [==============================] - 0s 2ms/step - loss: 0.0146 - mae: 0.0146 - mse: 0.0022\n",
      "Epoch 98/150\n",
      "179/179 [==============================] - 0s 2ms/step - loss: 0.0140 - mae: 0.0140 - mse: 0.0021\n",
      "Epoch 99/150\n",
      "179/179 [==============================] - 0s 1ms/step - loss: 0.0134 - mae: 0.0134 - mse: 0.0018- ETA: 0s - loss: 0.0113 - mae: 0.0113 - mse: 9.2905e\n",
      "Epoch 100/150\n",
      "179/179 [==============================] - 0s 2ms/step - loss: 0.0140 - mae: 0.0140 - mse: 0.0020\n",
      "Epoch 101/150\n",
      "179/179 [==============================] - 0s 2ms/step - loss: 0.0136 - mae: 0.0136 - mse: 0.0018\n",
      "Epoch 102/150\n",
      "179/179 [==============================] - 0s 1ms/step - loss: 0.0135 - mae: 0.0135 - mse: 0.0018\n",
      "Epoch 103/150\n",
      "179/179 [==============================] - 0s 1ms/step - loss: 0.0137 - mae: 0.0137 - mse: 0.0018\n",
      "Epoch 104/150\n",
      "179/179 [==============================] - 0s 1ms/step - loss: 0.0134 - mae: 0.0134 - mse: 0.0016\n",
      "Epoch 105/150\n",
      "179/179 [==============================] - 0s 2ms/step - loss: 0.0137 - mae: 0.0137 - mse: 0.0018\n",
      "Epoch 106/150\n",
      "179/179 [==============================] - 0s 1ms/step - loss: 0.0130 - mae: 0.0130 - mse: 0.0015\n",
      "Epoch 107/150\n",
      "179/179 [==============================] - 0s 1ms/step - loss: 0.0123 - mae: 0.0123 - mse: 0.0013\n",
      "Epoch 108/150\n",
      "179/179 [==============================] - 0s 2ms/step - loss: 0.0129 - mae: 0.0129 - mse: 0.0014\n",
      "Epoch 109/150\n",
      "179/179 [==============================] - 0s 2ms/step - loss: 0.0127 - mae: 0.0127 - mse: 0.0014\n",
      "Epoch 110/150\n",
      "179/179 [==============================] - 0s 1ms/step - loss: 0.0123 - mae: 0.0123 - mse: 0.0013\n",
      "Epoch 111/150\n",
      "179/179 [==============================] - 0s 2ms/step - loss: 0.0121 - mae: 0.0121 - mse: 0.0012\n",
      "Epoch 112/150\n",
      "179/179 [==============================] - 0s 2ms/step - loss: 0.0117 - mae: 0.0117 - mse: 0.0011\n",
      "Epoch 113/150\n",
      "179/179 [==============================] - 0s 2ms/step - loss: 0.0116 - mae: 0.0116 - mse: 0.0011\n",
      "Epoch 114/150\n",
      "179/179 [==============================] - 0s 1ms/step - loss: 0.0119 - mae: 0.0119 - mse: 0.0011\n",
      "Epoch 115/150\n",
      "179/179 [==============================] - 0s 1ms/step - loss: 0.0121 - mae: 0.0121 - mse: 0.0010\n",
      "Epoch 116/150\n",
      "179/179 [==============================] - 0s 1ms/step - loss: 0.0114 - mae: 0.0114 - mse: 8.9226e-04\n",
      "Epoch 117/150\n",
      "179/179 [==============================] - 0s 1ms/step - loss: 0.0111 - mae: 0.0111 - mse: 8.6906e-04A: 0s - loss: 0.0112 - mae: 0.0112 - mse: 8.7847e-0\n",
      "Epoch 118/150\n",
      "179/179 [==============================] - 0s 1ms/step - loss: 0.0113 - mae: 0.0113 - mse: 8.2402e-04A: 0s - loss: 0.0109 - mae: 0.0109 - mse: 7.4808e-\n",
      "Epoch 119/150\n",
      "179/179 [==============================] - 0s 1ms/step - loss: 0.0124 - mae: 0.0124 - mse: 0.0011\n",
      "Epoch 120/150\n",
      "179/179 [==============================] - 0s 1ms/step - loss: 0.0110 - mae: 0.0110 - mse: 7.7069e-04\n",
      "Epoch 121/150\n",
      "179/179 [==============================] - 0s 1ms/step - loss: 0.0114 - mae: 0.0114 - mse: 9.3400e-04\n",
      "Epoch 122/150\n",
      "179/179 [==============================] - 0s 2ms/step - loss: 0.0111 - mae: 0.0111 - mse: 8.6408e-04\n",
      "Epoch 123/150\n",
      "179/179 [==============================] - 0s 2ms/step - loss: 0.0104 - mae: 0.0104 - mse: 6.1509e-04\n",
      "Epoch 124/150\n",
      "179/179 [==============================] - 0s 2ms/step - loss: 0.0110 - mae: 0.0110 - mse: 7.9337e-04\n",
      "Epoch 125/150\n",
      "179/179 [==============================] - 0s 2ms/step - loss: 0.0107 - mae: 0.0107 - mse: 7.4156e-04\n",
      "Epoch 126/150\n",
      "179/179 [==============================] - 0s 2ms/step - loss: 0.0102 - mae: 0.0102 - mse: 5.6619e-04\n",
      "Epoch 127/150\n",
      "179/179 [==============================] - 0s 2ms/step - loss: 0.0106 - mae: 0.0106 - mse: 7.5238e-04\n",
      "Epoch 128/150\n",
      "179/179 [==============================] - 0s 1ms/step - loss: 0.0102 - mae: 0.0102 - mse: 6.2020e-04\n",
      "Epoch 129/150\n",
      "179/179 [==============================] - 0s 1ms/step - loss: 0.0094 - mae: 0.0094 - mse: 4.2512e-04\n",
      "Epoch 130/150\n",
      "179/179 [==============================] - 0s 1ms/step - loss: 0.0108 - mae: 0.0108 - mse: 7.9015e-04\n",
      "Epoch 131/150\n",
      "179/179 [==============================] - 0s 1ms/step - loss: 0.0097 - mae: 0.0097 - mse: 4.4826e-04\n",
      "Epoch 132/150\n",
      "179/179 [==============================] - 0s 2ms/step - loss: 0.0096 - mae: 0.0096 - mse: 4.6213e-04\n",
      "Epoch 133/150\n",
      "179/179 [==============================] - 0s 2ms/step - loss: 0.0095 - mae: 0.0095 - mse: 3.9549e-04\n",
      "Epoch 134/150\n",
      "179/179 [==============================] - 0s 2ms/step - loss: 0.0101 - mae: 0.0101 - mse: 6.5757e-04\n",
      "Epoch 135/150\n",
      "179/179 [==============================] - 0s 2ms/step - loss: 0.0091 - mae: 0.0091 - mse: 4.2366e-04\n",
      "Epoch 136/150\n",
      "179/179 [==============================] - 0s 2ms/step - loss: 0.0093 - mae: 0.0093 - mse: 4.2850e-04\n",
      "Epoch 137/150\n",
      "179/179 [==============================] - 0s 2ms/step - loss: 0.0096 - mae: 0.0096 - mse: 4.8032e-04\n",
      "Epoch 138/150\n",
      "179/179 [==============================] - 0s 2ms/step - loss: 0.0092 - mae: 0.0092 - mse: 4.4765e-04\n",
      "Epoch 139/150\n",
      "179/179 [==============================] - 0s 2ms/step - loss: 0.0092 - mae: 0.0092 - mse: 3.9878e-04\n",
      "Epoch 140/150\n",
      "179/179 [==============================] - 0s 2ms/step - loss: 0.0092 - mae: 0.0092 - mse: 3.8401e-04\n",
      "Epoch 141/150\n",
      "179/179 [==============================] - 0s 2ms/step - loss: 0.0087 - mae: 0.0087 - mse: 2.9889e-04\n",
      "Epoch 142/150\n",
      "179/179 [==============================] - 0s 2ms/step - loss: 0.0093 - mae: 0.0093 - mse: 5.1763e-04\n",
      "Epoch 143/150\n",
      "179/179 [==============================] - 0s 2ms/step - loss: 0.0088 - mae: 0.0088 - mse: 3.8116e-04\n",
      "Epoch 144/150\n"
     ]
    },
    {
     "name": "stdout",
     "output_type": "stream",
     "text": [
      "179/179 [==============================] - 0s 2ms/step - loss: 0.0090 - mae: 0.0090 - mse: 3.9094e-04\n",
      "Epoch 145/150\n",
      "179/179 [==============================] - 0s 2ms/step - loss: 0.0092 - mae: 0.0092 - mse: 4.5727e-04\n",
      "Epoch 146/150\n",
      "179/179 [==============================] - 0s 2ms/step - loss: 0.0086 - mae: 0.0086 - mse: 3.7040e-04\n",
      "Epoch 147/150\n",
      "179/179 [==============================] - 0s 2ms/step - loss: 0.0081 - mae: 0.0081 - mse: 2.8122e-04\n",
      "Epoch 148/150\n",
      "179/179 [==============================] - 0s 2ms/step - loss: 0.0086 - mae: 0.0086 - mse: 3.3032e-04\n",
      "Epoch 149/150\n",
      "179/179 [==============================] - 0s 2ms/step - loss: 0.0089 - mae: 0.0089 - mse: 3.8429e-04\n",
      "Epoch 150/150\n",
      "179/179 [==============================] - 0s 2ms/step - loss: 0.0088 - mae: 0.0088 - mse: 4.0463e-04\n"
     ]
    }
   ],
   "source": [
    "model.compile(optimizer=Adam(learning_rate=0.0001), loss='mean_absolute_error', metrics = ['mae', 'mse'])\n",
    "history = model.fit(train_x,train_y,epochs=150,batch_size= 2, verbose = 1, shuffle = False)\n",
    "y_pred = model.predict(test_x)"
   ]
  },
  {
   "cell_type": "code",
   "execution_count": 23,
   "metadata": {},
   "outputs": [
    {
     "name": "stdout",
     "output_type": "stream",
     "text": [
      "150\n"
     ]
    },
    {
     "data": {
      "image/png": "[encoded data removed]",
      "text/plain": [
       "<Figure size 432x288 with 1 Axes>"
      ]
     },
     "metadata": {
      "needs_background": "light"
     },
     "output_type": "display_data"
    }
   ],
   "source": [
    "loss_train = history.history['loss']\n",
    "loss_val = history.history['mse']\n",
    "epochs = range(1,151)\n",
    "print(len(epochs))\n",
    "plt.plot(epochs, loss_train, 'g', label='Training loss')\n",
    "plt.plot(epochs, loss_val, 'b', label='validation loss')\n",
    "plt.title('Training and Validation loss')\n",
    "plt.xlabel('Epochs')\n",
    "plt.ylabel('Loss')\n",
    "plt.legend()\n",
    "plt.show()"
   ]
  },
  {
   "cell_type": "code",
   "execution_count": 24,
   "metadata": {},
   "outputs": [
    {
     "name": "stdout",
     "output_type": "stream",
     "text": [
      "0.008417648291457368 0.99026628339425\n"
     ]
    }
   ],
   "source": [
    "print(mean_absolute_error(y_pred, test_y), r2_score(y_pred, test_y))"
   ]
  },
  {
   "cell_type": "code",
   "execution_count": 25,
   "metadata": {},
   "outputs": [
    {
     "name": "stdout",
     "output_type": "stream",
     "text": [
      "23/23 [==============================] - 0s 1ms/step - loss: 0.0084 - mae: 0.0084 - mse: 2.7420e-04\n"
     ]
    },
    {
     "data": {
      "text/plain": [
       "[0.008417649194598198, 0.008417649194598198, 0.00027419516118243337]"
      ]
     },
     "execution_count": 25,
     "metadata": {},
     "output_type": "execute_result"
    }
   ],
   "source": [
    "model.evaluate(test_x, test_y, batch_size = 4)"
   ]
  },
  {
   "cell_type": "code",
   "execution_count": 26,
   "metadata": {},
   "outputs": [
    {
     "name": "stdout",
     "output_type": "stream",
     "text": [
      "2.0752867810397686 0.9902662815883576\n"
     ]
    }
   ],
   "source": [
    "test_y_np = np.array(test_y)\n",
    "test_y_np = test_y_np.reshape(-1,1)\n",
    "y_pred_in = scaler_lat.inverse_transform(y_pred)\n",
    "y_test_in = scaler_lat.inverse_transform(test_y_np)\n",
    "print(mean_absolute_error(y_pred_in, y_test_in), r2_score(y_pred_in, y_test_in))"
   ]
  },
  {
   "cell_type": "code",
   "execution_count": 28,
   "metadata": {},
   "outputs": [
    {
     "data": {
      "text/plain": [
       "3.747697126643352"
      ]
     },
     "execution_count": 28,
     "metadata": {},
     "output_type": "execute_result"
    }
   ],
   "source": [
    "from sklearn.metrics import mean_absolute_percentage_error\n",
    "mean_absolute_percentage_error(y_test_in, y_pred_in)*100"
   ]
  },
  {
   "cell_type": "code",
   "execution_count": 19,
   "metadata": {},
   "outputs": [
    {
     "name": "stderr",
     "output_type": "stream",
     "text": [
      "D:\\ananconda3\\lib\\site-packages\\scikeras\\wrappers.py:289: UserWarning: ``build_fn`` will be renamed to ``model`` in a future release, at which point use of ``build_fn`` will raise an Error instead.\n",
      "  warnings.warn(\n",
      "D:\\ananconda3\\lib\\site-packages\\scikeras\\wrappers.py:289: UserWarning: ``build_fn`` will be renamed to ``model`` in a future release, at which point use of ``build_fn`` will raise an Error instead.\n",
      "  warnings.warn(\n",
      "D:\\ananconda3\\lib\\site-packages\\scikeras\\wrappers.py:289: UserWarning: ``build_fn`` will be renamed to ``model`` in a future release, at which point use of ``build_fn`` will raise an Error instead.\n",
      "  warnings.warn(\n",
      "D:\\ananconda3\\lib\\site-packages\\scikeras\\wrappers.py:289: UserWarning: ``build_fn`` will be renamed to ``model`` in a future release, at which point use of ``build_fn`` will raise an Error instead.\n",
      "  warnings.warn(\n",
      "D:\\ananconda3\\lib\\site-packages\\scikeras\\wrappers.py:289: UserWarning: ``build_fn`` will be renamed to ``model`` in a future release, at which point use of ``build_fn`` will raise an Error instead.\n",
      "  warnings.warn(\n",
      "D:\\ananconda3\\lib\\site-packages\\scikeras\\wrappers.py:289: UserWarning: ``build_fn`` will be renamed to ``model`` in a future release, at which point use of ``build_fn`` will raise an Error instead.\n",
      "  warnings.warn(\n",
      "D:\\ananconda3\\lib\\site-packages\\scikeras\\wrappers.py:289: UserWarning: ``build_fn`` will be renamed to ``model`` in a future release, at which point use of ``build_fn`` will raise an Error instead.\n",
      "  warnings.warn(\n",
      "D:\\ananconda3\\lib\\site-packages\\scikeras\\wrappers.py:289: UserWarning: ``build_fn`` will be renamed to ``model`` in a future release, at which point use of ``build_fn`` will raise an Error instead.\n",
      "  warnings.warn(\n",
      "D:\\ananconda3\\lib\\site-packages\\scikeras\\wrappers.py:289: UserWarning: ``build_fn`` will be renamed to ``model`` in a future release, at which point use of ``build_fn`` will raise an Error instead.\n",
      "  warnings.warn(\n",
      "D:\\ananconda3\\lib\\site-packages\\scikeras\\wrappers.py:289: UserWarning: ``build_fn`` will be renamed to ``model`` in a future release, at which point use of ``build_fn`` will raise an Error instead.\n",
      "  warnings.warn(\n"
     ]
    },
    {
     "name": "stdout",
     "output_type": "stream",
     "text": [
      "Baseline: 0.77 (0.13) MSE\n"
     ]
    }
   ],
   "source": [
    "import scikeras\n",
    "from scikeras.wrappers import KerasRegressor\n",
    "from sklearn.model_selection import KFold\n",
    "from sklearn.model_selection import cross_val_score\n",
    "# define base model\n",
    "def baseline_model():\n",
    "    # create model\n",
    "    model = Sequential()\n",
    "    model.add(Dense(8, input_dim=3, kernel_initializer='normal', activation='relu'))\n",
    "    model.add(Dense(32, kernel_initializer='normal', activation='relu'))\n",
    "    model.add(Dense(64,  kernel_initializer='normal', activation='relu'))\n",
    "    model.add(Dense(128,  kernel_initializer='normal', activation='relu'))\n",
    "    model.add(Dense(64,  kernel_initializer='normal', activation='relu'))\n",
    "    model.add(Dense(32, kernel_initializer='normal', activation='relu'))\n",
    "    model.add(Dense(1, kernel_initializer='normal'))\n",
    "    # Compile model\n",
    "    model.compile(loss='mean_absolute_error', optimizer=Adam(learning_rate=0.0001), metrics = ['mae', 'mse'])\n",
    "    return model\n",
    "\n",
    "\n",
    "estimator = KerasRegressor(build_fn=baseline_model, epochs=100, batch_size=2, verbose=0)\n",
    "kfold = KFold(n_splits=10)\n",
    "results = cross_val_score(estimator,X= train_x, y = train_y, cv=kfold)\n",
    "print(\"Baseline: %.2f (%.2f) MSE\" % (results.mean(), results.std()))"
   ]
  },
  {
   "cell_type": "code",
   "execution_count": 20,
   "metadata": {},
   "outputs": [
    {
     "data": {
      "text/plain": [
       "array([0.60593947, 0.9066945 , 0.75079788, 0.97744708, 0.71650072,\n",
       "       0.97953158, 0.6297765 , 0.74914821, 0.69842834, 0.72872953])"
      ]
     },
     "execution_count": 20,
     "metadata": {},
     "output_type": "execute_result"
    }
   ],
   "source": [
    "results"
   ]
  },
  {
   "cell_type": "code",
   "execution_count": 35,
   "metadata": {},
   "outputs": [
    {
     "name": "stdout",
     "output_type": "stream",
     "text": [
      "Epoch 1/200\n"
     ]
    },
    {
     "ename": "ValueError",
     "evalue": "in user code:\n\n    File \"D:\\ananconda3\\lib\\site-packages\\keras\\engine\\training.py\", line 878, in train_function  *\n        return step_function(self, iterator)\n    File \"D:\\ananconda3\\lib\\site-packages\\keras\\engine\\training.py\", line 867, in step_function  **\n        outputs = model.distribute_strategy.run(run_step, args=(data,))\n    File \"D:\\ananconda3\\lib\\site-packages\\keras\\engine\\training.py\", line 860, in run_step  **\n        outputs = model.train_step(data)\n    File \"D:\\ananconda3\\lib\\site-packages\\keras\\engine\\training.py\", line 808, in train_step\n        y_pred = self(x, training=True)\n    File \"D:\\ananconda3\\lib\\site-packages\\keras\\utils\\traceback_utils.py\", line 67, in error_handler\n        raise e.with_traceback(filtered_tb) from None\n    File \"D:\\ananconda3\\lib\\site-packages\\keras\\engine\\input_spec.py\", line 263, in assert_input_compatibility\n        raise ValueError(f'Input {input_index} of layer \"{layer_name}\" is '\n\n    ValueError: Input 0 of layer \"sequential_35\" is incompatible with the layer: expected shape=(None, 4), found shape=(1, 3)\n",
     "output_type": "error",
     "traceback": [
      "\u001b[1;31m---------------------------------------------------------------------------\u001b[0m",
      "\u001b[1;31mValueError\u001b[0m                                Traceback (most recent call last)",
      "\u001b[1;32m~\\AppData\\Local\\Temp/ipykernel_16524/2149601274.py\u001b[0m in \u001b[0;36m<module>\u001b[1;34m\u001b[0m\n\u001b[0;32m      1\u001b[0m \u001b[0mmodel\u001b[0m \u001b[1;33m=\u001b[0m \u001b[0mbaseline_model\u001b[0m\u001b[1;33m(\u001b[0m\u001b[1;33m)\u001b[0m\u001b[1;33m\u001b[0m\u001b[1;33m\u001b[0m\u001b[0m\n\u001b[1;32m----> 2\u001b[1;33m \u001b[0mhistory\u001b[0m \u001b[1;33m=\u001b[0m \u001b[0mmodel\u001b[0m\u001b[1;33m.\u001b[0m\u001b[0mfit\u001b[0m\u001b[1;33m(\u001b[0m\u001b[0mtrain_x\u001b[0m\u001b[1;33m,\u001b[0m\u001b[0mtrain_y\u001b[0m\u001b[1;33m,\u001b[0m\u001b[0mepochs\u001b[0m\u001b[1;33m=\u001b[0m\u001b[1;36m200\u001b[0m\u001b[1;33m,\u001b[0m\u001b[0mbatch_size\u001b[0m\u001b[1;33m=\u001b[0m \u001b[1;36m1\u001b[0m\u001b[1;33m,\u001b[0m \u001b[0mverbose\u001b[0m \u001b[1;33m=\u001b[0m \u001b[1;36m1\u001b[0m\u001b[1;33m,\u001b[0m \u001b[0mshuffle\u001b[0m \u001b[1;33m=\u001b[0m \u001b[1;32mTrue\u001b[0m\u001b[1;33m)\u001b[0m\u001b[1;33m\u001b[0m\u001b[1;33m\u001b[0m\u001b[0m\n\u001b[0m",
      "\u001b[1;32mD:\\ananconda3\\lib\\site-packages\\keras\\utils\\traceback_utils.py\u001b[0m in \u001b[0;36merror_handler\u001b[1;34m(*args, **kwargs)\u001b[0m\n\u001b[0;32m     65\u001b[0m     \u001b[1;32mexcept\u001b[0m \u001b[0mException\u001b[0m \u001b[1;32mas\u001b[0m \u001b[0me\u001b[0m\u001b[1;33m:\u001b[0m  \u001b[1;31m# pylint: disable=broad-except\u001b[0m\u001b[1;33m\u001b[0m\u001b[1;33m\u001b[0m\u001b[0m\n\u001b[0;32m     66\u001b[0m       \u001b[0mfiltered_tb\u001b[0m \u001b[1;33m=\u001b[0m \u001b[0m_process_traceback_frames\u001b[0m\u001b[1;33m(\u001b[0m\u001b[0me\u001b[0m\u001b[1;33m.\u001b[0m\u001b[0m__traceback__\u001b[0m\u001b[1;33m)\u001b[0m\u001b[1;33m\u001b[0m\u001b[1;33m\u001b[0m\u001b[0m\n\u001b[1;32m---> 67\u001b[1;33m       \u001b[1;32mraise\u001b[0m \u001b[0me\u001b[0m\u001b[1;33m.\u001b[0m\u001b[0mwith_traceback\u001b[0m\u001b[1;33m(\u001b[0m\u001b[0mfiltered_tb\u001b[0m\u001b[1;33m)\u001b[0m \u001b[1;32mfrom\u001b[0m \u001b[1;32mNone\u001b[0m\u001b[1;33m\u001b[0m\u001b[1;33m\u001b[0m\u001b[0m\n\u001b[0m\u001b[0;32m     68\u001b[0m     \u001b[1;32mfinally\u001b[0m\u001b[1;33m:\u001b[0m\u001b[1;33m\u001b[0m\u001b[1;33m\u001b[0m\u001b[0m\n\u001b[0;32m     69\u001b[0m       \u001b[1;32mdel\u001b[0m \u001b[0mfiltered_tb\u001b[0m\u001b[1;33m\u001b[0m\u001b[1;33m\u001b[0m\u001b[0m\n",
      "\u001b[1;32m~\\AppData\\Roaming\\Python\\Python38\\site-packages\\tensorflow\\python\\framework\\func_graph.py\u001b[0m in \u001b[0;36mautograph_handler\u001b[1;34m(*args, **kwargs)\u001b[0m\n\u001b[0;32m   1145\u001b[0m           \u001b[1;32mexcept\u001b[0m \u001b[0mException\u001b[0m \u001b[1;32mas\u001b[0m \u001b[0me\u001b[0m\u001b[1;33m:\u001b[0m  \u001b[1;31m# pylint:disable=broad-except\u001b[0m\u001b[1;33m\u001b[0m\u001b[1;33m\u001b[0m\u001b[0m\n\u001b[0;32m   1146\u001b[0m             \u001b[1;32mif\u001b[0m \u001b[0mhasattr\u001b[0m\u001b[1;33m(\u001b[0m\u001b[0me\u001b[0m\u001b[1;33m,\u001b[0m \u001b[1;34m\"ag_error_metadata\"\u001b[0m\u001b[1;33m)\u001b[0m\u001b[1;33m:\u001b[0m\u001b[1;33m\u001b[0m\u001b[1;33m\u001b[0m\u001b[0m\n\u001b[1;32m-> 1147\u001b[1;33m               \u001b[1;32mraise\u001b[0m \u001b[0me\u001b[0m\u001b[1;33m.\u001b[0m\u001b[0mag_error_metadata\u001b[0m\u001b[1;33m.\u001b[0m\u001b[0mto_exception\u001b[0m\u001b[1;33m(\u001b[0m\u001b[0me\u001b[0m\u001b[1;33m)\u001b[0m\u001b[1;33m\u001b[0m\u001b[1;33m\u001b[0m\u001b[0m\n\u001b[0m\u001b[0;32m   1148\u001b[0m             \u001b[1;32melse\u001b[0m\u001b[1;33m:\u001b[0m\u001b[1;33m\u001b[0m\u001b[1;33m\u001b[0m\u001b[0m\n\u001b[0;32m   1149\u001b[0m               \u001b[1;32mraise\u001b[0m\u001b[1;33m\u001b[0m\u001b[1;33m\u001b[0m\u001b[0m\n",
      "\u001b[1;31mValueError\u001b[0m: in user code:\n\n    File \"D:\\ananconda3\\lib\\site-packages\\keras\\engine\\training.py\", line 878, in train_function  *\n        return step_function(self, iterator)\n    File \"D:\\ananconda3\\lib\\site-packages\\keras\\engine\\training.py\", line 867, in step_function  **\n        outputs = model.distribute_strategy.run(run_step, args=(data,))\n    File \"D:\\ananconda3\\lib\\site-packages\\keras\\engine\\training.py\", line 860, in run_step  **\n        outputs = model.train_step(data)\n    File \"D:\\ananconda3\\lib\\site-packages\\keras\\engine\\training.py\", line 808, in train_step\n        y_pred = self(x, training=True)\n    File \"D:\\ananconda3\\lib\\site-packages\\keras\\utils\\traceback_utils.py\", line 67, in error_handler\n        raise e.with_traceback(filtered_tb) from None\n    File \"D:\\ananconda3\\lib\\site-packages\\keras\\engine\\input_spec.py\", line 263, in assert_input_compatibility\n        raise ValueError(f'Input {input_index} of layer \"{layer_name}\" is '\n\n    ValueError: Input 0 of layer \"sequential_35\" is incompatible with the layer: expected shape=(None, 4), found shape=(1, 3)\n"
     ]
    }
   ],
   "source": [
    "model = baseline_model()\n",
    "history = model.fit(train_x,train_y,epochs=200,batch_size= 1, verbose = 1, shuffle = True)"
   ]
  },
  {
   "cell_type": "code",
   "execution_count": 1,
   "metadata": {},
   "outputs": [
    {
     "ename": "ModuleNotFoundError",
     "evalue": "No module named 'sklearn.utils.metaestimators'",
     "output_type": "error",
     "traceback": [
      "\u001b[1;31m---------------------------------------------------------------------------\u001b[0m",
      "\u001b[1;31mModuleNotFoundError\u001b[0m                       Traceback (most recent call last)",
      "\u001b[1;32m<ipython-input-1-13937acc46dd>\u001b[0m in \u001b[0;36m<module>\u001b[1;34m\u001b[0m\n\u001b[1;32m----> 1\u001b[1;33m \u001b[1;32mfrom\u001b[0m \u001b[0msklearn\u001b[0m\u001b[1;33m.\u001b[0m\u001b[0mutils\u001b[0m\u001b[1;33m.\u001b[0m\u001b[0mmetaestimators\u001b[0m \u001b[1;32mimport\u001b[0m \u001b[0mavailable_if\u001b[0m\u001b[1;33m\u001b[0m\u001b[1;33m\u001b[0m\u001b[0m\n\u001b[0m",
      "\u001b[1;31mModuleNotFoundError\u001b[0m: No module named 'sklearn.utils.metaestimators'"
     ]
    }
   ],
   "source": [
    "from sklearn.utils.metaestimators import available_if"
   ]
  },
  {
   "cell_type": "code",
   "execution_count": 19,
   "metadata": {},
   "outputs": [
    {
     "name": "stdout",
     "output_type": "stream",
     "text": [
      "[nan nan nan nan nan nan nan nan nan nan]\n",
      "Accuracy: nan (nan)\n"
     ]
    }
   ],
   "source": [
    "from numpy import mean\n",
    "from numpy import std\n",
    "from sklearn.datasets import make_classification\n",
    "\n",
    "from sklearn.linear_model import LogisticRegression\n",
    "# create dataset\n",
    "#X, y = make_classification(n_samples=1000, n_features=20, n_informative=15, n_redundant=5, random_state=1)\n",
    "# prepare the cross-validation procedure\n",
    "cv = KFold(n_splits=10, random_state=1, shuffle=True)\n",
    "# create model\n",
    "model = LogisticRegression()\n",
    "# evaluate model\n",
    "scores = cross_val_score(model, train_x, train_y, scoring='accuracy', cv=cv, n_jobs=-1)\n",
    "print(scores)\n",
    "# report performance\n",
    "print('Accuracy: %.3f (%.3f)' % (mean(scores), std(scores)))"
   ]
  },
  {
   "cell_type": "code",
   "execution_count": null,
   "metadata": {},
   "outputs": [],
   "source": []
  },
  {
   "cell_type": "code",
   "execution_count": 64,
   "metadata": {},
   "outputs": [],
   "source": [
    "t = []\n",
    "k = y_test_in.shape\n",
    "for i in range(0, k[0]):\n",
    "    p = (float)(y_pred_in[i])\n",
    "    m = (float)(y_test_in[i])\n",
    "    k = [p, m] \n",
    "    t.append(k)\n",
    "t = np.array(t)\n",
    "#print(t)"
   ]
  },
  {
   "cell_type": "code",
   "execution_count": 65,
   "metadata": {
    "scrolled": true
   },
   "outputs": [
    {
     "data": {
      "text/plain": [
       "0.10850842446333683"
      ]
     },
     "execution_count": 65,
     "metadata": {},
     "output_type": "execute_result"
    }
   ],
   "source": [
    "from sklearn.metrics import mean_absolute_percentage_error\n",
    "mean_absolute_percentage_error(y_test_in, y_pred_in)"
   ]
  },
  {
   "cell_type": "code",
   "execution_count": 30,
   "metadata": {},
   "outputs": [
    {
     "data": {
      "image/png": "[encoded data removed]",
      "text/plain": [
       "<Figure size 432x288 with 1 Axes>"
      ]
     },
     "metadata": {
      "needs_background": "light"
     },
     "output_type": "display_data"
    }
   ],
   "source": [
    "import matplotlib.pyplot as plt\n",
    "plt.scatter(y_test_in, y_pred_in, marker = '.', c = \"red\")\n",
    "plt.xlabel('True Fracture Strength (MD Simulation)')\n",
    "plt.ylabel('Predicted Fracture Strenght (ANN Model)')\n",
    "plt.title('FS')\n",
    "plt.plot([0,300], [0, 300], color = 'black')\n",
    "plt.show()"
   ]
  },
  {
   "cell_type": "code",
   "execution_count": 30,
   "metadata": {},
   "outputs": [
    {
     "name": "stdout",
     "output_type": "stream",
     "text": [
      "Saved model to disk\n"
     ]
    }
   ],
   "source": [
    "model_json = model.to_json()\n",
    "with open(\"model_1_e.json\", \"w\") as json_file:\n",
    "    json_file.write(model_json)\n",
    "# serialize weights to HDF5\n",
    "model.save_weights(\"model_1_e.h5\")\n",
    "print(\"Saved model to disk\")"
   ]
  },
  {
   "cell_type": "code",
   "execution_count": 31,
   "metadata": {},
   "outputs": [
    {
     "name": "stdout",
     "output_type": "stream",
     "text": [
      "Loaded model from disk\n"
     ]
    }
   ],
   "source": [
    "from keras.models import model_from_json\n",
    "json_file = open('model_1_e.json', 'r')\n",
    "loaded_model_json = json_file.read()\n",
    "json_file.close()\n",
    "loaded_model = model_from_json(loaded_model_json)\n",
    "# load weights into new model\n",
    "loaded_model.load_weights(\"model_1_e.h5\")\n",
    "print(\"Loaded model from disk\")"
   ]
  },
  {
   "cell_type": "code",
   "execution_count": 33,
   "metadata": {},
   "outputs": [
    {
     "name": "stdout",
     "output_type": "stream",
     "text": [
      "0.008417648291457368 0.99026628339425\n",
      "0.03747697126643352\n",
      "2.0752867810397686 0.9902662815883576\n"
     ]
    }
   ],
   "source": [
    "y_pred = loaded_model.predict(test_x)\n",
    "print(mean_absolute_error(y_pred, test_y), r2_score(y_pred, test_y))\n",
    "test_y_np = np.array(test_y)\n",
    "test_y_np = test_y_np.reshape(-1,1)\n",
    "y_pred_in = scaler_lat.inverse_transform(y_pred)\n",
    "y_test_in = scaler_lat.inverse_transform(test_y_np)\n",
    "from sklearn.metrics import mean_absolute_percentage_error\n",
    "print(mean_absolute_percentage_error(y_test_in, y_pred_in))\n",
    "print(mean_absolute_error(y_pred_in, y_test_in), r2_score(y_pred_in, y_test_in))"
   ]
  },
  {
   "cell_type": "code",
   "execution_count": 46,
   "metadata": {},
   "outputs": [
    {
     "name": "stdout",
     "output_type": "stream",
     "text": [
      "Model: \"sequential\"\n",
      "_________________________________________________________________\n",
      " Layer (type)                Output Shape              Param #   \n",
      "=================================================================\n",
      " dense (Dense)               (None, 6)                 30        \n",
      "                                                                 \n",
      " dense_1 (Dense)             (None, 32)                224       \n",
      "                                                                 \n",
      " dense_2 (Dense)             (None, 64)                2112      \n",
      "                                                                 \n",
      " dense_3 (Dense)             (None, 64)                4160      \n",
      "                                                                 \n",
      " dense_4 (Dense)             (None, 32)                2080      \n",
      "                                                                 \n",
      " dense_5 (Dense)             (None, 1)                 33        \n",
      "                                                                 \n",
      "=================================================================\n",
      "Total params: 8,639\n",
      "Trainable params: 8,639\n",
      "Non-trainable params: 0\n",
      "_________________________________________________________________\n"
     ]
    }
   ],
   "source": [
    "loaded_model.summary()"
   ]
  },
  {
   "cell_type": "code",
   "execution_count": null,
   "metadata": {},
   "outputs": [],
   "source": []
  },
  {
   "cell_type": "code",
   "execution_count": 141,
   "metadata": {},
   "outputs": [],
   "source": [
    "test_x_in = test_x.copy()\n",
    "test_x_in.LO = scaler_lat.inverse_transform(test_x_in[['LO']])\n",
    "test_x_in.CS = scaler_crack.inverse_transform(test_x_in[['CS']])\n",
    "test_x_in.T = scaler_temp.inverse_transform(test_x_in[['T']]) "
   ]
  },
  {
   "cell_type": "code",
   "execution_count": 142,
   "metadata": {},
   "outputs": [
    {
     "data": {
      "text/html": [
       "<div>\n",
       "<style scoped>\n",
       "    .dataframe tbody tr th:only-of-type {\n",
       "        vertical-align: middle;\n",
       "    }\n",
       "\n",
       "    .dataframe tbody tr th {\n",
       "        vertical-align: top;\n",
       "    }\n",
       "\n",
       "    .dataframe thead th {\n",
       "        text-align: right;\n",
       "    }\n",
       "</style>\n",
       "<table border=\"1\" class=\"dataframe\">\n",
       "  <thead>\n",
       "    <tr style=\"text-align: right;\">\n",
       "      <th></th>\n",
       "      <th>LO</th>\n",
       "      <th>T</th>\n",
       "      <th>CS</th>\n",
       "    </tr>\n",
       "  </thead>\n",
       "  <tbody>\n",
       "    <tr>\n",
       "      <th>26</th>\n",
       "      <td>0.0</td>\n",
       "      <td>300.0</td>\n",
       "      <td>0.8</td>\n",
       "    </tr>\n",
       "    <tr>\n",
       "      <th>86</th>\n",
       "      <td>13.9</td>\n",
       "      <td>600.0</td>\n",
       "      <td>0.5</td>\n",
       "    </tr>\n",
       "    <tr>\n",
       "      <th>54</th>\n",
       "      <td>13.9</td>\n",
       "      <td>0.0</td>\n",
       "      <td>0.0</td>\n",
       "    </tr>\n",
       "    <tr>\n",
       "      <th>12</th>\n",
       "      <td>0.0</td>\n",
       "      <td>100.0</td>\n",
       "      <td>0.3</td>\n",
       "    </tr>\n",
       "    <tr>\n",
       "      <th>65</th>\n",
       "      <td>13.9</td>\n",
       "      <td>100.0</td>\n",
       "      <td>0.2</td>\n",
       "    </tr>\n",
       "    <tr>\n",
       "      <th>50</th>\n",
       "      <td>0.0</td>\n",
       "      <td>1200.0</td>\n",
       "      <td>0.5</td>\n",
       "    </tr>\n",
       "    <tr>\n",
       "      <th>49</th>\n",
       "      <td>0.0</td>\n",
       "      <td>1200.0</td>\n",
       "      <td>0.4</td>\n",
       "    </tr>\n",
       "    <tr>\n",
       "      <th>40</th>\n",
       "      <td>0.0</td>\n",
       "      <td>900.0</td>\n",
       "      <td>0.4</td>\n",
       "    </tr>\n",
       "    <tr>\n",
       "      <th>68</th>\n",
       "      <td>13.9</td>\n",
       "      <td>100.0</td>\n",
       "      <td>0.5</td>\n",
       "    </tr>\n",
       "    <tr>\n",
       "      <th>20</th>\n",
       "      <td>0.0</td>\n",
       "      <td>300.0</td>\n",
       "      <td>0.2</td>\n",
       "    </tr>\n",
       "    <tr>\n",
       "      <th>2</th>\n",
       "      <td>0.0</td>\n",
       "      <td>0.0</td>\n",
       "      <td>0.2</td>\n",
       "    </tr>\n",
       "    <tr>\n",
       "      <th>82</th>\n",
       "      <td>13.9</td>\n",
       "      <td>600.0</td>\n",
       "      <td>0.1</td>\n",
       "    </tr>\n",
       "    <tr>\n",
       "      <th>123</th>\n",
       "      <td>30.0</td>\n",
       "      <td>100.0</td>\n",
       "      <td>0.8</td>\n",
       "    </tr>\n",
       "    <tr>\n",
       "      <th>75</th>\n",
       "      <td>13.9</td>\n",
       "      <td>300.0</td>\n",
       "      <td>0.3</td>\n",
       "    </tr>\n",
       "    <tr>\n",
       "      <th>35</th>\n",
       "      <td>0.0</td>\n",
       "      <td>600.0</td>\n",
       "      <td>0.8</td>\n",
       "    </tr>\n",
       "    <tr>\n",
       "      <th>38</th>\n",
       "      <td>0.0</td>\n",
       "      <td>900.0</td>\n",
       "      <td>0.2</td>\n",
       "    </tr>\n",
       "    <tr>\n",
       "      <th>115</th>\n",
       "      <td>30.0</td>\n",
       "      <td>0.0</td>\n",
       "      <td>0.8</td>\n",
       "    </tr>\n",
       "    <tr>\n",
       "      <th>58</th>\n",
       "      <td>13.9</td>\n",
       "      <td>0.0</td>\n",
       "      <td>0.4</td>\n",
       "    </tr>\n",
       "    <tr>\n",
       "      <th>122</th>\n",
       "      <td>30.0</td>\n",
       "      <td>100.0</td>\n",
       "      <td>0.7</td>\n",
       "    </tr>\n",
       "    <tr>\n",
       "      <th>83</th>\n",
       "      <td>13.9</td>\n",
       "      <td>600.0</td>\n",
       "      <td>0.2</td>\n",
       "    </tr>\n",
       "    <tr>\n",
       "      <th>110</th>\n",
       "      <td>30.0</td>\n",
       "      <td>0.0</td>\n",
       "      <td>0.3</td>\n",
       "    </tr>\n",
       "    <tr>\n",
       "      <th>6</th>\n",
       "      <td>0.0</td>\n",
       "      <td>0.0</td>\n",
       "      <td>0.6</td>\n",
       "    </tr>\n",
       "    <tr>\n",
       "      <th>96</th>\n",
       "      <td>13.9</td>\n",
       "      <td>900.0</td>\n",
       "      <td>0.6</td>\n",
       "    </tr>\n",
       "    <tr>\n",
       "      <th>76</th>\n",
       "      <td>13.9</td>\n",
       "      <td>300.0</td>\n",
       "      <td>0.4</td>\n",
       "    </tr>\n",
       "    <tr>\n",
       "      <th>62</th>\n",
       "      <td>13.9</td>\n",
       "      <td>0.0</td>\n",
       "      <td>0.8</td>\n",
       "    </tr>\n",
       "    <tr>\n",
       "      <th>98</th>\n",
       "      <td>13.9</td>\n",
       "      <td>900.0</td>\n",
       "      <td>0.8</td>\n",
       "    </tr>\n",
       "    <tr>\n",
       "      <th>91</th>\n",
       "      <td>13.9</td>\n",
       "      <td>900.0</td>\n",
       "      <td>0.1</td>\n",
       "    </tr>\n",
       "    <tr>\n",
       "      <th>11</th>\n",
       "      <td>0.0</td>\n",
       "      <td>100.0</td>\n",
       "      <td>0.2</td>\n",
       "    </tr>\n",
       "    <tr>\n",
       "      <th>103</th>\n",
       "      <td>13.9</td>\n",
       "      <td>1200.0</td>\n",
       "      <td>0.4</td>\n",
       "    </tr>\n",
       "    <tr>\n",
       "      <th>80</th>\n",
       "      <td>13.9</td>\n",
       "      <td>300.0</td>\n",
       "      <td>0.8</td>\n",
       "    </tr>\n",
       "  </tbody>\n",
       "</table>\n",
       "</div>"
      ],
      "text/plain": [
       "       LO       T   CS\n",
       "26    0.0   300.0  0.8\n",
       "86   13.9   600.0  0.5\n",
       "54   13.9     0.0  0.0\n",
       "12    0.0   100.0  0.3\n",
       "65   13.9   100.0  0.2\n",
       "50    0.0  1200.0  0.5\n",
       "49    0.0  1200.0  0.4\n",
       "40    0.0   900.0  0.4\n",
       "68   13.9   100.0  0.5\n",
       "20    0.0   300.0  0.2\n",
       "2     0.0     0.0  0.2\n",
       "82   13.9   600.0  0.1\n",
       "123  30.0   100.0  0.8\n",
       "75   13.9   300.0  0.3\n",
       "35    0.0   600.0  0.8\n",
       "38    0.0   900.0  0.2\n",
       "115  30.0     0.0  0.8\n",
       "58   13.9     0.0  0.4\n",
       "122  30.0   100.0  0.7\n",
       "83   13.9   600.0  0.2\n",
       "110  30.0     0.0  0.3\n",
       "6     0.0     0.0  0.6\n",
       "96   13.9   900.0  0.6\n",
       "76   13.9   300.0  0.4\n",
       "62   13.9     0.0  0.8\n",
       "98   13.9   900.0  0.8\n",
       "91   13.9   900.0  0.1\n",
       "11    0.0   100.0  0.2\n",
       "103  13.9  1200.0  0.4\n",
       "80   13.9   300.0  0.8"
      ]
     },
     "execution_count": 142,
     "metadata": {},
     "output_type": "execute_result"
    }
   ],
   "source": [
    "test_x_in"
   ]
  },
  {
   "cell_type": "code",
   "execution_count": 64,
   "metadata": {},
   "outputs": [],
   "source": [
    "test_x = test_data[['LO', 'T', 'CS']]\n",
    "test_y = test_data['FS']\n",
    "train_x = data[['LO', 'T', 'CS']]\n",
    "train_y = data['FS']"
   ]
  }
 ],
 "metadata": {
  "colab": {
   "collapsed_sections": [],
   "name": "ANN_5-models.ipynb",
   "provenance": []
  },
  "kernelspec": {
   "display_name": "Python 3 (ipykernel)",
   "language": "python",
   "name": "python3"
  },
  "language_info": {
   "codemirror_mode": {
    "name": "ipython",
    "version": 3
   },
   "file_extension": ".py",
   "mimetype": "text/x-python",
   "name": "python",
   "nbconvert_exporter": "python",
   "pygments_lexer": "ipython3",
   "version": "3.9.7"
  }
 },
 "nbformat": 4,
 "nbformat_minor": 1
}
