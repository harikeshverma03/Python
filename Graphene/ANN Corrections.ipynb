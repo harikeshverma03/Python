{
 "cells": [
  {
   "cell_type": "code",
   "execution_count": 1,
   "id": "9980ff49",
   "metadata": {},
   "outputs": [],
   "source": [
    "import keras\n",
    "import tensorflow as tf\n",
    "from sklearn.preprocessing import MinMaxScaler\n",
    "import matplotlib.pyplot as plt\n",
    "from matplotlib import figure\n",
    "from tensorflow.keras.layers import Dense,Activation,Dropout,Flatten, Input\n",
    "from tensorflow.keras.models import Sequential, Model, model_from_json\n",
    "from tensorflow.keras.optimizers import Adam, SGD\n",
    "import pandas as pd\n",
    "import numpy as np\n",
    "import glob\n",
    "import os\n",
    "import sklearn\n",
    "import math\n",
    "from random import random\n",
    "from sklearn.model_selection import train_test_split\n",
    "from sklearn.metrics import mean_squared_error, r2_score, mean_absolute_error, mean_absolute_percentage_error"
   ]
  },
  {
   "cell_type": "code",
   "execution_count": 2,
   "id": "d3dabbfd",
   "metadata": {},
   "outputs": [
    {
     "data": {
      "text/plain": [
       "(436, 5)"
      ]
     },
     "execution_count": 2,
     "metadata": {},
     "output_type": "execute_result"
    }
   ],
   "source": [
    "data = pd.read_csv(\n",
    "    r'C:\\Users\\harik\\OneDrive\\Documents\\Python\\Graphene\\data_1.csv', delimiter=\",\")\n",
    "data = data.dropna()\n",
    "data = data.drop_duplicates()\n",
    "data = data.sample(frac=1, random_state=10)\n",
    "data.shape\n"
   ]
  },
  {
   "cell_type": "code",
   "execution_count": 3,
   "id": "8edbb943",
   "metadata": {},
   "outputs": [],
   "source": [
    "scaler_lat = MinMaxScaler()\n",
    "scaler_temp = MinMaxScaler()\n",
    "scaler_crack = MinMaxScaler()\n",
    "scaler_fs = MinMaxScaler()\n",
    "scaler_co = MinMaxScaler()\n",
    "data.CO = scaler_co.fit_transform(data[['CO']])\n",
    "data.CS = scaler_crack.fit_transform(data[['CS']])\n",
    "data.FS = scaler_fs.fit_transform(data[['FS']])\n",
    "data.T = scaler_temp.fit_transform(data[['T']])"
   ]
  },
  {
   "cell_type": "code",
   "execution_count": 4,
   "id": "8a20749f",
   "metadata": {},
   "outputs": [
    {
     "data": {
      "text/plain": [
       "(44, 3)"
      ]
     },
     "execution_count": 4,
     "metadata": {},
     "output_type": "execute_result"
    }
   ],
   "source": [
    "train, test = train_test_split(data, test_size=0.1, random_state = 1)\n",
    "test_x = test[['T', 'CS', 'CO']]\n",
    "test_y = test['FS']\n",
    "train_x = train[['T', 'CS', 'CO']]\n",
    "train_y = train['FS']\n",
    "test_x.shape"
   ]
  },
  {
   "cell_type": "code",
   "execution_count": 5,
   "id": "4bc837bd",
   "metadata": {},
   "outputs": [
    {
     "data": {
      "text/plain": [
       "['C:\\\\Users\\\\harik\\\\OneDrive\\\\Documents\\\\Python\\\\Graphene\\\\ANN',\n",
       " 'C:\\\\Users\\\\harik\\\\OneDrive\\\\Documents\\\\Python\\\\Graphene\\\\ANN\\\\1_layer_6',\n",
       " 'C:\\\\Users\\\\harik\\\\OneDrive\\\\Documents\\\\Python\\\\Graphene\\\\ANN\\\\2_layer_16-6',\n",
       " 'C:\\\\Users\\\\harik\\\\OneDrive\\\\Documents\\\\Python\\\\Graphene\\\\ANN\\\\3_layer_32-16-6',\n",
       " 'C:\\\\Users\\\\harik\\\\OneDrive\\\\Documents\\\\Python\\\\Graphene\\\\ANN\\\\4_layer_32-32-16-8',\n",
       " 'C:\\\\Users\\\\harik\\\\OneDrive\\\\Documents\\\\Python\\\\Graphene\\\\ANN\\\\5_layer_64-32-32-16-8',\n",
       " 'C:\\\\Users\\\\harik\\\\OneDrive\\\\Documents\\\\Python\\\\Graphene\\\\ANN\\\\6_layer_64-64-32-32-16-8']"
      ]
     },
     "execution_count": 5,
     "metadata": {},
     "output_type": "execute_result"
    }
   ],
   "source": [
    "pa = [x[0] for x in os.walk(r'C:\\Users\\harik\\OneDrive\\Documents\\Python\\Graphene\\ANN')]\n",
    "pa"
   ]
  },
  {
   "cell_type": "code",
   "execution_count": 6,
   "id": "cb644518",
   "metadata": {},
   "outputs": [
    {
     "data": {
      "text/plain": [
       "'C:\\\\Users\\\\harik\\\\OneDrive\\\\Documents\\\\Python\\\\Graphene\\\\ANN\\\\5_layer_64-32-32-16-8'"
      ]
     },
     "execution_count": 6,
     "metadata": {},
     "output_type": "execute_result"
    }
   ],
   "source": [
    "path = pa[5]\n",
    "os.chdir(path)\n",
    "os.getcwd()"
   ]
  },
  {
   "cell_type": "code",
   "execution_count": 7,
   "id": "8242ea78",
   "metadata": {},
   "outputs": [
    {
     "name": "stdout",
     "output_type": "stream",
     "text": [
      "Loaded model from disk\n",
      "Model: \"sequential_22\"\n",
      "_________________________________________________________________\n",
      "Layer (type)                 Output Shape              Param #   \n",
      "=================================================================\n",
      "dense_150 (Dense)            (None, 64)                256       \n",
      "_________________________________________________________________\n",
      "dense_151 (Dense)            (None, 32)                2080      \n",
      "_________________________________________________________________\n",
      "dense_152 (Dense)            (None, 32)                1056      \n",
      "_________________________________________________________________\n",
      "dense_153 (Dense)            (None, 16)                528       \n",
      "_________________________________________________________________\n",
      "dense_154 (Dense)            (None, 8)                 136       \n",
      "_________________________________________________________________\n",
      "dense_155 (Dense)            (None, 1)                 9         \n",
      "=================================================================\n",
      "Total params: 4,065\n",
      "Trainable params: 4,065\n",
      "Non-trainable params: 0\n",
      "_________________________________________________________________\n"
     ]
    }
   ],
   "source": [
    "json_file = open('model.json', 'r')\n",
    "loaded_model_json = json_file.read()\n",
    "json_file.close()\n",
    "loaded_model = model_from_json(loaded_model_json)\n",
    "# load weights into new model\n",
    "loaded_model.load_weights(\"model.h5\")\n",
    "print(\"Loaded model from disk\")\n",
    "loaded_model.compile(optimizer=Adam(learning_rate=0.0001), loss='mean_squared_error', metrics = ['mse'])\n",
    "loaded_model.summary()"
   ]
  },
  {
   "cell_type": "code",
   "execution_count": 8,
   "id": "6c7c643b",
   "metadata": {},
   "outputs": [
    {
     "name": "stdout",
     "output_type": "stream",
     "text": [
      "3.7793602891156644e-05 0.9969840729798899\n",
      "22/22 [==============================] - 0s 2ms/step - loss: 3.7794e-05 - mse: 3.7794e-05\n",
      "2.2748654655301865 0.9969840684896049\n",
      "1.7124211187509022\n"
     ]
    }
   ],
   "source": [
    "y_pred = loaded_model.predict(test_x).reshape(-1,1)\n",
    "print(mean_squared_error(y_pred, test_y), r2_score(y_pred, test_y))\n",
    "loaded_model.evaluate(test_x, test_y, batch_size = 2)\n",
    "test_y_np = np.array(test_y)\n",
    "test_y_np = test_y_np.reshape(-1,1)\n",
    "y_pred_in = scaler_fs.inverse_transform(y_pred)\n",
    "y_test_in = scaler_fs.inverse_transform(test_y_np)\n",
    "print(mean_squared_error(y_pred_in, y_test_in), r2_score(y_pred_in, y_test_in))\n",
    "from sklearn.metrics import mean_absolute_percentage_error\n",
    "print(mean_absolute_percentage_error(y_test_in, y_pred_in)*100)"
   ]
  },
  {
   "cell_type": "code",
   "execution_count": 10,
   "id": "2133c165",
   "metadata": {},
   "outputs": [
    {
     "name": "stdout",
     "output_type": "stream",
     "text": [
      "1.6521125971574643e-05 0.9992731922718902\n",
      "196/196 [==============================] - 0s 2ms/step - loss: 1.6521e-05 - mse: 1.6521e-05\n",
      "0.9944369905217904 0.9992731907681036\n",
      "1.3476873554240107\n"
     ]
    }
   ],
   "source": [
    "y_pred_t = loaded_model.predict(train_x).reshape(-1,1)\n",
    "print(mean_squared_error(y_pred_t, train_y), r2_score(y_pred_t, train_y))\n",
    "loaded_model.evaluate(train_x, train_y, batch_size = 2)\n",
    "test_y_np = np.array(train_y)\n",
    "test_y_np = test_y_np.reshape(-1,1)\n",
    "y_pred_in_t = scaler_fs.inverse_transform(y_pred_t)\n",
    "y_test_in_t = scaler_fs.inverse_transform(test_y_np)\n",
    "\n",
    "#y_pred_in = scaler_lat.inverse_transform(y_pred)\n",
    "#y_test_in = scaler_lat.inverse_transform(test_y_np)\n",
    "\n",
    "print(mean_squared_error(y_pred_in_t, y_test_in_t), r2_score(y_pred_in_t, y_test_in_t))\n",
    "print(mean_absolute_percentage_error(y_test_in_t, y_pred_in_t)*100)"
   ]
  },
  {
   "cell_type": "code",
   "execution_count": 11,
   "id": "b6f842cb",
   "metadata": {},
   "outputs": [],
   "source": [
    "t = []\n",
    "k = y_test_in.shape\n",
    "for i in range(0, k[0]):\n",
    "    p = (float)(y_pred_in[i])\n",
    "    m = (float)(y_test_in[i])\n",
    "    k = [p, m] \n",
    "    t.append(k)\n",
    "t = np.array(t)\n",
    "#print(t)\n",
    "df = pd.DataFrame(t, columns = ['Prediced', 'True'])\n",
    "df.to_csv('Pred_True.csv')\n",
    "t = []\n",
    "k = y_test_in_t.shape\n",
    "for i in range(0, k[0]):\n",
    "    p = (float)(y_pred_in_t[i])\n",
    "    m = (float)(y_test_in_t[i])\n",
    "    k = [p, m] \n",
    "    t.append(k)\n",
    "t = np.array(t)\n",
    "#print(t)\n",
    "df = pd.DataFrame(t, columns = ['Prediced', 'True'])\n",
    "df.to_csv('Pred_True_train.csv')"
   ]
  },
  {
   "cell_type": "code",
   "execution_count": 14,
   "id": "03fbfca6",
   "metadata": {},
   "outputs": [
    {
     "data": {
      "image/png": "[encoded data removed]",
      "text/plain": [
       "<Figure size 720x504 with 1 Axes>"
      ]
     },
     "metadata": {
      "needs_background": "light"
     },
     "output_type": "display_data"
    }
   ],
   "source": [
    "import matplotlib.pyplot as plt\n",
    "from matplotlib import figure\n",
    "fig = plt.figure(figsize=(10, 7))\n",
    "plt.scatter(y_test_in, y_pred_in, marker = '.', c = \"blue\")\n",
    "\n",
    "plt.xlabel('True Fracture Strength (MD Simulation)', fontsize = 14)\n",
    "plt.ylabel('Predicted Fracture Strenght (DNN Model)', fontsize = 14)\n",
    "plt.title('Test Data', fontsize = 14)\n",
    "plt.plot([20,150], [20, 150], color = 'black')\n",
    "plt.savefig('TrueVsPred.png', dpi = 100)\n",
    "plt.show()"
   ]
  },
  {
   "cell_type": "code",
   "execution_count": 18,
   "id": "b59106f4",
   "metadata": {},
   "outputs": [
    {
     "data": {
      "image/png": "[encoded data removed]",
      "text/plain": [
       "<Figure size 720x504 with 1 Axes>"
      ]
     },
     "metadata": {
      "needs_background": "light"
     },
     "output_type": "display_data"
    }
   ],
   "source": [
    "import matplotlib.pyplot as plt\n",
    "from matplotlib import figure\n",
    "fig = plt.figure(figsize=(10, 7))\n",
    "plt.scatter(y_test_in_t, y_pred_in_t, marker = '.', c = \"blue\")\n",
    "plt.xlabel('True Fracture Strength (MD Simulation)', fontsize = 14)\n",
    "plt.ylabel('Predicted Fracture Strenght (DNN Model)', fontsize = 14)\n",
    "plt.title('Train Data', fontsize = 14)\n",
    "plt.plot([10,275], [10, 275], color = 'black')\n",
    "plt.savefig('TrueVsPred_train.png', dpi = 100)\n",
    "plt.show()"
   ]
  },
  {
   "cell_type": "code",
   "execution_count": 39,
   "id": "0ced649f",
   "metadata": {},
   "outputs": [],
   "source": [
    "os.remove(\"info.txt\")\n",
    "file1 = open(\"info.txt\",\"a\")\n",
    "file1.write(\"Learning rate = 0.001 for 200 train test split = 0.10  validation_split = 0.1 of train loss = mse batch size = 4\\n\")\n",
    "file1.write(\"Learning rate = 0.0001 for 400 train test split = 0.10 validation_split = 0.1 of train loss = mse \\n\")\n",
    "file1.write(\"Learning rate = 0.00001 for 400 train test split = 0.10 loss = mae \\n\")\n",
    "print(mean_squared_error(y_pred, test_y), r2_score(y_pred, test_y),'\\n', file = file1)\n",
    "print(mean_squared_error(y_pred_in, y_test_in), r2_score(y_pred_in, y_test_in), '\\n', file = file1)\n",
    "print(mean_absolute_percentage_error(y_test_in, y_pred_in)*100, '\\n', file = file1)\n",
    "file1.close()"
   ]
  },
  {
   "cell_type": "code",
   "execution_count": null,
   "id": "075c09b2",
   "metadata": {},
   "outputs": [],
   "source": []
  }
 ],
 "metadata": {
  "kernelspec": {
   "display_name": "Python 3 (ipykernel)",
   "language": "python",
   "name": "python3"
  },
  "language_info": {
   "codemirror_mode": {
    "name": "ipython",
    "version": 3
   },
   "file_extension": ".py",
   "mimetype": "text/x-python",
   "name": "python",
   "nbconvert_exporter": "python",
   "pygments_lexer": "ipython3",
   "version": "3.9.7"
  }
 },
 "nbformat": 4,
 "nbformat_minor": 5
}
