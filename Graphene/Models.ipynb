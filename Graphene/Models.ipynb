{
 "cells": [
  {
   "cell_type": "code",
   "execution_count": null,
   "metadata": {},
   "outputs": [],
   "source": [
    "#5 percent - 64-128-128-64\n",
    "#4.5 percent - 64-64 - 3.15 - 0.944\n",
    "#4.7 percent - 64-128-256-128-64- 0.979\n",
    "#4.9 percent - 6-32-32-1 0.977\n",
    "#5.8 percent - 6-32-64-64-32-1 "
   ]
  },
  {
   "cell_type": "code",
   "execution_count": 1,
   "metadata": {
    "colab": {
     "base_uri": "https://localhost:8080/"
    },
    "id": "TodLQ5mxBGQJ",
    "outputId": "131716a2-78cf-4f7a-e4b6-335fee22c4b0"
   },
   "outputs": [],
   "source": [
    "import sklearn\n",
    "import keras\n",
    "import tensorflow as tf\n",
    "from sklearn.preprocessing import MinMaxScaler\n",
    "import matplotlib.pyplot as plt\n",
    "from keras.layers import Dense, Input\n",
    "from keras.models import Model\n",
    "from tensorflow.keras.layers import Dense,Activation,Dropout,Flatten\n",
    "from tensorflow.keras.models import Sequential\n",
    "from tensorflow.keras.optimizers import Adam\n",
    "import pandas as pd\n",
    "import numpy as np\n",
    "import glob\n",
    "import os\n",
    "import math\n",
    "from random import random\n",
    "from sklearn.model_selection import train_test_split\n",
    "from sklearn.metrics import mean_squared_error, r2_score, mean_absolute_error, mean_absolute_percentage_error"
   ]
  },
  {
   "cell_type": "code",
   "execution_count": 3,
   "metadata": {
    "id": "TrQ0jGI0Bm_b"
   },
   "outputs": [
    {
     "data": {
      "text/plain": [
       "(436, 5)"
      ]
     },
     "execution_count": 3,
     "metadata": {},
     "output_type": "execute_result"
    }
   ],
   "source": [
    "data = pd.read_csv(r'C:\\Users\\harik\\OneDrive\\Documents\\Python\\Graphene\\data_1.csv',delimiter=\",\")\n",
    "data = data.dropna()\n",
    "data = data.drop_duplicates()\n",
    "data = data.sample(frac = 1, random_state = 10)\n",
    "data.shape"
   ]
  },
  {
   "cell_type": "code",
   "execution_count": 4,
   "metadata": {},
   "outputs": [
    {
     "data": {
      "text/html": [
       "<div>\n",
       "<style scoped>\n",
       "    .dataframe tbody tr th:only-of-type {\n",
       "        vertical-align: middle;\n",
       "    }\n",
       "\n",
       "    .dataframe tbody tr th {\n",
       "        vertical-align: top;\n",
       "    }\n",
       "\n",
       "    .dataframe thead th {\n",
       "        text-align: right;\n",
       "    }\n",
       "</style>\n",
       "<table border=\"1\" class=\"dataframe\">\n",
       "  <thead>\n",
       "    <tr style=\"text-align: right;\">\n",
       "      <th></th>\n",
       "      <th>CO</th>\n",
       "      <th>T</th>\n",
       "      <th>CS</th>\n",
       "      <th>FS</th>\n",
       "      <th>FT</th>\n",
       "    </tr>\n",
       "  </thead>\n",
       "  <tbody>\n",
       "    <tr>\n",
       "      <th>494</th>\n",
       "      <td>60.0</td>\n",
       "      <td>1000.0</td>\n",
       "      <td>0.5</td>\n",
       "      <td>54.70</td>\n",
       "      <td>54.70</td>\n",
       "    </tr>\n",
       "    <tr>\n",
       "      <th>331</th>\n",
       "      <td>45.0</td>\n",
       "      <td>600.0</td>\n",
       "      <td>0.2</td>\n",
       "      <td>55.25</td>\n",
       "      <td>55.25</td>\n",
       "    </tr>\n",
       "    <tr>\n",
       "      <th>201</th>\n",
       "      <td>30.0</td>\n",
       "      <td>600.0</td>\n",
       "      <td>0.2</td>\n",
       "      <td>49.67</td>\n",
       "      <td>49.67</td>\n",
       "    </tr>\n",
       "    <tr>\n",
       "      <th>565</th>\n",
       "      <td>35.0</td>\n",
       "      <td>0.0</td>\n",
       "      <td>0.2</td>\n",
       "      <td>63.00</td>\n",
       "      <td>63.00</td>\n",
       "    </tr>\n",
       "    <tr>\n",
       "      <th>402</th>\n",
       "      <td>45.0</td>\n",
       "      <td>750.0</td>\n",
       "      <td>0.3</td>\n",
       "      <td>49.20</td>\n",
       "      <td>49.20</td>\n",
       "    </tr>\n",
       "  </tbody>\n",
       "</table>\n",
       "</div>"
      ],
      "text/plain": [
       "       CO       T   CS     FS     FT\n",
       "494  60.0  1000.0  0.5  54.70  54.70\n",
       "331  45.0   600.0  0.2  55.25  55.25\n",
       "201  30.0   600.0  0.2  49.67  49.67\n",
       "565  35.0     0.0  0.2  63.00  63.00\n",
       "402  45.0   750.0  0.3  49.20  49.20"
      ]
     },
     "execution_count": 4,
     "metadata": {},
     "output_type": "execute_result"
    }
   ],
   "source": [
    "data.head()"
   ]
  },
  {
   "cell_type": "code",
   "execution_count": 74,
   "metadata": {},
   "outputs": [],
   "source": [
    "scaler_lat = MinMaxScaler()\n",
    "scaler_temp = MinMaxScaler()\n",
    "scaler_crack = MinMaxScaler()\n",
    "scaler_fs = MinMaxScaler()\n",
    "scaler_co = MinMaxScaler()\n",
    "data.CO = scaler_co.fit_transform(data[['CO']])\n",
    "data.CS = scaler_crack.fit_transform(data[['CS']])\n",
    "data.FS = scaler_fs.fit_transform(data[['FS']])\n",
    "data.T = scaler_temp.fit_transform(data[['T']])"
   ]
  },
  {
   "cell_type": "code",
   "execution_count": 75,
   "metadata": {},
   "outputs": [],
   "source": [
    "data.to_csv('new_data.csv')\n",
    "train, test = train_test_split(data, test_size=0.2, random_state = 1)\n",
    "#train_or, test_or = train_test_split(data1, test_size=0.2, random_state = 1)"
   ]
  },
  {
   "cell_type": "code",
   "execution_count": 76,
   "metadata": {},
   "outputs": [],
   "source": [
    "test_x = test[['T', 'CS', 'CO']]\n",
    "test_y = test['FS']\n",
    "train_x = train[['T', 'CS', 'CO']]\n",
    "train_y = train['FS']"
   ]
  },
  {
   "cell_type": "code",
   "execution_count": 77,
   "metadata": {},
   "outputs": [
    {
     "data": {
      "text/plain": [
       "(88, 3)"
      ]
     },
     "execution_count": 77,
     "metadata": {},
     "output_type": "execute_result"
    }
   ],
   "source": [
    "test_x.shape"
   ]
  },
  {
   "cell_type": "markdown",
   "metadata": {},
   "source": [
    "# Linear Regression"
   ]
  },
  {
   "cell_type": "code",
   "execution_count": 78,
   "metadata": {},
   "outputs": [
    {
     "name": "stdout",
     "output_type": "stream",
     "text": [
      "0.5562063412798659\n",
      "0.06285929175396375 0.11867693276006952\n",
      "15.421898638917469 0.1186769327600693\n",
      "22.335617691907725\n"
     ]
    }
   ],
   "source": [
    "from sklearn.linear_model import LinearRegression\n",
    "regr = LinearRegression()\n",
    "  \n",
    "regr.fit(train_x, train_y)\n",
    "print(regr.score(test_x, test_y))\n",
    "y_pred = regr.predict(test_x).reshape(-1,1)\n",
    "print(mean_absolute_error(y_pred, test_y), r2_score(y_pred, test_y))\n",
    "test_y_np = np.array(test_y)\n",
    "test_y_np = test_y_np.reshape(-1,1)\n",
    "y_pred_in = scaler_fs.inverse_transform(y_pred)\n",
    "y_test_in = scaler_fs.inverse_transform(test_y_np)\n",
    "\n",
    "#y_pred_in = scaler_lat.inverse_transform(y_pred)\n",
    "#y_test_in = scaler_lat.inverse_transform(test_y_np)\n",
    "\n",
    "print(mean_absolute_error(y_pred_in, y_test_in), r2_score(y_pred_in, y_test_in))\n",
    "\n",
    "print(mean_absolute_percentage_error(y_test_in, y_pred_in)*100)"
   ]
  },
  {
   "cell_type": "code",
   "execution_count": 79,
   "metadata": {},
   "outputs": [
    {
     "data": {
      "image/png": "[encoded data removed]",
      "text/plain": [
       "<Figure size 432x288 with 1 Axes>"
      ]
     },
     "metadata": {
      "needs_background": "light"
     },
     "output_type": "display_data"
    }
   ],
   "source": [
    "t = []\n",
    "k = y_test_in.shape\n",
    "for i in range(0, k[0]):\n",
    "    p = (float)(y_pred_in[i])\n",
    "    m = (float)(y_test_in[i])\n",
    "    k = [p, m] \n",
    "    t.append(k)\n",
    "t = np.array(t)\n",
    "#print(t)\n",
    "import matplotlib.pyplot as plt\n",
    "plt.scatter(y_test_in, y_pred_in, marker = '.', c = \"red\")\n",
    "plt.xlabel('True Fracture Strength (MD Simulation)')\n",
    "plt.ylabel('Predicted Fracture Strenght (ANN Model)')\n",
    "plt.title('FS')\n",
    "plt.plot([0,300], [0, 300], color = 'black')\n",
    "plt.show()"
   ]
  },
  {
   "cell_type": "markdown",
   "metadata": {},
   "source": [
    "# Polynomial Regression"
   ]
  },
  {
   "cell_type": "code",
   "execution_count": 80,
   "metadata": {},
   "outputs": [],
   "source": [
    "from sklearn.preprocessing import PolynomialFeatures\n",
    "poly = PolynomialFeatures(degree=2, include_bias=False) #change degree here\n",
    "X, y = data[[\"T\", \"CO\", \"CS\"]], data[\"FS\"]\n",
    "poly_features =  poly.fit_transform(X)\n",
    "X_train, X_test, y_train, y_test = train_test_split(poly_features, y, test_size=0.2, random_state=42)"
   ]
  },
  {
   "cell_type": "code",
   "execution_count": 81,
   "metadata": {},
   "outputs": [
    {
     "name": "stdout",
     "output_type": "stream",
     "text": [
      "0.0579631532428313 0.6545886543535903\n",
      "0.6940933504102945\n",
      "14.220680016596232 0.6545886543535901\n",
      "32.06597424799758\n"
     ]
    }
   ],
   "source": [
    "poly_reg_model = LinearRegression()\n",
    "poly_reg_model.fit(X_train, y_train)\n",
    "y_pred = poly_reg_model.predict(X_test).reshape(-1,1)\n",
    "print(mean_absolute_error(y_pred, y_test), r2_score(y_pred, y_test))\n",
    "print(poly_reg_model.score(X_test, y_test))\n",
    "test_y_np = np.array(y_test)\n",
    "test_y_np = test_y_np.reshape(-1,1)\n",
    "y_pred_in = scaler_fs.inverse_transform(y_pred)\n",
    "y_test_in = scaler_fs.inverse_transform(test_y_np)\n",
    "\n",
    "#y_pred_in = scaler_lat.inverse_transform(y_pred)\n",
    "#y_test_in = scaler_lat.inverse_transform(test_y_np)\n",
    "\n",
    "print(mean_absolute_error(y_pred_in, y_test_in), r2_score(y_pred_in, y_test_in))\n",
    "\n",
    "print(mean_absolute_percentage_error(y_test_in, y_pred_in)*100)"
   ]
  },
  {
   "cell_type": "code",
   "execution_count": 82,
   "metadata": {},
   "outputs": [
    {
     "data": {
      "image/png": "[encoded data removed]",
      "text/plain": [
       "<Figure size 432x288 with 1 Axes>"
      ]
     },
     "metadata": {
      "needs_background": "light"
     },
     "output_type": "display_data"
    }
   ],
   "source": [
    "t = []\n",
    "k = y_test_in.shape\n",
    "for i in range(0, k[0]):\n",
    "    p = (float)(y_pred_in[i])\n",
    "    m = (float)(y_test_in[i])\n",
    "    k = [p, m] \n",
    "    t.append(k)\n",
    "t = np.array(t)\n",
    "#print(t)\n",
    "import matplotlib.pyplot as plt\n",
    "plt.scatter(y_test_in, y_pred_in, marker = '.', c = \"red\")\n",
    "plt.xlabel('True Fracture Strength (MD Simulation)')\n",
    "plt.ylabel('Predicted Fracture Strenght (ANN Model)')\n",
    "plt.title('FS')\n",
    "plt.plot([0,300], [0, 300], color = 'black')\n",
    "plt.show()"
   ]
  },
  {
   "cell_type": "markdown",
   "metadata": {},
   "source": [
    "# Decision Tree Regressor"
   ]
  },
  {
   "cell_type": "code",
   "execution_count": 83,
   "metadata": {},
   "outputs": [
    {
     "name": "stdout",
     "output_type": "stream",
     "text": [
      "0.01658722608884146 0.946136694583951\n",
      "4.069510048636365 0.946136694583951\n",
      "4.770177169875409\n"
     ]
    }
   ],
   "source": [
    "# import the regressor\n",
    "from sklearn.tree import DecisionTreeRegressor \n",
    "# create a regressor object\n",
    "regressor = DecisionTreeRegressor(random_state = 0) \n",
    "  \n",
    "# fit the regressor with X and Y data\n",
    "regressor.fit(train_x, train_y)\n",
    "y_pred = regressor.predict(test_x).reshape(-1,1)\n",
    "print(mean_absolute_error(y_pred, test_y), r2_score(y_pred, test_y))\n",
    "test_y_np = np.array(test_y)\n",
    "test_y_np = test_y_np.reshape(-1,1)\n",
    "y_pred_in = scaler_fs.inverse_transform(y_pred)\n",
    "y_test_in = scaler_fs.inverse_transform(test_y_np)\n",
    "\n",
    "#y_pred_in = scaler_lat.inverse_transform(y_pred)\n",
    "#y_test_in = scaler_lat.inverse_transform(test_y_np)\n",
    "\n",
    "print(mean_absolute_error(y_pred_in, y_test_in), r2_score(y_pred_in, y_test_in))\n",
    "\n",
    "print(mean_absolute_percentage_error(y_test_in, y_pred_in)*100)"
   ]
  },
  {
   "cell_type": "code",
   "execution_count": 84,
   "metadata": {},
   "outputs": [
    {
     "data": {
      "image/png": "[encoded data removed]",
      "text/plain": [
       "<Figure size 432x288 with 1 Axes>"
      ]
     },
     "metadata": {
      "needs_background": "light"
     },
     "output_type": "display_data"
    }
   ],
   "source": [
    "t = []\n",
    "k = y_test_in.shape\n",
    "for i in range(0, k[0]):\n",
    "    p = (float)(y_pred_in[i])\n",
    "    m = (float)(y_test_in[i])\n",
    "    k = [p, m] \n",
    "    t.append(k)\n",
    "t = np.array(t)\n",
    "#print(t)\n",
    "import matplotlib.pyplot as plt\n",
    "plt.scatter(y_test_in, y_pred_in, marker = '.', c = \"red\")\n",
    "plt.xlabel('True Fracture Strength (MD Simulation)')\n",
    "plt.ylabel('Predicted Fracture Strenght (ANN Model)')\n",
    "plt.title('FS')\n",
    "plt.plot([0,300], [0, 300], color = 'black')\n",
    "plt.show()"
   ]
  },
  {
   "cell_type": "markdown",
   "metadata": {},
   "source": [
    "# Random Forest Regressor"
   ]
  },
  {
   "cell_type": "code",
   "execution_count": 85,
   "metadata": {},
   "outputs": [
    {
     "name": "stdout",
     "output_type": "stream",
     "text": [
      "0.013849643592680554 0.948810436739402\n",
      "3.3978715590282476 0.948810436739402\n",
      "3.927081550139532\n"
     ]
    }
   ],
   "source": [
    "from sklearn.ensemble import RandomForestRegressor\n",
    " \n",
    " # create regressor object\n",
    "regressor = RandomForestRegressor(n_estimators = 200, random_state = 0)\n",
    "# fit the regressor with X and Y data\n",
    "regressor.fit(train_x, train_y)\n",
    "y_pred = regressor.predict(test_x).reshape(-1,1)\n",
    "print(mean_absolute_error(y_pred, test_y), r2_score(y_pred, test_y))\n",
    "test_y_np = np.array(test_y)\n",
    "test_y_np = test_y_np.reshape(-1,1)\n",
    "y_pred_in = scaler_fs.inverse_transform(y_pred)\n",
    "y_test_in = scaler_fs.inverse_transform(test_y_np)\n",
    "\n",
    "#y_pred_in = scaler_lat.inverse_transform(y_pred)\n",
    "#y_test_in = scaler_lat.inverse_transform(test_y_np)\n",
    "\n",
    "print(mean_absolute_error(y_pred_in, y_test_in), r2_score(y_pred_in, y_test_in))\n",
    "\n",
    "print(mean_absolute_percentage_error(y_test_in, y_pred_in)*100)"
   ]
  },
  {
   "cell_type": "code",
   "execution_count": 86,
   "metadata": {},
   "outputs": [
    {
     "data": {
      "image/png": "[encoded data removed]",
      "text/plain": [
       "<Figure size 432x288 with 1 Axes>"
      ]
     },
     "metadata": {
      "needs_background": "light"
     },
     "output_type": "display_data"
    }
   ],
   "source": [
    "t = []\n",
    "k = y_test_in.shape\n",
    "for i in range(0, k[0]):\n",
    "    p = (float)(y_pred_in[i])\n",
    "    m = (float)(y_test_in[i])\n",
    "    k = [p, m] \n",
    "    t.append(k)\n",
    "t = np.array(t)\n",
    "#print(t)\n",
    "import matplotlib.pyplot as plt\n",
    "plt.scatter(y_test_in, y_pred_in, marker = '.', c = \"red\")\n",
    "plt.xlabel('True Fracture Strength (MD Simulation)')\n",
    "plt.ylabel('Predicted Fracture Strenght (ANN Model)')\n",
    "plt.title('FS')\n",
    "plt.plot([0,300], [0, 300], color = 'black')\n",
    "plt.show()"
   ]
  },
  {
   "cell_type": "markdown",
   "metadata": {},
   "source": [
    "# Xgboost"
   ]
  },
  {
   "cell_type": "code",
   "execution_count": 87,
   "metadata": {},
   "outputs": [
    {
     "name": "stdout",
     "output_type": "stream",
     "text": [
      "0.011912083197044131 0.9553902138460519\n",
      "2.9225100396920776 0.9553902088822214\n",
      "3.2876386966151117\n"
     ]
    }
   ],
   "source": [
    "from xgboost import XGBRegressor\n",
    " # create regressor object\n",
    "    \n",
    "regressor = XGBRegressor()\n",
    "#regressor = RandomForestRegressor(n_estimators = 200, random_state = 0)\n",
    "# fit the regressor with X and Y data\n",
    "regressor.fit(train_x, train_y)\n",
    "y_pred = regressor.predict(test_x).reshape(-1,1)\n",
    "print(mean_absolute_error(y_pred, test_y), r2_score(y_pred, test_y))\n",
    "test_y_np = np.array(test_y)\n",
    "test_y_np = test_y_np.reshape(-1,1)\n",
    "y_pred_in = scaler_fs.inverse_transform(y_pred)\n",
    "y_test_in = scaler_fs.inverse_transform(test_y_np)\n",
    "\n",
    "#y_pred_in = scaler_lat.inverse_transform(y_pred)\n",
    "#y_test_in = scaler_lat.inverse_transform(test_y_np)\n",
    "\n",
    "print(mean_absolute_error(y_pred_in, y_test_in), r2_score(y_pred_in, y_test_in))\n",
    "\n",
    "print(mean_absolute_percentage_error(y_test_in, y_pred_in)*100)"
   ]
  },
  {
   "cell_type": "code",
   "execution_count": 88,
   "metadata": {},
   "outputs": [
    {
     "name": "stdout",
     "output_type": "stream",
     "text": [
      "[[ 55.6284523   54.7       ]\n",
      " [ 55.41279602  55.25      ]\n",
      " [ 52.20975113  49.67      ]\n",
      " [ 62.79375839  63.        ]\n",
      " [ 49.40813065  49.2       ]\n",
      " [110.52780914 110.        ]\n",
      " [102.42089844  93.12      ]\n",
      " [117.10920715 118.955     ]\n",
      " [102.56536102  98.6       ]\n",
      " [245.51156616 213.37      ]\n",
      " [ 40.17174911  30.8       ]\n",
      " [ 39.17990875  38.8       ]\n",
      " [ 48.54528427  47.66      ]\n",
      " [ 83.83740997  80.82639204]\n",
      " [100.22296906 100.749     ]\n",
      " [ 44.05389023  44.        ]\n",
      " [ 43.97223663  42.88      ]\n",
      " [ 75.12301636  78.12      ]\n",
      " [ 50.05853271  50.05      ]\n",
      " [100.45666504  99.93      ]\n",
      " [ 59.73226547  61.8       ]\n",
      " [244.92782593 179.01      ]\n",
      " [ 65.0943222   66.15      ]\n",
      " [ 95.94891357  89.7       ]\n",
      " [102.51046753  97.5       ]\n",
      " [123.53380585 121.47      ]\n",
      " [ 91.72942352  92.6       ]\n",
      " [ 59.79291534  60.2       ]\n",
      " [101.08734894 103.        ]\n",
      " [ 46.86274338  45.84      ]\n",
      " [ 57.29657745  57.        ]\n",
      " [ 65.69304657  66.5       ]\n",
      " [ 61.19725037  64.6       ]\n",
      " [136.15783691 122.667     ]\n",
      " [101.1415329  104.        ]\n",
      " [ 91.46153259  94.06      ]\n",
      " [ 31.64635468  31.9       ]\n",
      " [ 39.17990875  39.3       ]\n",
      " [ 70.88969421  67.2       ]\n",
      " [102.91421509 105.        ]\n",
      " [ 79.2041626   78.7       ]\n",
      " [ 61.0827179   61.1       ]\n",
      " [135.59684753 136.        ]\n",
      " [ 49.86422729  50.61      ]\n",
      " [ 24.07613182  22.76      ]\n",
      " [ 39.85317612  42.74      ]\n",
      " [ 78.56700134  78.4       ]\n",
      " [ 52.90864182  51.89      ]\n",
      " [ 61.33098984  62.16      ]\n",
      " [ 64.78775787  63.36      ]\n",
      " [175.12611389 182.571     ]\n",
      " [ 28.3874321   28.24      ]\n",
      " [ 85.81359863  86.76      ]\n",
      " [ 15.06966686  14.21      ]\n",
      " [ 48.10921478  49.2       ]\n",
      " [ 36.85129166  38.2       ]\n",
      " [ 50.83554459  52.25      ]\n",
      " [ 55.81129074  55.54618841]\n",
      " [ 37.69602203  38.43      ]\n",
      " [ 53.98271179  54.74      ]\n",
      " [ 51.40631866  50.4       ]\n",
      " [ 57.59531021  55.89      ]\n",
      " [122.81815338 121.668     ]\n",
      " [102.34906006  96.3       ]\n",
      " [126.0033493  123.629     ]\n",
      " [ 60.65130997  59.8       ]\n",
      " [ 84.32388306  81.5       ]\n",
      " [ 54.90560532  54.1       ]\n",
      " [ 60.76207352  57.9       ]\n",
      " [ 43.98427582  44.51      ]\n",
      " [109.827034   111.        ]\n",
      " [ 86.38611603  91.        ]\n",
      " [ 62.42668915  59.71      ]\n",
      " [ 37.11479187  36.97      ]\n",
      " [ 64.6668396   64.5       ]\n",
      " [ 84.00255585  85.3       ]\n",
      " [ 56.78995895  59.2       ]\n",
      " [ 52.94466019  53.67      ]\n",
      " [ 32.78336334  32.53      ]\n",
      " [ 93.2359848   91.355     ]\n",
      " [ 54.13624191  52.36      ]\n",
      " [100.48775482 101.        ]\n",
      " [111.03300476 112.        ]\n",
      " [ 56.44000626  55.36      ]\n",
      " [ 62.29996109  60.5       ]\n",
      " [ 37.20404816  35.05      ]\n",
      " [ 58.93353653  57.13470147]\n",
      " [ 40.2121315   39.84      ]]\n"
     ]
    },
    {
     "data": {
      "image/png": "[encoded data removed]",
      "text/plain": [
       "<Figure size 432x288 with 1 Axes>"
      ]
     },
     "metadata": {
      "needs_background": "light"
     },
     "output_type": "display_data"
    }
   ],
   "source": [
    "t = []\n",
    "k = y_test_in.shape\n",
    "for i in range(0, k[0]):\n",
    "    p = (float)(y_pred_in[i])\n",
    "    m = (float)(y_test_in[i])\n",
    "    k = [p, m] \n",
    "    t.append(k)\n",
    "t = np.array(t)\n",
    "print(t)\n",
    "import matplotlib.pyplot as plt\n",
    "plt.scatter(y_test_in, y_pred_in, marker = '.', c = \"red\")\n",
    "plt.xlabel('True Fracture Strength (MD Simulation)')\n",
    "plt.ylabel('Predicted Fracture Strenght (ANN Model)')\n",
    "plt.title('FS')\n",
    "plt.plot([0,300], [0, 300], color = 'black')\n",
    "plt.show()"
   ]
  },
  {
   "cell_type": "markdown",
   "metadata": {},
   "source": [
    "# SVM Regressor"
   ]
  },
  {
   "cell_type": "code",
   "execution_count": 65,
   "metadata": {},
   "outputs": [
    {
     "name": "stdout",
     "output_type": "stream",
     "text": [
      "0.05396820594851103 0.42437182861378253\n",
      "13.2405596474077 0.4243718286137824\n",
      "23.177800385675187\n"
     ]
    }
   ],
   "source": [
    "from sklearn.svm import SVR\n",
    "regressor = SVR(kernel = 'linear')\n",
    "regressor.fit(train_x, train_y)\n",
    "y_pred = regressor.predict(test_x).reshape(-1,1)\n",
    "print(mean_absolute_error(y_pred, test_y), r2_score(y_pred, test_y))\n",
    "test_y_np = np.array(test_y)\n",
    "test_y_np = test_y_np.reshape(-1,1)\n",
    "y_pred_in = scaler_fs.inverse_transform(y_pred)\n",
    "y_test_in = scaler_fs.inverse_transform(test_y_np)\n",
    "\n",
    "#y_pred_in = scaler_lat.inverse_transform(y_pred)\n",
    "#y_test_in = scaler_lat.inverse_transform(test_y_np)\n",
    "\n",
    "print(mean_absolute_error(y_pred_in, y_test_in), r2_score(y_pred_in, y_test_in))\n",
    "\n",
    "print(mean_absolute_percentage_error(y_test_in, y_pred_in)*100)"
   ]
  },
  {
   "cell_type": "code",
   "execution_count": 66,
   "metadata": {},
   "outputs": [
    {
     "data": {
      "image/png": "[encoded data removed]",
      "text/plain": [
       "<Figure size 432x288 with 1 Axes>"
      ]
     },
     "metadata": {
      "needs_background": "light"
     },
     "output_type": "display_data"
    }
   ],
   "source": [
    "t = []\n",
    "k = y_test_in.shape\n",
    "for i in range(0, k[0]):\n",
    "    p = (float)(y_pred_in[i])\n",
    "    m = (float)(y_test_in[i])\n",
    "    k = [p, m] \n",
    "    t.append(k)\n",
    "t = np.array(t)\n",
    "#print(t)\n",
    "import matplotlib.pyplot as plt\n",
    "plt.scatter(y_test_in, y_pred_in, marker = '.', c = \"red\")\n",
    "plt.xlabel('True Fracture Strength (MD Simulation)')\n",
    "plt.ylabel('Predicted Fracture Strenght (ANN Model)')\n",
    "plt.title('FS')\n",
    "plt.plot([0,300], [0, 300], color = 'black')\n",
    "plt.show()"
   ]
  },
  {
   "cell_type": "markdown",
   "metadata": {},
   "source": [
    "# KNN Regression"
   ]
  },
  {
   "cell_type": "code",
   "execution_count": 67,
   "metadata": {},
   "outputs": [
    {
     "name": "stdout",
     "output_type": "stream",
     "text": [
      "RMSE value for k=  1 is: 0.11656812056327326\n",
      "RMSE value for k=  2 is: 0.09892097160005617\n",
      "RMSE value for k=  3 is: 0.08606029444456821\n",
      "RMSE value for k=  4 is: 0.09404401618887118\n",
      "RMSE value for k=  5 is: 0.09747308144531457\n",
      "RMSE value for k=  6 is: 0.09864385203649104\n",
      "RMSE value for k=  7 is: 0.09348323876922494\n",
      "RMSE value for k=  8 is: 0.09306966304592768\n",
      "RMSE value for k=  9 is: 0.08831397898691375\n",
      "RMSE value for k=  10 is: 0.09306252360030642\n",
      "RMSE value for k=  11 is: 0.08614745476763123\n",
      "RMSE value for k=  12 is: 0.08341357383786\n",
      "RMSE value for k=  13 is: 0.08265695809708676\n",
      "RMSE value for k=  14 is: 0.08377954569761477\n",
      "RMSE value for k=  15 is: 0.08350373168929151\n",
      "RMSE value for k=  16 is: 0.08181706526489159\n",
      "RMSE value for k=  17 is: 0.08148909521601025\n",
      "RMSE value for k=  18 is: 0.08343995833946745\n",
      "RMSE value for k=  19 is: 0.0840565889911436\n",
      "RMSE value for k=  20 is: 0.08423959865563227\n",
      "RMSE value for k=  21 is: 0.08380925863538281\n",
      "RMSE value for k=  22 is: 0.08372419446364886\n",
      "RMSE value for k=  23 is: 0.08399016823447751\n",
      "RMSE value for k=  24 is: 0.08459689033480124\n",
      "RMSE value for k=  25 is: 0.0820243095451405\n",
      "RMSE value for k=  26 is: 0.08156542112245667\n",
      "RMSE value for k=  27 is: 0.08179070694972211\n",
      "RMSE value for k=  28 is: 0.08265031617531815\n",
      "RMSE value for k=  29 is: 0.08293945344582865\n",
      "RMSE value for k=  30 is: 0.08347552800642626\n",
      "RMSE value for k=  31 is: 0.08435371917107858\n",
      "RMSE value for k=  32 is: 0.08530617330607414\n",
      "RMSE value for k=  33 is: 0.08644608694070689\n",
      "RMSE value for k=  34 is: 0.08689658451968761\n",
      "RMSE value for k=  35 is: 0.08798478358134086\n",
      "RMSE value for k=  36 is: 0.08853755880641412\n",
      "RMSE value for k=  37 is: 0.08958393249391436\n",
      "RMSE value for k=  38 is: 0.08978592328779975\n",
      "RMSE value for k=  39 is: 0.09033064970820226\n",
      "RMSE value for k=  40 is: 0.0903938546963633\n",
      "RMSE value for k=  41 is: 0.09082400230496109\n",
      "RMSE value for k=  42 is: 0.0913712934452161\n",
      "RMSE value for k=  43 is: 0.091848990294193\n",
      "RMSE value for k=  44 is: 0.09246141277603198\n",
      "RMSE value for k=  45 is: 0.09145341518491557\n",
      "RMSE value for k=  46 is: 0.09089394484832954\n",
      "RMSE value for k=  47 is: 0.09101334010772485\n",
      "RMSE value for k=  48 is: 0.09102804068935062\n",
      "RMSE value for k=  49 is: 0.09158907615282172\n",
      "RMSE value for k=  50 is: 0.09164306836377754\n"
     ]
    }
   ],
   "source": [
    "#import required packages\n",
    "from sklearn import neighbors\n",
    "from sklearn.metrics import mean_squared_error \n",
    "from math import sqrt\n",
    "import matplotlib.pyplot as plt\n",
    "%matplotlib inline\n",
    "rmse_val = [] #to store rmse values for different k\n",
    "for K in range(50):\n",
    "    K = K+1\n",
    "    model = neighbors.KNeighborsRegressor(n_neighbors = K)\n",
    "\n",
    "    model.fit(train_x, train_y)  #fit the model\n",
    "    y_pred=model.predict(test_x) #make prediction on test set\n",
    "    error = sqrt(mean_squared_error(test_y,y_pred)) #calculate rmse\n",
    "    rmse_val.append(error) #store rmse values\n",
    "    print('RMSE value for k= ' , K , 'is:', error)"
   ]
  },
  {
   "cell_type": "code",
   "execution_count": 68,
   "metadata": {},
   "outputs": [
    {
     "data": {
      "text/plain": [
       "<AxesSubplot:>"
      ]
     },
     "execution_count": 68,
     "metadata": {},
     "output_type": "execute_result"
    },
    {
     "data": {
      "image/png": "[encoded data removed]",
      "text/plain": [
       "<Figure size 432x288 with 1 Axes>"
      ]
     },
     "metadata": {
      "needs_background": "light"
     },
     "output_type": "display_data"
    }
   ],
   "source": [
    "curve = pd.DataFrame(rmse_val) #elbow curve \n",
    "curve.plot()"
   ]
  },
  {
   "cell_type": "code",
   "execution_count": 69,
   "metadata": {
    "scrolled": true
   },
   "outputs": [
    {
     "name": "stdout",
     "output_type": "stream",
     "text": [
      "0.04535104459937428 0.4393998844607523\n",
      "11.126425282010489 0.4393998844607523\n",
      "15.498449160155015\n"
     ]
    }
   ],
   "source": [
    "model = neighbors.KNeighborsRegressor(n_neighbors = 13)\n",
    "\n",
    "model.fit(train_x, train_y)  #fit the model\n",
    "y_pred=model.predict(test_x).reshape(-1,1) #make prediction on test set\n",
    "\n",
    "print(mean_absolute_error(y_pred, test_y), r2_score(y_pred, test_y))\n",
    "test_y_np = np.array(test_y)\n",
    "test_y_np = test_y_np.reshape(-1,1)\n",
    "y_pred_in = scaler_fs.inverse_transform(y_pred)\n",
    "y_test_in = scaler_fs.inverse_transform(test_y_np)\n",
    "\n",
    "#y_pred_in = scaler_lat.inverse_transform(y_pred)\n",
    "#y_test_in = scaler_lat.inverse_transform(test_y_np)\n",
    "\n",
    "print(mean_absolute_error(y_pred_in, y_test_in), r2_score(y_pred_in, y_test_in))\n",
    "\n",
    "print(mean_absolute_percentage_error(y_test_in, y_pred_in)*100)"
   ]
  },
  {
   "cell_type": "code",
   "execution_count": 70,
   "metadata": {},
   "outputs": [
    {
     "data": {
      "image/png": "[encoded data removed]",
      "text/plain": [
       "<Figure size 432x288 with 1 Axes>"
      ]
     },
     "metadata": {
      "needs_background": "light"
     },
     "output_type": "display_data"
    }
   ],
   "source": [
    "t = []\n",
    "k = y_test_in.shape\n",
    "for i in range(0, k[0]):\n",
    "    p = (float)(y_pred_in[i])\n",
    "    m = (float)(y_test_in[i])\n",
    "    k = [p, m] \n",
    "    t.append(k)\n",
    "t = np.array(t)\n",
    "#print(t)\n",
    "import matplotlib.pyplot as plt\n",
    "plt.scatter(y_test_in, y_pred_in, marker = '.', c = \"red\")\n",
    "plt.xlabel('True Fracture Strength (MD Simulation)')\n",
    "plt.ylabel('Predicted Fracture Strenght (ANN Model)')\n",
    "plt.title('FS')\n",
    "plt.plot([0,300], [0, 300], color = 'black')\n",
    "plt.show()"
   ]
  },
  {
   "cell_type": "markdown",
   "metadata": {},
   "source": [
    "# DNN Model"
   ]
  },
  {
   "cell_type": "code",
   "execution_count": 90,
   "metadata": {},
   "outputs": [
    {
     "data": {
      "text/plain": [
       "'C:\\\\Users\\\\harik\\\\OneDrive\\\\Documents\\\\Python\\\\Graphene\\\\ANN\\\\6_layer_64-64-32-32-16-8'"
      ]
     },
     "execution_count": 90,
     "metadata": {},
     "output_type": "execute_result"
    }
   ],
   "source": [
    "path = r'C:/Users/harik/OneDrive/Documents/Python/Graphene/ANN/6_layer_64-64-32-32-16-8/'\n",
    "os.chdir(path)\n",
    "os.getcwd()"
   ]
  },
  {
   "cell_type": "code",
   "execution_count": 91,
   "metadata": {},
   "outputs": [
    {
     "name": "stdout",
     "output_type": "stream",
     "text": [
      "Loaded model from disk\n"
     ]
    }
   ],
   "source": [
    "from keras.models import model_from_json\n",
    "json_file = open('model.json', 'r')\n",
    "loaded_model_json = json_file.read()\n",
    "json_file.close()\n",
    "loaded_model = model_from_json(loaded_model_json)\n",
    "# load weights into new model\n",
    "loaded_model.load_weights(\"model.h5\")\n",
    "print(\"Loaded model from disk\")"
   ]
  },
  {
   "cell_type": "code",
   "execution_count": 92,
   "metadata": {},
   "outputs": [
    {
     "name": "stdout",
     "output_type": "stream",
     "text": [
      "0.002454926777164982 0.9976753244084317\n",
      "0.6022919797665687 0.9976753259301187\n",
      "1.0572896510278311\n"
     ]
    }
   ],
   "source": [
    "y_pred = loaded_model.predict(test_x)\n",
    "print(mean_absolute_error(y_pred, test_y), r2_score(y_pred, test_y))\n",
    "test_y_np = np.array(test_y)\n",
    "test_y_np = test_y_np.reshape(-1,1)\n",
    "y_pred_in = scaler_fs.inverse_transform(y_pred)\n",
    "y_test_in = scaler_fs.inverse_transform(test_y_np)\n",
    "\n",
    "#y_pred_in = scaler_lat.inverse_transform(y_pred)\n",
    "#y_test_in = scaler_lat.inverse_transform(test_y_np)\n",
    "\n",
    "print(mean_absolute_error(y_pred_in, y_test_in), r2_score(y_pred_in, y_test_in))\n",
    "\n",
    "print(mean_absolute_percentage_error(y_test_in, y_pred_in)*100)"
   ]
  },
  {
   "cell_type": "code",
   "execution_count": 31,
   "metadata": {},
   "outputs": [
    {
     "data": {
      "image/png": "[encoded data removed]",
      "text/plain": [
       "<Figure size 432x288 with 1 Axes>"
      ]
     },
     "metadata": {
      "needs_background": "light"
     },
     "output_type": "display_data"
    }
   ],
   "source": [
    "t = []\n",
    "k = y_test_in.shape\n",
    "for i in range(0, k[0]):\n",
    "    p = (float)(y_pred_in[i])\n",
    "    m = (float)(y_test_in[i])\n",
    "    k = [p, m] \n",
    "    t.append(k)\n",
    "t = np.array(t)\n",
    "#print(t)\n",
    "import matplotlib.pyplot as plt\n",
    "plt.scatter(y_test_in, y_pred_in, marker = '.', c = \"red\")\n",
    "plt.xlabel('True Fracture Strength (MD Simulation)')\n",
    "plt.ylabel('Predicted Fracture Strenght (ANN Model)')\n",
    "plt.title('FS')\n",
    "plt.plot([0,300], [0, 300], color = 'black')\n",
    "plt.show()"
   ]
  },
  {
   "cell_type": "code",
   "execution_count": null,
   "metadata": {},
   "outputs": [],
   "source": []
  },
  {
   "cell_type": "code",
   "execution_count": null,
   "metadata": {},
   "outputs": [],
   "source": []
  },
  {
   "cell_type": "code",
   "execution_count": null,
   "metadata": {},
   "outputs": [],
   "source": []
  },
  {
   "cell_type": "code",
   "execution_count": null,
   "metadata": {},
   "outputs": [],
   "source": []
  },
  {
   "cell_type": "code",
   "execution_count": null,
   "metadata": {},
   "outputs": [],
   "source": []
  },
  {
   "cell_type": "markdown",
   "metadata": {},
   "source": [
    "# End of Module-Extra sections"
   ]
  },
  {
   "cell_type": "code",
   "execution_count": 163,
   "metadata": {},
   "outputs": [
    {
     "data": {
      "image/png": "[encoded data removed]",
      "text/plain": [
       "<Figure size 432x288 with 1 Axes>"
      ]
     },
     "metadata": {
      "needs_background": "light"
     },
     "output_type": "display_data"
    }
   ],
   "source": [
    "import matplotlib.pyplot as plt\n",
    "plt.scatter(y_test_in, y_pred_in, marker = '.', c = \"red\")\n",
    "plt.xlabel('True Fracture Strength (MD Simulation)')\n",
    "plt.ylabel('Predicted Fracture Strenght (ANN Model)')\n",
    "plt.title('FS')\n",
    "plt.plot([0,300], [0, 300], color = 'black')\n",
    "plt.show()"
   ]
  },
  {
   "cell_type": "code",
   "execution_count": 34,
   "metadata": {},
   "outputs": [
    {
     "name": "stdout",
     "output_type": "stream",
     "text": [
      "Saved model to disk\n"
     ]
    }
   ],
   "source": [
    "model_json = model.to_json()\n",
    "with open(\"model_2.json\", \"w\") as json_file:\n",
    "    json_file.write(model_json)\n",
    "# serialize weights to HDF5\n",
    "model.save_weights(\"model_2.h5\")\n",
    "print(\"Saved model to disk\")"
   ]
  },
  {
   "cell_type": "code",
   "execution_count": 37,
   "metadata": {},
   "outputs": [],
   "source": [
    "# convert the history.history dict to a pandas DataFrame:     \n",
    "hist_df_1 = pd.DataFrame(history_1.history) \n",
    "hist_df_2 = pd.DataFrame(history_2.history)\n",
    "hist_df_3 = pd.DataFrame(history_3.history)\n",
    "hist_df = hist_df_1.append(hist_df_2, ignore_index = True)\n",
    "hist_df = hist_df.append(hist_df_3, ignore_index = True)\n",
    "# or save to csv: \n",
    "hist_csv_file = 'history_2.csv'\n",
    "with open(hist_csv_file, mode='w') as f:\n",
    "    hist_df.to_csv(f)\n",
    "    \n",
    "file1 = open(\"info_2.txt\",\"a\")\n",
    "file1.write(\"Learning rate = 0.00005 for 200 train test split = 0.20 loss = mae \\n\")\n",
    "file1.write(\"Learning rate = 0.00001 for 100 train test split = 0.20 loss = mae \\n\")\n",
    "file1.write(\"Learning rate = 0.000005 for 100 train test split = 0.20 loss = mae \\n\")\n",
    "file1.close()"
   ]
  },
  {
   "cell_type": "code",
   "execution_count": null,
   "metadata": {},
   "outputs": [],
   "source": []
  },
  {
   "cell_type": "code",
   "execution_count": null,
   "metadata": {},
   "outputs": [],
   "source": []
  },
  {
   "cell_type": "code",
   "execution_count": null,
   "metadata": {},
   "outputs": [],
   "source": []
  },
  {
   "cell_type": "code",
   "execution_count": null,
   "metadata": {},
   "outputs": [],
   "source": []
  },
  {
   "cell_type": "code",
   "execution_count": null,
   "metadata": {},
   "outputs": [],
   "source": []
  },
  {
   "cell_type": "code",
   "execution_count": 38,
   "metadata": {},
   "outputs": [
    {
     "name": "stdout",
     "output_type": "stream",
     "text": [
      "Loaded model from disk\n"
     ]
    }
   ],
   "source": [
    "from keras.models import model_from_json\n",
    "json_file = open('model_2.json', 'r')\n",
    "loaded_model_json = json_file.read()\n",
    "json_file.close()\n",
    "loaded_model = model_from_json(loaded_model_json)\n",
    "# load weights into new model\n",
    "loaded_model.load_weights(\"model_2.h5\")\n",
    "print(\"Loaded model from disk\")"
   ]
  },
  {
   "cell_type": "code",
   "execution_count": 39,
   "metadata": {},
   "outputs": [
    {
     "name": "stdout",
     "output_type": "stream",
     "text": [
      "WARNING:tensorflow:5 out of the last 13 calls to <function Model.make_predict_function.<locals>.predict_function at 0x000001AD07F0F9D0> triggered tf.function retracing. Tracing is expensive and the excessive number of tracings could be due to (1) creating @tf.function repeatedly in a loop, (2) passing tensors with different shapes, (3) passing Python objects instead of tensors. For (1), please define your @tf.function outside of the loop. For (2), @tf.function has experimental_relax_shapes=True option that relaxes argument shapes that can avoid unnecessary retracing. For (3), please refer to https://www.tensorflow.org/guide/function#controlling_retracing and https://www.tensorflow.org/api_docs/python/tf/function for  more details.\n"
     ]
    },
    {
     "name": "stderr",
     "output_type": "stream",
     "text": [
      "WARNING:tensorflow:5 out of the last 13 calls to <function Model.make_predict_function.<locals>.predict_function at 0x000001AD07F0F9D0> triggered tf.function retracing. Tracing is expensive and the excessive number of tracings could be due to (1) creating @tf.function repeatedly in a loop, (2) passing tensors with different shapes, (3) passing Python objects instead of tensors. For (1), please define your @tf.function outside of the loop. For (2), @tf.function has experimental_relax_shapes=True option that relaxes argument shapes that can avoid unnecessary retracing. For (3), please refer to https://www.tensorflow.org/guide/function#controlling_retracing and https://www.tensorflow.org/api_docs/python/tf/function for  more details.\n"
     ]
    },
    {
     "name": "stdout",
     "output_type": "stream",
     "text": [
      "0.009516710203451817 0.9905244277011236\n",
      "0.028568718188526746\n",
      "2.3348291135347807 0.9905244311459185\n"
     ]
    }
   ],
   "source": [
    "y_pred = loaded_model.predict(test_x)\n",
    "print(mean_absolute_error(y_pred, test_y), r2_score(y_pred, test_y))\n",
    "test_y_np = np.array(test_y)\n",
    "test_y_np = test_y_np.reshape(-1,1)\n",
    "y_pred_in = scaler_fs.inverse_transform(y_pred)\n",
    "y_test_in = scaler_fs.inverse_transform(test_y_np)\n",
    "from sklearn.metrics import mean_absolute_percentage_error\n",
    "print(mean_absolute_percentage_error(y_test_in, y_pred_in))\n",
    "print(mean_absolute_error(y_pred_in, y_test_in), r2_score(y_pred_in, y_test_in))"
   ]
  },
  {
   "cell_type": "code",
   "execution_count": 40,
   "metadata": {},
   "outputs": [
    {
     "name": "stdout",
     "output_type": "stream",
     "text": [
      "Model: \"sequential_4\"\n",
      "_________________________________________________________________\n",
      "Layer (type)                 Output Shape              Param #   \n",
      "=================================================================\n",
      "dense_36 (Dense)             (None, 8)                 32        \n",
      "_________________________________________________________________\n",
      "dense_37 (Dense)             (None, 32)                288       \n",
      "_________________________________________________________________\n",
      "dense_38 (Dense)             (None, 64)                2112      \n",
      "_________________________________________________________________\n",
      "dense_39 (Dense)             (None, 128)               8320      \n",
      "_________________________________________________________________\n",
      "dense_40 (Dense)             (None, 128)               16512     \n",
      "_________________________________________________________________\n",
      "dense_41 (Dense)             (None, 128)               16512     \n",
      "_________________________________________________________________\n",
      "dense_42 (Dense)             (None, 64)                8256      \n",
      "_________________________________________________________________\n",
      "dense_43 (Dense)             (None, 32)                2080      \n",
      "_________________________________________________________________\n",
      "dense_44 (Dense)             (None, 1)                 33        \n",
      "=================================================================\n",
      "Total params: 54,145\n",
      "Trainable params: 54,145\n",
      "Non-trainable params: 0\n",
      "_________________________________________________________________\n"
     ]
    }
   ],
   "source": [
    "loaded_model.summary()"
   ]
  },
  {
   "cell_type": "code",
   "execution_count": null,
   "metadata": {},
   "outputs": [],
   "source": []
  },
  {
   "cell_type": "code",
   "execution_count": 141,
   "metadata": {},
   "outputs": [],
   "source": [
    "test_x_in = test_x.copy()\n",
    "test_x_in.LO = scaler_lat.inverse_transform(test_x_in[['LO']])\n",
    "test_x_in.CS = scaler_crack.inverse_transform(test_x_in[['CS']])\n",
    "test_x_in.T = scaler_temp.inverse_transform(test_x_in[['T']]) "
   ]
  },
  {
   "cell_type": "code",
   "execution_count": 142,
   "metadata": {},
   "outputs": [
    {
     "data": {
      "text/html": [
       "<div>\n",
       "<style scoped>\n",
       "    .dataframe tbody tr th:only-of-type {\n",
       "        vertical-align: middle;\n",
       "    }\n",
       "\n",
       "    .dataframe tbody tr th {\n",
       "        vertical-align: top;\n",
       "    }\n",
       "\n",
       "    .dataframe thead th {\n",
       "        text-align: right;\n",
       "    }\n",
       "</style>\n",
       "<table border=\"1\" class=\"dataframe\">\n",
       "  <thead>\n",
       "    <tr style=\"text-align: right;\">\n",
       "      <th></th>\n",
       "      <th>LO</th>\n",
       "      <th>T</th>\n",
       "      <th>CS</th>\n",
       "    </tr>\n",
       "  </thead>\n",
       "  <tbody>\n",
       "    <tr>\n",
       "      <th>26</th>\n",
       "      <td>0.0</td>\n",
       "      <td>300.0</td>\n",
       "      <td>0.8</td>\n",
       "    </tr>\n",
       "    <tr>\n",
       "      <th>86</th>\n",
       "      <td>13.9</td>\n",
       "      <td>600.0</td>\n",
       "      <td>0.5</td>\n",
       "    </tr>\n",
       "    <tr>\n",
       "      <th>54</th>\n",
       "      <td>13.9</td>\n",
       "      <td>0.0</td>\n",
       "      <td>0.0</td>\n",
       "    </tr>\n",
       "    <tr>\n",
       "      <th>12</th>\n",
       "      <td>0.0</td>\n",
       "      <td>100.0</td>\n",
       "      <td>0.3</td>\n",
       "    </tr>\n",
       "    <tr>\n",
       "      <th>65</th>\n",
       "      <td>13.9</td>\n",
       "      <td>100.0</td>\n",
       "      <td>0.2</td>\n",
       "    </tr>\n",
       "    <tr>\n",
       "      <th>50</th>\n",
       "      <td>0.0</td>\n",
       "      <td>1200.0</td>\n",
       "      <td>0.5</td>\n",
       "    </tr>\n",
       "    <tr>\n",
       "      <th>49</th>\n",
       "      <td>0.0</td>\n",
       "      <td>1200.0</td>\n",
       "      <td>0.4</td>\n",
       "    </tr>\n",
       "    <tr>\n",
       "      <th>40</th>\n",
       "      <td>0.0</td>\n",
       "      <td>900.0</td>\n",
       "      <td>0.4</td>\n",
       "    </tr>\n",
       "    <tr>\n",
       "      <th>68</th>\n",
       "      <td>13.9</td>\n",
       "      <td>100.0</td>\n",
       "      <td>0.5</td>\n",
       "    </tr>\n",
       "    <tr>\n",
       "      <th>20</th>\n",
       "      <td>0.0</td>\n",
       "      <td>300.0</td>\n",
       "      <td>0.2</td>\n",
       "    </tr>\n",
       "    <tr>\n",
       "      <th>2</th>\n",
       "      <td>0.0</td>\n",
       "      <td>0.0</td>\n",
       "      <td>0.2</td>\n",
       "    </tr>\n",
       "    <tr>\n",
       "      <th>82</th>\n",
       "      <td>13.9</td>\n",
       "      <td>600.0</td>\n",
       "      <td>0.1</td>\n",
       "    </tr>\n",
       "    <tr>\n",
       "      <th>123</th>\n",
       "      <td>30.0</td>\n",
       "      <td>100.0</td>\n",
       "      <td>0.8</td>\n",
       "    </tr>\n",
       "    <tr>\n",
       "      <th>75</th>\n",
       "      <td>13.9</td>\n",
       "      <td>300.0</td>\n",
       "      <td>0.3</td>\n",
       "    </tr>\n",
       "    <tr>\n",
       "      <th>35</th>\n",
       "      <td>0.0</td>\n",
       "      <td>600.0</td>\n",
       "      <td>0.8</td>\n",
       "    </tr>\n",
       "    <tr>\n",
       "      <th>38</th>\n",
       "      <td>0.0</td>\n",
       "      <td>900.0</td>\n",
       "      <td>0.2</td>\n",
       "    </tr>\n",
       "    <tr>\n",
       "      <th>115</th>\n",
       "      <td>30.0</td>\n",
       "      <td>0.0</td>\n",
       "      <td>0.8</td>\n",
       "    </tr>\n",
       "    <tr>\n",
       "      <th>58</th>\n",
       "      <td>13.9</td>\n",
       "      <td>0.0</td>\n",
       "      <td>0.4</td>\n",
       "    </tr>\n",
       "    <tr>\n",
       "      <th>122</th>\n",
       "      <td>30.0</td>\n",
       "      <td>100.0</td>\n",
       "      <td>0.7</td>\n",
       "    </tr>\n",
       "    <tr>\n",
       "      <th>83</th>\n",
       "      <td>13.9</td>\n",
       "      <td>600.0</td>\n",
       "      <td>0.2</td>\n",
       "    </tr>\n",
       "    <tr>\n",
       "      <th>110</th>\n",
       "      <td>30.0</td>\n",
       "      <td>0.0</td>\n",
       "      <td>0.3</td>\n",
       "    </tr>\n",
       "    <tr>\n",
       "      <th>6</th>\n",
       "      <td>0.0</td>\n",
       "      <td>0.0</td>\n",
       "      <td>0.6</td>\n",
       "    </tr>\n",
       "    <tr>\n",
       "      <th>96</th>\n",
       "      <td>13.9</td>\n",
       "      <td>900.0</td>\n",
       "      <td>0.6</td>\n",
       "    </tr>\n",
       "    <tr>\n",
       "      <th>76</th>\n",
       "      <td>13.9</td>\n",
       "      <td>300.0</td>\n",
       "      <td>0.4</td>\n",
       "    </tr>\n",
       "    <tr>\n",
       "      <th>62</th>\n",
       "      <td>13.9</td>\n",
       "      <td>0.0</td>\n",
       "      <td>0.8</td>\n",
       "    </tr>\n",
       "    <tr>\n",
       "      <th>98</th>\n",
       "      <td>13.9</td>\n",
       "      <td>900.0</td>\n",
       "      <td>0.8</td>\n",
       "    </tr>\n",
       "    <tr>\n",
       "      <th>91</th>\n",
       "      <td>13.9</td>\n",
       "      <td>900.0</td>\n",
       "      <td>0.1</td>\n",
       "    </tr>\n",
       "    <tr>\n",
       "      <th>11</th>\n",
       "      <td>0.0</td>\n",
       "      <td>100.0</td>\n",
       "      <td>0.2</td>\n",
       "    </tr>\n",
       "    <tr>\n",
       "      <th>103</th>\n",
       "      <td>13.9</td>\n",
       "      <td>1200.0</td>\n",
       "      <td>0.4</td>\n",
       "    </tr>\n",
       "    <tr>\n",
       "      <th>80</th>\n",
       "      <td>13.9</td>\n",
       "      <td>300.0</td>\n",
       "      <td>0.8</td>\n",
       "    </tr>\n",
       "  </tbody>\n",
       "</table>\n",
       "</div>"
      ],
      "text/plain": [
       "       LO       T   CS\n",
       "26    0.0   300.0  0.8\n",
       "86   13.9   600.0  0.5\n",
       "54   13.9     0.0  0.0\n",
       "12    0.0   100.0  0.3\n",
       "65   13.9   100.0  0.2\n",
       "50    0.0  1200.0  0.5\n",
       "49    0.0  1200.0  0.4\n",
       "40    0.0   900.0  0.4\n",
       "68   13.9   100.0  0.5\n",
       "20    0.0   300.0  0.2\n",
       "2     0.0     0.0  0.2\n",
       "82   13.9   600.0  0.1\n",
       "123  30.0   100.0  0.8\n",
       "75   13.9   300.0  0.3\n",
       "35    0.0   600.0  0.8\n",
       "38    0.0   900.0  0.2\n",
       "115  30.0     0.0  0.8\n",
       "58   13.9     0.0  0.4\n",
       "122  30.0   100.0  0.7\n",
       "83   13.9   600.0  0.2\n",
       "110  30.0     0.0  0.3\n",
       "6     0.0     0.0  0.6\n",
       "96   13.9   900.0  0.6\n",
       "76   13.9   300.0  0.4\n",
       "62   13.9     0.0  0.8\n",
       "98   13.9   900.0  0.8\n",
       "91   13.9   900.0  0.1\n",
       "11    0.0   100.0  0.2\n",
       "103  13.9  1200.0  0.4\n",
       "80   13.9   300.0  0.8"
      ]
     },
     "execution_count": 142,
     "metadata": {},
     "output_type": "execute_result"
    }
   ],
   "source": [
    "test_x_in"
   ]
  },
  {
   "cell_type": "code",
   "execution_count": 64,
   "metadata": {},
   "outputs": [],
   "source": [
    "test_x = test_data[['LO', 'T', 'CS']]\n",
    "test_y = test_data['FS']\n",
    "train_x = data[['LO', 'T', 'CS']]\n",
    "train_y = data['FS']"
   ]
  },
  {
   "cell_type": "code",
   "execution_count": 36,
   "metadata": {},
   "outputs": [
    {
     "name": "stderr",
     "output_type": "stream",
     "text": [
      "D:\\ananconda3\\lib\\site-packages\\scikeras\\wrappers.py:289: UserWarning: ``build_fn`` will be renamed to ``model`` in a future release, at which point use of ``build_fn`` will raise an Error instead.\n",
      "  warnings.warn(\n",
      "D:\\ananconda3\\lib\\site-packages\\scikeras\\wrappers.py:289: UserWarning: ``build_fn`` will be renamed to ``model`` in a future release, at which point use of ``build_fn`` will raise an Error instead.\n",
      "  warnings.warn(\n",
      "D:\\ananconda3\\lib\\site-packages\\scikeras\\wrappers.py:289: UserWarning: ``build_fn`` will be renamed to ``model`` in a future release, at which point use of ``build_fn`` will raise an Error instead.\n",
      "  warnings.warn(\n"
     ]
    },
    {
     "ename": "KeyboardInterrupt",
     "evalue": "",
     "output_type": "error",
     "traceback": [
      "\u001b[1;31m---------------------------------------------------------------------------\u001b[0m",
      "\u001b[1;31mKeyboardInterrupt\u001b[0m                         Traceback (most recent call last)",
      "\u001b[1;32m~\\AppData\\Local\\Temp/ipykernel_16524/3909960125.py\u001b[0m in \u001b[0;36m<module>\u001b[1;34m\u001b[0m\n\u001b[0;32m     20\u001b[0m \u001b[0mestimator\u001b[0m \u001b[1;33m=\u001b[0m \u001b[0mKerasRegressor\u001b[0m\u001b[1;33m(\u001b[0m\u001b[0mbuild_fn\u001b[0m\u001b[1;33m=\u001b[0m\u001b[0mbaseline_model\u001b[0m\u001b[1;33m,\u001b[0m \u001b[0mepochs\u001b[0m\u001b[1;33m=\u001b[0m\u001b[1;36m100\u001b[0m\u001b[1;33m,\u001b[0m \u001b[0mbatch_size\u001b[0m\u001b[1;33m=\u001b[0m\u001b[1;36m2\u001b[0m\u001b[1;33m,\u001b[0m \u001b[0mverbose\u001b[0m\u001b[1;33m=\u001b[0m\u001b[1;36m0\u001b[0m\u001b[1;33m)\u001b[0m\u001b[1;33m\u001b[0m\u001b[1;33m\u001b[0m\u001b[0m\n\u001b[0;32m     21\u001b[0m \u001b[0mkfold\u001b[0m \u001b[1;33m=\u001b[0m \u001b[0mKFold\u001b[0m\u001b[1;33m(\u001b[0m\u001b[0mn_splits\u001b[0m\u001b[1;33m=\u001b[0m\u001b[1;36m10\u001b[0m\u001b[1;33m)\u001b[0m\u001b[1;33m\u001b[0m\u001b[1;33m\u001b[0m\u001b[0m\n\u001b[1;32m---> 22\u001b[1;33m \u001b[0mresults\u001b[0m \u001b[1;33m=\u001b[0m \u001b[0mcross_val_score\u001b[0m\u001b[1;33m(\u001b[0m\u001b[0mestimator\u001b[0m\u001b[1;33m,\u001b[0m\u001b[0mX\u001b[0m\u001b[1;33m=\u001b[0m \u001b[0mtrain_x\u001b[0m\u001b[1;33m,\u001b[0m \u001b[0my\u001b[0m \u001b[1;33m=\u001b[0m \u001b[0mtrain_y\u001b[0m\u001b[1;33m,\u001b[0m \u001b[0mcv\u001b[0m\u001b[1;33m=\u001b[0m\u001b[0mkfold\u001b[0m\u001b[1;33m)\u001b[0m\u001b[1;33m\u001b[0m\u001b[1;33m\u001b[0m\u001b[0m\n\u001b[0m\u001b[0;32m     23\u001b[0m \u001b[0mprint\u001b[0m\u001b[1;33m(\u001b[0m\u001b[1;34m\"Baseline: %.2f (%.2f) MSE\"\u001b[0m \u001b[1;33m%\u001b[0m \u001b[1;33m(\u001b[0m\u001b[0mresults\u001b[0m\u001b[1;33m.\u001b[0m\u001b[0mmean\u001b[0m\u001b[1;33m(\u001b[0m\u001b[1;33m)\u001b[0m\u001b[1;33m,\u001b[0m \u001b[0mresults\u001b[0m\u001b[1;33m.\u001b[0m\u001b[0mstd\u001b[0m\u001b[1;33m(\u001b[0m\u001b[1;33m)\u001b[0m\u001b[1;33m)\u001b[0m\u001b[1;33m)\u001b[0m\u001b[1;33m\u001b[0m\u001b[1;33m\u001b[0m\u001b[0m\n",
      "\u001b[1;32mD:\\ananconda3\\lib\\site-packages\\sklearn\\model_selection\\_validation.py\u001b[0m in \u001b[0;36mcross_val_score\u001b[1;34m(estimator, X, y, groups, scoring, cv, n_jobs, verbose, fit_params, pre_dispatch, error_score)\u001b[0m\n\u001b[0;32m    507\u001b[0m     \u001b[0mscorer\u001b[0m \u001b[1;33m=\u001b[0m \u001b[0mcheck_scoring\u001b[0m\u001b[1;33m(\u001b[0m\u001b[0mestimator\u001b[0m\u001b[1;33m,\u001b[0m \u001b[0mscoring\u001b[0m\u001b[1;33m=\u001b[0m\u001b[0mscoring\u001b[0m\u001b[1;33m)\u001b[0m\u001b[1;33m\u001b[0m\u001b[1;33m\u001b[0m\u001b[0m\n\u001b[0;32m    508\u001b[0m \u001b[1;33m\u001b[0m\u001b[0m\n\u001b[1;32m--> 509\u001b[1;33m     cv_results = cross_validate(\n\u001b[0m\u001b[0;32m    510\u001b[0m         \u001b[0mestimator\u001b[0m\u001b[1;33m=\u001b[0m\u001b[0mestimator\u001b[0m\u001b[1;33m,\u001b[0m\u001b[1;33m\u001b[0m\u001b[1;33m\u001b[0m\u001b[0m\n\u001b[0;32m    511\u001b[0m         \u001b[0mX\u001b[0m\u001b[1;33m=\u001b[0m\u001b[0mX\u001b[0m\u001b[1;33m,\u001b[0m\u001b[1;33m\u001b[0m\u001b[1;33m\u001b[0m\u001b[0m\n",
      "\u001b[1;32mD:\\ananconda3\\lib\\site-packages\\sklearn\\model_selection\\_validation.py\u001b[0m in \u001b[0;36mcross_validate\u001b[1;34m(estimator, X, y, groups, scoring, cv, n_jobs, verbose, fit_params, pre_dispatch, return_train_score, return_estimator, error_score)\u001b[0m\n\u001b[0;32m    265\u001b[0m     \u001b[1;31m# independent, and that it is pickle-able.\u001b[0m\u001b[1;33m\u001b[0m\u001b[1;33m\u001b[0m\u001b[1;33m\u001b[0m\u001b[0m\n\u001b[0;32m    266\u001b[0m     \u001b[0mparallel\u001b[0m \u001b[1;33m=\u001b[0m \u001b[0mParallel\u001b[0m\u001b[1;33m(\u001b[0m\u001b[0mn_jobs\u001b[0m\u001b[1;33m=\u001b[0m\u001b[0mn_jobs\u001b[0m\u001b[1;33m,\u001b[0m \u001b[0mverbose\u001b[0m\u001b[1;33m=\u001b[0m\u001b[0mverbose\u001b[0m\u001b[1;33m,\u001b[0m \u001b[0mpre_dispatch\u001b[0m\u001b[1;33m=\u001b[0m\u001b[0mpre_dispatch\u001b[0m\u001b[1;33m)\u001b[0m\u001b[1;33m\u001b[0m\u001b[1;33m\u001b[0m\u001b[0m\n\u001b[1;32m--> 267\u001b[1;33m     results = parallel(\n\u001b[0m\u001b[0;32m    268\u001b[0m         delayed(_fit_and_score)(\n\u001b[0;32m    269\u001b[0m             \u001b[0mclone\u001b[0m\u001b[1;33m(\u001b[0m\u001b[0mestimator\u001b[0m\u001b[1;33m)\u001b[0m\u001b[1;33m,\u001b[0m\u001b[1;33m\u001b[0m\u001b[1;33m\u001b[0m\u001b[0m\n",
      "\u001b[1;32mD:\\ananconda3\\lib\\site-packages\\joblib\\parallel.py\u001b[0m in \u001b[0;36m__call__\u001b[1;34m(self, iterable)\u001b[0m\n\u001b[0;32m   1044\u001b[0m                 \u001b[0mself\u001b[0m\u001b[1;33m.\u001b[0m\u001b[0m_iterating\u001b[0m \u001b[1;33m=\u001b[0m \u001b[0mself\u001b[0m\u001b[1;33m.\u001b[0m\u001b[0m_original_iterator\u001b[0m \u001b[1;32mis\u001b[0m \u001b[1;32mnot\u001b[0m \u001b[1;32mNone\u001b[0m\u001b[1;33m\u001b[0m\u001b[1;33m\u001b[0m\u001b[0m\n\u001b[0;32m   1045\u001b[0m \u001b[1;33m\u001b[0m\u001b[0m\n\u001b[1;32m-> 1046\u001b[1;33m             \u001b[1;32mwhile\u001b[0m \u001b[0mself\u001b[0m\u001b[1;33m.\u001b[0m\u001b[0mdispatch_one_batch\u001b[0m\u001b[1;33m(\u001b[0m\u001b[0miterator\u001b[0m\u001b[1;33m)\u001b[0m\u001b[1;33m:\u001b[0m\u001b[1;33m\u001b[0m\u001b[1;33m\u001b[0m\u001b[0m\n\u001b[0m\u001b[0;32m   1047\u001b[0m                 \u001b[1;32mpass\u001b[0m\u001b[1;33m\u001b[0m\u001b[1;33m\u001b[0m\u001b[0m\n\u001b[0;32m   1048\u001b[0m \u001b[1;33m\u001b[0m\u001b[0m\n",
      "\u001b[1;32mD:\\ananconda3\\lib\\site-packages\\joblib\\parallel.py\u001b[0m in \u001b[0;36mdispatch_one_batch\u001b[1;34m(self, iterator)\u001b[0m\n\u001b[0;32m    859\u001b[0m                 \u001b[1;32mreturn\u001b[0m \u001b[1;32mFalse\u001b[0m\u001b[1;33m\u001b[0m\u001b[1;33m\u001b[0m\u001b[0m\n\u001b[0;32m    860\u001b[0m             \u001b[1;32melse\u001b[0m\u001b[1;33m:\u001b[0m\u001b[1;33m\u001b[0m\u001b[1;33m\u001b[0m\u001b[0m\n\u001b[1;32m--> 861\u001b[1;33m                 \u001b[0mself\u001b[0m\u001b[1;33m.\u001b[0m\u001b[0m_dispatch\u001b[0m\u001b[1;33m(\u001b[0m\u001b[0mtasks\u001b[0m\u001b[1;33m)\u001b[0m\u001b[1;33m\u001b[0m\u001b[1;33m\u001b[0m\u001b[0m\n\u001b[0m\u001b[0;32m    862\u001b[0m                 \u001b[1;32mreturn\u001b[0m \u001b[1;32mTrue\u001b[0m\u001b[1;33m\u001b[0m\u001b[1;33m\u001b[0m\u001b[0m\n\u001b[0;32m    863\u001b[0m \u001b[1;33m\u001b[0m\u001b[0m\n",
      "\u001b[1;32mD:\\ananconda3\\lib\\site-packages\\joblib\\parallel.py\u001b[0m in \u001b[0;36m_dispatch\u001b[1;34m(self, batch)\u001b[0m\n\u001b[0;32m    777\u001b[0m         \u001b[1;32mwith\u001b[0m \u001b[0mself\u001b[0m\u001b[1;33m.\u001b[0m\u001b[0m_lock\u001b[0m\u001b[1;33m:\u001b[0m\u001b[1;33m\u001b[0m\u001b[1;33m\u001b[0m\u001b[0m\n\u001b[0;32m    778\u001b[0m             \u001b[0mjob_idx\u001b[0m \u001b[1;33m=\u001b[0m \u001b[0mlen\u001b[0m\u001b[1;33m(\u001b[0m\u001b[0mself\u001b[0m\u001b[1;33m.\u001b[0m\u001b[0m_jobs\u001b[0m\u001b[1;33m)\u001b[0m\u001b[1;33m\u001b[0m\u001b[1;33m\u001b[0m\u001b[0m\n\u001b[1;32m--> 779\u001b[1;33m             \u001b[0mjob\u001b[0m \u001b[1;33m=\u001b[0m \u001b[0mself\u001b[0m\u001b[1;33m.\u001b[0m\u001b[0m_backend\u001b[0m\u001b[1;33m.\u001b[0m\u001b[0mapply_async\u001b[0m\u001b[1;33m(\u001b[0m\u001b[0mbatch\u001b[0m\u001b[1;33m,\u001b[0m \u001b[0mcallback\u001b[0m\u001b[1;33m=\u001b[0m\u001b[0mcb\u001b[0m\u001b[1;33m)\u001b[0m\u001b[1;33m\u001b[0m\u001b[1;33m\u001b[0m\u001b[0m\n\u001b[0m\u001b[0;32m    780\u001b[0m             \u001b[1;31m# A job can complete so quickly than its callback is\u001b[0m\u001b[1;33m\u001b[0m\u001b[1;33m\u001b[0m\u001b[1;33m\u001b[0m\u001b[0m\n\u001b[0;32m    781\u001b[0m             \u001b[1;31m# called before we get here, causing self._jobs to\u001b[0m\u001b[1;33m\u001b[0m\u001b[1;33m\u001b[0m\u001b[1;33m\u001b[0m\u001b[0m\n",
      "\u001b[1;32mD:\\ananconda3\\lib\\site-packages\\joblib\\_parallel_backends.py\u001b[0m in \u001b[0;36mapply_async\u001b[1;34m(self, func, callback)\u001b[0m\n\u001b[0;32m    206\u001b[0m     \u001b[1;32mdef\u001b[0m \u001b[0mapply_async\u001b[0m\u001b[1;33m(\u001b[0m\u001b[0mself\u001b[0m\u001b[1;33m,\u001b[0m \u001b[0mfunc\u001b[0m\u001b[1;33m,\u001b[0m \u001b[0mcallback\u001b[0m\u001b[1;33m=\u001b[0m\u001b[1;32mNone\u001b[0m\u001b[1;33m)\u001b[0m\u001b[1;33m:\u001b[0m\u001b[1;33m\u001b[0m\u001b[1;33m\u001b[0m\u001b[0m\n\u001b[0;32m    207\u001b[0m         \u001b[1;34m\"\"\"Schedule a func to be run\"\"\"\u001b[0m\u001b[1;33m\u001b[0m\u001b[1;33m\u001b[0m\u001b[0m\n\u001b[1;32m--> 208\u001b[1;33m         \u001b[0mresult\u001b[0m \u001b[1;33m=\u001b[0m \u001b[0mImmediateResult\u001b[0m\u001b[1;33m(\u001b[0m\u001b[0mfunc\u001b[0m\u001b[1;33m)\u001b[0m\u001b[1;33m\u001b[0m\u001b[1;33m\u001b[0m\u001b[0m\n\u001b[0m\u001b[0;32m    209\u001b[0m         \u001b[1;32mif\u001b[0m \u001b[0mcallback\u001b[0m\u001b[1;33m:\u001b[0m\u001b[1;33m\u001b[0m\u001b[1;33m\u001b[0m\u001b[0m\n\u001b[0;32m    210\u001b[0m             \u001b[0mcallback\u001b[0m\u001b[1;33m(\u001b[0m\u001b[0mresult\u001b[0m\u001b[1;33m)\u001b[0m\u001b[1;33m\u001b[0m\u001b[1;33m\u001b[0m\u001b[0m\n",
      "\u001b[1;32mD:\\ananconda3\\lib\\site-packages\\joblib\\_parallel_backends.py\u001b[0m in \u001b[0;36m__init__\u001b[1;34m(self, batch)\u001b[0m\n\u001b[0;32m    570\u001b[0m         \u001b[1;31m# Don't delay the application, to avoid keeping the input\u001b[0m\u001b[1;33m\u001b[0m\u001b[1;33m\u001b[0m\u001b[1;33m\u001b[0m\u001b[0m\n\u001b[0;32m    571\u001b[0m         \u001b[1;31m# arguments in memory\u001b[0m\u001b[1;33m\u001b[0m\u001b[1;33m\u001b[0m\u001b[1;33m\u001b[0m\u001b[0m\n\u001b[1;32m--> 572\u001b[1;33m         \u001b[0mself\u001b[0m\u001b[1;33m.\u001b[0m\u001b[0mresults\u001b[0m \u001b[1;33m=\u001b[0m \u001b[0mbatch\u001b[0m\u001b[1;33m(\u001b[0m\u001b[1;33m)\u001b[0m\u001b[1;33m\u001b[0m\u001b[1;33m\u001b[0m\u001b[0m\n\u001b[0m\u001b[0;32m    573\u001b[0m \u001b[1;33m\u001b[0m\u001b[0m\n\u001b[0;32m    574\u001b[0m     \u001b[1;32mdef\u001b[0m \u001b[0mget\u001b[0m\u001b[1;33m(\u001b[0m\u001b[0mself\u001b[0m\u001b[1;33m)\u001b[0m\u001b[1;33m:\u001b[0m\u001b[1;33m\u001b[0m\u001b[1;33m\u001b[0m\u001b[0m\n",
      "\u001b[1;32mD:\\ananconda3\\lib\\site-packages\\joblib\\parallel.py\u001b[0m in \u001b[0;36m__call__\u001b[1;34m(self)\u001b[0m\n\u001b[0;32m    260\u001b[0m         \u001b[1;31m# change the default number of processes to -1\u001b[0m\u001b[1;33m\u001b[0m\u001b[1;33m\u001b[0m\u001b[1;33m\u001b[0m\u001b[0m\n\u001b[0;32m    261\u001b[0m         \u001b[1;32mwith\u001b[0m \u001b[0mparallel_backend\u001b[0m\u001b[1;33m(\u001b[0m\u001b[0mself\u001b[0m\u001b[1;33m.\u001b[0m\u001b[0m_backend\u001b[0m\u001b[1;33m,\u001b[0m \u001b[0mn_jobs\u001b[0m\u001b[1;33m=\u001b[0m\u001b[0mself\u001b[0m\u001b[1;33m.\u001b[0m\u001b[0m_n_jobs\u001b[0m\u001b[1;33m)\u001b[0m\u001b[1;33m:\u001b[0m\u001b[1;33m\u001b[0m\u001b[1;33m\u001b[0m\u001b[0m\n\u001b[1;32m--> 262\u001b[1;33m             return [func(*args, **kwargs)\n\u001b[0m\u001b[0;32m    263\u001b[0m                     for func, args, kwargs in self.items]\n\u001b[0;32m    264\u001b[0m \u001b[1;33m\u001b[0m\u001b[0m\n",
      "\u001b[1;32mD:\\ananconda3\\lib\\site-packages\\joblib\\parallel.py\u001b[0m in \u001b[0;36m<listcomp>\u001b[1;34m(.0)\u001b[0m\n\u001b[0;32m    260\u001b[0m         \u001b[1;31m# change the default number of processes to -1\u001b[0m\u001b[1;33m\u001b[0m\u001b[1;33m\u001b[0m\u001b[1;33m\u001b[0m\u001b[0m\n\u001b[0;32m    261\u001b[0m         \u001b[1;32mwith\u001b[0m \u001b[0mparallel_backend\u001b[0m\u001b[1;33m(\u001b[0m\u001b[0mself\u001b[0m\u001b[1;33m.\u001b[0m\u001b[0m_backend\u001b[0m\u001b[1;33m,\u001b[0m \u001b[0mn_jobs\u001b[0m\u001b[1;33m=\u001b[0m\u001b[0mself\u001b[0m\u001b[1;33m.\u001b[0m\u001b[0m_n_jobs\u001b[0m\u001b[1;33m)\u001b[0m\u001b[1;33m:\u001b[0m\u001b[1;33m\u001b[0m\u001b[1;33m\u001b[0m\u001b[0m\n\u001b[1;32m--> 262\u001b[1;33m             return [func(*args, **kwargs)\n\u001b[0m\u001b[0;32m    263\u001b[0m                     for func, args, kwargs in self.items]\n\u001b[0;32m    264\u001b[0m \u001b[1;33m\u001b[0m\u001b[0m\n",
      "\u001b[1;32mD:\\ananconda3\\lib\\site-packages\\sklearn\\utils\\fixes.py\u001b[0m in \u001b[0;36m__call__\u001b[1;34m(self, *args, **kwargs)\u001b[0m\n\u001b[0;32m    214\u001b[0m     \u001b[1;32mdef\u001b[0m \u001b[0m__call__\u001b[0m\u001b[1;33m(\u001b[0m\u001b[0mself\u001b[0m\u001b[1;33m,\u001b[0m \u001b[1;33m*\u001b[0m\u001b[0margs\u001b[0m\u001b[1;33m,\u001b[0m \u001b[1;33m**\u001b[0m\u001b[0mkwargs\u001b[0m\u001b[1;33m)\u001b[0m\u001b[1;33m:\u001b[0m\u001b[1;33m\u001b[0m\u001b[1;33m\u001b[0m\u001b[0m\n\u001b[0;32m    215\u001b[0m         \u001b[1;32mwith\u001b[0m \u001b[0mconfig_context\u001b[0m\u001b[1;33m(\u001b[0m\u001b[1;33m**\u001b[0m\u001b[0mself\u001b[0m\u001b[1;33m.\u001b[0m\u001b[0mconfig\u001b[0m\u001b[1;33m)\u001b[0m\u001b[1;33m:\u001b[0m\u001b[1;33m\u001b[0m\u001b[1;33m\u001b[0m\u001b[0m\n\u001b[1;32m--> 216\u001b[1;33m             \u001b[1;32mreturn\u001b[0m \u001b[0mself\u001b[0m\u001b[1;33m.\u001b[0m\u001b[0mfunction\u001b[0m\u001b[1;33m(\u001b[0m\u001b[1;33m*\u001b[0m\u001b[0margs\u001b[0m\u001b[1;33m,\u001b[0m \u001b[1;33m**\u001b[0m\u001b[0mkwargs\u001b[0m\u001b[1;33m)\u001b[0m\u001b[1;33m\u001b[0m\u001b[1;33m\u001b[0m\u001b[0m\n\u001b[0m\u001b[0;32m    217\u001b[0m \u001b[1;33m\u001b[0m\u001b[0m\n\u001b[0;32m    218\u001b[0m \u001b[1;33m\u001b[0m\u001b[0m\n",
      "\u001b[1;32mD:\\ananconda3\\lib\\site-packages\\sklearn\\model_selection\\_validation.py\u001b[0m in \u001b[0;36m_fit_and_score\u001b[1;34m(estimator, X, y, scorer, train, test, verbose, parameters, fit_params, return_train_score, return_parameters, return_n_test_samples, return_times, return_estimator, split_progress, candidate_progress, error_score)\u001b[0m\n\u001b[0;32m    678\u001b[0m             \u001b[0mestimator\u001b[0m\u001b[1;33m.\u001b[0m\u001b[0mfit\u001b[0m\u001b[1;33m(\u001b[0m\u001b[0mX_train\u001b[0m\u001b[1;33m,\u001b[0m \u001b[1;33m**\u001b[0m\u001b[0mfit_params\u001b[0m\u001b[1;33m)\u001b[0m\u001b[1;33m\u001b[0m\u001b[1;33m\u001b[0m\u001b[0m\n\u001b[0;32m    679\u001b[0m         \u001b[1;32melse\u001b[0m\u001b[1;33m:\u001b[0m\u001b[1;33m\u001b[0m\u001b[1;33m\u001b[0m\u001b[0m\n\u001b[1;32m--> 680\u001b[1;33m             \u001b[0mestimator\u001b[0m\u001b[1;33m.\u001b[0m\u001b[0mfit\u001b[0m\u001b[1;33m(\u001b[0m\u001b[0mX_train\u001b[0m\u001b[1;33m,\u001b[0m \u001b[0my_train\u001b[0m\u001b[1;33m,\u001b[0m \u001b[1;33m**\u001b[0m\u001b[0mfit_params\u001b[0m\u001b[1;33m)\u001b[0m\u001b[1;33m\u001b[0m\u001b[1;33m\u001b[0m\u001b[0m\n\u001b[0m\u001b[0;32m    681\u001b[0m \u001b[1;33m\u001b[0m\u001b[0m\n\u001b[0;32m    682\u001b[0m     \u001b[1;32mexcept\u001b[0m \u001b[0mException\u001b[0m\u001b[1;33m:\u001b[0m\u001b[1;33m\u001b[0m\u001b[1;33m\u001b[0m\u001b[0m\n",
      "\u001b[1;32mD:\\ananconda3\\lib\\site-packages\\scikeras\\wrappers.py\u001b[0m in \u001b[0;36mfit\u001b[1;34m(self, X, y, sample_weight, **kwargs)\u001b[0m\n\u001b[0;32m    723\u001b[0m         \u001b[0mkwargs\u001b[0m\u001b[1;33m[\u001b[0m\u001b[1;34m\"initial_epoch\"\u001b[0m\u001b[1;33m]\u001b[0m \u001b[1;33m=\u001b[0m \u001b[0mkwargs\u001b[0m\u001b[1;33m.\u001b[0m\u001b[0mget\u001b[0m\u001b[1;33m(\u001b[0m\u001b[1;34m\"initial_epoch\"\u001b[0m\u001b[1;33m,\u001b[0m \u001b[1;36m0\u001b[0m\u001b[1;33m)\u001b[0m\u001b[1;33m\u001b[0m\u001b[1;33m\u001b[0m\u001b[0m\n\u001b[0;32m    724\u001b[0m \u001b[1;33m\u001b[0m\u001b[0m\n\u001b[1;32m--> 725\u001b[1;33m         self._fit(\n\u001b[0m\u001b[0;32m    726\u001b[0m             \u001b[0mX\u001b[0m\u001b[1;33m=\u001b[0m\u001b[0mX\u001b[0m\u001b[1;33m,\u001b[0m \u001b[0my\u001b[0m\u001b[1;33m=\u001b[0m\u001b[0my\u001b[0m\u001b[1;33m,\u001b[0m \u001b[0msample_weight\u001b[0m\u001b[1;33m=\u001b[0m\u001b[0msample_weight\u001b[0m\u001b[1;33m,\u001b[0m \u001b[0mwarm_start\u001b[0m\u001b[1;33m=\u001b[0m\u001b[0mself\u001b[0m\u001b[1;33m.\u001b[0m\u001b[0mwarm_start\u001b[0m\u001b[1;33m,\u001b[0m \u001b[1;33m**\u001b[0m\u001b[0mkwargs\u001b[0m\u001b[1;33m,\u001b[0m\u001b[1;33m\u001b[0m\u001b[1;33m\u001b[0m\u001b[0m\n\u001b[0;32m    727\u001b[0m         )\n",
      "\u001b[1;32mD:\\ananconda3\\lib\\site-packages\\scikeras\\wrappers.py\u001b[0m in \u001b[0;36m_fit\u001b[1;34m(self, X, y, sample_weight, warm_start, epochs, initial_epoch, **kwargs)\u001b[0m\n\u001b[0;32m    888\u001b[0m         \u001b[0mself\u001b[0m\u001b[1;33m.\u001b[0m\u001b[0m_check_model_compatibility\u001b[0m\u001b[1;33m(\u001b[0m\u001b[0my\u001b[0m\u001b[1;33m)\u001b[0m\u001b[1;33m\u001b[0m\u001b[1;33m\u001b[0m\u001b[0m\n\u001b[0;32m    889\u001b[0m \u001b[1;33m\u001b[0m\u001b[0m\n\u001b[1;32m--> 890\u001b[1;33m         self._fit_keras_model(\n\u001b[0m\u001b[0;32m    891\u001b[0m             \u001b[0mX\u001b[0m\u001b[1;33m,\u001b[0m\u001b[1;33m\u001b[0m\u001b[1;33m\u001b[0m\u001b[0m\n\u001b[0;32m    892\u001b[0m             \u001b[0my\u001b[0m\u001b[1;33m,\u001b[0m\u001b[1;33m\u001b[0m\u001b[1;33m\u001b[0m\u001b[0m\n",
      "\u001b[1;32mD:\\ananconda3\\lib\\site-packages\\scikeras\\wrappers.py\u001b[0m in \u001b[0;36m_fit_keras_model\u001b[1;34m(self, X, y, sample_weight, warm_start, epochs, initial_epoch, **kwargs)\u001b[0m\n\u001b[0;32m    501\u001b[0m                 \u001b[0mhist\u001b[0m \u001b[1;33m=\u001b[0m \u001b[0mself\u001b[0m\u001b[1;33m.\u001b[0m\u001b[0mmodel_\u001b[0m\u001b[1;33m.\u001b[0m\u001b[0mfit\u001b[0m\u001b[1;33m(\u001b[0m\u001b[0mx\u001b[0m\u001b[1;33m=\u001b[0m\u001b[0mX\u001b[0m\u001b[1;33m,\u001b[0m \u001b[0my\u001b[0m\u001b[1;33m=\u001b[0m\u001b[0my\u001b[0m\u001b[1;33m,\u001b[0m \u001b[1;33m**\u001b[0m\u001b[0mfit_args\u001b[0m\u001b[1;33m)\u001b[0m\u001b[1;33m\u001b[0m\u001b[1;33m\u001b[0m\u001b[0m\n\u001b[0;32m    502\u001b[0m         \u001b[1;32melse\u001b[0m\u001b[1;33m:\u001b[0m\u001b[1;33m\u001b[0m\u001b[1;33m\u001b[0m\u001b[0m\n\u001b[1;32m--> 503\u001b[1;33m             \u001b[0mhist\u001b[0m \u001b[1;33m=\u001b[0m \u001b[0mself\u001b[0m\u001b[1;33m.\u001b[0m\u001b[0mmodel_\u001b[0m\u001b[1;33m.\u001b[0m\u001b[0mfit\u001b[0m\u001b[1;33m(\u001b[0m\u001b[0mx\u001b[0m\u001b[1;33m=\u001b[0m\u001b[0mX\u001b[0m\u001b[1;33m,\u001b[0m \u001b[0my\u001b[0m\u001b[1;33m=\u001b[0m\u001b[0my\u001b[0m\u001b[1;33m,\u001b[0m \u001b[1;33m**\u001b[0m\u001b[0mfit_args\u001b[0m\u001b[1;33m)\u001b[0m\u001b[1;33m\u001b[0m\u001b[1;33m\u001b[0m\u001b[0m\n\u001b[0m\u001b[0;32m    504\u001b[0m \u001b[1;33m\u001b[0m\u001b[0m\n\u001b[0;32m    505\u001b[0m         \u001b[1;32mif\u001b[0m \u001b[1;32mnot\u001b[0m \u001b[0mwarm_start\u001b[0m \u001b[1;32mor\u001b[0m \u001b[1;32mnot\u001b[0m \u001b[0mhasattr\u001b[0m\u001b[1;33m(\u001b[0m\u001b[0mself\u001b[0m\u001b[1;33m,\u001b[0m \u001b[1;34m\"history_\"\u001b[0m\u001b[1;33m)\u001b[0m \u001b[1;32mor\u001b[0m \u001b[0minitial_epoch\u001b[0m \u001b[1;33m==\u001b[0m \u001b[1;36m0\u001b[0m\u001b[1;33m:\u001b[0m\u001b[1;33m\u001b[0m\u001b[1;33m\u001b[0m\u001b[0m\n",
      "\u001b[1;32mD:\\ananconda3\\lib\\site-packages\\keras\\utils\\traceback_utils.py\u001b[0m in \u001b[0;36merror_handler\u001b[1;34m(*args, **kwargs)\u001b[0m\n\u001b[0;32m     62\u001b[0m     \u001b[0mfiltered_tb\u001b[0m \u001b[1;33m=\u001b[0m \u001b[1;32mNone\u001b[0m\u001b[1;33m\u001b[0m\u001b[1;33m\u001b[0m\u001b[0m\n\u001b[0;32m     63\u001b[0m     \u001b[1;32mtry\u001b[0m\u001b[1;33m:\u001b[0m\u001b[1;33m\u001b[0m\u001b[1;33m\u001b[0m\u001b[0m\n\u001b[1;32m---> 64\u001b[1;33m       \u001b[1;32mreturn\u001b[0m \u001b[0mfn\u001b[0m\u001b[1;33m(\u001b[0m\u001b[1;33m*\u001b[0m\u001b[0margs\u001b[0m\u001b[1;33m,\u001b[0m \u001b[1;33m**\u001b[0m\u001b[0mkwargs\u001b[0m\u001b[1;33m)\u001b[0m\u001b[1;33m\u001b[0m\u001b[1;33m\u001b[0m\u001b[0m\n\u001b[0m\u001b[0;32m     65\u001b[0m     \u001b[1;32mexcept\u001b[0m \u001b[0mException\u001b[0m \u001b[1;32mas\u001b[0m \u001b[0me\u001b[0m\u001b[1;33m:\u001b[0m  \u001b[1;31m# pylint: disable=broad-except\u001b[0m\u001b[1;33m\u001b[0m\u001b[1;33m\u001b[0m\u001b[0m\n\u001b[0;32m     66\u001b[0m       \u001b[0mfiltered_tb\u001b[0m \u001b[1;33m=\u001b[0m \u001b[0m_process_traceback_frames\u001b[0m\u001b[1;33m(\u001b[0m\u001b[0me\u001b[0m\u001b[1;33m.\u001b[0m\u001b[0m__traceback__\u001b[0m\u001b[1;33m)\u001b[0m\u001b[1;33m\u001b[0m\u001b[1;33m\u001b[0m\u001b[0m\n",
      "\u001b[1;31mKeyboardInterrupt\u001b[0m: "
     ]
    }
   ],
   "source": [
    "import scikeras\n",
    "from scikeras.wrappers import KerasRegressor\n",
    "from sklearn.model_selection import KFold\n",
    "from sklearn.model_selection import cross_val_score\n",
    "# define base model\n",
    "def baseline_model():\n",
    "    # create model\n",
    "    model = Sequential()\n",
    "    model.add(Dense(8, input_dim=3, kernel_initializer='normal', activation='relu'))\n",
    "    model.add(Dense(32, kernel_initializer='normal', activation='relu'))\n",
    "    model.add(Dense(64,  kernel_initializer='normal', activation='relu'))\n",
    "    model.add(Dense(128,  kernel_initializer='normal', activation='relu'))\n",
    "    #model.add(Dense(128,  kernel_initializer='normal', activation='relu'))\n",
    "    model.add(Dense(64,  kernel_initializer='normal', activation='relu'))\n",
    "    model.add(Dense(32, kernel_initializer='normal', activation='relu'))\n",
    "    model.add(Dense(1, kernel_initializer='normal', activation='sigmoid')))\n",
    "    # Compile model\n",
    "    model.compile(loss='mean_absolute_error', optimizer='adam', metrics = ['mae', 'mse'])\n",
    "    return model\n",
    "\n",
    "\n",
    "estimator = KerasRegressor(build_fn=baseline_model, epochs=100, batch_size=2, verbose=0)\n",
    "kfold = KFold(n_splits=10)\n",
    "results = cross_val_score(estimator,X= train_x, y = train_y, cv=kfold)\n",
    "print(\"Baseline: %.2f (%.2f) MSE\" % (results.mean(), results.std()))"
   ]
  }
 ],
 "metadata": {
  "colab": {
   "collapsed_sections": [],
   "name": "ANN_5-models.ipynb",
   "provenance": []
  },
  "kernelspec": {
   "display_name": "Python 3 (ipykernel)",
   "language": "python",
   "name": "python3"
  },
  "language_info": {
   "codemirror_mode": {
    "name": "ipython",
    "version": 3
   },
   "file_extension": ".py",
   "mimetype": "text/x-python",
   "name": "python",
   "nbconvert_exporter": "python",
   "pygments_lexer": "ipython3",
   "version": "3.9.7"
  }
 },
 "nbformat": 4,
 "nbformat_minor": 1
}
