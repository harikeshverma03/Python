{
 "cells": [
  {
   "cell_type": "code",
   "execution_count": 1,
   "id": "b3f72cae",
   "metadata": {},
   "outputs": [],
   "source": [
    "import keras\n",
    "import tensorflow as tf\n",
    "from sklearn.preprocessing import MinMaxScaler\n",
    "import matplotlib.pyplot as plt\n",
    "from matplotlib import figure\n",
    "from tensorflow.keras.layers import Dense,Activation,Dropout,Flatten, Input\n",
    "from tensorflow.keras.models import Sequential, Model, model_from_json\n",
    "from tensorflow.keras.optimizers import Adam, SGD\n",
    "import pandas as pd\n",
    "import numpy as np\n",
    "import glob\n",
    "import os\n",
    "import sklearn\n",
    "import math\n",
    "from random import random\n",
    "from sklearn.model_selection import train_test_split\n",
    "from sklearn.metrics import mean_squared_error, r2_score, mean_absolute_error, mean_absolute_percentage_error"
   ]
  },
  {
   "cell_type": "code",
   "execution_count": 14,
   "id": "aa341e64",
   "metadata": {},
   "outputs": [
    {
     "data": {
      "text/plain": [
       "'C:\\\\Users\\\\harik\\\\OneDrive\\\\Documents\\\\Python\\\\Graphene\\\\ANN-13.9\\\\new'"
      ]
     },
     "execution_count": 14,
     "metadata": {},
     "output_type": "execute_result"
    }
   ],
   "source": [
    "path = r'C:/Users/harik/OneDrive/Documents/Python/Graphene/ANN-13.9/new'\n",
    "os.chdir(path)\n",
    "os.getcwd()"
   ]
  },
  {
   "cell_type": "code",
   "execution_count": 15,
   "id": "2e745ae9",
   "metadata": {},
   "outputs": [
    {
     "name": "stdout",
     "output_type": "stream",
     "text": [
      "Loaded model from disk\n"
     ]
    }
   ],
   "source": [
    "json_file = open('model.json', 'r')\n",
    "loaded_model_json = json_file.read()\n",
    "json_file.close()\n",
    "loaded_model = model_from_json(loaded_model_json)\n",
    "# load weights into new model\n",
    "loaded_model.load_weights(\"model.h5\")\n",
    "print(\"Loaded model from disk\")\n",
    "loaded_model.compile(optimizer=Adam(learning_rate=0.0001), loss='mean_squared_error', metrics = ['mse'])"
   ]
  },
  {
   "cell_type": "code",
   "execution_count": 16,
   "id": "a28aedd6",
   "metadata": {},
   "outputs": [
    {
     "name": "stdout",
     "output_type": "stream",
     "text": [
      "Model: \"sequential_3\"\n",
      "_________________________________________________________________\n",
      "Layer (type)                 Output Shape              Param #   \n",
      "=================================================================\n",
      "dense_9 (Dense)              (None, 32)                128       \n",
      "_________________________________________________________________\n",
      "dense_10 (Dense)             (None, 16)                528       \n",
      "_________________________________________________________________\n",
      "dense_11 (Dense)             (None, 8)                 136       \n",
      "_________________________________________________________________\n",
      "dense_12 (Dense)             (None, 1)                 9         \n",
      "=================================================================\n",
      "Total params: 801\n",
      "Trainable params: 801\n",
      "Non-trainable params: 0\n",
      "_________________________________________________________________\n"
     ]
    }
   ],
   "source": [
    "loaded_model.summary()"
   ]
  },
  {
   "cell_type": "code",
   "execution_count": 17,
   "id": "aafd2292",
   "metadata": {},
   "outputs": [
    {
     "name": "stdout",
     "output_type": "stream",
     "text": [
      "(185, 4)\n"
     ]
    }
   ],
   "source": [
    "data = pd.read_csv(r'C:\\Users\\harik\\OneDrive\\Documents\\Python\\Graphene\\data_13.9.csv',delimiter=\",\")\n",
    "test_data = pd.read_csv(r'C:\\Users\\harik\\OneDrive\\Documents\\Python\\Graphene\\test_data_13.9.csv',delimiter=\",\")\n",
    "data = data.dropna()\n",
    "test_data = test_data.dropna()\n",
    "df = data.append(test_data, ignore_index=True)\n",
    "df = df.dropna()\n",
    "df = df.drop_duplicates()\n",
    "df = df.sample(frac = 1, random_state = 20)\n",
    "print(df.shape)"
   ]
  },
  {
   "cell_type": "code",
   "execution_count": 18,
   "id": "641f5ebf",
   "metadata": {},
   "outputs": [],
   "source": [
    "scaler_lat = MinMaxScaler()\n",
    "scaler_temp = MinMaxScaler()\n",
    "scaler_crack = MinMaxScaler()\n",
    "scaler_fs = MinMaxScaler()\n",
    "scaler_co = MinMaxScaler()\n",
    "df.CO = scaler_co.fit_transform(df[['CO']])\n",
    "df.CS = scaler_crack.fit_transform(df[['CS']])\n",
    "df.FS = scaler_fs.fit_transform(df[['FS']])\n",
    "df.T = scaler_temp.fit_transform(df[['T']])"
   ]
  },
  {
   "cell_type": "code",
   "execution_count": 20,
   "id": "62c62315",
   "metadata": {},
   "outputs": [],
   "source": [
    "pred = r'C:\\Users\\harik\\OneDrive\\Documents\\Python\\Graphene\\pred_13.9.csv'"
   ]
  },
  {
   "cell_type": "code",
   "execution_count": 21,
   "id": "6067b44d",
   "metadata": {},
   "outputs": [
    {
     "data": {
      "text/plain": [
       "(142, 3)"
      ]
     },
     "execution_count": 21,
     "metadata": {},
     "output_type": "execute_result"
    }
   ],
   "source": [
    "test_x = pd.read_csv(pred, delimiter=\",\")\n",
    "test = pd.read_csv(pred, delimiter=\",\")\n",
    "test_x.shape"
   ]
  },
  {
   "cell_type": "code",
   "execution_count": 22,
   "id": "74c66ad4",
   "metadata": {},
   "outputs": [
    {
     "data": {
      "text/html": [
       "<div>\n",
       "<style scoped>\n",
       "    .dataframe tbody tr th:only-of-type {\n",
       "        vertical-align: middle;\n",
       "    }\n",
       "\n",
       "    .dataframe tbody tr th {\n",
       "        vertical-align: top;\n",
       "    }\n",
       "\n",
       "    .dataframe thead th {\n",
       "        text-align: right;\n",
       "    }\n",
       "</style>\n",
       "<table border=\"1\" class=\"dataframe\">\n",
       "  <thead>\n",
       "    <tr style=\"text-align: right;\">\n",
       "      <th></th>\n",
       "      <th>T</th>\n",
       "      <th>CS</th>\n",
       "      <th>CO</th>\n",
       "    </tr>\n",
       "  </thead>\n",
       "  <tbody>\n",
       "    <tr>\n",
       "      <th>0</th>\n",
       "      <td>0.000000</td>\n",
       "      <td>0.348837</td>\n",
       "      <td>0.0</td>\n",
       "    </tr>\n",
       "    <tr>\n",
       "      <th>1</th>\n",
       "      <td>0.083333</td>\n",
       "      <td>0.348837</td>\n",
       "      <td>0.0</td>\n",
       "    </tr>\n",
       "    <tr>\n",
       "      <th>2</th>\n",
       "      <td>0.166667</td>\n",
       "      <td>0.348837</td>\n",
       "      <td>0.0</td>\n",
       "    </tr>\n",
       "    <tr>\n",
       "      <th>3</th>\n",
       "      <td>0.250000</td>\n",
       "      <td>0.348837</td>\n",
       "      <td>0.0</td>\n",
       "    </tr>\n",
       "    <tr>\n",
       "      <th>4</th>\n",
       "      <td>0.333333</td>\n",
       "      <td>0.348837</td>\n",
       "      <td>0.0</td>\n",
       "    </tr>\n",
       "  </tbody>\n",
       "</table>\n",
       "</div>"
      ],
      "text/plain": [
       "          T        CS   CO\n",
       "0  0.000000  0.348837  0.0\n",
       "1  0.083333  0.348837  0.0\n",
       "2  0.166667  0.348837  0.0\n",
       "3  0.250000  0.348837  0.0\n",
       "4  0.333333  0.348837  0.0"
      ]
     },
     "execution_count": 22,
     "metadata": {},
     "output_type": "execute_result"
    }
   ],
   "source": [
    "test_x.CO = scaler_co.transform(test_x[['CO']])\n",
    "test_x.CS = scaler_crack.transform(test_x[['CS']])\n",
    "test_x.T = scaler_temp.transform(test_x[['T']])\n",
    "test_x = test_x[['T', 'CS', 'CO']]\n",
    "test_x.head()"
   ]
  },
  {
   "cell_type": "code",
   "execution_count": 23,
   "id": "f7177cd2",
   "metadata": {},
   "outputs": [],
   "source": [
    "y = loaded_model.predict(test_x).reshape(-1,1)\n",
    "y_pred = scaler_fs.inverse_transform(y)"
   ]
  },
  {
   "cell_type": "code",
   "execution_count": 24,
   "id": "4009a7b5",
   "metadata": {},
   "outputs": [
    {
     "data": {
      "text/plain": [
       "array([[52.94188 ],\n",
       "       [50.35325 ],\n",
       "       [49.07772 ],\n",
       "       [47.80219 ],\n",
       "       [46.526676],\n",
       "       [45.25115 ],\n",
       "       [43.975628],\n",
       "       [42.700108],\n",
       "       [41.42458 ],\n",
       "       [40.149063],\n",
       "       [39.17077 ],\n",
       "       [38.323696],\n",
       "       [37.476627],\n",
       "       [51.643093],\n",
       "       [49.15732 ],\n",
       "       [48.33893 ],\n",
       "       [47.520554],\n",
       "       [46.70217 ],\n",
       "       [45.88381 ],\n",
       "       [44.37174 ],\n",
       "       [42.853012],\n",
       "       [41.81145 ],\n",
       "       [41.040424],\n",
       "       [40.26941 ],\n",
       "       [39.498386],\n",
       "       [38.727364],\n",
       "       [56.27235 ],\n",
       "       [53.751072],\n",
       "       [52.932697],\n",
       "       [52.114292],\n",
       "       [51.295933],\n",
       "       [50.477543],\n",
       "       [49.65916 ],\n",
       "       [48.84078 ],\n",
       "       [48.022415],\n",
       "       [47.204025],\n",
       "       [45.91823 ],\n",
       "       [44.080914],\n",
       "       [42.184444],\n",
       "       [75.293564],\n",
       "       [73.24009 ],\n",
       "       [71.317055],\n",
       "       [69.17379 ],\n",
       "       [67.8991  ],\n",
       "       [66.96496 ],\n",
       "       [66.0308  ],\n",
       "       [65.09666 ],\n",
       "       [64.19036 ],\n",
       "       [63.720848],\n",
       "       [62.67768 ],\n",
       "       [61.43934 ],\n",
       "       [60.200985],\n",
       "       [74.55017 ],\n",
       "       [67.59699 ],\n",
       "       [65.4085  ],\n",
       "       [63.153255],\n",
       "       [60.870674],\n",
       "       [58.905216],\n",
       "       [57.360348],\n",
       "       [56.913452],\n",
       "       [56.56341 ],\n",
       "       [54.832283],\n",
       "       [52.897446],\n",
       "       [51.25863 ],\n",
       "       [50.138935],\n",
       "       [62.24088 ],\n",
       "       [58.06998 ],\n",
       "       [56.880203],\n",
       "       [55.69042 ],\n",
       "       [54.50064 ],\n",
       "       [53.31086 ],\n",
       "       [52.121082],\n",
       "       [50.931297],\n",
       "       [49.74152 ],\n",
       "       [48.06302 ],\n",
       "       [46.895924],\n",
       "       [45.22618 ],\n",
       "       [43.31548 ],\n",
       "       [52.94188 ],\n",
       "       [50.35325 ],\n",
       "       [49.07772 ],\n",
       "       [47.80219 ],\n",
       "       [46.526676],\n",
       "       [45.25115 ],\n",
       "       [43.975628],\n",
       "       [42.700108],\n",
       "       [41.42458 ],\n",
       "       [40.149063],\n",
       "       [39.17077 ],\n",
       "       [38.323696],\n",
       "       [37.476627],\n",
       "       [46.264656],\n",
       "       [44.98915 ],\n",
       "       [43.713608],\n",
       "       [42.438087],\n",
       "       [41.162567],\n",
       "       [39.88705 ],\n",
       "       [38.61153 ],\n",
       "       [37.336002],\n",
       "       [36.06048 ],\n",
       "       [35.08193 ],\n",
       "       [34.234844],\n",
       "       [33.387794],\n",
       "       [32.540714],\n",
       "       [40.549923],\n",
       "       [39.519924],\n",
       "       [38.34952 ],\n",
       "       [37.074   ],\n",
       "       [35.798454],\n",
       "       [34.522945],\n",
       "       [33.247417],\n",
       "       [31.971899],\n",
       "       [30.993074],\n",
       "       [30.145998],\n",
       "       [29.298933],\n",
       "       [28.45187 ],\n",
       "       [27.604792],\n",
       "       [88.289986],\n",
       "       [75.88898 ],\n",
       "       [69.41534 ],\n",
       "       [64.94783 ],\n",
       "       [64.72725 ],\n",
       "       [66.44042 ],\n",
       "       [57.694508],\n",
       "       [53.545216],\n",
       "       [50.433025],\n",
       "       [49.846184],\n",
       "       [56.27235 ],\n",
       "       [52.1143  ],\n",
       "       [49.659164],\n",
       "       [47.204033],\n",
       "       [42.184444],\n",
       "       [51.59378 ],\n",
       "       [48.83619 ],\n",
       "       [46.03371 ],\n",
       "       [41.874733],\n",
       "       [39.166058],\n",
       "       [49.028988],\n",
       "       [46.462574],\n",
       "       [42.726574],\n",
       "       [40.04253 ],\n",
       "       [37.481766]], dtype=float32)"
      ]
     },
     "execution_count": 24,
     "metadata": {},
     "output_type": "execute_result"
    }
   ],
   "source": [
    "y_pred"
   ]
  },
  {
   "cell_type": "code",
   "execution_count": 27,
   "id": "18a5701f",
   "metadata": {},
   "outputs": [],
   "source": [
    "test['FS'] = y_pred"
   ]
  },
  {
   "cell_type": "code",
   "execution_count": 28,
   "id": "5a7065f4",
   "metadata": {},
   "outputs": [],
   "source": [
    "test.to_csv(pred)"
   ]
  },
  {
   "cell_type": "code",
   "execution_count": null,
   "id": "8077175c",
   "metadata": {},
   "outputs": [],
   "source": []
  }
 ],
 "metadata": {
  "kernelspec": {
   "display_name": "Python 3 (ipykernel)",
   "language": "python",
   "name": "python3"
  },
  "language_info": {
   "codemirror_mode": {
    "name": "ipython",
    "version": 3
   },
   "file_extension": ".py",
   "mimetype": "text/x-python",
   "name": "python",
   "nbconvert_exporter": "python",
   "pygments_lexer": "ipython3",
   "version": "3.9.7"
  }
 },
 "nbformat": 4,
 "nbformat_minor": 5
}
