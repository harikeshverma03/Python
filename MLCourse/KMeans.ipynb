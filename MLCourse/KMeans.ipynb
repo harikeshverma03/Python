{
 "cells": [
  {
   "cell_type": "markdown",
   "metadata": {},
   "source": [
    "# K-Means Clustering Example"
   ]
  },
  {
   "cell_type": "markdown",
   "metadata": {},
   "source": [
    "Let's make some fake data that includes people clustered by income and age, randomly:"
   ]
  },
  {
   "cell_type": "code",
   "execution_count": 22,
   "metadata": {},
   "outputs": [],
   "source": [
    "import numpy as np\n",
    "\n",
    "#Create fake income/age clusters for N people in k clusters\n",
    "def createClusteredData(N, k):\n",
    "    np.random.seed(5)\n",
    "    pointsPerCluster = float(N)/k\n",
    "    X = []\n",
    "    for i in range (k):\n",
    "        incomeCentroid = random.uniform(20000.0, 200000.0)\n",
    "        ageCentroid = random.uniform(20.0, 70.0)\n",
    "        for j in range(int(pointsPerCluster)):\n",
    "            X.append([random.normal(incomeCentroid, 10000.0), random.normal(ageCentroid, 2.0)])\n",
    "    X = np.array(X)\n",
    "    \n",
    "    return X\n"
   ]
  },
  {
   "cell_type": "markdown",
   "metadata": {},
   "source": [
    "We'll use k-means to rediscover these clusters in unsupervised learning:"
   ]
  },
  {
   "cell_type": "code",
   "execution_count": 24,
   "metadata": {},
   "outputs": [
    {
     "name": "stdout",
     "output_type": "stream",
     "text": [
      "[[8.42664827e+04 6.30324310e+01]\n",
      " [6.10548692e+04 6.67015775e+01]\n",
      " [5.08664467e+04 6.23533420e+01]\n",
      " [6.18348031e+04 6.28768754e+01]\n",
      " [4.80311247e+04 6.31268623e+01]\n",
      " [5.63704813e+04 6.47435585e+01]\n",
      " [4.33108855e+04 6.21362572e+01]\n",
      " [7.14726809e+04 6.72512773e+01]\n",
      " [4.48469752e+04 6.48263103e+01]\n",
      " [5.01526919e+04 6.18229090e+01]\n",
      " [5.12399790e+04 6.26915995e+01]\n",
      " [6.99231691e+04 6.49614579e+01]\n",
      " [6.05502132e+04 6.28099936e+01]\n",
      " [5.99916592e+04 6.33247544e+01]\n",
      " [6.78893040e+04 6.22734720e+01]\n",
      " [5.98968217e+04 6.33344801e+01]\n",
      " [5.94356893e+04 6.40350506e+01]\n",
      " [6.19353717e+04 6.62063125e+01]\n",
      " [5.90900147e+04 6.66596799e+01]\n",
      " [5.69002406e+04 6.25811525e+01]\n",
      " [1.96380877e+05 5.41722294e+01]\n",
      " [2.05078182e+05 5.25771834e+01]\n",
      " [1.90321390e+05 5.13870739e+01]\n",
      " [2.07818733e+05 5.20308109e+01]\n",
      " [1.80577021e+05 5.02091722e+01]\n",
      " [1.87909620e+05 5.38927122e+01]\n",
      " [1.92613113e+05 5.61085162e+01]\n",
      " [2.00250947e+05 5.18379163e+01]\n",
      " [1.89327713e+05 5.35326613e+01]\n",
      " [1.91277641e+05 4.99400557e+01]\n",
      " [1.99366080e+05 5.16138193e+01]\n",
      " [2.05575360e+05 5.14411160e+01]\n",
      " [1.65087873e+05 5.31670354e+01]\n",
      " [1.74907344e+05 5.46658149e+01]\n",
      " [2.11898400e+05 5.07342399e+01]\n",
      " [1.82037734e+05 4.87941546e+01]\n",
      " [2.02411299e+05 5.11840663e+01]\n",
      " [1.87701153e+05 5.11014632e+01]\n",
      " [2.14569900e+05 5.22821413e+01]\n",
      " [2.01142022e+05 5.31421178e+01]\n",
      " [1.40704164e+05 5.46472660e+01]\n",
      " [1.40201225e+05 5.36553152e+01]\n",
      " [1.59223906e+05 5.40741305e+01]\n",
      " [1.47017315e+05 5.36919889e+01]\n",
      " [1.41874801e+05 5.66541175e+01]\n",
      " [1.43354529e+05 5.41134013e+01]\n",
      " [1.52744405e+05 5.60786163e+01]\n",
      " [1.55733055e+05 5.54191705e+01]\n",
      " [1.30271420e+05 5.63382346e+01]\n",
      " [1.52792121e+05 5.71139168e+01]\n",
      " [1.39344142e+05 6.01192569e+01]\n",
      " [1.35484967e+05 5.65315482e+01]\n",
      " [1.48268381e+05 5.41033763e+01]\n",
      " [1.55970152e+05 5.45147814e+01]\n",
      " [1.24452610e+05 5.27430847e+01]\n",
      " [1.52385409e+05 5.95535729e+01]\n",
      " [1.32996237e+05 5.50437510e+01]\n",
      " [1.62316164e+05 5.62913823e+01]\n",
      " [1.44052620e+05 5.22337925e+01]\n",
      " [1.29997316e+05 5.35818301e+01]\n",
      " [6.88231930e+04 4.45043624e+01]\n",
      " [8.16700200e+04 4.23874043e+01]\n",
      " [8.16847518e+04 4.22718160e+01]\n",
      " [9.50351055e+04 4.71769736e+01]\n",
      " [1.06496099e+05 4.53166612e+01]\n",
      " [9.32314693e+04 4.68232565e+01]\n",
      " [1.03144432e+05 4.68274753e+01]\n",
      " [9.78827775e+04 4.26277605e+01]\n",
      " [6.97629584e+04 4.56513711e+01]\n",
      " [8.48216189e+04 4.37857234e+01]\n",
      " [7.68657361e+04 4.12951626e+01]\n",
      " [9.97816096e+04 4.48272675e+01]\n",
      " [7.51096172e+04 4.46779067e+01]\n",
      " [8.88159451e+04 4.49407645e+01]\n",
      " [1.08092652e+05 4.38276613e+01]\n",
      " [7.29637116e+04 4.39701508e+01]\n",
      " [7.92963776e+04 4.49942012e+01]\n",
      " [8.78653680e+04 4.45900690e+01]\n",
      " [8.00894317e+04 4.47244231e+01]\n",
      " [8.06573828e+04 4.49315842e+01]\n",
      " [5.28393560e+04 3.89417601e+01]\n",
      " [6.22929308e+04 4.12398603e+01]\n",
      " [5.25311719e+04 4.05566374e+01]\n",
      " [4.72605999e+04 3.55805523e+01]\n",
      " [6.00758253e+04 3.87261238e+01]\n",
      " [5.74167383e+04 3.90769267e+01]\n",
      " [4.64228555e+04 3.99055682e+01]\n",
      " [3.74691673e+04 4.00105297e+01]\n",
      " [5.26175815e+04 3.95255913e+01]\n",
      " [3.52132863e+04 3.92075167e+01]\n",
      " [5.03522929e+04 4.26483520e+01]\n",
      " [5.62135593e+04 4.09287551e+01]\n",
      " [3.78981567e+04 4.21677268e+01]\n",
      " [4.80962272e+04 3.98739844e+01]\n",
      " [5.69552254e+04 4.15896373e+01]\n",
      " [5.28503002e+04 3.80508593e+01]\n",
      " [4.17489557e+04 3.69461770e+01]\n",
      " [4.97984935e+04 4.04104303e+01]\n",
      " [5.71797248e+04 4.07780345e+01]\n",
      " [4.41746740e+04 4.45769246e+01]]\n",
      "[2 2 2 2 2 2 2 2 2 2 2 2 2 2 2 2 2 2 2 2 0 0 0 0 0 0 0 0 0 0 0 0 4 0 0 0 0\n",
      " 0 0 0 4 4 4 4 4 4 4 4 4 4 4 4 4 4 4 4 4 4 4 4 1 1 1 1 1 1 1 1 1 1 1 1 1 1\n",
      " 1 1 1 1 1 1 3 3 3 3 3 3 3 3 3 3 3 3 3 3 3 3 3 3 3 3]\n",
      "[2. 2. 2. 2. 2. 2. 2. 2. 2. 2. 2. 2. 2. 2. 2. 2. 2. 2. 2. 2. 0. 0. 0. 0.\n",
      " 0. 0. 0. 0. 0. 0. 0. 0. 4. 0. 0. 0. 0. 0. 0. 0. 4. 4. 4. 4. 4. 4. 4. 4.\n",
      " 4. 4. 4. 4. 4. 4. 4. 4. 4. 4. 4. 4. 1. 1. 1. 1. 1. 1. 1. 1. 1. 1. 1. 1.\n",
      " 1. 1. 1. 1. 1. 1. 1. 1. 3. 3. 3. 3. 3. 3. 3. 3. 3. 3. 3. 3. 3. 3. 3. 3.\n",
      " 3. 3. 3. 3.]\n"
     ]
    },
    {
     "data": {
      "image/png": "[encoded data removed]",
      "text/plain": [
       "<Figure size 576x432 with 1 Axes>"
      ]
     },
     "metadata": {
      "needs_background": "light"
     },
     "output_type": "display_data"
    }
   ],
   "source": [
    "%matplotlib inline\n",
    "\n",
    "from sklearn.cluster import KMeans\n",
    "import matplotlib.pyplot as plt\n",
    "from sklearn.preprocessing import scale\n",
    "from numpy import random, float\n",
    "\n",
    "data = createClusteredData(100, 5)\n",
    "model = KMeans(n_clusters=5)\n",
    "\n",
    "# Note I'm scaling the data to normalize it! Important for good results.\n",
    "model = model.fit(scale(data))\n",
    "\n",
    "# We can look at the clusters each data point was assigned to\n",
    "print(model.labels_)\n",
    "print(model.labels_.astype(float))\n",
    "# And we'll visualize it:\n",
    "plt.figure(figsize=(8, 6))\n",
    "plt.scatter(data[:,0], data[:,1], c=model.labels_)\n",
    "plt.show()"
   ]
  },
  {
   "cell_type": "markdown",
   "metadata": {},
   "source": [
    "## Activity"
   ]
  },
  {
   "cell_type": "markdown",
   "metadata": {},
   "source": [
    "Things to play with: what happens if you don't scale the data? What happens if you choose different values of K? In the real world, you won't know the \"right\" value of K to start with - you'll need to converge on it yourself."
   ]
  },
  {
   "cell_type": "code",
   "execution_count": 34,
   "metadata": {},
   "outputs": [],
   "source": [
    "x = [[1, 2, 3],[ 4, 5,6]]"
   ]
  },
  {
   "cell_type": "code",
   "execution_count": 35,
   "metadata": {},
   "outputs": [
    {
     "data": {
      "text/plain": [
       "[[1, 2, 3], [4, 5, 6]]"
      ]
     },
     "execution_count": 35,
     "metadata": {},
     "output_type": "execute_result"
    }
   ],
   "source": [
    "x"
   ]
  },
  {
   "cell_type": "code",
   "execution_count": 40,
   "metadata": {},
   "outputs": [],
   "source": [
    "import pandas as pd\n",
    "y = pd.DataFrame(x, columns = ['h','v','j'])"
   ]
  },
  {
   "cell_type": "code",
   "execution_count": 41,
   "metadata": {},
   "outputs": [
    {
     "data": {
      "text/html": [
       "<div>\n",
       "<style scoped>\n",
       "    .dataframe tbody tr th:only-of-type {\n",
       "        vertical-align: middle;\n",
       "    }\n",
       "\n",
       "    .dataframe tbody tr th {\n",
       "        vertical-align: top;\n",
       "    }\n",
       "\n",
       "    .dataframe thead th {\n",
       "        text-align: right;\n",
       "    }\n",
       "</style>\n",
       "<table border=\"1\" class=\"dataframe\">\n",
       "  <thead>\n",
       "    <tr style=\"text-align: right;\">\n",
       "      <th></th>\n",
       "      <th>h</th>\n",
       "      <th>v</th>\n",
       "      <th>j</th>\n",
       "    </tr>\n",
       "  </thead>\n",
       "  <tbody>\n",
       "    <tr>\n",
       "      <th>0</th>\n",
       "      <td>1</td>\n",
       "      <td>2</td>\n",
       "      <td>3</td>\n",
       "    </tr>\n",
       "    <tr>\n",
       "      <th>1</th>\n",
       "      <td>4</td>\n",
       "      <td>5</td>\n",
       "      <td>6</td>\n",
       "    </tr>\n",
       "  </tbody>\n",
       "</table>\n",
       "</div>"
      ],
      "text/plain": [
       "   h  v  j\n",
       "0  1  2  3\n",
       "1  4  5  6"
      ]
     },
     "execution_count": 41,
     "metadata": {},
     "output_type": "execute_result"
    }
   ],
   "source": [
    "y"
   ]
  },
  {
   "cell_type": "code",
   "execution_count": null,
   "metadata": {},
   "outputs": [],
   "source": []
  }
 ],
 "metadata": {
  "kernelspec": {
   "display_name": "Python 3",
   "language": "python",
   "name": "python3"
  },
  "language_info": {
   "codemirror_mode": {
    "name": "ipython",
    "version": 3
   },
   "file_extension": ".py",
   "mimetype": "text/x-python",
   "name": "python",
   "nbconvert_exporter": "python",
   "pygments_lexer": "ipython3",
   "version": "3.8.5"
  }
 },
 "nbformat": 4,
 "nbformat_minor": 1
}
