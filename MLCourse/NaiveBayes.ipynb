{
 "cells": [
  {
   "cell_type": "markdown",
   "metadata": {},
   "source": [
    "# Naive Bayes (the easy way)"
   ]
  },
  {
   "cell_type": "markdown",
   "metadata": {},
   "source": [
    "We'll cheat by using sklearn.naive_bayes to train a spam classifier! Most of the code is just loading our training data into a pandas DataFrame that we can play with:"
   ]
  },
  {
   "cell_type": "code",
   "execution_count": 24,
   "metadata": {},
   "outputs": [],
   "source": [
    "import os\n",
    "import io\n",
    "import numpy\n",
    "from pandas import DataFrame\n",
    "from sklearn.feature_extraction.text import CountVectorizer\n",
    "from sklearn.naive_bayes import MultinomialNB\n",
    "\n",
    "def readFiles(path):\n",
    "    for root, dirnames, filenames in os.walk(path):\n",
    "        for filename in filenames:\n",
    "            path = os.path.join(root, filename)\n",
    "\n",
    "            inBody = False\n",
    "            lines = []\n",
    "            f = io.open(path, 'r', encoding='latin1')\n",
    "            for line in f:\n",
    "                if inBody:\n",
    "                    lines.append(line)\n",
    "                elif line == '\\n':\n",
    "                    inBody = True\n",
    "            f.close()\n",
    "            message = '\\n'.join(lines)\n",
    "            yield path, message\n",
    "\n",
    "\n",
    "def dataFrameFromDirectory(path, classification):\n",
    "    rows = []\n",
    "    index = []\n",
    "    for filename, message in readFiles(path):\n",
    "        rows.append({'message': message, 'class': classification})\n",
    "        index.append(filename)\n",
    "\n",
    "    return DataFrame(rows, index=index)\n",
    "\n",
    "data = DataFrame({'message': [], 'class': []})\n",
    "\n",
    "data = data.append(dataFrameFromDirectory('C:/Users/harik/OneDrive/Documents/Python//MLcourse/emails/spam', 'spam'))\n",
    "data = data.append(dataFrameFromDirectory('C:/Users/harik/OneDrive/Documents/Python/MLcourse/emails/ham', 'ham'))\n"
   ]
  },
  {
   "cell_type": "markdown",
   "metadata": {},
   "source": [
    "Let's have a look at that DataFrame:"
   ]
  },
  {
   "cell_type": "code",
   "execution_count": 25,
   "metadata": {},
   "outputs": [
    {
     "data": {
      "text/html": [
       "<div>\n",
       "<style scoped>\n",
       "    .dataframe tbody tr th:only-of-type {\n",
       "        vertical-align: middle;\n",
       "    }\n",
       "\n",
       "    .dataframe tbody tr th {\n",
       "        vertical-align: top;\n",
       "    }\n",
       "\n",
       "    .dataframe thead th {\n",
       "        text-align: right;\n",
       "    }\n",
       "</style>\n",
       "<table border=\"1\" class=\"dataframe\">\n",
       "  <thead>\n",
       "    <tr style=\"text-align: right;\">\n",
       "      <th></th>\n",
       "      <th>message</th>\n",
       "      <th>class</th>\n",
       "    </tr>\n",
       "  </thead>\n",
       "  <tbody>\n",
       "    <tr>\n",
       "      <th>C:/Users/harik/OneDrive/Documents/Python/MLcourse/emails/ham\\02491.c26245be2a5096fa86647d594561c511</th>\n",
       "      <td>Hi all.\\n\\nDoes anyone know how to set up dual...</td>\n",
       "      <td>ham</td>\n",
       "    </tr>\n",
       "    <tr>\n",
       "      <th>C:/Users/harik/OneDrive/Documents/Python/MLcourse/emails/ham\\02492.6aede44f654a1bbc60c95c7dd770e624</th>\n",
       "      <td>Carlos Luna wrote:\\n\\n\\n\\n&gt;Hi all.\\n\\n&gt;Does an...</td>\n",
       "      <td>ham</td>\n",
       "    </tr>\n",
       "    <tr>\n",
       "      <th>C:/Users/harik/OneDrive/Documents/Python/MLcourse/emails/ham\\02493.f9f2870094430b7db8b0c1052b302cf1</th>\n",
       "      <td>Hi all\\n\\n\\n\\n\\n\\nI have a prob when trying to...</td>\n",
       "      <td>ham</td>\n",
       "    </tr>\n",
       "    <tr>\n",
       "      <th>C:/Users/harik/OneDrive/Documents/Python/MLcourse/emails/ham\\02494.a14f2d3a9bef3f59aa419b03aee8f871</th>\n",
       "      <td>Tim Chapman writes:\\n\\n\\n\\n&gt; http://news.bbc.c...</td>\n",
       "      <td>ham</td>\n",
       "    </tr>\n",
       "    <tr>\n",
       "      <th>C:/Users/harik/OneDrive/Documents/Python/MLcourse/emails/ham\\02495.5064946e77b3046873da91fc47656465</th>\n",
       "      <td>&gt; I had the same problem when installing Win o...</td>\n",
       "      <td>ham</td>\n",
       "    </tr>\n",
       "    <tr>\n",
       "      <th>C:/Users/harik/OneDrive/Documents/Python/MLcourse/emails/ham\\02496.aae0c81581895acfe65323f344340856</th>\n",
       "      <td>Man killed 'trying to surf' on Tube train \\n\\n...</td>\n",
       "      <td>ham</td>\n",
       "    </tr>\n",
       "    <tr>\n",
       "      <th>C:/Users/harik/OneDrive/Documents/Python/MLcourse/emails/ham\\02497.60497db0a06c2132ec2374b2898084d3</th>\n",
       "      <td>Hi Gianni,\\n\\n\\n\\nA very good resource for thi...</td>\n",
       "      <td>ham</td>\n",
       "    </tr>\n",
       "    <tr>\n",
       "      <th>C:/Users/harik/OneDrive/Documents/Python/MLcourse/emails/ham\\02498.09835f512f156da210efb99fcc523e21</th>\n",
       "      <td>Gianni Ponzi wrote:\\n\\n&gt; I have a prob when tr...</td>\n",
       "      <td>ham</td>\n",
       "    </tr>\n",
       "    <tr>\n",
       "      <th>C:/Users/harik/OneDrive/Documents/Python/MLcourse/emails/ham\\02499.b4af165650f138b10f9941f6cc5bce3c</th>\n",
       "      <td>Neale Pickett &lt;neale@woozle.org&gt; writes:\\n\\n\\n...</td>\n",
       "      <td>ham</td>\n",
       "    </tr>\n",
       "    <tr>\n",
       "      <th>C:/Users/harik/OneDrive/Documents/Python/MLcourse/emails/ham\\02500.05b3496ce7bca306bed0805425ec8621</th>\n",
       "      <td>\\n\\nHi,\\n\\n\\n\\nI think you need to give us a l...</td>\n",
       "      <td>ham</td>\n",
       "    </tr>\n",
       "  </tbody>\n",
       "</table>\n",
       "</div>"
      ],
      "text/plain": [
       "                                                                                              message  \\\n",
       "C:/Users/harik/OneDrive/Documents/Python/MLcour...  Hi all.\\n\\nDoes anyone know how to set up dual...   \n",
       "C:/Users/harik/OneDrive/Documents/Python/MLcour...  Carlos Luna wrote:\\n\\n\\n\\n>Hi all.\\n\\n>Does an...   \n",
       "C:/Users/harik/OneDrive/Documents/Python/MLcour...  Hi all\\n\\n\\n\\n\\n\\nI have a prob when trying to...   \n",
       "C:/Users/harik/OneDrive/Documents/Python/MLcour...  Tim Chapman writes:\\n\\n\\n\\n> http://news.bbc.c...   \n",
       "C:/Users/harik/OneDrive/Documents/Python/MLcour...  > I had the same problem when installing Win o...   \n",
       "C:/Users/harik/OneDrive/Documents/Python/MLcour...  Man killed 'trying to surf' on Tube train \\n\\n...   \n",
       "C:/Users/harik/OneDrive/Documents/Python/MLcour...  Hi Gianni,\\n\\n\\n\\nA very good resource for thi...   \n",
       "C:/Users/harik/OneDrive/Documents/Python/MLcour...  Gianni Ponzi wrote:\\n\\n> I have a prob when tr...   \n",
       "C:/Users/harik/OneDrive/Documents/Python/MLcour...  Neale Pickett <neale@woozle.org> writes:\\n\\n\\n...   \n",
       "C:/Users/harik/OneDrive/Documents/Python/MLcour...  \\n\\nHi,\\n\\n\\n\\nI think you need to give us a l...   \n",
       "\n",
       "                                                   class  \n",
       "C:/Users/harik/OneDrive/Documents/Python/MLcour...   ham  \n",
       "C:/Users/harik/OneDrive/Documents/Python/MLcour...   ham  \n",
       "C:/Users/harik/OneDrive/Documents/Python/MLcour...   ham  \n",
       "C:/Users/harik/OneDrive/Documents/Python/MLcour...   ham  \n",
       "C:/Users/harik/OneDrive/Documents/Python/MLcour...   ham  \n",
       "C:/Users/harik/OneDrive/Documents/Python/MLcour...   ham  \n",
       "C:/Users/harik/OneDrive/Documents/Python/MLcour...   ham  \n",
       "C:/Users/harik/OneDrive/Documents/Python/MLcour...   ham  \n",
       "C:/Users/harik/OneDrive/Documents/Python/MLcour...   ham  \n",
       "C:/Users/harik/OneDrive/Documents/Python/MLcour...   ham  "
      ]
     },
     "execution_count": 25,
     "metadata": {},
     "output_type": "execute_result"
    }
   ],
   "source": [
    "data.tail(10)"
   ]
  },
  {
   "cell_type": "markdown",
   "metadata": {},
   "source": [
    "Now we will use a CountVectorizer to split up each message into its list of words, and throw that into a MultinomialNB classifier. Call fit() and we've got a trained spam filter ready to go! It's just that easy."
   ]
  },
  {
   "cell_type": "code",
   "execution_count": 31,
   "metadata": {},
   "outputs": [
    {
     "data": {
      "text/plain": [
       "MultinomialNB()"
      ]
     },
     "execution_count": 31,
     "metadata": {},
     "output_type": "execute_result"
    }
   ],
   "source": [
    "vectorizer = CountVectorizer()\n",
    "counts = vectorizer.fit_transform(data['message'].values)\n",
    "\n",
    "classifier = MultinomialNB()\n",
    "targets = data['class'].values\n",
    "classifier.fit(counts, targets)"
   ]
  },
  {
   "cell_type": "markdown",
   "metadata": {},
   "source": [
    "Let's try it out:"
   ]
  },
  {
   "cell_type": "code",
   "execution_count": 30,
   "metadata": {},
   "outputs": [
    {
     "data": {
      "text/plain": [
       "array(['spam', 'ham'], dtype='<U4')"
      ]
     },
     "execution_count": 30,
     "metadata": {},
     "output_type": "execute_result"
    }
   ],
   "source": [
    "examples = vectorizer.transform(['Free Viagra now!!!', \"Hi Bob, how about a game of golf tomorrow?\"])\n",
    "predictions = classifier.predict(examples)\n",
    "predictions"
   ]
  },
  {
   "cell_type": "markdown",
   "metadata": {},
   "source": [
    "## Activity"
   ]
  },
  {
   "cell_type": "markdown",
   "metadata": {},
   "source": [
    "Our data set is small, so our spam classifier isn't actually very good. Try running some different test emails through it and see if you get the results you expect.\n",
    "\n",
    "If you really want to challenge yourself, try applying train/test to this spam classifier - see how well it can predict some subset of the ham and spam emails."
   ]
  },
  {
   "cell_type": "code",
   "execution_count": null,
   "metadata": {},
   "outputs": [],
   "source": []
  }
 ],
 "metadata": {
  "kernelspec": {
   "display_name": "Python 3",
   "language": "python",
   "name": "python3"
  },
  "language_info": {
   "codemirror_mode": {
    "name": "ipython",
    "version": 3
   },
   "file_extension": ".py",
   "mimetype": "text/x-python",
   "name": "python",
   "nbconvert_exporter": "python",
   "pygments_lexer": "ipython3",
   "version": "3.8.5"
  }
 },
 "nbformat": 4,
 "nbformat_minor": 1
}
