{
 "cells": [
  {
   "cell_type": "markdown",
   "metadata": {},
   "source": [
    "# Mean, Median, Mode, and introducing NumPy"
   ]
  },
  {
   "cell_type": "markdown",
   "metadata": {},
   "source": [
    "## Mean vs. Median"
   ]
  },
  {
   "cell_type": "markdown",
   "metadata": {},
   "source": [
    "Let's create some fake income data, centered around 27,000 with a normal distribution and standard deviation of 15,000, with 10,000 data points. (We'll discuss those terms more later, if you're not familiar with them.)\n",
    "\n",
    "Then, compute the mean (average) - it should be close to 27,000:"
   ]
  },
  {
   "cell_type": "code",
   "execution_count": 1,
   "metadata": {},
   "outputs": [
    {
     "data": {
      "text/plain": [
       "26944.856473009648"
      ]
     },
     "execution_count": 1,
     "metadata": {},
     "output_type": "execute_result"
    }
   ],
   "source": [
    "import numpy as np\n",
    "\n",
    "incomes = np.random.normal(27000, 15000, 10000)\n",
    "np.mean(incomes)"
   ]
  },
  {
   "cell_type": "markdown",
   "metadata": {},
   "source": [
    "We can segment the income data into 50 buckets, and plot it as a histogram:"
   ]
  },
  {
   "cell_type": "code",
   "execution_count": 2,
   "metadata": {},
   "outputs": [
    {
     "data": {
      "image/png": "[encoded data removed]",
      "text/plain": [
       "<Figure size 432x288 with 1 Axes>"
      ]
     },
     "metadata": {
      "needs_background": "light"
     },
     "output_type": "display_data"
    }
   ],
   "source": [
    "%matplotlib inline\n",
    "import matplotlib.pyplot as plt\n",
    "plt.hist(incomes, 50)\n",
    "plt.show()"
   ]
  },
  {
   "cell_type": "markdown",
   "metadata": {},
   "source": [
    "Now compute the median - since we have a nice, even distribution it too should be close to 27,000:"
   ]
  },
  {
   "cell_type": "code",
   "execution_count": 3,
   "metadata": {},
   "outputs": [
    {
     "data": {
      "text/plain": [
       "27092.39320043316"
      ]
     },
     "execution_count": 3,
     "metadata": {},
     "output_type": "execute_result"
    }
   ],
   "source": [
    "np.median(incomes)"
   ]
  },
  {
   "cell_type": "markdown",
   "metadata": {},
   "source": [
    "Now we'll add Jeff Bezos into the mix. Darn income inequality!"
   ]
  },
  {
   "cell_type": "code",
   "execution_count": 4,
   "metadata": {},
   "outputs": [],
   "source": [
    "incomes = np.append(incomes, [1000000000])"
   ]
  },
  {
   "cell_type": "markdown",
   "metadata": {},
   "source": [
    "The median won't change much, but the mean does:"
   ]
  },
  {
   "cell_type": "code",
   "execution_count": 5,
   "metadata": {},
   "outputs": [
    {
     "data": {
      "text/plain": [
       "27092.571036571815"
      ]
     },
     "execution_count": 5,
     "metadata": {},
     "output_type": "execute_result"
    }
   ],
   "source": [
    "np.median(incomes)"
   ]
  },
  {
   "cell_type": "code",
   "execution_count": 6,
   "metadata": {},
   "outputs": [
    {
     "data": {
      "text/plain": [
       "126921.0284963053"
      ]
     },
     "execution_count": 6,
     "metadata": {},
     "output_type": "execute_result"
    }
   ],
   "source": [
    "np.mean(incomes)"
   ]
  },
  {
   "cell_type": "markdown",
   "metadata": {},
   "source": [
    "## Mode"
   ]
  },
  {
   "cell_type": "markdown",
   "metadata": {},
   "source": [
    "Next, let's generate some fake age data for 500 people:"
   ]
  },
  {
   "cell_type": "code",
   "execution_count": 9,
   "metadata": {},
   "outputs": [
    {
     "data": {
      "text/plain": [
       "array([22, 59, 64, 79, 40, 22, 54, 33, 24, 21, 88, 78, 74, 62, 49, 56, 84,\n",
       "       19, 23, 77, 77, 47, 46, 59, 27, 67, 37, 74, 36, 71, 48, 47, 89, 33,\n",
       "       40, 78, 39, 48, 23, 87, 53, 80, 50, 77, 56, 38, 63, 83, 32, 18, 32,\n",
       "       32, 59, 74, 54, 25, 81, 36, 85, 23, 40, 83, 24, 32, 73, 26, 24, 56,\n",
       "       59, 88, 57, 20, 75, 60, 56, 33, 89, 49, 44, 67, 69, 46, 76, 56, 50,\n",
       "       75, 19, 27, 78, 22, 33, 21, 87, 74, 19, 82, 59, 61, 69, 81, 76, 65,\n",
       "       32, 56, 21, 45, 18, 20, 29, 60, 78, 41, 83, 25, 50, 69, 22, 32, 47,\n",
       "       60, 60, 55, 34, 62, 45, 43, 58, 25, 55, 22, 37, 18, 32, 81, 30, 46,\n",
       "       76, 64, 67, 38, 77, 58, 18, 77, 59, 75, 31, 25, 36, 63, 40, 62, 88,\n",
       "       29, 24, 68, 64, 39, 70, 62, 27, 71, 55, 71, 86, 78, 65, 29, 73, 49,\n",
       "       85, 48, 80, 77, 80, 40, 47, 87, 45, 37, 52, 39, 19, 18, 48, 36, 83,\n",
       "       18, 69, 87, 27, 83, 19, 79, 83, 41, 32, 27, 43, 20, 19, 25, 57, 30,\n",
       "       71, 22, 85, 23, 72, 70, 63, 79, 18, 36, 31, 34, 34, 33, 32, 65, 89,\n",
       "       49, 29, 32, 24, 61, 33, 44, 71, 71, 71, 64, 84, 35, 54, 19, 80, 52,\n",
       "       79, 84, 74, 60, 21, 89, 53, 57, 23, 76, 85, 56, 51, 27, 72, 76, 87,\n",
       "       73, 89, 68, 80, 66, 86, 42, 80, 44, 76, 28, 85, 80, 25, 39, 41, 58,\n",
       "       46, 43, 44, 76, 54, 34, 56, 75, 52, 37, 18, 63, 59, 55, 23, 70, 88,\n",
       "       62, 29, 39, 60, 62, 51, 46, 33, 19, 21, 62, 73, 46, 61, 31, 63, 71,\n",
       "       58, 85, 32, 64, 66, 78, 36, 67, 64, 83, 59, 36, 61, 36, 29, 33, 30,\n",
       "       68, 84, 25, 33, 37, 59, 43, 63, 36, 26, 31, 72, 46, 85, 73, 83, 34,\n",
       "       69, 57, 84, 69, 46, 57, 80, 78, 66, 32, 77, 22, 49, 76, 42, 38, 80,\n",
       "       56, 70, 89, 28, 65, 34, 20, 21, 38, 21, 29, 56, 48, 20, 50, 39, 87,\n",
       "       83, 51, 33, 89, 35, 28, 83, 87, 78, 19, 85, 27, 79, 55, 20, 21, 47,\n",
       "       27, 74, 85, 69, 31, 48, 57, 79, 59, 60, 50, 48, 71, 25, 53, 66, 54,\n",
       "       37, 51, 61, 48, 87, 50, 38, 51, 18, 30, 25, 58, 36, 79, 23, 62, 27,\n",
       "       32, 40, 81, 75, 60, 77, 75, 72, 55, 56, 28, 73, 25, 85, 62, 88, 50,\n",
       "       21, 35, 47, 88, 88, 48, 62, 64, 47, 29, 36, 57, 41, 59, 62, 33, 81,\n",
       "       44, 77, 22, 21, 80, 72, 70, 66, 31, 37, 28, 71, 21, 22, 59, 82, 29,\n",
       "       27, 83, 85, 76, 60, 61, 52, 33, 65, 81, 66, 75, 77, 89, 70, 20, 21,\n",
       "       79, 88, 63, 74, 42, 45, 52])"
      ]
     },
     "execution_count": 9,
     "metadata": {},
     "output_type": "execute_result"
    }
   ],
   "source": [
    "ages = np.random.randint(18, high=90, size=500)\n",
    "ages"
   ]
  },
  {
   "cell_type": "code",
   "execution_count": 10,
   "metadata": {},
   "outputs": [
    {
     "data": {
      "text/plain": [
       "ModeResult(mode=array([32]), count=array([13]))"
      ]
     },
     "execution_count": 10,
     "metadata": {},
     "output_type": "execute_result"
    }
   ],
   "source": [
    "from scipy import stats\n",
    "\n",
    "stats.mode(ages)"
   ]
  },
  {
   "cell_type": "code",
   "execution_count": 11,
   "metadata": {},
   "outputs": [
    {
     "data": {
      "text/plain": [
       "55.0"
      ]
     },
     "execution_count": 11,
     "metadata": {},
     "output_type": "execute_result"
    }
   ],
   "source": [
    "np.median(ages)"
   ]
  },
  {
   "cell_type": "code",
   "execution_count": 12,
   "metadata": {},
   "outputs": [
    {
     "data": {
      "text/plain": [
       "53.264"
      ]
     },
     "execution_count": 12,
     "metadata": {},
     "output_type": "execute_result"
    }
   ],
   "source": [
    "np.mean(ages)"
   ]
  },
  {
   "cell_type": "code",
   "execution_count": null,
   "metadata": {},
   "outputs": [],
   "source": []
  },
  {
   "cell_type": "code",
   "execution_count": null,
   "metadata": {},
   "outputs": [],
   "source": []
  }
 ],
 "metadata": {
  "kernelspec": {
   "display_name": "Python 3",
   "language": "python",
   "name": "python3"
  },
  "language_info": {
   "codemirror_mode": {
    "name": "ipython",
    "version": 3
   },
   "file_extension": ".py",
   "mimetype": "text/x-python",
   "name": "python",
   "nbconvert_exporter": "python",
   "pygments_lexer": "ipython3",
   "version": "3.8.5"
  }
 },
 "nbformat": 4,
 "nbformat_minor": 1
}
