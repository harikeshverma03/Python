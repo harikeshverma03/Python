{
 "cells": [
  {
   "cell_type": "code",
   "execution_count": 4,
   "id": "d5574e07",
   "metadata": {},
   "outputs": [],
   "source": [
    "import os\n",
    "path = r'C:\\Users\\harik\\OneDrive\\Documents\\Python\\BTP\\VGG-16'\n",
    "\n",
    "os.mkdir(path)"
   ]
  },
  {
   "cell_type": "code",
   "execution_count": 5,
   "id": "cda26894",
   "metadata": {},
   "outputs": [],
   "source": [
    "import tensorflow as tf\n",
    "import tensorflow.keras\n",
    "from tensorflow import keras\n",
    "import matplotlib.pyplot as plt\n",
    "import os\n",
    "import time\n",
    "import pandas as pd\n",
    "import random\n",
    "import numpy as np\n",
    "from tensorflow.keras.preprocessing.image import ImageDataGenerator, load_img, img_to_array\n",
    "from matplotlib import pyplot\n",
    "from sklearn.model_selection import train_test_split\n",
    "from tensorflow.compat.v1 import ConfigProto\n",
    "from tensorflow.compat.v1 import InteractiveSession\n",
    "from tensorflow import keras\n",
    "from tensorflow.keras import layers\n",
    "from tensorflow.keras.models import Sequential\n",
    "config = ConfigProto()\n",
    "config.gpu_options.allow_growth = True\n",
    "session = InteractiveSession(config=config)\n",
    "\n",
    "physical_devices = tf.config.list_physical_devices('GPU')\n",
    "tf.config.experimental.set_memory_growth(physical_devices[0], True)"
   ]
  },
  {
   "cell_type": "code",
   "execution_count": 6,
   "id": "65e0553f",
   "metadata": {},
   "outputs": [
    {
     "name": "stdout",
     "output_type": "stream",
     "text": [
      "[name: \"/device:CPU:0\"\n",
      "device_type: \"CPU\"\n",
      "memory_limit: 268435456\n",
      "locality {\n",
      "}\n",
      "incarnation: 228418276179819219\n",
      ", name: \"/device:GPU:0\"\n",
      "device_type: \"GPU\"\n",
      "memory_limit: 1437167616\n",
      "locality {\n",
      "  bus_id: 1\n",
      "  links {\n",
      "  }\n",
      "}\n",
      "incarnation: 13757168717220698087\n",
      "physical_device_desc: \"device: 0, name: NVIDIA GeForce GTX 1660 Ti, pci bus id: 0000:01:00.0, compute capability: 7.5\"\n",
      "]\n"
     ]
    }
   ],
   "source": [
    "from tensorflow.python.client import device_lib \n",
    "print(device_lib.list_local_devices())"
   ]
  },
  {
   "cell_type": "code",
   "execution_count": 7,
   "id": "a78dd03e",
   "metadata": {},
   "outputs": [
    {
     "name": "stdout",
     "output_type": "stream",
     "text": [
      "['A1-DH3000-3000h-PT-cell1.jpg', 'A1-DH3000-3000h-PT-cell10.jpg', 'A1-DH3000-3000h-PT-cell11.jpg', 'A1-DH3000-3000h-PT-cell12.jpg', 'A1-DH3000-3000h-PT-cell13.jpg', 'A1-DH3000-3000h-PT-cell14.jpg', 'A1-DH3000-3000h-PT-cell15.jpg', 'A1-DH3000-3000h-PT-cell16.jpg', 'A1-DH3000-3000h-PT-cell17.jpg', 'A1-DH3000-3000h-PT-cell18.jpg', 'A1-DH3000-3000h-PT-cell19.jpg', 'A1-DH3000-3000h-PT-cell2.jpg', 'A1-DH3000-3000h-PT-cell20.jpg', 'A1-DH3000-3000h-PT-cell21.jpg', 'A1-DH3000-3000h-PT-cell22.jpg', 'A1-DH3000-3000h-PT-cell24.jpg', 'A1-DH3000-3000h-PT-cell25.jpg', 'A1-DH3000-3000h-PT-cell26.jpg', 'A1-DH3000-3000h-PT-cell27.jpg', 'A1-DH3000-3000h-PT-cell28.jpg', 'A1-DH3000-3000h-PT-cell29.jpg', 'A1-DH3000-3000h-PT-cell3.jpg', 'A1-DH3000-3000h-PT-cell30.jpg', 'A1-DH3000-3000h-PT-cell31.jpg', 'A1-DH3000-3000h-PT-cell32.jpg', 'A1-DH3000-3000h-PT-cell33.jpg', 'A1-DH3000-3000h-PT-cell34.jpg', 'A1-DH3000-3000h-PT-cell36.jpg', 'A1-DH3000-3000h-PT-cell37.jpg', 'A1-DH3000-3000h-PT-cell38.jpg', 'A1-DH3000-3000h-PT-cell39.jpg', 'A1-DH3000-3000h-PT-cell4.jpg', 'A1-DH3000-3000h-PT-cell40.jpg', 'A1-DH3000-3000h-PT-cell41.jpg', 'A1-DH3000-3000h-PT-cell42.jpg', 'A1-DH3000-3000h-PT-cell43.jpg', 'A1-DH3000-3000h-PT-cell44.jpg', 'A1-DH3000-3000h-PT-cell45.jpg', 'A1-DH3000-3000h-PT-cell46.jpg', 'A1-DH3000-3000h-PT-cell47.jpg', 'A1-DH3000-3000h-PT-cell48.jpg', 'A1-DH3000-3000h-PT-cell49.jpg', 'A1-DH3000-3000h-PT-cell5.jpg', 'A1-DH3000-3000h-PT-cell50.jpg', 'A1-DH3000-3000h-PT-cell51.jpg', 'A1-DH3000-3000h-PT-cell52.jpg', 'A1-DH3000-3000h-PT-cell53.jpg', 'A1-DH3000-3000h-PT-cell54.jpg', 'A1-DH3000-3000h-PT-cell55.jpg', 'A1-DH3000-3000h-PT-cell56.jpg', 'A1-DH3000-3000h-PT-cell57.jpg', 'A1-DH3000-3000h-PT-cell58.jpg', 'A1-DH3000-3000h-PT-cell59.jpg', 'A1-DH3000-3000h-PT-cell6.jpg', 'A1-DH3000-3000h-PT-cell60.jpg', 'A1-DH3000-3000h-PT-cell7.jpg', 'A1-DH3000-3000h-PT-cell8.jpg', 'A1-DH3000-3000h-PT-cell9.jpg', 'A10-DH3000-2500h-PT-cell14.jpg', 'A10-DH3000-2500h-PT-cell49.jpg', 'A10-DH3000-2500h-PT-cell50.jpg', 'A10-DH3000-3000h-PT-cell1.jpg', 'A10-DH3000-3000h-PT-cell10.jpg', 'A10-DH3000-3000h-PT-cell11.jpg', 'A10-DH3000-3000h-PT-cell12.jpg', 'A10-DH3000-3000h-PT-cell13.jpg', 'A10-DH3000-3000h-PT-cell14.jpg', 'A10-DH3000-3000h-PT-cell16.jpg', 'A10-DH3000-3000h-PT-cell17.jpg', 'A10-DH3000-3000h-PT-cell18.jpg', 'A10-DH3000-3000h-PT-cell19.jpg', 'A10-DH3000-3000h-PT-cell2.jpg', 'A10-DH3000-3000h-PT-cell20.jpg', 'A10-DH3000-3000h-PT-cell21.jpg', 'A10-DH3000-3000h-PT-cell22.jpg', 'A10-DH3000-3000h-PT-cell23.jpg', 'A10-DH3000-3000h-PT-cell24.jpg', 'A10-DH3000-3000h-PT-cell25.jpg', 'A10-DH3000-3000h-PT-cell26.jpg', 'A10-DH3000-3000h-PT-cell27.jpg', 'A10-DH3000-3000h-PT-cell28.jpg', 'A10-DH3000-3000h-PT-cell29.jpg', 'A10-DH3000-3000h-PT-cell3.jpg', 'A10-DH3000-3000h-PT-cell30.jpg', 'A10-DH3000-3000h-PT-cell31.jpg', 'A10-DH3000-3000h-PT-cell32.jpg', 'A10-DH3000-3000h-PT-cell33.jpg', 'A10-DH3000-3000h-PT-cell34.jpg', 'A10-DH3000-3000h-PT-cell35.jpg', 'A10-DH3000-3000h-PT-cell36.jpg', 'A10-DH3000-3000h-PT-cell37.jpg', 'A10-DH3000-3000h-PT-cell38.jpg', 'A10-DH3000-3000h-PT-cell39.jpg', 'A10-DH3000-3000h-PT-cell4.jpg', 'A10-DH3000-3000h-PT-cell40.jpg', 'A10-DH3000-3000h-PT-cell41.jpg', 'A10-DH3000-3000h-PT-cell42.jpg', 'A10-DH3000-3000h-PT-cell43.jpg', 'A10-DH3000-3000h-PT-cell44.jpg', 'A10-DH3000-3000h-PT-cell45.jpg', 'A10-DH3000-3000h-PT-cell46.jpg', 'A10-DH3000-3000h-PT-cell47.jpg', 'A10-DH3000-3000h-PT-cell48.jpg', 'A10-DH3000-3000h-PT-cell49.jpg', 'A10-DH3000-3000h-PT-cell5.jpg', 'A10-DH3000-3000h-PT-cell50.jpg', 'A10-DH3000-3000h-PT-cell51.jpg', 'A10-DH3000-3000h-PT-cell52.jpg', 'A10-DH3000-3000h-PT-cell53.jpg', 'A10-DH3000-3000h-PT-cell54.jpg', 'A10-DH3000-3000h-PT-cell55.jpg', 'A10-DH3000-3000h-PT-cell56.jpg', 'A10-DH3000-3000h-PT-cell57.jpg', 'A10-DH3000-3000h-PT-cell58.jpg', 'A10-DH3000-3000h-PT-cell59.jpg', 'A10-DH3000-3000h-PT-cell6.jpg', 'A10-DH3000-3000h-PT-cell60.jpg', 'A10-DH3000-3000h-PT-cell7.jpg', 'A10-DH3000-3000h-PT-cell8.jpg', 'A10-DH3000-3000h-PT-cell9.jpg', 'A11-DH3000-2500h-PT-cell11.jpg', 'A11-DH3000-2500h-PT-cell13.jpg', 'A11-DH3000-2500h-PT-cell31.jpg', 'A11-DH3000-2500h-PT-cell32.jpg', 'A11-DH3000-2500h-PT-cell33.jpg', 'A11-DH3000-2500h-PT-cell34.jpg', 'A11-DH3000-2500h-PT-cell35.jpg', 'A11-DH3000-2500h-PT-cell36.jpg', 'A11-DH3000-2500h-PT-cell37.jpg', 'A11-DH3000-2500h-PT-cell38.jpg', 'A11-DH3000-2500h-PT-cell39.jpg', 'A11-DH3000-2500h-PT-cell40.jpg', 'A11-DH3000-3000h-PT-cell1.jpg', 'A11-DH3000-3000h-PT-cell10.jpg', 'A11-DH3000-3000h-PT-cell11.jpg', 'A11-DH3000-3000h-PT-cell12.jpg', 'A11-DH3000-3000h-PT-cell13.jpg', 'A11-DH3000-3000h-PT-cell14.jpg', 'A11-DH3000-3000h-PT-cell15.jpg', 'A11-DH3000-3000h-PT-cell16.jpg', 'A11-DH3000-3000h-PT-cell17.jpg', 'A11-DH3000-3000h-PT-cell18.jpg', 'A11-DH3000-3000h-PT-cell19.jpg', 'A11-DH3000-3000h-PT-cell2.jpg', 'A11-DH3000-3000h-PT-cell20.jpg', 'A11-DH3000-3000h-PT-cell21.jpg', 'A11-DH3000-3000h-PT-cell22.jpg', 'A11-DH3000-3000h-PT-cell23.jpg', 'A11-DH3000-3000h-PT-cell25.jpg', 'A11-DH3000-3000h-PT-cell26.jpg', 'A11-DH3000-3000h-PT-cell28.jpg', 'A11-DH3000-3000h-PT-cell29.jpg', 'A11-DH3000-3000h-PT-cell3.jpg', 'A11-DH3000-3000h-PT-cell30.jpg', 'A11-DH3000-3000h-PT-cell31.jpg', 'A11-DH3000-3000h-PT-cell32.jpg', 'A11-DH3000-3000h-PT-cell33.jpg', 'A11-DH3000-3000h-PT-cell34.jpg', 'A11-DH3000-3000h-PT-cell35.jpg', 'A11-DH3000-3000h-PT-cell36.jpg', 'A11-DH3000-3000h-PT-cell37.jpg', 'A11-DH3000-3000h-PT-cell38.jpg', 'A11-DH3000-3000h-PT-cell39.jpg', 'A11-DH3000-3000h-PT-cell4.jpg', 'A11-DH3000-3000h-PT-cell40.jpg', 'A11-DH3000-3000h-PT-cell41.jpg', 'A11-DH3000-3000h-PT-cell42.jpg', 'A11-DH3000-3000h-PT-cell43.jpg', 'A11-DH3000-3000h-PT-cell44.jpg', 'A11-DH3000-3000h-PT-cell45.jpg', 'A11-DH3000-3000h-PT-cell46.jpg', 'A11-DH3000-3000h-PT-cell47.jpg', 'A11-DH3000-3000h-PT-cell48.jpg', 'A11-DH3000-3000h-PT-cell49.jpg', 'A11-DH3000-3000h-PT-cell5.jpg', 'A11-DH3000-3000h-PT-cell50.jpg', 'A11-DH3000-3000h-PT-cell51.jpg', 'A11-DH3000-3000h-PT-cell52.jpg', 'A11-DH3000-3000h-PT-cell53.jpg', 'A11-DH3000-3000h-PT-cell54.jpg', 'A11-DH3000-3000h-PT-cell55.jpg', 'A11-DH3000-3000h-PT-cell56.jpg', 'A11-DH3000-3000h-PT-cell57.jpg', 'A11-DH3000-3000h-PT-cell58.jpg', 'A11-DH3000-3000h-PT-cell59.jpg', 'A11-DH3000-3000h-PT-cell6.jpg', 'A11-DH3000-3000h-PT-cell60.jpg', 'A11-DH3000-3000h-PT-cell7.jpg', 'A11-DH3000-3000h-PT-cell8.jpg', 'A11-DH3000-3000h-PT-cell9.jpg']\n"
     ]
    },
    {
     "data": {
      "text/plain": [
       "(3223, 2)"
      ]
     },
     "execution_count": 7,
     "metadata": {},
     "output_type": "execute_result"
    }
   ],
   "source": [
    "os.chdir(r'C:\\Users\\harik\\OneDrive\\Documents\\Projects\\BTP\\1907French-etal-SDLE-EL-ImageDataSet-forML')\n",
    "filenames = os.listdir(\"train_test/c0\")\n",
    "print(filenames)\n",
    "categories_train = []\n",
    "filenamefin_train = []\n",
    "for filename in filenames:\n",
    "      categories_train.append(\"0\")\n",
    "      filenamefin_train.append(filename)\n",
    "filenames = os.listdir(\"train_test/c1\")\n",
    "\n",
    "\n",
    "for filename in filenames:\n",
    "    categories_train.append(\"1\")\n",
    "    filenamefin_train.append(filename)\n",
    "\n",
    "filenames = os.listdir(\"train_test/c2\")\n",
    "for filename in filenames:\n",
    "    categories_train.append(\"2\")\n",
    "    filenamefin_train.append(filename)\n",
    "\n",
    "    \n",
    "filenames = os.listdir(\"train_test/c3\")\n",
    "for filename in filenames:\n",
    "    categories_train.append(\"3\")\n",
    "    filenamefin_train.append(filename)\n",
    "\n",
    "filenames = os.listdir(\"train_test/c4\")\n",
    "for filename in filenames:\n",
    "    categories_train.append(\"4\")\n",
    "    filenamefin_train.append(filename)\n",
    "  \n",
    "df = pd.DataFrame({'filename': filenamefin_train,'category': categories_train})\n",
    "df.shape"
   ]
  },
  {
   "cell_type": "code",
   "execution_count": 8,
   "id": "910f66ab",
   "metadata": {},
   "outputs": [],
   "source": [
    "X = df['filename']\n",
    "y = df['category']\n",
    "X_train, X_test, y_train, y_test = train_test_split(X, y, test_size=0.20, random_state=10, stratify=y)"
   ]
  },
  {
   "cell_type": "code",
   "execution_count": 9,
   "id": "57a31f83",
   "metadata": {},
   "outputs": [],
   "source": [
    "train_df = pd.DataFrame({'filename': X_train,'category': y_train})\n",
    "test_df = pd.DataFrame({'filename': X_test, 'category': y_test})"
   ]
  },
  {
   "cell_type": "code",
   "execution_count": 10,
   "id": "d75081ac",
   "metadata": {},
   "outputs": [
    {
     "name": "stdout",
     "output_type": "stream",
     "text": [
      "['4']\n"
     ]
    },
    {
     "data": {
      "text/plain": [
       "<matplotlib.image.AxesImage at 0x2259001ee80>"
      ]
     },
     "execution_count": 10,
     "metadata": {},
     "output_type": "execute_result"
    },
    {
     "data": {
      "image/png": "[encoded data removed]",
      "text/plain": [
       "<Figure size 432x288 with 1 Axes>"
      ]
     },
     "metadata": {
      "needs_background": "light"
     },
     "output_type": "display_data"
    }
   ],
   "source": [
    "sample = random.choice(X)\n",
    "orders = df.loc[df.filename == sample, 'category'].unique()\n",
    "print(orders)\n",
    "if orders == '0':\n",
    "  image = load_img(\"train/c0/\" + sample)\n",
    "elif orders == '1':\n",
    "  image = load_img(\"train/c1/\" + sample)\n",
    "elif orders == '2':\n",
    "  image = load_img(\"train/c2/\" + sample)\n",
    "elif orders == '3':\n",
    "  image = load_img(\"train/c3/\" + sample)\n",
    "elif orders == '4':\n",
    "  image = load_img(\"train/c4/\" + sample)\n",
    "plt.imshow(image)"
   ]
  },
  {
   "cell_type": "code",
   "execution_count": 11,
   "id": "909b7022",
   "metadata": {},
   "outputs": [
    {
     "data": {
      "text/plain": [
       "0     190\n",
       "1     271\n",
       "2    1866\n",
       "3     187\n",
       "4     709\n",
       "Name: category, dtype: int64"
      ]
     },
     "execution_count": 11,
     "metadata": {},
     "output_type": "execute_result"
    }
   ],
   "source": [
    "df['category'].value_counts(sort = False)"
   ]
  },
  {
   "cell_type": "code",
   "execution_count": 12,
   "id": "11ab2761",
   "metadata": {},
   "outputs": [],
   "source": [
    "total_train = train_df.shape[0]\n",
    "batch_size=16\n",
    "IMAGE_SIZE=(150,150)"
   ]
  },
  {
   "cell_type": "code",
   "execution_count": 13,
   "id": "1d771d10",
   "metadata": {},
   "outputs": [
    {
     "name": "stdout",
     "output_type": "stream",
     "text": [
      "Found 2578 validated image filenames belonging to 5 classes.\n"
     ]
    }
   ],
   "source": [
    "train_datagen = ImageDataGenerator(\n",
    "    rotation_range=15,\n",
    "    rescale=1./255,\n",
    "    shear_range=0.1,\n",
    "    zoom_range=0.2,\n",
    "    horizontal_flip=True,\n",
    "    vertical_flip = True,\n",
    "    width_shift_range=0.1,\n",
    "    height_shift_range=0.1\n",
    ")\n",
    "train_generator = train_datagen.flow_from_dataframe(\n",
    "    train_df, \n",
    "    \"train_test_set\", \n",
    "    x_col='filename',\n",
    "    y_col='category',\n",
    "    target_size=IMAGE_SIZE,\n",
    "    class_mode='categorical',\n",
    "    batch_size=batch_size\n",
    ")"
   ]
  },
  {
   "cell_type": "code",
   "execution_count": 14,
   "id": "7d93de91",
   "metadata": {},
   "outputs": [
    {
     "name": "stdout",
     "output_type": "stream",
     "text": [
      "Found 645 validated image filenames belonging to 5 classes.\n"
     ]
    }
   ],
   "source": [
    "test_gen = ImageDataGenerator(rescale=1./255)\n",
    "test_generator = test_gen.flow_from_dataframe(\n",
    "    test_df, \n",
    "    \"train_test_set\", \n",
    "    x_col='filename',\n",
    "    y_col='category',\n",
    "    class_mode='categorical',\n",
    "    target_size=IMAGE_SIZE,\n",
    "    batch_size=batch_size,\n",
    "    shuffle = False\n",
    ")"
   ]
  },
  {
   "cell_type": "code",
   "execution_count": 15,
   "id": "77427654",
   "metadata": {},
   "outputs": [
    {
     "name": "stdout",
     "output_type": "stream",
     "text": [
      "Model: \"vgg16\"\n",
      "_________________________________________________________________\n",
      "Layer (type)                 Output Shape              Param #   \n",
      "=================================================================\n",
      "input_1 (InputLayer)         [(None, 150, 150, 3)]     0         \n",
      "_________________________________________________________________\n",
      "block1_conv1 (Conv2D)        (None, 150, 150, 64)      1792      \n",
      "_________________________________________________________________\n",
      "block1_conv2 (Conv2D)        (None, 150, 150, 64)      36928     \n",
      "_________________________________________________________________\n",
      "block1_pool (MaxPooling2D)   (None, 75, 75, 64)        0         \n",
      "_________________________________________________________________\n",
      "block2_conv1 (Conv2D)        (None, 75, 75, 128)       73856     \n",
      "_________________________________________________________________\n",
      "block2_conv2 (Conv2D)        (None, 75, 75, 128)       147584    \n",
      "_________________________________________________________________\n",
      "block2_pool (MaxPooling2D)   (None, 37, 37, 128)       0         \n",
      "_________________________________________________________________\n",
      "block3_conv1 (Conv2D)        (None, 37, 37, 256)       295168    \n",
      "_________________________________________________________________\n",
      "block3_conv2 (Conv2D)        (None, 37, 37, 256)       590080    \n",
      "_________________________________________________________________\n",
      "block3_conv3 (Conv2D)        (None, 37, 37, 256)       590080    \n",
      "_________________________________________________________________\n",
      "block3_pool (MaxPooling2D)   (None, 18, 18, 256)       0         \n",
      "_________________________________________________________________\n",
      "block4_conv1 (Conv2D)        (None, 18, 18, 512)       1180160   \n",
      "_________________________________________________________________\n",
      "block4_conv2 (Conv2D)        (None, 18, 18, 512)       2359808   \n",
      "_________________________________________________________________\n",
      "block4_conv3 (Conv2D)        (None, 18, 18, 512)       2359808   \n",
      "_________________________________________________________________\n",
      "block4_pool (MaxPooling2D)   (None, 9, 9, 512)         0         \n",
      "_________________________________________________________________\n",
      "block5_conv1 (Conv2D)        (None, 9, 9, 512)         2359808   \n",
      "_________________________________________________________________\n",
      "block5_conv2 (Conv2D)        (None, 9, 9, 512)         2359808   \n",
      "_________________________________________________________________\n",
      "block5_conv3 (Conv2D)        (None, 9, 9, 512)         2359808   \n",
      "_________________________________________________________________\n",
      "block5_pool (MaxPooling2D)   (None, 4, 4, 512)         0         \n",
      "=================================================================\n",
      "Total params: 14,714,688\n",
      "Trainable params: 14,714,688\n",
      "Non-trainable params: 0\n",
      "_________________________________________________________________\n",
      "None\n"
     ]
    }
   ],
   "source": [
    "model_vgg19= tf.keras.applications.VGG16(weights=\"imagenet\", include_top=False, input_shape = (150,150,3))\n",
    "print(model_vgg19.summary())"
   ]
  },
  {
   "cell_type": "code",
   "execution_count": 16,
   "id": "c430977f",
   "metadata": {},
   "outputs": [
    {
     "name": "stdout",
     "output_type": "stream",
     "text": [
      "<keras.engine.input_layer.InputLayer object at 0x0000022590443F10> False\n",
      "<keras.layers.convolutional.Conv2D object at 0x00000225904A45B0> True\n",
      "<keras.layers.convolutional.Conv2D object at 0x00000225904A4BB0> False\n",
      "<keras.layers.pooling.MaxPooling2D object at 0x00000225F53E92B0> True\n",
      "<keras.layers.convolutional.Conv2D object at 0x0000022590443AC0> False\n",
      "<keras.layers.convolutional.Conv2D object at 0x00000225936F9580> True\n",
      "<keras.layers.pooling.MaxPooling2D object at 0x00000225904A4D00> False\n",
      "<keras.layers.convolutional.Conv2D object at 0x0000022593708580> True\n",
      "<keras.layers.convolutional.Conv2D object at 0x000002259370F490> False\n",
      "<keras.layers.convolutional.Conv2D object at 0x00000225937141F0> True\n",
      "<keras.layers.pooling.MaxPooling2D object at 0x000002259371F2B0> False\n",
      "<keras.layers.convolutional.Conv2D object at 0x0000022593729610> True\n",
      "<keras.layers.convolutional.Conv2D object at 0x000002259371FDF0> False\n",
      "<keras.layers.convolutional.Conv2D object at 0x0000022593724610> True\n",
      "<keras.layers.pooling.MaxPooling2D object at 0x00000225937295B0> False\n",
      "<keras.layers.convolutional.Conv2D object at 0x000002259373F370> True\n",
      "<keras.layers.convolutional.Conv2D object at 0x0000022593729490> False\n",
      "<keras.layers.convolutional.Conv2D object at 0x00000225937478E0> True\n",
      "<keras.layers.pooling.MaxPooling2D object at 0x000002259373F730> False\n"
     ]
    }
   ],
   "source": [
    "i = 0\n",
    "for layer in model_vgg19.layers[:]:\n",
    "    if(i%2 == 0):\n",
    "        layer.trainable = False\n",
    "    i = i+1\n",
    "for layer in model_vgg19.layers:\n",
    "    print(layer, layer.trainable)"
   ]
  },
  {
   "cell_type": "code",
   "execution_count": 17,
   "id": "6d992cb7",
   "metadata": {},
   "outputs": [
    {
     "name": "stdout",
     "output_type": "stream",
     "text": [
      "Model: \"sequential\"\n",
      "_________________________________________________________________\n",
      "Layer (type)                 Output Shape              Param #   \n",
      "=================================================================\n",
      "vgg16 (Functional)           (None, 4, 4, 512)         14714688  \n",
      "_________________________________________________________________\n",
      "flatten (Flatten)            (None, 8192)              0         \n",
      "_________________________________________________________________\n",
      "dense (Dense)                (None, 64)                524352    \n",
      "_________________________________________________________________\n",
      "dropout (Dropout)            (None, 64)                0         \n",
      "_________________________________________________________________\n",
      "dense_1 (Dense)              (None, 5)                 325       \n",
      "=================================================================\n",
      "Total params: 15,239,365\n",
      "Trainable params: 9,818,885\n",
      "Non-trainable params: 5,420,480\n",
      "_________________________________________________________________\n"
     ]
    }
   ],
   "source": [
    "# Create the model\n",
    "from tensorflow.keras.layers import Flatten\n",
    "from tensorflow.keras.layers import Dense\n",
    "new_model = Sequential()\n",
    "# Add the vgg convolutional base model\n",
    "\n",
    "new_model.add(model_vgg19)\n",
    "\n",
    "new_model.add(Flatten())\n",
    "new_model.add(Dense(64, activation='relu'))\n",
    "new_model.add(tensorflow.keras.layers.Dropout(0.5))\n",
    "new_model.add(Dense(5, activation='softmax'))\n",
    "# Show a summary of the new_model. Check the number of trainable parameters\n",
    "\n",
    "new_model.summary()"
   ]
  },
  {
   "cell_type": "code",
   "execution_count": 18,
   "id": "b24a46a6",
   "metadata": {},
   "outputs": [
    {
     "name": "stdout",
     "output_type": "stream",
     "text": [
      "Model: \"sequential\"\n",
      "_________________________________________________________________\n",
      "Layer (type)                 Output Shape              Param #   \n",
      "=================================================================\n",
      "vgg16 (Functional)           (None, 4, 4, 512)         14714688  \n",
      "_________________________________________________________________\n",
      "flatten (Flatten)            (None, 8192)              0         \n",
      "_________________________________________________________________\n",
      "dense (Dense)                (None, 64)                524352    \n",
      "_________________________________________________________________\n",
      "dropout (Dropout)            (None, 64)                0         \n",
      "_________________________________________________________________\n",
      "dense_1 (Dense)              (None, 5)                 325       \n",
      "=================================================================\n",
      "Total params: 15,239,365\n",
      "Trainable params: 9,818,885\n",
      "Non-trainable params: 5,420,480\n",
      "_________________________________________________________________\n"
     ]
    }
   ],
   "source": [
    "new_model.compile(loss='categorical_crossentropy', optimizer=tf.optimizers.Adam(learning_rate=0.0001), metrics=['accuracy'])\n",
    "new_model.summary()"
   ]
  },
  {
   "cell_type": "code",
   "execution_count": 20,
   "id": "3052555a",
   "metadata": {},
   "outputs": [
    {
     "name": "stdout",
     "output_type": "stream",
     "text": [
      "Epoch 1/50\n",
      "162/162 [==============================] - 21s 130ms/step - loss: 0.5341 - accuracy: 0.8340\n",
      "Epoch 2/50\n",
      "162/162 [==============================] - 19s 116ms/step - loss: 0.3103 - accuracy: 0.8964\n",
      "Epoch 3/50\n",
      "162/162 [==============================] - 19s 118ms/step - loss: 0.2628 - accuracy: 0.9197\n",
      "Epoch 4/50\n",
      "162/162 [==============================] - 18s 108ms/step - loss: 0.2383 - accuracy: 0.9228\n",
      "Epoch 5/50\n",
      "162/162 [==============================] - 18s 108ms/step - loss: 0.2057 - accuracy: 0.9333\n",
      "Epoch 6/50\n",
      "162/162 [==============================] - 19s 116ms/step - loss: 0.1667 - accuracy: 0.9480\n",
      "Epoch 7/50\n",
      "162/162 [==============================] - 19s 118ms/step - loss: 0.2339 - accuracy: 0.9271\n",
      "Epoch 8/50\n",
      "162/162 [==============================] - 18s 111ms/step - loss: 0.1742 - accuracy: 0.9527s - ETA: 1s - loss: 0.1\n",
      "Epoch 9/50\n",
      "162/162 [==============================] - 18s 110ms/step - loss: 0.1330 - accuracy: 0.9612\n",
      "Epoch 10/50\n",
      "162/162 [==============================] - 18s 113ms/step - loss: 0.1178 - accuracy: 0.9643\n",
      "Epoch 11/50\n",
      "162/162 [==============================] - 18s 109ms/step - loss: 0.1206 - accuracy: 0.9635\n",
      "Epoch 12/50\n",
      "162/162 [==============================] - 18s 108ms/step - loss: 0.1200 - accuracy: 0.9651\n",
      "Epoch 13/50\n",
      "162/162 [==============================] - 20s 120ms/step - loss: 0.2008 - accuracy: 0.9426s - loss: 0.2071 - accuracy:  - ETA: 3s - loss: 0.2\n",
      "Epoch 14/50\n",
      "162/162 [==============================] - 18s 113ms/step - loss: 0.1308 - accuracy: 0.9651\n",
      "Epoch 15/50\n",
      "162/162 [==============================] - 18s 109ms/step - loss: 0.1506 - accuracy: 0.9600\n",
      "Epoch 16/50\n",
      "162/162 [==============================] - 17s 107ms/step - loss: 0.1623 - accuracy: 0.9577\n",
      "Epoch 17/50\n",
      "162/162 [==============================] - 17s 107ms/step - loss: 0.1141 - accuracy: 0.9694s - loss: 0.1134 - accura - ETA: 1s - loss: 0\n",
      "Epoch 18/50\n",
      "162/162 [==============================] - 18s 108ms/step - loss: 0.1044 - accuracy: 0.9670s - loss: 0.0817 - \n",
      "Epoch 19/50\n",
      "162/162 [==============================] - 18s 108ms/step - loss: 0.0952 - accuracy: 0.9717\n",
      "Epoch 20/50\n",
      "162/162 [==============================] - 18s 108ms/step - loss: 0.0842 - accuracy: 0.9728\n",
      "Epoch 21/50\n",
      "162/162 [==============================] - 19s 114ms/step - loss: 0.1235 - accuracy: 0.9694\n",
      "Epoch 22/50\n",
      "162/162 [==============================] - ETA: 0s - loss: 0.0929 - accuracy: 0.97 - 25s 152ms/step - loss: 0.0929 - accuracy: 0.9709\n",
      "Epoch 23/50\n",
      "162/162 [==============================] - 18s 112ms/step - loss: 0.0790 - accuracy: 0.9775\n",
      "Epoch 24/50\n",
      "162/162 [==============================] - 18s 111ms/step - loss: 0.1376 - accuracy: 0.9608\n",
      "Epoch 25/50\n",
      "162/162 [==============================] - 18s 110ms/step - loss: 0.1031 - accuracy: 0.9717\n",
      "Epoch 26/50\n",
      "162/162 [==============================] - 18s 109ms/step - loss: 0.1871 - accuracy: 0.9554s - loss: 0.1888 - accu\n",
      "Epoch 27/50\n",
      "162/162 [==============================] - 19s 115ms/step - loss: 0.0818 - accuracy: 0.9775\n",
      "Epoch 28/50\n",
      "162/162 [==============================] - 19s 116ms/step - loss: 0.1027 - accuracy: 0.9728\n",
      "Epoch 29/50\n",
      "162/162 [==============================] - 17s 107ms/step - loss: 0.1164 - accuracy: 0.9697s - loss: 0\n",
      "Epoch 30/50\n",
      "162/162 [==============================] - 18s 109ms/step - loss: 0.0745 - accuracy: 0.9814\n",
      "Epoch 31/50\n",
      "162/162 [==============================] - 18s 112ms/step - loss: 0.0789 - accuracy: 0.9802\n",
      "Epoch 32/50\n",
      "162/162 [==============================] - 18s 108ms/step - loss: 0.0740 - accuracy: 0.9825\n",
      "Epoch 33/50\n",
      "162/162 [==============================] - 18s 111ms/step - loss: 0.0619 - accuracy: 0.9829 10s - loss: 0.0566 - acc\n",
      "Epoch 34/50\n",
      "162/162 [==============================] - 20s 121ms/step - loss: 0.0687 - accuracy: 0.9794\n",
      "Epoch 35/50\n",
      "162/162 [==============================] - 18s 111ms/step - loss: 0.0704 - accuracy: 0.9825\n",
      "Epoch 36/50\n",
      "162/162 [==============================] - 18s 107ms/step - loss: 0.1207 - accuracy: 0.9740\n",
      "Epoch 37/50\n",
      "162/162 [==============================] - 18s 111ms/step - loss: 0.0853 - accuracy: 0.9744\n",
      "Epoch 38/50\n",
      "162/162 [==============================] - 17s 107ms/step - loss: 0.0851 - accuracy: 0.9787\n",
      "Epoch 39/50\n",
      "162/162 [==============================] - 17s 107ms/step - loss: 0.0581 - accuracy: 0.9833s - loss: 0.062 - ETA: 1s - loss: 0.059\n",
      "Epoch 40/50\n",
      "162/162 [==============================] - 18s 108ms/step - loss: 0.0781 - accuracy: 0.9767\n",
      "Epoch 41/50\n",
      "162/162 [==============================] - 19s 116ms/step - loss: 0.0664 - accuracy: 0.9837\n",
      "Epoch 42/50\n",
      "162/162 [==============================] - 17s 107ms/step - loss: 0.0720 - accuracy: 0.9833\n",
      "Epoch 43/50\n",
      "162/162 [==============================] - 17s 107ms/step - loss: 0.0623 - accuracy: 0.9810\n",
      "Epoch 44/50\n",
      "162/162 [==============================] - 17s 107ms/step - loss: 0.0764 - accuracy: 0.9783s - loss: 0.0742 - accura\n",
      "Epoch 45/50\n",
      "162/162 [==============================] - 17s 107ms/step - loss: 0.0456 - accuracy: 0.9899\n",
      "Epoch 46/50\n",
      "162/162 [==============================] - 17s 107ms/step - loss: 0.0507 - accuracy: 0.9864s - loss: 0\n",
      "Epoch 47/50\n",
      "162/162 [==============================] - 18s 112ms/step - loss: 0.1494 - accuracy: 0.9663\n",
      "Epoch 48/50\n",
      "162/162 [==============================] - 18s 113ms/step - loss: 0.0744 - accuracy: 0.9756\n",
      "Epoch 49/50\n",
      "162/162 [==============================] - 17s 107ms/step - loss: 0.0530 - accuracy: 0.9856- ETA: 0s - loss: 0.0528 - \n",
      "Epoch 50/50\n",
      "162/162 [==============================] - 18s 108ms/step - loss: 0.0667 - accuracy: 0.9818\n"
     ]
    }
   ],
   "source": [
    "history = new_model.fit(train_generator, epochs=50)"
   ]
  },
  {
   "cell_type": "code",
   "execution_count": 21,
   "id": "38033266",
   "metadata": {},
   "outputs": [
    {
     "name": "stdout",
     "output_type": "stream",
     "text": [
      "41/41 [==============================] - 3s 57ms/step - loss: 0.0617 - accuracy: 0.9752\n"
     ]
    }
   ],
   "source": [
    "\n",
    "file1 = open(os.path.join(path, 'info.txt'),\"a\")\n",
    "print(new_model.evaluate(test_generator), '\\n', file = file1)\n",
    "file1.close()\n",
    "predictions = new_model.predict(test_generator)"
   ]
  },
  {
   "cell_type": "code",
   "execution_count": 23,
   "id": "11187210",
   "metadata": {},
   "outputs": [
    {
     "name": "stdout",
     "output_type": "stream",
     "text": [
      "50\n"
     ]
    },
    {
     "data": {
      "image/png": "[encoded data removed]",
      "text/plain": [
       "<Figure size 720x504 with 1 Axes>"
      ]
     },
     "metadata": {
      "needs_background": "light"
     },
     "output_type": "display_data"
    }
   ],
   "source": [
    "loss_train = history.history['loss']\n",
    "loss_val = history.history['accuracy']\n",
    "fig = plt.figure(figsize=(10, 7))\n",
    "epochs = range(1,51)\n",
    "print(len(epochs))\n",
    "plt.plot(epochs, loss_train, 'g', label='Training loss')\n",
    "plt.plot(epochs, loss_val, 'b', label='Accuracy')\n",
    "plt.title('Training and Validation loss')\n",
    "plt.xlabel('Epochs')\n",
    "plt.ylabel('Loss')\n",
    "plt.legend()\n",
    "plt.savefig(os.path.join(path, 'Loss.png'), dpi = 100)\n",
    "plt.show()"
   ]
  },
  {
   "cell_type": "code",
   "execution_count": 24,
   "id": "140846fd",
   "metadata": {},
   "outputs": [],
   "source": [
    "def process_images(n):\n",
    "    t = test_df.iloc[n]\n",
    "    sample = t.filename\n",
    "    orders = t.category\n",
    "    image = load_img(\"train_test_set/\" + sample)\n",
    "    return ord(orders), predictions[n].argmax(), image"
   ]
  },
  {
   "cell_type": "code",
   "execution_count": 25,
   "id": "13daca3c",
   "metadata": {},
   "outputs": [
    {
     "data": {
      "text/html": [
       "<div>\n",
       "<style scoped>\n",
       "    .dataframe tbody tr th:only-of-type {\n",
       "        vertical-align: middle;\n",
       "    }\n",
       "\n",
       "    .dataframe tbody tr th {\n",
       "        vertical-align: top;\n",
       "    }\n",
       "\n",
       "    .dataframe thead th {\n",
       "        text-align: right;\n",
       "    }\n",
       "</style>\n",
       "<table border=\"1\" class=\"dataframe\">\n",
       "  <thead>\n",
       "    <tr style=\"text-align: right;\">\n",
       "      <th></th>\n",
       "      <th>0</th>\n",
       "      <th>1</th>\n",
       "      <th>2</th>\n",
       "      <th>3</th>\n",
       "      <th>4</th>\n",
       "    </tr>\n",
       "  </thead>\n",
       "  <tbody>\n",
       "    <tr>\n",
       "      <th>0</th>\n",
       "      <td>38.0</td>\n",
       "      <td>0.0</td>\n",
       "      <td>0.0</td>\n",
       "      <td>0.0</td>\n",
       "      <td>0.0</td>\n",
       "    </tr>\n",
       "    <tr>\n",
       "      <th>1</th>\n",
       "      <td>0.0</td>\n",
       "      <td>47.0</td>\n",
       "      <td>10.0</td>\n",
       "      <td>0.0</td>\n",
       "      <td>0.0</td>\n",
       "    </tr>\n",
       "    <tr>\n",
       "      <th>2</th>\n",
       "      <td>0.0</td>\n",
       "      <td>6.0</td>\n",
       "      <td>364.0</td>\n",
       "      <td>0.0</td>\n",
       "      <td>0.0</td>\n",
       "    </tr>\n",
       "    <tr>\n",
       "      <th>3</th>\n",
       "      <td>0.0</td>\n",
       "      <td>0.0</td>\n",
       "      <td>0.0</td>\n",
       "      <td>37.0</td>\n",
       "      <td>0.0</td>\n",
       "    </tr>\n",
       "    <tr>\n",
       "      <th>4</th>\n",
       "      <td>0.0</td>\n",
       "      <td>0.0</td>\n",
       "      <td>0.0</td>\n",
       "      <td>0.0</td>\n",
       "      <td>142.0</td>\n",
       "    </tr>\n",
       "  </tbody>\n",
       "</table>\n",
       "</div>"
      ],
      "text/plain": [
       "      0     1      2     3      4\n",
       "0  38.0   0.0    0.0   0.0    0.0\n",
       "1   0.0  47.0   10.0   0.0    0.0\n",
       "2   0.0   6.0  364.0   0.0    0.0\n",
       "3   0.0   0.0    0.0  37.0    0.0\n",
       "4   0.0   0.0    0.0   0.0  142.0"
      ]
     },
     "execution_count": 25,
     "metadata": {},
     "output_type": "execute_result"
    }
   ],
   "source": [
    "s = predictions.shape\n",
    "pred = np.zeros((5, 5))\n",
    "lis = []\n",
    "for i in range(1, s[0]):\n",
    "  tr1, pr1, img = process_images(i)\n",
    "  tr1 = tr1 - 48\n",
    "  if(tr1 != pr1):\n",
    "    lis.append(img)\n",
    "    #print(pr1, tr1)\n",
    "  pred[pr1, tr1] = pred[pr1, tr1] + 1\n",
    "pred_true = pd.DataFrame(pred)\n",
    "pred_true.head()"
   ]
  },
  {
   "cell_type": "code",
   "execution_count": 26,
   "id": "f8b510e5",
   "metadata": {},
   "outputs": [
    {
     "name": "stdout",
     "output_type": "stream",
     "text": [
      "Saved model to disk\n"
     ]
    }
   ],
   "source": [
    "model_json = new_model.to_json()\n",
    "with open(os.path.join(path, 'model.json'), \"w\") as json_file:\n",
    "    json_file.write(model_json)\n",
    "new_model.save_weights(os.path.join(path, 'model.h5'))\n",
    "print(\"Saved model to disk\")"
   ]
  },
  {
   "cell_type": "code",
   "execution_count": 27,
   "id": "77d57115",
   "metadata": {},
   "outputs": [],
   "source": [
    "hist_df = pd.DataFrame(history.history)\n",
    "hist_df.to_csv(os.path.join(path, 'history.csv'))\n",
    "    \n",
    "file1 = open(os.path.join(path, 'info.txt'),\"a\")\n",
    "file1.write(\"Learning rate = 0.0001 train test split = 0.20 loss = categorical cross entropy optimizer = adam\")\n",
    "file1.close()\n",
    "\n",
    "pred_true.to_csv(os.path.join(path, 'Pred_true.csv'))"
   ]
  },
  {
   "cell_type": "code",
   "execution_count": null,
   "id": "82058505",
   "metadata": {},
   "outputs": [],
   "source": []
  },
  {
   "cell_type": "code",
   "execution_count": null,
   "id": "087f8c7d",
   "metadata": {},
   "outputs": [],
   "source": []
  },
  {
   "cell_type": "markdown",
   "id": "5c8c1699",
   "metadata": {},
   "source": [
    "## Extras"
   ]
  }
 ],
 "metadata": {
  "kernelspec": {
   "display_name": "Python 3 (ipykernel)",
   "language": "python",
   "name": "python3"
  },
  "language_info": {
   "codemirror_mode": {
    "name": "ipython",
    "version": 3
   },
   "file_extension": ".py",
   "mimetype": "text/x-python",
   "name": "python",
   "nbconvert_exporter": "python",
   "pygments_lexer": "ipython3",
   "version": "3.9.7"
  }
 },
 "nbformat": 4,
 "nbformat_minor": 5
}
