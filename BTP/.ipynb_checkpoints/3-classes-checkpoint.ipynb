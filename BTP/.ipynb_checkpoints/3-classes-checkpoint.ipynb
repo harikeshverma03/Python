{
 "cells": [
  {
   "cell_type": "markdown",
   "metadata": {
    "id": "XBxYeKZWax9y"
   },
   "source": [
    "# **Linking Google Drive**"
   ]
  },
  {
   "cell_type": "code",
   "execution_count": 1,
   "metadata": {
    "colab": {
     "base_uri": "https://localhost:8080/"
    },
    "id": "h8l0gGDolkbU",
    "outputId": "c2dc2ae2-bb06-47bd-bfc3-58a5b4509730"
   },
   "outputs": [
    {
     "ename": "ModuleNotFoundError",
     "evalue": "No module named 'google.colab'",
     "output_type": "error",
     "traceback": [
      "\u001b[1;31m---------------------------------------------------------------------------\u001b[0m",
      "\u001b[1;31mModuleNotFoundError\u001b[0m                       Traceback (most recent call last)",
      "\u001b[1;32m<ipython-input-1-d5df0069828e>\u001b[0m in \u001b[0;36m<module>\u001b[1;34m\u001b[0m\n\u001b[1;32m----> 1\u001b[1;33m \u001b[1;32mfrom\u001b[0m \u001b[0mgoogle\u001b[0m\u001b[1;33m.\u001b[0m\u001b[0mcolab\u001b[0m \u001b[1;32mimport\u001b[0m \u001b[0mdrive\u001b[0m\u001b[1;33m\u001b[0m\u001b[1;33m\u001b[0m\u001b[0m\n\u001b[0m\u001b[0;32m      2\u001b[0m \u001b[0mdrive\u001b[0m\u001b[1;33m.\u001b[0m\u001b[0mmount\u001b[0m\u001b[1;33m(\u001b[0m\u001b[1;34m'/content/drive'\u001b[0m\u001b[1;33m)\u001b[0m\u001b[1;33m\u001b[0m\u001b[1;33m\u001b[0m\u001b[0m\n",
      "\u001b[1;31mModuleNotFoundError\u001b[0m: No module named 'google.colab'"
     ]
    }
   ],
   "source": [
    "from google.colab import drive\n",
    "drive.mount('/content/drive')\n"
   ]
  },
  {
   "cell_type": "code",
   "execution_count": 2,
   "metadata": {},
   "outputs": [
    {
     "name": "stdout",
     "output_type": "stream",
     "text": [
      "[name: \"/device:CPU:0\"\n",
      "device_type: \"CPU\"\n",
      "memory_limit: 268435456\n",
      "locality {\n",
      "}\n",
      "incarnation: 11875752092055970573\n",
      "xla_global_id: -1\n",
      ", name: \"/device:GPU:0\"\n",
      "device_type: \"GPU\"\n",
      "memory_limit: 4185718784\n",
      "locality {\n",
      "  bus_id: 1\n",
      "  links {\n",
      "  }\n",
      "}\n",
      "incarnation: 4064941691963156271\n",
      "physical_device_desc: \"device: 0, name: NVIDIA GeForce GTX 1660 Ti, pci bus id: 0000:01:00.0, compute capability: 7.5\"\n",
      "xla_global_id: 416903419\n",
      "]\n"
     ]
    }
   ],
   "source": [
    "from tensorflow.python.client import device_lib \n",
    "print(device_lib.list_local_devices())"
   ]
  },
  {
   "cell_type": "code",
   "execution_count": 3,
   "metadata": {
    "colab": {
     "base_uri": "https://localhost:8080/"
    },
    "id": "ylKYiIcNbBXv",
    "outputId": "ba1b1523-a051-43f6-cee2-32c79d393dc6"
   },
   "outputs": [
    {
     "name": "stdout",
     "output_type": "stream",
     "text": [
      "Sat Dec 18 23:27:55 2021       \n",
      "+-----------------------------------------------------------------------------+\n",
      "| NVIDIA-SMI 497.09       Driver Version: 497.09       CUDA Version: 11.5     |\n",
      "|-------------------------------+----------------------+----------------------+\n",
      "| GPU  Name            TCC/WDDM | Bus-Id        Disp.A | Volatile Uncorr. ECC |\n",
      "| Fan  Temp  Perf  Pwr:Usage/Cap|         Memory-Usage | GPU-Util  Compute M. |\n",
      "|                               |                      |               MIG M. |\n",
      "|===============================+======================+======================|\n",
      "|   0  NVIDIA GeForce ... WDDM  | 00000000:01:00.0 Off |                  N/A |\n",
      "| N/A   46C    P8     2W /  N/A |    427MiB /  6144MiB |      0%      Default |\n",
      "|                               |                      |                  N/A |\n",
      "+-------------------------------+----------------------+----------------------+\n",
      "                                                                               \n",
      "+-----------------------------------------------------------------------------+\n",
      "| Processes:                                                                  |\n",
      "|  GPU   GI   CI        PID   Type   Process name                  GPU Memory |\n",
      "|        ID   ID                                                   Usage      |\n",
      "|=============================================================================|\n",
      "|    0   N/A  N/A      3256    C+G   ...cw5n1h2txyewy\\LockApp.exe    N/A      |\n",
      "|    0   N/A  N/A      4316    C+G   ...ekyb3d8bbwe\\YourPhone.exe    N/A      |\n",
      "|    0   N/A  N/A      7848    C+G   ...2txyewy\\TextInputHost.exe    N/A      |\n",
      "|    0   N/A  N/A     10064    C+G   Insufficient Permissions        N/A      |\n",
      "|    0   N/A  N/A     12256    C+G   ...txyewy\\MiniSearchHost.exe    N/A      |\n",
      "|    0   N/A  N/A     12492      C   D:\\ananconda3\\python.exe        N/A      |\n",
      "|    0   N/A  N/A     15132    C+G   ...artMenuExperienceHost.exe    N/A      |\n",
      "|    0   N/A  N/A     15208    C+G   ...n1h2txyewy\\SearchHost.exe    N/A      |\n",
      "|    0   N/A  N/A     18212    C+G   ...054.57\\msedgewebview2.exe    N/A      |\n",
      "+-----------------------------------------------------------------------------+\n"
     ]
    }
   ],
   "source": [
    "!nvidia-smi\n",
    "import os\n",
    "os.environ[\"CUDA_DEVICE_ORDER\"] = \"PCI_BUS_ID\"\n",
    "os.environ[\"CUDA_VISIBLE_DEVICES\"] = \"0\""
   ]
  },
  {
   "cell_type": "code",
   "execution_count": 3,
   "metadata": {},
   "outputs": [
    {
     "name": "stdout",
     "output_type": "stream",
     "text": [
      "C:\\Users\\harik\\OneDrive\\Documents\\Projects\\BTP\\1907French-etal-SDLE-EL-ImageDataSet-forML\n"
     ]
    }
   ],
   "source": [
    "cd C:\\Users\\harik\\OneDrive\\Documents\\Projects\\BTP\\1907French-etal-SDLE-EL-ImageDataSet-forML"
   ]
  },
  {
   "cell_type": "markdown",
   "metadata": {
    "id": "CA-jDTosa7UJ"
   },
   "source": [
    "# **Importing Important Libraries and Data**"
   ]
  },
  {
   "cell_type": "code",
   "execution_count": 1,
   "metadata": {
    "id": "VbnDCf3eLUGd"
   },
   "outputs": [],
   "source": [
    "import tensorflow as tf\n",
    "import tensorflow.keras\n",
    "from tensorflow import keras\n",
    "import matplotlib.pyplot as plt\n",
    "import os\n",
    "import time\n",
    "import pandas as pd\n",
    "import random\n",
    "import numpy as np\n",
    "from keras.preprocessing.image import ImageDataGenerator, load_img, img_to_array\n",
    "from matplotlib import pyplot\n",
    "from sklearn.model_selection import train_test_split\n",
    "from tensorflow.compat.v1 import ConfigProto\n",
    "from tensorflow.compat.v1 import InteractiveSession\n",
    "\n",
    "config = ConfigProto()\n",
    "config.gpu_options.allow_growth = True\n",
    "session = InteractiveSession(config=config)\n",
    "\n",
    "physical_devices = tf.config.list_physical_devices('GPU')\n",
    "tf.config.experimental.set_memory_growth(physical_devices[0], True)"
   ]
  },
  {
   "cell_type": "code",
   "execution_count": 4,
   "metadata": {
    "colab": {
     "base_uri": "https://localhost:8080/",
     "height": 462
    },
    "id": "HUid5ooDlL5h",
    "outputId": "6fc10ce5-5dd6-4a61-9060-8ea8c4fd4bf0"
   },
   "outputs": [
    {
     "name": "stdout",
     "output_type": "stream",
     "text": [
      "['A1-DH3000-3000h-PT-cell1.jpg', 'A1-DH3000-3000h-PT-cell11.jpg', 'A1-DH3000-3000h-PT-cell12.jpg', 'A1-DH3000-3000h-PT-cell13.jpg', 'A1-DH3000-3000h-PT-cell15.jpg', 'A1-DH3000-3000h-PT-cell17.jpg', 'A1-DH3000-3000h-PT-cell19.jpg', 'A1-DH3000-3000h-PT-cell2.jpg', 'A1-DH3000-3000h-PT-cell21.jpg', 'A1-DH3000-3000h-PT-cell22.jpg', 'A1-DH3000-3000h-PT-cell24.jpg', 'A1-DH3000-3000h-PT-cell25.jpg', 'A1-DH3000-3000h-PT-cell26.jpg', 'A1-DH3000-3000h-PT-cell27.jpg', 'A1-DH3000-3000h-PT-cell28.jpg', 'A1-DH3000-3000h-PT-cell29.jpg', 'A1-DH3000-3000h-PT-cell30.jpg', 'A1-DH3000-3000h-PT-cell31.jpg', 'A1-DH3000-3000h-PT-cell32.jpg', 'A1-DH3000-3000h-PT-cell33.jpg', 'A1-DH3000-3000h-PT-cell34.jpg', 'A1-DH3000-3000h-PT-cell37.jpg', 'A1-DH3000-3000h-PT-cell38.jpg', 'A1-DH3000-3000h-PT-cell40.jpg', 'A1-DH3000-3000h-PT-cell41.jpg', 'A1-DH3000-3000h-PT-cell42.jpg', 'A1-DH3000-3000h-PT-cell43.jpg', 'A1-DH3000-3000h-PT-cell44.jpg', 'A1-DH3000-3000h-PT-cell45.jpg', 'A1-DH3000-3000h-PT-cell46.jpg', 'A1-DH3000-3000h-PT-cell48.jpg', 'A1-DH3000-3000h-PT-cell49.jpg', 'A1-DH3000-3000h-PT-cell5.jpg', 'A1-DH3000-3000h-PT-cell50.jpg', 'A1-DH3000-3000h-PT-cell51.jpg', 'A1-DH3000-3000h-PT-cell52.jpg', 'A1-DH3000-3000h-PT-cell53.jpg', 'A1-DH3000-3000h-PT-cell54.jpg', 'A1-DH3000-3000h-PT-cell55.jpg', 'A1-DH3000-3000h-PT-cell56.jpg', 'A1-DH3000-3000h-PT-cell57.jpg', 'A1-DH3000-3000h-PT-cell58.jpg', 'A1-DH3000-3000h-PT-cell59.jpg', 'A1-DH3000-3000h-PT-cell8.jpg', 'A1-DH3000-3000h-PT-cell9.jpg', 'A10-DH3000-2500h-PT-cell14.jpg', 'A10-DH3000-2500h-PT-cell49.jpg', 'A10-DH3000-2500h-PT-cell50.jpg', 'A10-DH3000-3000h-PT-cell1.jpg', 'A10-DH3000-3000h-PT-cell10.jpg', 'A10-DH3000-3000h-PT-cell11.jpg', 'A10-DH3000-3000h-PT-cell12.jpg', 'A10-DH3000-3000h-PT-cell13.jpg', 'A10-DH3000-3000h-PT-cell14.jpg', 'A10-DH3000-3000h-PT-cell16.jpg', 'A10-DH3000-3000h-PT-cell17.jpg', 'A10-DH3000-3000h-PT-cell18.jpg', 'A10-DH3000-3000h-PT-cell2.jpg', 'A10-DH3000-3000h-PT-cell20.jpg', 'A10-DH3000-3000h-PT-cell22.jpg', 'A10-DH3000-3000h-PT-cell23.jpg', 'A10-DH3000-3000h-PT-cell24.jpg', 'A10-DH3000-3000h-PT-cell25.jpg', 'A10-DH3000-3000h-PT-cell26.jpg', 'A10-DH3000-3000h-PT-cell27.jpg', 'A10-DH3000-3000h-PT-cell3.jpg', 'A10-DH3000-3000h-PT-cell30.jpg', 'A10-DH3000-3000h-PT-cell31.jpg', 'A10-DH3000-3000h-PT-cell32.jpg', 'A10-DH3000-3000h-PT-cell33.jpg', 'A10-DH3000-3000h-PT-cell35.jpg', 'A10-DH3000-3000h-PT-cell36.jpg', 'A10-DH3000-3000h-PT-cell37.jpg', 'A10-DH3000-3000h-PT-cell39.jpg', 'A10-DH3000-3000h-PT-cell4.jpg', 'A10-DH3000-3000h-PT-cell40.jpg', 'A10-DH3000-3000h-PT-cell41.jpg', 'A10-DH3000-3000h-PT-cell42.jpg', 'A10-DH3000-3000h-PT-cell43.jpg', 'A10-DH3000-3000h-PT-cell44.jpg', 'A10-DH3000-3000h-PT-cell45.jpg', 'A10-DH3000-3000h-PT-cell47.jpg', 'A10-DH3000-3000h-PT-cell49.jpg', 'A10-DH3000-3000h-PT-cell51.jpg', 'A10-DH3000-3000h-PT-cell52.jpg', 'A10-DH3000-3000h-PT-cell53.jpg', 'A10-DH3000-3000h-PT-cell54.jpg', 'A10-DH3000-3000h-PT-cell55.jpg', 'A10-DH3000-3000h-PT-cell56.jpg', 'A10-DH3000-3000h-PT-cell58.jpg', 'A10-DH3000-3000h-PT-cell59.jpg', 'A10-DH3000-3000h-PT-cell60.jpg', 'A10-DH3000-3000h-PT-cell7.jpg', 'A10-DH3000-3000h-PT-cell8.jpg', 'A10-DH3000-3000h-PT-cell9.jpg', 'A11-DH3000-2500h-PT-cell11.jpg', 'A11-DH3000-2500h-PT-cell13.jpg', 'A11-DH3000-2500h-PT-cell31.jpg', 'A11-DH3000-2500h-PT-cell32.jpg', 'A11-DH3000-2500h-PT-cell33.jpg', 'A11-DH3000-2500h-PT-cell34.jpg', 'A11-DH3000-2500h-PT-cell35.jpg', 'A11-DH3000-2500h-PT-cell36.jpg', 'A11-DH3000-2500h-PT-cell38.jpg', 'A11-DH3000-2500h-PT-cell40.jpg', 'A11-DH3000-3000h-PT-cell10.jpg', 'A11-DH3000-3000h-PT-cell11.jpg', 'A11-DH3000-3000h-PT-cell13.jpg', 'A11-DH3000-3000h-PT-cell16.jpg', 'A11-DH3000-3000h-PT-cell18.jpg', 'A11-DH3000-3000h-PT-cell19.jpg', 'A11-DH3000-3000h-PT-cell2.jpg', 'A11-DH3000-3000h-PT-cell20.jpg', 'A11-DH3000-3000h-PT-cell21.jpg', 'A11-DH3000-3000h-PT-cell23.jpg', 'A11-DH3000-3000h-PT-cell25.jpg', 'A11-DH3000-3000h-PT-cell28.jpg', 'A11-DH3000-3000h-PT-cell3.jpg', 'A11-DH3000-3000h-PT-cell32.jpg', 'A11-DH3000-3000h-PT-cell34.jpg', 'A11-DH3000-3000h-PT-cell35.jpg', 'A11-DH3000-3000h-PT-cell36.jpg', 'A11-DH3000-3000h-PT-cell38.jpg', 'A11-DH3000-3000h-PT-cell39.jpg', 'A11-DH3000-3000h-PT-cell4.jpg', 'A11-DH3000-3000h-PT-cell40.jpg', 'A11-DH3000-3000h-PT-cell41.jpg', 'A11-DH3000-3000h-PT-cell42.jpg', 'A11-DH3000-3000h-PT-cell43.jpg', 'A11-DH3000-3000h-PT-cell44.jpg', 'A11-DH3000-3000h-PT-cell45.jpg', 'A11-DH3000-3000h-PT-cell46.jpg', 'A11-DH3000-3000h-PT-cell47.jpg', 'A11-DH3000-3000h-PT-cell48.jpg', 'A11-DH3000-3000h-PT-cell49.jpg', 'A11-DH3000-3000h-PT-cell5.jpg', 'A11-DH3000-3000h-PT-cell50.jpg', 'A11-DH3000-3000h-PT-cell51.jpg', 'A11-DH3000-3000h-PT-cell52.jpg', 'A11-DH3000-3000h-PT-cell54.jpg', 'A11-DH3000-3000h-PT-cell55.jpg', 'A11-DH3000-3000h-PT-cell57.jpg', 'A11-DH3000-3000h-PT-cell58.jpg', 'A11-DH3000-3000h-PT-cell59.jpg', 'A11-DH3000-3000h-PT-cell6.jpg', 'A11-DH3000-3000h-PT-cell60.jpg', 'A11-DH3000-3000h-PT-cell7.jpg', 'A11-DH3000-3000h-PT-cell8.jpg', 'A11-DH3000-3000h-PT-cell9.jpg']\n"
     ]
    },
    {
     "data": {
      "text/html": [
       "<div>\n",
       "<style scoped>\n",
       "    .dataframe tbody tr th:only-of-type {\n",
       "        vertical-align: middle;\n",
       "    }\n",
       "\n",
       "    .dataframe tbody tr th {\n",
       "        vertical-align: top;\n",
       "    }\n",
       "\n",
       "    .dataframe thead th {\n",
       "        text-align: right;\n",
       "    }\n",
       "</style>\n",
       "<table border=\"1\" class=\"dataframe\">\n",
       "  <thead>\n",
       "    <tr style=\"text-align: right;\">\n",
       "      <th></th>\n",
       "      <th>filename</th>\n",
       "      <th>category</th>\n",
       "    </tr>\n",
       "  </thead>\n",
       "  <tbody>\n",
       "    <tr>\n",
       "      <th>0</th>\n",
       "      <td>A1-DH3000-3000h-PT-cell1.jpg</td>\n",
       "      <td>0</td>\n",
       "    </tr>\n",
       "    <tr>\n",
       "      <th>1</th>\n",
       "      <td>A1-DH3000-3000h-PT-cell11.jpg</td>\n",
       "      <td>0</td>\n",
       "    </tr>\n",
       "    <tr>\n",
       "      <th>2</th>\n",
       "      <td>A1-DH3000-3000h-PT-cell12.jpg</td>\n",
       "      <td>0</td>\n",
       "    </tr>\n",
       "    <tr>\n",
       "      <th>3</th>\n",
       "      <td>A1-DH3000-3000h-PT-cell13.jpg</td>\n",
       "      <td>0</td>\n",
       "    </tr>\n",
       "    <tr>\n",
       "      <th>4</th>\n",
       "      <td>A1-DH3000-3000h-PT-cell15.jpg</td>\n",
       "      <td>0</td>\n",
       "    </tr>\n",
       "    <tr>\n",
       "      <th>...</th>\n",
       "      <td>...</td>\n",
       "      <td>...</td>\n",
       "    </tr>\n",
       "    <tr>\n",
       "      <th>2617</th>\n",
       "      <td>cell2436.png</td>\n",
       "      <td>4</td>\n",
       "    </tr>\n",
       "    <tr>\n",
       "      <th>2618</th>\n",
       "      <td>cell2441.png</td>\n",
       "      <td>4</td>\n",
       "    </tr>\n",
       "    <tr>\n",
       "      <th>2619</th>\n",
       "      <td>cell2442.png</td>\n",
       "      <td>4</td>\n",
       "    </tr>\n",
       "    <tr>\n",
       "      <th>2620</th>\n",
       "      <td>cell2443.png</td>\n",
       "      <td>4</td>\n",
       "    </tr>\n",
       "    <tr>\n",
       "      <th>2621</th>\n",
       "      <td>cell2444.png</td>\n",
       "      <td>4</td>\n",
       "    </tr>\n",
       "  </tbody>\n",
       "</table>\n",
       "<p>2622 rows × 2 columns</p>\n",
       "</div>"
      ],
      "text/plain": [
       "                           filename category\n",
       "0      A1-DH3000-3000h-PT-cell1.jpg        0\n",
       "1     A1-DH3000-3000h-PT-cell11.jpg        0\n",
       "2     A1-DH3000-3000h-PT-cell12.jpg        0\n",
       "3     A1-DH3000-3000h-PT-cell13.jpg        0\n",
       "4     A1-DH3000-3000h-PT-cell15.jpg        0\n",
       "...                             ...      ...\n",
       "2617                   cell2436.png        4\n",
       "2618                   cell2441.png        4\n",
       "2619                   cell2442.png        4\n",
       "2620                   cell2443.png        4\n",
       "2621                   cell2444.png        4\n",
       "\n",
       "[2622 rows x 2 columns]"
      ]
     },
     "execution_count": 4,
     "metadata": {},
     "output_type": "execute_result"
    }
   ],
   "source": [
    "filenames = os.listdir(\"train/c0\")\n",
    "print(filenames)\n",
    "categories_train = []\n",
    "filenamefin_train = []\n",
    "for filename in filenames:\n",
    "      categories_train.append(\"0\")\n",
    "      filenamefin_train.append(filename)\n",
    "filenames = os.listdir(\"train/c1\")\n",
    "\n",
    "\n",
    "for filename in filenames:\n",
    "    categories_train.append(\"1\")\n",
    "    filenamefin_train.append(filename)\n",
    "\n",
    "filenames = os.listdir(\"train/c2\")\n",
    "for filename in filenames:\n",
    "    categories_train.append(\"2\")\n",
    "    filenamefin_train.append(filename)\n",
    "\n",
    "    \n",
    "filenames = os.listdir(\"train/c3\")\n",
    "for filename in filenames:\n",
    "    categories_train.append(\"3\")\n",
    "    filenamefin_train.append(filename)\n",
    "\n",
    "filenames = os.listdir(\"train/c4\")\n",
    "for filename in filenames:\n",
    "    categories_train.append(\"4\")\n",
    "    filenamefin_train.append(filename)\n",
    "  \n",
    "df = pd.DataFrame({\n",
    "    'filename': filenamefin_train,\n",
    "    'category': categories_train\n",
    "})\n",
    "df"
   ]
  },
  {
   "cell_type": "code",
   "execution_count": 91,
   "metadata": {
    "colab": {
     "base_uri": "https://localhost:8080/",
     "height": 462
    },
    "id": "-6q_0gdhxMuY",
    "outputId": "235a89df-2a93-49b5-f806-d08157307bff"
   },
   "outputs": [
    {
     "name": "stdout",
     "output_type": "stream",
     "text": [
      "['A1-DH3000-3000h-PT-cell10.jpg', 'A1-DH3000-3000h-PT-cell14.jpg', 'A1-DH3000-3000h-PT-cell16.jpg', 'A1-DH3000-3000h-PT-cell18.jpg', 'A1-DH3000-3000h-PT-cell20.jpg', 'A1-DH3000-3000h-PT-cell3.jpg', 'A1-DH3000-3000h-PT-cell36.jpg', 'A1-DH3000-3000h-PT-cell39.jpg', 'A1-DH3000-3000h-PT-cell4.jpg', 'A1-DH3000-3000h-PT-cell47.jpg', 'A1-DH3000-3000h-PT-cell6.jpg', 'A1-DH3000-3000h-PT-cell60.jpg', 'A1-DH3000-3000h-PT-cell7.jpg', 'A10-DH3000-3000h-PT-cell19.jpg', 'A10-DH3000-3000h-PT-cell21.jpg', 'A10-DH3000-3000h-PT-cell28.jpg', 'A10-DH3000-3000h-PT-cell29.jpg', 'A10-DH3000-3000h-PT-cell34.jpg', 'A10-DH3000-3000h-PT-cell38.jpg', 'A10-DH3000-3000h-PT-cell46.jpg', 'A10-DH3000-3000h-PT-cell48.jpg', 'A10-DH3000-3000h-PT-cell5.jpg', 'A10-DH3000-3000h-PT-cell50.jpg', 'A10-DH3000-3000h-PT-cell57.jpg', 'A10-DH3000-3000h-PT-cell6.jpg', 'A11-DH3000-2500h-PT-cell37.jpg', 'A11-DH3000-2500h-PT-cell39.jpg', 'A11-DH3000-3000h-PT-cell1.jpg', 'A11-DH3000-3000h-PT-cell12.jpg', 'A11-DH3000-3000h-PT-cell14.jpg', 'A11-DH3000-3000h-PT-cell15.jpg', 'A11-DH3000-3000h-PT-cell17.jpg', 'A11-DH3000-3000h-PT-cell22.jpg', 'A11-DH3000-3000h-PT-cell26.jpg', 'A11-DH3000-3000h-PT-cell29.jpg', 'A11-DH3000-3000h-PT-cell30.jpg', 'A11-DH3000-3000h-PT-cell31.jpg', 'A11-DH3000-3000h-PT-cell33.jpg', 'A11-DH3000-3000h-PT-cell37.jpg', 'A11-DH3000-3000h-PT-cell53.jpg', 'A11-DH3000-3000h-PT-cell56.jpg']\n"
     ]
    },
    {
     "data": {
      "text/html": [
       "<div>\n",
       "<style scoped>\n",
       "    .dataframe tbody tr th:only-of-type {\n",
       "        vertical-align: middle;\n",
       "    }\n",
       "\n",
       "    .dataframe tbody tr th {\n",
       "        vertical-align: top;\n",
       "    }\n",
       "\n",
       "    .dataframe thead th {\n",
       "        text-align: right;\n",
       "    }\n",
       "</style>\n",
       "<table border=\"1\" class=\"dataframe\">\n",
       "  <thead>\n",
       "    <tr style=\"text-align: right;\">\n",
       "      <th></th>\n",
       "      <th>filename</th>\n",
       "      <th>category</th>\n",
       "    </tr>\n",
       "  </thead>\n",
       "  <tbody>\n",
       "    <tr>\n",
       "      <th>0</th>\n",
       "      <td>A1-DH3000-3000h-PT-cell10.jpg</td>\n",
       "      <td>0</td>\n",
       "    </tr>\n",
       "    <tr>\n",
       "      <th>1</th>\n",
       "      <td>A1-DH3000-3000h-PT-cell14.jpg</td>\n",
       "      <td>0</td>\n",
       "    </tr>\n",
       "    <tr>\n",
       "      <th>2</th>\n",
       "      <td>A1-DH3000-3000h-PT-cell16.jpg</td>\n",
       "      <td>0</td>\n",
       "    </tr>\n",
       "    <tr>\n",
       "      <th>3</th>\n",
       "      <td>A1-DH3000-3000h-PT-cell18.jpg</td>\n",
       "      <td>0</td>\n",
       "    </tr>\n",
       "    <tr>\n",
       "      <th>4</th>\n",
       "      <td>A1-DH3000-3000h-PT-cell20.jpg</td>\n",
       "      <td>0</td>\n",
       "    </tr>\n",
       "    <tr>\n",
       "      <th>...</th>\n",
       "      <td>...</td>\n",
       "      <td>...</td>\n",
       "    </tr>\n",
       "    <tr>\n",
       "      <th>376</th>\n",
       "      <td>cell2428.png</td>\n",
       "      <td>4</td>\n",
       "    </tr>\n",
       "    <tr>\n",
       "      <th>377</th>\n",
       "      <td>cell2429.png</td>\n",
       "      <td>4</td>\n",
       "    </tr>\n",
       "    <tr>\n",
       "      <th>378</th>\n",
       "      <td>cell2430.png</td>\n",
       "      <td>4</td>\n",
       "    </tr>\n",
       "    <tr>\n",
       "      <th>379</th>\n",
       "      <td>cell2432.png</td>\n",
       "      <td>4</td>\n",
       "    </tr>\n",
       "    <tr>\n",
       "      <th>380</th>\n",
       "      <td>cell2433.png</td>\n",
       "      <td>4</td>\n",
       "    </tr>\n",
       "  </tbody>\n",
       "</table>\n",
       "<p>381 rows × 2 columns</p>\n",
       "</div>"
      ],
      "text/plain": [
       "                          filename category\n",
       "0    A1-DH3000-3000h-PT-cell10.jpg        0\n",
       "1    A1-DH3000-3000h-PT-cell14.jpg        0\n",
       "2    A1-DH3000-3000h-PT-cell16.jpg        0\n",
       "3    A1-DH3000-3000h-PT-cell18.jpg        0\n",
       "4    A1-DH3000-3000h-PT-cell20.jpg        0\n",
       "..                             ...      ...\n",
       "376                   cell2428.png        4\n",
       "377                   cell2429.png        4\n",
       "378                   cell2430.png        4\n",
       "379                   cell2432.png        4\n",
       "380                   cell2433.png        4\n",
       "\n",
       "[381 rows x 2 columns]"
      ]
     },
     "execution_count": 91,
     "metadata": {},
     "output_type": "execute_result"
    }
   ],
   "source": [
    "filenames = os.listdir(\"test/c0\")\n",
    "print(filenames)\n",
    "categories_test = []\n",
    "filenamefin_test = []\n",
    "for filename in filenames:\n",
    "      categories_test.append(\"0\")\n",
    "      filenamefin_test.append(filename)\n",
    "filenames = os.listdir(\"test/c1\")\n",
    "\n",
    "\n",
    "for filename in filenames:\n",
    "    categories_test.append(\"1\")\n",
    "    filenamefin_test.append(filename)\n",
    "\n",
    "filenames = os.listdir(\"test/c2\")\n",
    "for filename in filenames:\n",
    "    categories_test.append(\"2\")\n",
    "    filenamefin_test.append(filename)\n",
    "\n",
    "filenames = os.listdir(\"test/c3\")\n",
    "for filename in filenames:\n",
    "    categories_test.append(\"3\")\n",
    "    filenamefin_test.append(filename)\n",
    "\n",
    "filenames = os.listdir(\"test/c4\")\n",
    "for filename in filenames:\n",
    "    categories_test.append(\"4\")\n",
    "    filenamefin_test.append(filename)\n",
    "\n",
    "test_df = pd.DataFrame({\n",
    "    'filename': filenamefin_test,\n",
    "    'category': categories_test\n",
    "})\n",
    "test_df"
   ]
  },
  {
   "cell_type": "markdown",
   "metadata": {
    "id": "cljFKLg_bISB"
   },
   "source": [
    "# **Data Generation**"
   ]
  },
  {
   "cell_type": "code",
   "execution_count": 7,
   "metadata": {
    "id": "bP3e7awBoZ87"
   },
   "outputs": [],
   "source": [
    "train_df, validate_df = train_test_split(df, test_size=0.1, random_state=42)\n",
    "train_df = train_df.reset_index(drop=True)\n",
    "validate_df = validate_df.reset_index(drop=True)"
   ]
  },
  {
   "cell_type": "code",
   "execution_count": 8,
   "metadata": {
    "colab": {
     "base_uri": "https://localhost:8080/",
     "height": 306
    },
    "id": "73VM0nogoorX",
    "outputId": "02570732-022e-4846-d158-86aeb92b968c"
   },
   "outputs": [
    {
     "name": "stdout",
     "output_type": "stream",
     "text": [
      "['3']\n"
     ]
    },
    {
     "data": {
      "text/plain": [
       "<matplotlib.image.AxesImage at 0x25bbf29e070>"
      ]
     },
     "execution_count": 8,
     "metadata": {},
     "output_type": "execute_result"
    },
    {
     "data": {
      "image/png": "[encoded data removed]",
      "text/plain": [
       "<Figure size 432x288 with 1 Axes>"
      ]
     },
     "metadata": {
      "needs_background": "light"
     },
     "output_type": "display_data"
    }
   ],
   "source": [
    "sample = random.choice(filenamefin_train)\n",
    "orders = df.loc[df.filename == sample, 'category'].unique()\n",
    "print(orders)\n",
    "if orders == '0':\n",
    "  image = load_img(\"train/c0/\" + sample)\n",
    "elif orders == '1':\n",
    "  image = load_img(\"train/c1/\" + sample)\n",
    "elif orders == '2':\n",
    "  image = load_img(\"train/c2/\" + sample)\n",
    "elif orders == '3':\n",
    "  image = load_img(\"train/c3/\" + sample)\n",
    "elif orders == '4':\n",
    "  image = load_img(\"train/c4/\" + sample)\n",
    "plt.imshow(image)"
   ]
  },
  {
   "cell_type": "code",
   "execution_count": 36,
   "metadata": {
    "id": "EUPb2UFvzkWe"
   },
   "outputs": [],
   "source": [
    "total_train = train_df.shape[0]\n",
    "total_validate = validate_df.shape[0]\n",
    "batch_size=16\n",
    "IMAGE_SIZE=(224,224)"
   ]
  },
  {
   "cell_type": "code",
   "execution_count": 37,
   "metadata": {},
   "outputs": [
    {
     "data": {
      "text/plain": [
       "<bound method NDFrame.head of                            filename category\n",
       "0                      cell0145.png        2\n",
       "1    A10-DH3000-3000h-PT-cell35.jpg        0\n",
       "2                      cell1944.png        2\n",
       "3      A1-DH3000-1000h-PT-cell2.jpg        2\n",
       "4                      cell1149.png        4\n",
       "..                              ...      ...\n",
       "258                    cell2500.png        2\n",
       "259                    cell1869.png        2\n",
       "260  A10-DH3000-1000h-PT-cell22.jpg        2\n",
       "261  A10-DH3000-2000h-PT-cell60.jpg        2\n",
       "262                    cell1254.png        4\n",
       "\n",
       "[263 rows x 2 columns]>"
      ]
     },
     "execution_count": 37,
     "metadata": {},
     "output_type": "execute_result"
    }
   ],
   "source": [
    "validate_df.head"
   ]
  },
  {
   "cell_type": "markdown",
   "metadata": {
    "id": "0cBut6iWbTGt"
   },
   "source": [
    "**Image generator function**"
   ]
  },
  {
   "cell_type": "code",
   "execution_count": 38,
   "metadata": {
    "colab": {
     "base_uri": "https://localhost:8080/"
    },
    "id": "1qCIFNLwrqG0",
    "outputId": "accb3af4-dfa3-4303-d3e4-2a78813e7b55"
   },
   "outputs": [
    {
     "name": "stdout",
     "output_type": "stream",
     "text": [
      "Found 2620 validated image filenames belonging to 5 classes.\n"
     ]
    },
    {
     "name": "stderr",
     "output_type": "stream",
     "text": [
      "C:\\Users\\harik\\AppData\\Roaming\\Python\\Python38\\site-packages\\keras_preprocessing\\image\\dataframe_iterator.py:279: UserWarning: Found 2 invalid image filename(s) in x_col=\"filename\". These filename(s) will be ignored.\n",
      "  warnings.warn(\n"
     ]
    }
   ],
   "source": [
    "train_datagen = ImageDataGenerator(\n",
    "    rotation_range=15,\n",
    "    rescale=1./255,\n",
    "    shear_range=0.1,\n",
    "    zoom_range=0.2,\n",
    "    horizontal_flip=True,\n",
    "    vertical_flip = True,\n",
    "    width_shift_range=0.1,\n",
    "    height_shift_range=0.1\n",
    ")\n",
    "train_generator = train_datagen.flow_from_dataframe(\n",
    "    df, \n",
    "    \"train_set\", \n",
    "    x_col='filename',\n",
    "    y_col='category',\n",
    "    target_size=IMAGE_SIZE,\n",
    "    class_mode='categorical',\n",
    "    batch_size=batch_size\n",
    ")"
   ]
  },
  {
   "cell_type": "code",
   "execution_count": 39,
   "metadata": {
    "colab": {
     "base_uri": "https://localhost:8080/"
    },
    "id": "Bfk1KXBnxrBO",
    "outputId": "25e9e7a6-f933-41de-c9fb-c414b5ff701b"
   },
   "outputs": [
    {
     "name": "stdout",
     "output_type": "stream",
     "text": [
      "Found 263 validated image filenames belonging to 5 classes.\n"
     ]
    }
   ],
   "source": [
    "validation_datagen = ImageDataGenerator(rescale=1./255)\n",
    "validation_generator = validation_datagen.flow_from_dataframe(\n",
    "    validate_df, \n",
    "    \"train_set\", \n",
    "    x_col='filename',\n",
    "    y_col='category',\n",
    "    target_size=IMAGE_SIZE,\n",
    "    class_mode='categorical',\n",
    "    batch_size=batch_size\n",
    ")"
   ]
  },
  {
   "cell_type": "code",
   "execution_count": 40,
   "metadata": {
    "colab": {
     "base_uri": "https://localhost:8080/"
    },
    "id": "-bjQAd2BEW_W",
    "outputId": "c6e1f2fa-490a-45ec-859e-545e6a4f8b64"
   },
   "outputs": [
    {
     "name": "stdout",
     "output_type": "stream",
     "text": [
      "Found 381 validated image filenames belonging to 5 classes.\n"
     ]
    }
   ],
   "source": [
    "test_gen = ImageDataGenerator(rescale=1./255)\n",
    "test_generator = test_gen.flow_from_dataframe(\n",
    "    test_df, \n",
    "    \"test_set\", \n",
    "    x_col='filename',\n",
    "    y_col='category',\n",
    "    class_mode='categorical',\n",
    "    target_size=IMAGE_SIZE,\n",
    "    batch_size=batch_size,\n",
    "    shuffle = False\n",
    ")"
   ]
  },
  {
   "cell_type": "markdown",
   "metadata": {
    "id": "6nQhGgoUbZWL"
   },
   "source": [
    "# **Model Architechture**"
   ]
  },
  {
   "cell_type": "code",
   "execution_count": 41,
   "metadata": {
    "id": "PFZBBMA6fe3R"
   },
   "outputs": [],
   "source": [
    "model = keras.models.Sequential([\n",
    "    keras.layers.Conv2D(filters=64, kernel_size=(3,3), strides=(1,1), activation='sigmoid', input_shape=(50,50,3)),\n",
    "    #keras.layers.BatchNormalization(),\n",
    "    keras.layers.MaxPool2D(pool_size=(2,2), strides=(1,1)),\n",
    "    keras.layers.Conv2D(filters=64, kernel_size=(3,3), strides=(1,1), activation='sigmoid'),\n",
    "    #keras.layers.BatchNormalization(),\n",
    "    keras.layers.MaxPool2D(pool_size=(2,2), strides=(1,1)),\n",
    "    keras.layers.Conv2D(filters=64, kernel_size=(3,3), strides=(1,1), activation='sigmoid'),\n",
    "    #keras.layers.BatchNormalization(),\n",
    "    keras.layers.MaxPool2D(pool_size=(2,2), strides=(1,1)),\n",
    "    keras.layers.Conv2D(filters=32, kernel_size=(3,3), strides=(1,1), activation='sigmoid'),\n",
    "    #keras.layers.BatchNormalization(),\n",
    "    keras.layers.MaxPool2D(pool_size=(2,2), strides=(1,1)),\n",
    "    keras.layers.Conv2D(filters=32, kernel_size=(3,3), strides=(1,1), activation='sigmoid'),\n",
    "    #keras.layers.BatchNormalization(),\n",
    "    keras.layers.MaxPool2D(pool_size=(2,2), strides=(1,1)),\n",
    "    keras.layers.Flatten(),\n",
    "    #keras.layers.Dense(1, activation='relu'),\n",
    "    keras.layers.Dropout(0.5),\n",
    "    keras.layers.Dense(5, activation='softmax')\n",
    "])"
   ]
  },
  {
   "cell_type": "code",
   "execution_count": 104,
   "metadata": {},
   "outputs": [],
   "source": [
    "model = keras.models.Sequential([\n",
    "    keras.layers.Conv2D(filters=96, kernel_size=(11,11), strides=(4,4), activation='relu', input_shape=(224,224,3)),\n",
    "    keras.layers.BatchNormalization(),\n",
    "    keras.layers.MaxPool2D(pool_size=(3,3), strides=(2,2)),\n",
    "    keras.layers.Conv2D(filters=256, kernel_size=(5,5), strides=(1,1), activation='relu', padding=\"same\"),\n",
    "    keras.layers.BatchNormalization(),\n",
    "    keras.layers.MaxPool2D(pool_size=(3,3), strides=(2,2)),\n",
    "    keras.layers.Conv2D(filters=384, kernel_size=(3,3), strides=(1,1), activation='relu', padding=\"same\"),\n",
    "    keras.layers.BatchNormalization(),\n",
    "    keras.layers.Conv2D(filters=384, kernel_size=(3,3), strides=(1,1), activation='relu', padding=\"same\"),\n",
    "    keras.layers.BatchNormalization(),\n",
    "    keras.layers.Conv2D(filters=256, kernel_size=(3,3), strides=(1,1), activation='relu', padding=\"same\"),\n",
    "    keras.layers.BatchNormalization(),\n",
    "    keras.layers.MaxPool2D(pool_size=(3,3), strides=(2,2)),\n",
    "    keras.layers.Flatten(),\n",
    "    keras.layers.Dense(4096, activation='relu'),\n",
    "    keras.layers.Dropout(0.5),\n",
    "    keras.layers.Dense(4096, activation='relu'),\n",
    "    keras.layers.Dropout(0.5),\n",
    "    keras.layers.Dense(5, activation='softmax')\n",
    "])"
   ]
  },
  {
   "cell_type": "code",
   "execution_count": 105,
   "metadata": {
    "id": "2XdOJx2ZfTT2"
   },
   "outputs": [],
   "source": [
    "root_logdir = os.path.join(os.curdir, \"logs\\\\fit\\\\\")\n",
    "def get_run_logdir():\n",
    "    run_id = time.strftime(\"run_%Y_%m_%d-%H_%M_%S\")\n",
    "    return os.path.join(root_logdir, run_id)\n",
    "run_logdir = get_run_logdir()\n",
    "tensorboard_cb = keras.callbacks.TensorBoard(run_logdir)\n"
   ]
  },
  {
   "cell_type": "code",
   "execution_count": 106,
   "metadata": {
    "colab": {
     "base_uri": "https://localhost:8080/"
    },
    "id": "sZA7MWq8HfDl",
    "outputId": "f05c71bb-5585-4868-9ec5-8f1fd9831199"
   },
   "outputs": [
    {
     "name": "stdout",
     "output_type": "stream",
     "text": [
      "Model: \"sequential_9\"\n",
      "_________________________________________________________________\n",
      " Layer (type)                Output Shape              Param #   \n",
      "=================================================================\n",
      " conv2d_45 (Conv2D)          (None, 54, 54, 96)        34944     \n",
      "                                                                 \n",
      " batch_normalization_20 (Bat  (None, 54, 54, 96)       384       \n",
      " chNormalization)                                                \n",
      "                                                                 \n",
      " max_pooling2d_37 (MaxPoolin  (None, 26, 26, 96)       0         \n",
      " g2D)                                                            \n",
      "                                                                 \n",
      " conv2d_46 (Conv2D)          (None, 26, 26, 256)       614656    \n",
      "                                                                 \n",
      " batch_normalization_21 (Bat  (None, 26, 26, 256)      1024      \n",
      " chNormalization)                                                \n",
      "                                                                 \n",
      " max_pooling2d_38 (MaxPoolin  (None, 12, 12, 256)      0         \n",
      " g2D)                                                            \n",
      "                                                                 \n",
      " conv2d_47 (Conv2D)          (None, 12, 12, 384)       885120    \n",
      "                                                                 \n",
      " batch_normalization_22 (Bat  (None, 12, 12, 384)      1536      \n",
      " chNormalization)                                                \n",
      "                                                                 \n",
      " conv2d_48 (Conv2D)          (None, 12, 12, 384)       1327488   \n",
      "                                                                 \n",
      " batch_normalization_23 (Bat  (None, 12, 12, 384)      1536      \n",
      " chNormalization)                                                \n",
      "                                                                 \n",
      " conv2d_49 (Conv2D)          (None, 12, 12, 256)       884992    \n",
      "                                                                 \n",
      " batch_normalization_24 (Bat  (None, 12, 12, 256)      1024      \n",
      " chNormalization)                                                \n",
      "                                                                 \n",
      " max_pooling2d_39 (MaxPoolin  (None, 5, 5, 256)        0         \n",
      " g2D)                                                            \n",
      "                                                                 \n",
      " flatten_9 (Flatten)         (None, 6400)              0         \n",
      "                                                                 \n",
      " dense_17 (Dense)            (None, 4096)              26218496  \n",
      "                                                                 \n",
      " dropout_13 (Dropout)        (None, 4096)              0         \n",
      "                                                                 \n",
      " dense_18 (Dense)            (None, 4096)              16781312  \n",
      "                                                                 \n",
      " dropout_14 (Dropout)        (None, 4096)              0         \n",
      "                                                                 \n",
      " dense_19 (Dense)            (None, 5)                 20485     \n",
      "                                                                 \n",
      "=================================================================\n",
      "Total params: 46,772,997\n",
      "Trainable params: 46,770,245\n",
      "Non-trainable params: 2,752\n",
      "_________________________________________________________________\n"
     ]
    }
   ],
   "source": [
    "model.compile(loss='categorical_crossentropy', optimizer=tf.optimizers.SGD(lr=0.001), metrics=['accuracy'])\n",
    "model.summary()\n"
   ]
  },
  {
   "cell_type": "markdown",
   "metadata": {
    "id": "yqEZza6nbhfZ"
   },
   "source": [
    "**Training the model**"
   ]
  },
  {
   "cell_type": "code",
   "execution_count": 107,
   "metadata": {
    "colab": {
     "base_uri": "https://localhost:8080/"
    },
    "id": "Cf6P5f7zyYwd",
    "outputId": "c008b40e-4169-408e-e114-fe2f5e4491df"
   },
   "outputs": [
    {
     "name": "stdout",
     "output_type": "stream",
     "text": [
      "Epoch 1/50\n",
      "164/164 [==============================] - 30s 172ms/step - loss: 1.7140 - accuracy: 0.5546\n",
      "Epoch 2/50\n",
      "164/164 [==============================] - 28s 168ms/step - loss: 1.1581 - accuracy: 0.6641\n",
      "Epoch 3/50\n",
      "164/164 [==============================] - 27s 166ms/step - loss: 1.0158 - accuracy: 0.6939\n",
      "Epoch 4/50\n",
      "164/164 [==============================] - 28s 169ms/step - loss: 0.8955 - accuracy: 0.7267\n",
      "Epoch 5/50\n",
      "164/164 [==============================] - 29s 176ms/step - loss: 0.8063 - accuracy: 0.7492\n",
      "Epoch 6/50\n",
      "164/164 [==============================] - 28s 171ms/step - loss: 0.7136 - accuracy: 0.7775\n",
      "Epoch 7/50\n",
      "164/164 [==============================] - 28s 169ms/step - loss: 0.6597 - accuracy: 0.7794\n",
      "Epoch 8/50\n",
      "164/164 [==============================] - 28s 169ms/step - loss: 0.6140 - accuracy: 0.7989\n",
      "Epoch 9/50\n",
      "164/164 [==============================] - 27s 166ms/step - loss: 0.6317 - accuracy: 0.7805\n",
      "Epoch 10/50\n",
      "164/164 [==============================] - 27s 167ms/step - loss: 0.6308 - accuracy: 0.7878\n",
      "Epoch 11/50\n",
      "164/164 [==============================] - 27s 167ms/step - loss: 0.6271 - accuracy: 0.7885\n",
      "Epoch 12/50\n",
      "164/164 [==============================] - 27s 167ms/step - loss: 0.6541 - accuracy: 0.7775\n",
      "Epoch 13/50\n",
      "164/164 [==============================] - 27s 167ms/step - loss: 0.6128 - accuracy: 0.7901\n",
      "Epoch 14/50\n",
      "164/164 [==============================] - 28s 168ms/step - loss: 0.5635 - accuracy: 0.7969\n",
      "Epoch 15/50\n",
      "164/164 [==============================] - 27s 167ms/step - loss: 0.5349 - accuracy: 0.8179\n",
      "Epoch 16/50\n",
      "164/164 [==============================] - 28s 168ms/step - loss: 0.4977 - accuracy: 0.8275\n",
      "Epoch 17/50\n",
      "164/164 [==============================] - 28s 168ms/step - loss: 0.4797 - accuracy: 0.8347\n",
      "Epoch 18/50\n",
      "164/164 [==============================] - 28s 168ms/step - loss: 0.4349 - accuracy: 0.8519\n",
      "Epoch 19/50\n",
      "164/164 [==============================] - 27s 167ms/step - loss: 0.4155 - accuracy: 0.8500\n",
      "Epoch 20/50\n",
      "164/164 [==============================] - 27s 167ms/step - loss: 0.4071 - accuracy: 0.8603\n",
      "Epoch 21/50\n",
      "164/164 [==============================] - 28s 168ms/step - loss: 0.4212 - accuracy: 0.8538\n",
      "Epoch 22/50\n",
      "164/164 [==============================] - 27s 167ms/step - loss: 0.4056 - accuracy: 0.8588\n",
      "Epoch 23/50\n",
      "164/164 [==============================] - 27s 166ms/step - loss: 0.3641 - accuracy: 0.8702\n",
      "Epoch 24/50\n",
      "164/164 [==============================] - 27s 167ms/step - loss: 0.3799 - accuracy: 0.8653\n",
      "Epoch 25/50\n",
      "164/164 [==============================] - 27s 167ms/step - loss: 0.3740 - accuracy: 0.8668\n",
      "Epoch 26/50\n",
      "164/164 [==============================] - 28s 168ms/step - loss: 0.3541 - accuracy: 0.8710\n",
      "Epoch 27/50\n",
      "164/164 [==============================] - 27s 167ms/step - loss: 0.3627 - accuracy: 0.8790\n",
      "Epoch 28/50\n",
      "164/164 [==============================] - 27s 167ms/step - loss: 0.3734 - accuracy: 0.8679\n",
      "Epoch 29/50\n",
      "164/164 [==============================] - 27s 166ms/step - loss: 0.3530 - accuracy: 0.8718\n",
      "Epoch 30/50\n",
      "164/164 [==============================] - 26s 160ms/step - loss: 0.3330 - accuracy: 0.8824\n",
      "Epoch 31/50\n",
      "164/164 [==============================] - 26s 158ms/step - loss: 0.3425 - accuracy: 0.8809\n",
      "Epoch 32/50\n",
      "164/164 [==============================] - 26s 160ms/step - loss: 0.3243 - accuracy: 0.8859\n",
      "Epoch 33/50\n",
      "164/164 [==============================] - 26s 158ms/step - loss: 0.3488 - accuracy: 0.8737\n",
      "Epoch 34/50\n",
      "164/164 [==============================] - 26s 159ms/step - loss: 0.3543 - accuracy: 0.8714\n",
      "Epoch 35/50\n",
      "164/164 [==============================] - 26s 158ms/step - loss: 0.3270 - accuracy: 0.8920\n",
      "Epoch 36/50\n",
      "164/164 [==============================] - 26s 159ms/step - loss: 0.3342 - accuracy: 0.8790\n",
      "Epoch 37/50\n",
      "164/164 [==============================] - 26s 158ms/step - loss: 0.3127 - accuracy: 0.8847\n",
      "Epoch 38/50\n",
      "164/164 [==============================] - 26s 159ms/step - loss: 0.3045 - accuracy: 0.8878\n",
      "Epoch 39/50\n",
      "164/164 [==============================] - 26s 159ms/step - loss: 0.2858 - accuracy: 0.8931\n",
      "Epoch 40/50\n",
      "164/164 [==============================] - 26s 159ms/step - loss: 0.3133 - accuracy: 0.8901\n",
      "Epoch 41/50\n",
      "164/164 [==============================] - 26s 158ms/step - loss: 0.2988 - accuracy: 0.8901\n",
      "Epoch 42/50\n",
      "164/164 [==============================] - 28s 169ms/step - loss: 0.2954 - accuracy: 0.8882\n",
      "Epoch 43/50\n",
      "164/164 [==============================] - 27s 167ms/step - loss: 0.2902 - accuracy: 0.8947\n",
      "Epoch 44/50\n",
      "164/164 [==============================] - 28s 169ms/step - loss: 0.2901 - accuracy: 0.9004\n",
      "Epoch 45/50\n",
      "164/164 [==============================] - 28s 167ms/step - loss: 0.2995 - accuracy: 0.8920\n",
      "Epoch 46/50\n",
      "164/164 [==============================] - 28s 171ms/step - loss: 0.2859 - accuracy: 0.9019\n",
      "Epoch 47/50\n",
      "164/164 [==============================] - 27s 167ms/step - loss: 0.2827 - accuracy: 0.8931\n",
      "Epoch 48/50\n",
      "164/164 [==============================] - 28s 168ms/step - loss: 0.2799 - accuracy: 0.8985\n",
      "Epoch 49/50\n",
      "164/164 [==============================] - 28s 168ms/step - loss: 0.2709 - accuracy: 0.9042\n",
      "Epoch 50/50\n",
      "164/164 [==============================] - 28s 170ms/step - loss: 0.2797 - accuracy: 0.8947\n"
     ]
    }
   ],
   "source": [
    "total_train = train_df.shape[0]\n",
    "total_validate = validate_df.shape[0]\n",
    "#, validation_data=validation_generator,validation_steps=total_validate//batch_size,\n",
    "history = model.fit(train_generator, epochs=50)#,validation_data=validation_generator) "
   ]
  },
  {
   "cell_type": "code",
   "execution_count": 109,
   "metadata": {
    "colab": {
     "base_uri": "https://localhost:8080/",
     "height": 313
    },
    "id": "AXtXVPEGaUEy",
    "outputId": "14614d72-1cb0-4e9f-9b96-dd63fba71f82"
   },
   "outputs": [
    {
     "name": "stdout",
     "output_type": "stream",
     "text": [
      "50\n"
     ]
    },
    {
     "data": {
      "image/png": "[encoded data removed]",
      "text/plain": [
       "<Figure size 432x288 with 1 Axes>"
      ]
     },
     "metadata": {
      "needs_background": "light"
     },
     "output_type": "display_data"
    }
   ],
   "source": [
    "loss_train = history.history['loss']\n",
    "loss_val = history.history['accuracy']\n",
    "epochs = range(1,51)\n",
    "print(len(epochs))\n",
    "plt.plot(epochs, loss_train, 'g', label='Training loss')\n",
    "plt.plot(epochs, loss_val, 'b', label='validation loss')\n",
    "plt.title('Training and Validation loss')\n",
    "plt.xlabel('Epochs')\n",
    "plt.ylabel('Loss')\n",
    "plt.legend()\n",
    "plt.show()"
   ]
  },
  {
   "cell_type": "code",
   "execution_count": 110,
   "metadata": {
    "colab": {
     "base_uri": "https://localhost:8080/"
    },
    "id": "5bOxtHrhysAh",
    "outputId": "9b169553-f439-44ee-9b53-bfafc12ac101"
   },
   "outputs": [
    {
     "name": "stdout",
     "output_type": "stream",
     "text": [
      "24/24 [==============================] - 1s 37ms/step - loss: 0.3149 - accuracy: 0.8871\n"
     ]
    },
    {
     "data": {
      "text/plain": [
       "[0.3149314820766449, 0.887139081954956]"
      ]
     },
     "execution_count": 110,
     "metadata": {},
     "output_type": "execute_result"
    }
   ],
   "source": [
    " model.evaluate(test_generator)"
   ]
  },
  {
   "cell_type": "code",
   "execution_count": 111,
   "metadata": {},
   "outputs": [
    {
     "name": "stdout",
     "output_type": "stream",
     "text": [
      "164/164 [==============================] - 28s 170ms/step - loss: 0.3860 - accuracy: 0.8668\n"
     ]
    },
    {
     "data": {
      "text/plain": [
       "[0.3859579861164093, 0.8667938709259033]"
      ]
     },
     "execution_count": 111,
     "metadata": {},
     "output_type": "execute_result"
    }
   ],
   "source": [
    " model.evaluate(train_generator)"
   ]
  },
  {
   "cell_type": "code",
   "execution_count": 112,
   "metadata": {
    "id": "441FrsChysOS"
   },
   "outputs": [],
   "source": [
    "predictions = model.predict(test_generator)"
   ]
  },
  {
   "cell_type": "code",
   "execution_count": 113,
   "metadata": {
    "colab": {
     "base_uri": "https://localhost:8080/"
    },
    "id": "D2TI_c2RUlgl",
    "outputId": "5d72f8e2-0625-45e0-d392-e8d38ba94dcb"
   },
   "outputs": [
    {
     "data": {
      "text/plain": [
       "array([9.9903971e-01, 5.8693240e-06, 4.1343337e-06, 9.4777247e-04,\n",
       "       2.5041397e-06], dtype=float32)"
      ]
     },
     "execution_count": 113,
     "metadata": {},
     "output_type": "execute_result"
    }
   ],
   "source": [
    "predictions[0]"
   ]
  },
  {
   "cell_type": "markdown",
   "metadata": {
    "id": "MZr1BtbEb6Wy"
   },
   "source": [
    "**Making Predictions**"
   ]
  },
  {
   "cell_type": "code",
   "execution_count": 124,
   "metadata": {
    "colab": {
     "base_uri": "https://localhost:8080/"
    },
    "id": "SLATXnLrysQz",
    "outputId": "9df93825-9261-4962-ab2d-2fc23699c881"
   },
   "outputs": [
    {
     "data": {
      "text/plain": [
       "array([2.7190082e-12, 2.1996138e-06, 5.3765566e-06, 1.2912235e-05,\n",
       "       9.9997950e-01], dtype=float32)"
      ]
     },
     "execution_count": 124,
     "metadata": {},
     "output_type": "execute_result"
    }
   ],
   "source": [
    "predictions[380]"
   ]
  },
  {
   "cell_type": "code",
   "execution_count": 125,
   "metadata": {
    "colab": {
     "base_uri": "https://localhost:8080/",
     "height": 324
    },
    "id": "uGLbrKpKysWx",
    "outputId": "0b6a5d52-c91e-4c7f-e62a-338ee58e848a"
   },
   "outputs": [
    {
     "name": "stdout",
     "output_type": "stream",
     "text": [
      "cell2433.png\n",
      "4\n"
     ]
    },
    {
     "data": {
      "text/plain": [
       "<matplotlib.image.AxesImage at 0x25c011aa8b0>"
      ]
     },
     "execution_count": 125,
     "metadata": {},
     "output_type": "execute_result"
    },
    {
     "data": {
      "image/png": "[encoded data removed]",
      "text/plain": [
       "<Figure size 432x288 with 1 Axes>"
      ]
     },
     "metadata": {
      "needs_background": "light"
     },
     "output_type": "display_data"
    }
   ],
   "source": [
    "sample = test_df.filename[380]\n",
    "print(sample)\n",
    "orders = test_df.category[380]\n",
    "print(orders)\n",
    "if orders == '0':\n",
    "  image = load_img(\"test/c0/\" + sample)\n",
    "elif orders == '1':\n",
    "  image = load_img(\"test/c1/\" + sample)\n",
    "elif orders == '2':\n",
    "  image = load_img(\"test/c2/\" + sample)\n",
    "elif orders == '3':\n",
    "  image = load_img(\"test/c3/\" + sample)\n",
    "elif orders == '4':\n",
    "  image = load_img(\"test/c4/\" + sample)\n",
    "\n",
    "plt.imshow(image)"
   ]
  },
  {
   "cell_type": "code",
   "execution_count": 126,
   "metadata": {
    "id": "oZ2LJyJaQPFi"
   },
   "outputs": [],
   "source": [
    "def process_images(n):\n",
    "  sample = test_df.filename[n]\n",
    "  #print(sample)\n",
    "  orders = test_df.category[n]\n",
    "  #print(orders)\n",
    "  image = load_img(\"test_set/\" + sample)\n",
    "  #plt.imshow(image)\n",
    "  #print(predictions[n])\n",
    "  return ord(orders), predictions[n].argmax(), image"
   ]
  },
  {
   "cell_type": "code",
   "execution_count": 66,
   "metadata": {},
   "outputs": [],
   "source": [
    "def process_images(n):\n",
    "  sample = validate_df.filename[n]\n",
    "  #print(sample)\n",
    "  orders = validate_df.category[n]\n",
    "  #print(orders)\n",
    "  image = load_img(\"train_set/\" + sample)\n",
    "  #plt.imshow(image)\n",
    "  #print(predictions[n])\n",
    "  return ord(orders), predictions[n].argmax(), image"
   ]
  },
  {
   "cell_type": "code",
   "execution_count": 127,
   "metadata": {
    "colab": {
     "base_uri": "https://localhost:8080/"
    },
    "id": "QGkD3mRcV0A0",
    "outputId": "5aefbb44-10e0-4cbd-9856-d2b1b54a5947"
   },
   "outputs": [
    {
     "name": "stdout",
     "output_type": "stream",
     "text": [
      "2 1\n",
      "2 1\n",
      "2 1\n",
      "2 1\n",
      "2 1\n",
      "2 1\n",
      "2 1\n",
      "2 1\n",
      "2 1\n",
      "2 1\n",
      "2 1\n",
      "2 1\n",
      "2 1\n",
      "4 2\n",
      "4 2\n",
      "4 2\n",
      "4 2\n",
      "4 2\n",
      "4 2\n",
      "4 2\n",
      "4 2\n",
      "4 2\n",
      "4 2\n",
      "4 2\n",
      "4 2\n",
      "4 2\n",
      "4 2\n",
      "4 2\n",
      "4 2\n",
      "4 2\n",
      "4 2\n",
      "4 2\n",
      "4 2\n",
      "4 2\n",
      "4 2\n",
      "4 2\n",
      "4 3\n",
      "4 3\n",
      "1 3\n",
      "4 3\n",
      "4 3\n",
      "4 3\n",
      "4 3\n",
      "[41, 12, 185, 26, 117]\n",
      "[41, 24, 195, 33, 88]\n"
     ]
    }
   ],
   "source": [
    "s = predictions.shape\n",
    "pr = [0, 0, 0, 0, 0]\n",
    "tr = [0, 0, 0, 0, 0]\n",
    "lis = []\n",
    "for i in range(0, s[0]):\n",
    "  tr1, pr1, img = process_images(i)\n",
    "  tr1 = tr1 - 48\n",
    "  if(tr1 != pr1):\n",
    "    lis.append(img)\n",
    "    print(pr1, tr1)\n",
    "  pr[pr1] = pr[pr1] + 1\n",
    "  tr[tr1] = tr[tr1] + 1\n",
    "print(pr)\n",
    "print(tr)"
   ]
  },
  {
   "cell_type": "code",
   "execution_count": 128,
   "metadata": {},
   "outputs": [
    {
     "name": "stdout",
     "output_type": "stream",
     "text": [
      "Saved model to disk\n"
     ]
    }
   ],
   "source": [
    "model_json = model.to_json()\n",
    "with open(\"model.json\", \"w\") as json_file:\n",
    "    json_file.write(model_json)\n",
    "# serialize weights to HDF5\n",
    "model.save_weights(\"model.h5\")\n",
    "print(\"Saved model to disk\")"
   ]
  },
  {
   "cell_type": "code",
   "execution_count": 130,
   "metadata": {},
   "outputs": [
    {
     "name": "stdout",
     "output_type": "stream",
     "text": [
      "Loaded model from disk\n"
     ]
    }
   ],
   "source": [
    "from keras.models import model_from_json\n",
    "json_file = open('model.json', 'r')\n",
    "loaded_model_json = json_file.read()\n",
    "json_file.close()\n",
    "loaded_model = model_from_json(loaded_model_json)\n",
    "# load weights into new model\n",
    "loaded_model.load_weights(\"model.h5\")\n",
    "print(\"Loaded model from disk\")"
   ]
  },
  {
   "cell_type": "code",
   "execution_count": 131,
   "metadata": {},
   "outputs": [
    {
     "name": "stdout",
     "output_type": "stream",
     "text": [
      "Model: \"sequential_9\"\n",
      "_________________________________________________________________\n",
      " Layer (type)                Output Shape              Param #   \n",
      "=================================================================\n",
      " conv2d_45 (Conv2D)          (None, 54, 54, 96)        34944     \n",
      "                                                                 \n",
      " batch_normalization_20 (Bat  (None, 54, 54, 96)       384       \n",
      " chNormalization)                                                \n",
      "                                                                 \n",
      " max_pooling2d_37 (MaxPoolin  (None, 26, 26, 96)       0         \n",
      " g2D)                                                            \n",
      "                                                                 \n",
      " conv2d_46 (Conv2D)          (None, 26, 26, 256)       614656    \n",
      "                                                                 \n",
      " batch_normalization_21 (Bat  (None, 26, 26, 256)      1024      \n",
      " chNormalization)                                                \n",
      "                                                                 \n",
      " max_pooling2d_38 (MaxPoolin  (None, 12, 12, 256)      0         \n",
      " g2D)                                                            \n",
      "                                                                 \n",
      " conv2d_47 (Conv2D)          (None, 12, 12, 384)       885120    \n",
      "                                                                 \n",
      " batch_normalization_22 (Bat  (None, 12, 12, 384)      1536      \n",
      " chNormalization)                                                \n",
      "                                                                 \n",
      " conv2d_48 (Conv2D)          (None, 12, 12, 384)       1327488   \n",
      "                                                                 \n",
      " batch_normalization_23 (Bat  (None, 12, 12, 384)      1536      \n",
      " chNormalization)                                                \n",
      "                                                                 \n",
      " conv2d_49 (Conv2D)          (None, 12, 12, 256)       884992    \n",
      "                                                                 \n",
      " batch_normalization_24 (Bat  (None, 12, 12, 256)      1024      \n",
      " chNormalization)                                                \n",
      "                                                                 \n",
      " max_pooling2d_39 (MaxPoolin  (None, 5, 5, 256)        0         \n",
      " g2D)                                                            \n",
      "                                                                 \n",
      " flatten_9 (Flatten)         (None, 6400)              0         \n",
      "                                                                 \n",
      " dense_17 (Dense)            (None, 4096)              26218496  \n",
      "                                                                 \n",
      " dropout_13 (Dropout)        (None, 4096)              0         \n",
      "                                                                 \n",
      " dense_18 (Dense)            (None, 4096)              16781312  \n",
      "                                                                 \n",
      " dropout_14 (Dropout)        (None, 4096)              0         \n",
      "                                                                 \n",
      " dense_19 (Dense)            (None, 5)                 20485     \n",
      "                                                                 \n",
      "=================================================================\n",
      "Total params: 46,772,997\n",
      "Trainable params: 46,770,245\n",
      "Non-trainable params: 2,752\n",
      "_________________________________________________________________\n"
     ]
    }
   ],
   "source": [
    "loaded_model.compile(loss='categorical_crossentropy', optimizer=tf.optimizers.SGD(lr=0.001), metrics=['accuracy'])\n",
    "loaded_model.summary()"
   ]
  },
  {
   "cell_type": "code",
   "execution_count": 132,
   "metadata": {},
   "outputs": [
    {
     "name": "stdout",
     "output_type": "stream",
     "text": [
      "24/24 [==============================] - 1s 36ms/step - loss: 0.3149 - accuracy: 0.8871\n"
     ]
    },
    {
     "data": {
      "text/plain": [
       "[0.31494513154029846, 0.887139081954956]"
      ]
     },
     "execution_count": 132,
     "metadata": {},
     "output_type": "execute_result"
    }
   ],
   "source": [
    " loaded_model.evaluate(test_generator)"
   ]
  },
  {
   "cell_type": "code",
   "execution_count": 30,
   "metadata": {
    "colab": {
     "base_uri": "https://localhost:8080/",
     "height": 181
    },
    "id": "xS6uuTp3aN3Y",
    "outputId": "680b7c74-6834-4a1e-b8fa-11c76df60d7b"
   },
   "outputs": [
    {
     "ename": "ValueError",
     "evalue": "all the input array dimensions for the concatenation axis must match exactly, but along dimension 0, the array at index 0 has size 250 and the array at index 2 has size 300",
     "output_type": "error",
     "traceback": [
      "\u001b[1;31m---------------------------------------------------------------------------\u001b[0m",
      "\u001b[1;31mValueError\u001b[0m                                Traceback (most recent call last)",
      "\u001b[1;32m<ipython-input-30-63a1ea99621c>\u001b[0m in \u001b[0;36m<module>\u001b[1;34m\u001b[0m\n\u001b[1;32m----> 1\u001b[1;33m \u001b[0mcompare\u001b[0m \u001b[1;33m=\u001b[0m \u001b[0mnp\u001b[0m\u001b[1;33m.\u001b[0m\u001b[0mconcatenate\u001b[0m\u001b[1;33m(\u001b[0m\u001b[1;33m(\u001b[0m\u001b[0mlis\u001b[0m\u001b[1;33m[\u001b[0m\u001b[1;36m0\u001b[0m\u001b[1;33m]\u001b[0m\u001b[1;33m,\u001b[0m \u001b[0mlis\u001b[0m\u001b[1;33m[\u001b[0m\u001b[1;36m1\u001b[0m\u001b[1;33m]\u001b[0m\u001b[1;33m,\u001b[0m \u001b[0mlis\u001b[0m\u001b[1;33m[\u001b[0m\u001b[1;36m2\u001b[0m\u001b[1;33m]\u001b[0m \u001b[1;33m)\u001b[0m\u001b[1;33m,\u001b[0m \u001b[0maxis\u001b[0m\u001b[1;33m=\u001b[0m\u001b[1;36m1\u001b[0m\u001b[1;33m)\u001b[0m\u001b[1;33m\u001b[0m\u001b[1;33m\u001b[0m\u001b[0m\n\u001b[0m\u001b[0;32m      2\u001b[0m \u001b[0mplt\u001b[0m\u001b[1;33m.\u001b[0m\u001b[0mimshow\u001b[0m\u001b[1;33m(\u001b[0m\u001b[0mcompare\u001b[0m\u001b[1;33m)\u001b[0m\u001b[1;33m\u001b[0m\u001b[1;33m\u001b[0m\u001b[0m\n\u001b[0;32m      3\u001b[0m \u001b[1;31m#cv2.imwrite('2.JPG', compare)\u001b[0m\u001b[1;33m\u001b[0m\u001b[1;33m\u001b[0m\u001b[1;33m\u001b[0m\u001b[0m\n",
      "\u001b[1;32m<__array_function__ internals>\u001b[0m in \u001b[0;36mconcatenate\u001b[1;34m(*args, **kwargs)\u001b[0m\n",
      "\u001b[1;31mValueError\u001b[0m: all the input array dimensions for the concatenation axis must match exactly, but along dimension 0, the array at index 0 has size 250 and the array at index 2 has size 300"
     ]
    }
   ],
   "source": [
    "\n",
    "compare = np.concatenate((lis[0], lis[1], lis[2] ), axis=1)\n",
    "plt.imshow(compare)\n",
    "#cv2.imwrite('2.JPG', compare)"
   ]
  },
  {
   "cell_type": "code",
   "execution_count": null,
   "metadata": {
    "colab": {
     "base_uri": "https://localhost:8080/",
     "height": 324
    },
    "id": "FCE3JxifQPLc",
    "outputId": "bca425d1-9756-4ea4-b6f3-bb29fd141f8b"
   },
   "outputs": [
    {
     "name": "stdout",
     "output_type": "stream",
     "text": [
      "A1-DH3000-500h-PT-cell5.jpg\n",
      "2\n",
      "[0.00237493 0.00315297 0.99447215]\n"
     ]
    },
    {
     "data": {
      "image/png": "[encoded data removed]",
      "text/plain": [
       "<Figure size 432x288 with 1 Axes>"
      ]
     },
     "metadata": {
      "needs_background": "light"
     },
     "output_type": "display_data"
    }
   ],
   "source": [
    "process_images(140)"
   ]
  },
  {
   "cell_type": "markdown",
   "metadata": {
    "id": "fiWd7gr04IXi"
   },
   "source": [
    "# **Extras**"
   ]
  },
  {
   "cell_type": "code",
   "execution_count": null,
   "metadata": {
    "id": "a-kueb6EysJi"
   },
   "outputs": [],
   "source": [
    "probability_model = tf.keras.Sequential([model, \n",
    "                                         tf.keras.layers.Softmax()])\n",
    "img = img.resize((50,50))\n",
    "\n",
    "predictions = probability_model.predict(test_generator)"
   ]
  },
  {
   "cell_type": "code",
   "execution_count": null,
   "metadata": {
    "id": "7vuV1cVlysZb"
   },
   "outputs": [],
   "source": [
    "history = model.fit_generator(\n",
    "    train_generator, \n",
    "    epochs=50,\n",
    "    validation_data=validation_generator,\n",
    "    validation_steps=total_validate//batch_size,\n",
    "    steps_per_epoch=total_train//batch_size,\n",
    "    callbacks=[tensorboard_cb]\n",
    ")"
   ]
  },
  {
   "cell_type": "code",
   "execution_count": null,
   "metadata": {
    "id": "-qOSi5MbzvHo"
   },
   "outputs": [],
   "source": [
    "#train_images, train_labels = train_images[:15000], train_labels[:15000]\n",
    "#test_images, test_labels = test_images[:5000], test_labels[:5000]\n",
    "#train_images.shape\n",
    "\n",
    "#validation_images, validation_labels = train_images[:5000], train_labels[:5000]\n",
    "#train_images, train_labels = train_images[5000:], train_labels[5000:]\n",
    "#train_ds = tf.data.Dataset.from_tensor_slices((train_images, train_labels))\n",
    "#test_ds = tf.data.Dataset.from_tensor_slices((test_images, test_labels))\n",
    "#validation_ds = tf.data.Dataset.from_tensor_slices((validation_images, validation_labels))\n",
    "def process_images(image, label):\n",
    "    # Normalize images to have a mean of 0 and standard deviation of 1\n",
    "    image = tf.image.per_image_standardization(image)\n",
    "    # Resize images from 32x32 to 277x277\n",
    "    image = tf.image.resize(image, (227,227))\n",
    "    return image, label\n",
    "train_ds_size = tf.data.experimental.cardinality(train_ds).numpy()\n",
    "test_ds_size = tf.data.experimental.cardinality(test_ds).numpy()\n",
    "validation_ds_size = tf.data.experimental.cardinality(validation_ds).numpy()\n",
    "print(\"Training data size:\", train_ds_size)\n",
    "print(\"Test data size:\", test_ds_size)\n",
    "print(\"Validation data size:\", validation_ds_size)\n",
    "train_ds = (train_ds\n",
    "                  .map(process_images)\n",
    "                  .shuffle(buffer_size=train_ds_size)\n",
    "                  .batch(batch_size=32, drop_remainder=True))\n",
    "test_ds = (test_ds\n",
    "                  .map(process_images)\n",
    "                  .shuffle(buffer_size=train_ds_size)\n",
    "                  .batch(batch_size=32, drop_remainder=True))\n",
    "validation_ds = (validation_ds\n",
    "                  .map(process_images)\n",
    "                  .shuffle(buffer_size=train_ds_size)\n",
    "                  .batch(batch_size=32, drop_remainder=True))"
   ]
  },
  {
   "cell_type": "code",
   "execution_count": null,
   "metadata": {
    "id": "V83grS45fgHU"
   },
   "outputs": [],
   "source": [
    "model.fit(train_ds,\n",
    "          epochs=50,\n",
    "          validation_data=validation_ds,\n",
    "          validation_freq=1,\n",
    "          \n",
    "          callbacks=[tensorboard_cb])"
   ]
  },
  {
   "cell_type": "code",
   "execution_count": null,
   "metadata": {
    "colab": {
     "base_uri": "https://localhost:8080/"
    },
    "id": "DD3QZvUTfjYY",
    "outputId": "c454bb69-6cc7-4110-f3bd-2c33d11e0f56"
   },
   "outputs": [
    {
     "name": "stdout",
     "output_type": "stream",
     "text": [
      "156/156 [==============================] - 5s 21ms/step - loss: 1.1105 - accuracy: 0.6879\n"
     ]
    },
    {
     "data": {
      "text/plain": [
       "[1.1105341911315918, 0.6879006624221802]"
      ]
     },
     "execution_count": 19,
     "metadata": {
      "tags": []
     },
     "output_type": "execute_result"
    }
   ],
   "source": [
    "model.evaluate(test_ds)"
   ]
  },
  {
   "cell_type": "code",
   "execution_count": null,
   "metadata": {
    "id": "VqunKenzeVZ8"
   },
   "outputs": [],
   "source": [
    "model = keras.models.Sequential([\n",
    "    keras.layers.Conv2D(filters=96, kernel_size=(11,11), strides=(4,4), activation='relu', input_shape=(224,224,1)),\n",
    "    keras.layers.BatchNormalization(),\n",
    "    keras.layers.MaxPool2D(pool_size=(3,3), strides=(2,2)),\n",
    "    keras.layers.Conv2D(filters=256, kernel_size=(5,5), strides=(1,1), activation='relu', padding=\"same\"),\n",
    "    keras.layers.BatchNormalization(),\n",
    "    keras.layers.MaxPool2D(pool_size=(3,3), strides=(2,2)),\n",
    "    keras.layers.Conv2D(filters=384, kernel_size=(3,3), strides=(1,1), activation='relu', padding=\"same\"),\n",
    "    keras.layers.BatchNormalization(),\n",
    "    keras.layers.Conv2D(filters=384, kernel_size=(3,3), strides=(1,1), activation='relu', padding=\"same\"),\n",
    "    keras.layers.BatchNormalization(),\n",
    "    keras.layers.Conv2D(filters=256, kernel_size=(3,3), strides=(1,1), activation='relu', padding=\"same\"),\n",
    "    keras.layers.BatchNormalization(),\n",
    "    keras.layers.MaxPool2D(pool_size=(3,3), strides=(2,2)),\n",
    "    keras.layers.Flatten(),\n",
    "    keras.layers.Dense(4096, activation='relu'),\n",
    "    keras.layers.Dropout(0.5),\n",
    "    keras.layers.Dense(4096, activation='relu'),\n",
    "    keras.layers.Dropout(0.5),\n",
    "    keras.layers.Dense(3, activation='softmax')\n",
    "])"
   ]
  },
  {
   "cell_type": "code",
   "execution_count": null,
   "metadata": {
    "colab": {
     "base_uri": "https://localhost:8080/",
     "height": 269
    },
    "id": "V5BTv3IQsWUr",
    "outputId": "f18a1b0c-3045-44f4-b4fc-89549ab0c829"
   },
   "outputs": [
    {
     "data": {
      "image/png": "[encoded data removed]",
      "text/plain": [
       "<Figure size 432x288 with 9 Axes>"
      ]
     },
     "metadata": {
      "needs_background": "light"
     },
     "output_type": "display_data"
    }
   ],
   "source": [
    "for i in range(9):\n",
    "\t# define subplot\n",
    "\tpyplot.subplot(330 + 1 + i)\n",
    "\t# generate batch of images\n",
    "\tbatch = train_generator.next()\n",
    "\t# convert to unsigned integers for viewing\n",
    "\timage = batch[0][0].astype('uint8')\n",
    "\t# plot raw pixel data\n",
    "\tpyplot.imshow(image)\n",
    "# show the figure\n",
    "pyplot.show()"
   ]
  },
  {
   "cell_type": "code",
   "execution_count": null,
   "metadata": {
    "colab": {
     "base_uri": "https://localhost:8080/",
     "height": 640
    },
    "id": "ni_yPxQs0gje",
    "outputId": "2027176f-e8ab-4896-aa1a-d20d94703a85"
   },
   "outputs": [
    {
     "ename": "FileNotFoundError",
     "evalue": "ignored",
     "output_type": "error",
     "traceback": [
      "\u001b[0;31m---------------------------------------------------------------------------\u001b[0m",
      "\u001b[0;31mFileNotFoundError\u001b[0m                         Traceback (most recent call last)",
      "\u001b[0;32m<ipython-input-8-6e095efb288e>\u001b[0m in \u001b[0;36m<module>\u001b[0;34m()\u001b[0m\n\u001b[1;32m     19\u001b[0m \u001b[0mi\u001b[0m \u001b[0;34m=\u001b[0m \u001b[0;36m0\u001b[0m\u001b[0;34m\u001b[0m\u001b[0;34m\u001b[0m\u001b[0m\n\u001b[1;32m     20\u001b[0m for batch in datagen.flow(x, batch_size=1,\n\u001b[0;32m---> 21\u001b[0;31m                           save_to_dir='preview', save_prefix='img', save_format='JPG'):\n\u001b[0m\u001b[1;32m     22\u001b[0m     \u001b[0mi\u001b[0m \u001b[0;34m+=\u001b[0m \u001b[0;36m1\u001b[0m\u001b[0;34m\u001b[0m\u001b[0;34m\u001b[0m\u001b[0m\n\u001b[1;32m     23\u001b[0m     \u001b[0;32mif\u001b[0m \u001b[0mi\u001b[0m \u001b[0;34m>\u001b[0m \u001b[0;36m20\u001b[0m\u001b[0;34m:\u001b[0m\u001b[0;34m\u001b[0m\u001b[0;34m\u001b[0m\u001b[0m\n",
      "\u001b[0;32m/usr/local/lib/python3.7/dist-packages/keras_preprocessing/image/iterator.py\u001b[0m in \u001b[0;36m__next__\u001b[0;34m(self, *args, **kwargs)\u001b[0m\n\u001b[1;32m    102\u001b[0m \u001b[0;34m\u001b[0m\u001b[0m\n\u001b[1;32m    103\u001b[0m     \u001b[0;32mdef\u001b[0m \u001b[0m__next__\u001b[0m\u001b[0;34m(\u001b[0m\u001b[0mself\u001b[0m\u001b[0;34m,\u001b[0m \u001b[0;34m*\u001b[0m\u001b[0margs\u001b[0m\u001b[0;34m,\u001b[0m \u001b[0;34m**\u001b[0m\u001b[0mkwargs\u001b[0m\u001b[0;34m)\u001b[0m\u001b[0;34m:\u001b[0m\u001b[0;34m\u001b[0m\u001b[0;34m\u001b[0m\u001b[0m\n\u001b[0;32m--> 104\u001b[0;31m         \u001b[0;32mreturn\u001b[0m \u001b[0mself\u001b[0m\u001b[0;34m.\u001b[0m\u001b[0mnext\u001b[0m\u001b[0;34m(\u001b[0m\u001b[0;34m*\u001b[0m\u001b[0margs\u001b[0m\u001b[0;34m,\u001b[0m \u001b[0;34m**\u001b[0m\u001b[0mkwargs\u001b[0m\u001b[0;34m)\u001b[0m\u001b[0;34m\u001b[0m\u001b[0;34m\u001b[0m\u001b[0m\n\u001b[0m\u001b[1;32m    105\u001b[0m \u001b[0;34m\u001b[0m\u001b[0m\n\u001b[1;32m    106\u001b[0m     \u001b[0;32mdef\u001b[0m \u001b[0mnext\u001b[0m\u001b[0;34m(\u001b[0m\u001b[0mself\u001b[0m\u001b[0;34m)\u001b[0m\u001b[0;34m:\u001b[0m\u001b[0;34m\u001b[0m\u001b[0;34m\u001b[0m\u001b[0m\n",
      "\u001b[0;32m/usr/local/lib/python3.7/dist-packages/keras_preprocessing/image/iterator.py\u001b[0m in \u001b[0;36mnext\u001b[0;34m(self)\u001b[0m\n\u001b[1;32m    114\u001b[0m         \u001b[0;31m# The transformation of images is not under thread lock\u001b[0m\u001b[0;34m\u001b[0m\u001b[0;34m\u001b[0m\u001b[0;34m\u001b[0m\u001b[0m\n\u001b[1;32m    115\u001b[0m         \u001b[0;31m# so it can be done in parallel\u001b[0m\u001b[0;34m\u001b[0m\u001b[0;34m\u001b[0m\u001b[0;34m\u001b[0m\u001b[0m\n\u001b[0;32m--> 116\u001b[0;31m         \u001b[0;32mreturn\u001b[0m \u001b[0mself\u001b[0m\u001b[0;34m.\u001b[0m\u001b[0m_get_batches_of_transformed_samples\u001b[0m\u001b[0;34m(\u001b[0m\u001b[0mindex_array\u001b[0m\u001b[0;34m)\u001b[0m\u001b[0;34m\u001b[0m\u001b[0;34m\u001b[0m\u001b[0m\n\u001b[0m\u001b[1;32m    117\u001b[0m \u001b[0;34m\u001b[0m\u001b[0m\n\u001b[1;32m    118\u001b[0m     \u001b[0;32mdef\u001b[0m \u001b[0m_get_batches_of_transformed_samples\u001b[0m\u001b[0;34m(\u001b[0m\u001b[0mself\u001b[0m\u001b[0;34m,\u001b[0m \u001b[0mindex_array\u001b[0m\u001b[0;34m)\u001b[0m\u001b[0;34m:\u001b[0m\u001b[0;34m\u001b[0m\u001b[0;34m\u001b[0m\u001b[0m\n",
      "\u001b[0;32m/usr/local/lib/python3.7/dist-packages/keras_preprocessing/image/numpy_array_iterator.py\u001b[0m in \u001b[0;36m_get_batches_of_transformed_samples\u001b[0;34m(self, index_array)\u001b[0m\n\u001b[1;32m    172\u001b[0m                     \u001b[0mhash\u001b[0m\u001b[0;34m=\u001b[0m\u001b[0mnp\u001b[0m\u001b[0;34m.\u001b[0m\u001b[0mrandom\u001b[0m\u001b[0;34m.\u001b[0m\u001b[0mrandint\u001b[0m\u001b[0;34m(\u001b[0m\u001b[0;36m1e4\u001b[0m\u001b[0;34m)\u001b[0m\u001b[0;34m,\u001b[0m\u001b[0;34m\u001b[0m\u001b[0;34m\u001b[0m\u001b[0m\n\u001b[1;32m    173\u001b[0m                     format=self.save_format)\n\u001b[0;32m--> 174\u001b[0;31m                 \u001b[0mimg\u001b[0m\u001b[0;34m.\u001b[0m\u001b[0msave\u001b[0m\u001b[0;34m(\u001b[0m\u001b[0mos\u001b[0m\u001b[0;34m.\u001b[0m\u001b[0mpath\u001b[0m\u001b[0;34m.\u001b[0m\u001b[0mjoin\u001b[0m\u001b[0;34m(\u001b[0m\u001b[0mself\u001b[0m\u001b[0;34m.\u001b[0m\u001b[0msave_to_dir\u001b[0m\u001b[0;34m,\u001b[0m \u001b[0mfname\u001b[0m\u001b[0;34m)\u001b[0m\u001b[0;34m)\u001b[0m\u001b[0;34m\u001b[0m\u001b[0;34m\u001b[0m\u001b[0m\n\u001b[0m\u001b[1;32m    175\u001b[0m         \u001b[0mbatch_x_miscs\u001b[0m \u001b[0;34m=\u001b[0m \u001b[0;34m[\u001b[0m\u001b[0mxx\u001b[0m\u001b[0;34m[\u001b[0m\u001b[0mindex_array\u001b[0m\u001b[0;34m]\u001b[0m \u001b[0;32mfor\u001b[0m \u001b[0mxx\u001b[0m \u001b[0;32min\u001b[0m \u001b[0mself\u001b[0m\u001b[0;34m.\u001b[0m\u001b[0mx_misc\u001b[0m\u001b[0;34m]\u001b[0m\u001b[0;34m\u001b[0m\u001b[0;34m\u001b[0m\u001b[0m\n\u001b[1;32m    176\u001b[0m         output = (batch_x if batch_x_miscs == []\n",
      "\u001b[0;32m/usr/local/lib/python3.7/dist-packages/PIL/Image.py\u001b[0m in \u001b[0;36msave\u001b[0;34m(self, fp, format, **params)\u001b[0m\n\u001b[1;32m   2129\u001b[0m                 \u001b[0mfp\u001b[0m \u001b[0;34m=\u001b[0m \u001b[0mbuiltins\u001b[0m\u001b[0;34m.\u001b[0m\u001b[0mopen\u001b[0m\u001b[0;34m(\u001b[0m\u001b[0mfilename\u001b[0m\u001b[0;34m,\u001b[0m \u001b[0;34m\"r+b\"\u001b[0m\u001b[0;34m)\u001b[0m\u001b[0;34m\u001b[0m\u001b[0;34m\u001b[0m\u001b[0m\n\u001b[1;32m   2130\u001b[0m             \u001b[0;32melse\u001b[0m\u001b[0;34m:\u001b[0m\u001b[0;34m\u001b[0m\u001b[0;34m\u001b[0m\u001b[0m\n\u001b[0;32m-> 2131\u001b[0;31m                 \u001b[0mfp\u001b[0m \u001b[0;34m=\u001b[0m \u001b[0mbuiltins\u001b[0m\u001b[0;34m.\u001b[0m\u001b[0mopen\u001b[0m\u001b[0;34m(\u001b[0m\u001b[0mfilename\u001b[0m\u001b[0;34m,\u001b[0m \u001b[0;34m\"w+b\"\u001b[0m\u001b[0;34m)\u001b[0m\u001b[0;34m\u001b[0m\u001b[0;34m\u001b[0m\u001b[0m\n\u001b[0m\u001b[1;32m   2132\u001b[0m \u001b[0;34m\u001b[0m\u001b[0m\n\u001b[1;32m   2133\u001b[0m         \u001b[0;32mtry\u001b[0m\u001b[0;34m:\u001b[0m\u001b[0;34m\u001b[0m\u001b[0;34m\u001b[0m\u001b[0m\n",
      "\u001b[0;31mFileNotFoundError\u001b[0m: [Errno 2] No such file or directory: 'preview/img_0_9033.JPG'"
     ]
    },
    {
     "data": {
      "image/png": "[encoded data removed]",
      "text/plain": [
       "<Figure size 432x288 with 1 Axes>"
      ]
     },
     "metadata": {
      "needs_background": "light"
     },
     "output_type": "display_data"
    }
   ],
   "source": [
    "from numpy import expand_dims\n",
    "import cv2\n",
    "img = load_img(\"/content/drive/MyDrive/trainClassName/good/\" + sample)\n",
    "x = img_to_array(img)\n",
    "x = x.astype('uint8')\n",
    "x = expand_dims(x,0) \n",
    "pyplot.imshow(x[0])\n",
    "datagen = ImageDataGenerator(\n",
    "    rotation_range=15,\n",
    "    rescale=1./255,\n",
    "    shear_range=0.1,\n",
    "    zoom_range=0.2,\n",
    "    horizontal_flip=True,\n",
    "    width_shift_range=0.1,\n",
    "    height_shift_range=0.1\n",
    ")\n",
    "it = datagen.flow(x, batch_size=1)\n",
    "# generate samples and plot\n",
    "i = 0\n",
    "for batch in datagen.flow(x, batch_size=1,\n",
    "                          save_to_dir='preview', save_prefix='img', save_format='JPG'):\n",
    "    i += 1\n",
    "    if i > 20:\n",
    "        break  # otherwise the generator would loop indefinitely"
   ]
  },
  {
   "cell_type": "code",
   "execution_count": null,
   "metadata": {
    "id": "hc0_npx8i9E9"
   },
   "outputs": [],
   "source": []
  }
 ],
 "metadata": {
  "accelerator": "GPU",
  "colab": {
   "name": "Alexnet.ipynb",
   "provenance": []
  },
  "kernelspec": {
   "display_name": "Python 3 (ipykernel)",
   "language": "python",
   "name": "python3"
  },
  "language_info": {
   "codemirror_mode": {
    "name": "ipython",
    "version": 3
   },
   "file_extension": ".py",
   "mimetype": "text/x-python",
   "name": "python",
   "nbconvert_exporter": "python",
   "pygments_lexer": "ipython3",
   "version": "3.9.7"
  }
 },
 "nbformat": 4,
 "nbformat_minor": 1
}
