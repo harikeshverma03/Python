{
 "cells": [
  {
   "cell_type": "code",
   "execution_count": 1,
   "id": "7dbbd29b",
   "metadata": {},
   "outputs": [
    {
     "name": "stdout",
     "output_type": "stream",
     "text": [
      "C:\\Users\\harik\\OneDrive\\Documents\\Projects\\BTP\\1907French-etal-SDLE-EL-ImageDataSet-forML\n"
     ]
    }
   ],
   "source": [
    "cd C:\\Users\\harik\\OneDrive\\Documents\\Projects\\BTP\\1907French-etal-SDLE-EL-ImageDataSet-forML"
   ]
  },
  {
   "cell_type": "code",
   "execution_count": 2,
   "id": "cda26894",
   "metadata": {},
   "outputs": [],
   "source": [
    "#from elpv_reader import load_dataset\n",
    "import tensorflow as tf\n",
    "import tensorflow.keras\n",
    "from tensorflow import keras\n",
    "import matplotlib.pyplot as plt\n",
    "import os\n",
    "import time\n",
    "import pandas as pd\n",
    "import random\n",
    "import numpy as np\n",
    "from tensorflow.keras.preprocessing.image import ImageDataGenerator, load_img, img_to_array\n",
    "from matplotlib import pyplot\n",
    "from sklearn.model_selection import train_test_split\n",
    "from tensorflow.compat.v1 import ConfigProto\n",
    "from tensorflow.compat.v1 import InteractiveSession\n",
    "from tensorflow import keras\n",
    "from tensorflow.keras import layers\n",
    "from tensorflow.keras.models import Sequential\n",
    "config = ConfigProto()\n",
    "config.gpu_options.allow_growth = True\n",
    "session = InteractiveSession(config=config)\n",
    "\n",
    "physical_devices = tf.config.list_physical_devices('GPU')\n",
    "tf.config.experimental.set_memory_growth(physical_devices[0], True)"
   ]
  },
  {
   "cell_type": "code",
   "execution_count": 3,
   "id": "65e0553f",
   "metadata": {},
   "outputs": [
    {
     "name": "stdout",
     "output_type": "stream",
     "text": [
      "[name: \"/device:CPU:0\"\n",
      "device_type: \"CPU\"\n",
      "memory_limit: 268435456\n",
      "locality {\n",
      "}\n",
      "incarnation: 4761792035260832862\n",
      ", name: \"/device:GPU:0\"\n",
      "device_type: \"GPU\"\n",
      "memory_limit: 4183621632\n",
      "locality {\n",
      "  bus_id: 1\n",
      "  links {\n",
      "  }\n",
      "}\n",
      "incarnation: 1758468445582738522\n",
      "physical_device_desc: \"device: 0, name: NVIDIA GeForce GTX 1660 Ti, pci bus id: 0000:01:00.0, compute capability: 7.5\"\n",
      "]\n"
     ]
    }
   ],
   "source": [
    "from tensorflow.python.client import device_lib \n",
    "print(device_lib.list_local_devices())"
   ]
  },
  {
   "cell_type": "code",
   "execution_count": 4,
   "id": "a78dd03e",
   "metadata": {},
   "outputs": [
    {
     "name": "stdout",
     "output_type": "stream",
     "text": [
      "['A1-DH3000-3000h-PT-cell1.jpg', 'A1-DH3000-3000h-PT-cell11.jpg', 'A1-DH3000-3000h-PT-cell12.jpg', 'A1-DH3000-3000h-PT-cell13.jpg', 'A1-DH3000-3000h-PT-cell15.jpg', 'A1-DH3000-3000h-PT-cell17.jpg', 'A1-DH3000-3000h-PT-cell19.jpg', 'A1-DH3000-3000h-PT-cell2.jpg', 'A1-DH3000-3000h-PT-cell21.jpg', 'A1-DH3000-3000h-PT-cell22.jpg', 'A1-DH3000-3000h-PT-cell24.jpg', 'A1-DH3000-3000h-PT-cell25.jpg', 'A1-DH3000-3000h-PT-cell26.jpg', 'A1-DH3000-3000h-PT-cell27.jpg', 'A1-DH3000-3000h-PT-cell28.jpg', 'A1-DH3000-3000h-PT-cell29.jpg', 'A1-DH3000-3000h-PT-cell30.jpg', 'A1-DH3000-3000h-PT-cell31.jpg', 'A1-DH3000-3000h-PT-cell32.jpg', 'A1-DH3000-3000h-PT-cell33.jpg', 'A1-DH3000-3000h-PT-cell34.jpg', 'A1-DH3000-3000h-PT-cell37.jpg', 'A1-DH3000-3000h-PT-cell38.jpg', 'A1-DH3000-3000h-PT-cell40.jpg', 'A1-DH3000-3000h-PT-cell41.jpg', 'A1-DH3000-3000h-PT-cell42.jpg', 'A1-DH3000-3000h-PT-cell43.jpg', 'A1-DH3000-3000h-PT-cell44.jpg', 'A1-DH3000-3000h-PT-cell45.jpg', 'A1-DH3000-3000h-PT-cell46.jpg', 'A1-DH3000-3000h-PT-cell48.jpg', 'A1-DH3000-3000h-PT-cell49.jpg', 'A1-DH3000-3000h-PT-cell5.jpg', 'A1-DH3000-3000h-PT-cell50.jpg', 'A1-DH3000-3000h-PT-cell51.jpg', 'A1-DH3000-3000h-PT-cell52.jpg', 'A1-DH3000-3000h-PT-cell53.jpg', 'A1-DH3000-3000h-PT-cell54.jpg', 'A1-DH3000-3000h-PT-cell55.jpg', 'A1-DH3000-3000h-PT-cell56.jpg', 'A1-DH3000-3000h-PT-cell57.jpg', 'A1-DH3000-3000h-PT-cell58.jpg', 'A1-DH3000-3000h-PT-cell59.jpg', 'A1-DH3000-3000h-PT-cell8.jpg', 'A1-DH3000-3000h-PT-cell9.jpg', 'A10-DH3000-2500h-PT-cell14.jpg', 'A10-DH3000-2500h-PT-cell49.jpg', 'A10-DH3000-2500h-PT-cell50.jpg', 'A10-DH3000-3000h-PT-cell1.jpg', 'A10-DH3000-3000h-PT-cell10.jpg', 'A10-DH3000-3000h-PT-cell11.jpg', 'A10-DH3000-3000h-PT-cell12.jpg', 'A10-DH3000-3000h-PT-cell13.jpg', 'A10-DH3000-3000h-PT-cell14.jpg', 'A10-DH3000-3000h-PT-cell16.jpg', 'A10-DH3000-3000h-PT-cell17.jpg', 'A10-DH3000-3000h-PT-cell18.jpg', 'A10-DH3000-3000h-PT-cell2.jpg', 'A10-DH3000-3000h-PT-cell20.jpg', 'A10-DH3000-3000h-PT-cell22.jpg', 'A10-DH3000-3000h-PT-cell23.jpg', 'A10-DH3000-3000h-PT-cell24.jpg', 'A10-DH3000-3000h-PT-cell25.jpg', 'A10-DH3000-3000h-PT-cell26.jpg', 'A10-DH3000-3000h-PT-cell27.jpg', 'A10-DH3000-3000h-PT-cell3.jpg', 'A10-DH3000-3000h-PT-cell30.jpg', 'A10-DH3000-3000h-PT-cell31.jpg', 'A10-DH3000-3000h-PT-cell32.jpg', 'A10-DH3000-3000h-PT-cell33.jpg', 'A10-DH3000-3000h-PT-cell35.jpg', 'A10-DH3000-3000h-PT-cell36.jpg', 'A10-DH3000-3000h-PT-cell37.jpg', 'A10-DH3000-3000h-PT-cell39.jpg', 'A10-DH3000-3000h-PT-cell4.jpg', 'A10-DH3000-3000h-PT-cell40.jpg', 'A10-DH3000-3000h-PT-cell41.jpg', 'A10-DH3000-3000h-PT-cell42.jpg', 'A10-DH3000-3000h-PT-cell43.jpg', 'A10-DH3000-3000h-PT-cell44.jpg', 'A10-DH3000-3000h-PT-cell45.jpg', 'A10-DH3000-3000h-PT-cell47.jpg', 'A10-DH3000-3000h-PT-cell49.jpg', 'A10-DH3000-3000h-PT-cell51.jpg', 'A10-DH3000-3000h-PT-cell52.jpg', 'A10-DH3000-3000h-PT-cell53.jpg', 'A10-DH3000-3000h-PT-cell54.jpg', 'A10-DH3000-3000h-PT-cell55.jpg', 'A10-DH3000-3000h-PT-cell56.jpg', 'A10-DH3000-3000h-PT-cell58.jpg', 'A10-DH3000-3000h-PT-cell59.jpg', 'A10-DH3000-3000h-PT-cell60.jpg', 'A10-DH3000-3000h-PT-cell7.jpg', 'A10-DH3000-3000h-PT-cell8.jpg', 'A10-DH3000-3000h-PT-cell9.jpg', 'A11-DH3000-2500h-PT-cell11.jpg', 'A11-DH3000-2500h-PT-cell13.jpg', 'A11-DH3000-2500h-PT-cell31.jpg', 'A11-DH3000-2500h-PT-cell32.jpg', 'A11-DH3000-2500h-PT-cell33.jpg', 'A11-DH3000-2500h-PT-cell34.jpg', 'A11-DH3000-2500h-PT-cell35.jpg', 'A11-DH3000-2500h-PT-cell36.jpg', 'A11-DH3000-2500h-PT-cell38.jpg', 'A11-DH3000-2500h-PT-cell40.jpg', 'A11-DH3000-3000h-PT-cell10.jpg', 'A11-DH3000-3000h-PT-cell11.jpg', 'A11-DH3000-3000h-PT-cell13.jpg', 'A11-DH3000-3000h-PT-cell16.jpg', 'A11-DH3000-3000h-PT-cell18.jpg', 'A11-DH3000-3000h-PT-cell19.jpg', 'A11-DH3000-3000h-PT-cell2.jpg', 'A11-DH3000-3000h-PT-cell20.jpg', 'A11-DH3000-3000h-PT-cell21.jpg', 'A11-DH3000-3000h-PT-cell23.jpg', 'A11-DH3000-3000h-PT-cell25.jpg', 'A11-DH3000-3000h-PT-cell28.jpg', 'A11-DH3000-3000h-PT-cell3.jpg', 'A11-DH3000-3000h-PT-cell32.jpg', 'A11-DH3000-3000h-PT-cell34.jpg', 'A11-DH3000-3000h-PT-cell35.jpg', 'A11-DH3000-3000h-PT-cell36.jpg', 'A11-DH3000-3000h-PT-cell38.jpg', 'A11-DH3000-3000h-PT-cell39.jpg', 'A11-DH3000-3000h-PT-cell4.jpg', 'A11-DH3000-3000h-PT-cell40.jpg', 'A11-DH3000-3000h-PT-cell41.jpg', 'A11-DH3000-3000h-PT-cell42.jpg', 'A11-DH3000-3000h-PT-cell43.jpg', 'A11-DH3000-3000h-PT-cell44.jpg', 'A11-DH3000-3000h-PT-cell45.jpg', 'A11-DH3000-3000h-PT-cell46.jpg', 'A11-DH3000-3000h-PT-cell47.jpg', 'A11-DH3000-3000h-PT-cell48.jpg', 'A11-DH3000-3000h-PT-cell49.jpg', 'A11-DH3000-3000h-PT-cell5.jpg', 'A11-DH3000-3000h-PT-cell50.jpg', 'A11-DH3000-3000h-PT-cell51.jpg', 'A11-DH3000-3000h-PT-cell52.jpg', 'A11-DH3000-3000h-PT-cell54.jpg', 'A11-DH3000-3000h-PT-cell55.jpg', 'A11-DH3000-3000h-PT-cell57.jpg', 'A11-DH3000-3000h-PT-cell58.jpg', 'A11-DH3000-3000h-PT-cell59.jpg', 'A11-DH3000-3000h-PT-cell6.jpg', 'A11-DH3000-3000h-PT-cell60.jpg', 'A11-DH3000-3000h-PT-cell7.jpg', 'A11-DH3000-3000h-PT-cell8.jpg', 'A11-DH3000-3000h-PT-cell9.jpg']\n"
     ]
    },
    {
     "data": {
      "text/html": [
       "<div>\n",
       "<style scoped>\n",
       "    .dataframe tbody tr th:only-of-type {\n",
       "        vertical-align: middle;\n",
       "    }\n",
       "\n",
       "    .dataframe tbody tr th {\n",
       "        vertical-align: top;\n",
       "    }\n",
       "\n",
       "    .dataframe thead th {\n",
       "        text-align: right;\n",
       "    }\n",
       "</style>\n",
       "<table border=\"1\" class=\"dataframe\">\n",
       "  <thead>\n",
       "    <tr style=\"text-align: right;\">\n",
       "      <th></th>\n",
       "      <th>filename</th>\n",
       "      <th>category</th>\n",
       "    </tr>\n",
       "  </thead>\n",
       "  <tbody>\n",
       "    <tr>\n",
       "      <th>0</th>\n",
       "      <td>A1-DH3000-3000h-PT-cell1.jpg</td>\n",
       "      <td>0</td>\n",
       "    </tr>\n",
       "    <tr>\n",
       "      <th>1</th>\n",
       "      <td>A1-DH3000-3000h-PT-cell11.jpg</td>\n",
       "      <td>0</td>\n",
       "    </tr>\n",
       "    <tr>\n",
       "      <th>2</th>\n",
       "      <td>A1-DH3000-3000h-PT-cell12.jpg</td>\n",
       "      <td>0</td>\n",
       "    </tr>\n",
       "    <tr>\n",
       "      <th>3</th>\n",
       "      <td>A1-DH3000-3000h-PT-cell13.jpg</td>\n",
       "      <td>0</td>\n",
       "    </tr>\n",
       "    <tr>\n",
       "      <th>4</th>\n",
       "      <td>A1-DH3000-3000h-PT-cell15.jpg</td>\n",
       "      <td>0</td>\n",
       "    </tr>\n",
       "    <tr>\n",
       "      <th>...</th>\n",
       "      <td>...</td>\n",
       "      <td>...</td>\n",
       "    </tr>\n",
       "    <tr>\n",
       "      <th>2617</th>\n",
       "      <td>cell2436.png</td>\n",
       "      <td>4</td>\n",
       "    </tr>\n",
       "    <tr>\n",
       "      <th>2618</th>\n",
       "      <td>cell2441.png</td>\n",
       "      <td>4</td>\n",
       "    </tr>\n",
       "    <tr>\n",
       "      <th>2619</th>\n",
       "      <td>cell2442.png</td>\n",
       "      <td>4</td>\n",
       "    </tr>\n",
       "    <tr>\n",
       "      <th>2620</th>\n",
       "      <td>cell2443.png</td>\n",
       "      <td>4</td>\n",
       "    </tr>\n",
       "    <tr>\n",
       "      <th>2621</th>\n",
       "      <td>cell2444.png</td>\n",
       "      <td>4</td>\n",
       "    </tr>\n",
       "  </tbody>\n",
       "</table>\n",
       "<p>2622 rows × 2 columns</p>\n",
       "</div>"
      ],
      "text/plain": [
       "                           filename category\n",
       "0      A1-DH3000-3000h-PT-cell1.jpg        0\n",
       "1     A1-DH3000-3000h-PT-cell11.jpg        0\n",
       "2     A1-DH3000-3000h-PT-cell12.jpg        0\n",
       "3     A1-DH3000-3000h-PT-cell13.jpg        0\n",
       "4     A1-DH3000-3000h-PT-cell15.jpg        0\n",
       "...                             ...      ...\n",
       "2617                   cell2436.png        4\n",
       "2618                   cell2441.png        4\n",
       "2619                   cell2442.png        4\n",
       "2620                   cell2443.png        4\n",
       "2621                   cell2444.png        4\n",
       "\n",
       "[2622 rows x 2 columns]"
      ]
     },
     "execution_count": 4,
     "metadata": {},
     "output_type": "execute_result"
    }
   ],
   "source": [
    "filenames = os.listdir(\"train/c0\")\n",
    "print(filenames)\n",
    "categories_train = []\n",
    "filenamefin_train = []\n",
    "for filename in filenames:\n",
    "      categories_train.append(\"0\")\n",
    "      filenamefin_train.append(filename)\n",
    "filenames = os.listdir(\"train/c1\")\n",
    "\n",
    "\n",
    "for filename in filenames:\n",
    "    categories_train.append(\"1\")\n",
    "    filenamefin_train.append(filename)\n",
    "\n",
    "filenames = os.listdir(\"train/c2\")\n",
    "for filename in filenames:\n",
    "    categories_train.append(\"2\")\n",
    "    filenamefin_train.append(filename)\n",
    "\n",
    "    \n",
    "filenames = os.listdir(\"train/c3\")\n",
    "for filename in filenames:\n",
    "    categories_train.append(\"3\")\n",
    "    filenamefin_train.append(filename)\n",
    "\n",
    "filenames = os.listdir(\"train/c4\")\n",
    "for filename in filenames:\n",
    "    categories_train.append(\"4\")\n",
    "    filenamefin_train.append(filename)\n",
    "  \n",
    "df = pd.DataFrame({\n",
    "    'filename': filenamefin_train,\n",
    "    'category': categories_train\n",
    "})\n",
    "df"
   ]
  },
  {
   "cell_type": "code",
   "execution_count": 5,
   "id": "404679e7",
   "metadata": {},
   "outputs": [
    {
     "name": "stdout",
     "output_type": "stream",
     "text": [
      "['A1-DH3000-3000h-PT-cell10.jpg', 'A1-DH3000-3000h-PT-cell14.jpg', 'A1-DH3000-3000h-PT-cell16.jpg', 'A1-DH3000-3000h-PT-cell18.jpg', 'A1-DH3000-3000h-PT-cell20.jpg', 'A1-DH3000-3000h-PT-cell3.jpg', 'A1-DH3000-3000h-PT-cell36.jpg', 'A1-DH3000-3000h-PT-cell39.jpg', 'A1-DH3000-3000h-PT-cell4.jpg', 'A1-DH3000-3000h-PT-cell47.jpg', 'A1-DH3000-3000h-PT-cell6.jpg', 'A1-DH3000-3000h-PT-cell60.jpg', 'A1-DH3000-3000h-PT-cell7.jpg', 'A10-DH3000-3000h-PT-cell19.jpg', 'A10-DH3000-3000h-PT-cell21.jpg', 'A10-DH3000-3000h-PT-cell28.jpg', 'A10-DH3000-3000h-PT-cell29.jpg', 'A10-DH3000-3000h-PT-cell34.jpg', 'A10-DH3000-3000h-PT-cell38.jpg', 'A10-DH3000-3000h-PT-cell46.jpg', 'A10-DH3000-3000h-PT-cell48.jpg', 'A10-DH3000-3000h-PT-cell5.jpg', 'A10-DH3000-3000h-PT-cell50.jpg', 'A10-DH3000-3000h-PT-cell57.jpg', 'A10-DH3000-3000h-PT-cell6.jpg', 'A11-DH3000-2500h-PT-cell37.jpg', 'A11-DH3000-2500h-PT-cell39.jpg', 'A11-DH3000-3000h-PT-cell1.jpg', 'A11-DH3000-3000h-PT-cell12.jpg', 'A11-DH3000-3000h-PT-cell14.jpg', 'A11-DH3000-3000h-PT-cell15.jpg', 'A11-DH3000-3000h-PT-cell17.jpg', 'A11-DH3000-3000h-PT-cell22.jpg', 'A11-DH3000-3000h-PT-cell26.jpg', 'A11-DH3000-3000h-PT-cell29.jpg', 'A11-DH3000-3000h-PT-cell30.jpg', 'A11-DH3000-3000h-PT-cell31.jpg', 'A11-DH3000-3000h-PT-cell33.jpg', 'A11-DH3000-3000h-PT-cell37.jpg', 'A11-DH3000-3000h-PT-cell53.jpg', 'A11-DH3000-3000h-PT-cell56.jpg']\n"
     ]
    },
    {
     "data": {
      "text/html": [
       "<div>\n",
       "<style scoped>\n",
       "    .dataframe tbody tr th:only-of-type {\n",
       "        vertical-align: middle;\n",
       "    }\n",
       "\n",
       "    .dataframe tbody tr th {\n",
       "        vertical-align: top;\n",
       "    }\n",
       "\n",
       "    .dataframe thead th {\n",
       "        text-align: right;\n",
       "    }\n",
       "</style>\n",
       "<table border=\"1\" class=\"dataframe\">\n",
       "  <thead>\n",
       "    <tr style=\"text-align: right;\">\n",
       "      <th></th>\n",
       "      <th>filename</th>\n",
       "      <th>category</th>\n",
       "    </tr>\n",
       "  </thead>\n",
       "  <tbody>\n",
       "    <tr>\n",
       "      <th>0</th>\n",
       "      <td>A1-DH3000-3000h-PT-cell10.jpg</td>\n",
       "      <td>0</td>\n",
       "    </tr>\n",
       "    <tr>\n",
       "      <th>1</th>\n",
       "      <td>A1-DH3000-3000h-PT-cell14.jpg</td>\n",
       "      <td>0</td>\n",
       "    </tr>\n",
       "    <tr>\n",
       "      <th>2</th>\n",
       "      <td>A1-DH3000-3000h-PT-cell16.jpg</td>\n",
       "      <td>0</td>\n",
       "    </tr>\n",
       "    <tr>\n",
       "      <th>3</th>\n",
       "      <td>A1-DH3000-3000h-PT-cell18.jpg</td>\n",
       "      <td>0</td>\n",
       "    </tr>\n",
       "    <tr>\n",
       "      <th>4</th>\n",
       "      <td>A1-DH3000-3000h-PT-cell20.jpg</td>\n",
       "      <td>0</td>\n",
       "    </tr>\n",
       "    <tr>\n",
       "      <th>...</th>\n",
       "      <td>...</td>\n",
       "      <td>...</td>\n",
       "    </tr>\n",
       "    <tr>\n",
       "      <th>376</th>\n",
       "      <td>cell2428.png</td>\n",
       "      <td>4</td>\n",
       "    </tr>\n",
       "    <tr>\n",
       "      <th>377</th>\n",
       "      <td>cell2429.png</td>\n",
       "      <td>4</td>\n",
       "    </tr>\n",
       "    <tr>\n",
       "      <th>378</th>\n",
       "      <td>cell2430.png</td>\n",
       "      <td>4</td>\n",
       "    </tr>\n",
       "    <tr>\n",
       "      <th>379</th>\n",
       "      <td>cell2432.png</td>\n",
       "      <td>4</td>\n",
       "    </tr>\n",
       "    <tr>\n",
       "      <th>380</th>\n",
       "      <td>cell2433.png</td>\n",
       "      <td>4</td>\n",
       "    </tr>\n",
       "  </tbody>\n",
       "</table>\n",
       "<p>381 rows × 2 columns</p>\n",
       "</div>"
      ],
      "text/plain": [
       "                          filename category\n",
       "0    A1-DH3000-3000h-PT-cell10.jpg        0\n",
       "1    A1-DH3000-3000h-PT-cell14.jpg        0\n",
       "2    A1-DH3000-3000h-PT-cell16.jpg        0\n",
       "3    A1-DH3000-3000h-PT-cell18.jpg        0\n",
       "4    A1-DH3000-3000h-PT-cell20.jpg        0\n",
       "..                             ...      ...\n",
       "376                   cell2428.png        4\n",
       "377                   cell2429.png        4\n",
       "378                   cell2430.png        4\n",
       "379                   cell2432.png        4\n",
       "380                   cell2433.png        4\n",
       "\n",
       "[381 rows x 2 columns]"
      ]
     },
     "execution_count": 5,
     "metadata": {},
     "output_type": "execute_result"
    }
   ],
   "source": [
    "filenames = os.listdir(\"test/c0\")\n",
    "print(filenames)\n",
    "categories_test = []\n",
    "filenamefin_test = []\n",
    "for filename in filenames:\n",
    "      categories_test.append(\"0\")\n",
    "      filenamefin_test.append(filename)\n",
    "filenames = os.listdir(\"test/c1\")\n",
    "\n",
    "\n",
    "for filename in filenames:\n",
    "    categories_test.append(\"1\")\n",
    "    filenamefin_test.append(filename)\n",
    "\n",
    "filenames = os.listdir(\"test/c2\")\n",
    "for filename in filenames:\n",
    "    categories_test.append(\"2\")\n",
    "    filenamefin_test.append(filename)\n",
    "\n",
    "filenames = os.listdir(\"test/c3\")\n",
    "for filename in filenames:\n",
    "    categories_test.append(\"3\")\n",
    "    filenamefin_test.append(filename)\n",
    "\n",
    "filenames = os.listdir(\"test/c4\")\n",
    "for filename in filenames:\n",
    "    categories_test.append(\"4\")\n",
    "    filenamefin_test.append(filename)\n",
    "\n",
    "test_df = pd.DataFrame({\n",
    "    'filename': filenamefin_test,\n",
    "    'category': categories_test\n",
    "})\n",
    "test_df"
   ]
  },
  {
   "cell_type": "code",
   "execution_count": 6,
   "id": "db22e27f",
   "metadata": {},
   "outputs": [],
   "source": [
    "train_df, validate_df = train_test_split(df, test_size=0.1, random_state=42)\n",
    "train_df = train_df.reset_index(drop=True)\n",
    "validate_df = validate_df.reset_index(drop=True)"
   ]
  },
  {
   "cell_type": "code",
   "execution_count": 7,
   "id": "d75081ac",
   "metadata": {},
   "outputs": [
    {
     "name": "stdout",
     "output_type": "stream",
     "text": [
      "['3']\n"
     ]
    },
    {
     "data": {
      "text/plain": [
       "<matplotlib.image.AxesImage at 0x16fc86503a0>"
      ]
     },
     "execution_count": 7,
     "metadata": {},
     "output_type": "execute_result"
    },
    {
     "data": {
      "image/png": "[encoded data removed]",
      "text/plain": [
       "<Figure size 432x288 with 1 Axes>"
      ]
     },
     "metadata": {
      "needs_background": "light"
     },
     "output_type": "display_data"
    }
   ],
   "source": [
    "sample = random.choice(filenamefin_train)\n",
    "orders = df.loc[df.filename == sample, 'category'].unique()\n",
    "print(orders)\n",
    "if orders == '0':\n",
    "  image = load_img(\"train/c0/\" + sample)\n",
    "elif orders == '1':\n",
    "  image = load_img(\"train/c1/\" + sample)\n",
    "elif orders == '2':\n",
    "  image = load_img(\"train/c2/\" + sample)\n",
    "elif orders == '3':\n",
    "  image = load_img(\"train/c3/\" + sample)\n",
    "elif orders == '4':\n",
    "  image = load_img(\"train/c4/\" + sample)\n",
    "plt.imshow(image)"
   ]
  },
  {
   "cell_type": "code",
   "execution_count": 8,
   "id": "11ab2761",
   "metadata": {},
   "outputs": [],
   "source": [
    "total_train = train_df.shape[0]\n",
    "total_validate = validate_df.shape[0]\n",
    "batch_size=16\n",
    "IMAGE_SIZE=(200,200)"
   ]
  },
  {
   "cell_type": "code",
   "execution_count": 9,
   "id": "1d771d10",
   "metadata": {},
   "outputs": [
    {
     "name": "stdout",
     "output_type": "stream",
     "text": [
      "Found 2620 validated image filenames belonging to 5 classes.\n"
     ]
    },
    {
     "name": "stderr",
     "output_type": "stream",
     "text": [
      "D:\\ProgramData\\Anaconda3\\envs\\tf_gpu2\\lib\\site-packages\\keras_preprocessing\\image\\dataframe_iterator.py:279: UserWarning: Found 2 invalid image filename(s) in x_col=\"filename\". These filename(s) will be ignored.\n",
      "  warnings.warn(\n"
     ]
    }
   ],
   "source": [
    "train_datagen = ImageDataGenerator(\n",
    "    rotation_range=15,\n",
    "    rescale=1./255,\n",
    "    shear_range=0.1,\n",
    "    zoom_range=0.2,\n",
    "    horizontal_flip=True,\n",
    "    vertical_flip = True,\n",
    "    width_shift_range=0.1,\n",
    "    height_shift_range=0.1\n",
    ")\n",
    "train_generator = train_datagen.flow_from_dataframe(\n",
    "    df, \n",
    "    \"train_set\", \n",
    "    x_col='filename',\n",
    "    y_col='category',\n",
    "    target_size=IMAGE_SIZE,\n",
    "    class_mode='categorical',\n",
    "    batch_size=batch_size\n",
    ")"
   ]
  },
  {
   "cell_type": "code",
   "execution_count": 10,
   "id": "2c42f02d",
   "metadata": {},
   "outputs": [
    {
     "name": "stdout",
     "output_type": "stream",
     "text": [
      "Found 263 validated image filenames belonging to 5 classes.\n"
     ]
    }
   ],
   "source": [
    "validation_datagen = ImageDataGenerator(rescale=1./255)\n",
    "validation_generator = validation_datagen.flow_from_dataframe(\n",
    "    validate_df, \n",
    "    \"train_set\", \n",
    "    x_col='filename',\n",
    "    y_col='category',\n",
    "    target_size=IMAGE_SIZE,\n",
    "    class_mode='categorical',\n",
    "    batch_size=batch_size\n",
    ")"
   ]
  },
  {
   "cell_type": "code",
   "execution_count": 11,
   "id": "7d93de91",
   "metadata": {},
   "outputs": [
    {
     "name": "stdout",
     "output_type": "stream",
     "text": [
      "Found 381 validated image filenames belonging to 5 classes.\n"
     ]
    }
   ],
   "source": [
    "test_gen = ImageDataGenerator(rescale=1./255)\n",
    "test_generator = test_gen.flow_from_dataframe(\n",
    "    test_df, \n",
    "    \"test_set\", \n",
    "    x_col='filename',\n",
    "    y_col='category',\n",
    "    class_mode='categorical',\n",
    "    target_size=IMAGE_SIZE,\n",
    "    batch_size=batch_size,\n",
    "    shuffle = False\n",
    ")"
   ]
  },
  {
   "cell_type": "code",
   "execution_count": 12,
   "id": "77427654",
   "metadata": {},
   "outputs": [
    {
     "name": "stdout",
     "output_type": "stream",
     "text": [
      "Model: \"vgg19\"\n",
      "_________________________________________________________________\n",
      "Layer (type)                 Output Shape              Param #   \n",
      "=================================================================\n",
      "input_1 (InputLayer)         [(None, 200, 200, 3)]     0         \n",
      "_________________________________________________________________\n",
      "block1_conv1 (Conv2D)        (None, 200, 200, 64)      1792      \n",
      "_________________________________________________________________\n",
      "block1_conv2 (Conv2D)        (None, 200, 200, 64)      36928     \n",
      "_________________________________________________________________\n",
      "block1_pool (MaxPooling2D)   (None, 100, 100, 64)      0         \n",
      "_________________________________________________________________\n",
      "block2_conv1 (Conv2D)        (None, 100, 100, 128)     73856     \n",
      "_________________________________________________________________\n",
      "block2_conv2 (Conv2D)        (None, 100, 100, 128)     147584    \n",
      "_________________________________________________________________\n",
      "block2_pool (MaxPooling2D)   (None, 50, 50, 128)       0         \n",
      "_________________________________________________________________\n",
      "block3_conv1 (Conv2D)        (None, 50, 50, 256)       295168    \n",
      "_________________________________________________________________\n",
      "block3_conv2 (Conv2D)        (None, 50, 50, 256)       590080    \n",
      "_________________________________________________________________\n",
      "block3_conv3 (Conv2D)        (None, 50, 50, 256)       590080    \n",
      "_________________________________________________________________\n",
      "block3_conv4 (Conv2D)        (None, 50, 50, 256)       590080    \n",
      "_________________________________________________________________\n",
      "block3_pool (MaxPooling2D)   (None, 25, 25, 256)       0         \n",
      "_________________________________________________________________\n",
      "block4_conv1 (Conv2D)        (None, 25, 25, 512)       1180160   \n",
      "_________________________________________________________________\n",
      "block4_conv2 (Conv2D)        (None, 25, 25, 512)       2359808   \n",
      "_________________________________________________________________\n",
      "block4_conv3 (Conv2D)        (None, 25, 25, 512)       2359808   \n",
      "_________________________________________________________________\n",
      "block4_conv4 (Conv2D)        (None, 25, 25, 512)       2359808   \n",
      "_________________________________________________________________\n",
      "block4_pool (MaxPooling2D)   (None, 12, 12, 512)       0         \n",
      "_________________________________________________________________\n",
      "block5_conv1 (Conv2D)        (None, 12, 12, 512)       2359808   \n",
      "_________________________________________________________________\n",
      "block5_conv2 (Conv2D)        (None, 12, 12, 512)       2359808   \n",
      "_________________________________________________________________\n",
      "block5_conv3 (Conv2D)        (None, 12, 12, 512)       2359808   \n",
      "_________________________________________________________________\n",
      "block5_conv4 (Conv2D)        (None, 12, 12, 512)       2359808   \n",
      "_________________________________________________________________\n",
      "block5_pool (MaxPooling2D)   (None, 6, 6, 512)         0         \n",
      "=================================================================\n",
      "Total params: 20,024,384\n",
      "Trainable params: 20,024,384\n",
      "Non-trainable params: 0\n",
      "_________________________________________________________________\n",
      "None\n"
     ]
    }
   ],
   "source": [
    "model_vgg19= tf.keras.applications.VGG19(weights=\"imagenet\", include_top=False, input_shape = (200,200,3))\n",
    "print(model_vgg19.summary())"
   ]
  },
  {
   "cell_type": "code",
   "execution_count": 13,
   "id": "c430977f",
   "metadata": {},
   "outputs": [
    {
     "name": "stdout",
     "output_type": "stream",
     "text": [
      "<keras.engine.input_layer.InputLayer object at 0x0000016FC880AEB0> False\n",
      "<keras.layers.convolutional.Conv2D object at 0x0000016FC8C527F0> True\n",
      "<keras.layers.convolutional.Conv2D object at 0x0000016FC8C52DF0> False\n",
      "<keras.layers.pooling.MaxPooling2D object at 0x0000016FD7BD1250> True\n",
      "<keras.layers.convolutional.Conv2D object at 0x0000016FC2178310> False\n",
      "<keras.layers.convolutional.Conv2D object at 0x0000016FD6843490> True\n",
      "<keras.layers.pooling.MaxPooling2D object at 0x0000016FD7BDF5E0> False\n",
      "<keras.layers.convolutional.Conv2D object at 0x0000016FD7BDF250> True\n",
      "<keras.layers.convolutional.Conv2D object at 0x0000016FD7BDB820> False\n",
      "<keras.layers.convolutional.Conv2D object at 0x0000016FD7BEB850> True\n",
      "<keras.layers.convolutional.Conv2D object at 0x0000016FD7BF0B80> False\n",
      "<keras.layers.pooling.MaxPooling2D object at 0x0000016FD7BFCBB0> True\n",
      "<keras.layers.convolutional.Conv2D object at 0x0000016FD7BFC6D0> False\n",
      "<keras.layers.convolutional.Conv2D object at 0x0000016FD7C07EE0> True\n",
      "<keras.layers.convolutional.Conv2D object at 0x0000016FD7C0EA30> False\n",
      "<keras.layers.convolutional.Conv2D object at 0x0000016FD80D4CA0> True\n",
      "<keras.layers.pooling.MaxPooling2D object at 0x0000016FD80DF700> False\n",
      "<keras.layers.convolutional.Conv2D object at 0x0000016FD80DCF40> True\n",
      "<keras.layers.convolutional.Conv2D object at 0x0000016FD80EA7F0> False\n",
      "<keras.layers.convolutional.Conv2D object at 0x0000016FD80F0580> True\n",
      "<keras.layers.convolutional.Conv2D object at 0x0000016FD80F89A0> False\n",
      "<keras.layers.pooling.MaxPooling2D object at 0x0000016FD8102850> True\n"
     ]
    }
   ],
   "source": [
    "i = 0\n",
    "for layer in model_vgg19.layers[:]:\n",
    "    if(i%2 == 0):\n",
    "        layer.trainable = False\n",
    "    i = i+1\n",
    "for layer in model_vgg19.layers:\n",
    "    print(layer, layer.trainable)"
   ]
  },
  {
   "cell_type": "code",
   "execution_count": 14,
   "id": "6d992cb7",
   "metadata": {},
   "outputs": [
    {
     "name": "stdout",
     "output_type": "stream",
     "text": [
      "Model: \"sequential\"\n",
      "_________________________________________________________________\n",
      "Layer (type)                 Output Shape              Param #   \n",
      "=================================================================\n",
      "vgg19 (Functional)           (None, 6, 6, 512)         20024384  \n",
      "_________________________________________________________________\n",
      "flatten (Flatten)            (None, 18432)             0         \n",
      "_________________________________________________________________\n",
      "dense (Dense)                (None, 64)                1179712   \n",
      "_________________________________________________________________\n",
      "dropout (Dropout)            (None, 64)                0         \n",
      "_________________________________________________________________\n",
      "dense_1 (Dense)              (None, 5)                 325       \n",
      "=================================================================\n",
      "Total params: 21,204,421\n",
      "Trainable params: 11,653,893\n",
      "Non-trainable params: 9,550,528\n",
      "_________________________________________________________________\n"
     ]
    }
   ],
   "source": [
    "# Create the model\n",
    "from tensorflow.keras.layers import Flatten\n",
    "from tensorflow.keras.layers import Dense\n",
    "new_model = Sequential()\n",
    "# Add the vgg convolutional base model\n",
    "\n",
    "new_model.add(model_vgg19)\n",
    "\n",
    "new_model.add(Flatten())\n",
    "new_model.add(Dense(64, activation='relu'))\n",
    "new_model.add(tensorflow.keras.layers.Dropout(0.5))\n",
    "new_model.add(Dense(5, activation='softmax'))\n",
    "# Show a summary of the new_model. Check the number of trainable parameters\n",
    "\n",
    "new_model.summary()"
   ]
  },
  {
   "cell_type": "code",
   "execution_count": 15,
   "id": "b24a46a6",
   "metadata": {},
   "outputs": [
    {
     "name": "stdout",
     "output_type": "stream",
     "text": [
      "Model: \"sequential\"\n",
      "_________________________________________________________________\n",
      "Layer (type)                 Output Shape              Param #   \n",
      "=================================================================\n",
      "vgg19 (Functional)           (None, 6, 6, 512)         20024384  \n",
      "_________________________________________________________________\n",
      "flatten (Flatten)            (None, 18432)             0         \n",
      "_________________________________________________________________\n",
      "dense (Dense)                (None, 64)                1179712   \n",
      "_________________________________________________________________\n",
      "dropout (Dropout)            (None, 64)                0         \n",
      "_________________________________________________________________\n",
      "dense_1 (Dense)              (None, 5)                 325       \n",
      "=================================================================\n",
      "Total params: 21,204,421\n",
      "Trainable params: 11,653,893\n",
      "Non-trainable params: 9,550,528\n",
      "_________________________________________________________________\n"
     ]
    }
   ],
   "source": [
    "new_model.compile(loss='categorical_crossentropy', optimizer=tf.optimizers.SGD(learning_rate=0.0001), metrics=['accuracy'])\n",
    "new_model.summary()"
   ]
  },
  {
   "cell_type": "code",
   "execution_count": 16,
   "id": "3052555a",
   "metadata": {},
   "outputs": [
    {
     "name": "stdout",
     "output_type": "stream",
     "text": [
      "Epoch 1/50\n",
      "164/164 [==============================] - 66s 322ms/step - loss: 1.3503 - accuracy: 0.5050\n",
      "Epoch 2/50\n",
      "164/164 [==============================] - 29s 175ms/step - loss: 1.2376 - accuracy: 0.5805\n",
      "Epoch 3/50\n",
      "164/164 [==============================] - 29s 178ms/step - loss: 1.1806 - accuracy: 0.5882 28s - los - ETA: 0s - loss: 1.1800 - accuracy: 0.58 - ETA: 0s - loss: 1.1811 - accuracy\n",
      "Epoch 4/50\n",
      "164/164 [==============================] - 29s 177ms/step - loss: 1.1232 - accuracy: 0.6248 E - ETA: 2s\n",
      "Epoch 5/50\n",
      "164/164 [==============================] - 29s 178ms/step - loss: 1.0261 - accuracy: 0.6790\n",
      "Epoch 6/50\n",
      "164/164 [==============================] - 32s 195ms/step - loss: 0.9248 - accuracy: 0.7305  - ETA: 13s -  - ETA: 4s - loss: 0.9406  - ETA: 2s - los\n",
      "Epoch 7/50\n",
      "164/164 [==============================] - 29s 179ms/step - loss: 0.8238 - accuracy: 0.7664 3s - loss: 0.829 - ETA: 1s - loss: 0.8279 \n",
      "Epoch 8/50\n",
      "164/164 [==============================] - 29s 176ms/step - loss: 0.7319 - accuracy: 0.7859s - loss: 0.7348 - ac\n",
      "Epoch 9/50\n",
      "164/164 [==============================] - 29s 179ms/step - loss: 0.6492 - accuracy: 0.8069\n",
      "Epoch 10/50\n",
      "164/164 [==============================] - 30s 182ms/step - loss: 0.5688 - accuracy: 0.8263 15s - loss: 0.5918 - accuracy: - ETA: 14s - - ETA: 0s - loss: 0.5686 - accu\n",
      "Epoch 11/50\n",
      "164/164 [==============================] - 29s 179ms/step - loss: 0.5162 - accuracy: 0.8366 19s - loss:  - ETA: 14s - loss: 0.5575 - accura - ETA: 13s - loss: - ETA: 1s - loss: 0.5201 - accuracy - ETA: 0s - loss: 0.5171 - accuracy: \n",
      "Epoch 12/50\n",
      "164/164 [==============================] - 29s 178ms/step - loss: 0.4664 - accuracy: 0.8553\n",
      "Epoch 13/50\n",
      "164/164 [==============================] - 31s 187ms/step - loss: 0.4509 - accuracy: 0.8626s - loss: 0.4483  - ETA: 0s - loss: 0.4505 - accuracy: 0.\n",
      "Epoch 14/50\n",
      "164/164 [==============================] - 30s 181ms/step - loss: 0.3984 - accuracy: 0.8798 24s - loss: 0.3855 - accuracy: 0.886 - ETA: 23s - loss: 0.3845 - accurac\n",
      "Epoch 15/50\n",
      "164/164 [==============================] - 29s 176ms/step - loss: 0.4098 - accuracy: 0.8706 28s - loss: 0.4 - ETA: 24s - loss: 0.4108 - ac - ETA:  - - ETA: 1s - loss: 0.4109 - accuracy:  - ETA: 0s - loss: 0.4105 - accuracy\n",
      "Epoch 16/50\n",
      "164/164 [==============================] - 29s 175ms/step - loss: 0.3790 - accuracy: 0.8794 27s - loss: 0.3818 - accuracy - ETA: 25s - loss: 0.3292 - accuracy: 0 - ETA: 9s - loss: 0.3910 - accu - ETA: 8s - loss: 0.3838 - accura - ETA: 7s - loss: 0.3761 - accu - ETA - ETA: 3s - loss: 0.3736 - accuracy - ETA: 2s - loss: 0.3802 - ac - ETA: 1s - loss: 0.3797 \n",
      "Epoch 17/50\n",
      "164/164 [==============================] - 29s 176ms/step - loss: 0.3415 - accuracy: 0.8905 16s - loss: 0.355 - ETA: 13s - loss: 0.3519 - accur - ETA: 11s - loss:  - ETA: 4s - loss: 0.3435 - accu - E - ETA: 0s - loss: 0.3415 - accuracy: 0.89\n",
      "Epoch 18/50\n",
      "164/164 [==============================] - 29s 176ms/step - loss: 0.3374 - accuracy: 0.8924 27s - loss: 0.4019 - accuracy - E - ETA: 11s -  - E - ETA: 4s - - ETA: 1s - loss: 0.3425 \n",
      "Epoch 19/50\n",
      "164/164 [==============================] - 29s 177ms/step - loss: 0.3261 - accuracy: 0.8969 22s - loss: 0.3307 - ETA: 19s - loss: 0.3435 - a - E - ETA: 1s - loss: 0.3 - ETA: 0s - loss: 0.3261 - accuracy: 0.89\n",
      "Epoch 20/50\n",
      "164/164 [==============================] - 29s 178ms/step - loss: 0.3240 - accuracy: 0.9019 27s - loss: 0.3192 - accuracy: - ETA: 26s - loss: 0.3696 - accuracy: 0.8 - ETA:  - ETA: 6s - loss: 0.3187 -  - - ETA: 1s - loss: 0.3255 \n",
      "Epoch 21/50\n",
      "164/164 [==============================] - 29s 176ms/step - loss: 0.3139 - accuracy: 0.9000 19s - loss: 0.321 - ETA: 15s - loss: - ETA: 10s - loss: 0 - ETA: 8s - loss: 0.3126 - accura - ETA: 7s - loss: 0.3098 - ac - ETA: 6s - loss: 0.3089  - ETA: 4s - loss: 0.3082 - accuracy: 0. - ETA: 4s - l - ETA: 1s - loss: 0.313\n",
      "Epoch 22/50\n",
      "164/164 [==============================] - 29s 176ms/step - loss: 0.3025 - accuracy: 0.8992\n",
      "Epoch 23/50\n",
      "164/164 [==============================] - 29s 176ms/step - loss: 0.2970 - accuracy: 0.9034 24s - loss: 0.2915 - accura - ETA: 22s - loss: 0.2955 - accuracy: 0.9 - ETA: 22s - loss: 0.285 - ETA: 18s - loss: 0.3103 - accuracy - ETA: 17s - loss: 0.3038 - accuracy: 0. - ETA: 16s - loss: 0.2941 - accuracy - ETA: 15s - loss: 0.3015 - accuracy: - ETA: 13s - - ETA: 5s - los - ETA: 2s - loss: 0.3017 -  - ETA: 1s - loss: 0.2982 - \n",
      "Epoch 24/50\n",
      "164/164 [==============================] - 29s 178ms/step - loss: 0.2888 - accuracy: 0.9023 27s - loss: 0.1712 - accuracy: 0 - ETA: 26s - loss: 0.1681 - accuracy: - ETA: 24s - loss: 0.1884 - accuracy: 0. - ETA: 23s - loss: 0.1939 - a - ETA: 13s - loss: 0.2858 - accuracy:  - ETA: \n",
      "Epoch 25/50\n",
      "164/164 [==============================] - 29s 179ms/step - loss: 0.2841 - accuracy: 0.9031s - loss: 0.2866 - \n",
      "Epoch 26/50\n",
      "164/164 [==============================] - 29s 178ms/step - loss: 0.2813 - accuracy: 0.9053s - loss: 0.2817 - accuracy: \n",
      "Epoch 27/50\n",
      "164/164 [==============================] - 29s 176ms/step - loss: 0.2768 - accuracy: 0.9111 28s - loss: 0.4 - ETA: 24s - loss: 0.2906 - accur - ETA: 22s - loss: 0.2774 - accuracy: 0 - ETA: 21s - loss: 0.2691 - accuracy: 0.9 - ETA: 21s - loss: 0.2643 - accuracy: 0. - ETA: 20s - loss: 0.2600 - accur -  - ETA: 10s -\n",
      "Epoch 28/50\n",
      "164/164 [==============================] - 29s 177ms/step - loss: 0.2657 - accuracy: 0.9084 25s - los - ETA: 20s - loss: 0.2852  - ETA: 17s - loss: 0.2920 - accuracy: - ETA: 5s - loss: 0.281 - ETA: 3s - loss: 0.2781 - ac - ETA: 2s - loss: 0.2724 - accuracy: 0.90 - ETA: 2s - loss:\n",
      "Epoch 29/50\n",
      "164/164 [==============================] - 72s 439ms/step - loss: 0.2674 - accuracy: 0.9115\n",
      "Epoch 30/50\n",
      "164/164 [==============================] - 73s 443ms/step - loss: 0.2517 - accuracy: 0.9206\n",
      "Epoch 31/50\n",
      "164/164 [==============================] - 76s 462ms/step - loss: 0.2578 - accuracy: 0.9168\n",
      "Epoch 32/50\n",
      "164/164 [==============================] - 74s 449ms/step - loss: 0.2386 - accuracy: 0.9221 49s - loss - ETA: 2s - loss: 0.2400 - accuracy - ETA: 0s - loss: 0.2391 - accuracy: \n",
      "Epoch 33/50\n",
      "164/164 [==============================] - 63s 377ms/step - loss: 0.2568 - accuracy: 0.9126\n",
      "Epoch 34/50\n",
      "164/164 [==============================] - 74s 449ms/step - loss: 0.2417 - accuracy: 0.9237\n",
      "Epoch 35/50\n",
      "164/164 [==============================] - 77s 469ms/step - loss: 0.2505 - accuracy: 0.9172\n",
      "Epoch 36/50\n",
      "164/164 [==============================] - 78s 474ms/step - loss: 0.2354 - accuracy: 0.9244\n",
      "Epoch 37/50\n",
      "164/164 [==============================] - 77s 469ms/step - loss: 0.2390 - accuracy: 0.9145\n",
      "Epoch 38/50\n",
      "164/164 [==============================] - 75s 456ms/step - loss: 0.2278 - accuracy: 0.9244\n",
      "Epoch 39/50\n",
      "164/164 [==============================] - 76s 462ms/step - loss: 0.2219 - accuracy: 0.9279ETA: 1:03 - loss: 0.1708 - accurac - ET - ETA: 38s - loss: 0.1989 - - ET\n",
      "Epoch 40/50\n",
      "164/164 [==============================] - 74s 443ms/step - loss: 0.2296 - accuracy: 0.9206\n",
      "Epoch 41/50\n",
      "164/164 [==============================] - 73s 446ms/step - loss: 0.2175 - accuracy: 0.9271 1:05 - - ETA: 36s - loss: 0.2143 - accur -  - ETA: 0s - loss: 0.2196 - accuracy: \n",
      "Epoch 42/50\n",
      "164/164 [==============================] - 70s 430ms/step - loss: 0.2283 - accuracy: 0.9267\n",
      "Epoch 43/50\n",
      "164/164 [==============================] - 70s 427ms/step - loss: 0.2154 - accuracy: 0.9252\n",
      "Epoch 44/50\n",
      "164/164 [==============================] - 69s 424ms/step - loss: 0.2246 - accuracy: 0.9233\n",
      "Epoch 45/50\n",
      "164/164 [==============================] - 70s 425ms/step - loss: 0.2250 - accuracy: 0.9294\n",
      "Epoch 46/50\n",
      "164/164 [==============================] - 70s 430ms/step - loss: 0.1995 - accuracy: 0.9347\n",
      "Epoch 47/50\n",
      "164/164 [==============================] - ETA: 0s - loss: 0.2108 - accuracy: 0.9298 - ETA: 14s - loss: 0. - ETA: 6s - 71s 436ms/step - loss: 0.2108 - accuracy: 0.9298\n",
      "Epoch 48/50\n",
      "164/164 [==============================] - 74s 443ms/step - loss: 0.2070 - accuracy: 0.9302\n",
      "Epoch 49/50\n",
      "164/164 [==============================] - 64s 388ms/step - loss: 0.2142 - accuracy: 0.9336\n",
      "Epoch 50/50\n"
     ]
    },
    {
     "name": "stdout",
     "output_type": "stream",
     "text": [
      "164/164 [==============================] - 90s 549ms/step - loss: 0.2045 - accuracy: 0.9351\n"
     ]
    }
   ],
   "source": [
    "history = new_model.fit(train_generator, epochs=50)"
   ]
  },
  {
   "cell_type": "code",
   "execution_count": 17,
   "id": "11187210",
   "metadata": {},
   "outputs": [
    {
     "name": "stdout",
     "output_type": "stream",
     "text": [
      "50\n"
     ]
    },
    {
     "data": {
      "image/png": "[encoded data removed]",
      "text/plain": [
       "<Figure size 432x288 with 1 Axes>"
      ]
     },
     "metadata": {
      "needs_background": "light"
     },
     "output_type": "display_data"
    }
   ],
   "source": [
    "loss_train = history.history['loss']\n",
    "loss_val = history.history['accuracy']\n",
    "epochs = range(1,51)\n",
    "print(len(epochs))\n",
    "plt.plot(epochs, loss_train, 'g', label='Training loss')\n",
    "plt.plot(epochs, loss_val, 'b', label='validation loss')\n",
    "plt.title('Training and Validation loss')\n",
    "plt.xlabel('Epochs')\n",
    "plt.ylabel('Loss')\n",
    "plt.legend()\n",
    "plt.show()"
   ]
  },
  {
   "cell_type": "code",
   "execution_count": 19,
   "id": "38033266",
   "metadata": {},
   "outputs": [
    {
     "name": "stdout",
     "output_type": "stream",
     "text": [
      "24/24 [==============================] - 11s 438ms/step - loss: 0.1982 - accuracy: 0.9449\n"
     ]
    },
    {
     "data": {
      "text/plain": [
       "[0.1981704980134964, 0.9448819160461426]"
      ]
     },
     "execution_count": 19,
     "metadata": {},
     "output_type": "execute_result"
    }
   ],
   "source": [
    " new_model.evaluate(test_generator)"
   ]
  },
  {
   "cell_type": "code",
   "execution_count": 20,
   "id": "ef26428f",
   "metadata": {},
   "outputs": [],
   "source": [
    "predictions = new_model.predict(test_generator)"
   ]
  },
  {
   "cell_type": "code",
   "execution_count": 21,
   "id": "140846fd",
   "metadata": {},
   "outputs": [],
   "source": [
    "def process_images(n):\n",
    "  sample = test_df.filename[n]\n",
    "  #print(sample)\n",
    "  orders = test_df.category[n]\n",
    "  #print(orders)\n",
    "  image = load_img(\"test_set/\" + sample)\n",
    "  #plt.imshow(image)\n",
    "  #print(predictions[n])\n",
    "  return ord(orders), predictions[n].argmax(), image"
   ]
  },
  {
   "cell_type": "code",
   "execution_count": 22,
   "id": "3be15812",
   "metadata": {},
   "outputs": [
    {
     "name": "stdout",
     "output_type": "stream",
     "text": [
      "[41, 11, 208, 25, 96]\n",
      "[41, 24, 195, 33, 88]\n"
     ]
    }
   ],
   "source": [
    "s = predictions.shape\n",
    "pr = [0, 0, 0, 0, 0]\n",
    "tr = [0, 0, 0, 0, 0]\n",
    "lis = []\n",
    "for i in range(0, s[0]):\n",
    "  tr1, pr1, img = process_images(i)\n",
    "  tr1 = tr1 - 48\n",
    "  if(tr1 != pr1):\n",
    "    lis.append(img)\n",
    "    #print(pr1, tr1)\n",
    "  pr[pr1] = pr[pr1] + 1\n",
    "  tr[tr1] = tr[tr1] + 1\n",
    "print(pr)\n",
    "print(tr)"
   ]
  },
  {
   "cell_type": "code",
   "execution_count": 24,
   "id": "f8b510e5",
   "metadata": {},
   "outputs": [
    {
     "name": "stdout",
     "output_type": "stream",
     "text": [
      "Saved model to disk\n"
     ]
    }
   ],
   "source": [
    "model_json = new_model.to_json()\n",
    "with open(\"model_vgg19.json\", \"w\") as json_file:\n",
    "    json_file.write(model_json)\n",
    "# serialize weights to HDF5\n",
    "new_model.save_weights(\"model_vgg19.h5\")\n",
    "print(\"Saved model to disk\")"
   ]
  },
  {
   "cell_type": "code",
   "execution_count": null,
   "id": "c07ef3e9",
   "metadata": {},
   "outputs": [],
   "source": []
  }
 ],
 "metadata": {
  "kernelspec": {
   "display_name": "Python 3 (ipykernel)",
   "language": "python",
   "name": "python3"
  },
  "language_info": {
   "codemirror_mode": {
    "name": "ipython",
    "version": 3
   },
   "file_extension": ".py",
   "mimetype": "text/x-python",
   "name": "python",
   "nbconvert_exporter": "python",
   "pygments_lexer": "ipython3",
   "version": "3.9.7"
  }
 },
 "nbformat": 4,
 "nbformat_minor": 5
}
