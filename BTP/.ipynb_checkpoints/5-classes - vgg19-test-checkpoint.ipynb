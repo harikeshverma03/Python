{
 "cells": [
  {
   "cell_type": "code",
   "execution_count": 1,
   "id": "7dbbd29b",
   "metadata": {},
   "outputs": [
    {
     "name": "stdout",
     "output_type": "stream",
     "text": [
      "C:\\Users\\harik\\OneDrive\\Documents\\Projects\\BTP\\1907French-etal-SDLE-EL-ImageDataSet-forML\n"
     ]
    }
   ],
   "source": [
    "cd C:\\Users\\harik\\OneDrive\\Documents\\Projects\\BTP\\1907French-etal-SDLE-EL-ImageDataSet-forML"
   ]
  },
  {
   "cell_type": "code",
   "execution_count": 2,
   "id": "cda26894",
   "metadata": {},
   "outputs": [],
   "source": [
    "import tensorflow as tf\n",
    "import tensorflow.keras\n",
    "from tensorflow import keras\n",
    "import matplotlib.pyplot as plt\n",
    "import os\n",
    "import time\n",
    "import pandas as pd\n",
    "import random\n",
    "import numpy as np\n",
    "from tensorflow.keras.preprocessing.image import ImageDataGenerator, load_img, img_to_array\n",
    "from matplotlib import pyplot\n",
    "from sklearn.model_selection import train_test_split\n",
    "from tensorflow.compat.v1 import ConfigProto\n",
    "from tensorflow.compat.v1 import InteractiveSession\n",
    "from tensorflow import keras\n",
    "from tensorflow.keras import layers\n",
    "from tensorflow.keras.models import Sequential\n",
    "config = ConfigProto()\n",
    "config.gpu_options.allow_growth = True\n",
    "session = InteractiveSession(config=config)\n",
    "\n",
    "physical_devices = tf.config.list_physical_devices('GPU')\n",
    "tf.config.experimental.set_memory_growth(physical_devices[0], True)"
   ]
  },
  {
   "cell_type": "code",
   "execution_count": 3,
   "id": "65e0553f",
   "metadata": {},
   "outputs": [
    {
     "name": "stdout",
     "output_type": "stream",
     "text": [
      "[name: \"/device:CPU:0\"\n",
      "device_type: \"CPU\"\n",
      "memory_limit: 268435456\n",
      "locality {\n",
      "}\n",
      "incarnation: 5870573066827858895\n",
      ", name: \"/device:GPU:0\"\n",
      "device_type: \"GPU\"\n",
      "memory_limit: 4183621632\n",
      "locality {\n",
      "  bus_id: 1\n",
      "  links {\n",
      "  }\n",
      "}\n",
      "incarnation: 13862328508015460388\n",
      "physical_device_desc: \"device: 0, name: NVIDIA GeForce GTX 1660 Ti, pci bus id: 0000:01:00.0, compute capability: 7.5\"\n",
      "]\n"
     ]
    }
   ],
   "source": [
    "from tensorflow.python.client import device_lib \n",
    "print(device_lib.list_local_devices())"
   ]
  },
  {
   "cell_type": "code",
   "execution_count": 4,
   "id": "a78dd03e",
   "metadata": {},
   "outputs": [
    {
     "name": "stdout",
     "output_type": "stream",
     "text": [
      "['A1-DH3000-3000h-PT-cell1.jpg', 'A1-DH3000-3000h-PT-cell10.jpg', 'A1-DH3000-3000h-PT-cell11.jpg', 'A1-DH3000-3000h-PT-cell12.jpg', 'A1-DH3000-3000h-PT-cell13.jpg', 'A1-DH3000-3000h-PT-cell14.jpg', 'A1-DH3000-3000h-PT-cell15.jpg', 'A1-DH3000-3000h-PT-cell16.jpg', 'A1-DH3000-3000h-PT-cell17.jpg', 'A1-DH3000-3000h-PT-cell18.jpg', 'A1-DH3000-3000h-PT-cell19.jpg', 'A1-DH3000-3000h-PT-cell2.jpg', 'A1-DH3000-3000h-PT-cell20.jpg', 'A1-DH3000-3000h-PT-cell21.jpg', 'A1-DH3000-3000h-PT-cell22.jpg', 'A1-DH3000-3000h-PT-cell24.jpg', 'A1-DH3000-3000h-PT-cell25.jpg', 'A1-DH3000-3000h-PT-cell26.jpg', 'A1-DH3000-3000h-PT-cell27.jpg', 'A1-DH3000-3000h-PT-cell28.jpg', 'A1-DH3000-3000h-PT-cell29.jpg', 'A1-DH3000-3000h-PT-cell3.jpg', 'A1-DH3000-3000h-PT-cell30.jpg', 'A1-DH3000-3000h-PT-cell31.jpg', 'A1-DH3000-3000h-PT-cell32.jpg', 'A1-DH3000-3000h-PT-cell33.jpg', 'A1-DH3000-3000h-PT-cell34.jpg', 'A1-DH3000-3000h-PT-cell36.jpg', 'A1-DH3000-3000h-PT-cell37.jpg', 'A1-DH3000-3000h-PT-cell38.jpg', 'A1-DH3000-3000h-PT-cell39.jpg', 'A1-DH3000-3000h-PT-cell4.jpg', 'A1-DH3000-3000h-PT-cell40.jpg', 'A1-DH3000-3000h-PT-cell41.jpg', 'A1-DH3000-3000h-PT-cell42.jpg', 'A1-DH3000-3000h-PT-cell43.jpg', 'A1-DH3000-3000h-PT-cell44.jpg', 'A1-DH3000-3000h-PT-cell45.jpg', 'A1-DH3000-3000h-PT-cell46.jpg', 'A1-DH3000-3000h-PT-cell47.jpg', 'A1-DH3000-3000h-PT-cell48.jpg', 'A1-DH3000-3000h-PT-cell49.jpg', 'A1-DH3000-3000h-PT-cell5.jpg', 'A1-DH3000-3000h-PT-cell50.jpg', 'A1-DH3000-3000h-PT-cell51.jpg', 'A1-DH3000-3000h-PT-cell52.jpg', 'A1-DH3000-3000h-PT-cell53.jpg', 'A1-DH3000-3000h-PT-cell54.jpg', 'A1-DH3000-3000h-PT-cell55.jpg', 'A1-DH3000-3000h-PT-cell56.jpg', 'A1-DH3000-3000h-PT-cell57.jpg', 'A1-DH3000-3000h-PT-cell58.jpg', 'A1-DH3000-3000h-PT-cell59.jpg', 'A1-DH3000-3000h-PT-cell6.jpg', 'A1-DH3000-3000h-PT-cell60.jpg', 'A1-DH3000-3000h-PT-cell7.jpg', 'A1-DH3000-3000h-PT-cell8.jpg', 'A1-DH3000-3000h-PT-cell9.jpg', 'A10-DH3000-2500h-PT-cell14.jpg', 'A10-DH3000-2500h-PT-cell49.jpg', 'A10-DH3000-2500h-PT-cell50.jpg', 'A10-DH3000-3000h-PT-cell1.jpg', 'A10-DH3000-3000h-PT-cell10.jpg', 'A10-DH3000-3000h-PT-cell11.jpg', 'A10-DH3000-3000h-PT-cell12.jpg', 'A10-DH3000-3000h-PT-cell13.jpg', 'A10-DH3000-3000h-PT-cell14.jpg', 'A10-DH3000-3000h-PT-cell16.jpg', 'A10-DH3000-3000h-PT-cell17.jpg', 'A10-DH3000-3000h-PT-cell18.jpg', 'A10-DH3000-3000h-PT-cell19.jpg', 'A10-DH3000-3000h-PT-cell2.jpg', 'A10-DH3000-3000h-PT-cell20.jpg', 'A10-DH3000-3000h-PT-cell21.jpg', 'A10-DH3000-3000h-PT-cell22.jpg', 'A10-DH3000-3000h-PT-cell23.jpg', 'A10-DH3000-3000h-PT-cell24.jpg', 'A10-DH3000-3000h-PT-cell25.jpg', 'A10-DH3000-3000h-PT-cell26.jpg', 'A10-DH3000-3000h-PT-cell27.jpg', 'A10-DH3000-3000h-PT-cell28.jpg', 'A10-DH3000-3000h-PT-cell29.jpg', 'A10-DH3000-3000h-PT-cell3.jpg', 'A10-DH3000-3000h-PT-cell30.jpg', 'A10-DH3000-3000h-PT-cell31.jpg', 'A10-DH3000-3000h-PT-cell32.jpg', 'A10-DH3000-3000h-PT-cell33.jpg', 'A10-DH3000-3000h-PT-cell34.jpg', 'A10-DH3000-3000h-PT-cell35.jpg', 'A10-DH3000-3000h-PT-cell36.jpg', 'A10-DH3000-3000h-PT-cell37.jpg', 'A10-DH3000-3000h-PT-cell38.jpg', 'A10-DH3000-3000h-PT-cell39.jpg', 'A10-DH3000-3000h-PT-cell4.jpg', 'A10-DH3000-3000h-PT-cell40.jpg', 'A10-DH3000-3000h-PT-cell41.jpg', 'A10-DH3000-3000h-PT-cell42.jpg', 'A10-DH3000-3000h-PT-cell43.jpg', 'A10-DH3000-3000h-PT-cell44.jpg', 'A10-DH3000-3000h-PT-cell45.jpg', 'A10-DH3000-3000h-PT-cell46.jpg', 'A10-DH3000-3000h-PT-cell47.jpg', 'A10-DH3000-3000h-PT-cell48.jpg', 'A10-DH3000-3000h-PT-cell49.jpg', 'A10-DH3000-3000h-PT-cell5.jpg', 'A10-DH3000-3000h-PT-cell50.jpg', 'A10-DH3000-3000h-PT-cell51.jpg', 'A10-DH3000-3000h-PT-cell52.jpg', 'A10-DH3000-3000h-PT-cell53.jpg', 'A10-DH3000-3000h-PT-cell54.jpg', 'A10-DH3000-3000h-PT-cell55.jpg', 'A10-DH3000-3000h-PT-cell56.jpg', 'A10-DH3000-3000h-PT-cell57.jpg', 'A10-DH3000-3000h-PT-cell58.jpg', 'A10-DH3000-3000h-PT-cell59.jpg', 'A10-DH3000-3000h-PT-cell6.jpg', 'A10-DH3000-3000h-PT-cell60.jpg', 'A10-DH3000-3000h-PT-cell7.jpg', 'A10-DH3000-3000h-PT-cell8.jpg', 'A10-DH3000-3000h-PT-cell9.jpg', 'A11-DH3000-2500h-PT-cell11.jpg', 'A11-DH3000-2500h-PT-cell13.jpg', 'A11-DH3000-2500h-PT-cell31.jpg', 'A11-DH3000-2500h-PT-cell32.jpg', 'A11-DH3000-2500h-PT-cell33.jpg', 'A11-DH3000-2500h-PT-cell34.jpg', 'A11-DH3000-2500h-PT-cell35.jpg', 'A11-DH3000-2500h-PT-cell36.jpg', 'A11-DH3000-2500h-PT-cell37.jpg', 'A11-DH3000-2500h-PT-cell38.jpg', 'A11-DH3000-2500h-PT-cell39.jpg', 'A11-DH3000-2500h-PT-cell40.jpg', 'A11-DH3000-3000h-PT-cell1.jpg', 'A11-DH3000-3000h-PT-cell10.jpg', 'A11-DH3000-3000h-PT-cell11.jpg', 'A11-DH3000-3000h-PT-cell12.jpg', 'A11-DH3000-3000h-PT-cell13.jpg', 'A11-DH3000-3000h-PT-cell14.jpg', 'A11-DH3000-3000h-PT-cell15.jpg', 'A11-DH3000-3000h-PT-cell16.jpg', 'A11-DH3000-3000h-PT-cell17.jpg', 'A11-DH3000-3000h-PT-cell18.jpg', 'A11-DH3000-3000h-PT-cell19.jpg', 'A11-DH3000-3000h-PT-cell2.jpg', 'A11-DH3000-3000h-PT-cell20.jpg', 'A11-DH3000-3000h-PT-cell21.jpg', 'A11-DH3000-3000h-PT-cell22.jpg', 'A11-DH3000-3000h-PT-cell23.jpg', 'A11-DH3000-3000h-PT-cell25.jpg', 'A11-DH3000-3000h-PT-cell26.jpg', 'A11-DH3000-3000h-PT-cell28.jpg', 'A11-DH3000-3000h-PT-cell29.jpg', 'A11-DH3000-3000h-PT-cell3.jpg', 'A11-DH3000-3000h-PT-cell30.jpg', 'A11-DH3000-3000h-PT-cell31.jpg', 'A11-DH3000-3000h-PT-cell32.jpg', 'A11-DH3000-3000h-PT-cell33.jpg', 'A11-DH3000-3000h-PT-cell34.jpg', 'A11-DH3000-3000h-PT-cell35.jpg', 'A11-DH3000-3000h-PT-cell36.jpg', 'A11-DH3000-3000h-PT-cell37.jpg', 'A11-DH3000-3000h-PT-cell38.jpg', 'A11-DH3000-3000h-PT-cell39.jpg', 'A11-DH3000-3000h-PT-cell4.jpg', 'A11-DH3000-3000h-PT-cell40.jpg', 'A11-DH3000-3000h-PT-cell41.jpg', 'A11-DH3000-3000h-PT-cell42.jpg', 'A11-DH3000-3000h-PT-cell43.jpg', 'A11-DH3000-3000h-PT-cell44.jpg', 'A11-DH3000-3000h-PT-cell45.jpg', 'A11-DH3000-3000h-PT-cell46.jpg', 'A11-DH3000-3000h-PT-cell47.jpg', 'A11-DH3000-3000h-PT-cell48.jpg', 'A11-DH3000-3000h-PT-cell49.jpg', 'A11-DH3000-3000h-PT-cell5.jpg', 'A11-DH3000-3000h-PT-cell50.jpg', 'A11-DH3000-3000h-PT-cell51.jpg', 'A11-DH3000-3000h-PT-cell52.jpg', 'A11-DH3000-3000h-PT-cell53.jpg', 'A11-DH3000-3000h-PT-cell54.jpg', 'A11-DH3000-3000h-PT-cell55.jpg', 'A11-DH3000-3000h-PT-cell56.jpg', 'A11-DH3000-3000h-PT-cell57.jpg', 'A11-DH3000-3000h-PT-cell58.jpg', 'A11-DH3000-3000h-PT-cell59.jpg', 'A11-DH3000-3000h-PT-cell6.jpg', 'A11-DH3000-3000h-PT-cell60.jpg', 'A11-DH3000-3000h-PT-cell7.jpg', 'A11-DH3000-3000h-PT-cell8.jpg', 'A11-DH3000-3000h-PT-cell9.jpg']\n"
     ]
    },
    {
     "data": {
      "text/html": [
       "<div>\n",
       "<style scoped>\n",
       "    .dataframe tbody tr th:only-of-type {\n",
       "        vertical-align: middle;\n",
       "    }\n",
       "\n",
       "    .dataframe tbody tr th {\n",
       "        vertical-align: top;\n",
       "    }\n",
       "\n",
       "    .dataframe thead th {\n",
       "        text-align: right;\n",
       "    }\n",
       "</style>\n",
       "<table border=\"1\" class=\"dataframe\">\n",
       "  <thead>\n",
       "    <tr style=\"text-align: right;\">\n",
       "      <th></th>\n",
       "      <th>filename</th>\n",
       "      <th>category</th>\n",
       "    </tr>\n",
       "  </thead>\n",
       "  <tbody>\n",
       "    <tr>\n",
       "      <th>0</th>\n",
       "      <td>A1-DH3000-3000h-PT-cell1.jpg</td>\n",
       "      <td>0</td>\n",
       "    </tr>\n",
       "    <tr>\n",
       "      <th>1</th>\n",
       "      <td>A1-DH3000-3000h-PT-cell10.jpg</td>\n",
       "      <td>0</td>\n",
       "    </tr>\n",
       "    <tr>\n",
       "      <th>2</th>\n",
       "      <td>A1-DH3000-3000h-PT-cell11.jpg</td>\n",
       "      <td>0</td>\n",
       "    </tr>\n",
       "    <tr>\n",
       "      <th>3</th>\n",
       "      <td>A1-DH3000-3000h-PT-cell12.jpg</td>\n",
       "      <td>0</td>\n",
       "    </tr>\n",
       "    <tr>\n",
       "      <th>4</th>\n",
       "      <td>A1-DH3000-3000h-PT-cell13.jpg</td>\n",
       "      <td>0</td>\n",
       "    </tr>\n",
       "    <tr>\n",
       "      <th>...</th>\n",
       "      <td>...</td>\n",
       "      <td>...</td>\n",
       "    </tr>\n",
       "    <tr>\n",
       "      <th>2861</th>\n",
       "      <td>cell2436.png</td>\n",
       "      <td>4</td>\n",
       "    </tr>\n",
       "    <tr>\n",
       "      <th>2862</th>\n",
       "      <td>cell2441.png</td>\n",
       "      <td>4</td>\n",
       "    </tr>\n",
       "    <tr>\n",
       "      <th>2863</th>\n",
       "      <td>cell2442.png</td>\n",
       "      <td>4</td>\n",
       "    </tr>\n",
       "    <tr>\n",
       "      <th>2864</th>\n",
       "      <td>cell2443.png</td>\n",
       "      <td>4</td>\n",
       "    </tr>\n",
       "    <tr>\n",
       "      <th>2865</th>\n",
       "      <td>cell2444.png</td>\n",
       "      <td>4</td>\n",
       "    </tr>\n",
       "  </tbody>\n",
       "</table>\n",
       "<p>2866 rows × 2 columns</p>\n",
       "</div>"
      ],
      "text/plain": [
       "                           filename category\n",
       "0      A1-DH3000-3000h-PT-cell1.jpg        0\n",
       "1     A1-DH3000-3000h-PT-cell10.jpg        0\n",
       "2     A1-DH3000-3000h-PT-cell11.jpg        0\n",
       "3     A1-DH3000-3000h-PT-cell12.jpg        0\n",
       "4     A1-DH3000-3000h-PT-cell13.jpg        0\n",
       "...                             ...      ...\n",
       "2861                   cell2436.png        4\n",
       "2862                   cell2441.png        4\n",
       "2863                   cell2442.png        4\n",
       "2864                   cell2443.png        4\n",
       "2865                   cell2444.png        4\n",
       "\n",
       "[2866 rows x 2 columns]"
      ]
     },
     "execution_count": 4,
     "metadata": {},
     "output_type": "execute_result"
    }
   ],
   "source": [
    "filenames = os.listdir(\"train_test/c0\")\n",
    "print(filenames)\n",
    "categories_train = []\n",
    "filenamefin_train = []\n",
    "for filename in filenames:\n",
    "      categories_train.append(\"0\")\n",
    "      filenamefin_train.append(filename)\n",
    "filenames = os.listdir(\"train_test/c1\")\n",
    "\n",
    "\n",
    "for filename in filenames:\n",
    "    categories_train.append(\"1\")\n",
    "    filenamefin_train.append(filename)\n",
    "\n",
    "filenames = os.listdir(\"train_test/c2\")\n",
    "for filename in filenames:\n",
    "    categories_train.append(\"2\")\n",
    "    filenamefin_train.append(filename)\n",
    "\n",
    "    \n",
    "filenames = os.listdir(\"train_test/c3\")\n",
    "for filename in filenames:\n",
    "    categories_train.append(\"3\")\n",
    "    filenamefin_train.append(filename)\n",
    "\n",
    "filenames = os.listdir(\"train_test/c4\")\n",
    "for filename in filenames:\n",
    "    categories_train.append(\"4\")\n",
    "    filenamefin_train.append(filename)\n",
    "  \n",
    "df = pd.DataFrame({\n",
    "    'filename': filenamefin_train,\n",
    "    'category': categories_train\n",
    "})\n",
    "df"
   ]
  },
  {
   "cell_type": "code",
   "execution_count": 13,
   "id": "57ee1058",
   "metadata": {},
   "outputs": [],
   "source": [
    "X = df['filename']\n",
    "y = df['category']\n",
    "X_train, X_test, y_train, y_test = train_test_split(X, y, test_size=0.20, random_state=1, stratify=y)"
   ]
  },
  {
   "cell_type": "code",
   "execution_count": 17,
   "id": "23286b76",
   "metadata": {},
   "outputs": [],
   "source": [
    "train_df = pd.DataFrame({'filename': X_train,'category': y_train})\n",
    "test_df = pd.DataFrame({'filename': X_test, 'category': y_test})"
   ]
  },
  {
   "cell_type": "code",
   "execution_count": 18,
   "id": "3e3d2ef5",
   "metadata": {},
   "outputs": [
    {
     "data": {
      "text/html": [
       "<div>\n",
       "<style scoped>\n",
       "    .dataframe tbody tr th:only-of-type {\n",
       "        vertical-align: middle;\n",
       "    }\n",
       "\n",
       "    .dataframe tbody tr th {\n",
       "        vertical-align: top;\n",
       "    }\n",
       "\n",
       "    .dataframe thead th {\n",
       "        text-align: right;\n",
       "    }\n",
       "</style>\n",
       "<table border=\"1\" class=\"dataframe\">\n",
       "  <thead>\n",
       "    <tr style=\"text-align: right;\">\n",
       "      <th></th>\n",
       "      <th>filename</th>\n",
       "      <th>category</th>\n",
       "    </tr>\n",
       "  </thead>\n",
       "  <tbody>\n",
       "    <tr>\n",
       "      <th>580</th>\n",
       "      <td>A1-DH3000-2000h-PT-cell1.jpg</td>\n",
       "      <td>2</td>\n",
       "    </tr>\n",
       "    <tr>\n",
       "      <th>789</th>\n",
       "      <td>A10-DH3000-1500h-PT-cell39.jpg</td>\n",
       "      <td>2</td>\n",
       "    </tr>\n",
       "    <tr>\n",
       "      <th>2091</th>\n",
       "      <td>cell0001 - Copy.png</td>\n",
       "      <td>3</td>\n",
       "    </tr>\n",
       "    <tr>\n",
       "      <th>907</th>\n",
       "      <td>A10-DH3000-500h-PT-cell40.jpg</td>\n",
       "      <td>2</td>\n",
       "    </tr>\n",
       "    <tr>\n",
       "      <th>2153</th>\n",
       "      <td>cell0393.png</td>\n",
       "      <td>3</td>\n",
       "    </tr>\n",
       "  </tbody>\n",
       "</table>\n",
       "</div>"
      ],
      "text/plain": [
       "                            filename category\n",
       "580     A1-DH3000-2000h-PT-cell1.jpg        2\n",
       "789   A10-DH3000-1500h-PT-cell39.jpg        2\n",
       "2091             cell0001 - Copy.png        3\n",
       "907    A10-DH3000-500h-PT-cell40.jpg        2\n",
       "2153                    cell0393.png        3"
      ]
     },
     "execution_count": 18,
     "metadata": {},
     "output_type": "execute_result"
    }
   ],
   "source": [
    "train_df.head()"
   ]
  },
  {
   "cell_type": "code",
   "execution_count": 14,
   "id": "d75081ac",
   "metadata": {},
   "outputs": [
    {
     "name": "stdout",
     "output_type": "stream",
     "text": [
      "['4']\n"
     ]
    },
    {
     "data": {
      "text/plain": [
       "<matplotlib.image.AxesImage at 0x2746e636100>"
      ]
     },
     "execution_count": 14,
     "metadata": {},
     "output_type": "execute_result"
    },
    {
     "data": {
      "image/png": "[encoded data removed]",
      "text/plain": [
       "<Figure size 432x288 with 1 Axes>"
      ]
     },
     "metadata": {
      "needs_background": "light"
     },
     "output_type": "display_data"
    }
   ],
   "source": [
    "sample = random.choice(X)\n",
    "orders = df.loc[df.filename == sample, 'category'].unique()\n",
    "print(orders)\n",
    "if orders == '0':\n",
    "  image = load_img(\"train/c0/\" + sample)\n",
    "elif orders == '1':\n",
    "  image = load_img(\"train/c1/\" + sample)\n",
    "elif orders == '2':\n",
    "  image = load_img(\"train/c2/\" + sample)\n",
    "elif orders == '3':\n",
    "  image = load_img(\"train/c3/\" + sample)\n",
    "elif orders == '4':\n",
    "  image = load_img(\"train/c4/\" + sample)\n",
    "plt.imshow(image)"
   ]
  },
  {
   "cell_type": "code",
   "execution_count": 19,
   "id": "11ab2761",
   "metadata": {},
   "outputs": [],
   "source": [
    "total_train = train_df.shape[0]\n",
    "batch_size=16\n",
    "IMAGE_SIZE=(200,200)"
   ]
  },
  {
   "cell_type": "code",
   "execution_count": 21,
   "id": "1d771d10",
   "metadata": {},
   "outputs": [
    {
     "name": "stdout",
     "output_type": "stream",
     "text": [
      "Found 2292 validated image filenames belonging to 5 classes.\n"
     ]
    }
   ],
   "source": [
    "train_datagen = ImageDataGenerator(\n",
    "    rotation_range=15,\n",
    "    rescale=1./255,\n",
    "    shear_range=0.1,\n",
    "    zoom_range=0.2,\n",
    "    horizontal_flip=True,\n",
    "    vertical_flip = True,\n",
    "    width_shift_range=0.1,\n",
    "    height_shift_range=0.1\n",
    ")\n",
    "train_generator = train_datagen.flow_from_dataframe(\n",
    "    train_df, \n",
    "    \"train_test_set\", \n",
    "    x_col='filename',\n",
    "    y_col='category',\n",
    "    target_size=IMAGE_SIZE,\n",
    "    class_mode='categorical',\n",
    "    batch_size=batch_size\n",
    ")"
   ]
  },
  {
   "cell_type": "code",
   "execution_count": 22,
   "id": "7d93de91",
   "metadata": {},
   "outputs": [
    {
     "name": "stdout",
     "output_type": "stream",
     "text": [
      "Found 574 validated image filenames belonging to 5 classes.\n"
     ]
    }
   ],
   "source": [
    "test_gen = ImageDataGenerator(rescale=1./255)\n",
    "test_generator = test_gen.flow_from_dataframe(\n",
    "    test_df, \n",
    "    \"train_test_set\", \n",
    "    x_col='filename',\n",
    "    y_col='category',\n",
    "    class_mode='categorical',\n",
    "    target_size=IMAGE_SIZE,\n",
    "    batch_size=batch_size,\n",
    "    shuffle = False\n",
    ")"
   ]
  },
  {
   "cell_type": "code",
   "execution_count": 23,
   "id": "77427654",
   "metadata": {},
   "outputs": [
    {
     "name": "stdout",
     "output_type": "stream",
     "text": [
      "Model: \"vgg19\"\n",
      "_________________________________________________________________\n",
      "Layer (type)                 Output Shape              Param #   \n",
      "=================================================================\n",
      "input_1 (InputLayer)         [(None, 200, 200, 3)]     0         \n",
      "_________________________________________________________________\n",
      "block1_conv1 (Conv2D)        (None, 200, 200, 64)      1792      \n",
      "_________________________________________________________________\n",
      "block1_conv2 (Conv2D)        (None, 200, 200, 64)      36928     \n",
      "_________________________________________________________________\n",
      "block1_pool (MaxPooling2D)   (None, 100, 100, 64)      0         \n",
      "_________________________________________________________________\n",
      "block2_conv1 (Conv2D)        (None, 100, 100, 128)     73856     \n",
      "_________________________________________________________________\n",
      "block2_conv2 (Conv2D)        (None, 100, 100, 128)     147584    \n",
      "_________________________________________________________________\n",
      "block2_pool (MaxPooling2D)   (None, 50, 50, 128)       0         \n",
      "_________________________________________________________________\n",
      "block3_conv1 (Conv2D)        (None, 50, 50, 256)       295168    \n",
      "_________________________________________________________________\n",
      "block3_conv2 (Conv2D)        (None, 50, 50, 256)       590080    \n",
      "_________________________________________________________________\n",
      "block3_conv3 (Conv2D)        (None, 50, 50, 256)       590080    \n",
      "_________________________________________________________________\n",
      "block3_conv4 (Conv2D)        (None, 50, 50, 256)       590080    \n",
      "_________________________________________________________________\n",
      "block3_pool (MaxPooling2D)   (None, 25, 25, 256)       0         \n",
      "_________________________________________________________________\n",
      "block4_conv1 (Conv2D)        (None, 25, 25, 512)       1180160   \n",
      "_________________________________________________________________\n",
      "block4_conv2 (Conv2D)        (None, 25, 25, 512)       2359808   \n",
      "_________________________________________________________________\n",
      "block4_conv3 (Conv2D)        (None, 25, 25, 512)       2359808   \n",
      "_________________________________________________________________\n",
      "block4_conv4 (Conv2D)        (None, 25, 25, 512)       2359808   \n",
      "_________________________________________________________________\n",
      "block4_pool (MaxPooling2D)   (None, 12, 12, 512)       0         \n",
      "_________________________________________________________________\n",
      "block5_conv1 (Conv2D)        (None, 12, 12, 512)       2359808   \n",
      "_________________________________________________________________\n",
      "block5_conv2 (Conv2D)        (None, 12, 12, 512)       2359808   \n",
      "_________________________________________________________________\n",
      "block5_conv3 (Conv2D)        (None, 12, 12, 512)       2359808   \n",
      "_________________________________________________________________\n",
      "block5_conv4 (Conv2D)        (None, 12, 12, 512)       2359808   \n",
      "_________________________________________________________________\n",
      "block5_pool (MaxPooling2D)   (None, 6, 6, 512)         0         \n",
      "=================================================================\n",
      "Total params: 20,024,384\n",
      "Trainable params: 20,024,384\n",
      "Non-trainable params: 0\n",
      "_________________________________________________________________\n",
      "None\n"
     ]
    }
   ],
   "source": [
    "model_vgg19= tf.keras.applications.VGG19(weights=\"imagenet\", include_top=False, input_shape = (200,200,3))\n",
    "print(model_vgg19.summary())"
   ]
  },
  {
   "cell_type": "code",
   "execution_count": 24,
   "id": "c430977f",
   "metadata": {},
   "outputs": [
    {
     "name": "stdout",
     "output_type": "stream",
     "text": [
      "<keras.engine.input_layer.InputLayer object at 0x0000027405BA4190> False\n",
      "<keras.layers.convolutional.Conv2D object at 0x0000027405BEDFA0> True\n",
      "<keras.layers.convolutional.Conv2D object at 0x0000027405C275E0> False\n",
      "<keras.layers.pooling.MaxPooling2D object at 0x0000027405D0D7F0> True\n",
      "<keras.layers.convolutional.Conv2D object at 0x0000027405D0D190> False\n",
      "<keras.layers.convolutional.Conv2D object at 0x0000027405C278E0> True\n",
      "<keras.layers.pooling.MaxPooling2D object at 0x0000027405D1FEB0> False\n",
      "<keras.layers.convolutional.Conv2D object at 0x0000027405D1ECD0> True\n",
      "<keras.layers.convolutional.Conv2D object at 0x0000027405D235B0> False\n",
      "<keras.layers.convolutional.Conv2D object at 0x0000027405D30B80> True\n",
      "<keras.layers.convolutional.Conv2D object at 0x0000027405D33EE0> False\n",
      "<keras.layers.pooling.MaxPooling2D object at 0x0000027405D336D0> True\n",
      "<keras.layers.convolutional.Conv2D object at 0x0000027405D3CF10> False\n",
      "<keras.layers.convolutional.Conv2D object at 0x0000027405D4D8E0> True\n",
      "<keras.layers.convolutional.Conv2D object at 0x0000027405D28100> False\n",
      "<keras.layers.convolutional.Conv2D object at 0x0000027405D4DEE0> True\n",
      "<keras.layers.pooling.MaxPooling2D object at 0x00000274096729D0> False\n",
      "<keras.layers.convolutional.Conv2D object at 0x0000027405D5DCD0> True\n",
      "<keras.layers.convolutional.Conv2D object at 0x000002740967DC10> False\n",
      "<keras.layers.convolutional.Conv2D object at 0x00000274096781F0> True\n",
      "<keras.layers.convolutional.Conv2D object at 0x0000027409685820> False\n",
      "<keras.layers.pooling.MaxPooling2D object at 0x000002740967DC40> True\n"
     ]
    }
   ],
   "source": [
    "i = 0\n",
    "for layer in model_vgg19.layers[:]:\n",
    "    if(i%2 == 0):\n",
    "        layer.trainable = False\n",
    "    i = i+1\n",
    "for layer in model_vgg19.layers:\n",
    "    print(layer, layer.trainable)"
   ]
  },
  {
   "cell_type": "code",
   "execution_count": 25,
   "id": "6d992cb7",
   "metadata": {},
   "outputs": [
    {
     "name": "stdout",
     "output_type": "stream",
     "text": [
      "Model: \"sequential\"\n",
      "_________________________________________________________________\n",
      "Layer (type)                 Output Shape              Param #   \n",
      "=================================================================\n",
      "vgg19 (Functional)           (None, 6, 6, 512)         20024384  \n",
      "_________________________________________________________________\n",
      "flatten (Flatten)            (None, 18432)             0         \n",
      "_________________________________________________________________\n",
      "dense (Dense)                (None, 64)                1179712   \n",
      "_________________________________________________________________\n",
      "dropout (Dropout)            (None, 64)                0         \n",
      "_________________________________________________________________\n",
      "dense_1 (Dense)              (None, 5)                 325       \n",
      "=================================================================\n",
      "Total params: 21,204,421\n",
      "Trainable params: 11,653,893\n",
      "Non-trainable params: 9,550,528\n",
      "_________________________________________________________________\n"
     ]
    }
   ],
   "source": [
    "# Create the model\n",
    "from tensorflow.keras.layers import Flatten\n",
    "from tensorflow.keras.layers import Dense\n",
    "new_model = Sequential()\n",
    "# Add the vgg convolutional base model\n",
    "\n",
    "new_model.add(model_vgg19)\n",
    "\n",
    "new_model.add(Flatten())\n",
    "new_model.add(Dense(64, activation='relu'))\n",
    "new_model.add(tensorflow.keras.layers.Dropout(0.5))\n",
    "new_model.add(Dense(5, activation='softmax'))\n",
    "# Show a summary of the new_model. Check the number of trainable parameters\n",
    "\n",
    "new_model.summary()"
   ]
  },
  {
   "cell_type": "code",
   "execution_count": 26,
   "id": "b24a46a6",
   "metadata": {},
   "outputs": [
    {
     "name": "stdout",
     "output_type": "stream",
     "text": [
      "Model: \"sequential\"\n",
      "_________________________________________________________________\n",
      "Layer (type)                 Output Shape              Param #   \n",
      "=================================================================\n",
      "vgg19 (Functional)           (None, 6, 6, 512)         20024384  \n",
      "_________________________________________________________________\n",
      "flatten (Flatten)            (None, 18432)             0         \n",
      "_________________________________________________________________\n",
      "dense (Dense)                (None, 64)                1179712   \n",
      "_________________________________________________________________\n",
      "dropout (Dropout)            (None, 64)                0         \n",
      "_________________________________________________________________\n",
      "dense_1 (Dense)              (None, 5)                 325       \n",
      "=================================================================\n",
      "Total params: 21,204,421\n",
      "Trainable params: 11,653,893\n",
      "Non-trainable params: 9,550,528\n",
      "_________________________________________________________________\n"
     ]
    }
   ],
   "source": [
    "new_model.compile(loss='categorical_crossentropy', optimizer=tf.optimizers.SGD(learning_rate=0.0001), metrics=['accuracy'])\n",
    "new_model.summary()"
   ]
  },
  {
   "cell_type": "code",
   "execution_count": 27,
   "id": "3052555a",
   "metadata": {},
   "outputs": [
    {
     "name": "stdout",
     "output_type": "stream",
     "text": [
      "Epoch 1/50\n",
      "144/144 [==============================] - 60s 195ms/step - loss: 1.3607 - accuracy: 0.5100\n",
      "Epoch 2/50\n",
      "144/144 [==============================] - 26s 183ms/step - loss: 1.2448 - accuracy: 0.5759s - loss: 1.2412 - accura\n",
      "Epoch 3/50\n",
      "144/144 [==============================] - 26s 179ms/step - loss: 1.1781 - accuracy: 0.5855\n",
      "Epoch 4/50\n",
      "144/144 [==============================] - 26s 179ms/step - loss: 1.0944 - accuracy: 0.6204s - loss:\n",
      "Epoch 5/50\n",
      "144/144 [==============================] - 26s 179ms/step - loss: 0.9958 - accuracy: 0.6937\n",
      "Epoch 6/50\n",
      "144/144 [==============================] - 26s 181ms/step - loss: 0.8917 - accuracy: 0.7369 20s - loss: 0. - ETA: 16s - loss: 0.9472 - accura - E - ETA: 8s - loss: 0.9288 - accura - ETA: 7s - loss: 0.9151 - accuracy:  - ETA: \n",
      "Epoch 7/50\n",
      "144/144 [==============================] - 26s 182ms/step - loss: 0.8194 - accuracy: 0.7635\n",
      "Epoch 8/50\n",
      "144/144 [==============================] - 26s 181ms/step - loss: 0.7377 - accuracy: 0.7771ETA: 3s - loss: 0.7 - ETA: 1s - loss: 0\n",
      "Epoch 9/50\n",
      "144/144 [==============================] - 26s 180ms/step - loss: 0.6642 - accuracy: 0.7976 25s - loss: 0.7436 - accuracy: 0.7 - ETA: 25s - loss: 0.8401 - ac\n",
      "Epoch 10/50\n",
      "144/144 [==============================] - 26s 180ms/step - loss: 0.5983 - accuracy: 0.8085 23s - loss: 0.5732 - accuracy: - ETA: 21s - loss: 0.5710 - accuracy: 0.8 - ETA: 21s - loss: 0.5716 - accuracy:  - ETA: 20s - loss: - ETA: 8s - loss: 0.5746 - accuracy - ETA: 7s - loss: 0.5762 - accuracy: 0. - ETA: 7s - - ETA: 4s - loss: 0 - ETA: 2s - loss: 0.6004 - accura - ETA: 1s - loss: 0.594\n",
      "Epoch 11/50\n",
      "144/144 [==============================] - 26s 182ms/step - loss: 0.5794 - accuracy: 0.8120 25s - ETA: 19s - loss: 0.6198 - accuracy: - ETA: 17s - loss: 0.\n",
      "Epoch 12/50\n",
      "144/144 [==============================] - 26s 180ms/step - loss: 0.5378 - accuracy: 0.8216 24s  - ETA: 18s - l - E\n",
      "Epoch 13/50\n",
      "144/144 [==============================] - 26s 181ms/step - loss: 0.5004 - accuracy: 0.8342A: 1s - loss: 0.502\n",
      "Epoch 14/50\n",
      "144/144 [==============================] - 26s 181ms/step - loss: 0.4774 - accuracy: 0.8377ETA: 7s - loss: 0.4893 - accuracy - ETA: 6s - loss: 0.4885 -  - ETA: 4s - loss: 0.4783 - accuracy: 0.83 - ETA: 4s - loss: 0.4766  - ETA: 3s - los - ETA: 0s - loss: 0.4778 - accuracy\n",
      "Epoch 15/50\n",
      "144/144 [==============================] - 26s 180ms/step - loss: 0.4493 - accuracy: 0.8578 22s - - ETA: 16s - loss: 0.4439 - acc\n",
      "Epoch 16/50\n",
      "144/144 [==============================] - 26s 180ms/step - loss: 0.4432 - accuracy: 0.8726 19s - loss: 0.4923 - accuracy: 0 - ETA: 18s - loss: - ETA: 13s - loss: 0.47 - ETA: 9s - loss - ETA: 3s - los - ETA: 0s - loss: 0.4450 - accu\n",
      "Epoch 17/50\n",
      "144/144 [==============================] - 26s 181ms/step - loss: 0.4212 - accuracy: 0.8639 24s -  - ETA - ETA: 7s - loss: 0.441 - ETA: 5s - l - ETA: 2s - loss: 0.4290 - accura - ETA: 1s - loss: 0.426\n",
      "Epoch 18/50\n",
      "144/144 [==============================] - 26s 180ms/step - loss: 0.4192 - accuracy: 0.8669s - loss: 0.4145 - accu - ETA: 4s - loss: 0.417 - ETA: 2s - loss: 0.4197 - accuracy: 0.86 - ETA: 2s - l - ETA: 0s - loss: 0.4192 - accuracy: 0.86\n",
      "Epoch 19/50\n",
      "144/144 [==============================] - 26s 180ms/step - loss: 0.3953 - accuracy: 0.8739 22s - loss: 0.4680 -  - ETA: 19s \n",
      "Epoch 20/50\n",
      "144/144 [==============================] - 26s 180ms/step - loss: 0.3675 - accuracy: 0.8783 23s - loss: 0.3668 - accurac - ETA: 21s - loss: 0.3572 - acc - ETA: 19s - los\n",
      "Epoch 21/50\n",
      "144/144 [==============================] - 26s 180ms/step - loss: 0.3446 - accuracy: 0.8962 22s - loss: 0.3081 - accuracy: 0.909 - ETA: 22s - loss: 0.3021 - accur - ETA: 20s - ETA: 7s - loss: 0.3359 - accuracy: 0.89\n",
      "Epoch 22/50\n",
      "144/144 [==============================] - 26s 180ms/step - loss: 0.3478 - accuracy: 0.8818A: 0s - loss: 0.3501 - accura - ETA: 0s - loss: 0.3478 - accuracy: 0.88\n",
      "Epoch 23/50\n",
      "144/144 [==============================] - 26s 180ms/step - loss: 0.3319 - accuracy: 0.8953 21s - loss: 0.3475 - ac - ETA: 19s - loss: 0.3868 - accuracy: 0.87 - ETA: 19s - loss: 0.3806 - accuracy: 0 - ETA: 18s - loss: 0.3768 - ac - ETA: 15s - loss: 0.3608 - accuracy:  - ETA: 14s - loss: 0.3545 - accuracy: 0.887 - ETA: 14s - loss: 0.3520 - accuracy: 0.8 - ETA: 13s - loss: 0.3577 - accuracy: 0.884 - ETA: 13s  - ETA:  - ETA: 1s - loss: 0.3399 - accura - ETA: 0s - loss: 0.3362 - accuracy: 0. - ETA: 0s - loss: 0.3354 - accuracy: \n",
      "Epoch 24/50\n",
      "144/144 [==============================] - 26s 180ms/step - loss: 0.3493 - accuracy: 0.8853 22s - loss: 0.2988 - accurac - ETA: 20s - loss: 0.3335 - ETA: 17s - loss: 0.341\n",
      "Epoch 25/50\n",
      "144/144 [==============================] - 26s 180ms/step - loss: 0.3270 - accuracy: 0.8970 24s - loss: 0.2716 - a - ETA: 21s - loss - ETA: 16s - loss: 0 - ETA: 12s - loss: 0.3126 -  - ETA: 9s - loss: 0.3295 - accura - ETA: 8s - loss: 0.3204 - accuracy:  - ETA: 8s - loss: 0.3166 - accu - ETA: 7s - loss: 0.3222 -  - ETA: 5s - loss: 0.3278 - accuracy - ETA: 5s - loss: 0.3281  - ETA: 3s - ETA: 0s - loss: 0.3295 - accuracy: \n",
      "Epoch 26/50\n",
      "144/144 [==============================] - 26s 180ms/step - loss: 0.3229 - accuracy: 0.9001 18s - loss: 0.3255 - accuracy: 0.9 - ETA: 17s - loss: 0.32\n",
      "Epoch 27/50\n",
      "144/144 [==============================] - 26s 180ms/step - loss: 0.3071 - accuracy: 0.8997 20s - loss: 0.3509 - accura - ETA: 18s - loss: 0.3363 - accurac - ETA: 17s - loss: 0.3242 - accuracy: 0.8 - ETA: 16s - loss: 0.3191 - ac - ETA: 14s - loss: 0.3138 - - ETA: 10s - loss: 0.3169 - a - ETA: 5s - l - ETA: 2s - los\n",
      "Epoch 28/50\n",
      "144/144 [==============================] - 26s 180ms/step - loss: 0.3073 - accuracy: 0.8918 22s - loss: 0.3277 - accuracy:  - ETA: 21s - loss: 0.3208 - a - ETA: 19s - loss: 0.3093 - accu - ETA: 16s - loss: 0.3193 - accuracy: - ETA: 15s - loss: 0.3065 - - ETA: 12s - loss: 0.2995 - accuracy: 0. - ETA: 11s - loss: 0.2902 - accuracy: - ETA: 10s - loss: 0.2995 - accuracy: 0.8 - ETA: 10s - loss: \n",
      "Epoch 29/50\n",
      "144/144 [==============================] - 26s 180ms/step - loss: 0.3077 - accuracy: 0.9023 21s - loss: 0.2952 - accuracy:  - ETA: 20s - loss: 0.2876 -  - ETA: 17s - loss: 0.2895 - accuracy: 0.901 - ETA: 17s - loss: 0.2889 - accuracy: 0.903 - ETA: 16s - loss - ETA: 2s\n",
      "Epoch 30/50\n",
      "144/144 [==============================] - 26s 180ms/step - loss: 0.2855 - accuracy: 0.9088 25s - loss: 0.2558 - accuracy: - ETA: 24s - loss: 0.3097 - accuracy: 0 - ETA: 23s - loss: 0.2867 - accuracy: 0.9 - ETA: 22s - loss: 0.2818 - accuracy: 0. - ETA: 21s - loss: 0.3 - ETA: 17s - l - ETA: 12s - loss: 0.275 - ETA: 9s - loss: 0.2789 - ac - ETA: 8s - loss: 0.281 - ETA: 6s - los\n",
      "Epoch 31/50\n",
      "144/144 [==============================] - 26s 180ms/step - loss: 0.2807 - accuracy: 0.9088 22s - loss - ETA: 18s - loss: 0.2916 - accuracy - ETA: 16s - loss: 0.2920 - accur - ETA: 14s - loss: 0.2838 - accura - ETA: 12 - ETA: 4s - loss: 0.2869 - accuracy: 0. - ETA: 3s - loss: 0.2 - ETA: 1s - loss: 0.2814 - accu - ETA: 0s - loss: 0.2850 - accura\n",
      "Epoch 32/50\n",
      "144/144 [==============================] - 26s 180ms/step - loss: 0.2660 - accuracy: 0.9101 22s - loss: 0.3141 - - ETA: 19s - loss - ETA: 14s - loss: 0.2319 - accu - ETA: 12s - loss: 0.2633 - accurac - ETA - ETA: 7s - loss: 0.2643 -  - ETA: 5s - ETA: 2s - loss: 0.2654 - accuracy: 0.90 - ETA: 2s - los\n",
      "Epoch 33/50\n",
      "144/144 [==============================] - 26s 180ms/step - loss: 0.2874 - accuracy: 0.9075 24s - loss - ETA: 6s - loss: 0.2846 - ac - ETA: 5s - loss: 0.2908 -  - ETA: 3s - loss: 0.2885  - ETA: 2s - loss: 0.2857 - accuracy: 0.90 - ETA: 2s - loss:\n",
      "Epoch 34/50\n",
      "144/144 [==============================] - 26s 180ms/step - loss: 0.2626 - accuracy: 0.9123 18s - loss: 0.2913  - ETA: 0s - loss: 0.2637 - accuracy\n",
      "Epoch 35/50\n",
      "144/144 [==============================] - 26s 180ms/step - loss: 0.2623 - accuracy: 0.9158 21s - loss: 0.2482 - accurac - ETA: 20s - loss:  - ETA: 0s - loss: 0.2633 - accura\n",
      "Epoch 36/50\n",
      "144/144 [==============================] - 26s 180ms/step - loss: 0.2584 - accuracy: 0.9180\n",
      "Epoch 37/50\n",
      "144/144 [==============================] - 26s 182ms/step - loss: 0.2665 - accuracy: 0.9184\n",
      "Epoch 38/50\n"
     ]
    },
    {
     "name": "stdout",
     "output_type": "stream",
     "text": [
      "144/144 [==============================] - 26s 181ms/step - loss: 0.2632 - accuracy: 0.9158\n",
      "Epoch 39/50\n",
      "144/144 [==============================] - 27s 184ms/step - loss: 0.2623 - accuracy: 0.9066 25s - loss: 0.3443 - accura - ETA: 23s  - ETA: 5s - loss: 0.266 - ETA: 3s - loss: 0.2701 - accuracy:  - ETA: \n",
      "Epoch 40/50\n",
      "144/144 [==============================] - 26s 183ms/step - loss: 0.2485 - accuracy: 0.9184 19s - - ETA: 13s - loss: 0.2463 - a - ETA: 10s - loss: 0.2498 - accuracy: 0.91 - ETA: 10s - loss: 0.2493 - accur - ETA: 5s - loss: 0.2 - ETA: \n",
      "Epoch 41/50\n",
      "144/144 [==============================] - 26s 181ms/step - loss: 0.2420 - accuracy: 0.9223\n",
      "Epoch 42/50\n",
      "144/144 [==============================] - 26s 181ms/step - loss: 0.2508 - accuracy: 0.9154s - loss: 0.2461 - accura - ETA: 0s - loss: 0.2459 - accuracy: \n",
      "Epoch 43/50\n",
      "144/144 [==============================] - 26s 181ms/step - loss: 0.2465 - accuracy: 0.9228\n",
      "Epoch 44/50\n",
      "144/144 [==============================] - 26s 181ms/step - loss: 0.2490 - accuracy: 0.9197\n",
      "Epoch 45/50\n",
      "144/144 [==============================] - 26s 180ms/step - loss: 0.2249 - accuracy: 0.9258\n",
      "Epoch 46/50\n",
      "144/144 [==============================] - 26s 181ms/step - loss: 0.2180 - accuracy: 0.9293s - loss: 0.2182 - accura\n",
      "Epoch 47/50\n",
      "144/144 [==============================] - 26s 180ms/step - loss: 0.2259 - accuracy: 0.9202 23s - loss: 0.2079 - accur - ETA: 21s - loss: 0. - ETA: 17s - loss: 0.2169 - ETA: 13s - loss: 0.2140 - accuracy - ETA: 12s - loss: 0.2182 - acc - ETA: 9s - loss: 0.2258 - accuracy: - ETA: 9s - loss: 0.2262 - accuracy - ETA: 8s - los - ETA: 5s - loss: 0\n",
      "Epoch 48/50\n",
      "144/144 [==============================] - 26s 182ms/step - loss: 0.2326 - accuracy: 0.9298 25s - lo - ETA: 11s - loss: 0.2618 - ETA: 9s - - ETA: 6s - loss: 0.2353 - accu - ETA: 5s - loss: 0.2363 - accuracy:  - ETA: 4s - loss: 0.2 - ETA: 2s - loss: 0.2315 - ac - ETA: 1s - loss: 0.2293 - \n",
      "Epoch 49/50\n",
      "144/144 [==============================] - 26s 180ms/step - loss: 0.2348 - accuracy: 0.9263 15s - loss: 0.2193 - accuracy: 0.9 - ETA: 14s - loss: 0.2125 - accuracy: 0 - ETA: 13s - loss: 0.2189 - accuracy: 0.9 - E\n",
      "Epoch 50/50\n",
      "144/144 [==============================] - 26s 180ms/step - loss: 0.2402 - accuracy: 0.9184 22s - loss: 0.2562 - accuracy: 0.9 - ETA: 21s - loss: 0.2501 - accura - ETA: 20s - loss: 0.2378 - accuracy: 0 - ETA: 19s - l \n"
     ]
    }
   ],
   "source": [
    "history = new_model.fit(train_generator, epochs=50)"
   ]
  },
  {
   "cell_type": "code",
   "execution_count": 29,
   "id": "11187210",
   "metadata": {},
   "outputs": [
    {
     "name": "stdout",
     "output_type": "stream",
     "text": [
      "50\n"
     ]
    },
    {
     "data": {
      "image/png": "[encoded data removed]",
      "text/plain": [
       "<Figure size 432x288 with 1 Axes>"
      ]
     },
     "metadata": {
      "needs_background": "light"
     },
     "output_type": "display_data"
    }
   ],
   "source": [
    "loss_train = history.history['loss']\n",
    "loss_val = history.history['accuracy']\n",
    "epochs = range(1,51)\n",
    "print(len(epochs))\n",
    "plt.plot(epochs, loss_train, 'g', label='Training loss')\n",
    "plt.plot(epochs, loss_val, 'b', label='Accuracy')\n",
    "plt.title('Training and Validation loss')\n",
    "plt.xlabel('Epochs')\n",
    "plt.ylabel('Loss')\n",
    "plt.legend()\n",
    "plt.show()"
   ]
  },
  {
   "cell_type": "code",
   "execution_count": 30,
   "id": "38033266",
   "metadata": {},
   "outputs": [
    {
     "name": "stdout",
     "output_type": "stream",
     "text": [
      "36/36 [==============================] - 5s 123ms/step - loss: 0.1488 - accuracy: 0.9564\n"
     ]
    },
    {
     "data": {
      "text/plain": [
       "[0.14875340461730957, 0.9564459919929504]"
      ]
     },
     "execution_count": 30,
     "metadata": {},
     "output_type": "execute_result"
    }
   ],
   "source": [
    " new_model.evaluate(test_generator)"
   ]
  },
  {
   "cell_type": "code",
   "execution_count": 31,
   "id": "ef26428f",
   "metadata": {},
   "outputs": [],
   "source": [
    "predictions = new_model.predict(test_generator)"
   ]
  },
  {
   "cell_type": "code",
   "execution_count": 34,
   "id": "140846fd",
   "metadata": {},
   "outputs": [],
   "source": [
    "def process_images(n):\n",
    "  sample = test_df.filename[n]\n",
    "  #print(sample)\n",
    "  orders = test_df.category[n]\n",
    "  #print(orders)\n",
    "  image = load_img(\"train_test_set/\" + sample)\n",
    "  #plt.imshow(image)\n",
    "  #print(predictions[n])\n",
    "  return ord(orders), predictions[n].argmax(), image"
   ]
  },
  {
   "cell_type": "code",
   "execution_count": 39,
   "id": "3be15812",
   "metadata": {},
   "outputs": [
    {
     "ename": "KeyError",
     "evalue": "2",
     "output_type": "error",
     "traceback": [
      "\u001b[1;31m---------------------------------------------------------------------------\u001b[0m",
      "\u001b[1;31mKeyError\u001b[0m                                  Traceback (most recent call last)",
      "\u001b[1;32mD:\\ProgramData\\Anaconda3\\envs\\tf_gpu2\\lib\\site-packages\\pandas\\core\\indexes\\base.py\u001b[0m in \u001b[0;36mget_loc\u001b[1;34m(self, key, method, tolerance)\u001b[0m\n\u001b[0;32m   3360\u001b[0m             \u001b[1;32mtry\u001b[0m\u001b[1;33m:\u001b[0m\u001b[1;33m\u001b[0m\u001b[1;33m\u001b[0m\u001b[0m\n\u001b[1;32m-> 3361\u001b[1;33m                 \u001b[1;32mreturn\u001b[0m \u001b[0mself\u001b[0m\u001b[1;33m.\u001b[0m\u001b[0m_engine\u001b[0m\u001b[1;33m.\u001b[0m\u001b[0mget_loc\u001b[0m\u001b[1;33m(\u001b[0m\u001b[0mcasted_key\u001b[0m\u001b[1;33m)\u001b[0m\u001b[1;33m\u001b[0m\u001b[1;33m\u001b[0m\u001b[0m\n\u001b[0m\u001b[0;32m   3362\u001b[0m             \u001b[1;32mexcept\u001b[0m \u001b[0mKeyError\u001b[0m \u001b[1;32mas\u001b[0m \u001b[0merr\u001b[0m\u001b[1;33m:\u001b[0m\u001b[1;33m\u001b[0m\u001b[1;33m\u001b[0m\u001b[0m\n",
      "\u001b[1;32mD:\\ProgramData\\Anaconda3\\envs\\tf_gpu2\\lib\\site-packages\\pandas\\_libs\\index.pyx\u001b[0m in \u001b[0;36mpandas._libs.index.IndexEngine.get_loc\u001b[1;34m()\u001b[0m\n",
      "\u001b[1;32mD:\\ProgramData\\Anaconda3\\envs\\tf_gpu2\\lib\\site-packages\\pandas\\_libs\\index.pyx\u001b[0m in \u001b[0;36mpandas._libs.index.IndexEngine.get_loc\u001b[1;34m()\u001b[0m\n",
      "\u001b[1;32mpandas\\_libs\\hashtable_class_helper.pxi\u001b[0m in \u001b[0;36mpandas._libs.hashtable.Int64HashTable.get_item\u001b[1;34m()\u001b[0m\n",
      "\u001b[1;32mpandas\\_libs\\hashtable_class_helper.pxi\u001b[0m in \u001b[0;36mpandas._libs.hashtable.Int64HashTable.get_item\u001b[1;34m()\u001b[0m\n",
      "\u001b[1;31mKeyError\u001b[0m: 2",
      "\nThe above exception was the direct cause of the following exception:\n",
      "\u001b[1;31mKeyError\u001b[0m                                  Traceback (most recent call last)",
      "\u001b[1;32m~\\AppData\\Local\\Temp/ipykernel_16984/321286771.py\u001b[0m in \u001b[0;36m<module>\u001b[1;34m\u001b[0m\n\u001b[0;32m      4\u001b[0m \u001b[0mlis\u001b[0m \u001b[1;33m=\u001b[0m \u001b[1;33m[\u001b[0m\u001b[1;33m]\u001b[0m\u001b[1;33m\u001b[0m\u001b[1;33m\u001b[0m\u001b[0m\n\u001b[0;32m      5\u001b[0m \u001b[1;32mfor\u001b[0m \u001b[0mi\u001b[0m \u001b[1;32min\u001b[0m \u001b[0mrange\u001b[0m\u001b[1;33m(\u001b[0m\u001b[1;36m1\u001b[0m\u001b[1;33m,\u001b[0m \u001b[0ms\u001b[0m\u001b[1;33m[\u001b[0m\u001b[1;36m0\u001b[0m\u001b[1;33m]\u001b[0m\u001b[1;33m)\u001b[0m\u001b[1;33m:\u001b[0m\u001b[1;33m\u001b[0m\u001b[1;33m\u001b[0m\u001b[0m\n\u001b[1;32m----> 6\u001b[1;33m   \u001b[0mtr1\u001b[0m\u001b[1;33m,\u001b[0m \u001b[0mpr1\u001b[0m\u001b[1;33m,\u001b[0m \u001b[0mimg\u001b[0m \u001b[1;33m=\u001b[0m \u001b[0mprocess_images\u001b[0m\u001b[1;33m(\u001b[0m\u001b[0mi\u001b[0m\u001b[1;33m)\u001b[0m\u001b[1;33m\u001b[0m\u001b[1;33m\u001b[0m\u001b[0m\n\u001b[0m\u001b[0;32m      7\u001b[0m   \u001b[0mtr1\u001b[0m \u001b[1;33m=\u001b[0m \u001b[0mtr1\u001b[0m \u001b[1;33m-\u001b[0m \u001b[1;36m48\u001b[0m\u001b[1;33m\u001b[0m\u001b[1;33m\u001b[0m\u001b[0m\n\u001b[0;32m      8\u001b[0m   \u001b[1;32mif\u001b[0m\u001b[1;33m(\u001b[0m\u001b[0mtr1\u001b[0m \u001b[1;33m!=\u001b[0m \u001b[0mpr1\u001b[0m\u001b[1;33m)\u001b[0m\u001b[1;33m:\u001b[0m\u001b[1;33m\u001b[0m\u001b[1;33m\u001b[0m\u001b[0m\n",
      "\u001b[1;32m~\\AppData\\Local\\Temp/ipykernel_16984/1607881811.py\u001b[0m in \u001b[0;36mprocess_images\u001b[1;34m(n)\u001b[0m\n\u001b[0;32m      1\u001b[0m \u001b[1;32mdef\u001b[0m \u001b[0mprocess_images\u001b[0m\u001b[1;33m(\u001b[0m\u001b[0mn\u001b[0m\u001b[1;33m)\u001b[0m\u001b[1;33m:\u001b[0m\u001b[1;33m\u001b[0m\u001b[1;33m\u001b[0m\u001b[0m\n\u001b[1;32m----> 2\u001b[1;33m   \u001b[0msample\u001b[0m \u001b[1;33m=\u001b[0m \u001b[0mtest_df\u001b[0m\u001b[1;33m.\u001b[0m\u001b[0mfilename\u001b[0m\u001b[1;33m[\u001b[0m\u001b[0mn\u001b[0m\u001b[1;33m]\u001b[0m\u001b[1;33m\u001b[0m\u001b[1;33m\u001b[0m\u001b[0m\n\u001b[0m\u001b[0;32m      3\u001b[0m   \u001b[1;31m#print(sample)\u001b[0m\u001b[1;33m\u001b[0m\u001b[1;33m\u001b[0m\u001b[0m\n\u001b[0;32m      4\u001b[0m   \u001b[0morders\u001b[0m \u001b[1;33m=\u001b[0m \u001b[0mtest_df\u001b[0m\u001b[1;33m.\u001b[0m\u001b[0mcategory\u001b[0m\u001b[1;33m[\u001b[0m\u001b[0mn\u001b[0m\u001b[1;33m]\u001b[0m\u001b[1;33m\u001b[0m\u001b[1;33m\u001b[0m\u001b[0m\n\u001b[0;32m      5\u001b[0m   \u001b[1;31m#print(orders)\u001b[0m\u001b[1;33m\u001b[0m\u001b[1;33m\u001b[0m\u001b[0m\n",
      "\u001b[1;32mD:\\ProgramData\\Anaconda3\\envs\\tf_gpu2\\lib\\site-packages\\pandas\\core\\series.py\u001b[0m in \u001b[0;36m__getitem__\u001b[1;34m(self, key)\u001b[0m\n\u001b[0;32m    940\u001b[0m \u001b[1;33m\u001b[0m\u001b[0m\n\u001b[0;32m    941\u001b[0m         \u001b[1;32melif\u001b[0m \u001b[0mkey_is_scalar\u001b[0m\u001b[1;33m:\u001b[0m\u001b[1;33m\u001b[0m\u001b[1;33m\u001b[0m\u001b[0m\n\u001b[1;32m--> 942\u001b[1;33m             \u001b[1;32mreturn\u001b[0m \u001b[0mself\u001b[0m\u001b[1;33m.\u001b[0m\u001b[0m_get_value\u001b[0m\u001b[1;33m(\u001b[0m\u001b[0mkey\u001b[0m\u001b[1;33m)\u001b[0m\u001b[1;33m\u001b[0m\u001b[1;33m\u001b[0m\u001b[0m\n\u001b[0m\u001b[0;32m    943\u001b[0m \u001b[1;33m\u001b[0m\u001b[0m\n\u001b[0;32m    944\u001b[0m         \u001b[1;32mif\u001b[0m \u001b[0mis_hashable\u001b[0m\u001b[1;33m(\u001b[0m\u001b[0mkey\u001b[0m\u001b[1;33m)\u001b[0m\u001b[1;33m:\u001b[0m\u001b[1;33m\u001b[0m\u001b[1;33m\u001b[0m\u001b[0m\n",
      "\u001b[1;32mD:\\ProgramData\\Anaconda3\\envs\\tf_gpu2\\lib\\site-packages\\pandas\\core\\series.py\u001b[0m in \u001b[0;36m_get_value\u001b[1;34m(self, label, takeable)\u001b[0m\n\u001b[0;32m   1049\u001b[0m \u001b[1;33m\u001b[0m\u001b[0m\n\u001b[0;32m   1050\u001b[0m         \u001b[1;31m# Similar to Index.get_value, but we do not fall back to positional\u001b[0m\u001b[1;33m\u001b[0m\u001b[1;33m\u001b[0m\u001b[0m\n\u001b[1;32m-> 1051\u001b[1;33m         \u001b[0mloc\u001b[0m \u001b[1;33m=\u001b[0m \u001b[0mself\u001b[0m\u001b[1;33m.\u001b[0m\u001b[0mindex\u001b[0m\u001b[1;33m.\u001b[0m\u001b[0mget_loc\u001b[0m\u001b[1;33m(\u001b[0m\u001b[0mlabel\u001b[0m\u001b[1;33m)\u001b[0m\u001b[1;33m\u001b[0m\u001b[1;33m\u001b[0m\u001b[0m\n\u001b[0m\u001b[0;32m   1052\u001b[0m         \u001b[1;32mreturn\u001b[0m \u001b[0mself\u001b[0m\u001b[1;33m.\u001b[0m\u001b[0mindex\u001b[0m\u001b[1;33m.\u001b[0m\u001b[0m_get_values_for_loc\u001b[0m\u001b[1;33m(\u001b[0m\u001b[0mself\u001b[0m\u001b[1;33m,\u001b[0m \u001b[0mloc\u001b[0m\u001b[1;33m,\u001b[0m \u001b[0mlabel\u001b[0m\u001b[1;33m)\u001b[0m\u001b[1;33m\u001b[0m\u001b[1;33m\u001b[0m\u001b[0m\n\u001b[0;32m   1053\u001b[0m \u001b[1;33m\u001b[0m\u001b[0m\n",
      "\u001b[1;32mD:\\ProgramData\\Anaconda3\\envs\\tf_gpu2\\lib\\site-packages\\pandas\\core\\indexes\\base.py\u001b[0m in \u001b[0;36mget_loc\u001b[1;34m(self, key, method, tolerance)\u001b[0m\n\u001b[0;32m   3361\u001b[0m                 \u001b[1;32mreturn\u001b[0m \u001b[0mself\u001b[0m\u001b[1;33m.\u001b[0m\u001b[0m_engine\u001b[0m\u001b[1;33m.\u001b[0m\u001b[0mget_loc\u001b[0m\u001b[1;33m(\u001b[0m\u001b[0mcasted_key\u001b[0m\u001b[1;33m)\u001b[0m\u001b[1;33m\u001b[0m\u001b[1;33m\u001b[0m\u001b[0m\n\u001b[0;32m   3362\u001b[0m             \u001b[1;32mexcept\u001b[0m \u001b[0mKeyError\u001b[0m \u001b[1;32mas\u001b[0m \u001b[0merr\u001b[0m\u001b[1;33m:\u001b[0m\u001b[1;33m\u001b[0m\u001b[1;33m\u001b[0m\u001b[0m\n\u001b[1;32m-> 3363\u001b[1;33m                 \u001b[1;32mraise\u001b[0m \u001b[0mKeyError\u001b[0m\u001b[1;33m(\u001b[0m\u001b[0mkey\u001b[0m\u001b[1;33m)\u001b[0m \u001b[1;32mfrom\u001b[0m \u001b[0merr\u001b[0m\u001b[1;33m\u001b[0m\u001b[1;33m\u001b[0m\u001b[0m\n\u001b[0m\u001b[0;32m   3364\u001b[0m \u001b[1;33m\u001b[0m\u001b[0m\n\u001b[0;32m   3365\u001b[0m         \u001b[1;32mif\u001b[0m \u001b[0mis_scalar\u001b[0m\u001b[1;33m(\u001b[0m\u001b[0mkey\u001b[0m\u001b[1;33m)\u001b[0m \u001b[1;32mand\u001b[0m \u001b[0misna\u001b[0m\u001b[1;33m(\u001b[0m\u001b[0mkey\u001b[0m\u001b[1;33m)\u001b[0m \u001b[1;32mand\u001b[0m \u001b[1;32mnot\u001b[0m \u001b[0mself\u001b[0m\u001b[1;33m.\u001b[0m\u001b[0mhasnans\u001b[0m\u001b[1;33m:\u001b[0m\u001b[1;33m\u001b[0m\u001b[1;33m\u001b[0m\u001b[0m\n",
      "\u001b[1;31mKeyError\u001b[0m: 2"
     ]
    }
   ],
   "source": [
    "s = predictions.shape\n",
    "pr = [0, 0, 0, 0, 0]\n",
    "tr = [0, 0, 0, 0, 0]\n",
    "lis = []\n",
    "for i in range(1, s[0]):\n",
    "  tr1, pr1, img = process_images(i)\n",
    "  tr1 = tr1 - 48\n",
    "  if(tr1 != pr1):\n",
    "    lis.append(img)\n",
    "    #print(pr1, tr1)\n",
    "  pr[pr1] = pr[pr1] + 1\n",
    "  tr[tr1] = tr[tr1] + 1\n",
    "print(pr)\n",
    "print(tr)"
   ]
  },
  {
   "cell_type": "code",
   "execution_count": 24,
   "id": "f8b510e5",
   "metadata": {},
   "outputs": [
    {
     "name": "stdout",
     "output_type": "stream",
     "text": [
      "Saved model to disk\n"
     ]
    }
   ],
   "source": [
    "model_json = new_model.to_json()\n",
    "with open(\"model_vgg19.json\", \"w\") as json_file:\n",
    "    json_file.write(model_json)\n",
    "# serialize weights to HDF5\n",
    "new_model.save_weights(\"model_vgg19.h5\")\n",
    "print(\"Saved model to disk\")"
   ]
  },
  {
   "cell_type": "code",
   "execution_count": null,
   "id": "8d528114",
   "metadata": {},
   "outputs": [],
   "source": []
  },
  {
   "cell_type": "code",
   "execution_count": null,
   "id": "872b8eb3",
   "metadata": {},
   "outputs": [],
   "source": []
  },
  {
   "cell_type": "markdown",
   "id": "67d76de4",
   "metadata": {},
   "source": [
    "## Extras"
   ]
  },
  {
   "cell_type": "code",
   "execution_count": 6,
   "id": "db22e27f",
   "metadata": {},
   "outputs": [],
   "source": [
    "train_df, validate_df = train_test_split(df, test_size=0.1, random_state=42)\n",
    "train_df = train_df.reset_index(drop=True)\n",
    "validate_df = validate_df.reset_index(drop=True)"
   ]
  }
 ],
 "metadata": {
  "kernelspec": {
   "display_name": "Python 3 (ipykernel)",
   "language": "python",
   "name": "python3"
  },
  "language_info": {
   "codemirror_mode": {
    "name": "ipython",
    "version": 3
   },
   "file_extension": ".py",
   "mimetype": "text/x-python",
   "name": "python",
   "nbconvert_exporter": "python",
   "pygments_lexer": "ipython3",
   "version": "3.9.7"
  }
 },
 "nbformat": 4,
 "nbformat_minor": 5
}
