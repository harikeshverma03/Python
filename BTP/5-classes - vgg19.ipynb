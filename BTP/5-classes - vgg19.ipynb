{
 "cells": [
  {
   "cell_type": "code",
   "execution_count": 1,
   "id": "7dbbd29b",
   "metadata": {},
   "outputs": [
    {
     "name": "stdout",
     "output_type": "stream",
     "text": [
      "C:\\Users\\harik\\OneDrive\\Documents\\Projects\\BTP\\1907French-etal-SDLE-EL-ImageDataSet-forML\n"
     ]
    }
   ],
   "source": [
    "cd C:\\Users\\harik\\OneDrive\\Documents\\Projects\\BTP\\1907French-etal-SDLE-EL-ImageDataSet-forML"
   ]
  },
  {
   "cell_type": "code",
   "execution_count": 2,
   "id": "cda26894",
   "metadata": {},
   "outputs": [],
   "source": [
    "#from elpv_reader import load_dataset\n",
    "import tensorflow as tf\n",
    "import tensorflow.keras\n",
    "from tensorflow import keras\n",
    "import matplotlib.pyplot as plt\n",
    "import os\n",
    "import time\n",
    "import pandas as pd\n",
    "import random\n",
    "import numpy as np\n",
    "from tensorflow.keras.preprocessing.image import ImageDataGenerator, load_img, img_to_array\n",
    "from matplotlib import pyplot\n",
    "from sklearn.model_selection import train_test_split\n",
    "from tensorflow.compat.v1 import ConfigProto\n",
    "from tensorflow.compat.v1 import InteractiveSession\n",
    "from tensorflow import keras\n",
    "from tensorflow.keras import layers\n",
    "from tensorflow.keras.models import Sequential\n",
    "config = ConfigProto()\n",
    "config.gpu_options.allow_growth = True\n",
    "session = InteractiveSession(config=config)\n",
    "\n",
    "physical_devices = tf.config.list_physical_devices('GPU')\n",
    "tf.config.experimental.set_memory_growth(physical_devices[0], True)"
   ]
  },
  {
   "cell_type": "code",
   "execution_count": 3,
   "id": "65e0553f",
   "metadata": {},
   "outputs": [
    {
     "name": "stdout",
     "output_type": "stream",
     "text": [
      "[name: \"/device:CPU:0\"\n",
      "device_type: \"CPU\"\n",
      "memory_limit: 268435456\n",
      "locality {\n",
      "}\n",
      "incarnation: 17000103631286874605\n",
      ", name: \"/device:GPU:0\"\n",
      "device_type: \"GPU\"\n",
      "memory_limit: 4183621632\n",
      "locality {\n",
      "  bus_id: 1\n",
      "  links {\n",
      "  }\n",
      "}\n",
      "incarnation: 2950499369625551441\n",
      "physical_device_desc: \"device: 0, name: NVIDIA GeForce GTX 1660 Ti, pci bus id: 0000:01:00.0, compute capability: 7.5\"\n",
      "]\n"
     ]
    }
   ],
   "source": [
    "from tensorflow.python.client import device_lib \n",
    "print(device_lib.list_local_devices())"
   ]
  },
  {
   "cell_type": "code",
   "execution_count": 4,
   "id": "a78dd03e",
   "metadata": {},
   "outputs": [
    {
     "name": "stdout",
     "output_type": "stream",
     "text": [
      "['A1-DH3000-3000h-PT-cell1.jpg', 'A1-DH3000-3000h-PT-cell11.jpg', 'A1-DH3000-3000h-PT-cell12.jpg', 'A1-DH3000-3000h-PT-cell13.jpg', 'A1-DH3000-3000h-PT-cell15.jpg', 'A1-DH3000-3000h-PT-cell17.jpg', 'A1-DH3000-3000h-PT-cell19.jpg', 'A1-DH3000-3000h-PT-cell2.jpg', 'A1-DH3000-3000h-PT-cell21.jpg', 'A1-DH3000-3000h-PT-cell22.jpg', 'A1-DH3000-3000h-PT-cell24.jpg', 'A1-DH3000-3000h-PT-cell25.jpg', 'A1-DH3000-3000h-PT-cell26.jpg', 'A1-DH3000-3000h-PT-cell27.jpg', 'A1-DH3000-3000h-PT-cell28.jpg', 'A1-DH3000-3000h-PT-cell29.jpg', 'A1-DH3000-3000h-PT-cell30.jpg', 'A1-DH3000-3000h-PT-cell31.jpg', 'A1-DH3000-3000h-PT-cell32.jpg', 'A1-DH3000-3000h-PT-cell33.jpg', 'A1-DH3000-3000h-PT-cell34.jpg', 'A1-DH3000-3000h-PT-cell37.jpg', 'A1-DH3000-3000h-PT-cell38.jpg', 'A1-DH3000-3000h-PT-cell40.jpg', 'A1-DH3000-3000h-PT-cell41.jpg', 'A1-DH3000-3000h-PT-cell42.jpg', 'A1-DH3000-3000h-PT-cell43.jpg', 'A1-DH3000-3000h-PT-cell44.jpg', 'A1-DH3000-3000h-PT-cell45.jpg', 'A1-DH3000-3000h-PT-cell46.jpg', 'A1-DH3000-3000h-PT-cell48.jpg', 'A1-DH3000-3000h-PT-cell49.jpg', 'A1-DH3000-3000h-PT-cell5.jpg', 'A1-DH3000-3000h-PT-cell50.jpg', 'A1-DH3000-3000h-PT-cell51.jpg', 'A1-DH3000-3000h-PT-cell52.jpg', 'A1-DH3000-3000h-PT-cell53.jpg', 'A1-DH3000-3000h-PT-cell54.jpg', 'A1-DH3000-3000h-PT-cell55.jpg', 'A1-DH3000-3000h-PT-cell56.jpg', 'A1-DH3000-3000h-PT-cell57.jpg', 'A1-DH3000-3000h-PT-cell58.jpg', 'A1-DH3000-3000h-PT-cell59.jpg', 'A1-DH3000-3000h-PT-cell8.jpg', 'A1-DH3000-3000h-PT-cell9.jpg', 'A10-DH3000-2500h-PT-cell14.jpg', 'A10-DH3000-2500h-PT-cell49.jpg', 'A10-DH3000-2500h-PT-cell50.jpg', 'A10-DH3000-3000h-PT-cell1.jpg', 'A10-DH3000-3000h-PT-cell10.jpg', 'A10-DH3000-3000h-PT-cell11.jpg', 'A10-DH3000-3000h-PT-cell12.jpg', 'A10-DH3000-3000h-PT-cell13.jpg', 'A10-DH3000-3000h-PT-cell14.jpg', 'A10-DH3000-3000h-PT-cell16.jpg', 'A10-DH3000-3000h-PT-cell17.jpg', 'A10-DH3000-3000h-PT-cell18.jpg', 'A10-DH3000-3000h-PT-cell2.jpg', 'A10-DH3000-3000h-PT-cell20.jpg', 'A10-DH3000-3000h-PT-cell22.jpg', 'A10-DH3000-3000h-PT-cell23.jpg', 'A10-DH3000-3000h-PT-cell24.jpg', 'A10-DH3000-3000h-PT-cell25.jpg', 'A10-DH3000-3000h-PT-cell26.jpg', 'A10-DH3000-3000h-PT-cell27.jpg', 'A10-DH3000-3000h-PT-cell3.jpg', 'A10-DH3000-3000h-PT-cell30.jpg', 'A10-DH3000-3000h-PT-cell31.jpg', 'A10-DH3000-3000h-PT-cell32.jpg', 'A10-DH3000-3000h-PT-cell33.jpg', 'A10-DH3000-3000h-PT-cell35.jpg', 'A10-DH3000-3000h-PT-cell36.jpg', 'A10-DH3000-3000h-PT-cell37.jpg', 'A10-DH3000-3000h-PT-cell39.jpg', 'A10-DH3000-3000h-PT-cell4.jpg', 'A10-DH3000-3000h-PT-cell40.jpg', 'A10-DH3000-3000h-PT-cell41.jpg', 'A10-DH3000-3000h-PT-cell42.jpg', 'A10-DH3000-3000h-PT-cell43.jpg', 'A10-DH3000-3000h-PT-cell44.jpg', 'A10-DH3000-3000h-PT-cell45.jpg', 'A10-DH3000-3000h-PT-cell47.jpg', 'A10-DH3000-3000h-PT-cell49.jpg', 'A10-DH3000-3000h-PT-cell51.jpg', 'A10-DH3000-3000h-PT-cell52.jpg', 'A10-DH3000-3000h-PT-cell53.jpg', 'A10-DH3000-3000h-PT-cell54.jpg', 'A10-DH3000-3000h-PT-cell55.jpg', 'A10-DH3000-3000h-PT-cell56.jpg', 'A10-DH3000-3000h-PT-cell58.jpg', 'A10-DH3000-3000h-PT-cell59.jpg', 'A10-DH3000-3000h-PT-cell60.jpg', 'A10-DH3000-3000h-PT-cell7.jpg', 'A10-DH3000-3000h-PT-cell8.jpg', 'A10-DH3000-3000h-PT-cell9.jpg', 'A11-DH3000-2500h-PT-cell11.jpg', 'A11-DH3000-2500h-PT-cell13.jpg', 'A11-DH3000-2500h-PT-cell31.jpg', 'A11-DH3000-2500h-PT-cell32.jpg', 'A11-DH3000-2500h-PT-cell33.jpg', 'A11-DH3000-2500h-PT-cell34.jpg', 'A11-DH3000-2500h-PT-cell35.jpg', 'A11-DH3000-2500h-PT-cell36.jpg', 'A11-DH3000-2500h-PT-cell38.jpg', 'A11-DH3000-2500h-PT-cell40.jpg', 'A11-DH3000-3000h-PT-cell10.jpg', 'A11-DH3000-3000h-PT-cell11.jpg', 'A11-DH3000-3000h-PT-cell13.jpg', 'A11-DH3000-3000h-PT-cell16.jpg', 'A11-DH3000-3000h-PT-cell18.jpg', 'A11-DH3000-3000h-PT-cell19.jpg', 'A11-DH3000-3000h-PT-cell2.jpg', 'A11-DH3000-3000h-PT-cell20.jpg', 'A11-DH3000-3000h-PT-cell21.jpg', 'A11-DH3000-3000h-PT-cell23.jpg', 'A11-DH3000-3000h-PT-cell25.jpg', 'A11-DH3000-3000h-PT-cell28.jpg', 'A11-DH3000-3000h-PT-cell3.jpg', 'A11-DH3000-3000h-PT-cell32.jpg', 'A11-DH3000-3000h-PT-cell34.jpg', 'A11-DH3000-3000h-PT-cell35.jpg', 'A11-DH3000-3000h-PT-cell36.jpg', 'A11-DH3000-3000h-PT-cell38.jpg', 'A11-DH3000-3000h-PT-cell39.jpg', 'A11-DH3000-3000h-PT-cell4.jpg', 'A11-DH3000-3000h-PT-cell40.jpg', 'A11-DH3000-3000h-PT-cell41.jpg', 'A11-DH3000-3000h-PT-cell42.jpg', 'A11-DH3000-3000h-PT-cell43.jpg', 'A11-DH3000-3000h-PT-cell44.jpg', 'A11-DH3000-3000h-PT-cell45.jpg', 'A11-DH3000-3000h-PT-cell46.jpg', 'A11-DH3000-3000h-PT-cell47.jpg', 'A11-DH3000-3000h-PT-cell48.jpg', 'A11-DH3000-3000h-PT-cell49.jpg', 'A11-DH3000-3000h-PT-cell5.jpg', 'A11-DH3000-3000h-PT-cell50.jpg', 'A11-DH3000-3000h-PT-cell51.jpg', 'A11-DH3000-3000h-PT-cell52.jpg', 'A11-DH3000-3000h-PT-cell54.jpg', 'A11-DH3000-3000h-PT-cell55.jpg', 'A11-DH3000-3000h-PT-cell57.jpg', 'A11-DH3000-3000h-PT-cell58.jpg', 'A11-DH3000-3000h-PT-cell59.jpg', 'A11-DH3000-3000h-PT-cell6.jpg', 'A11-DH3000-3000h-PT-cell60.jpg', 'A11-DH3000-3000h-PT-cell7.jpg', 'A11-DH3000-3000h-PT-cell8.jpg', 'A11-DH3000-3000h-PT-cell9.jpg']\n"
     ]
    },
    {
     "data": {
      "text/html": [
       "<div>\n",
       "<style scoped>\n",
       "    .dataframe tbody tr th:only-of-type {\n",
       "        vertical-align: middle;\n",
       "    }\n",
       "\n",
       "    .dataframe tbody tr th {\n",
       "        vertical-align: top;\n",
       "    }\n",
       "\n",
       "    .dataframe thead th {\n",
       "        text-align: right;\n",
       "    }\n",
       "</style>\n",
       "<table border=\"1\" class=\"dataframe\">\n",
       "  <thead>\n",
       "    <tr style=\"text-align: right;\">\n",
       "      <th></th>\n",
       "      <th>filename</th>\n",
       "      <th>category</th>\n",
       "    </tr>\n",
       "  </thead>\n",
       "  <tbody>\n",
       "    <tr>\n",
       "      <th>0</th>\n",
       "      <td>A1-DH3000-3000h-PT-cell1.jpg</td>\n",
       "      <td>0</td>\n",
       "    </tr>\n",
       "    <tr>\n",
       "      <th>1</th>\n",
       "      <td>A1-DH3000-3000h-PT-cell11.jpg</td>\n",
       "      <td>0</td>\n",
       "    </tr>\n",
       "    <tr>\n",
       "      <th>2</th>\n",
       "      <td>A1-DH3000-3000h-PT-cell12.jpg</td>\n",
       "      <td>0</td>\n",
       "    </tr>\n",
       "    <tr>\n",
       "      <th>3</th>\n",
       "      <td>A1-DH3000-3000h-PT-cell13.jpg</td>\n",
       "      <td>0</td>\n",
       "    </tr>\n",
       "    <tr>\n",
       "      <th>4</th>\n",
       "      <td>A1-DH3000-3000h-PT-cell15.jpg</td>\n",
       "      <td>0</td>\n",
       "    </tr>\n",
       "    <tr>\n",
       "      <th>...</th>\n",
       "      <td>...</td>\n",
       "      <td>...</td>\n",
       "    </tr>\n",
       "    <tr>\n",
       "      <th>2617</th>\n",
       "      <td>cell2436.png</td>\n",
       "      <td>4</td>\n",
       "    </tr>\n",
       "    <tr>\n",
       "      <th>2618</th>\n",
       "      <td>cell2441.png</td>\n",
       "      <td>4</td>\n",
       "    </tr>\n",
       "    <tr>\n",
       "      <th>2619</th>\n",
       "      <td>cell2442.png</td>\n",
       "      <td>4</td>\n",
       "    </tr>\n",
       "    <tr>\n",
       "      <th>2620</th>\n",
       "      <td>cell2443.png</td>\n",
       "      <td>4</td>\n",
       "    </tr>\n",
       "    <tr>\n",
       "      <th>2621</th>\n",
       "      <td>cell2444.png</td>\n",
       "      <td>4</td>\n",
       "    </tr>\n",
       "  </tbody>\n",
       "</table>\n",
       "<p>2622 rows × 2 columns</p>\n",
       "</div>"
      ],
      "text/plain": [
       "                           filename category\n",
       "0      A1-DH3000-3000h-PT-cell1.jpg        0\n",
       "1     A1-DH3000-3000h-PT-cell11.jpg        0\n",
       "2     A1-DH3000-3000h-PT-cell12.jpg        0\n",
       "3     A1-DH3000-3000h-PT-cell13.jpg        0\n",
       "4     A1-DH3000-3000h-PT-cell15.jpg        0\n",
       "...                             ...      ...\n",
       "2617                   cell2436.png        4\n",
       "2618                   cell2441.png        4\n",
       "2619                   cell2442.png        4\n",
       "2620                   cell2443.png        4\n",
       "2621                   cell2444.png        4\n",
       "\n",
       "[2622 rows x 2 columns]"
      ]
     },
     "execution_count": 4,
     "metadata": {},
     "output_type": "execute_result"
    }
   ],
   "source": [
    "filenames = os.listdir(\"train/c0\")\n",
    "print(filenames)\n",
    "categories_train = []\n",
    "filenamefin_train = []\n",
    "for filename in filenames:\n",
    "      categories_train.append(\"0\")\n",
    "      filenamefin_train.append(filename)\n",
    "filenames = os.listdir(\"train/c1\")\n",
    "\n",
    "\n",
    "for filename in filenames:\n",
    "    categories_train.append(\"1\")\n",
    "    filenamefin_train.append(filename)\n",
    "\n",
    "filenames = os.listdir(\"train/c2\")\n",
    "for filename in filenames:\n",
    "    categories_train.append(\"2\")\n",
    "    filenamefin_train.append(filename)\n",
    "\n",
    "    \n",
    "filenames = os.listdir(\"train/c3\")\n",
    "for filename in filenames:\n",
    "    categories_train.append(\"3\")\n",
    "    filenamefin_train.append(filename)\n",
    "\n",
    "filenames = os.listdir(\"train/c4\")\n",
    "for filename in filenames:\n",
    "    categories_train.append(\"4\")\n",
    "    filenamefin_train.append(filename)\n",
    "  \n",
    "df = pd.DataFrame({\n",
    "    'filename': filenamefin_train,\n",
    "    'category': categories_train\n",
    "})\n",
    "df"
   ]
  },
  {
   "cell_type": "code",
   "execution_count": 5,
   "id": "404679e7",
   "metadata": {},
   "outputs": [
    {
     "name": "stdout",
     "output_type": "stream",
     "text": [
      "['A1-DH3000-3000h-PT-cell10.jpg', 'A1-DH3000-3000h-PT-cell14.jpg', 'A1-DH3000-3000h-PT-cell16.jpg', 'A1-DH3000-3000h-PT-cell18.jpg', 'A1-DH3000-3000h-PT-cell20.jpg', 'A1-DH3000-3000h-PT-cell3.jpg', 'A1-DH3000-3000h-PT-cell36.jpg', 'A1-DH3000-3000h-PT-cell39.jpg', 'A1-DH3000-3000h-PT-cell4.jpg', 'A1-DH3000-3000h-PT-cell47.jpg', 'A1-DH3000-3000h-PT-cell6.jpg', 'A1-DH3000-3000h-PT-cell60.jpg', 'A1-DH3000-3000h-PT-cell7.jpg', 'A10-DH3000-3000h-PT-cell19.jpg', 'A10-DH3000-3000h-PT-cell21.jpg', 'A10-DH3000-3000h-PT-cell28.jpg', 'A10-DH3000-3000h-PT-cell29.jpg', 'A10-DH3000-3000h-PT-cell34.jpg', 'A10-DH3000-3000h-PT-cell38.jpg', 'A10-DH3000-3000h-PT-cell46.jpg', 'A10-DH3000-3000h-PT-cell48.jpg', 'A10-DH3000-3000h-PT-cell5.jpg', 'A10-DH3000-3000h-PT-cell50.jpg', 'A10-DH3000-3000h-PT-cell57.jpg', 'A10-DH3000-3000h-PT-cell6.jpg', 'A11-DH3000-2500h-PT-cell37.jpg', 'A11-DH3000-2500h-PT-cell39.jpg', 'A11-DH3000-3000h-PT-cell1.jpg', 'A11-DH3000-3000h-PT-cell12.jpg', 'A11-DH3000-3000h-PT-cell14.jpg', 'A11-DH3000-3000h-PT-cell15.jpg', 'A11-DH3000-3000h-PT-cell17.jpg', 'A11-DH3000-3000h-PT-cell22.jpg', 'A11-DH3000-3000h-PT-cell26.jpg', 'A11-DH3000-3000h-PT-cell29.jpg', 'A11-DH3000-3000h-PT-cell30.jpg', 'A11-DH3000-3000h-PT-cell31.jpg', 'A11-DH3000-3000h-PT-cell33.jpg', 'A11-DH3000-3000h-PT-cell37.jpg', 'A11-DH3000-3000h-PT-cell53.jpg', 'A11-DH3000-3000h-PT-cell56.jpg']\n"
     ]
    },
    {
     "data": {
      "text/html": [
       "<div>\n",
       "<style scoped>\n",
       "    .dataframe tbody tr th:only-of-type {\n",
       "        vertical-align: middle;\n",
       "    }\n",
       "\n",
       "    .dataframe tbody tr th {\n",
       "        vertical-align: top;\n",
       "    }\n",
       "\n",
       "    .dataframe thead th {\n",
       "        text-align: right;\n",
       "    }\n",
       "</style>\n",
       "<table border=\"1\" class=\"dataframe\">\n",
       "  <thead>\n",
       "    <tr style=\"text-align: right;\">\n",
       "      <th></th>\n",
       "      <th>filename</th>\n",
       "      <th>category</th>\n",
       "    </tr>\n",
       "  </thead>\n",
       "  <tbody>\n",
       "    <tr>\n",
       "      <th>0</th>\n",
       "      <td>A1-DH3000-3000h-PT-cell10.jpg</td>\n",
       "      <td>0</td>\n",
       "    </tr>\n",
       "    <tr>\n",
       "      <th>1</th>\n",
       "      <td>A1-DH3000-3000h-PT-cell14.jpg</td>\n",
       "      <td>0</td>\n",
       "    </tr>\n",
       "    <tr>\n",
       "      <th>2</th>\n",
       "      <td>A1-DH3000-3000h-PT-cell16.jpg</td>\n",
       "      <td>0</td>\n",
       "    </tr>\n",
       "    <tr>\n",
       "      <th>3</th>\n",
       "      <td>A1-DH3000-3000h-PT-cell18.jpg</td>\n",
       "      <td>0</td>\n",
       "    </tr>\n",
       "    <tr>\n",
       "      <th>4</th>\n",
       "      <td>A1-DH3000-3000h-PT-cell20.jpg</td>\n",
       "      <td>0</td>\n",
       "    </tr>\n",
       "    <tr>\n",
       "      <th>...</th>\n",
       "      <td>...</td>\n",
       "      <td>...</td>\n",
       "    </tr>\n",
       "    <tr>\n",
       "      <th>376</th>\n",
       "      <td>cell2428.png</td>\n",
       "      <td>4</td>\n",
       "    </tr>\n",
       "    <tr>\n",
       "      <th>377</th>\n",
       "      <td>cell2429.png</td>\n",
       "      <td>4</td>\n",
       "    </tr>\n",
       "    <tr>\n",
       "      <th>378</th>\n",
       "      <td>cell2430.png</td>\n",
       "      <td>4</td>\n",
       "    </tr>\n",
       "    <tr>\n",
       "      <th>379</th>\n",
       "      <td>cell2432.png</td>\n",
       "      <td>4</td>\n",
       "    </tr>\n",
       "    <tr>\n",
       "      <th>380</th>\n",
       "      <td>cell2433.png</td>\n",
       "      <td>4</td>\n",
       "    </tr>\n",
       "  </tbody>\n",
       "</table>\n",
       "<p>381 rows × 2 columns</p>\n",
       "</div>"
      ],
      "text/plain": [
       "                          filename category\n",
       "0    A1-DH3000-3000h-PT-cell10.jpg        0\n",
       "1    A1-DH3000-3000h-PT-cell14.jpg        0\n",
       "2    A1-DH3000-3000h-PT-cell16.jpg        0\n",
       "3    A1-DH3000-3000h-PT-cell18.jpg        0\n",
       "4    A1-DH3000-3000h-PT-cell20.jpg        0\n",
       "..                             ...      ...\n",
       "376                   cell2428.png        4\n",
       "377                   cell2429.png        4\n",
       "378                   cell2430.png        4\n",
       "379                   cell2432.png        4\n",
       "380                   cell2433.png        4\n",
       "\n",
       "[381 rows x 2 columns]"
      ]
     },
     "execution_count": 5,
     "metadata": {},
     "output_type": "execute_result"
    }
   ],
   "source": [
    "filenames = os.listdir(\"test/c0\")\n",
    "print(filenames)\n",
    "categories_test = []\n",
    "filenamefin_test = []\n",
    "for filename in filenames:\n",
    "      categories_test.append(\"0\")\n",
    "      filenamefin_test.append(filename)\n",
    "filenames = os.listdir(\"test/c1\")\n",
    "\n",
    "\n",
    "for filename in filenames:\n",
    "    categories_test.append(\"1\")\n",
    "    filenamefin_test.append(filename)\n",
    "\n",
    "filenames = os.listdir(\"test/c2\")\n",
    "for filename in filenames:\n",
    "    categories_test.append(\"2\")\n",
    "    filenamefin_test.append(filename)\n",
    "\n",
    "filenames = os.listdir(\"test/c3\")\n",
    "for filename in filenames:\n",
    "    categories_test.append(\"3\")\n",
    "    filenamefin_test.append(filename)\n",
    "\n",
    "filenames = os.listdir(\"test/c4\")\n",
    "for filename in filenames:\n",
    "    categories_test.append(\"4\")\n",
    "    filenamefin_test.append(filename)\n",
    "\n",
    "test_df = pd.DataFrame({\n",
    "    'filename': filenamefin_test,\n",
    "    'category': categories_test\n",
    "})\n",
    "test_df"
   ]
  },
  {
   "cell_type": "code",
   "execution_count": 6,
   "id": "db22e27f",
   "metadata": {},
   "outputs": [],
   "source": [
    "train_df, validate_df = train_test_split(df, test_size=0.1, random_state=42)\n",
    "train_df = train_df.reset_index(drop=True)\n",
    "validate_df = validate_df.reset_index(drop=True)"
   ]
  },
  {
   "cell_type": "code",
   "execution_count": 7,
   "id": "d75081ac",
   "metadata": {},
   "outputs": [
    {
     "name": "stdout",
     "output_type": "stream",
     "text": [
      "['4']\n"
     ]
    },
    {
     "data": {
      "text/plain": [
       "<matplotlib.image.AxesImage at 0x2218d39c3a0>"
      ]
     },
     "execution_count": 7,
     "metadata": {},
     "output_type": "execute_result"
    },
    {
     "data": {
      "image/png": "[encoded data removed]",
      "text/plain": [
       "<Figure size 432x288 with 1 Axes>"
      ]
     },
     "metadata": {
      "needs_background": "light"
     },
     "output_type": "display_data"
    }
   ],
   "source": [
    "sample = random.choice(filenamefin_train)\n",
    "orders = df.loc[df.filename == sample, 'category'].unique()\n",
    "print(orders)\n",
    "if orders == '0':\n",
    "  image = load_img(\"train/c0/\" + sample)\n",
    "elif orders == '1':\n",
    "  image = load_img(\"train/c1/\" + sample)\n",
    "elif orders == '2':\n",
    "  image = load_img(\"train/c2/\" + sample)\n",
    "elif orders == '3':\n",
    "  image = load_img(\"train/c3/\" + sample)\n",
    "elif orders == '4':\n",
    "  image = load_img(\"train/c4/\" + sample)\n",
    "plt.imshow(image)"
   ]
  },
  {
   "cell_type": "code",
   "execution_count": 8,
   "id": "11ab2761",
   "metadata": {},
   "outputs": [],
   "source": [
    "total_train = train_df.shape[0]\n",
    "total_validate = validate_df.shape[0]\n",
    "batch_size=16\n",
    "IMAGE_SIZE=(200,200)"
   ]
  },
  {
   "cell_type": "code",
   "execution_count": 38,
   "id": "1d771d10",
   "metadata": {},
   "outputs": [
    {
     "name": "stdout",
     "output_type": "stream",
     "text": [
      "Found 2620 validated image filenames belonging to 5 classes.\n"
     ]
    }
   ],
   "source": [
    "train_datagen = ImageDataGenerator(\n",
    "    rotation_range=15,\n",
    "    rescale=1./255,\n",
    "    shear_range=0.1,\n",
    "    zoom_range=0.2,\n",
    "    horizontal_flip=True,\n",
    "    vertical_flip = True,\n",
    "    width_shift_range=0.1,\n",
    "    height_shift_range=0.1\n",
    ")\n",
    "train_generator = train_datagen.flow_from_dataframe(\n",
    "    df, \n",
    "    \"train_set\", \n",
    "    x_col='filename',\n",
    "    y_col='category',\n",
    "    target_size=IMAGE_SIZE,\n",
    "    class_mode='categorical',\n",
    "    batch_size=batch_size\n",
    ")"
   ]
  },
  {
   "cell_type": "code",
   "execution_count": 39,
   "id": "2c42f02d",
   "metadata": {},
   "outputs": [
    {
     "name": "stdout",
     "output_type": "stream",
     "text": [
      "Found 263 validated image filenames belonging to 5 classes.\n"
     ]
    }
   ],
   "source": [
    "validation_datagen = ImageDataGenerator(rescale=1./255)\n",
    "validation_generator = validation_datagen.flow_from_dataframe(\n",
    "    validate_df, \n",
    "    \"train_set\", \n",
    "    x_col='filename',\n",
    "    y_col='category',\n",
    "    target_size=IMAGE_SIZE,\n",
    "    class_mode='categorical',\n",
    "    batch_size=batch_size\n",
    ")"
   ]
  },
  {
   "cell_type": "code",
   "execution_count": 40,
   "id": "7d93de91",
   "metadata": {},
   "outputs": [
    {
     "name": "stdout",
     "output_type": "stream",
     "text": [
      "Found 381 validated image filenames belonging to 5 classes.\n"
     ]
    }
   ],
   "source": [
    "test_gen = ImageDataGenerator(rescale=1./255)\n",
    "test_generator = test_gen.flow_from_dataframe(\n",
    "    test_df, \n",
    "    \"test_set\", \n",
    "    x_col='filename',\n",
    "    y_col='category',\n",
    "    class_mode='categorical',\n",
    "    target_size=IMAGE_SIZE,\n",
    "    batch_size=batch_size,\n",
    "    shuffle = False\n",
    ")"
   ]
  },
  {
   "cell_type": "code",
   "execution_count": 41,
   "id": "77427654",
   "metadata": {},
   "outputs": [
    {
     "name": "stdout",
     "output_type": "stream",
     "text": [
      "Model: \"vgg19\"\n",
      "_________________________________________________________________\n",
      "Layer (type)                 Output Shape              Param #   \n",
      "=================================================================\n",
      "input_3 (InputLayer)         [(None, 200, 200, 3)]     0         \n",
      "_________________________________________________________________\n",
      "block1_conv1 (Conv2D)        (None, 200, 200, 64)      1792      \n",
      "_________________________________________________________________\n",
      "block1_conv2 (Conv2D)        (None, 200, 200, 64)      36928     \n",
      "_________________________________________________________________\n",
      "block1_pool (MaxPooling2D)   (None, 100, 100, 64)      0         \n",
      "_________________________________________________________________\n",
      "block2_conv1 (Conv2D)        (None, 100, 100, 128)     73856     \n",
      "_________________________________________________________________\n",
      "block2_conv2 (Conv2D)        (None, 100, 100, 128)     147584    \n",
      "_________________________________________________________________\n",
      "block2_pool (MaxPooling2D)   (None, 50, 50, 128)       0         \n",
      "_________________________________________________________________\n",
      "block3_conv1 (Conv2D)        (None, 50, 50, 256)       295168    \n",
      "_________________________________________________________________\n",
      "block3_conv2 (Conv2D)        (None, 50, 50, 256)       590080    \n",
      "_________________________________________________________________\n",
      "block3_conv3 (Conv2D)        (None, 50, 50, 256)       590080    \n",
      "_________________________________________________________________\n",
      "block3_conv4 (Conv2D)        (None, 50, 50, 256)       590080    \n",
      "_________________________________________________________________\n",
      "block3_pool (MaxPooling2D)   (None, 25, 25, 256)       0         \n",
      "_________________________________________________________________\n",
      "block4_conv1 (Conv2D)        (None, 25, 25, 512)       1180160   \n",
      "_________________________________________________________________\n",
      "block4_conv2 (Conv2D)        (None, 25, 25, 512)       2359808   \n",
      "_________________________________________________________________\n",
      "block4_conv3 (Conv2D)        (None, 25, 25, 512)       2359808   \n",
      "_________________________________________________________________\n",
      "block4_conv4 (Conv2D)        (None, 25, 25, 512)       2359808   \n",
      "_________________________________________________________________\n",
      "block4_pool (MaxPooling2D)   (None, 12, 12, 512)       0         \n",
      "_________________________________________________________________\n",
      "block5_conv1 (Conv2D)        (None, 12, 12, 512)       2359808   \n",
      "_________________________________________________________________\n",
      "block5_conv2 (Conv2D)        (None, 12, 12, 512)       2359808   \n",
      "_________________________________________________________________\n",
      "block5_conv3 (Conv2D)        (None, 12, 12, 512)       2359808   \n",
      "_________________________________________________________________\n",
      "block5_conv4 (Conv2D)        (None, 12, 12, 512)       2359808   \n",
      "_________________________________________________________________\n",
      "block5_pool (MaxPooling2D)   (None, 6, 6, 512)         0         \n",
      "=================================================================\n",
      "Total params: 20,024,384\n",
      "Trainable params: 20,024,384\n",
      "Non-trainable params: 0\n",
      "_________________________________________________________________\n",
      "None\n"
     ]
    }
   ],
   "source": [
    "model_vgg19= tf.keras.applications.VGG19(weights=\"imagenet\", include_top=False, input_shape = (200,200,3))\n",
    "print(model_vgg19.summary())"
   ]
  },
  {
   "cell_type": "code",
   "execution_count": 42,
   "id": "c430977f",
   "metadata": {},
   "outputs": [
    {
     "name": "stdout",
     "output_type": "stream",
     "text": [
      "<keras.engine.input_layer.InputLayer object at 0x00000221C54F4070> False\n",
      "<keras.layers.convolutional.Conv2D object at 0x00000221C54F4E50> True\n",
      "<keras.layers.convolutional.Conv2D object at 0x000002218305C820> False\n",
      "<keras.layers.pooling.MaxPooling2D object at 0x00000221C5686D60> True\n",
      "<keras.layers.convolutional.Conv2D object at 0x00000221C54DFC70> False\n",
      "<keras.layers.convolutional.Conv2D object at 0x00000221C5703D00> True\n",
      "<keras.layers.pooling.MaxPooling2D object at 0x00000221C5703A60> False\n",
      "<keras.layers.convolutional.Conv2D object at 0x00000221C56DBA00> True\n",
      "<keras.layers.convolutional.Conv2D object at 0x00000221C56AD1C0> False\n",
      "<keras.layers.convolutional.Conv2D object at 0x00000221C56FF340> True\n",
      "<keras.layers.convolutional.Conv2D object at 0x00000221C56F9520> False\n",
      "<keras.layers.pooling.MaxPooling2D object at 0x00000221C56EFD30> True\n",
      "<keras.layers.convolutional.Conv2D object at 0x00000221C56F2280> False\n",
      "<keras.layers.convolutional.Conv2D object at 0x00000221C56EF3D0> True\n",
      "<keras.layers.convolutional.Conv2D object at 0x00000221D5F28D00> False\n",
      "<keras.layers.convolutional.Conv2D object at 0x00000221D5F218B0> True\n",
      "<keras.layers.pooling.MaxPooling2D object at 0x00000221D5F43D00> False\n",
      "<keras.layers.convolutional.Conv2D object at 0x00000221D5F43280> True\n",
      "<keras.layers.convolutional.Conv2D object at 0x00000221D5F2EF40> False\n",
      "<keras.layers.convolutional.Conv2D object at 0x00000221D5F43880> True\n",
      "<keras.layers.convolutional.Conv2D object at 0x00000221D5F491C0> False\n",
      "<keras.layers.pooling.MaxPooling2D object at 0x00000221D5F6AF40> True\n"
     ]
    }
   ],
   "source": [
    "i = 0\n",
    "for layer in model_vgg19.layers[:]:\n",
    "    if(i%2 == 0):\n",
    "        layer.trainable = False\n",
    "    i = i+1\n",
    "for layer in model_vgg19.layers:\n",
    "    print(layer, layer.trainable)"
   ]
  },
  {
   "cell_type": "code",
   "execution_count": 43,
   "id": "6d992cb7",
   "metadata": {},
   "outputs": [
    {
     "name": "stdout",
     "output_type": "stream",
     "text": [
      "Model: \"sequential_2\"\n",
      "_________________________________________________________________\n",
      "Layer (type)                 Output Shape              Param #   \n",
      "=================================================================\n",
      "vgg19 (Functional)           (None, 6, 6, 512)         20024384  \n",
      "_________________________________________________________________\n",
      "flatten_2 (Flatten)          (None, 18432)             0         \n",
      "_________________________________________________________________\n",
      "dense_4 (Dense)              (None, 64)                1179712   \n",
      "_________________________________________________________________\n",
      "dropout_2 (Dropout)          (None, 64)                0         \n",
      "_________________________________________________________________\n",
      "dense_5 (Dense)              (None, 5)                 325       \n",
      "=================================================================\n",
      "Total params: 21,204,421\n",
      "Trainable params: 11,653,893\n",
      "Non-trainable params: 9,550,528\n",
      "_________________________________________________________________\n"
     ]
    }
   ],
   "source": [
    "# Create the model\n",
    "from tensorflow.keras.layers import Flatten\n",
    "from tensorflow.keras.layers import Dense\n",
    "new_model = Sequential()\n",
    "# Add the vgg convolutional base model\n",
    "\n",
    "new_model.add(model_vgg19)\n",
    "\n",
    "new_model.add(Flatten())\n",
    "new_model.add(Dense(64, activation='relu'))\n",
    "new_model.add(tensorflow.keras.layers.Dropout(0.5))\n",
    "new_model.add(Dense(5, activation='softmax'))\n",
    "# Show a summary of the new_model. Check the number of trainable parameters\n",
    "\n",
    "new_model.summary()"
   ]
  },
  {
   "cell_type": "code",
   "execution_count": 44,
   "id": "b24a46a6",
   "metadata": {},
   "outputs": [
    {
     "name": "stdout",
     "output_type": "stream",
     "text": [
      "Model: \"sequential_2\"\n",
      "_________________________________________________________________\n",
      "Layer (type)                 Output Shape              Param #   \n",
      "=================================================================\n",
      "vgg19 (Functional)           (None, 6, 6, 512)         20024384  \n",
      "_________________________________________________________________\n",
      "flatten_2 (Flatten)          (None, 18432)             0         \n",
      "_________________________________________________________________\n",
      "dense_4 (Dense)              (None, 64)                1179712   \n",
      "_________________________________________________________________\n",
      "dropout_2 (Dropout)          (None, 64)                0         \n",
      "_________________________________________________________________\n",
      "dense_5 (Dense)              (None, 5)                 325       \n",
      "=================================================================\n",
      "Total params: 21,204,421\n",
      "Trainable params: 11,653,893\n",
      "Non-trainable params: 9,550,528\n",
      "_________________________________________________________________\n"
     ]
    }
   ],
   "source": [
    "new_model.compile(loss='categorical_crossentropy', optimizer=tf.optimizers.Adam(learning_rate=0.0001), metrics=['accuracy'])\n",
    "new_model.summary()"
   ]
  },
  {
   "cell_type": "code",
   "execution_count": 46,
   "id": "3052555a",
   "metadata": {},
   "outputs": [
    {
     "name": "stdout",
     "output_type": "stream",
     "text": [
      "Epoch 1/50\n",
      "164/164 [==============================] - 29s 176ms/step - loss: 0.5263 - accuracy: 0.8302\n",
      "Epoch 2/50\n",
      "164/164 [==============================] - 29s 176ms/step - loss: 0.3575 - accuracy: 0.8866\n",
      "Epoch 3/50\n",
      "164/164 [==============================] - 29s 176ms/step - loss: 0.3122 - accuracy: 0.9069s - loss: 0.3113 - accuracy:  - ETA: 2s - loss: 0.317 - ETA: 1s - loss: 0.3097 - ac\n",
      "Epoch 4/50\n",
      "164/164 [==============================] - 29s 177ms/step - loss: 0.2356 - accuracy: 0.9332s - loss: 0\n",
      "Epoch 5/50\n",
      "164/164 [==============================] - 29s 177ms/step - loss: 0.2311 - accuracy: 0.9321s - - ETA: 0s - loss: 0.2311 - accuracy: 0.93\n",
      "Epoch 6/50\n",
      "164/164 [==============================] - 29s 177ms/step - loss: 0.2162 - accuracy: 0.9408s - loss: 0.2111 - accu - ETA: 0s - loss: 0.2153 - accuracy: 0.\n",
      "Epoch 7/50\n",
      "164/164 [==============================] - 29s 178ms/step - loss: 0.2010 - accuracy: 0.9370\n",
      "Epoch 8/50\n",
      "164/164 [==============================] - 29s 177ms/step - loss: 0.1818 - accuracy: 0.9454\n",
      "Epoch 9/50\n",
      "164/164 [==============================] - 29s 178ms/step - loss: 0.1513 - accuracy: 0.9534 28s - loss - ETA: 23s - loss: 0.1673 - acc - ETA: 21s - loss: 0.1627 - accurac - ETA: 19s - loss - ETA: 14s - loss: 0.1461 - accu - ETA: 7s - loss: 0.1510 - accuracy:  - ETA: 6s\n",
      "Epoch 10/50\n",
      "164/164 [==============================] - 29s 177ms/step - loss: 0.1925 - accuracy: 0.9408s - ETA: 4s - loss: 0.1906 - ac - ETA: 3s - loss: 0.1891 - accuracy - ETA: 2s\n",
      "Epoch 11/50\n",
      "164/164 [==============================] - 29s 177ms/step - loss: 0.2217 - accuracy: 0.9317s - loss: 0.2208 - accura\n",
      "Epoch 12/50\n",
      "164/164 [==============================] - 29s 177ms/step - loss: 0.1536 - accuracy: 0.9553\n",
      "Epoch 13/50\n",
      "164/164 [==============================] - 29s 177ms/step - loss: 0.1312 - accuracy: 0.9557\n",
      "Epoch 14/50\n",
      "164/164 [==============================] - 29s 177ms/step - loss: 0.1324 - accuracy: 0.9645 23s - loss: 0.1514 - accuracy: 0. - ETA: 22s - loss - ETA: 18s - loss: 0.1581 - a - ETA: 15s - loss: 0.1529 - acc -\n",
      "Epoch 15/50\n",
      "164/164 [==============================] - 29s 177ms/step - loss: 0.1163 - accuracy: 0.9611\n",
      "Epoch 16/50\n",
      "164/164 [==============================] - 29s 177ms/step - loss: 0.1204 - accuracy: 0.9622s - los\n",
      "Epoch 17/50\n",
      "164/164 [==============================] - 29s 177ms/step - loss: 0.1587 - accuracy: 0.9588 27s -\n",
      "Epoch 18/50\n",
      "164/164 [==============================] - 29s 177ms/step - loss: 0.1073 - accuracy: 0.9679\n",
      "Epoch 19/50\n",
      "164/164 [==============================] - 29s 177ms/step - loss: 0.1204 - accuracy: 0.9626\n",
      "Epoch 20/50\n",
      "164/164 [==============================] - 29s 177ms/step - loss: 0.0899 - accuracy: 0.9687 27s - loss: 0.0837 - accuracy:  - ETA: 26s - loss: 0.0951 - accuracy  - ETA: 17s - loss: 0.1153 - accurac - ETA: 15s - loss: 0.1104 - accu\n",
      "Epoch 21/50\n",
      "164/164 [==============================] - 29s 177ms/step - loss: 0.1259 - accuracy: 0.9668s - loss: 0.1206 - accuracy: 0. - ETA: 4s - loss: 0.1209 - accuracy: \n",
      "Epoch 22/50\n",
      "164/164 [==============================] - 29s 177ms/step - loss: 0.1070 - accuracy: 0.9683s - loss: 0.1080 - accu\n",
      "Epoch 23/50\n",
      "164/164 [==============================] - 29s 177ms/step - loss: 0.0990 - accuracy: 0.9698\n",
      "Epoch 24/50\n",
      "164/164 [==============================] - 29s 177ms/step - loss: 0.0834 - accuracy: 0.9714s\n",
      "Epoch 25/50\n",
      "164/164 [==============================] - 29s 177ms/step - loss: 0.0866 - accuracy: 0.9763s - loss:\n",
      "Epoch 26/50\n",
      "164/164 [==============================] - 29s 177ms/step - loss: 0.1010 - accuracy: 0.9718\n",
      "Epoch 27/50\n",
      "164/164 [==============================] - 29s 177ms/step - loss: 0.0802 - accuracy: 0.9767\n",
      "Epoch 28/50\n",
      "164/164 [==============================] - 29s 177ms/step - loss: 0.0832 - accuracy: 0.9760\n",
      "Epoch 29/50\n",
      "164/164 [==============================] - 29s 177ms/step - loss: 0.0691 - accuracy: 0.9805\n",
      "Epoch 30/50\n",
      "164/164 [==============================] - 29s 177ms/step - loss: 0.0946 - accuracy: 0.9721 25s - loss: 0.1129 - ac - ETA: 23s - loss: 0.09 - ETA: 11s - loss: 0.078 - ETA: 4s - loss: 0.0914 - accuracy: 0. - ETA: 4s - loss: 0.0903 -  - ETA\n",
      "Epoch 31/50\n",
      "164/164 [==============================] - 29s 177ms/step - loss: 0.0780 - accuracy: 0.9771\n",
      "Epoch 32/50\n",
      "164/164 [==============================] - 29s 177ms/step - loss: 0.0761 - accuracy: 0.9775 2\n",
      "Epoch 33/50\n",
      "164/164 [==============================] - 29s 177ms/step - loss: 0.1389 - accuracy: 0.9641\n",
      "Epoch 34/50\n",
      "164/164 [==============================] - 29s 177ms/step - loss: 0.1079 - accuracy: 0.9683\n",
      "Epoch 35/50\n",
      "164/164 [==============================] - 29s 176ms/step - loss: 0.1264 - accuracy: 0.9664s - l - ETA: 0s - loss: 0.1272 - accuracy: \n",
      "Epoch 36/50\n",
      "164/164 [==============================] - 29s 176ms/step - loss: 0.0797 - accuracy: 0.9763s - los - ETA: 6s - loss: 0.0778 - accura - ETA: 6s - loss:\n",
      "Epoch 37/50\n",
      "164/164 [==============================] - 29s 177ms/step - loss: 0.0809 - accuracy: 0.9737\n",
      "Epoch 38/50\n",
      "164/164 [==============================] - 29s 177ms/step - loss: 0.0654 - accuracy: 0.9832\n",
      "Epoch 39/50\n",
      "164/164 [==============================] - 29s 176ms/step - loss: 0.0662 - accuracy: 0.9790 25s - loss:  - ETA: 20s - loss: 0.0 - ETA: 17s - l - ETA - ETA: 3s - loss: 0 - ETA: 1s - loss: 0.0662 -  - ETA: 0s - loss: 0.0662 - accuracy: 0.97\n",
      "Epoch 40/50\n",
      "164/164 [==============================] - 29s 176ms/step - loss: 0.0534 - accuracy: 0.9836 12s - loss: 0.0639 - accuracy: - ETA: 11s - loss: 0.0616 - accuracy: 0.97 - ETA: 11s \n",
      "Epoch 41/50\n",
      "164/164 [==============================] - 29s 177ms/step - loss: 0.0512 - accuracy: 0.9866 23s - loss: 0.0573 - a - ETA: 7s - loss: 0.0592 - accuracy:  - ETA\n",
      "Epoch 42/50\n",
      "164/164 [==============================] - 29s 177ms/step - loss: 0.0923 - accuracy: 0.9786 27\n",
      "Epoch 43/50\n",
      "164/164 [==============================] - 29s 177ms/step - loss: 0.0634 - accuracy: 0.9832\n",
      "Epoch 44/50\n",
      "164/164 [==============================] - 29s 177ms/step - loss: 0.0584 - accuracy: 0.9813\n",
      "Epoch 45/50\n",
      "164/164 [==============================] - 29s 177ms/step - loss: 0.1087 - accuracy: 0.9710\n",
      "Epoch 46/50\n",
      "164/164 [==============================] - 29s 177ms/step - loss: 0.0723 - accuracy: 0.9824 19s  - ETA: 0s - loss: 0.0723 - accuracy: 0.98\n",
      "Epoch 47/50\n",
      "164/164 [==============================] - 29s 177ms/step - loss: 0.1022 - accuracy: 0.9718\n",
      "Epoch 48/50\n",
      "164/164 [==============================] - 29s 177ms/step - loss: 0.0709 - accuracy: 0.9813 24s - loss: 0.1174 - accuracy: 0 - ETA: 23s - loss - ETA: 18s - \n",
      "Epoch 49/50\n",
      "164/164 [==============================] - 29s 177ms/step - loss: 0.0562 - accuracy: 0.9844\n",
      "Epoch 50/50\n",
      "164/164 [==============================] - 29s 177ms/step - loss: 0.0501 - accuracy: 0.9859\n"
     ]
    }
   ],
   "source": [
    "history = new_model.fit(train_generator, epochs=50)#,validation_data=validation_generator)"
   ]
  },
  {
   "cell_type": "code",
   "execution_count": 48,
   "id": "11187210",
   "metadata": {},
   "outputs": [
    {
     "name": "stdout",
     "output_type": "stream",
     "text": [
      "50\n"
     ]
    },
    {
     "data": {
      "image/png": "[encoded data removed]",
      "text/plain": [
       "<Figure size 432x288 with 1 Axes>"
      ]
     },
     "metadata": {
      "needs_background": "light"
     },
     "output_type": "display_data"
    }
   ],
   "source": [
    "loss_train = history.history['loss']\n",
    "loss_val = history.history['accuracy']\n",
    "epochs = range(1,51)\n",
    "print(len(epochs))\n",
    "plt.plot(epochs, loss_train, 'g', label='Training loss')\n",
    "plt.plot(epochs, loss_val, 'b', label='validation loss')\n",
    "plt.title('Training and Validation loss')\n",
    "plt.xlabel('Epochs')\n",
    "plt.ylabel('Loss')\n",
    "plt.legend()\n",
    "plt.show()"
   ]
  },
  {
   "cell_type": "code",
   "execution_count": 49,
   "id": "38033266",
   "metadata": {},
   "outputs": [
    {
     "name": "stdout",
     "output_type": "stream",
     "text": [
      "24/24 [==============================] - 2s 72ms/step - loss: 0.0207 - accuracy: 0.9948\n"
     ]
    },
    {
     "data": {
      "text/plain": [
       "[0.020660242065787315, 0.9947506785392761]"
      ]
     },
     "execution_count": 49,
     "metadata": {},
     "output_type": "execute_result"
    }
   ],
   "source": [
    " new_model.evaluate(test_generator)"
   ]
  },
  {
   "cell_type": "code",
   "execution_count": 50,
   "id": "ef26428f",
   "metadata": {},
   "outputs": [],
   "source": [
    "predictions = new_model.predict(test_generator)"
   ]
  },
  {
   "cell_type": "code",
   "execution_count": 51,
   "id": "140846fd",
   "metadata": {},
   "outputs": [],
   "source": [
    "def process_images(n):\n",
    "  sample = test_df.filename[n]\n",
    "  #print(sample)\n",
    "  orders = test_df.category[n]\n",
    "  #print(orders)\n",
    "  image = load_img(\"test_set/\" + sample)\n",
    "  #plt.imshow(image)\n",
    "  #print(predictions[n])\n",
    "  return ord(orders), predictions[n].argmax(), image"
   ]
  },
  {
   "cell_type": "code",
   "execution_count": 52,
   "id": "75d01cc7",
   "metadata": {},
   "outputs": [
    {
     "name": "stdout",
     "output_type": "stream",
     "text": [
      "[41, 25, 194, 32, 89]\n",
      "[41, 24, 195, 33, 88]\n"
     ]
    }
   ],
   "source": [
    "s = predictions.shape\n",
    "pr = [0, 0, 0, 0, 0]\n",
    "tr = [0, 0, 0, 0, 0]\n",
    "lis = []\n",
    "for i in range(0, s[0]):\n",
    "  tr1, pr1, img = process_images(i)\n",
    "  tr1 = tr1 - 48\n",
    "  if(tr1 != pr1):\n",
    "    lis.append(img)\n",
    "    #print(pr1, tr1)\n",
    "  pr[pr1] = pr[pr1] + 1\n",
    "  tr[tr1] = tr[tr1] + 1\n",
    "print(pr)\n",
    "print(tr)"
   ]
  },
  {
   "cell_type": "code",
   "execution_count": 23,
   "id": "c3dfbb91",
   "metadata": {},
   "outputs": [
    {
     "name": "stdout",
     "output_type": "stream",
     "text": [
      "[41, 23, 196, 32, 89]\n",
      "[41, 24, 195, 33, 88]\n"
     ]
    }
   ],
   "source": [
    "s = predictions.shape\n",
    "pr = [0, 0, 0, 0, 0]\n",
    "tr = [0, 0, 0, 0, 0]\n",
    "lis = []\n",
    "for i in range(0, s[0]):\n",
    "  tr1, pr1, img = process_images(i)\n",
    "  tr1 = tr1 - 48\n",
    "  if(tr1 != pr1):\n",
    "    lis.append(img)\n",
    "    #print(pr1, tr1)\n",
    "  pr[pr1] = pr[pr1] + 1\n",
    "  tr[tr1] = tr[tr1] + 1\n",
    "print(pr)\n",
    "print(tr)"
   ]
  },
  {
   "cell_type": "code",
   "execution_count": 54,
   "id": "f8b510e5",
   "metadata": {},
   "outputs": [
    {
     "name": "stdout",
     "output_type": "stream",
     "text": [
      "Saved model to disk\n"
     ]
    }
   ],
   "source": [
    "os.chdir(r'C:\\Users\\harik\\OneDrive\\Documents\\Python\\BTP')\n",
    "model_json = new_model.to_json()\n",
    "with open(\"model_vgg19.json\", \"w\") as json_file:\n",
    "    json_file.write(model_json)\n",
    "# serialize weights to HDF5\n",
    "new_model.save_weights(\"model_vgg19.h5\")\n",
    "print(\"Saved model to disk\")"
   ]
  },
  {
   "cell_type": "code",
   "execution_count": null,
   "id": "da7a49c6",
   "metadata": {},
   "outputs": [],
   "source": []
  }
 ],
 "metadata": {
  "kernelspec": {
   "display_name": "Python 3 (ipykernel)",
   "language": "python",
   "name": "python3"
  },
  "language_info": {
   "codemirror_mode": {
    "name": "ipython",
    "version": 3
   },
   "file_extension": ".py",
   "mimetype": "text/x-python",
   "name": "python",
   "nbconvert_exporter": "python",
   "pygments_lexer": "ipython3",
   "version": "3.9.7"
  }
 },
 "nbformat": 4,
 "nbformat_minor": 5
}
