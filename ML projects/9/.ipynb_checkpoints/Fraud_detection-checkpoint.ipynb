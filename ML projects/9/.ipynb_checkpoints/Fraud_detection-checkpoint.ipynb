{
 "cells": [
  {
   "cell_type": "code",
   "execution_count": 1,
   "metadata": {
    "id": "ZnWutzihft6x"
   },
   "outputs": [],
   "source": [
    "import pandas as pd\n",
    "import numpy as np\n",
    "import keras\n",
    "import seaborn as sns\n",
    "np.random.seed(2)"
   ]
  },
  {
   "cell_type": "code",
   "execution_count": 16,
   "metadata": {
    "id": "GQdXZ1bqft7C"
   },
   "outputs": [],
   "source": [
    "data = pd.read_csv('training_set.csv', index_col = 0)"
   ]
  },
  {
   "cell_type": "markdown",
   "metadata": {
    "id": "O1YAbhwfft7L"
   },
   "source": [
    "## Data exploration"
   ]
  },
  {
   "cell_type": "code",
   "execution_count": 17,
   "metadata": {
    "colab": {
     "base_uri": "https://localhost:8080/",
     "height": 226
    },
    "id": "kDlvxRcwft7N",
    "outputId": "c0078880-5430-433f-d4c9-2e55f329d397"
   },
   "outputs": [
    {
     "data": {
      "text/html": [
       "<div>\n",
       "<style scoped>\n",
       "    .dataframe tbody tr th:only-of-type {\n",
       "        vertical-align: middle;\n",
       "    }\n",
       "\n",
       "    .dataframe tbody tr th {\n",
       "        vertical-align: top;\n",
       "    }\n",
       "\n",
       "    .dataframe thead th {\n",
       "        text-align: right;\n",
       "    }\n",
       "</style>\n",
       "<table border=\"1\" class=\"dataframe\">\n",
       "  <thead>\n",
       "    <tr style=\"text-align: right;\">\n",
       "      <th></th>\n",
       "      <th>Time</th>\n",
       "      <th>P1</th>\n",
       "      <th>P2</th>\n",
       "      <th>P3</th>\n",
       "      <th>P4</th>\n",
       "      <th>P5</th>\n",
       "      <th>P6</th>\n",
       "      <th>P7</th>\n",
       "      <th>P8</th>\n",
       "      <th>P9</th>\n",
       "      <th>...</th>\n",
       "      <th>P21</th>\n",
       "      <th>P22</th>\n",
       "      <th>P23</th>\n",
       "      <th>P24</th>\n",
       "      <th>P25</th>\n",
       "      <th>P26</th>\n",
       "      <th>P27</th>\n",
       "      <th>P28</th>\n",
       "      <th>Mud</th>\n",
       "      <th>Class</th>\n",
       "    </tr>\n",
       "  </thead>\n",
       "  <tbody>\n",
       "    <tr>\n",
       "      <th>202709</th>\n",
       "      <td>134454.0</td>\n",
       "      <td>1.997387</td>\n",
       "      <td>0.028631</td>\n",
       "      <td>-1.885047</td>\n",
       "      <td>0.341234</td>\n",
       "      <td>0.350263</td>\n",
       "      <td>-0.900297</td>\n",
       "      <td>0.119352</td>\n",
       "      <td>-0.157746</td>\n",
       "      <td>0.474746</td>\n",
       "      <td>...</td>\n",
       "      <td>0.229023</td>\n",
       "      <td>0.729647</td>\n",
       "      <td>-0.082236</td>\n",
       "      <td>-0.550494</td>\n",
       "      <td>0.227840</td>\n",
       "      <td>-0.090372</td>\n",
       "      <td>-0.012176</td>\n",
       "      <td>-0.044384</td>\n",
       "      <td>21.90</td>\n",
       "      <td>0</td>\n",
       "    </tr>\n",
       "    <tr>\n",
       "      <th>129171</th>\n",
       "      <td>78980.0</td>\n",
       "      <td>-0.851823</td>\n",
       "      <td>1.446070</td>\n",
       "      <td>0.679759</td>\n",
       "      <td>0.007973</td>\n",
       "      <td>0.617801</td>\n",
       "      <td>-1.210695</td>\n",
       "      <td>1.369637</td>\n",
       "      <td>-0.442985</td>\n",
       "      <td>-0.466060</td>\n",
       "      <td>...</td>\n",
       "      <td>0.130170</td>\n",
       "      <td>0.471780</td>\n",
       "      <td>-0.215118</td>\n",
       "      <td>0.402875</td>\n",
       "      <td>-0.109756</td>\n",
       "      <td>-0.629885</td>\n",
       "      <td>-0.725665</td>\n",
       "      <td>-0.351324</td>\n",
       "      <td>2.99</td>\n",
       "      <td>0</td>\n",
       "    </tr>\n",
       "    <tr>\n",
       "      <th>73775</th>\n",
       "      <td>55273.0</td>\n",
       "      <td>1.119963</td>\n",
       "      <td>0.546055</td>\n",
       "      <td>0.877856</td>\n",
       "      <td>2.415833</td>\n",
       "      <td>-0.282554</td>\n",
       "      <td>-0.336366</td>\n",
       "      <td>0.018747</td>\n",
       "      <td>0.042135</td>\n",
       "      <td>-0.982280</td>\n",
       "      <td>...</td>\n",
       "      <td>-0.183696</td>\n",
       "      <td>-0.662870</td>\n",
       "      <td>0.156578</td>\n",
       "      <td>0.471700</td>\n",
       "      <td>0.182968</td>\n",
       "      <td>-0.295540</td>\n",
       "      <td>-0.012185</td>\n",
       "      <td>0.020821</td>\n",
       "      <td>7.08</td>\n",
       "      <td>0</td>\n",
       "    </tr>\n",
       "    <tr>\n",
       "      <th>31569</th>\n",
       "      <td>36417.0</td>\n",
       "      <td>1.328189</td>\n",
       "      <td>-0.305950</td>\n",
       "      <td>-0.998639</td>\n",
       "      <td>-1.236795</td>\n",
       "      <td>1.733800</td>\n",
       "      <td>3.236893</td>\n",
       "      <td>-0.779472</td>\n",
       "      <td>0.830587</td>\n",
       "      <td>0.258104</td>\n",
       "      <td>...</td>\n",
       "      <td>-0.183574</td>\n",
       "      <td>-0.678249</td>\n",
       "      <td>0.056192</td>\n",
       "      <td>1.054628</td>\n",
       "      <td>0.275940</td>\n",
       "      <td>0.919345</td>\n",
       "      <td>-0.069212</td>\n",
       "      <td>0.003619</td>\n",
       "      <td>7.68</td>\n",
       "      <td>0</td>\n",
       "    </tr>\n",
       "    <tr>\n",
       "      <th>250571</th>\n",
       "      <td>154977.0</td>\n",
       "      <td>-0.618361</td>\n",
       "      <td>-0.861401</td>\n",
       "      <td>0.513524</td>\n",
       "      <td>1.677866</td>\n",
       "      <td>-0.143396</td>\n",
       "      <td>-0.510276</td>\n",
       "      <td>-1.020312</td>\n",
       "      <td>0.734283</td>\n",
       "      <td>0.980549</td>\n",
       "      <td>...</td>\n",
       "      <td>0.029121</td>\n",
       "      <td>-0.269169</td>\n",
       "      <td>0.410990</td>\n",
       "      <td>-0.091444</td>\n",
       "      <td>-0.883856</td>\n",
       "      <td>-0.863775</td>\n",
       "      <td>-0.023857</td>\n",
       "      <td>-0.293884</td>\n",
       "      <td>49.00</td>\n",
       "      <td>0</td>\n",
       "    </tr>\n",
       "  </tbody>\n",
       "</table>\n",
       "<p>5 rows × 31 columns</p>\n",
       "</div>"
      ],
      "text/plain": [
       "            Time        P1        P2        P3        P4        P5        P6  \\\n",
       "202709  134454.0  1.997387  0.028631 -1.885047  0.341234  0.350263 -0.900297   \n",
       "129171   78980.0 -0.851823  1.446070  0.679759  0.007973  0.617801 -1.210695   \n",
       "73775    55273.0  1.119963  0.546055  0.877856  2.415833 -0.282554 -0.336366   \n",
       "31569    36417.0  1.328189 -0.305950 -0.998639 -1.236795  1.733800  3.236893   \n",
       "250571  154977.0 -0.618361 -0.861401  0.513524  1.677866 -0.143396 -0.510276   \n",
       "\n",
       "              P7        P8        P9  ...       P21       P22       P23  \\\n",
       "202709  0.119352 -0.157746  0.474746  ...  0.229023  0.729647 -0.082236   \n",
       "129171  1.369637 -0.442985 -0.466060  ...  0.130170  0.471780 -0.215118   \n",
       "73775   0.018747  0.042135 -0.982280  ... -0.183696 -0.662870  0.156578   \n",
       "31569  -0.779472  0.830587  0.258104  ... -0.183574 -0.678249  0.056192   \n",
       "250571 -1.020312  0.734283  0.980549  ...  0.029121 -0.269169  0.410990   \n",
       "\n",
       "             P24       P25       P26       P27       P28    Mud  Class  \n",
       "202709 -0.550494  0.227840 -0.090372 -0.012176 -0.044384  21.90      0  \n",
       "129171  0.402875 -0.109756 -0.629885 -0.725665 -0.351324   2.99      0  \n",
       "73775   0.471700  0.182968 -0.295540 -0.012185  0.020821   7.08      0  \n",
       "31569   1.054628  0.275940  0.919345 -0.069212  0.003619   7.68      0  \n",
       "250571 -0.091444 -0.883856 -0.863775 -0.023857 -0.293884  49.00      0  \n",
       "\n",
       "[5 rows x 31 columns]"
      ]
     },
     "execution_count": 17,
     "metadata": {},
     "output_type": "execute_result"
    }
   ],
   "source": [
    "data.head()"
   ]
  },
  {
   "cell_type": "code",
   "execution_count": 25,
   "metadata": {},
   "outputs": [
    {
     "name": "stdout",
     "output_type": "stream",
     "text": [
      "-0.011607508646451247\n"
     ]
    }
   ],
   "source": [
    "from scipy.stats import pearsonr\n",
    "cor, _ = pearsonr(data['Time'], data['Class'])\n",
    "print(cor)"
   ]
  },
  {
   "cell_type": "markdown",
   "metadata": {
    "id": "hR2wQ39Mft7X"
   },
   "source": [
    "## Pre-processing"
   ]
  },
  {
   "cell_type": "code",
   "execution_count": 18,
   "metadata": {
    "id": "pJ5QMqpcft7Y"
   },
   "outputs": [],
   "source": [
    "from sklearn.preprocessing import StandardScaler\n",
    "scaler = StandardScaler()\n",
    "data['Mud'] = scaler.fit_transform(data[['Mud']])\n",
    "#data = data.drop(['Amount'],axis=1)"
   ]
  },
  {
   "cell_type": "code",
   "execution_count": 19,
   "metadata": {
    "colab": {
     "base_uri": "https://localhost:8080/",
     "height": 226
    },
    "id": "v0jzTsNaft7c",
    "outputId": "832ebd43-ce1a-47b6-ec59-520b5df3f117"
   },
   "outputs": [
    {
     "data": {
      "text/html": [
       "<div>\n",
       "<style scoped>\n",
       "    .dataframe tbody tr th:only-of-type {\n",
       "        vertical-align: middle;\n",
       "    }\n",
       "\n",
       "    .dataframe tbody tr th {\n",
       "        vertical-align: top;\n",
       "    }\n",
       "\n",
       "    .dataframe thead th {\n",
       "        text-align: right;\n",
       "    }\n",
       "</style>\n",
       "<table border=\"1\" class=\"dataframe\">\n",
       "  <thead>\n",
       "    <tr style=\"text-align: right;\">\n",
       "      <th></th>\n",
       "      <th>Time</th>\n",
       "      <th>P1</th>\n",
       "      <th>P2</th>\n",
       "      <th>P3</th>\n",
       "      <th>P4</th>\n",
       "      <th>P5</th>\n",
       "      <th>P6</th>\n",
       "      <th>P7</th>\n",
       "      <th>P8</th>\n",
       "      <th>P9</th>\n",
       "      <th>...</th>\n",
       "      <th>P21</th>\n",
       "      <th>P22</th>\n",
       "      <th>P23</th>\n",
       "      <th>P24</th>\n",
       "      <th>P25</th>\n",
       "      <th>P26</th>\n",
       "      <th>P27</th>\n",
       "      <th>P28</th>\n",
       "      <th>Mud</th>\n",
       "      <th>Class</th>\n",
       "    </tr>\n",
       "  </thead>\n",
       "  <tbody>\n",
       "    <tr>\n",
       "      <th>202709</th>\n",
       "      <td>134454.0</td>\n",
       "      <td>1.997387</td>\n",
       "      <td>0.028631</td>\n",
       "      <td>-1.885047</td>\n",
       "      <td>0.341234</td>\n",
       "      <td>0.350263</td>\n",
       "      <td>-0.900297</td>\n",
       "      <td>0.119352</td>\n",
       "      <td>-0.157746</td>\n",
       "      <td>0.474746</td>\n",
       "      <td>...</td>\n",
       "      <td>0.229023</td>\n",
       "      <td>0.729647</td>\n",
       "      <td>-0.082236</td>\n",
       "      <td>-0.550494</td>\n",
       "      <td>0.227840</td>\n",
       "      <td>-0.090372</td>\n",
       "      <td>-0.012176</td>\n",
       "      <td>-0.044384</td>\n",
       "      <td>-0.266795</td>\n",
       "      <td>0</td>\n",
       "    </tr>\n",
       "    <tr>\n",
       "      <th>129171</th>\n",
       "      <td>78980.0</td>\n",
       "      <td>-0.851823</td>\n",
       "      <td>1.446070</td>\n",
       "      <td>0.679759</td>\n",
       "      <td>0.007973</td>\n",
       "      <td>0.617801</td>\n",
       "      <td>-1.210695</td>\n",
       "      <td>1.369637</td>\n",
       "      <td>-0.442985</td>\n",
       "      <td>-0.466060</td>\n",
       "      <td>...</td>\n",
       "      <td>0.130170</td>\n",
       "      <td>0.471780</td>\n",
       "      <td>-0.215118</td>\n",
       "      <td>0.402875</td>\n",
       "      <td>-0.109756</td>\n",
       "      <td>-0.629885</td>\n",
       "      <td>-0.725665</td>\n",
       "      <td>-0.351324</td>\n",
       "      <td>-0.342633</td>\n",
       "      <td>0</td>\n",
       "    </tr>\n",
       "    <tr>\n",
       "      <th>73775</th>\n",
       "      <td>55273.0</td>\n",
       "      <td>1.119963</td>\n",
       "      <td>0.546055</td>\n",
       "      <td>0.877856</td>\n",
       "      <td>2.415833</td>\n",
       "      <td>-0.282554</td>\n",
       "      <td>-0.336366</td>\n",
       "      <td>0.018747</td>\n",
       "      <td>0.042135</td>\n",
       "      <td>-0.982280</td>\n",
       "      <td>...</td>\n",
       "      <td>-0.183696</td>\n",
       "      <td>-0.662870</td>\n",
       "      <td>0.156578</td>\n",
       "      <td>0.471700</td>\n",
       "      <td>0.182968</td>\n",
       "      <td>-0.295540</td>\n",
       "      <td>-0.012185</td>\n",
       "      <td>0.020821</td>\n",
       "      <td>-0.326231</td>\n",
       "      <td>0</td>\n",
       "    </tr>\n",
       "    <tr>\n",
       "      <th>31569</th>\n",
       "      <td>36417.0</td>\n",
       "      <td>1.328189</td>\n",
       "      <td>-0.305950</td>\n",
       "      <td>-0.998639</td>\n",
       "      <td>-1.236795</td>\n",
       "      <td>1.733800</td>\n",
       "      <td>3.236893</td>\n",
       "      <td>-0.779472</td>\n",
       "      <td>0.830587</td>\n",
       "      <td>0.258104</td>\n",
       "      <td>...</td>\n",
       "      <td>-0.183574</td>\n",
       "      <td>-0.678249</td>\n",
       "      <td>0.056192</td>\n",
       "      <td>1.054628</td>\n",
       "      <td>0.275940</td>\n",
       "      <td>0.919345</td>\n",
       "      <td>-0.069212</td>\n",
       "      <td>0.003619</td>\n",
       "      <td>-0.323824</td>\n",
       "      <td>0</td>\n",
       "    </tr>\n",
       "    <tr>\n",
       "      <th>250571</th>\n",
       "      <td>154977.0</td>\n",
       "      <td>-0.618361</td>\n",
       "      <td>-0.861401</td>\n",
       "      <td>0.513524</td>\n",
       "      <td>1.677866</td>\n",
       "      <td>-0.143396</td>\n",
       "      <td>-0.510276</td>\n",
       "      <td>-1.020312</td>\n",
       "      <td>0.734283</td>\n",
       "      <td>0.980549</td>\n",
       "      <td>...</td>\n",
       "      <td>0.029121</td>\n",
       "      <td>-0.269169</td>\n",
       "      <td>0.410990</td>\n",
       "      <td>-0.091444</td>\n",
       "      <td>-0.883856</td>\n",
       "      <td>-0.863775</td>\n",
       "      <td>-0.023857</td>\n",
       "      <td>-0.293884</td>\n",
       "      <td>-0.158111</td>\n",
       "      <td>0</td>\n",
       "    </tr>\n",
       "  </tbody>\n",
       "</table>\n",
       "<p>5 rows × 31 columns</p>\n",
       "</div>"
      ],
      "text/plain": [
       "            Time        P1        P2        P3        P4        P5        P6  \\\n",
       "202709  134454.0  1.997387  0.028631 -1.885047  0.341234  0.350263 -0.900297   \n",
       "129171   78980.0 -0.851823  1.446070  0.679759  0.007973  0.617801 -1.210695   \n",
       "73775    55273.0  1.119963  0.546055  0.877856  2.415833 -0.282554 -0.336366   \n",
       "31569    36417.0  1.328189 -0.305950 -0.998639 -1.236795  1.733800  3.236893   \n",
       "250571  154977.0 -0.618361 -0.861401  0.513524  1.677866 -0.143396 -0.510276   \n",
       "\n",
       "              P7        P8        P9  ...       P21       P22       P23  \\\n",
       "202709  0.119352 -0.157746  0.474746  ...  0.229023  0.729647 -0.082236   \n",
       "129171  1.369637 -0.442985 -0.466060  ...  0.130170  0.471780 -0.215118   \n",
       "73775   0.018747  0.042135 -0.982280  ... -0.183696 -0.662870  0.156578   \n",
       "31569  -0.779472  0.830587  0.258104  ... -0.183574 -0.678249  0.056192   \n",
       "250571 -1.020312  0.734283  0.980549  ...  0.029121 -0.269169  0.410990   \n",
       "\n",
       "             P24       P25       P26       P27       P28       Mud  Class  \n",
       "202709 -0.550494  0.227840 -0.090372 -0.012176 -0.044384 -0.266795      0  \n",
       "129171  0.402875 -0.109756 -0.629885 -0.725665 -0.351324 -0.342633      0  \n",
       "73775   0.471700  0.182968 -0.295540 -0.012185  0.020821 -0.326231      0  \n",
       "31569   1.054628  0.275940  0.919345 -0.069212  0.003619 -0.323824      0  \n",
       "250571 -0.091444 -0.883856 -0.863775 -0.023857 -0.293884 -0.158111      0  \n",
       "\n",
       "[5 rows x 31 columns]"
      ]
     },
     "execution_count": 19,
     "metadata": {},
     "output_type": "execute_result"
    }
   ],
   "source": [
    "data.head()"
   ]
  },
  {
   "cell_type": "code",
   "execution_count": 26,
   "metadata": {
    "colab": {
     "base_uri": "https://localhost:8080/",
     "height": 226
    },
    "id": "KYlDK0Abft7g",
    "outputId": "9ec8d862-27cd-4ecb-d643-6eefa9b3a930"
   },
   "outputs": [
    {
     "data": {
      "text/html": [
       "<div>\n",
       "<style scoped>\n",
       "    .dataframe tbody tr th:only-of-type {\n",
       "        vertical-align: middle;\n",
       "    }\n",
       "\n",
       "    .dataframe tbody tr th {\n",
       "        vertical-align: top;\n",
       "    }\n",
       "\n",
       "    .dataframe thead th {\n",
       "        text-align: right;\n",
       "    }\n",
       "</style>\n",
       "<table border=\"1\" class=\"dataframe\">\n",
       "  <thead>\n",
       "    <tr style=\"text-align: right;\">\n",
       "      <th></th>\n",
       "      <th>P1</th>\n",
       "      <th>P2</th>\n",
       "      <th>P3</th>\n",
       "      <th>P4</th>\n",
       "      <th>P5</th>\n",
       "      <th>P6</th>\n",
       "      <th>P7</th>\n",
       "      <th>P8</th>\n",
       "      <th>P9</th>\n",
       "      <th>P10</th>\n",
       "      <th>...</th>\n",
       "      <th>P21</th>\n",
       "      <th>P22</th>\n",
       "      <th>P23</th>\n",
       "      <th>P24</th>\n",
       "      <th>P25</th>\n",
       "      <th>P26</th>\n",
       "      <th>P27</th>\n",
       "      <th>P28</th>\n",
       "      <th>Mud</th>\n",
       "      <th>Class</th>\n",
       "    </tr>\n",
       "  </thead>\n",
       "  <tbody>\n",
       "    <tr>\n",
       "      <th>202709</th>\n",
       "      <td>1.997387</td>\n",
       "      <td>0.028631</td>\n",
       "      <td>-1.885047</td>\n",
       "      <td>0.341234</td>\n",
       "      <td>0.350263</td>\n",
       "      <td>-0.900297</td>\n",
       "      <td>0.119352</td>\n",
       "      <td>-0.157746</td>\n",
       "      <td>0.474746</td>\n",
       "      <td>-0.296228</td>\n",
       "      <td>...</td>\n",
       "      <td>0.229023</td>\n",
       "      <td>0.729647</td>\n",
       "      <td>-0.082236</td>\n",
       "      <td>-0.550494</td>\n",
       "      <td>0.227840</td>\n",
       "      <td>-0.090372</td>\n",
       "      <td>-0.012176</td>\n",
       "      <td>-0.044384</td>\n",
       "      <td>-0.266795</td>\n",
       "      <td>0</td>\n",
       "    </tr>\n",
       "    <tr>\n",
       "      <th>129171</th>\n",
       "      <td>-0.851823</td>\n",
       "      <td>1.446070</td>\n",
       "      <td>0.679759</td>\n",
       "      <td>0.007973</td>\n",
       "      <td>0.617801</td>\n",
       "      <td>-1.210695</td>\n",
       "      <td>1.369637</td>\n",
       "      <td>-0.442985</td>\n",
       "      <td>-0.466060</td>\n",
       "      <td>-0.018774</td>\n",
       "      <td>...</td>\n",
       "      <td>0.130170</td>\n",
       "      <td>0.471780</td>\n",
       "      <td>-0.215118</td>\n",
       "      <td>0.402875</td>\n",
       "      <td>-0.109756</td>\n",
       "      <td>-0.629885</td>\n",
       "      <td>-0.725665</td>\n",
       "      <td>-0.351324</td>\n",
       "      <td>-0.342633</td>\n",
       "      <td>0</td>\n",
       "    </tr>\n",
       "    <tr>\n",
       "      <th>73775</th>\n",
       "      <td>1.119963</td>\n",
       "      <td>0.546055</td>\n",
       "      <td>0.877856</td>\n",
       "      <td>2.415833</td>\n",
       "      <td>-0.282554</td>\n",
       "      <td>-0.336366</td>\n",
       "      <td>0.018747</td>\n",
       "      <td>0.042135</td>\n",
       "      <td>-0.982280</td>\n",
       "      <td>0.843286</td>\n",
       "      <td>...</td>\n",
       "      <td>-0.183696</td>\n",
       "      <td>-0.662870</td>\n",
       "      <td>0.156578</td>\n",
       "      <td>0.471700</td>\n",
       "      <td>0.182968</td>\n",
       "      <td>-0.295540</td>\n",
       "      <td>-0.012185</td>\n",
       "      <td>0.020821</td>\n",
       "      <td>-0.326231</td>\n",
       "      <td>0</td>\n",
       "    </tr>\n",
       "    <tr>\n",
       "      <th>31569</th>\n",
       "      <td>1.328189</td>\n",
       "      <td>-0.305950</td>\n",
       "      <td>-0.998639</td>\n",
       "      <td>-1.236795</td>\n",
       "      <td>1.733800</td>\n",
       "      <td>3.236893</td>\n",
       "      <td>-0.779472</td>\n",
       "      <td>0.830587</td>\n",
       "      <td>0.258104</td>\n",
       "      <td>-0.155770</td>\n",
       "      <td>...</td>\n",
       "      <td>-0.183574</td>\n",
       "      <td>-0.678249</td>\n",
       "      <td>0.056192</td>\n",
       "      <td>1.054628</td>\n",
       "      <td>0.275940</td>\n",
       "      <td>0.919345</td>\n",
       "      <td>-0.069212</td>\n",
       "      <td>0.003619</td>\n",
       "      <td>-0.323824</td>\n",
       "      <td>0</td>\n",
       "    </tr>\n",
       "    <tr>\n",
       "      <th>250571</th>\n",
       "      <td>-0.618361</td>\n",
       "      <td>-0.861401</td>\n",
       "      <td>0.513524</td>\n",
       "      <td>1.677866</td>\n",
       "      <td>-0.143396</td>\n",
       "      <td>-0.510276</td>\n",
       "      <td>-1.020312</td>\n",
       "      <td>0.734283</td>\n",
       "      <td>0.980549</td>\n",
       "      <td>-0.449475</td>\n",
       "      <td>...</td>\n",
       "      <td>0.029121</td>\n",
       "      <td>-0.269169</td>\n",
       "      <td>0.410990</td>\n",
       "      <td>-0.091444</td>\n",
       "      <td>-0.883856</td>\n",
       "      <td>-0.863775</td>\n",
       "      <td>-0.023857</td>\n",
       "      <td>-0.293884</td>\n",
       "      <td>-0.158111</td>\n",
       "      <td>0</td>\n",
       "    </tr>\n",
       "  </tbody>\n",
       "</table>\n",
       "<p>5 rows × 30 columns</p>\n",
       "</div>"
      ],
      "text/plain": [
       "              P1        P2        P3        P4        P5        P6        P7  \\\n",
       "202709  1.997387  0.028631 -1.885047  0.341234  0.350263 -0.900297  0.119352   \n",
       "129171 -0.851823  1.446070  0.679759  0.007973  0.617801 -1.210695  1.369637   \n",
       "73775   1.119963  0.546055  0.877856  2.415833 -0.282554 -0.336366  0.018747   \n",
       "31569   1.328189 -0.305950 -0.998639 -1.236795  1.733800  3.236893 -0.779472   \n",
       "250571 -0.618361 -0.861401  0.513524  1.677866 -0.143396 -0.510276 -1.020312   \n",
       "\n",
       "              P8        P9       P10  ...       P21       P22       P23  \\\n",
       "202709 -0.157746  0.474746 -0.296228  ...  0.229023  0.729647 -0.082236   \n",
       "129171 -0.442985 -0.466060 -0.018774  ...  0.130170  0.471780 -0.215118   \n",
       "73775   0.042135 -0.982280  0.843286  ... -0.183696 -0.662870  0.156578   \n",
       "31569   0.830587  0.258104 -0.155770  ... -0.183574 -0.678249  0.056192   \n",
       "250571  0.734283  0.980549 -0.449475  ...  0.029121 -0.269169  0.410990   \n",
       "\n",
       "             P24       P25       P26       P27       P28       Mud  Class  \n",
       "202709 -0.550494  0.227840 -0.090372 -0.012176 -0.044384 -0.266795      0  \n",
       "129171  0.402875 -0.109756 -0.629885 -0.725665 -0.351324 -0.342633      0  \n",
       "73775   0.471700  0.182968 -0.295540 -0.012185  0.020821 -0.326231      0  \n",
       "31569   1.054628  0.275940  0.919345 -0.069212  0.003619 -0.323824      0  \n",
       "250571 -0.091444 -0.883856 -0.863775 -0.023857 -0.293884 -0.158111      0  \n",
       "\n",
       "[5 rows x 30 columns]"
      ]
     },
     "execution_count": 26,
     "metadata": {},
     "output_type": "execute_result"
    }
   ],
   "source": [
    "data = data.drop(['Time'],axis=1)\n",
    "data.head()"
   ]
  },
  {
   "cell_type": "code",
   "execution_count": 27,
   "metadata": {
    "id": "xPIwa7bpft7l"
   },
   "outputs": [],
   "source": [
    "X = data.iloc[:, data.columns != 'Class']\n",
    "y = data.iloc[:, data.columns == 'Class']"
   ]
  },
  {
   "cell_type": "code",
   "execution_count": 28,
   "metadata": {
    "colab": {
     "base_uri": "https://localhost:8080/",
     "height": 363
    },
    "id": "x5yLHbtfft7u",
    "outputId": "ec3defc7-2b64-4136-a6ce-4c1b265ab0eb"
   },
   "outputs": [
    {
     "data": {
      "text/html": [
       "<div>\n",
       "<style scoped>\n",
       "    .dataframe tbody tr th:only-of-type {\n",
       "        vertical-align: middle;\n",
       "    }\n",
       "\n",
       "    .dataframe tbody tr th {\n",
       "        vertical-align: top;\n",
       "    }\n",
       "\n",
       "    .dataframe thead th {\n",
       "        text-align: right;\n",
       "    }\n",
       "</style>\n",
       "<table border=\"1\" class=\"dataframe\">\n",
       "  <thead>\n",
       "    <tr style=\"text-align: right;\">\n",
       "      <th></th>\n",
       "      <th>Class</th>\n",
       "    </tr>\n",
       "  </thead>\n",
       "  <tbody>\n",
       "    <tr>\n",
       "      <th>202709</th>\n",
       "      <td>0</td>\n",
       "    </tr>\n",
       "    <tr>\n",
       "      <th>129171</th>\n",
       "      <td>0</td>\n",
       "    </tr>\n",
       "    <tr>\n",
       "      <th>73775</th>\n",
       "      <td>0</td>\n",
       "    </tr>\n",
       "    <tr>\n",
       "      <th>31569</th>\n",
       "      <td>0</td>\n",
       "    </tr>\n",
       "    <tr>\n",
       "      <th>250571</th>\n",
       "      <td>0</td>\n",
       "    </tr>\n",
       "    <tr>\n",
       "      <th>101039</th>\n",
       "      <td>0</td>\n",
       "    </tr>\n",
       "    <tr>\n",
       "      <th>65697</th>\n",
       "      <td>0</td>\n",
       "    </tr>\n",
       "    <tr>\n",
       "      <th>31776</th>\n",
       "      <td>0</td>\n",
       "    </tr>\n",
       "    <tr>\n",
       "      <th>260469</th>\n",
       "      <td>0</td>\n",
       "    </tr>\n",
       "    <tr>\n",
       "      <th>11492</th>\n",
       "      <td>0</td>\n",
       "    </tr>\n",
       "  </tbody>\n",
       "</table>\n",
       "</div>"
      ],
      "text/plain": [
       "        Class\n",
       "202709      0\n",
       "129171      0\n",
       "73775       0\n",
       "31569       0\n",
       "250571      0\n",
       "101039      0\n",
       "65697       0\n",
       "31776       0\n",
       "260469      0\n",
       "11492       0"
      ]
     },
     "execution_count": 28,
     "metadata": {},
     "output_type": "execute_result"
    }
   ],
   "source": [
    "y.head(10)"
   ]
  },
  {
   "cell_type": "code",
   "execution_count": 77,
   "metadata": {
    "id": "GRp1BwzMft74"
   },
   "outputs": [],
   "source": [
    "from sklearn.model_selection import train_test_split\n",
    "X_train, X_test, y_train, y_test = train_test_split(X,y, test_size = 0.2, random_state=0)\n",
    "y_np = np.array(y)\n",
    "X_np = np.array(X)"
   ]
  },
  {
   "cell_type": "code",
   "execution_count": 78,
   "metadata": {
    "id": "pSVSZtjfft8Z"
   },
   "outputs": [],
   "source": [
    "X_train = np.array(X_train)\n",
    "X_test = np.array(X_test)\n",
    "y_train = np.array(y_train)\n",
    "y_test = np.array(y_test)"
   ]
  },
  {
   "cell_type": "code",
   "execution_count": 119,
   "metadata": {},
   "outputs": [],
   "source": [
    "def confusion_matrix(y_pred, y_np, str):\n",
    "    s = y_pred.shape\n",
    "    pred = np.zeros((2, 2))\n",
    "    lis = []\n",
    "    for i in range(1, s[0]):\n",
    "      pred[int(y_pred[i].round()), y_np[i]] = pred[int(y_pred[i].round()), y_np[i]]+1\n",
    "    pred = np.transpose(pred)\n",
    "    fig, ap = plt.subplots(figsize = (5,5))\n",
    "    ax = sns.heatmap(pred, annot=True, cmap='Blues', ax = ap, fmt = '1')\n",
    "\n",
    "    ax.set_title('Confusion Matrix ' + str +'\\n\\n');\n",
    "    ax.set_xlabel('\\nPredicted Values')\n",
    "    ax.set_ylabel('Actual Values ');\n",
    "\n",
    "    ## Ticket labels - List must be in alphabetical order\n",
    "    ax.xaxis.set_ticklabels(['\\n0', '\\n1'])\n",
    "    ax.yaxis.set_ticklabels(['0', '1'])\n",
    "    ## Display the visualization of the Confusion Matrix.\n",
    "    plt.show()"
   ]
  },
  {
   "cell_type": "markdown",
   "metadata": {
    "id": "lrG2jzcHgp-W"
   },
   "source": [
    "# Decision tree"
   ]
  },
  {
   "cell_type": "code",
   "execution_count": 85,
   "metadata": {
    "id": "W2FDc4c6gtRs"
   },
   "outputs": [],
   "source": [
    "from sklearn.tree import DecisionTreeClassifier\n",
    "decision_tree = DecisionTreeClassifier()\n",
    "decision_tree.fit(X_train,y_train.ravel())"
   ]
  },
  {
   "cell_type": "code",
   "execution_count": 94,
   "metadata": {
    "id": "xSgZB5m6g21i"
   },
   "outputs": [
    {
     "data": {
      "image/png": "[encoded data removed]",
      "text/plain": [
       "<Figure size 360x360 with 2 Axes>"
      ]
     },
     "metadata": {
      "needs_background": "light"
     },
     "output_type": "display_data"
    }
   ],
   "source": [
    "y_pred = decision_tree.predict(X_test)\n",
    "confusion_matrix(y_pred, y_test, 'for test dataset')"
   ]
  },
  {
   "cell_type": "code",
   "execution_count": 95,
   "metadata": {
    "colab": {
     "base_uri": "https://localhost:8080/"
    },
    "id": "dtXA5GLPg5Ie",
    "outputId": "edc6d46c-0049-40ca-a436-3e550b3d4b77"
   },
   "outputs": [
    {
     "name": "stdout",
     "output_type": "stream",
     "text": [
      "Test score: 0.9989685970725712\n"
     ]
    }
   ],
   "source": [
    "print('Test score:', decision_tree.score(X_test,y_test))"
   ]
  },
  {
   "cell_type": "code",
   "execution_count": 96,
   "metadata": {
    "colab": {
     "base_uri": "https://localhost:8080/"
    },
    "id": "IwMiFnMNhGEK",
    "outputId": "c645af43-0ead-457a-c195-9adb206cca8e"
   },
   "outputs": [
    {
     "name": "stderr",
     "output_type": "stream",
     "text": [
      "D:\\ProgramData\\Anaconda3\\envs\\tf_gpu2\\lib\\site-packages\\sklearn\\base.py:443: UserWarning: X has feature names, but DecisionTreeClassifier was fitted without feature names\n",
      "  warnings.warn(\n"
     ]
    },
    {
     "data": {
      "image/png": "[encoded data removed]",
      "text/plain": [
       "<Figure size 360x360 with 2 Axes>"
      ]
     },
     "metadata": {
      "needs_background": "light"
     },
     "output_type": "display_data"
    }
   ],
   "source": [
    "y_pred = decision_tree.predict(X)\n",
    "confusion_matrix(y_pred, y_np, 'for whole dataset')"
   ]
  },
  {
   "cell_type": "markdown",
   "metadata": {
    "id": "W_IS11pnhMLs"
   },
   "source": [
    "# Random Forest"
   ]
  },
  {
   "cell_type": "code",
   "execution_count": 82,
   "metadata": {
    "colab": {
     "base_uri": "https://localhost:8080/"
    },
    "id": "GAMqO5EWhU4O",
    "outputId": "ce6d757b-b12a-473c-e2e1-d5c2d75a323a"
   },
   "outputs": [
    {
     "data": {
      "text/plain": [
       "RandomForestClassifier()"
      ]
     },
     "execution_count": 82,
     "metadata": {},
     "output_type": "execute_result"
    }
   ],
   "source": [
    "from sklearn.ensemble import RandomForestClassifier\n",
    "random_forest = RandomForestClassifier(n_estimators=100)\n",
    "random_forest.fit(X_train,y_train.ravel())"
   ]
  },
  {
   "cell_type": "code",
   "execution_count": 98,
   "metadata": {
    "id": "t-oNiaHkhcWu"
   },
   "outputs": [
    {
     "data": {
      "image/png": "[encoded data removed]",
      "text/plain": [
       "<Figure size 360x360 with 2 Axes>"
      ]
     },
     "metadata": {
      "needs_background": "light"
     },
     "output_type": "display_data"
    }
   ],
   "source": [
    "y_pred = random_forest.predict(X_test)\n",
    "confusion_matrix(y_pred, y_test, 'for test dataset')"
   ]
  },
  {
   "cell_type": "code",
   "execution_count": 97,
   "metadata": {
    "colab": {
     "base_uri": "https://localhost:8080/"
    },
    "id": "5wkHdcsJhfxj",
    "outputId": "1ae568ca-45c6-484b-ae60-5eae26d9c0dc"
   },
   "outputs": [
    {
     "name": "stdout",
     "output_type": "stream",
     "text": [
      "Test score: 0.9994294366784436\n"
     ]
    }
   ],
   "source": [
    "print('Test score:', random_forest.score(X_test,y_test))"
   ]
  },
  {
   "cell_type": "code",
   "execution_count": 99,
   "metadata": {},
   "outputs": [
    {
     "name": "stderr",
     "output_type": "stream",
     "text": [
      "D:\\ProgramData\\Anaconda3\\envs\\tf_gpu2\\lib\\site-packages\\sklearn\\base.py:443: UserWarning: X has feature names, but RandomForestClassifier was fitted without feature names\n",
      "  warnings.warn(\n"
     ]
    },
    {
     "data": {
      "image/png": "[encoded data removed]",
      "text/plain": [
       "<Figure size 360x360 with 2 Axes>"
      ]
     },
     "metadata": {
      "needs_background": "light"
     },
     "output_type": "display_data"
    }
   ],
   "source": [
    "y_pred = random_forest.predict(X)\n",
    "confusion_matrix(y_pred, y_np, 'for whole dataset')"
   ]
  },
  {
   "cell_type": "markdown",
   "metadata": {
    "id": "3wulFRp2nF3i"
   },
   "source": [
    "## XGBoost"
   ]
  },
  {
   "cell_type": "code",
   "execution_count": 101,
   "metadata": {
    "colab": {
     "base_uri": "https://localhost:8080/"
    },
    "id": "dLi_fm4inEno",
    "outputId": "abb29c43-97af-4a5c-ea39-530626996fdb"
   },
   "outputs": [
    {
     "name": "stdout",
     "output_type": "stream",
     "text": [
      "[12:06:41] WARNING: C:/Users/Administrator/workspace/xgboost-win64_release_1.5.1/src/learner.cc:1115: Starting in XGBoost 1.3.0, the default evaluation metric used with the objective 'binary:logistic' was changed from 'error' to 'logloss'. Explicitly set eval_metric if you'd like to restore the old behavior.\n"
     ]
    },
    {
     "data": {
      "text/plain": [
       "XGBClassifier(base_score=0.5, booster='gbtree', colsample_bylevel=1,\n",
       "              colsample_bynode=1, colsample_bytree=1, enable_categorical=False,\n",
       "              gamma=0, gpu_id=-1, importance_type=None,\n",
       "              interaction_constraints='', learning_rate=0.300000012,\n",
       "              max_delta_step=0, max_depth=6, min_child_weight=1, missing=nan,\n",
       "              monotone_constraints='()', n_estimators=100, n_jobs=8,\n",
       "              num_parallel_tree=1, predictor='auto', random_state=0,\n",
       "              reg_alpha=0, reg_lambda=1, scale_pos_weight=1, subsample=1,\n",
       "              tree_method='exact', validate_parameters=1, verbosity=None)"
      ]
     },
     "execution_count": 101,
     "metadata": {},
     "output_type": "execute_result"
    }
   ],
   "source": [
    "from xgboost import XGBClassifier\n",
    "classifier = XGBClassifier()\n",
    "classifier.fit(X_train, y_train)"
   ]
  },
  {
   "cell_type": "code",
   "execution_count": 104,
   "metadata": {},
   "outputs": [
    {
     "data": {
      "image/png": "[encoded data removed]",
      "text/plain": [
       "<Figure size 360x360 with 2 Axes>"
      ]
     },
     "metadata": {
      "needs_background": "light"
     },
     "output_type": "display_data"
    }
   ],
   "source": [
    "y_pred = classifier.predict(X_test)\n",
    "confusion_matrix(y_pred, y_test, 'for test dataset')"
   ]
  },
  {
   "cell_type": "code",
   "execution_count": 105,
   "metadata": {},
   "outputs": [
    {
     "name": "stdout",
     "output_type": "stream",
     "text": [
      "Test score: 0.9995172156509908\n"
     ]
    }
   ],
   "source": [
    "print('Test score:', classifier.score(X_test,y_test))"
   ]
  },
  {
   "cell_type": "code",
   "execution_count": 106,
   "metadata": {},
   "outputs": [
    {
     "data": {
      "image/png": "[encoded data removed]",
      "text/plain": [
       "<Figure size 360x360 with 2 Axes>"
      ]
     },
     "metadata": {
      "needs_background": "light"
     },
     "output_type": "display_data"
    }
   ],
   "source": [
    "y_pred = classifier.predict(X)\n",
    "confusion_matrix(y_pred, y_np, 'for whole dataset')"
   ]
  },
  {
   "cell_type": "markdown",
   "metadata": {
    "id": "4oXz__H7ft8g"
   },
   "source": [
    "## Deep neural network"
   ]
  },
  {
   "cell_type": "code",
   "execution_count": 108,
   "metadata": {
    "id": "hvRb4MHfft8h"
   },
   "outputs": [],
   "source": [
    "from keras.models import Sequential\n",
    "from keras.layers import Dense\n",
    "from keras.layers import Dropout"
   ]
  },
  {
   "cell_type": "code",
   "execution_count": 109,
   "metadata": {
    "id": "ky8_BPz0ft8o"
   },
   "outputs": [],
   "source": [
    "model = Sequential([\n",
    "    Dense(units=16, input_dim = 29,activation='relu'),\n",
    "    Dense(units=24,activation='relu'),\n",
    "    Dropout(0.5),\n",
    "    Dense(20,activation='relu'),\n",
    "    Dense(24,activation='relu'),\n",
    "    Dense(1,activation='sigmoid'),\n",
    "])"
   ]
  },
  {
   "cell_type": "code",
   "execution_count": 110,
   "metadata": {
    "colab": {
     "base_uri": "https://localhost:8080/"
    },
    "id": "PnXL4K4Fft8y",
    "outputId": "bbd346d3-faae-4df3-bfde-2ae703090caf"
   },
   "outputs": [
    {
     "name": "stdout",
     "output_type": "stream",
     "text": [
      "Model: \"sequential\"\n",
      "_________________________________________________________________\n",
      "Layer (type)                 Output Shape              Param #   \n",
      "=================================================================\n",
      "dense (Dense)                (None, 16)                480       \n",
      "_________________________________________________________________\n",
      "dense_1 (Dense)              (None, 24)                408       \n",
      "_________________________________________________________________\n",
      "dropout (Dropout)            (None, 24)                0         \n",
      "_________________________________________________________________\n",
      "dense_2 (Dense)              (None, 20)                500       \n",
      "_________________________________________________________________\n",
      "dense_3 (Dense)              (None, 24)                504       \n",
      "_________________________________________________________________\n",
      "dense_4 (Dense)              (None, 1)                 25        \n",
      "=================================================================\n",
      "Total params: 1,917\n",
      "Trainable params: 1,917\n",
      "Non-trainable params: 0\n",
      "_________________________________________________________________\n"
     ]
    }
   ],
   "source": [
    "model.summary()"
   ]
  },
  {
   "cell_type": "markdown",
   "metadata": {
    "id": "I72JIXqhft84"
   },
   "source": [
    "## Training"
   ]
  },
  {
   "cell_type": "code",
   "execution_count": 111,
   "metadata": {
    "colab": {
     "base_uri": "https://localhost:8080/"
    },
    "id": "F62qa0faft86",
    "outputId": "8a05855f-6004-4299-e205-38307f2bbfd7"
   },
   "outputs": [
    {
     "name": "stdout",
     "output_type": "stream",
     "text": [
      "Epoch 1/5\n",
      "12152/12152 [==============================] - 76s 6ms/step - loss: 0.0089 - accuracy: 0.9987\n",
      "Epoch 2/5\n",
      "12152/12152 [==============================] - 67s 6ms/step - loss: 0.0040 - accuracy: 0.9994\n",
      "Epoch 3/5\n",
      "12152/12152 [==============================] - 66s 5ms/step - loss: 0.0035 - accuracy: 0.9994\n",
      "Epoch 4/5\n",
      "12152/12152 [==============================] - 69s 6ms/step - loss: 0.0032 - accuracy: 0.9994\n",
      "Epoch 5/5\n",
      "12152/12152 [==============================] - 63s 5ms/step - loss: 0.0032 - accuracy: 0.9994\n"
     ]
    },
    {
     "data": {
      "text/plain": [
       "<keras.callbacks.History at 0x1da8b6ffbe0>"
      ]
     },
     "execution_count": 111,
     "metadata": {},
     "output_type": "execute_result"
    }
   ],
   "source": [
    "model.compile(optimizer='adam',loss='binary_crossentropy',metrics=['accuracy'])\n",
    "model.fit(X_train,y_train,batch_size=15,epochs=5)"
   ]
  },
  {
   "cell_type": "code",
   "execution_count": 112,
   "metadata": {
    "colab": {
     "base_uri": "https://localhost:8080/"
    },
    "id": "y8ivmFwXft9D",
    "outputId": "8e95e4e7-0729-434a-d3dd-ec8d4d82ab22"
   },
   "outputs": [
    {
     "name": "stdout",
     "output_type": "stream",
     "text": [
      "1425/1425 [==============================] - 5s 3ms/step - loss: 0.0043 - accuracy: 0.9993\n"
     ]
    }
   ],
   "source": [
    "score = model.evaluate(X_test, y_test)"
   ]
  },
  {
   "cell_type": "code",
   "execution_count": 113,
   "metadata": {
    "colab": {
     "base_uri": "https://localhost:8080/"
    },
    "id": "X3dXAY07ft9L",
    "outputId": "2f2cc3d8-60de-4fd9-b0d8-b51189004da7"
   },
   "outputs": [
    {
     "name": "stdout",
     "output_type": "stream",
     "text": [
      "[0.00426381966099143, 0.999275803565979]\n"
     ]
    }
   ],
   "source": [
    "print(score)"
   ]
  },
  {
   "cell_type": "code",
   "execution_count": 118,
   "metadata": {},
   "outputs": [
    {
     "data": {
      "text/plain": [
       "array([[0.],\n",
       "       [0.],\n",
       "       [0.],\n",
       "       ...,\n",
       "       [0.],\n",
       "       [0.],\n",
       "       [0.]], dtype=float32)"
      ]
     },
     "execution_count": 118,
     "metadata": {},
     "output_type": "execute_result"
    }
   ],
   "source": [
    "y_pred.round()"
   ]
  },
  {
   "cell_type": "code",
   "execution_count": 120,
   "metadata": {},
   "outputs": [
    {
     "data": {
      "image/png": "[encoded data removed]",
      "text/plain": [
       "<Figure size 360x360 with 2 Axes>"
      ]
     },
     "metadata": {
      "needs_background": "light"
     },
     "output_type": "display_data"
    }
   ],
   "source": [
    "y_pred = model.predict(X_test)\n",
    "confusion_matrix(y_pred, y_test, 'for test dataset')"
   ]
  },
  {
   "cell_type": "code",
   "execution_count": 121,
   "metadata": {},
   "outputs": [
    {
     "data": {
      "image/png": "[encoded data removed]",
      "text/plain": [
       "<Figure size 360x360 with 2 Axes>"
      ]
     },
     "metadata": {
      "needs_background": "light"
     },
     "output_type": "display_data"
    }
   ],
   "source": [
    "y_pred = model.predict(X)\n",
    "confusion_matrix(y_pred, y_np, 'for whole dataset')"
   ]
  },
  {
   "cell_type": "code",
   "execution_count": null,
   "metadata": {},
   "outputs": [],
   "source": []
  }
 ],
 "metadata": {
  "colab": {
   "collapsed_sections": [
    "I72JIXqhft84",
    "N92UaPEGft96",
    "92GquoIDft_M"
   ],
   "name": "Fraud-detection.ipynb",
   "provenance": []
  },
  "kernelspec": {
   "display_name": "Python 3 (ipykernel)",
   "language": "python",
   "name": "python3"
  },
  "language_info": {
   "codemirror_mode": {
    "name": "ipython",
    "version": 3
   },
   "file_extension": ".py",
   "mimetype": "text/x-python",
   "name": "python",
   "nbconvert_exporter": "python",
   "pygments_lexer": "ipython3",
   "version": "3.9.7"
  }
 },
 "nbformat": 4,
 "nbformat_minor": 1
}
