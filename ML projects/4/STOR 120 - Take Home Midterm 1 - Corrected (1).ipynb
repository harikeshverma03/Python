{
 "cells": [
  {
   "cell_type": "markdown",
   "metadata": {
    "tags": []
   },
   "source": [
    "# STOR 120: Take Home Midterm 1\n",
    "\n",
    "60 points total\n",
    "\n",
    "**Due:** Wednesday, February 9th to Gradescope before the start of class time.\n",
    "\n",
    "    Section 001: 12:20pm\n",
    "    Section 002:  1:25pm\n",
    "  \n",
    "**Directions:** The exam is open book, notes, course materials, internet, and all things that are not direct communication with others. Just as with all course assignments, you will submit exams to Gradescope as Jupyter Notebooks with the ipynb file extension. To receive full credit, you should show all of your code used to answer each question. Make sure to view your submission in Gradescope and verify that it is the correct file and has the format that you intended it to have, including all code being shown and run.\n",
    "\n",
    "Come to office hours if you have specific questions regarding the exam. Due to the large class sizes, individual questions sent via email are not possible to answer for all students. Please refrain from posting public questions to Piazza before the exam is due.  "
   ]
  },
  {
   "cell_type": "markdown",
   "metadata": {},
   "source": [
    "**Data:** The dataset used on this exam contains an overview of the 50 most crowded airports in the world for each year from 2016 to 2020. Each row in the table is an airport in the given year with the following atttributes:\n",
    "\n",
    "Variable   | Description\n",
    "-----------|---------------------------------------------------------------\n",
    "Rank       | Airport ranking by number of passengers for given year\n",
    "Airport    | Name of the airport\n",
    "Location   | Location of the airport\n",
    "Country    | Airport Country\n",
    "IATA Code  | Three-letter code designating the airport defined by the International Air Transport Association\n",
    "ICAO Code  | Four-letter code designating the airport as defined by the International Civil Aviation Organization\n",
    "Passengers | Total number of passengers for the given year\n",
    "Year       | Year of ranking"
   ]
  },
  {
   "cell_type": "markdown",
   "metadata": {},
   "source": [
    "**Run the cell below to import the needed modules and dataset.**"
   ]
  },
  {
   "cell_type": "code",
   "execution_count": null,
   "metadata": {},
   "outputs": [],
   "source": [
    "from datascience import *\n",
    "import numpy as np\n",
    "\n",
    "%matplotlib inline\n",
    "import matplotlib.pyplot as plots\n",
    "plots.style.use('fivethirtyeight')\n",
    "\n",
    "import warnings\n",
    "warnings.simplefilter('ignore', FutureWarning)\n",
    "\n",
    "Airports = Table.read_table('Airports.csv')\n",
    "Airports"
   ]
  },
  {
   "cell_type": "markdown",
   "metadata": {},
   "source": [
    "### Question 1.1 *(4 pts)*"
   ]
  },
  {
   "cell_type": "markdown",
   "metadata": {},
   "source": [
    "What is the total number of passengers in the top 50 most crowded airports in 2020? Assign `tot_pass_2020` to this value."
   ]
  },
  {
   "cell_type": "code",
   "execution_count": null,
   "metadata": {},
   "outputs": [],
   "source": [
    "tot_pass_2020 = ...\n",
    "tot_pass_2020"
   ]
  },
  {
   "cell_type": "markdown",
   "metadata": {},
   "source": [
    "### Question 1.2 *(4 pts)*"
   ]
  },
  {
   "cell_type": "markdown",
   "metadata": {},
   "source": [
    "What are the names of the airports with the largest number of passengers in each of the years? Assign `busiest_airports` to an array containing the names of these airports (possibly with repeated names of the same airport), in descending order of their passenger totals.\n",
    "\n",
    "Note: You may see **\\xa0** in the strings for the names of the airports. This is fine and due to the encoding of the data."
   ]
  },
  {
   "cell_type": "code",
   "execution_count": null,
   "metadata": {},
   "outputs": [],
   "source": [
    "busiest_airports = ...\n",
    "busiest_airports"
   ]
  },
  {
   "cell_type": "markdown",
   "metadata": {},
   "source": [
    "### Question 1.3 *(4 pts)*"
   ]
  },
  {
   "cell_type": "markdown",
   "metadata": {},
   "source": [
    "What is the average number of passengers in the top ranked airports for each of the years? Assign this value to `busiest_airports_average`."
   ]
  },
  {
   "cell_type": "code",
   "execution_count": null,
   "metadata": {},
   "outputs": [],
   "source": [
    "busiest_airport_average = ...\n",
    "busiest_airport_average"
   ]
  },
  {
   "cell_type": "markdown",
   "metadata": {},
   "source": [
    "### Question 2.1 *(4 pts)*"
   ]
  },
  {
   "cell_type": "markdown",
   "metadata": {},
   "source": [
    "Construct a new table `Airports2` that contains each of the rows and columns of the `Airports` table and also contains a new column, `Passengers in Millions`, which is the number of passengers for each airport counted in millions of passengers.  "
   ]
  },
  {
   "cell_type": "code",
   "execution_count": null,
   "metadata": {},
   "outputs": [],
   "source": [
    "Airports2 = ...\n",
    "Airports2"
   ]
  },
  {
   "cell_type": "markdown",
   "metadata": {},
   "source": [
    "### Question 2.2 *(4 pts)*"
   ]
  },
  {
   "cell_type": "markdown",
   "metadata": {},
   "source": [
    "Use the `Airports2` table to construct a histogram for the numbers of passengers in the millions. Construct the histogram such that the bins begin at 10 million passengers, are 10 million passengers wide, and the histogram has bins containing all of the data from the airports in the table."
   ]
  },
  {
   "cell_type": "code",
   "execution_count": null,
   "metadata": {},
   "outputs": [],
   "source": []
  },
  {
   "cell_type": "markdown",
   "metadata": {},
   "source": [
    "### Question 2.3 *(2 pts)*"
   ]
  },
  {
   "cell_type": "markdown",
   "metadata": {},
   "source": [
    "From the histogram constructed in the previous question, which binning of millions of passengers has the most airports in the data? Set `most_airports_bin` to an array containging two values, the lower and upper limits of that bin."
   ]
  },
  {
   "cell_type": "code",
   "execution_count": null,
   "metadata": {},
   "outputs": [],
   "source": [
    "most_airports_bin = make_array(..., ...)\n",
    "most_airports_bin"
   ]
  },
  {
   "cell_type": "markdown",
   "metadata": {},
   "source": [
    "### Question 2.4 *(4 pts)*"
   ]
  },
  {
   "cell_type": "markdown",
   "metadata": {},
   "source": [
    "How many airports are in the bin from the previous question? Assign this value to `num_airports`. Consider each row of the data as a unique airport, even though the same airport may be shown over multiple years. You should calculate this number from the `Airports2` table and not estimate the value from the histogram."
   ]
  },
  {
   "cell_type": "code",
   "execution_count": null,
   "metadata": {},
   "outputs": [],
   "source": [
    "num_airports = ...\n",
    "num_airports"
   ]
  },
  {
   "cell_type": "markdown",
   "metadata": {},
   "source": [
    "### Question 3.1 *(8 pts)*"
   ]
  },
  {
   "cell_type": "markdown",
   "metadata": {},
   "source": [
    "Construct a bar chart showing the number of times each country appears in the top 50 airports for all years in the data. The bar chart should have the country with the highest number of airports at the top, and then the remaining countries in decreasing order."
   ]
  },
  {
   "cell_type": "code",
   "execution_count": null,
   "metadata": {},
   "outputs": [],
   "source": []
  },
  {
   "cell_type": "markdown",
   "metadata": {},
   "source": [
    "### Question 3.2 *(8 pts)*"
   ]
  },
  {
   "cell_type": "markdown",
   "metadata": {},
   "source": [
    "You should see that China and the United States have many more airports in the data than other countries. Construct a table, `US_China_tot`, using only the airports in the United States and China (over all years) that has five rows, one for each year in the data, and columns for the year (in ascending order), the total number passengers in these airports in China for each year, and the total number passengers in these airports in the United States for each year.\n",
    "\n",
    "Note: Depending on how you go about this problem, you may receive a **VisibleDeprecationWarning**. This is fine and will not impact your table."
   ]
  },
  {
   "cell_type": "code",
   "execution_count": null,
   "metadata": {},
   "outputs": [],
   "source": [
    "US_China_tot = ...\n",
    "US_China_tot"
   ]
  },
  {
   "cell_type": "markdown",
   "metadata": {},
   "source": [
    "### Question 3.3 *(4 pts)*"
   ]
  },
  {
   "cell_type": "markdown",
   "metadata": {},
   "source": [
    "Using the `US_China_tot` table from the previous question, construct an appropriate plot that shows these totals for passengers over time for each of the two countries."
   ]
  },
  {
   "cell_type": "code",
   "execution_count": null,
   "metadata": {},
   "outputs": [],
   "source": []
  },
  {
   "cell_type": "markdown",
   "metadata": {},
   "source": [
    "### Question 4.1 *(8 pts)*"
   ]
  },
  {
   "cell_type": "markdown",
   "metadata": {},
   "source": [
    "Write a function, `airport_prop` with arguments for IATA Code, country, and year for a given airport in the data (in that order). The function should return the proportion of passengers in that country's airports (from these top 50 most crowded airports) that went through the specific airport with the given IATA Code in the given year. "
   ]
  },
  {
   "cell_type": "code",
   "execution_count": null,
   "metadata": {},
   "outputs": [],
   "source": []
  },
  {
   "cell_type": "markdown",
   "metadata": {},
   "source": [
    "Run the cell below to check your function."
   ]
  },
  {
   "cell_type": "code",
   "execution_count": null,
   "metadata": {},
   "outputs": [],
   "source": [
    "airport_prop('DFW','United States', 2019)"
   ]
  },
  {
   "cell_type": "markdown",
   "metadata": {},
   "source": [
    "### Question 4.2 *(6 pts)*"
   ]
  },
  {
   "cell_type": "markdown",
   "metadata": {},
   "source": [
    "Construct a new table, `Airports_prop_2020` for just the 2020 data. It should have all of the columns of the `Airports` table as well as a new column `Passengers Proportion`, which is the proportion of passengers from a given country's airports (from these top 50 most crowded airports) that went through a given airport in 2020. You should use the apply function and your function created in the previous question to answer this question. Sort the data in the `Airports_prop_2020` table by this new `Passengers Proportion` column in ascending order."
   ]
  },
  {
   "cell_type": "code",
   "execution_count": null,
   "metadata": {},
   "outputs": [],
   "source": [
    "Airports_prop_2020 = ...\n",
    "Airports_prop_2020"
   ]
  }
 ],
 "metadata": {
  "kernelspec": {
   "display_name": "Python 3 (ipykernel)",
   "language": "python",
   "name": "python3"
  },
  "language_info": {
   "codemirror_mode": {
    "name": "ipython",
    "version": 3
   },
   "file_extension": ".py",
   "mimetype": "text/x-python",
   "name": "python",
   "nbconvert_exporter": "python",
   "pygments_lexer": "ipython3",
   "version": "3.9.7"
  }
 },
 "nbformat": 4,
 "nbformat_minor": 4
}
