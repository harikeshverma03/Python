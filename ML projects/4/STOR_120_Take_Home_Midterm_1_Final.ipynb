{
  "cells": [
    {
      "cell_type": "markdown",
      "metadata": {
        "tags": [],
        "id": "vQva_p7MctW0"
      },
      "source": [
        "# STOR 120: Take Home Midterm 1\n",
        "\n",
        "60 points total\n",
        "\n",
        "**Due:** Wednesday, February 9th to Gradescope before the start of class time.\n",
        "\n",
        "    Section 001: 12:20pm\n",
        "    Section 002:  1:25pm\n",
        "  \n",
        "**Directions:** The exam is open book, notes, course materials, internet, and all things that are not direct communication with others. Just as with all course assignments, you will submit exams to Gradescope as Jupyter Notebooks with the ipynb file extension. To receive full credit, you should show all of your code used to answer each question. Make sure to view your submission in Gradescope and verify that it is the correct file and has the format that you intended it to have, including all code being shown and run.\n",
        "\n",
        "Come to office hours if you have specific questions regarding the exam. Due to the large class sizes, individual questions sent via email are not possible to answer for all students. Please refrain from posting public questions to Piazza before the exam is due.  "
      ]
    },
    {
      "cell_type": "markdown",
      "metadata": {
        "id": "HaEmvJt7ctW5"
      },
      "source": [
        "**Data:** The dataset used on this exam contains an overview of the 50 most crowded airports in the world for each year from 2016 to 2020. Each row in the table is an airport in the given year with the following atttributes:\n",
        "\n",
        "Variable   | Description\n",
        "-----------|---------------------------------------------------------------\n",
        "Rank       | Airport ranking by number of passengers for given year\n",
        "Airport    | Name of the airport\n",
        "Location   | Location of the airport\n",
        "Country    | Airport Country\n",
        "IATA Code  | Three-letter code designating the airport defined by the International Air Transport Association\n",
        "ICAO Code  | Four-letter code designating the airport as defined by the International Civil Aviation Organization\n",
        "Passengers | Total number of passengers for the given year\n",
        "Year       | Year of ranking"
      ]
    },
    {
      "cell_type": "markdown",
      "metadata": {
        "id": "Twj7YcZwctW6"
      },
      "source": [
        "**Run the cell below to import the needed modules and dataset.**"
      ]
    },
    {
      "cell_type": "code",
      "execution_count": 163,
      "metadata": {
        "colab": {
          "base_uri": "https://localhost:8080/",
          "height": 392
        },
        "id": "byuyroductW7",
        "outputId": "144ed503-35fc-4a01-c653-58afc1b04ca8"
      },
      "outputs": [
        {
          "output_type": "execute_result",
          "data": {
            "text/html": [
              "<table border=\"1\" class=\"dataframe\">\n",
              "    <thead>\n",
              "        <tr>\n",
              "            <th>Rank</th> <th>Airport</th> <th>Location</th> <th>Country</th> <th>IATA Code</th> <th>ICAO Code</th> <th>Passengers</th> <th>Year</th>\n",
              "        </tr>\n",
              "    </thead>\n",
              "    <tbody>\n",
              "        <tr>\n",
              "            <td>1   </td> <td>China Guangzhou Baiyun International Airport                </td> <td>Baiyun-Huadu, Guangzhou, Guangdong</td> <td>China        </td> <td>CAN      </td> <td>ZGGG     </td> <td>43760427  </td> <td>2020</td>\n",
              "        </tr>\n",
              "        <tr>\n",
              "            <td>2   </td> <td>United States Hartsfield–Jackson Atlanta International A ...</td> <td>Atlanta, Georgia                  </td> <td>United States</td> <td>ATL      </td> <td>KATL     </td> <td>42918685  </td> <td>2020</td>\n",
              "        </tr>\n",
              "        <tr>\n",
              "            <td>3   </td> <td>China Chengdu Shuangliu International Airport               </td> <td>Shuangliu-Wuhou, Chengdu, Sichuan </td> <td>China        </td> <td>CTU      </td> <td>ZUUU     </td> <td>40741509  </td> <td>2020</td>\n",
              "        </tr>\n",
              "        <tr>\n",
              "            <td>4   </td> <td>United States Dallas/Fort Worth International Airport       </td> <td>Dallas-Fort Worth, Texas          </td> <td>United States</td> <td>DFW      </td> <td>KDFW     </td> <td>39364990  </td> <td>2020</td>\n",
              "        </tr>\n",
              "        <tr>\n",
              "            <td>5   </td> <td>China Shenzhen Bao'an International Airport                 </td> <td>Bao'an, Shenzhen, Guangdong       </td> <td>China        </td> <td>SZX      </td> <td>ZGSZ     </td> <td>37916059  </td> <td>2020</td>\n",
              "        </tr>\n",
              "        <tr>\n",
              "            <td>6   </td> <td>China Chongqing Jiangbei International Airport              </td> <td>Yubei, Chongqing                  </td> <td>China        </td> <td>CKG      </td> <td>ZUCK     </td> <td>34937789  </td> <td>2020</td>\n",
              "        </tr>\n",
              "        <tr>\n",
              "            <td>7   </td> <td>China Beijing Capital International Airport                 </td> <td>Chaoyang-Shunyi, Beijing          </td> <td>China        </td> <td>PEK      </td> <td>ZBAA     </td> <td>34513827  </td> <td>2020</td>\n",
              "        </tr>\n",
              "        <tr>\n",
              "            <td>8   </td> <td>United States Denver International Airport                  </td> <td>Denver, Colorado                  </td> <td>United States</td> <td>DEN      </td> <td>KDEN     </td> <td>33741129  </td> <td>2020</td>\n",
              "        </tr>\n",
              "        <tr>\n",
              "            <td>9   </td> <td>China Kunming Changshui International Airport               </td> <td>Guandu, Kunming, Yunnan           </td> <td>China        </td> <td>KMG      </td> <td>ZPPP     </td> <td>32989127  </td> <td>2020</td>\n",
              "        </tr>\n",
              "        <tr>\n",
              "            <td>10  </td> <td>China Shanghai Hongqiao International Airport               </td> <td>Changning-Minhang, Shanghai       </td> <td>China        </td> <td>SHA      </td> <td>ZSSS     </td> <td>31165641  </td> <td>2020</td>\n",
              "        </tr>\n",
              "    </tbody>\n",
              "</table>\n",
              "<p>... (240 rows omitted)</p>"
            ],
            "text/plain": [
              "Rank | Airport                                                      | Location                           | Country       | IATA Code | ICAO Code | Passengers | Year\n",
              "1    | China Guangzhou Baiyun International Airport                 | Baiyun-Huadu, Guangzhou, Guangdong | China         | CAN       | ZGGG      | 43760427   | 2020\n",
              "2    | United States Hartsfield–Jackson Atlanta International A ... | Atlanta, Georgia                   | United States | ATL       | KATL      | 42918685   | 2020\n",
              "3    | China Chengdu Shuangliu International Airport                | Shuangliu-Wuhou, Chengdu, Sichuan  | China         | CTU       | ZUUU      | 40741509   | 2020\n",
              "4    | United States Dallas/Fort Worth International Airport        | Dallas-Fort Worth, Texas           | United States | DFW       | KDFW      | 39364990   | 2020\n",
              "5    | China Shenzhen Bao'an International Airport                  | Bao'an, Shenzhen, Guangdong        | China         | SZX       | ZGSZ      | 37916059   | 2020\n",
              "6    | China Chongqing Jiangbei International Airport               | Yubei, Chongqing                   | China         | CKG       | ZUCK      | 34937789   | 2020\n",
              "7    | China Beijing Capital International Airport                  | Chaoyang-Shunyi, Beijing           | China         | PEK       | ZBAA      | 34513827   | 2020\n",
              "8    | United States Denver International Airport                   | Denver, Colorado                   | United States | DEN       | KDEN      | 33741129   | 2020\n",
              "9    | China Kunming Changshui International Airport                | Guandu, Kunming, Yunnan            | China         | KMG       | ZPPP      | 32989127   | 2020\n",
              "10   | China Shanghai Hongqiao International Airport                | Changning-Minhang, Shanghai        | China         | SHA       | ZSSS      | 31165641   | 2020\n",
              "... (240 rows omitted)"
            ]
          },
          "metadata": {},
          "execution_count": 163
        }
      ],
      "source": [
        "from datascience import *\n",
        "import numpy as np\n",
        "\n",
        "%matplotlib inline\n",
        "import matplotlib.pyplot as plots\n",
        "plots.style.use('fivethirtyeight')\n",
        "\n",
        "import warnings\n",
        "warnings.simplefilter('ignore', FutureWarning)\n",
        "\n",
        "Airports = Table.read_table('Airports.csv')\n",
        "Airports"
      ]
    },
    {
      "cell_type": "markdown",
      "metadata": {
        "id": "6JthKTkRctW9"
      },
      "source": [
        "### Question 1.1 *(4 pts)*"
      ]
    },
    {
      "cell_type": "markdown",
      "metadata": {
        "id": "pa-AFYKgctW9"
      },
      "source": [
        "What is the total number of passengers in the top 50 most crowded airports in 2020? Assign `tot_pass_2020` to this value."
      ]
    },
    {
      "cell_type": "code",
      "execution_count": 14,
      "metadata": {
        "colab": {
          "base_uri": "https://localhost:8080/"
        },
        "id": "_sb5FTZVctW9",
        "outputId": "fa743dd1-8d8d-4c59-81fb-b4ac613ff28f"
      },
      "outputs": [
        {
          "output_type": "execute_result",
          "data": {
            "text/plain": [
              "1223369322"
            ]
          },
          "metadata": {},
          "execution_count": 14
        }
      ],
      "source": [
        "#The data is given for 50 airports so choosing data for 2020\n",
        "tot_pass_2020 = sum (Airports[\"Passengers\"][Airports[\"Year\"]==2020])\n",
        "tot_pass_2020"
      ]
    },
    {
      "cell_type": "code",
      "source": [
        "Airports[\"Airport\"][Airports[\"Passengers\"] == Airports[\"Passengers\"].max()]"
      ],
      "metadata": {
        "colab": {
          "base_uri": "https://localhost:8080/"
        },
        "id": "EYBKWzT2htHj",
        "outputId": "80194819-509e-408f-9c6e-f189ae5ae8bf"
      },
      "execution_count": 38,
      "outputs": [
        {
          "output_type": "execute_result",
          "data": {
            "text/plain": [
              "array(['United States\\xa0Hartsfield–Jackson Atlanta International Airport'],\n",
              "      dtype='<U62')"
            ]
          },
          "metadata": {},
          "execution_count": 38
        }
      ]
    },
    {
      "cell_type": "markdown",
      "metadata": {
        "id": "XYrJzJB1ctW-"
      },
      "source": [
        "### Question 1.2 *(4 pts)*"
      ]
    },
    {
      "cell_type": "markdown",
      "metadata": {
        "id": "XH_R9HVDctW_"
      },
      "source": [
        "What are the names of the airports with the largest number of passengers in each of the years? Assign `busiest_airports` to an array containing the names of these airports (possibly with repeated names of the same airport), in descending order of their passenger totals.\n",
        "\n",
        "Note: You may see **\\xa0** in the strings for the names of the airports. This is fine and due to the encoding of the data."
      ]
    },
    {
      "cell_type": "code",
      "execution_count": 238,
      "metadata": {
        "colab": {
          "base_uri": "https://localhost:8080/"
        },
        "id": "W3azts4UctW_",
        "outputId": "3d761761-cc9b-406e-e6c7-2497cda14481"
      },
      "outputs": [
        {
          "output_type": "execute_result",
          "data": {
            "text/plain": [
              "array(['United States\\xa0Seattle–Tacoma International Airport',\n",
              "       'United States\\xa0Seattle–Tacoma International Airport',\n",
              "       'United States\\xa0Seattle–Tacoma International Airport',\n",
              "       'United States\\xa0Seattle–Tacoma International Airport',\n",
              "       'Vietnam\\xa0Tan Son Nhat International Airport'], dtype='<U50')"
            ]
          },
          "metadata": {},
          "execution_count": 238
        }
      ],
      "source": [
        "busiest_airports = Airports.group(\"Year\", max).sort('Passengers max', descending = True).select(\"Airport max\")['Airport max']\n",
        "busiest_airports"
      ]
    },
    {
      "cell_type": "markdown",
      "metadata": {
        "id": "OqeqKf10ctXA"
      },
      "source": [
        "### Question 1.3 *(4 pts)*"
      ]
    },
    {
      "cell_type": "markdown",
      "metadata": {
        "id": "RLv08ivhctXA"
      },
      "source": [
        "What is the average number of passengers in the top ranked airports for each of the years? Assign this value to `busiest_airports_average`."
      ]
    },
    {
      "cell_type": "code",
      "execution_count": 248,
      "metadata": {
        "colab": {
          "base_uri": "https://localhost:8080/"
        },
        "id": "dzBvMszmctXA",
        "outputId": "ce658e9e-aedc-4c1f-8195-d8cf4cf3ab85"
      },
      "outputs": [
        {
          "output_type": "execute_result",
          "data": {
            "text/plain": [
              "array([42882232., 42882232., 42882232., 42882232.,  4380000.])"
            ]
          },
          "metadata": {},
          "execution_count": 248
        }
      ],
      "source": [
        "busiest_airport_average = Airports.group(\"Airport\", sum).where('Airport', busiest_airports)['Passengers sum']/5\n",
        "busiest_airport_average"
      ]
    },
    {
      "cell_type": "markdown",
      "metadata": {
        "id": "O9WwW3t5ctXB"
      },
      "source": [
        "### Question 2.1 *(4 pts)*"
      ]
    },
    {
      "cell_type": "markdown",
      "metadata": {
        "id": "6tQmSQo8ctXB"
      },
      "source": [
        "Construct a new table `Airports2` that contains each of the rows and columns of the `Airports` table and also contains a new column, `Passengers in Millions`, which is the number of passengers for each airport counted in millions of passengers.  "
      ]
    },
    {
      "cell_type": "code",
      "execution_count": 208,
      "metadata": {
        "colab": {
          "base_uri": "https://localhost:8080/",
          "height": 478
        },
        "id": "gxmDVmSzctXB",
        "outputId": "113fae22-74f2-4dd0-9844-2dffbcd5018f"
      },
      "outputs": [
        {
          "output_type": "execute_result",
          "data": {
            "text/html": [
              "<table border=\"1\" class=\"dataframe\">\n",
              "    <thead>\n",
              "        <tr>\n",
              "            <th>Rank</th> <th>Airport</th> <th>Location</th> <th>Country</th> <th>IATA Code</th> <th>ICAO Code</th> <th>Passengers</th> <th>Year</th> <th>Passengers in millions</th>\n",
              "        </tr>\n",
              "    </thead>\n",
              "    <tbody>\n",
              "        <tr>\n",
              "            <td>1   </td> <td>China Guangzhou Baiyun International Airport                </td> <td>Baiyun-Huadu, Guangzhou, Guangdong</td> <td>China        </td> <td>CAN      </td> <td>ZGGG     </td> <td>43760427  </td> <td>2020</td> <td>43.7604               </td>\n",
              "        </tr>\n",
              "        <tr>\n",
              "            <td>2   </td> <td>United States Hartsfield–Jackson Atlanta International A ...</td> <td>Atlanta, Georgia                  </td> <td>United States</td> <td>ATL      </td> <td>KATL     </td> <td>42918685  </td> <td>2020</td> <td>42.9187               </td>\n",
              "        </tr>\n",
              "        <tr>\n",
              "            <td>3   </td> <td>China Chengdu Shuangliu International Airport               </td> <td>Shuangliu-Wuhou, Chengdu, Sichuan </td> <td>China        </td> <td>CTU      </td> <td>ZUUU     </td> <td>40741509  </td> <td>2020</td> <td>40.7415               </td>\n",
              "        </tr>\n",
              "        <tr>\n",
              "            <td>4   </td> <td>United States Dallas/Fort Worth International Airport       </td> <td>Dallas-Fort Worth, Texas          </td> <td>United States</td> <td>DFW      </td> <td>KDFW     </td> <td>39364990  </td> <td>2020</td> <td>39.365                </td>\n",
              "        </tr>\n",
              "        <tr>\n",
              "            <td>5   </td> <td>China Shenzhen Bao'an International Airport                 </td> <td>Bao'an, Shenzhen, Guangdong       </td> <td>China        </td> <td>SZX      </td> <td>ZGSZ     </td> <td>37916059  </td> <td>2020</td> <td>37.9161               </td>\n",
              "        </tr>\n",
              "        <tr>\n",
              "            <td>6   </td> <td>China Chongqing Jiangbei International Airport              </td> <td>Yubei, Chongqing                  </td> <td>China        </td> <td>CKG      </td> <td>ZUCK     </td> <td>34937789  </td> <td>2020</td> <td>34.9378               </td>\n",
              "        </tr>\n",
              "        <tr>\n",
              "            <td>7   </td> <td>China Beijing Capital International Airport                 </td> <td>Chaoyang-Shunyi, Beijing          </td> <td>China        </td> <td>PEK      </td> <td>ZBAA     </td> <td>34513827  </td> <td>2020</td> <td>34.5138               </td>\n",
              "        </tr>\n",
              "        <tr>\n",
              "            <td>8   </td> <td>United States Denver International Airport                  </td> <td>Denver, Colorado                  </td> <td>United States</td> <td>DEN      </td> <td>KDEN     </td> <td>33741129  </td> <td>2020</td> <td>33.7411               </td>\n",
              "        </tr>\n",
              "        <tr>\n",
              "            <td>9   </td> <td>China Kunming Changshui International Airport               </td> <td>Guandu, Kunming, Yunnan           </td> <td>China        </td> <td>KMG      </td> <td>ZPPP     </td> <td>32989127  </td> <td>2020</td> <td>32.9891               </td>\n",
              "        </tr>\n",
              "        <tr>\n",
              "            <td>10  </td> <td>China Shanghai Hongqiao International Airport               </td> <td>Changning-Minhang, Shanghai       </td> <td>China        </td> <td>SHA      </td> <td>ZSSS     </td> <td>31165641  </td> <td>2020</td> <td>31.1656               </td>\n",
              "        </tr>\n",
              "    </tbody>\n",
              "</table>\n",
              "<p>... (240 rows omitted)</p>"
            ],
            "text/plain": [
              "Rank | Airport                                                      | Location                           | Country       | IATA Code | ICAO Code | Passengers | Year | Passengers in millions\n",
              "1    | China Guangzhou Baiyun International Airport                 | Baiyun-Huadu, Guangzhou, Guangdong | China         | CAN       | ZGGG      | 43760427   | 2020 | 43.7604\n",
              "2    | United States Hartsfield–Jackson Atlanta International A ... | Atlanta, Georgia                   | United States | ATL       | KATL      | 42918685   | 2020 | 42.9187\n",
              "3    | China Chengdu Shuangliu International Airport                | Shuangliu-Wuhou, Chengdu, Sichuan  | China         | CTU       | ZUUU      | 40741509   | 2020 | 40.7415\n",
              "4    | United States Dallas/Fort Worth International Airport        | Dallas-Fort Worth, Texas           | United States | DFW       | KDFW      | 39364990   | 2020 | 39.365\n",
              "5    | China Shenzhen Bao'an International Airport                  | Bao'an, Shenzhen, Guangdong        | China         | SZX       | ZGSZ      | 37916059   | 2020 | 37.9161\n",
              "6    | China Chongqing Jiangbei International Airport               | Yubei, Chongqing                   | China         | CKG       | ZUCK      | 34937789   | 2020 | 34.9378\n",
              "7    | China Beijing Capital International Airport                  | Chaoyang-Shunyi, Beijing           | China         | PEK       | ZBAA      | 34513827   | 2020 | 34.5138\n",
              "8    | United States Denver International Airport                   | Denver, Colorado                   | United States | DEN       | KDEN      | 33741129   | 2020 | 33.7411\n",
              "9    | China Kunming Changshui International Airport                | Guandu, Kunming, Yunnan            | China         | KMG       | ZPPP      | 32989127   | 2020 | 32.9891\n",
              "10   | China Shanghai Hongqiao International Airport                | Changning-Minhang, Shanghai        | China         | SHA       | ZSSS      | 31165641   | 2020 | 31.1656\n",
              "... (240 rows omitted)"
            ]
          },
          "metadata": {},
          "execution_count": 208
        }
      ],
      "source": [
        "Airports2 = Airports.copy()\n",
        "Airports2[\"Passengers in millions\"] = Airports2[\"Passengers\"]/1000000\n",
        "Airports2"
      ]
    },
    {
      "cell_type": "markdown",
      "metadata": {
        "id": "NXcVehKlctXC"
      },
      "source": [
        "### Question 2.2 *(4 pts)*"
      ]
    },
    {
      "cell_type": "markdown",
      "metadata": {
        "id": "827UL0s6ctXC"
      },
      "source": [
        "Use the `Airports2` table to construct a histogram for the numbers of passengers in the millions. Construct the histogram such that the bins begin at 10 million passengers, are 10 million passengers wide, and the histogram has bins containing all of the data from the airports in the table."
      ]
    },
    {
      "cell_type": "code",
      "execution_count": 47,
      "metadata": {
        "colab": {
          "base_uri": "https://localhost:8080/",
          "height": 301
        },
        "id": "JXo4TexzctXC",
        "outputId": "3aca869f-2b3b-41d5-cfd0-691be468be9f"
      },
      "outputs": [
        {
          "output_type": "display_data",
          "data": {
            "image/png": "[encoded data removed]",
            "text/plain": [
              "<Figure size 432x288 with 1 Axes>"
            ]
          },
          "metadata": {}
        }
      ],
      "source": [
        "Airports2.hist('Passengers in millions', bins = 20)"
      ]
    },
    {
      "cell_type": "markdown",
      "metadata": {
        "id": "hK8C2zmectXD"
      },
      "source": [
        "### Question 2.3 *(2 pts)*"
      ]
    },
    {
      "cell_type": "markdown",
      "metadata": {
        "id": "3fKP0lSEctXD"
      },
      "source": [
        "From the histogram constructed in the previous question, which binning of millions of passengers has the most airports in the data? Set `most_airports_bin` to an array containging two values, the lower and upper limits of that bin."
      ]
    },
    {
      "cell_type": "code",
      "execution_count": 48,
      "metadata": {
        "colab": {
          "base_uri": "https://localhost:8080/"
        },
        "id": "MbYXpSB_ctXD",
        "outputId": "5fbddbb8-bb15-4b37-c50d-047e391478bb"
      },
      "outputs": [
        {
          "output_type": "execute_result",
          "data": {
            "text/plain": [
              "array([45, 50])"
            ]
          },
          "metadata": {},
          "execution_count": 48
        }
      ],
      "source": [
        "most_airports_bin = make_array(45, 50)\n",
        "most_airports_bin"
      ]
    },
    {
      "cell_type": "markdown",
      "metadata": {
        "id": "CT8E8hpqctXD"
      },
      "source": [
        "### Question 2.4 *(4 pts)*"
      ]
    },
    {
      "cell_type": "markdown",
      "metadata": {
        "id": "gvv92bzTctXD"
      },
      "source": [
        "How many airports are in the bin from the previous question? Assign this value to `num_airports`. Consider each row of the data as a unique airport, even though the same airport may be shown over multiple years. You should calculate this number from the `Airports2` table and not estimate the value from the histogram."
      ]
    },
    {
      "cell_type": "code",
      "execution_count": 62,
      "metadata": {
        "colab": {
          "base_uri": "https://localhost:8080/"
        },
        "id": "x3DdhRBLctXE",
        "outputId": "a07a810f-adbd-483d-8c9f-cdf3fe7748be"
      },
      "outputs": [
        {
          "output_type": "execute_result",
          "data": {
            "text/plain": [
              "39"
            ]
          },
          "metadata": {},
          "execution_count": 62
        }
      ],
      "source": [
        "num_airports = len(Airports2[\"Airport\"][(Airports2[\"Passengers in millions\"] >= 45) & (Airports2[\"Passengers in millions\"] <= 50)])\n",
        "num_airports"
      ]
    },
    {
      "cell_type": "markdown",
      "metadata": {
        "id": "AhzrUb_JctXE"
      },
      "source": [
        "### Question 3.1 *(8 pts)*"
      ]
    },
    {
      "cell_type": "markdown",
      "metadata": {
        "id": "cK1IjYJTctXE"
      },
      "source": [
        "Construct a bar chart showing the number of times each country appears in the top 50 airports for all years in the data. The bar chart should have the country with the highest number of airports at the top, and then the remaining countries in decreasing order."
      ]
    },
    {
      "cell_type": "code",
      "execution_count": 131,
      "metadata": {
        "colab": {
          "base_uri": "https://localhost:8080/",
          "height": 650
        },
        "id": "-iTIpxkTctXE",
        "outputId": "a4fed977-6022-41a1-f8fa-9ef2a92717b7"
      },
      "outputs": [
        {
          "output_type": "execute_result",
          "data": {
            "text/plain": [
              "<BarContainer object of 29 artists>"
            ]
          },
          "metadata": {},
          "execution_count": 131
        },
        {
          "output_type": "display_data",
          "data": {
            "image/png": "[encoded data removed]",
            "text/plain": [
              "<Figure size 504x720 with 1 Axes>"
            ]
          },
          "metadata": {}
        }
      ],
      "source": [
        "Count, unique_counts = np.unique(Airports[\"Country\"], return_counts=True)\n",
        "fig = plots.figure(figsize=(7, 10))\n",
        "import pandas as pd\n",
        "df = pd.DataFrame({'Name':Count,'Frequency':unique_counts})\n",
        "df = df.sort_values('Frequency')\n",
        "plots.barh(df['Name'], df['Frequency'])"
      ]
    },
    {
      "cell_type": "markdown",
      "metadata": {
        "id": "xyklb8nOctXE"
      },
      "source": [
        "### Question 3.2 *(8 pts)*"
      ]
    },
    {
      "cell_type": "markdown",
      "metadata": {
        "id": "Gv5zYnd6ctXE"
      },
      "source": [
        "You should see that China and the United States have many more airports in the data than other countries. Construct a table, `US_China_tot`, using only the airports in the United States and China (over all years) that has five rows, one for each year in the data, and columns for the year (in ascending order), the total number passengers in these airports in China for each year, and the total number passengers in these airports in the United States for each year.\n",
        "\n",
        "Note: Depending on how you go about this problem, you may receive a **VisibleDeprecationWarning**. This is fine and will not impact your table."
      ]
    },
    {
      "cell_type": "code",
      "execution_count": 224,
      "metadata": {
        "colab": {
          "base_uri": "https://localhost:8080/",
          "height": 206
        },
        "id": "r_pK8w0ActXF",
        "outputId": "d2604cf0-e1bc-4a75-8607-0ce9a8811f37"
      },
      "outputs": [
        {
          "output_type": "execute_result",
          "data": {
            "text/html": [
              "<table border=\"1\" class=\"dataframe\">\n",
              "    <thead>\n",
              "        <tr>\n",
              "            <th>Year</th> <th>Passengers sum</th> <th>Passengers sum_2</th>\n",
              "        </tr>\n",
              "    </thead>\n",
              "    <tbody>\n",
              "        <tr>\n",
              "            <td>2016</td> <td>886062548     </td> <td>390582892       </td>\n",
              "        </tr>\n",
              "        <tr>\n",
              "            <td>2017</td> <td>869980194     </td> <td>455506455       </td>\n",
              "        </tr>\n",
              "        <tr>\n",
              "            <td>2018</td> <td>904921387     </td> <td>482556514       </td>\n",
              "        </tr>\n",
              "        <tr>\n",
              "            <td>2019</td> <td>934865503     </td> <td>544055234       </td>\n",
              "        </tr>\n",
              "        <tr>\n",
              "            <td>2020</td> <td>368767320     </td> <td>472211986       </td>\n",
              "        </tr>\n",
              "    </tbody>\n",
              "</table>"
            ],
            "text/plain": [
              "Year | Passengers sum | Passengers sum_2\n",
              "2016 | 886062548      | 390582892\n",
              "2017 | 869980194      | 455506455\n",
              "2018 | 904921387      | 482556514\n",
              "2019 | 934865503      | 544055234\n",
              "2020 | 368767320      | 472211986"
            ]
          },
          "metadata": {},
          "execution_count": 224
        }
      ],
      "source": [
        "US_China_tot = Airports.where('Country', are.equal_to('United States')).select(\"Country\", \"Passengers\", \"Year\").group('Year', sum).join('Year',Airports.where('Country', are.equal_to('China')).select(\"Country\", \"Passengers\", \"Year\").group('Year', sum)).drop('Country sum', 'Country sum_2')\n",
        "US_China_tot"
      ]
    },
    {
      "cell_type": "markdown",
      "metadata": {
        "id": "YGM8PGCbctXF"
      },
      "source": [
        "### Question 3.3 *(4 pts)*"
      ]
    },
    {
      "cell_type": "markdown",
      "metadata": {
        "id": "Rv8Z5iFoctXF"
      },
      "source": [
        "Using the `US_China_tot` table from the previous question, construct an appropriate plot that shows these totals for passengers over time for each of the two countries."
      ]
    },
    {
      "cell_type": "code",
      "execution_count": 225,
      "metadata": {
        "colab": {
          "base_uri": "https://localhost:8080/",
          "height": 296
        },
        "id": "t7rnPIaJctXF",
        "outputId": "f47e9aa6-4756-4104-b566-9e1e5c5f3641"
      },
      "outputs": [
        {
          "output_type": "display_data",
          "data": {
            "image/png": "[encoded data removed]",
            "text/plain": [
              "<Figure size 432x288 with 1 Axes>"
            ]
          },
          "metadata": {}
        }
      ],
      "source": [
        "plots.plot(US_China_tot['Year'], US_China_tot['Passengers sum'], label = \"United States\")\n",
        "plots.plot(US_China_tot['Year'], US_China_tot['Passengers sum_2'], label = \"China\")\n",
        "plots.legend()\n",
        "plots.show()"
      ]
    },
    {
      "cell_type": "markdown",
      "metadata": {
        "id": "MCnvFQxQctXF"
      },
      "source": [
        "### Question 4.1 *(8 pts)*"
      ]
    },
    {
      "cell_type": "markdown",
      "metadata": {
        "id": "_CS9e7E4ctXF"
      },
      "source": [
        "Write a function, `airport_prop` with arguments for IATA Code, country, and year for a given airport in the data (in that order). The function should return the proportion of passengers in that country's airports (from these top 50 most crowded airports) that went through the specific airport with the given IATA Code in the given year. "
      ]
    },
    {
      "cell_type": "code",
      "execution_count": 200,
      "metadata": {
        "id": "PmsBzZeIctXF"
      },
      "outputs": [],
      "source": [
        "def airport_prop(IATA_Code, Country, Year):\n",
        "  #Total Number of passengers in the country's airport\n",
        "  Country_pass = sum(Airports[\"Passengers\"][(Airports[\"Country\"] == Country) & (Airports[\"Year\"] == Year)])\n",
        "  #Passengers that went through specific airport\n",
        "  Airport_pass = Airports[\"Passengers\"][(Airports[\"IATA Code\"] == IATA_Code) & (Airports[\"Year\"] == Year)]\n",
        "  return (float)(Airport_pass / Country_pass)"
      ]
    },
    {
      "cell_type": "markdown",
      "metadata": {
        "id": "mXcFBs5hctXG"
      },
      "source": [
        "Run the cell below to check your function."
      ]
    },
    {
      "cell_type": "code",
      "execution_count": 201,
      "metadata": {
        "colab": {
          "base_uri": "https://localhost:8080/"
        },
        "id": "fmOSthxbctXG",
        "outputId": "b78b47cd-362f-4db4-a834-cbd3860aa348"
      },
      "outputs": [
        {
          "output_type": "execute_result",
          "data": {
            "text/plain": [
              "0.08029706493512576"
            ]
          },
          "metadata": {},
          "execution_count": 201
        }
      ],
      "source": [
        "airport_prop('DFW','United States', 2019)"
      ]
    },
    {
      "cell_type": "markdown",
      "metadata": {
        "id": "oJ-j4HZ1ctXG"
      },
      "source": [
        "### Question 4.2 *(6 pts)*"
      ]
    },
    {
      "cell_type": "markdown",
      "metadata": {
        "id": "u67-nl3JctXG"
      },
      "source": [
        "Construct a new table, `Airports_prop_2020` for just the 2020 data. It should have all of the columns of the `Airports` table as well as a new column `Passengers Proportion`, which is the proportion of passengers from a given country's airports (from these top 50 most crowded airports) that went through a given airport in 2020. You should use the apply function and your function created in the previous question to answer this question. Sort the data in the `Airports_prop_2020` table by this new `Passengers Proportion` column in ascending order."
      ]
    },
    {
      "cell_type": "code",
      "source": [
        "Airports_prop_2020 = Airports.copy()\n",
        "Airports_prop_2020.append_column('Passengers Proportion', Airports.apply(airport_prop, 'IATA Code', 'Country', 'Year'))\n",
        "Airports_prop_2020 = Airports_prop_2020.sort(\"Passengers Proportion\", descending = True)\n",
        "Airports_prop_2020"
      ],
      "metadata": {
        "colab": {
          "base_uri": "https://localhost:8080/",
          "height": 1000
        },
        "id": "soIGTbUL8FE7",
        "outputId": "5de0e080-b102-4f8c-cb2b-fc355e92f1cb"
      },
      "execution_count": 202,
      "outputs": [
        {
          "output_type": "display_data",
          "data": {
            "text/html": [
              "<table border=\"1\" class=\"dataframe\">\n",
              "    <thead>\n",
              "        <tr>\n",
              "            <th>Rank</th> <th>Airport</th> <th>Location</th> <th>Country</th> <th>IATA Code</th> <th>ICAO Code</th> <th>Passengers</th> <th>Year</th> <th>Passengers Proportion</th>\n",
              "        </tr>\n",
              "    </thead>\n",
              "    <tbody>\n",
              "        <tr>\n",
              "            <td>50  </td> <td>Qatar Hamad International Airport                           </td> <td>Doha                                  </td> <td>Qatar               </td> <td>DOH      </td> <td>OTHH     </td> <td>37283987  </td> <td>2016</td> <td>1                    </td>\n",
              "        </tr>\n",
              "        <tr>\n",
              "            <td>47  </td> <td>Philippines Ninoy Aquino International Airport              </td> <td>Pasay/Parañaque, Metro Manila         </td> <td>Philippines         </td> <td>MNL      </td> <td>RPLL     </td> <td>39534991  </td> <td>2016</td> <td>1                    </td>\n",
              "        </tr>\n",
              "        <tr>\n",
              "            <td>44  </td> <td>Mexico Mexico City International Airport                    </td> <td>Venustiano Carranza, Mexico City      </td> <td>Mexico              </td> <td>MEX      </td> <td>MMMX     </td> <td>41410254  </td> <td>2016</td> <td>1                    </td>\n",
              "        </tr>\n",
              "        <tr>\n",
              "            <td>42  </td> <td>Italy Rome–Fiumicino International Airport \"Leonardo da  ...</td> <td>Rome-Fiumicino, Lazio                 </td> <td>Italy               </td> <td>FCO      </td> <td>LIRF     </td> <td>41738662  </td> <td>2016</td> <td>1                    </td>\n",
              "        </tr>\n",
              "        <tr>\n",
              "            <td>38  </td> <td>Australia Sydney Kingsford-Smith Airport                    </td> <td>Mascot, Sydney, New South Wales       </td> <td>Australia           </td> <td>SYD      </td> <td>YSSY     </td> <td>41985810  </td> <td>2016</td> <td>1                    </td>\n",
              "        </tr>\n",
              "        <tr>\n",
              "            <td>36  </td> <td>Taiwan Taiwan Taoyuan International Airport                 </td> <td>Dayuan, Taoyuan                       </td> <td>Taiwan              </td> <td>TPE      </td> <td>RCTP     </td> <td>42296322  </td> <td>2016</td> <td>1                    </td>\n",
              "        </tr>\n",
              "        <tr>\n",
              "            <td>32  </td> <td>Canada Toronto Pearson International Airport                </td> <td>Mississauga, Ontario                  </td> <td>Canada              </td> <td>YYZ      </td> <td>CYYZ     </td> <td>44335198  </td> <td>2016</td> <td>1                    </td>\n",
              "        </tr>\n",
              "        <tr>\n",
              "            <td>24  </td> <td>Malaysia Kuala Lumpur International Airport                 </td> <td>Sepang, Selangor                      </td> <td>Malaysia            </td> <td>KUL      </td> <td>WMKK     </td> <td>52640043  </td> <td>2016</td> <td>1                    </td>\n",
              "        </tr>\n",
              "        <tr>\n",
              "            <td>22  </td> <td>Indonesia Soekarno–Hatta International Airport              </td> <td>Benda, Tangerang, Banten              </td> <td>Indonesia           </td> <td>CGK      </td> <td>WIII     </td> <td>54969536  </td> <td>2016</td> <td>1                    </td>\n",
              "        </tr>\n",
              "        <tr>\n",
              "            <td>20  </td> <td>Thailand Suvarnabhumi Airport                               </td> <td>Bang Phli, Samut Prakan               </td> <td>Thailand            </td> <td>BKK      </td> <td>VTBS     </td> <td>55892428  </td> <td>2016</td> <td>1                    </td>\n",
              "        </tr>\n",
              "        <tr>\n",
              "            <td>19  </td> <td>South Korea Seoul Incheon International Airport             </td> <td>Incheon                               </td> <td>Republic of Korea   </td> <td>ICN      </td> <td>RKSI     </td> <td>57849814  </td> <td>2016</td> <td>1                    </td>\n",
              "        </tr>\n",
              "        <tr>\n",
              "            <td>17  </td> <td>Singapore Singapore Changi Airport                          </td> <td>Changi, East Region                   </td> <td>Singapore           </td> <td>SIN      </td> <td>WSSS     </td> <td>58698000  </td> <td>2016</td> <td>1                    </td>\n",
              "        </tr>\n",
              "        <tr>\n",
              "            <td>14  </td> <td>Turkey Istanbul Atatürk Airport                             </td> <td>Yeşilköy, Istanbul                    </td> <td>Turkey              </td> <td>IST      </td> <td>LTBA     </td> <td>60248741  </td> <td>2016</td> <td>1                    </td>\n",
              "        </tr>\n",
              "        <tr>\n",
              "            <td>12  </td> <td>Netherlands Amsterdam Airport Schiphol                      </td> <td>Haarlemmermeer, North Holland         </td> <td>The Netherlands     </td> <td>AMS      </td> <td>EHAM     </td> <td>63625534  </td> <td>2016</td> <td>1                    </td>\n",
              "        </tr>\n",
              "        <tr>\n",
              "            <td>10  </td> <td>France Charles de Gaulle Airport                            </td> <td>Roissy-en-France, Île-de-France       </td> <td>France              </td> <td>CDG      </td> <td>LFPG     </td> <td>65933145  </td> <td>2016</td> <td>1                    </td>\n",
              "        </tr>\n",
              "        <tr>\n",
              "            <td>8   </td> <td>Hong Kong Hong Kong International Airport                   </td> <td>Chek Lap Kok, Islands, New Territories</td> <td>Hong Kong SAR, China</td> <td>HKG      </td> <td>VHHH     </td> <td>70314462  </td> <td>2016</td> <td>1                    </td>\n",
              "        </tr>\n",
              "        <tr>\n",
              "            <td>3   </td> <td>United Arab Emirates Dubai International Airport            </td> <td>Garhoud, Dubai                        </td> <td>United Arab Emirates</td> <td>DXB      </td> <td>OMDB     </td> <td>83654250  </td> <td>2016</td> <td>1                    </td>\n",
              "        </tr>\n",
              "        <tr>\n",
              "            <td>50  </td> <td>Russia Sheremetyevo International Airport                   </td> <td>Khimki, Moscow Oblast                 </td> <td>Russia              </td> <td>SVO      </td> <td>UUEE     </td> <td>40092806  </td> <td>2017</td> <td>1                    </td>\n",
              "        </tr>\n",
              "        <tr>\n",
              "            <td>47  </td> <td>Italy Rome–Fiumicino International Airport \"Leonardo da  ...</td> <td>Rome-Fiumicino, Lazio                 </td> <td>Italy               </td> <td>FCO      </td> <td>LIRF     </td> <td>40968756  </td> <td>2017</td> <td>1                    </td>\n",
              "        </tr>\n",
              "        <tr>\n",
              "            <td>44  </td> <td>Philippines Ninoy Aquino International Airport              </td> <td>Pasay/Parañaque, Metro Manila         </td> <td>Philippines         </td> <td>MNL      </td> <td>RPLL     </td> <td>42022484  </td> <td>2017</td> <td>1                    </td>\n",
              "        </tr>\n",
              "        <tr>\n",
              "            <td>42  </td> <td>Australia Sydney Kingsford-Smith Airport                    </td> <td>Mascot, Sydney, New South Wales       </td> <td>Australia           </td> <td>SYD      </td> <td>YSSY     </td> <td>43410355  </td> <td>2017</td> <td>1                    </td>\n",
              "        </tr>\n",
              "        <tr>\n",
              "            <td>36  </td> <td>Mexico Mexico City International Airport                    </td> <td>Venustiano Carranza, Mexico City      </td> <td>Mexico              </td> <td>MEX      </td> <td>MMMX     </td> <td>44732418  </td> <td>2017</td> <td>1                    </td>\n",
              "        </tr>\n",
              "        <tr>\n",
              "            <td>35  </td> <td>Taiwan Taiwan Taoyuan International Airport                 </td> <td>Dayuan, Taoyuan                       </td> <td>Taiwan              </td> <td>TPE      </td> <td>RCTP     </td> <td>44878703  </td> <td>2017</td> <td>1                    </td>\n",
              "        </tr>\n",
              "        <tr>\n",
              "            <td>30  </td> <td>Canada Toronto Pearson International Airport                </td> <td>Mississauga, Ontario                  </td> <td>Canada              </td> <td>YYZ      </td> <td>CYYZ     </td> <td>47054696  </td> <td>2017</td> <td>1                    </td>\n",
              "        </tr>\n",
              "        <tr>\n",
              "            <td>23  </td> <td>Malaysia Kuala Lumpur International Airport                 </td> <td>Sepang, Selangor                      </td> <td>Malaysia            </td> <td>KUL      </td> <td>WMKK     </td> <td>58558440  </td> <td>2017</td> <td>1                    </td>\n",
              "        </tr>\n",
              "        <tr>\n",
              "            <td>21  </td> <td>Thailand Suvarnabhumi Airport                               </td> <td>Bang Phli, Samut Prakan               </td> <td>Thailand            </td> <td>BKK      </td> <td>VTBS     </td> <td>60860557  </td> <td>2017</td> <td>1                    </td>\n",
              "        </tr>\n",
              "        <tr>\n",
              "            <td>19  </td> <td>South Korea Seoul Incheon International Airport             </td> <td>Incheon                               </td> <td>Republic of Korea   </td> <td>ICN      </td> <td>RKSI     </td> <td>62157834  </td> <td>2017</td> <td>1                    </td>\n",
              "        </tr>\n",
              "        <tr>\n",
              "            <td>18  </td> <td>Singapore Singapore Changi Airport                          </td> <td>Changi, East Region                   </td> <td>Singapore           </td> <td>SIN      </td> <td>WSSS     </td> <td>62220000  </td> <td>2017</td> <td>1                    </td>\n",
              "        </tr>\n",
              "        <tr>\n",
              "            <td>17  </td> <td>Indonesia Soekarno-Hatta International Airport              </td> <td>Tangerang, Banten                     </td> <td>Indonesia           </td> <td>CGK      </td> <td>WIII     </td> <td>63015620  </td> <td>2017</td> <td>1                    </td>\n",
              "        </tr>\n",
              "        <tr>\n",
              "            <td>15  </td> <td>Turkey Istanbul Atatürk Airport                             </td> <td>Yeşilköy, Istanbul                    </td> <td>Turkey              </td> <td>IST      </td> <td>LTBA     </td> <td>63859785  </td> <td>2017</td> <td>1                    </td>\n",
              "        </tr>\n",
              "        <tr>\n",
              "            <td>11  </td> <td>Netherlands Amsterdam Airport Schiphol                      </td> <td>Haarlemmermeer, North Holland         </td> <td>The Netherlands     </td> <td>AMS      </td> <td>EHAM     </td> <td>68515425  </td> <td>2017</td> <td>1                    </td>\n",
              "        </tr>\n",
              "        <tr>\n",
              "            <td>10  </td> <td>France Charles de Gaulle Airport                            </td> <td>Roissy-en-France, Île-de-France       </td> <td>France              </td> <td>CDG      </td> <td>LFPG     </td> <td>69471442  </td> <td>2017</td> <td>1                    </td>\n",
              "        </tr>\n",
              "        <tr>\n",
              "            <td>8   </td> <td>Hong Kong Hong Kong International Airport                   </td> <td>Chek Lap Kok, Islands, New Territories</td> <td>Hong Kong SAR, China</td> <td>HKG      </td> <td>VHHH     </td> <td>72665078  </td> <td>2017</td> <td>1                    </td>\n",
              "        </tr>\n",
              "        <tr>\n",
              "            <td>3   </td> <td>United Arab Emirates Dubai International Airport            </td> <td>Garhoud, Dubai                        </td> <td>United Arab Emirates</td> <td>DXB      </td> <td>OMDB     </td> <td>88242099  </td> <td>2017</td> <td>1                    </td>\n",
              "        </tr>\n",
              "        <tr>\n",
              "            <td>49  </td> <td>Italy Rome–Fiumicino International Airport \"Leonardo da  ...</td> <td>Rome-Fiumicino, Lazio                 </td> <td>Italy               </td> <td>FCO      </td> <td>LIRF     </td> <td>42991056  </td> <td>2018</td> <td>1                    </td>\n",
              "        </tr>\n",
              "        <tr>\n",
              "            <td>46  </td> <td>Australia Sydney Kingsford-Smith Airport                    </td> <td>Mascot, New South Wales               </td> <td>Australia           </td> <td>SYD      </td> <td>YSSY     </td> <td>44475976  </td> <td>2018</td> <td>1                    </td>\n",
              "        </tr>\n",
              "        <tr>\n",
              "            <td>45  </td> <td>Philippines Ninoy Aquino International Airport              </td> <td>Pasay/Parañaque, Metro Manila         </td> <td>Philippines         </td> <td>MNL      </td> <td>RPLL     </td> <td>44488321  </td> <td>2018</td> <td>1                    </td>\n",
              "        </tr>\n",
              "        <tr>\n",
              "            <td>41  </td> <td>Russia Sheremetyevo International Airport                   </td> <td>Khimki, Moscow Oblast                 </td> <td>Russia              </td> <td>SVO      </td> <td>UUEE     </td> <td>45836255  </td> <td>2018</td> <td>1                    </td>\n",
              "        </tr>\n",
              "        <tr>\n",
              "            <td>36  </td> <td>Taiwan Taiwan Taoyuan International Airport                 </td> <td>Dayuan, Taoyuan                       </td> <td>Taiwan              </td> <td>TPE      </td> <td>RCTP     </td> <td>46535180  </td> <td>2018</td> <td>1                    </td>\n",
              "        </tr>\n",
              "        <tr>\n",
              "            <td>33  </td> <td>Mexico Mexico City International Airport                    </td> <td>Venustiano Carranza, Mexico City      </td> <td>Mexico              </td> <td>MEX      </td> <td>MMMX     </td> <td>47700834  </td> <td>2018</td> <td>1                    </td>\n",
              "        </tr>\n",
              "        <tr>\n",
              "            <td>31  </td> <td>Canada Toronto Pearson International Airport                </td> <td>Mississauga, Ontario                  </td> <td>Canada              </td> <td>YYZ      </td> <td>CYYZ     </td> <td>49467097  </td> <td>2018</td> <td>1                    </td>\n",
              "        </tr>\n",
              "        <tr>\n",
              "            <td>23  </td> <td>Malaysia Kuala Lumpur International Airport                 </td> <td>Sepang, Selangor                      </td> <td>Malaysia            </td> <td>KUL      </td> <td>WMKK     </td> <td>60013397  </td> <td>2018</td> <td>1                    </td>\n",
              "        </tr>\n",
              "        <tr>\n",
              "            <td>21  </td> <td>Thailand Suvarnabhumi Airport                               </td> <td>Bang Phli, Samut Prakan               </td> <td>Thailand            </td> <td>BKK      </td> <td>VTBS     </td> <td>63378923  </td> <td>2018</td> <td>1                    </td>\n",
              "        </tr>\n",
              "        <tr>\n",
              "            <td>19  </td> <td>Singapore Singapore Changi Airport                          </td> <td>Changi, East Region                   </td> <td>Singapore           </td> <td>SIN      </td> <td>WSSS     </td> <td>65628000  </td> <td>2018</td> <td>1                    </td>\n",
              "        </tr>\n",
              "        <tr>\n",
              "            <td>18  </td> <td>Indonesia Soekarno–Hatta International Airport              </td> <td>Tangerang, Banten                     </td> <td>Indonesia           </td> <td>CGK      </td> <td>WIII     </td> <td>66908159  </td> <td>2018</td> <td>1                    </td>\n",
              "        </tr>\n",
              "        <tr>\n",
              "            <td>17  </td> <td>Turkey Istanbul Atatürk Airport                             </td> <td>Yeşilköy, Istanbul                    </td> <td>Turkey              </td> <td>IST      </td> <td>LTBA     </td> <td>68192683  </td> <td>2018</td> <td>1                    </td>\n",
              "        </tr>\n",
              "        <tr>\n",
              "            <td>16  </td> <td>South Korea Seoul Incheon International Airport             </td> <td>Incheon                               </td> <td>South Korea         </td> <td>ICN      </td> <td>RKSI     </td> <td>68350784  </td> <td>2018</td> <td>1                    </td>\n",
              "        </tr>\n",
              "        <tr>\n",
              "            <td>11  </td> <td>Netherlands Amsterdam Airport Schiphol                      </td> <td>Haarlemmermeer, North Holland         </td> <td>Netherlands         </td> <td>AMS      </td> <td>EHAM     </td> <td>71053147  </td> <td>2018</td> <td>1                    </td>\n",
              "        </tr>\n",
              "        <tr>\n",
              "            <td>10  </td> <td>France Charles de Gaulle Airport                            </td> <td>Roissy-en-France, Île-de-France       </td> <td>France              </td> <td>CDG      </td> <td>LFPG     </td> <td>72229723  </td> <td>2018</td> <td>1                    </td>\n",
              "        </tr>\n",
              "        <tr>\n",
              "            <td>8   </td> <td>Hong Kong Hong Kong International Airport                   </td> <td>Chek Lap Kok, Islands, New Territories</td> <td>Hong Kong SAR, China</td> <td>HKG      </td> <td>VHHH     </td> <td>74517402  </td> <td>2018</td> <td>1                    </td>\n",
              "        </tr>\n",
              "        <tr>\n",
              "            <td>3   </td> <td>United Arab Emirates Dubai International Airport            </td> <td>Garhoud, Dubai                        </td> <td>United Arab Emirates</td> <td>DXB      </td> <td>OMDB     </td> <td>89149387  </td> <td>2018</td> <td>1                    </td>\n",
              "        </tr>\n",
              "        <tr>\n",
              "            <td>49  </td> <td>Australia Sydney Kingsford-Smith Airport                    </td> <td>Mascot, New South Wales               </td> <td>Australia           </td> <td>SYD      </td> <td>YSSY     </td> <td>44446838  </td> <td>2019</td> <td>1                    </td>\n",
              "        </tr>\n",
              "        <tr>\n",
              "            <td>39  </td> <td>Philippines Ninoy Aquino International Airport              </td> <td>Pasay/Parañaque, Metro Manila         </td> <td>Philippines         </td> <td>MNL      </td> <td>RPLL     </td> <td>47898046  </td> <td>2019</td> <td>1                    </td>\n",
              "        </tr>\n",
              "        <tr>\n",
              "            <td>36  </td> <td>Taiwan Taiwan Taoyuan International Airport                 </td> <td>Dayuan, Taoyuan                       </td> <td>Taiwan              </td> <td>TPE      </td> <td>RCTP     </td> <td>48689372  </td> <td>2019</td> <td>1                    </td>\n",
              "        </tr>\n",
              "        <tr>\n",
              "            <td>35  </td> <td>Russia Sheremetyevo International Airport                   </td> <td>Khimki, Moscow Oblast                 </td> <td>Russia              </td> <td>SVO      </td> <td>UUEE     </td> <td>49932752  </td> <td>2019</td> <td>1                    </td>\n",
              "        </tr>\n",
              "        <tr>\n",
              "            <td>33  </td> <td>Mexico Mexico City International Airport                    </td> <td>Venustiano Carranza, Mexico City      </td> <td>Mexico              </td> <td>MEX      </td> <td>MMMX     </td> <td>50308049  </td> <td>2019</td> <td>1                    </td>\n",
              "        </tr>\n",
              "        <tr>\n",
              "            <td>32  </td> <td>Canada Toronto Pearson International Airport                </td> <td>Mississauga, Ontario                  </td> <td>Canada              </td> <td>YYZ      </td> <td>CYYZ     </td> <td>50496804  </td> <td>2019</td> <td>1                    </td>\n",
              "        </tr>\n",
              "        <tr>\n",
              "            <td>28  </td> <td>Turkey Istanbul Airport                                     </td> <td>Arnavutköy, Istanbul                  </td> <td>Turkey              </td> <td>IST      </td> <td>LTFM     </td> <td>52009220  </td> <td>2019</td> <td>1                    </td>\n",
              "        </tr>\n",
              "        <tr>\n",
              "            <td>25  </td> <td>Indonesia Soekarno–Hatta International Airport              </td> <td>Tangerang, Banten                     </td> <td>Indonesia           </td> <td>CGK      </td> <td>WIII     </td> <td>54496625  </td> <td>2019</td> <td>1                    </td>\n",
              "        </tr>\n",
              "        <tr>\n",
              "            <td>21  </td> <td>Malaysia Kuala Lumpur International Airport                 </td> <td>Sepang, Selangor                      </td> <td>Malaysia            </td> <td>KUL      </td> <td>WMKK     </td> <td>62336469  </td> <td>2019</td> <td>1                    </td>\n",
              "        </tr>\n",
              "        <tr>\n",
              "            <td>19  </td> <td>Thailand Suvarnabhumi Airport                               </td> <td>Bang Phli, Samut Prakan               </td> <td>Thailand            </td> <td>BKK      </td> <td>VTBS     </td> <td>65421844  </td> <td>2019</td> <td>1                    </td>\n",
              "        </tr>\n",
              "        <tr>\n",
              "            <td>18  </td> <td>Singapore Singapore Changi Airport                          </td> <td>Changi, East Region                   </td> <td>Singapore           </td> <td>SIN      </td> <td>WSSS     </td> <td>68283000  </td> <td>2019</td> <td>1                    </td>\n",
              "        </tr>\n",
              "        <tr>\n",
              "            <td>14  </td> <td>South Korea Seoul Incheon International Airport             </td> <td>Incheon                               </td> <td>South Korea         </td> <td>ICN      </td> <td>RKSI     </td> <td>71204153  </td> <td>2019</td> <td>1                    </td>\n",
              "        </tr>\n",
              "        <tr>\n",
              "            <td>13  </td> <td>Hong Kong Hong Kong International Airport                   </td> <td>Chek Lap Kok, New Territories         </td> <td>Hong Kong SAR, China</td> <td>HKG      </td> <td>VHHH     </td> <td>71415245  </td> <td>2019</td> <td>1                    </td>\n",
              "        </tr>\n",
              "        <tr>\n",
              "            <td>12  </td> <td>Netherlands Amsterdam Airport Schiphol                      </td> <td>Haarlemmermeer, North Holland         </td> <td>Netherlands         </td> <td>AMS      </td> <td>EHAM     </td> <td>71706999  </td> <td>2019</td> <td>1                    </td>\n",
              "        </tr>\n",
              "        <tr>\n",
              "            <td>9   </td> <td>France Charles de Gaulle Airport                            </td> <td>Roissy-en-France, Île-de-France       </td> <td>France              </td> <td>CDG      </td> <td>LFPG     </td> <td>76150009  </td> <td>2019</td> <td>1                    </td>\n",
              "        </tr>\n",
              "        <tr>\n",
              "            <td>4   </td> <td>United Arab Emirates Dubai International Airport            </td> <td>Garhoud, Dubai                        </td> <td>United Arab Emirates</td> <td>DXB      </td> <td>OMDB     </td> <td>86396757  </td> <td>2019</td> <td>1                    </td>\n",
              "        </tr>\n",
              "        <tr>\n",
              "            <td>42  </td> <td>Thailand Suvarnabhumi Airport                               </td> <td>Bang Phli, Samut Prakan               </td> <td>Thailand            </td> <td>BKK      </td> <td>VTBS     </td> <td>16706000  </td> <td>2020</td> <td>1                    </td>\n",
              "        </tr>\n",
              "        <tr>\n",
              "            <td>39  </td> <td>Spain Madrid Barajas Airport                                </td> <td>Barajas, Madrid                       </td> <td>Spain               </td> <td>MAD      </td> <td>LEMD     </td> <td>17112000  </td> <td>2020</td> <td>1                    </td>\n",
              "        </tr>\n",
              "        <tr>\n",
              "            <td>35  </td> <td>Germany Frankfurt Airport                                   </td> <td>Frankfurt, Hesse                      </td> <td>Germany             </td> <td>FRA      </td> <td>EDDF     </td> <td>18770998  </td> <td>2020</td> <td>1                    </td>\n",
              "        </tr>\n",
              "        <tr>\n",
              "            <td>30  </td> <td>Brazil São Paulo/Guarulhos International Airport            </td> <td>Guarulhos                             </td> <td>Brazil              </td> <td>GRU      </td> <td>SBGR     </td> <td>20322520  </td> <td>2020</td> <td>1                    </td>\n",
              "        </tr>\n",
              "        <tr>\n",
              "            <td>29  </td> <td>Netherlands Amsterdam Airport Schiphol                      </td> <td>Haarlemmermeer, North Holland         </td> <td>Netherlands         </td> <td>AMS      </td> <td>EHAM     </td> <td>20887174  </td> <td>2020</td> <td>1                    </td>\n",
              "        </tr>\n",
              "        <tr>\n",
              "            <td>25  </td> <td>Vietnam Tan Son Nhat International Airport                  </td> <td>Tân Bình District, Ho Chi Minh City   </td> <td>Vietnam             </td> <td>SGN      </td> <td>VVTS     </td> <td>21900000  </td> <td>2020</td> <td>1                    </td>\n",
              "        </tr>\n",
              "        <tr>\n",
              "            <td>23  </td> <td>Mexico Mexico City International Airport                    </td> <td>Venustiano Carranza, Mexico City      </td> <td>Mexico              </td> <td>MEX      </td> <td>MMMX     </td> <td>21981711  </td> <td>2020</td> <td>1                    </td>\n",
              "        </tr>\n",
              "        <tr>\n",
              "            <td>22  </td> <td>United Kingdom Heathrow Airport                             </td> <td>Hillingdon, London                    </td> <td>United Kingdom      </td> <td>LHR      </td> <td>EGLL     </td> <td>22109726  </td> <td>2020</td> <td>1                    </td>\n",
              "        </tr>\n",
              "        <tr>\n",
              "            <td>21  </td> <td>France Charles de Gaulle Airport                            </td> <td>Roissy-en-France, Île-de-France       </td> <td>France              </td> <td>CDG      </td> <td>LFPG     </td> <td>22257469  </td> <td>2020</td> <td>1                    </td>\n",
              "        </tr>\n",
              "        <tr>\n",
              "            <td>19  </td> <td>United Arab Emirates Dubai International Airport            </td> <td>Garhoud, Dubai                        </td> <td>United Arab Emirates</td> <td>DXB      </td> <td>OMDB     </td> <td>25900000  </td> <td>2020</td> <td>1                    </td>\n",
              "        </tr>\n",
              "        <tr>\n",
              "            <td>16  </td> <td>India Indira Gandhi International Airport                   </td> <td>Delhi                                 </td> <td>India               </td> <td>DEL      </td> <td>VIDP     </td> <td>28501000  </td> <td>2020</td> <td>1                    </td>\n",
              "        </tr>\n",
              "        <tr>\n",
              "            <td>12  </td> <td>Japan Tokyo Haneda Airport                                  </td> <td>Ōta, Tokyo                            </td> <td>Japan               </td> <td>HND      </td> <td>RJTT     </td> <td>30965027  </td> <td>2020</td> <td>1                    </td>\n",
              "        </tr>\n",
              "        <tr>\n",
              "            <td>5   </td> <td>Japan Tokyo Haneda Airport                                  </td> <td>Ōta, Tokyo                            </td> <td>Japan               </td> <td>HND      </td> <td>RJTT     </td> <td>87502720  </td> <td>2018</td> <td>0.672829             </td>\n",
              "        </tr>\n",
              "        <tr>\n",
              "            <td>5   </td> <td>Japan Tokyo Haneda Airport                                  </td> <td>Ōta, Tokyo                            </td> <td>Japan               </td> <td>HND      </td> <td>RJTT     </td> <td>79699762  </td> <td>2016</td> <td>0.671437             </td>\n",
              "        </tr>\n",
              "        <tr>\n",
              "            <td>5   </td> <td>Japan Tokyo Haneda Airport                                  </td> <td>Ōta, Tokyo                            </td> <td>Japan               </td> <td>HND      </td> <td>RJTT     </td> <td>85505054  </td> <td>2019</td> <td>0.658512             </td>\n",
              "        </tr>\n",
              "        <tr>\n",
              "            <td>7   </td> <td>Japan Tokyo Haneda Airport                                  </td> <td>Ōta, Tokyo                            </td> <td>Japan               </td> <td>HND      </td> <td>RJTT     </td> <td>76476251  </td> <td>2017</td> <td>0.653043             </td>\n",
              "        </tr>\n",
              "        <tr>\n",
              "            <td>7   </td> <td>United Kingdom Heathrow Airport                             </td> <td>Hillingdon, London                    </td> <td>United Kingdom      </td> <td>LHR      </td> <td>EGLL     </td> <td>75715474  </td> <td>2016</td> <td>0.637055             </td>\n",
              "        </tr>\n",
              "        <tr>\n",
              "            <td>7   </td> <td>United Kingdom Heathrow Airport                             </td> <td>Hillingdon, London                    </td> <td>United Kingdom      </td> <td>LHR      </td> <td>EGLL     </td> <td>80888305  </td> <td>2019</td> <td>0.634593             </td>\n",
              "        </tr>\n",
              "        <tr>\n",
              "            <td>7   </td> <td>United Kingdom Heathrow Airport                             </td> <td>Hillingdon, London                    </td> <td>United Kingdom      </td> <td>LHR      </td> <td>EGLL     </td> <td>80126320  </td> <td>2018</td> <td>0.633115             </td>\n",
              "        </tr>\n",
              "        <tr>\n",
              "            <td>6   </td> <td>United Kingdom Heathrow Airport                             </td> <td>Hillingdon, London                    </td> <td>United Kingdom      </td> <td>LHR      </td> <td>EGLL     </td> <td>78014598  </td> <td>2017</td> <td>0.631307             </td>\n",
              "        </tr>\n",
              "        <tr>\n",
              "            <td>14  </td> <td>Germany Frankfurt Airport                                   </td> <td>Frankfurt, Hesse                      </td> <td>Germany             </td> <td>FRA      </td> <td>EDDF     </td> <td>69510269  </td> <td>2018</td> <td>0.600449             </td>\n",
              "        </tr>\n",
              "        <tr>\n",
              "            <td>15  </td> <td>Germany Frankfurt Airport                                   </td> <td>Frankfurt, Hesse                      </td> <td>Germany             </td> <td>FRA      </td> <td>EDDF     </td> <td>70556072  </td> <td>2019</td> <td>0.595423             </td>\n",
              "        </tr>\n",
              "        <tr>\n",
              "            <td>17  </td> <td>India Indira Gandhi International Airport                   </td> <td>Delhi                                 </td> <td>India               </td> <td>DEL      </td> <td>VIDP     </td> <td>68490731  </td> <td>2019</td> <td>0.592755             </td>\n",
              "        </tr>\n",
              "        <tr>\n",
              "            <td>14  </td> <td>Germany Frankfurt Airport                                   </td> <td>Frankfurt, Hesse                      </td> <td>Germany             </td> <td>FRA      </td> <td>EDDF     </td> <td>64500386  </td> <td>2017</td> <td>0.591326             </td>\n",
              "        </tr>\n",
              "        <tr>\n",
              "            <td>13  </td> <td>Germany Frankfurt Airport                                   </td> <td>Frankfurt, Hesse                      </td> <td>Germany             </td> <td>FRA      </td> <td>EDDF     </td> <td>60786937  </td> <td>2016</td> <td>0.589888             </td>\n",
              "        </tr>\n",
              "        <tr>\n",
              "            <td>12  </td> <td>India Indira Gandhi International Airport                   </td> <td>Delhi                                 </td> <td>India               </td> <td>DEL      </td> <td>VIDP     </td> <td>69900938  </td> <td>2018</td> <td>0.583589             </td>\n",
              "        </tr>\n",
              "        <tr>\n",
              "            <td>20  </td> <td>Turkey Istanbul Airport                                     </td> <td>Arnavutköy, Istanbul                  </td> <td>Turkey              </td> <td>IST      </td> <td>LTFM     </td> <td>23409000  </td> <td>2020</td> <td>0.579553             </td>\n",
              "        </tr>\n",
              "        <tr>\n",
              "            <td>16  </td> <td>India Indira Gandhi International Airport                   </td> <td>Delhi                                 </td> <td>India               </td> <td>DEL      </td> <td>VIDP     </td> <td>63451503  </td> <td>2017</td> <td>0.573413             </td>\n",
              "        </tr>\n",
              "        <tr>\n",
              "            <td>21  </td> <td>India Indira Gandhi International Airport                   </td> <td>Delhi                                 </td> <td>India               </td> <td>DEL      </td> <td>VIDP     </td> <td>55631385  </td> <td>2016</td> <td>0.554584             </td>\n",
              "        </tr>\n",
              "        <tr>\n",
              "            <td>33  </td> <td>Russia Sheremetyevo International Airport                   </td> <td>Khimki, Moscow Oblast                 </td> <td>Russia              </td> <td>SVO      </td> <td>UUEE     </td> <td>19784000  </td> <td>2020</td> <td>0.548276             </td>\n",
              "        </tr>\n",
              "        <tr>\n",
              "            <td>28  </td> <td>South Korea Jeju International Airport                      </td> <td>Jeju City, Jeju Province              </td> <td>South Korea         </td> <td>CJU      </td> <td>RKPC     </td> <td>21054696  </td> <td>2020</td> <td>0.546862             </td>\n",
              "        </tr>\n",
              "        <tr>\n",
              "            <td>22  </td> <td>Spain Madrid Barajas Airport                                </td> <td>Barajas, Madrid                       </td> <td>Spain               </td> <td>MAD      </td> <td>LEMD     </td> <td>61707469  </td> <td>2019</td> <td>0.539537             </td>\n",
              "        </tr>\n",
              "        <tr>\n",
              "            <td>24  </td> <td>Spain Madrid Barajas Airport                                </td> <td>Barajas, Madrid                       </td> <td>Spain               </td> <td>MAD      </td> <td>LEMD     </td> <td>57862951  </td> <td>2018</td> <td>0.535713             </td>\n",
              "        </tr>\n",
              "        <tr>\n",
              "            <td>25  </td> <td>Spain Madrid Barajas Airport                                </td> <td>Barajas, Madrid                       </td> <td>Spain               </td> <td>MAD      </td> <td>LEMD     </td> <td>50397928  </td> <td>2016</td> <td>0.533148             </td>\n",
              "        </tr>\n",
              "        <tr>\n",
              "            <td>25  </td> <td>Spain Madrid Barajas Airport                                </td> <td>Barajas, Madrid                       </td> <td>Spain               </td> <td>MAD      </td> <td>LEMD     </td> <td>53386075  </td> <td>2017</td> <td>0.530419             </td>\n",
              "        </tr>\n",
              "        <tr>\n",
              "            <td>28  </td> <td>Spain Barcelona–El Prat Airport                             </td> <td>Barcelona                             </td> <td>Spain               </td> <td>BCN      </td> <td>LEBL     </td> <td>47262826  </td> <td>2017</td> <td>0.469581             </td>\n",
              "        </tr>\n",
              "        <tr>\n",
              "            <td>33  </td> <td>Spain Barcelona–El Prat Airport                             </td> <td>El Prat, Catalonia                    </td> <td>Spain               </td> <td>BCN      </td> <td>LEBL     </td> <td>44131031  </td> <td>2016</td> <td>0.466852             </td>\n",
              "        </tr>\n",
              "        <tr>\n",
              "            <td>27  </td> <td>Spain Barcelona–El Prat Airport                             </td> <td>Barcelona                             </td> <td>Spain               </td> <td>BCN      </td> <td>LEBL     </td> <td>50148228  </td> <td>2018</td> <td>0.464287             </td>\n",
              "        </tr>\n",
              "        <tr>\n",
              "            <td>27  </td> <td>Spain Barcelona–El Prat Airport                             </td> <td>Barcelona                             </td> <td>Spain               </td> <td>BCN      </td> <td>LEBL     </td> <td>52663623  </td> <td>2019</td> <td>0.460463             </td>\n",
              "        </tr>\n",
              "        <tr>\n",
              "            <td>38  </td> <td>South Korea Gimpo International Airport                     </td> <td>Gangseo District, Seoul               </td> <td>South Korea         </td> <td>GMP      </td> <td>RKSS     </td> <td>17446239  </td> <td>2020</td> <td>0.453138             </td>\n",
              "        </tr>\n",
              "        <tr>\n",
              "            <td>48  </td> <td>Russia Moscow Domodedovo Airport                            </td> <td>Domodedovo, Moscow Oblast             </td> <td>Russia              </td> <td>DME      </td> <td>UUDD     </td> <td>16300000  </td> <td>2020</td> <td>0.451724             </td>\n",
              "        </tr>\n",
              "        <tr>\n",
              "            <td>29  </td> <td>India Chhatrapati Shivaji Maharaj International Airport     </td> <td>Mumbai, Maharashtra                   </td> <td>India               </td> <td>BOM      </td> <td>VABB     </td> <td>44680555  </td> <td>2016</td> <td>0.445416             </td>\n",
              "        </tr>\n",
              "        <tr>\n",
              "            <td>29  </td> <td>India Chhatrapati Shivaji Maharaj International Airport     </td> <td>Mumbai, Maharashtra                   </td> <td>India               </td> <td>BOM      </td> <td>VABB     </td> <td>47204259  </td> <td>2017</td> <td>0.426587             </td>\n",
              "        </tr>\n",
              "        <tr>\n",
              "            <td>40  </td> <td>Turkey Istanbul Sabiha Gökçen International Airport         </td> <td>Pendik, Istanbul                      </td> <td>Turkey              </td> <td>SAW      </td> <td>LTFJ     </td> <td>16982456  </td> <td>2020</td> <td>0.420447             </td>\n",
              "        </tr>\n",
              "        <tr>\n",
              "            <td>28  </td> <td>India Chhatrapati Shivaji Maharaj International Airport     </td> <td>Mumbai, Maharashtra                   </td> <td>India               </td> <td>BOM      </td> <td>VABB     </td> <td>49876769  </td> <td>2018</td> <td>0.416411             </td>\n",
              "        </tr>\n",
              "        <tr>\n",
              "            <td>37  </td> <td>Germany Munich Airport                                      </td> <td>Freising, Bavaria                     </td> <td>Germany             </td> <td>MUC      </td> <td>EDDM     </td> <td>42261309  </td> <td>2016</td> <td>0.410112             </td>\n",
              "        </tr>\n",
              "        <tr>\n",
              "            <td>38  </td> <td>Germany Munich Airport                                      </td> <td>Freising, Bavaria                     </td> <td>Germany             </td> <td>MUC      </td> <td>EDDM     </td> <td>44577241  </td> <td>2017</td> <td>0.408674             </td>\n",
              "        </tr>\n",
              "        <tr>\n",
              "            <td>41  </td> <td>India Chhatrapati Shivaji Maharaj International Airport     </td> <td>Mumbai, Maharashtra                   </td> <td>India               </td> <td>BOM      </td> <td>VABB     </td> <td>47055740  </td> <td>2019</td> <td>0.407245             </td>\n",
              "        </tr>\n",
              "        <tr>\n",
              "            <td>38  </td> <td>Germany Munich Airport                                      </td> <td>Freising, Bavaria                     </td> <td>Germany             </td> <td>MUC      </td> <td>EDDM     </td> <td>47941348  </td> <td>2019</td> <td>0.404577             </td>\n",
              "        </tr>\n",
              "        <tr>\n",
              "            <td>39  </td> <td>Germany Munich Airport                                      </td> <td>Freising, Bavaria                     </td> <td>Germany             </td> <td>MUC      </td> <td>EDDM     </td> <td>46253623  </td> <td>2018</td> <td>0.399551             </td>\n",
              "        </tr>\n",
              "        <tr>\n",
              "            <td>33  </td> <td>United Kingdom London Gatwick Airport                       </td> <td>Crawley, West Sussex                  </td> <td>United Kingdom      </td> <td>LGW      </td> <td>EGKK     </td> <td>45561694  </td> <td>2017</td> <td>0.368693             </td>\n",
              "        </tr>\n",
              "        <tr>\n",
              "            <td>38  </td> <td>United Kingdom London Gatwick Airport                       </td> <td>Crawley, West Sussex                  </td> <td>United Kingdom      </td> <td>LGW      </td> <td>EGKK     </td> <td>46432630  </td> <td>2018</td> <td>0.366885             </td>\n",
              "        </tr>\n",
              "        <tr>\n",
              "            <td>42  </td> <td>United Kingdom London Gatwick Airport                       </td> <td>Crawley, West Sussex                  </td> <td>United Kingdom      </td> <td>LGW      </td> <td>EGKK     </td> <td>46576473  </td> <td>2019</td> <td>0.365407             </td>\n",
              "        </tr>\n",
              "        <tr>\n",
              "            <td>35  </td> <td>United Kingdom Gatwick Airport                              </td> <td>Crawley, West Sussex                  </td> <td>United Kingdom      </td> <td>LGW      </td> <td>EGKK     </td> <td>43136795  </td> <td>2016</td> <td>0.362945             </td>\n",
              "        </tr>\n",
              "        <tr>\n",
              "            <td>49  </td> <td>Japan Narita International Airport                          </td> <td>Narita, Chiba                         </td> <td>Japan               </td> <td>NRT      </td> <td>RJAA     </td> <td>40631193  </td> <td>2017</td> <td>0.346957             </td>\n",
              "        </tr>\n",
              "        <tr>\n",
              "            <td>50  </td> <td>Japan Narita International Airport                          </td> <td>Narita, Chiba                         </td> <td>Japan               </td> <td>NRT      </td> <td>RJAA     </td> <td>44340847  </td> <td>2019</td> <td>0.341488             </td>\n",
              "        </tr>\n",
              "        <tr>\n",
              "            <td>48  </td> <td>Japan Narita International Airport                          </td> <td>Narita, Chiba                         </td> <td>Japan               </td> <td>NRT      </td> <td>RJAA     </td> <td>39000563  </td> <td>2016</td> <td>0.328563             </td>\n",
              "        </tr>\n",
              "        <tr>\n",
              "            <td>50  </td> <td>Japan Narita International Airport                          </td> <td>Narita, Chiba                         </td> <td>Japan               </td> <td>NRT      </td> <td>RJAA     </td> <td>42549173  </td> <td>2018</td> <td>0.327171             </td>\n",
              "        </tr>\n",
              "        <tr>\n",
              "            <td>2   </td> <td>China Beijing Capital International Airport                 </td> <td>Chaoyang-Shunyi, Beijing              </td> <td>China               </td> <td>PEK      </td> <td>ZBAA     </td> <td>94393454  </td> <td>2016</td> <td>0.241673             </td>\n",
              "        </tr>\n",
              "        <tr>\n",
              "            <td>2   </td> <td>China Beijing Capital International Airport                 </td> <td>Chaoyang-Shunyi, Beijing              </td> <td>China               </td> <td>PEK      </td> <td>ZBAA     </td> <td>95786442  </td> <td>2017</td> <td>0.210286             </td>\n",
              "        </tr>\n",
              "        <tr>\n",
              "            <td>2   </td> <td>China Beijing Capital International Airport                 </td> <td>Chaoyang-Shunyi, Beijing              </td> <td>China               </td> <td>PEK      </td> <td>ZBAA     </td> <td>100983290 </td> <td>2018</td> <td>0.209267             </td>\n",
              "        </tr>\n",
              "        <tr>\n",
              "            <td>2   </td> <td>China Beijing Capital International Airport                 </td> <td>Chaoyang-Shunyi, Beijing              </td> <td>China               </td> <td>PEK      </td> <td>ZBAA     </td> <td>100011438 </td> <td>2019</td> <td>0.183826             </td>\n",
              "        </tr>\n",
              "        <tr>\n",
              "            <td>9   </td> <td>China Shanghai Pudong International Airport                 </td> <td>Pudong, Shanghai                      </td> <td>China               </td> <td>PVG      </td> <td>ZSPD     </td> <td>66002414  </td> <td>2016</td> <td>0.168984             </td>\n",
              "        </tr>\n",
              "        <tr>\n",
              "            <td>9   </td> <td>China Shanghai Pudong International Airport                 </td> <td>Pudong, Shanghai                      </td> <td>China               </td> <td>PVG      </td> <td>ZSPD     </td> <td>70001237  </td> <td>2017</td> <td>0.153678             </td>\n",
              "        </tr>\n",
              "        <tr>\n",
              "            <td>9   </td> <td>China Shanghai Pudong International Airport                 </td> <td>Pudong, Shanghai                      </td> <td>China               </td> <td>PVG      </td> <td>ZSPD     </td> <td>74006331  </td> <td>2018</td> <td>0.153363             </td>\n",
              "        </tr>\n",
              "        <tr>\n",
              "            <td>15  </td> <td>China Guangzhou Baiyun International Airport                </td> <td>Baiyun-Huadu, Guangzhou, Guangdong    </td> <td>China               </td> <td>CAN      </td> <td>ZGGG     </td> <td>59732147  </td> <td>2016</td> <td>0.152931             </td>\n",
              "        </tr>\n",
              "        <tr>\n",
              "            <td>13  </td> <td>China Guangzhou Baiyun International Airport                </td> <td>Baiyun-Huadu, Guangzhou, Guangdong    </td> <td>China               </td> <td>CAN      </td> <td>ZGGG     </td> <td>65887473  </td> <td>2017</td> <td>0.144647             </td>\n",
              "        </tr>\n",
              "        <tr>\n",
              "            <td>13  </td> <td>China Guangzhou Baiyun International Airport                </td> <td>Baiyun-Huadu, Guangzhou, Guangdong    </td> <td>China               </td> <td>CAN      </td> <td>ZGGG     </td> <td>69769497  </td> <td>2018</td> <td>0.144583             </td>\n",
              "        </tr>\n",
              "        <tr>\n",
              "            <td>8   </td> <td>China Shanghai Pudong International Airport                 </td> <td>Pudong, Shanghai                      </td> <td>China               </td> <td>PVG      </td> <td>ZSPD     </td> <td>76153455  </td> <td>2019</td> <td>0.139974             </td>\n",
              "        </tr>\n",
              "        <tr>\n",
              "            <td>11  </td> <td>China Guangzhou Baiyun International Airport                </td> <td>Baiyun-Huadu, Guangzhou, Guangdong    </td> <td>China               </td> <td>CAN      </td> <td>ZGGG     </td> <td>73378475  </td> <td>2019</td> <td>0.134873             </td>\n",
              "        </tr>\n",
              "        <tr>\n",
              "            <td>1   </td> <td>United States Hartsfield–Jackson Atlanta International A ...</td> <td>Atlanta, Georgia                      </td> <td>United States       </td> <td>ATL      </td> <td>KATL     </td> <td>103902992 </td> <td>2017</td> <td>0.119431             </td>\n",
              "        </tr>\n",
              "        <tr>\n",
              "            <td>1   </td> <td>United States Hartsfield–Jackson Atlanta International A ...</td> <td>Atlanta, Georgia                      </td> <td>United States       </td> <td>ATL      </td> <td>KATL     </td> <td>107394029 </td> <td>2018</td> <td>0.118678             </td>\n",
              "        </tr>\n",
              "        <tr>\n",
              "            <td>1   </td> <td>United States Hartsfield–Jackson Atlanta International A ...</td> <td>Atlanta, Georgia                      </td> <td>United States       </td> <td>ATL      </td> <td>KATL     </td> <td>110531300 </td> <td>2019</td> <td>0.118232             </td>\n",
              "        </tr>\n",
              "        <tr>\n",
              "            <td>27  </td> <td>China Chengdu Shuangliu International Airport               </td> <td>Shuangliu-Wuhou, Chengdu, Sichuan     </td> <td>China               </td> <td>CTU      </td> <td>ZUUU     </td> <td>46039137  </td> <td>2016</td> <td>0.117873             </td>\n",
              "        </tr>\n",
              "        <tr>\n",
              "            <td>1   </td> <td>United States Hartsfield–Jackson Atlanta International A ...</td> <td>Atlanta, Georgia                      </td> <td>United States       </td> <td>ATL      </td> <td>KATL     </td> <td>104171935 </td> <td>2016</td> <td>0.117567             </td>\n",
              "        </tr>\n",
              "        <tr>\n",
              "            <td>2   </td> <td>United States Hartsfield–Jackson Atlanta International A ...</td> <td>Atlanta, Georgia                      </td> <td>United States       </td> <td>ATL      </td> <td>KATL     </td> <td>42918685  </td> <td>2020</td> <td>0.116384             </td>\n",
              "        </tr>\n",
              "        <tr>\n",
              "            <td>26  </td> <td>China Chengdu Shuangliu International Airport               </td> <td>Shuangliu-Wuhou, Chengdu, Sichuan     </td> <td>China               </td> <td>CTU      </td> <td>ZUUU     </td> <td>52950529  </td> <td>2018</td> <td>0.109729             </td>\n",
              "        </tr>\n",
              "        <tr>\n",
              "            <td>26  </td> <td>China Chengdu Shuangliu International Airport               </td> <td>Shuangliu-Wuhou, Chengdu, Sichuan     </td> <td>China               </td> <td>CTU      </td> <td>ZUUU     </td> <td>49801693  </td> <td>2017</td> <td>0.109333             </td>\n",
              "        </tr>\n",
              "        <tr>\n",
              "            <td>39  </td> <td>China Kunming Changshui International Airport               </td> <td>Guandu, Kunming, Yunnan               </td> <td>China               </td> <td>KMG      </td> <td>ZPPP     </td> <td>41980515  </td> <td>2016</td> <td>0.107482             </td>\n",
              "        </tr>\n",
              "        <tr>\n",
              "            <td>40  </td> <td>China Shenzhen Bao'an International Airport                 </td> <td>Bao'an, Shenzhen, Guangdong           </td> <td>China               </td> <td>SZX      </td> <td>ZGSZ     </td> <td>41975090  </td> <td>2016</td> <td>0.107468             </td>\n",
              "        </tr>\n",
              "        <tr>\n",
              "            <td>4   </td> <td>United States Dallas/Fort Worth International Airport       </td> <td>Dallas-Fort Worth, Texas              </td> <td>United States       </td> <td>DFW      </td> <td>KDFW     </td> <td>39364990  </td> <td>2020</td> <td>0.106748             </td>\n",
              "        </tr>\n",
              "        <tr>\n",
              "            <td>45  </td> <td>China Shanghai Hongqiao International Airport               </td> <td>Changning-Minhang, Shanghai           </td> <td>China               </td> <td>SHA      </td> <td>ZSSS     </td> <td>40460135  </td> <td>2016</td> <td>0.103589             </td>\n",
              "        </tr>\n",
              "        <tr>\n",
              "            <td>24  </td> <td>China Chengdu Shuangliu International Airport               </td> <td>Shuangliu-Wuhou, Chengdu, Sichuan     </td> <td>China               </td> <td>CTU      </td> <td>ZUUU     </td> <td>55858552  </td> <td>2019</td> <td>0.102671             </td>\n",
              "        </tr>\n",
              "        <tr>\n",
              "            <td>32  </td> <td>China Shenzhen Bao'an International Airport                 </td> <td>Bao'an, Shenzhen, Guangdong           </td> <td>China               </td> <td>SZX      </td> <td>ZGSZ     </td> <td>49348950  </td> <td>2018</td> <td>0.102266             </td>\n",
              "        </tr>\n",
              "        <tr>\n",
              "            <td>34  </td> <td>China Shenzhen Bao'an International Airport                 </td> <td>Bao'an, Shenzhen, Guangdong           </td> <td>China               </td> <td>SZX      </td> <td>ZGSZ     </td> <td>45558409  </td> <td>2017</td> <td>0.100017             </td>\n",
              "        </tr>\n",
              "        <tr>\n",
              "            <td>37  </td> <td>China Kunming Changshui International Airport               </td> <td>Guandu, Kunming, Yunnan               </td> <td>China               </td> <td>KMG      </td> <td>ZPPP     </td> <td>44729736  </td> <td>2017</td> <td>0.0981978            </td>\n",
              "        </tr>\n",
              "        <tr>\n",
              "            <td>35  </td> <td>China Kunming Changshui International Airport               </td> <td>Guandu, Kunming, Yunnan               </td> <td>China               </td> <td>KMG      </td> <td>ZPPP     </td> <td>47215986  </td> <td>2018</td> <td>0.0978455            </td>\n",
              "        </tr>\n",
              "        <tr>\n",
              "            <td>26  </td> <td>China Shenzhen Bao'an International Airport                 </td> <td>Bao'an, Shenzhen, Guangdong           </td> <td>China               </td> <td>SZX      </td> <td>ZGSZ     </td> <td>52931925  </td> <td>2019</td> <td>0.0972915            </td>\n",
              "        </tr>\n",
              "        <tr>\n",
              "            <td>4   </td> <td>United States Los Angeles International Airport             </td> <td>Los Angeles, California               </td> <td>United States       </td> <td>LAX      </td> <td>KLAX     </td> <td>84557968  </td> <td>2017</td> <td>0.0971953            </td>\n",
              "        </tr>\n",
              "        <tr>\n",
              "            <td>4   </td> <td>United States Los Angeles International Airport             </td> <td>Los Angeles, California               </td> <td>United States       </td> <td>LAX      </td> <td>KLAX     </td> <td>87534384  </td> <td>2018</td> <td>0.0967315            </td>\n",
              "        </tr>\n",
              "        <tr>\n",
              "            <td>3   </td> <td>United States Los Angeles International Airport             </td> <td>Los Angeles, California               </td> <td>United States       </td> <td>LAX      </td> <td>KLAX     </td> <td>88068013  </td> <td>2019</td> <td>0.0942039            </td>\n",
              "        </tr>\n",
              "        <tr>\n",
              "            <td>1   </td> <td>China Guangzhou Baiyun International Airport                </td> <td>Baiyun-Huadu, Guangzhou, Guangdong    </td> <td>China               </td> <td>CAN      </td> <td>ZGGG     </td> <td>43760427  </td> <td>2020</td> <td>0.0926711            </td>\n",
              "        </tr>\n",
              "        <tr>\n",
              "            <td>44  </td> <td>China Xi'an Xianyang International Airport                  </td> <td>Weicheng, Xianyang, Shaanxi           </td> <td>China               </td> <td>XIY      </td> <td>ZLXY     </td> <td>44653927  </td> <td>2018</td> <td>0.0925362            </td>\n",
              "        </tr>\n",
              "        <tr>\n",
              "            <td>6   </td> <td>United States O'Hare International Airport                  </td> <td>Chicago, Illinois                     </td> <td>United States       </td> <td>ORD      </td> <td>KORD     </td> <td>83339186  </td> <td>2018</td> <td>0.0920955            </td>\n",
              "        </tr>\n",
              "        <tr>\n",
              "            <td>45  </td> <td>China Shanghai Hongqiao International Airport               </td> <td>Changning-Minhang, Shanghai           </td> <td>China               </td> <td>SHA      </td> <td>ZSSS     </td> <td>41884059  </td> <td>2017</td> <td>0.0919505            </td>\n",
              "        </tr>\n",
              "        <tr>\n",
              "            <td>46  </td> <td>China Xi'an Xianyang International Airport                  </td> <td>Weicheng, Xianyang, Shaanxi           </td> <td>China               </td> <td>XIY      </td> <td>ZLXY     </td> <td>41857406  </td> <td>2017</td> <td>0.091892             </td>\n",
              "        </tr>\n",
              "        <tr>\n",
              "            <td>5   </td> <td>United States O'Hare International Airport                  </td> <td>Chicago, Illinois                     </td> <td>United States       </td> <td>ORD      </td> <td>KORD     </td> <td>79828183  </td> <td>2017</td> <td>0.0917586            </td>\n",
              "        </tr>\n",
              "        <tr>\n",
              "            <td>8   </td> <td>United States Denver International Airport                  </td> <td>Denver, Colorado                      </td> <td>United States       </td> <td>DEN      </td> <td>KDEN     </td> <td>33741129  </td> <td>2020</td> <td>0.0914971            </td>\n",
              "        </tr>\n",
              "        <tr>\n",
              "            <td>4   </td> <td>United States Los Angeles International Airport             </td> <td>Los Angeles, California               </td> <td>United States       </td> <td>LAX      </td> <td>KLAX     </td> <td>80921527  </td> <td>2016</td> <td>0.0913271            </td>\n",
              "        </tr>\n",
              "        <tr>\n",
              "            <td>48  </td> <td>China Shanghai Hongqiao International Airport               </td> <td>Changning-Minhang, Shanghai           </td> <td>China               </td> <td>SHA      </td> <td>ZSSS     </td> <td>43628004  </td> <td>2018</td> <td>0.0904101            </td>\n",
              "        </tr>\n",
              "        <tr>\n",
              "            <td>6   </td> <td>United States O'Hare International Airport                  </td> <td>Chicago, Illinois                     </td> <td>United States       </td> <td>ORD      </td> <td>KORD     </td> <td>84372618  </td> <td>2019</td> <td>0.0902511            </td>\n",
              "        </tr>\n",
              "        <tr>\n",
              "            <td>6   </td> <td>United States O'Hare International Airport                  </td> <td>Chicago, Illinois                     </td> <td>United States       </td> <td>ORD      </td> <td>KORD     </td> <td>78327479  </td> <td>2016</td> <td>0.0883995            </td>\n",
              "        </tr>\n",
              "        <tr>\n",
              "            <td>37  </td> <td>China Kunming Changshui International Airport               </td> <td>Guandu, Kunming, Yunnan               </td> <td>China               </td> <td>KMG      </td> <td>ZPPP     </td> <td>48076238  </td> <td>2019</td> <td>0.0883665            </td>\n",
              "        </tr>\n",
              "        <tr>\n",
              "            <td>40  </td> <td>China Xi'an Xianyang International Airport                  </td> <td>Weicheng, Xianyang, Shaanxi           </td> <td>China               </td> <td>XIY      </td> <td>ZLXY     </td> <td>47220547  </td> <td>2019</td> <td>0.0867937            </td>\n",
              "        </tr>\n",
              "        <tr>\n",
              "            <td>3   </td> <td>China Chengdu Shuangliu International Airport               </td> <td>Shuangliu-Wuhou, Chengdu, Sichuan     </td> <td>China               </td> <td>CTU      </td> <td>ZUUU     </td> <td>40741509  </td> <td>2020</td> <td>0.086278             </td>\n",
              "        </tr>\n",
              "        <tr>\n",
              "            <td>46  </td> <td>China Shanghai Hongqiao International Airport               </td> <td>Changning-Minhang, Shanghai           </td> <td>China               </td> <td>SHA      </td> <td>ZSSS     </td> <td>45637882  </td> <td>2019</td> <td>0.0838846            </td>\n",
              "        </tr>\n",
              "        <tr>\n",
              "            <td>13  </td> <td>United States O'Hare International Airport                  </td> <td>Chicago, Illinois                     </td> <td>United States       </td> <td>ORD      </td> <td>KORD     </td> <td>30860251  </td> <td>2020</td> <td>0.0836849            </td>\n",
              "        </tr>\n",
              "        <tr>\n",
              "            <td>48  </td> <td>China Chongqing Jiangbei International Airport              </td> <td>Yubei, Chongqing                      </td> <td>China               </td> <td>CKG      </td> <td>ZUCK     </td> <td>44786722  </td> <td>2019</td> <td>0.0823202            </td>\n",
              "        </tr>\n",
              "        <tr>\n",
              "            <td>10  </td> <td>United States Dallas/Fort Worth International Airport       </td> <td>Dallas-Fort Worth, Texas              </td> <td>United States       </td> <td>DFW      </td> <td>KDFW     </td> <td>75066956  </td> <td>2019</td> <td>0.0802971            </td>\n",
              "        </tr>\n",
              "        <tr>\n",
              "            <td>5   </td> <td>China Shenzhen Bao'an International Airport                 </td> <td>Bao'an, Shenzhen, Guangdong           </td> <td>China               </td> <td>SZX      </td> <td>ZGSZ     </td> <td>37916059  </td> <td>2020</td> <td>0.0802946            </td>\n",
              "        </tr>\n",
              "        <tr>\n",
              "            <td>15  </td> <td>United States Los Angeles International Airport             </td> <td>Los Angeles, California               </td> <td>United States       </td> <td>LAX      </td> <td>KLAX     </td> <td>28779527  </td> <td>2020</td> <td>0.0780425            </td>\n",
              "        </tr>\n",
              "        <tr>\n",
              "            <td>12  </td> <td>United States Dallas/Fort Worth International Airport       </td> <td>Dallas-Fort Worth, Texas              </td> <td>United States       </td> <td>DFW      </td> <td>KDFW     </td> <td>67092194  </td> <td>2017</td> <td>0.0771192            </td>\n",
              "        </tr>\n",
              "        <tr>\n",
              "            <td>15  </td> <td>United States Dallas/Fort Worth International Airport       </td> <td>Dallas-Fort Worth, Texas              </td> <td>United States       </td> <td>DFW      </td> <td>KDFW     </td> <td>69112607  </td> <td>2018</td> <td>0.0763742            </td>\n",
              "        </tr>\n",
              "        <tr>\n",
              "            <td>11  </td> <td>United States Dallas/Fort Worth International Airport       </td> <td>Dallas-Fort Worth, Texas              </td> <td>United States       </td> <td>DFW      </td> <td>KDFW     </td> <td>65670697  </td> <td>2016</td> <td>0.0741152            </td>\n",
              "        </tr>\n",
              "        <tr>\n",
              "            <td>6   </td> <td>China Chongqing Jiangbei International Airport              </td> <td>Yubei, Chongqing                      </td> <td>China               </td> <td>CKG      </td> <td>ZUCK     </td> <td>34937789  </td> <td>2020</td> <td>0.0739875            </td>\n",
              "        </tr>\n",
              "        <tr>\n",
              "            <td>16  </td> <td>United States Denver International Airport                  </td> <td>Denver, Colorado                      </td> <td>United States       </td> <td>DEN      </td> <td>KDEN     </td> <td>69015703  </td> <td>2019</td> <td>0.0738242            </td>\n",
              "        </tr>\n",
              "        <tr>\n",
              "            <td>18  </td> <td>United States Charlotte Douglas International Airport       </td> <td>Charlotte, North Carolina             </td> <td>United States       </td> <td>CLT      </td> <td>KCLT     </td> <td>27200000  </td> <td>2020</td> <td>0.0737592            </td>\n",
              "        </tr>\n",
              "        <tr>\n",
              "            <td>7   </td> <td>China Beijing Capital International Airport                 </td> <td>Chaoyang-Shunyi, Beijing              </td> <td>China               </td> <td>PEK      </td> <td>ZBAA     </td> <td>34513827  </td> <td>2020</td> <td>0.0730897            </td>\n",
              "        </tr>\n",
              "        <tr>\n",
              "            <td>20  </td> <td>United States Denver International Airport                  </td> <td>Denver, Colorado                      </td> <td>United States       </td> <td>DEN      </td> <td>KDEN     </td> <td>64494613  </td> <td>2018</td> <td>0.071271             </td>\n",
              "        </tr>\n",
              "        <tr>\n",
              "            <td>20  </td> <td>United States Denver International Airport                  </td> <td>Denver, Colorado                      </td> <td>United States       </td> <td>DEN      </td> <td>KDEN     </td> <td>61379396  </td> <td>2017</td> <td>0.0705526            </td>\n",
              "        </tr>\n",
              "        <tr>\n",
              "            <td>9   </td> <td>China Kunming Changshui International Airport               </td> <td>Guandu, Kunming, Yunnan               </td> <td>China               </td> <td>KMG      </td> <td>ZPPP     </td> <td>32989127  </td> <td>2020</td> <td>0.0698608            </td>\n",
              "        </tr>\n",
              "        <tr>\n",
              "            <td>22  </td> <td>United States John F. Kennedy International Airport         </td> <td>Queens, New York, New York            </td> <td>United States       </td> <td>JFK      </td> <td>KJFK     </td> <td>59392500  </td> <td>2017</td> <td>0.0682688            </td>\n",
              "        </tr>\n",
              "        <tr>\n",
              "            <td>22  </td> <td>United States John F. Kennedy International Airport         </td> <td>Queens, New York, New York            </td> <td>United States       </td> <td>JFK      </td> <td>KJFK     </td> <td>61623756  </td> <td>2018</td> <td>0.0680985            </td>\n",
              "        </tr>\n",
              "        <tr>\n",
              "            <td>20  </td> <td>United States John F. Kennedy International Airport         </td> <td>Queens, New York, New York            </td> <td>United States       </td> <td>JFK      </td> <td>KJFK     </td> <td>62551072  </td> <td>2019</td> <td>0.0669092            </td>\n",
              "        </tr>\n",
              "        <tr>\n",
              "            <td>16  </td> <td>United States John F. Kennedy International Airport         </td> <td>Queens, New York City, New York       </td> <td>United States       </td> <td>JFK      </td> <td>KJFK     </td> <td>58813103  </td> <td>2016</td> <td>0.0663758            </td>\n",
              "        </tr>\n",
              "        <tr>\n",
              "            <td>10  </td> <td>China Shanghai Hongqiao International Airport               </td> <td>Changning-Minhang, Shanghai           </td> <td>China               </td> <td>SHA      </td> <td>ZSSS     </td> <td>31165641  </td> <td>2020</td> <td>0.0659993            </td>\n",
              "        </tr>\n",
              "        <tr>\n",
              "            <td>11  </td> <td>China Xi'an Xianyang International Airport                  </td> <td>Weicheng, Xianyang, Shaanxi           </td> <td>China               </td> <td>XIY      </td> <td>ZLXY     </td> <td>31073884  </td> <td>2020</td> <td>0.0658049            </td>\n",
              "        </tr>\n",
              "        <tr>\n",
              "            <td>18  </td> <td>United States Denver International Airport                  </td> <td>Denver, Colorado                      </td> <td>United States       </td> <td>DEN      </td> <td>KDEN     </td> <td>58266515  </td> <td>2016</td> <td>0.0657589            </td>\n",
              "        </tr>\n",
              "        <tr>\n",
              "            <td>14  </td> <td>China Shanghai Pudong International Airport                 </td> <td>Pudong, Shanghai                      </td> <td>China               </td> <td>PVG      </td> <td>ZSPD     </td> <td>30476531  </td> <td>2020</td> <td>0.0645399            </td>\n",
              "        </tr>\n",
              "        <tr>\n",
              "            <td>24  </td> <td>United States San Francisco International Airport           </td> <td>San Mateo County, California          </td> <td>United States       </td> <td>SFO      </td> <td>KSFO     </td> <td>55822129  </td> <td>2017</td> <td>0.0641648            </td>\n",
              "        </tr>\n",
              "        <tr>\n",
              "            <td>25  </td> <td>United States San Francisco International Airport           </td> <td>San Mateo County, California          </td> <td>United States       </td> <td>SFO      </td> <td>KSFO     </td> <td>57708196  </td> <td>2018</td> <td>0.0637715            </td>\n",
              "        </tr>\n",
              "        <tr>\n",
              "            <td>23  </td> <td>United States San Francisco International Airport           </td> <td>San Mateo County, California          </td> <td>United States       </td> <td>SFO      </td> <td>KSFO     </td> <td>57418574  </td> <td>2019</td> <td>0.0614191            </td>\n",
              "        </tr>\n",
              "        <tr>\n",
              "            <td>23  </td> <td>United States San Francisco International Airport           </td> <td>San Mateo County, California          </td> <td>United States       </td> <td>SFO      </td> <td>KSFO     </td> <td>53099282  </td> <td>2016</td> <td>0.0599272            </td>\n",
              "        </tr>\n",
              "        <tr>\n",
              "            <td>17  </td> <td>China Hangzhou Xiaoshan International Airport               </td> <td>Xiaoshan, Hangzhou, Zhejiang          </td> <td>China               </td> <td>HGH      </td> <td>ZSHC     </td> <td>28224342  </td> <td>2020</td> <td>0.0597705            </td>\n",
              "        </tr>\n",
              "        <tr>\n",
              "            <td>24  </td> <td>United States Phoenix Sky Harbor International Airport      </td> <td>Phoenix, Arizona                      </td> <td>United States       </td> <td>PHX      </td> <td>KPHX     </td> <td>21928708  </td> <td>2020</td> <td>0.0594649            </td>\n",
              "        </tr>\n",
              "        <tr>\n",
              "            <td>26  </td> <td>United States Orlando International Airport                 </td> <td>Orlando, Florida                      </td> <td>United States       </td> <td>MCO      </td> <td>KMCO     </td> <td>21617803  </td> <td>2020</td> <td>0.0586218            </td>\n",
              "        </tr>\n",
              "        <tr>\n",
              "            <td>27  </td> <td>United States McCarran International Airport                </td> <td>Las Vegas, Nevada                     </td> <td>United States       </td> <td>LAS      </td> <td>KLAS     </td> <td>48566803  </td> <td>2017</td> <td>0.0558252            </td>\n",
              "        </tr>\n",
              "        <tr>\n",
              "            <td>29  </td> <td>United States Seattle–Tacoma International Airport          </td> <td>SeaTac, Washington                    </td> <td>United States       </td> <td>SEA      </td> <td>KSEA     </td> <td>51829239  </td> <td>2019</td> <td>0.0554403            </td>\n",
              "        </tr>\n",
              "        <tr>\n",
              "            <td>30  </td> <td>United States McCarran International Airport                </td> <td>Las Vegas, Nevada                     </td> <td>United States       </td> <td>LAS      </td> <td>KLAS     </td> <td>51691066  </td> <td>2019</td> <td>0.0552925            </td>\n",
              "        </tr>\n",
              "        <tr>\n",
              "            <td>29  </td> <td>United States McCarran International Airport                </td> <td>Las Vegas, Nevada                     </td> <td>United States       </td> <td>LAS      </td> <td>KLAS     </td> <td>49863090  </td> <td>2018</td> <td>0.0551021            </td>\n",
              "        </tr>\n",
              "        <tr>\n",
              "            <td>30  </td> <td>United States Seattle–Tacoma International Airport          </td> <td>SeaTac, Washington                    </td> <td>United States       </td> <td>SEA      </td> <td>KSEA     </td> <td>49849520  </td> <td>2018</td> <td>0.0550871            </td>\n",
              "        </tr>\n",
              "        <tr>\n",
              "            <td>31  </td> <td>United States Seattle–Tacoma International Airport          </td> <td>SeaTac, Washington                    </td> <td>United States       </td> <td>SEA      </td> <td>KSEA     </td> <td>20061507  </td> <td>2020</td> <td>0.0544015            </td>\n",
              "        </tr>\n",
              "        <tr>\n",
              "            <td>31  </td> <td>United States Orlando International Airport                 </td> <td>Orlando, Florida                      </td> <td>United States       </td> <td>MCO      </td> <td>KMCO     </td> <td>50613072  </td> <td>2019</td> <td>0.0541394            </td>\n",
              "        </tr>\n",
              "        <tr>\n",
              "            <td>31  </td> <td>United States Seattle–Tacoma International Airport          </td> <td>SeaTac, Washington                    </td> <td>United States       </td> <td>SEA      </td> <td>KSEA     </td> <td>46934194  </td> <td>2017</td> <td>0.0539486            </td>\n",
              "        </tr>\n",
              "        <tr>\n",
              "            <td>34  </td> <td>United States Charlotte Douglas International Airport       </td> <td>Charlotte, North Carolina             </td> <td>United States       </td> <td>CLT      </td> <td>KCLT     </td> <td>50168783  </td> <td>2019</td> <td>0.0536642            </td>\n",
              "        </tr>\n",
              "        <tr>\n",
              "            <td>26  </td> <td>United States McCarran International Airport                </td> <td>Las Vegas, Nevada                     </td> <td>United States       </td> <td>LAS      </td> <td>KLAS     </td> <td>47496614  </td> <td>2016</td> <td>0.0536041            </td>\n",
              "        </tr>\n",
              "        <tr>\n",
              "            <td>32  </td> <td>United States Charlotte Douglas International Airport       </td> <td>Charlotte, North Carolina             </td> <td>United States       </td> <td>CLT      </td> <td>KCLT     </td> <td>45909899  </td> <td>2017</td> <td>0.0527712            </td>\n",
              "        </tr>\n",
              "        <tr>\n",
              "            <td>34  </td> <td>United States Orlando International Airport                 </td> <td>Orlando, Florida                      </td> <td>United States       </td> <td>MCO      </td> <td>KMCO     </td> <td>47694573  </td> <td>2018</td> <td>0.0527058            </td>\n",
              "        </tr>\n",
              "        <tr>\n",
              "            <td>28  </td> <td>United States Seattle–Tacoma International Airport          </td> <td>SeaTac, Washington                    </td> <td>United States       </td> <td>SEA      </td> <td>KSEA     </td> <td>45736700  </td> <td>2016</td> <td>0.0516179            </td>\n",
              "        </tr>\n",
              "        <tr>\n",
              "            <td>37  </td> <td>United States Charlotte Douglas International Airport       </td> <td>Charlotte, North Carolina             </td> <td>United States       </td> <td>CLT      </td> <td>KCLT     </td> <td>46446721  </td> <td>2018</td> <td>0.0513268            </td>\n",
              "        </tr>\n",
              "        <tr>\n",
              "            <td>39  </td> <td>United States Orlando International Airport                 </td> <td>Orlando, Florida                      </td> <td>United States       </td> <td>MCO      </td> <td>KMCO     </td> <td>44511265  </td> <td>2017</td> <td>0.0511635            </td>\n",
              "        </tr>\n",
              "        <tr>\n",
              "            <td>40  </td> <td>United States Newark Liberty International Airport          </td> <td>Newark, New Jersey                    </td> <td>United States       </td> <td>EWR      </td> <td>KEWR     </td> <td>46065175  </td> <td>2018</td> <td>0.0509052            </td>\n",
              "        </tr>\n",
              "        <tr>\n",
              "            <td>40  </td> <td>United States Miami International Airport                   </td> <td>Miami-Dade County, Florida            </td> <td>United States       </td> <td>MIA      </td> <td>KMIA     </td> <td>44071313  </td> <td>2017</td> <td>0.0506578            </td>\n",
              "        </tr>\n",
              "        <tr>\n",
              "            <td>36  </td> <td>United States Miami International Airport                   </td> <td>Miami-Dade County, Florida            </td> <td>United States       </td> <td>MIA      </td> <td>KMIA     </td> <td>18663858  </td> <td>2020</td> <td>0.0506115            </td>\n",
              "        </tr>\n",
              "        <tr>\n",
              "            <td>41  </td> <td>United States Phoenix Sky Harbor International Airport      </td> <td>Phoenix, Arizona                      </td> <td>United States       </td> <td>PHX      </td> <td>KPHX     </td> <td>43921670  </td> <td>2017</td> <td>0.0504858            </td>\n",
              "        </tr>\n",
              "        <tr>\n",
              "            <td>30  </td> <td>United States Miami International Airport                   </td> <td>Miami-Dade County, Florida            </td> <td>United States       </td> <td>MIA      </td> <td>KMIA     </td> <td>44584603  </td> <td>2016</td> <td>0.0503177            </td>\n",
              "        </tr>\n",
              "        <tr>\n",
              "            <td>31  </td> <td>United States Charlotte Douglas International Airport       </td> <td>Charlotte, North Carolina             </td> <td>United States       </td> <td>CLT      </td> <td>KCLT     </td> <td>44422022  </td> <td>2016</td> <td>0.0501342            </td>\n",
              "        </tr>\n",
              "        <tr>\n",
              "            <td>43  </td> <td>United States Newark Liberty International Airport          </td> <td>Newark, New Jersey                    </td> <td>United States       </td> <td>EWR      </td> <td>KEWR     </td> <td>43393499  </td> <td>2017</td> <td>0.0498787            </td>\n",
              "        </tr>\n",
              "        <tr>\n",
              "            <td>42  </td> <td>United States Miami International Airport                   </td> <td>Miami-Dade County, Florida            </td> <td>United States       </td> <td>MIA      </td> <td>KMIA     </td> <td>45044312  </td> <td>2018</td> <td>0.049777             </td>\n",
              "        </tr>\n",
              "        <tr>\n",
              "            <td>43  </td> <td>United States Phoenix Sky Harbor International Airport      </td> <td>Phoenix, Arizona                      </td> <td>United States       </td> <td>PHX      </td> <td>KPHX     </td> <td>44943686  </td> <td>2018</td> <td>0.0496658            </td>\n",
              "        </tr>\n",
              "        <tr>\n",
              "            <td>43  </td> <td>United States Newark Liberty International Airport          </td> <td>Newark, New Jersey                    </td> <td>United States       </td> <td>EWR      </td> <td>KEWR     </td> <td>46336452  </td> <td>2019</td> <td>0.0495648            </td>\n",
              "        </tr>\n",
              "        <tr>\n",
              "            <td>44  </td> <td>United States Phoenix Sky Harbor International Airport      </td> <td>Phoenix, Arizona                      </td> <td>United States       </td> <td>PHX      </td> <td>KPHX     </td> <td>46287790  </td> <td>2019</td> <td>0.0495128            </td>\n",
              "        </tr>\n",
              "        <tr>\n",
              "            <td>37  </td> <td>United States George Bush Intercontinental Airport          </td> <td>Houston, Texas                        </td> <td>United States       </td> <td>IAH      </td> <td>KIAH     </td> <td>18213571  </td> <td>2020</td> <td>0.0493904            </td>\n",
              "        </tr>\n",
              "        <tr>\n",
              "            <td>45  </td> <td>United States Miami International Airport                   </td> <td>Miami-Dade County, Florida            </td> <td>United States       </td> <td>MIA      </td> <td>KMIA     </td> <td>45924466  </td> <td>2019</td> <td>0.0491241            </td>\n",
              "        </tr>\n",
              "        <tr>\n",
              "            <td>34  </td> <td>United States Phoenix Sky Harbor International Airport      </td> <td>Phoenix, Arizona                      </td> <td>United States       </td> <td>PHX      </td> <td>KPHX     </td> <td>43302381  </td> <td>2016</td> <td>0.0488706            </td>\n",
              "        </tr>\n",
              "        <tr>\n",
              "            <td>47  </td> <td>United States George Bush Intercontinental Airport          </td> <td>Houston, Texas                        </td> <td>United States       </td> <td>IAH      </td> <td>KIAH     </td> <td>43807539  </td> <td>2018</td> <td>0.0484103            </td>\n",
              "        </tr>\n",
              "        <tr>\n",
              "            <td>47  </td> <td>United States George Bush Intercontinental Airport          </td> <td>Houston, Texas                        </td> <td>United States       </td> <td>IAH      </td> <td>KIAH     </td> <td>44990399  </td> <td>2019</td> <td>0.048125             </td>\n",
              "        </tr>\n",
              "        <tr>\n",
              "            <td>41  </td> <td>United States Orlando International Airport                 </td> <td>Orlando, Florida                      </td> <td>United States       </td> <td>MCO      </td> <td>KMCO     </td> <td>41923399  </td> <td>2016</td> <td>0.0473143            </td>\n",
              "        </tr>\n",
              "        <tr>\n",
              "            <td>43  </td> <td>United States George Bush Intercontinental Airport          </td> <td>Houston, Texas                        </td> <td>United States       </td> <td>IAH      </td> <td>KIAH     </td> <td>41622594  </td> <td>2016</td> <td>0.0469748            </td>\n",
              "        </tr>\n",
              "        <tr>\n",
              "            <td>48  </td> <td>United States George Bush Intercontinental Airport          </td> <td>Houston, Texas                        </td> <td>United States       </td> <td>IAH      </td> <td>KIAH     </td> <td>40696189  </td> <td>2017</td> <td>0.0467783            </td>\n",
              "        </tr>\n",
              "        <tr>\n",
              "            <td>46  </td> <td>United States Newark Liberty International Airport          </td> <td>Newark, New Jersey                    </td> <td>United States       </td> <td>EWR      </td> <td>KEWR     </td> <td>40289969  </td> <td>2016</td> <td>0.0454708            </td>\n",
              "        </tr>\n",
              "        <tr>\n",
              "            <td>27  </td> <td>China Zhengzhou Xinzheng International Airport              </td> <td>Xinzheng, Zhengzhou, Henan            </td> <td>China               </td> <td>CGO      </td> <td>ZHCC     </td> <td>21406709  </td> <td>2020</td> <td>0.0453328            </td>\n",
              "        </tr>\n",
              "        <tr>\n",
              "            <td>43  </td> <td>United States John F. Kennedy International Airport         </td> <td>Queens, New York, New York            </td> <td>United States       </td> <td>JFK      </td> <td>KJFK     </td> <td>16630642  </td> <td>2020</td> <td>0.0450979            </td>\n",
              "        </tr>\n",
              "        <tr>\n",
              "            <td>46  </td> <td>United States Fort Lauderdale–Hollywood International Ai ...</td> <td>Broward County, Florida               </td> <td>United States       </td> <td>FLL      </td> <td>KFLL     </td> <td>16484132  </td> <td>2020</td> <td>0.0447006            </td>\n",
              "        </tr>\n",
              "        <tr>\n",
              "            <td>47  </td> <td>United States San Francisco International Airport           </td> <td>San Mateo County, California          </td> <td>United States       </td> <td>SFO      </td> <td>KSFO     </td> <td>16409625  </td> <td>2020</td> <td>0.0444986            </td>\n",
              "        </tr>\n",
              "        <tr>\n",
              "            <td>50  </td> <td>United States Newark Liberty International Airport          </td> <td>Newark, New Jersey                    </td> <td>United States       </td> <td>EWR      </td> <td>KEWR     </td> <td>15892892  </td> <td>2020</td> <td>0.0430973            </td>\n",
              "        </tr>\n",
              "        <tr>\n",
              "            <td>49  </td> <td>United States Minneapolis/St Paul International Airport     </td> <td>St. Paul, Minnesota                   </td> <td>United States       </td> <td>MSP      </td> <td>KMSP     </td> <td>37413728  </td> <td>2016</td> <td>0.0422247            </td>\n",
              "        </tr>\n",
              "        <tr>\n",
              "            <td>32  </td> <td>China Nanjing Lukou International Airport                   </td> <td>Jiangning District, Nanjing, Jiangsu  </td> <td>China               </td> <td>NKG      </td> <td>ZSNJ     </td> <td>19906576  </td> <td>2020</td> <td>0.042156             </td>\n",
              "        </tr>\n",
              "        <tr>\n",
              "            <td>34  </td> <td>China Changsha Huanghua International Airport               </td> <td>Huanghua, Changsha, Hunan             </td> <td>China               </td> <td>CSX      </td> <td>ZGHA     </td> <td>19223825  </td> <td>2020</td> <td>0.0407102            </td>\n",
              "        </tr>\n",
              "        <tr>\n",
              "            <td>41  </td> <td>China Xiamen Gaoqi International Airport                    </td> <td>Huli District, Xiamen, Fujian         </td> <td>China               </td> <td>XMN      </td> <td>ZSAM     </td> <td>16710197  </td> <td>2020</td> <td>0.0353871            </td>\n",
              "        </tr>\n",
              "        <tr>\n",
              "            <td>44  </td> <td>China Guiyang Longdongbao International Airport             </td> <td>Nanming District, Guiyang, Guizhou    </td> <td>China               </td> <td>KWE      </td> <td>ZUGY     </td> <td>16583878  </td> <td>2020</td> <td>0.0351196            </td>\n",
              "        </tr>\n",
              "        <tr>\n",
              "            <td>45  </td> <td>China Haikou Meilan International Airport                   </td> <td>Lingshan, Haikou, Hainan              </td> <td>China               </td> <td>HAK      </td> <td>ZJHK     </td> <td>16490216  </td> <td>2020</td> <td>0.0349212            </td>\n",
              "        </tr>\n",
              "        <tr>\n",
              "            <td>49  </td> <td>China Beijing Daxing International Airport                  </td> <td>Daxing District, Beijing              </td> <td>China               </td> <td>PKX      </td> <td>ZBAD     </td> <td>16091449  </td> <td>2020</td> <td>0.0340767            </td>\n",
              "        </tr>\n",
              "    </tbody>\n",
              "</table>"
            ],
            "text/plain": [
              "<IPython.core.display.HTML object>"
            ]
          },
          "metadata": {}
        }
      ]
    }
  ],
  "metadata": {
    "kernelspec": {
      "display_name": "Python 3 (ipykernel)",
      "language": "python",
      "name": "python3"
    },
    "language_info": {
      "codemirror_mode": {
        "name": "ipython",
        "version": 3
      },
      "file_extension": ".py",
      "mimetype": "text/x-python",
      "name": "python",
      "nbconvert_exporter": "python",
      "pygments_lexer": "ipython3",
      "version": "3.9.7"
    },
    "colab": {
      "name": "STOR 120 - Take Home Midterm 1 - Corrected.ipynb",
      "provenance": []
    }
  },
  "nbformat": 4,
  "nbformat_minor": 0
}