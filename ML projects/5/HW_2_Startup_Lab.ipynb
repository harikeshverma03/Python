{
 "cells": [
  {
   "cell_type": "markdown",
   "metadata": {
    "id": "18Sd3XYRbhXL"
   },
   "source": [
    "# Schelling Segregation Models\n",
    "\n",
    "The purpose of this lab is to get you started on this week's homework assignment.\n",
    "\n",
    "Your goal is to build a model of the Schelling segregation simulation.\n",
    "\n",
    "To do this, we will use:\n",
    "\n",
    "* list comprehensions\n",
    "* lambda functions\n",
    "* classes\n",
    "* class inheritance\n"
   ]
  },
  {
   "cell_type": "code",
   "execution_count": 1,
   "metadata": {
    "id": "FRWYaSQgckac"
   },
   "outputs": [],
   "source": [
    "# this cell contains some of the libraries that you need to run this model\n",
    "import random\n",
    "import matplotlib.pyplot as plt\n",
    "from IPython import display\n",
    "import time\n",
    "%matplotlib inline\n",
    "random.seed(10) # for reproducible random numbers"
   ]
  },
  {
   "cell_type": "markdown",
   "metadata": {
    "id": "AVKd-7Zocvpn"
   },
   "source": [
    "# Problem 1\n",
    "\n",
    "Define a class called `Agent` using a constructor.\n",
    "\n",
    "The constructor should take 2 arguments that provide attributes called `x` and `y` for the *x-* and *y*-locations of the objects that we create. \n",
    "\n",
    "In the cell below, we have incorrect code that you will need to correct to properly define the class. There are 5 errors in the code (or more, depending on how you count instances of the same error). "
   ]
  },
  {
   "cell_type": "code",
   "execution_count": 2,
   "metadata": {
    "id": "bJxgAb-KdghL"
   },
   "outputs": [],
   "source": [
    "class Agent():\n",
    "    def __init__(self, xlocation, ylocation):\n",
    "        self.x = xlocation\n",
    "        self.y = ylocation"
   ]
  },
  {
   "cell_type": "markdown",
   "metadata": {
    "id": "vmau6L9peKuV"
   },
   "source": [
    "# Problem 2\n",
    "\n",
    "In the code cell below is a function for plotting the agents we'll create. Don't worry, you won't need to know anything about plotting! All you have to do is use your knowledge of list methods to add the *x-* and *y-*coordinates of the `agent_to_be_plotted` to our lists of coordinates to plot."
   ]
  },
  {
   "cell_type": "code",
   "execution_count": 3,
   "metadata": {
    "id": "Sbyt2SiPecmF"
   },
   "outputs": [],
   "source": [
    "def map_an_agent(agent_to_be_plotted):\n",
    "    agents_XCoordinate = [] # this is an empty list that will store our X-coordinates, don't change this command\n",
    "    agents_YCoordinate = [] # this is an empty list that will store our y-coordinates, don't change this command\n",
    "    \n",
    "    agents_XCoordinate.append(agent_to_be_plotted.x)### in this line add the x attribute of the agent to be plotted to the list agents_XCoordinate. There's a built in list method - you don't need a loop\n",
    "    agents_YCoordinate.append(agent_to_be_plotted.y)### in this line add the y attribute of the agent to be plotted to the list agents_XCoordinate. There's a built in list method - you don't need a loop\n",
    "    \n",
    "    fig, ax = plt.subplots(figsize=(5, 5))\n",
    "    ax.set_facecolor('azure')\n",
    "    ax.plot(agents_XCoordinate, agents_YCoordinate, 'o', markerfacecolor='purple')\n",
    "    plt.xlim(-5,105)\n",
    "    plt.ylim(-5,105)\n",
    "    ax.set_title(\"Here's our map of the agents we have created:\")\n",
    "    plt.show()"
   ]
  },
  {
   "cell_type": "markdown",
   "metadata": {
    "id": "Upe2BdC9ei2q"
   },
   "source": [
    "# Problem 3\n",
    "\n",
    "In the code cell below, create an instance of the class `Agent` and assign it to a variable called `agent1`.\n",
    "\n",
    "Give your agent an *x*-position of 22 and a *y*-position of 55.\n",
    "\n",
    "Then, call the `map_an_agent` function to produce a map.  The map that gets made should look like Plot1 in the pdf that comes with this assignment."
   ]
  },
  {
   "cell_type": "code",
   "execution_count": 4,
   "metadata": {
    "colab": {
     "base_uri": "https://localhost:8080/",
     "height": 336
    },
    "id": "CGAx9yuveiZt",
    "outputId": "ea311e76-d411-405e-f4e3-adbf03ac61a8"
   },
   "outputs": [
    {
     "data": {
      "image/png": "[encoded data removed]",
      "text/plain": [
       "<Figure size 360x360 with 1 Axes>"
      ]
     },
     "metadata": {
      "needs_background": "light"
     },
     "output_type": "display_data"
    }
   ],
   "source": [
    "### initialize one agent\n",
    "agent1 = Agent(22,55)\n",
    "#agent1.x = 22\n",
    "#agent1.y = 55\n",
    "map_an_agent(agent1)\n",
    "### call the function from the prior cell to draw a map of where your agent is"
   ]
  },
  {
   "cell_type": "markdown",
   "metadata": {
    "id": "w9GWWBZDfqzc"
   },
   "source": [
    "Now, instantiate another object from the class `Agent` and assign it to a variable called `agent2`.\n",
    "\n",
    "Give this agent an *x-*position of 66 and a *y-*position of 88.\n",
    "\n",
    "Again, call the `map_an_agent` function to produce a map.  The map that gets made should look like Plot2 in the pdf that comes with this assignment."
   ]
  },
  {
   "cell_type": "code",
   "execution_count": 5,
   "metadata": {
    "colab": {
     "base_uri": "https://localhost:8080/",
     "height": 336
    },
    "id": "qrICrq6zgEMI",
    "outputId": "fb305414-2622-46d6-859c-1e5310aa76e8"
   },
   "outputs": [
    {
     "data": {
      "image/png": "[encoded data removed]",
      "text/plain": [
       "<Figure size 360x360 with 1 Axes>"
      ]
     },
     "metadata": {
      "needs_background": "light"
     },
     "output_type": "display_data"
    }
   ],
   "source": [
    "agent2 = Agent(66,88) \n",
    "### call the function to map this agent\n",
    "map_an_agent(agent2)"
   ]
  },
  {
   "cell_type": "markdown",
   "metadata": {
    "id": "-oNW7lztgRMi"
   },
   "source": [
    "# Problem 4\n",
    "\n",
    "Did you notice that we can only map one agent at a time with our prior function? Let's modify our function so it will map all our agents.\n",
    "\n",
    "The way that we can do this is by passing a list of agents as the input argument for this function. Last time we directly added the attributes into the `agents_XCoordinate` and `agents_YCoordinate` lists.  Let's change that command so that it adds the attributes of *all* the objects in a list.  \n",
    "\n",
    "There are a couple of ways to do this, but for now you can use a `for` loop."
   ]
  },
  {
   "cell_type": "code",
   "execution_count": 7,
   "metadata": {
    "id": "dgLIX18xgmC1"
   },
   "outputs": [],
   "source": [
    "def map_all_agents(listofagents):  ### what arguments should go in this function?\n",
    "\n",
    "    agents_XCoordinate = [] # this is an empty list that will store our X-coordinates, don't change this command\n",
    "    agents_YCoordinate = [] # this is an empty list that will store our y-coordinates, don't change this command\n",
    "    \n",
    "    ### use a for loop to add all the x attributes from our list of objects to the agents_XCoordinate list and all the y attributes from our list of objects to the agents_YCoordinate list \n",
    "    #listofagents = [agent1, agent2,agent3]\n",
    "    for agent in listofagents:\n",
    "      agents_XCoordinate.append(agent.x)\n",
    "      agents_YCoordinate.append(agent.y)\n",
    "\n",
    "    fig, ax = plt.subplots(figsize=(5, 5))\n",
    "    ax.set_facecolor('azure')\n",
    "    ax.plot(agents_XCoordinate, agents_YCoordinate, 'o', markerfacecolor='purple')\n",
    "    plt.xlim(-5,105)\n",
    "    plt.ylim(-5,105)\n",
    "    ax.set_title(\"Here's our map of the agents we have created:\")\n",
    "    plt.show()"
   ]
  },
  {
   "cell_type": "markdown",
   "metadata": {
    "id": "XKG0ihgRg36G"
   },
   "source": [
    "# Problem 5\n",
    "\n",
    "Now, add the two agents we have created to a list. lets call it `agents_list`.\n",
    "\n",
    "Then, use the function we just created to map those agents. The map you generate should be identical to Plot3 in the pdf."
   ]
  },
  {
   "cell_type": "code",
   "execution_count": 8,
   "metadata": {
    "colab": {
     "base_uri": "https://localhost:8080/",
     "height": 336
    },
    "id": "7PLCJHushLdT",
    "outputId": "0cbde656-261e-4c8f-cfb6-ab2f2a139472"
   },
   "outputs": [
    {
     "data": {
      "image/png": "[encoded data removed]",
      "text/plain": [
       "<Figure size 360x360 with 1 Axes>"
      ]
     },
     "metadata": {
      "needs_background": "light"
     },
     "output_type": "display_data"
    }
   ],
   "source": [
    "agents_list = [agent1, agent2]### add the agents we have created previously to this list\n",
    "### use the function we just created to map our agents\n",
    "map_all_agents(agents_list)"
   ]
  },
  {
   "cell_type": "markdown",
   "metadata": {
    "id": "lpuJHtg4hW0_"
   },
   "source": [
    "Look at the following cell. What do you think will happen when you run it? What will happen if you run it twice? Or three times? What if I told you it would print 73 each time you tried it. Go ahead and try it."
   ]
  },
  {
   "cell_type": "code",
   "execution_count": 9,
   "metadata": {
    "colab": {
     "base_uri": "https://localhost:8080/"
    },
    "id": "mB19suQchbmm",
    "outputId": "d905e6a1-34a6-40ce-a345-23349c340d5f"
   },
   "outputs": [
    {
     "name": "stdout",
     "output_type": "stream",
     "text": [
      "73\n"
     ]
    }
   ],
   "source": [
    "random.seed(10)\n",
    "print(random.randint(0,100))"
   ]
  },
  {
   "cell_type": "markdown",
   "metadata": {
    "id": "69LgCvrchfPu"
   },
   "source": [
    "It prints 73, because thats the first random number generated with that command if we use random.seed(10). This is how we will make sure that we have the same output even though the model requires random numbers to move."
   ]
  },
  {
   "cell_type": "markdown",
   "metadata": {
    "id": "Kr6n636AhzQW"
   },
   "source": [
    "# Problem 6\n",
    "\n",
    "Below is a function that randomly updates the attribute of each agent in our list - but I made a mistake in constructing that function. I also made a mistake in how I called the functions in that cell. If you fix those you should see a plot equivalent to Plot4 in the pdf. \n",
    "\n",
    "If you compare Plot3 and Plot4 you will see that the agents moved to their newly defined positions!"
   ]
  },
  {
   "cell_type": "code",
   "execution_count": 10,
   "metadata": {
    "colab": {
     "base_uri": "https://localhost:8080/",
     "height": 336
    },
    "id": "q1YRxgvnh6Hr",
    "outputId": "d815082d-d21a-42fd-f2d6-ffc7688ab083"
   },
   "outputs": [
    {
     "data": {
      "image/png": "[encoded data removed]",
      "text/plain": [
       "<Figure size 360x360 with 1 Axes>"
      ]
     },
     "metadata": {
      "needs_background": "light"
     },
     "output_type": "display_data"
    }
   ],
   "source": [
    "random.seed(32)\n",
    "def moveagents(listofagents):\n",
    "    for each_agent in listofagents:\n",
    "        each_agent.x = random.randint(0,100)\n",
    "        each_agent.y = random.randint(0,100)\n",
    "moveagents(agents_list)\n",
    "map_all_agents(agents_list)"
   ]
  },
  {
   "cell_type": "markdown",
   "metadata": {
    "id": "yNYzOZn2h8tA"
   },
   "source": [
    "# Problem 7\n",
    "\n",
    "Now let's do something fun. \n",
    "\n",
    "Let's move the agents and map them 10 times in a row.\n",
    "\n",
    "Write a loop that will implement these commands. Not every command has to go inside the loop. If your agents aren't 'moving' or your final map doesn't match Plot5 in the pdf, then your order is wrong. Think about the logical way to execute the loop so that the final position of the agents are mapped."
   ]
  },
  {
   "cell_type": "code",
   "execution_count": 11,
   "metadata": {
    "colab": {
     "base_uri": "https://localhost:8080/",
     "height": 336
    },
    "id": "MqHnoRkyiKLx",
    "outputId": "b98624e2-25c6-424f-8b42-e9e8c2d991dc"
   },
   "outputs": [
    {
     "data": {
      "image/png": "[encoded data removed]",
      "text/plain": [
       "<Figure size 360x360 with 1 Axes>"
      ]
     },
     "metadata": {
      "needs_background": "light"
     },
     "output_type": "display_data"
    }
   ],
   "source": [
    "### put these commands into a loop that implement them 10 times\n",
    "# not all commands have to go in the loop\n",
    "# these commands are not necessarily in the right order\n",
    "random.seed(66)\n",
    "for i in range(10):\n",
    "  map_all_agents(agents_list)\n",
    "  moveagents(agents_list)\n",
    "  time.sleep(1) # keep this command 4th\n",
    "  display.clear_output(wait=True) # keep this command last"
   ]
  },
  {
   "cell_type": "markdown",
   "metadata": {
    "id": "lIVEIae4iZZC"
   },
   "source": [
    "# Problem 8\n",
    "\n",
    "Let's make the above loop a function that we can use on any list. \n",
    "\n",
    "Call your function `make_agents_dance`.\n",
    "\n",
    "What arguments should you use for this function if you want it to be generalizabe, meaning it can map *any* list of agents? \n",
    "\n",
    "Also, make the function capable of running for any specified number of steps instead of just 10.\n",
    "\n",
    "Don't forget to make sure that the last graph stays on the screen.  "
   ]
  },
  {
   "cell_type": "code",
   "execution_count": 12,
   "metadata": {
    "colab": {
     "base_uri": "https://localhost:8080/",
     "height": 336
    },
    "id": "afqtrG5rikcw",
    "outputId": "cd3fa5bb-bed4-48d7-9fc9-333e9a38e8c6"
   },
   "outputs": [
    {
     "data": {
      "image/png": "[encoded data removed]",
      "text/plain": [
       "<Figure size 360x360 with 1 Axes>"
      ]
     },
     "metadata": {
      "needs_background": "light"
     },
     "output_type": "display_data"
    }
   ],
   "source": [
    "def make_agents_dance(agents_list, num_steps = 10):\n",
    "  for i in range(num_steps):\n",
    "    moveagents(agents_list)\n",
    "    map_all_agents(agents_list)\n",
    "    time.sleep(1) # keep this command 4th\n",
    "    display.clear_output(wait=True) \n",
    "make_agents_dance(agents_list, 5)"
   ]
  },
  {
   "cell_type": "markdown",
   "metadata": {
    "id": "v2PMeiJ2in4d"
   },
   "source": [
    "# Problem 9\n",
    "\n",
    "Now, use a list comprehension to make 12 agents within a list called `New_List_of_Agents`. \n",
    "\n",
    "Remember that all you need to do make an object of the class `Agent` is provide an *x-*and a *y-*location. Lets use `random.randint(0,100)` to provide each of those values. \n",
    "\n",
    "Check your final output against Plot6 in the pdf."
   ]
  },
  {
   "cell_type": "code",
   "execution_count": 13,
   "metadata": {
    "colab": {
     "base_uri": "https://localhost:8080/",
     "height": 336
    },
    "id": "uyGRrmPajEl5",
    "outputId": "b4756ae7-c562-4436-e7d5-37218a9105ce"
   },
   "outputs": [
    {
     "data": {
      "image/png": "[encoded data removed]",
      "text/plain": [
       "<Figure size 360x360 with 1 Axes>"
      ]
     },
     "metadata": {
      "needs_background": "light"
     },
     "output_type": "display_data"
    }
   ],
   "source": [
    "random.seed(44)\n",
    "#list_comprehension - [what we wanna do , for loop, condition]\n",
    "New_List_of_Agents = [Agent(random.randint(0,100),random.randint(0,100)) for i in range(12)]  ### make 12 agents; use a list comprehension\n",
    "make_agents_dance(New_List_of_Agents, 10)"
   ]
  },
  {
   "cell_type": "markdown",
   "metadata": {
    "id": "CjpLFxNwjVxd"
   },
   "source": [
    "# Problem 10\n",
    "\n",
    "Now let's make a subclass of `Agent` called `AgentNew`.  `AgentNew`, in addition to its *x-* and *y-*coordinate attributes, should also have attributes called 'status' and 'group' that will keep track of which group each instance of `AgentNew` is part of - 'happy' or 'unhappy'.\n",
    "\n",
    "Use `status=\"unhappy\"` in the constructor to establish a default value of 'unhappy'.\n",
    "\n",
    "There are several errors in the code for defining the class below. Once you have fixed those errors, write a command to print the *x-*coordinate, *y-*coordinate, and group of the last agent in your list. \n",
    "\n",
    "They should be 28, 87, and purple, respectively."
   ]
  },
  {
   "cell_type": "code",
   "execution_count": 14,
   "metadata": {
    "colab": {
     "base_uri": "https://localhost:8080/"
    },
    "id": "gQQK0zPJkJeh",
    "outputId": "4c35de03-c0b7-4890-c606-da874365c8aa"
   },
   "outputs": [
    {
     "name": "stdout",
     "output_type": "stream",
     "text": [
      "28 87 Purple\n"
     ]
    }
   ],
   "source": [
    "class AgentNew(Agent):\n",
    "    def __init__(self,xlocation, ylocation, group, status=\"unhappy\") :\n",
    "        super().__init__( xlocation, ylocation)\n",
    "        self.group = group\n",
    "        self.status = status\n",
    "random.seed(23)\n",
    "groups = [\"Purple\", \"Gold\"]\n",
    "list_of_NewAgents = [AgentNew(random.randint(0,100), random.randint(0,100), random.choice(groups)) for x in range(35)]\n",
    "\n",
    "print(list_of_NewAgents[-1].x, list_of_NewAgents[-1].y , list_of_NewAgents[-1].group)"
   ]
  },
  {
   "cell_type": "markdown",
   "metadata": {
    "id": "cZBTExA7kPD7"
   },
   "source": [
    "# ...continue...\n",
    "\n",
    "You need this code for your homework. Copy it to wherever you are working or continue working in this notebook."
   ]
  },
  {
   "cell_type": "code",
   "execution_count": null,
   "metadata": {},
   "outputs": [],
   "source": []
  },
  {
   "cell_type": "code",
   "execution_count": null,
   "metadata": {},
   "outputs": [],
   "source": []
  },
  {
   "cell_type": "code",
   "execution_count": null,
   "metadata": {},
   "outputs": [],
   "source": []
  },
  {
   "cell_type": "code",
   "execution_count": null,
   "metadata": {},
   "outputs": [],
   "source": []
  },
  {
   "cell_type": "code",
   "execution_count": null,
   "metadata": {},
   "outputs": [],
   "source": []
  },
  {
   "cell_type": "code",
   "execution_count": null,
   "metadata": {},
   "outputs": [],
   "source": []
  },
  {
   "cell_type": "code",
   "execution_count": null,
   "metadata": {},
   "outputs": [],
   "source": []
  },
  {
   "cell_type": "code",
   "execution_count": null,
   "metadata": {},
   "outputs": [],
   "source": []
  },
  {
   "cell_type": "code",
   "execution_count": null,
   "metadata": {},
   "outputs": [],
   "source": []
  },
  {
   "cell_type": "code",
   "execution_count": null,
   "metadata": {},
   "outputs": [],
   "source": []
  }
 ],
 "metadata": {
  "colab": {
   "name": "HW 2 Startup Lab",
   "provenance": []
  },
  "kernelspec": {
   "display_name": "Python 3 (ipykernel)",
   "language": "python",
   "name": "python3"
  },
  "language_info": {
   "codemirror_mode": {
    "name": "ipython",
    "version": 3
   },
   "file_extension": ".py",
   "mimetype": "text/x-python",
   "name": "python",
   "nbconvert_exporter": "python",
   "pygments_lexer": "ipython3",
   "version": "3.9.7"
  }
 },
 "nbformat": 4,
 "nbformat_minor": 1
}
