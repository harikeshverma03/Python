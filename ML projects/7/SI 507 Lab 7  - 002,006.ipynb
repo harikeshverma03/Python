{
 "cells": [
  {
   "cell_type": "markdown",
   "id": "07d581f7",
   "metadata": {},
   "source": [
    "- Jamboard - https://jamboard.google.com/d/1kHQCbvFyhe58dhnSxSYz4PPerHLIjnGEdyOuuNWrC40/edit?usp=sharing\n",
    "- Resources \n",
    " - https://runestone.academy/runestone/books/published/pythonds/BasicDS/SimulationPrintingTasks.html\n",
    " - https://runestone.academy/ns/books/published/pythonds/BasicDS/ImplementingaStackinPython.html"
   ]
  },
  {
   "cell_type": "markdown",
   "id": "d3d10542",
   "metadata": {},
   "source": [
    "## Stacks \n",
    " - Follows First In First Out (FIFO) "
   ]
  },
  {
   "cell_type": "markdown",
   "id": "f770fdba",
   "metadata": {},
   "source": [
    "Question - Use Stacks to convert a decimal number (base 10) to binary number (base 2).\n",
    "\n",
    "Here is a implementation of the method without using stacks."
   ]
  },
  {
   "cell_type": "code",
   "execution_count": 1,
   "id": "4c891e6b",
   "metadata": {},
   "outputs": [
    {
     "name": "stdout",
     "output_type": "stream",
     "text": [
      "11101001\n"
     ]
    }
   ],
   "source": [
    "num = 233 \n",
    "output = \"\"\n",
    "while (num > 0):\n",
    "    quotient = num//2\n",
    "    remainder = num%2\n",
    "    output =   (str(remainder)) + output\n",
    "    num = num // 2\n",
    "    \n",
    "print(output)\n",
    "    \n",
    "    "
   ]
  },
  {
   "cell_type": "markdown",
   "id": "8eb014fd",
   "metadata": {},
   "source": [
    "Same method can be adopted to convert into any other base (However, some more processing would be required to convert in base 16 as it uses letter representation). Here is an example to convert decimal to base 7."
   ]
  },
  {
   "cell_type": "code",
   "execution_count": 2,
   "id": "46960a3a",
   "metadata": {},
   "outputs": [
    {
     "name": "stdout",
     "output_type": "stream",
     "text": [
      "236\n"
     ]
    }
   ],
   "source": [
    "num = 125 \n",
    "output = \"\"\n",
    "while (num > 0):\n",
    "    quotient = num//7\n",
    "    remainder = num%7\n",
    "    output =   (str(remainder)) + output\n",
    "    num = num // 7\n",
    "    \n",
    "print(output)\n",
    "    "
   ]
  },
  {
   "cell_type": "markdown",
   "id": "870bbbee",
   "metadata": {},
   "source": [
    "There is no inbuilt Stack data structure, however, we can implement it using other data structures like list. Here is implementation of of Stack using list data structure. "
   ]
  },
  {
   "cell_type": "code",
   "execution_count": 3,
   "id": "49ea69e4",
   "metadata": {},
   "outputs": [],
   "source": [
    "class Stack:\n",
    "\n",
    "    def __init__(self):\n",
    "        \"\"\"\n",
    "        Initializing Stack.\n",
    "        \"\"\"\n",
    "        self.stack = []\n",
    "        \n",
    "#   checks if the stack is empty and returns bool value\n",
    "    def isEmpty(self) -> bool:\n",
    "        return True if len(self.stack) == 0 else False\n",
    "    \n",
    "\n",
    "#   returns the length of the stack\n",
    "    def size(self) -> int:\n",
    "        return len(self.stack)\n",
    "    \n",
    "    \n",
    "#   returns top most item of the stack without removing it\n",
    "    def peek(self) -> int:\n",
    "        return self.stack[-1]  \n",
    "    \n",
    "    \n",
    "#   add an item to stack. It increases size by 1\n",
    "    def push(self, x: int) -> None:\n",
    "        self.x = x\n",
    "        self.stack.append(x)  \n",
    "        \n",
    "        \n",
    "#   remove an item from stack. It decreases size by 1, does not return anything\n",
    "    def pop(self) -> None:\n",
    "        self.stack.pop()\n",
    "        \n",
    "        "
   ]
  },
  {
   "cell_type": "markdown",
   "id": "fcea3eb7",
   "metadata": {},
   "source": [
    "Use this implementation and change the code above (or write new code) to use stacks to solve the same problem."
   ]
  },
  {
   "cell_type": "code",
   "execution_count": 4,
   "id": "a4a628fa",
   "metadata": {
    "scrolled": true
   },
   "outputs": [],
   "source": [
    "s = Stack()"
   ]
  },
  {
   "cell_type": "code",
   "execution_count": 5,
   "id": "9f0c76ec",
   "metadata": {},
   "outputs": [],
   "source": [
    "number = 233 \n",
    "\n",
    "#insert code here\n",
    "    "
   ]
  },
  {
   "cell_type": "markdown",
   "id": "e068333c",
   "metadata": {},
   "source": [
    "Questions - Implement Paranthesis checker using Stack. "
   ]
  },
  {
   "cell_type": "code",
   "execution_count": 6,
   "id": "df22ae05",
   "metadata": {},
   "outputs": [],
   "source": [
    "s1 = Stack()"
   ]
  },
  {
   "cell_type": "code",
   "execution_count": 7,
   "id": "e36e2210",
   "metadata": {},
   "outputs": [],
   "source": [
    "expr1 = \"{[()]\"\n",
    "expr2 = \"{[()]()}\"\n",
    "\n",
    "# Traversing the Expression\n",
    "for char in expr1:\n",
    "    pass\n",
    "    \n",
    "    # Step1 : Check if its a opening or closing backet\n",
    "    \n",
    "    # Step2 : If opening, add it to stack \n",
    "    \n",
    "    # Step3 : If closing, pop an item from stack. If the poped item and the current paranthesis match,\n",
    "    # continue the loop else break out as paranthesis are not balanced\n",
    "    # Caveat - Should you check if stack is empty before poping ??\n",
    "    \n",
    "    # Step4 : If the stack is empty, then you have balanced expression else not. Can you explain why ?\n",
    "    \n",
    "\n"
   ]
  }
 ],
 "metadata": {
  "kernelspec": {
   "display_name": "Python 3 (ipykernel)",
   "language": "python",
   "name": "python3"
  },
  "language_info": {
   "codemirror_mode": {
    "name": "ipython",
    "version": 3
   },
   "file_extension": ".py",
   "mimetype": "text/x-python",
   "name": "python",
   "nbconvert_exporter": "python",
   "pygments_lexer": "ipython3",
   "version": "3.9.7"
  }
 },
 "nbformat": 4,
 "nbformat_minor": 5
}
