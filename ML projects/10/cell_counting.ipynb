{
 "cells": [
  {
   "cell_type": "code",
   "execution_count": 2,
   "id": "6bfeb378",
   "metadata": {},
   "outputs": [],
   "source": [
    "import skimage.io as io\n",
    "import numpy as np\n",
    "from skimage.color import rgb2gray\n",
    "from skimage.filters import sobel"
   ]
  },
  {
   "cell_type": "code",
   "execution_count": 3,
   "id": "8d1fa461",
   "metadata": {},
   "outputs": [],
   "source": [
    "# This function is provided to you. You will need to call it.\n",
    "# You should not need to modify it.\n",
    "def seedfill(im, seed_row, seed_col, fill_color, bckg):\n",
    "    \"\"\"\n",
    "    im: The image on which to perform the seedfill algorithm\n",
    "    seed_row and seed_col: position of the seed pixel\n",
    "    fill_color: Color for the fill\n",
    "    bckg: Color of the background, to be filled\n",
    "    Returns: Number of pixels filled\n",
    "    Behavior: Modifies image by performing seedfill\n",
    "    \"\"\"\n",
    "    size=0  # keep track of patch size\n",
    "    n_row, n_col = im.shape\n",
    "    front={(seed_row,seed_col)}  # initial front\n",
    "    while len(front)>0:\n",
    "        r, c = front.pop()  # remove an element from front\n",
    "        if im[r, c]==bckg: \n",
    "            im[r, c]=fill_color  # color the pixel\n",
    "            size+=1\n",
    "            # look at all neighbors\n",
    "            for i in range(max(0,r-1), min(n_row,r+2)):\n",
    "                for j in range(max(0,c-1),min(n_col,c+2)):\n",
    "                    # if background, add to front\n",
    "                    if im[i,j]==bckg and\\\n",
    "                       (i,j) not in front:\n",
    "                        front.add((i,j))\n",
    "    return size"
   ]
  },
  {
   "cell_type": "code",
   "execution_count": 4,
   "id": "07168962",
   "metadata": {},
   "outputs": [],
   "source": [
    "# QUESTION 1\n",
    "def detect_edges(image_color):\n",
    "    \"\"\"\n",
    "    Args:\n",
    "        image_color: the original color image read from an image_file\n",
    "    Returns:         \n",
    "        image_graytone: a grayscale image converted from the original image\n",
    "        image_sobel: a new image of detected edges\n",
    "    \"\"\"\n",
    "    # WRITE YOUR CODE HERE"
   ]
  },
  {
   "cell_type": "code",
   "execution_count": 5,
   "id": "12c34881",
   "metadata": {},
   "outputs": [],
   "source": [
    "# QUESTION 2\n",
    "def binarize_edges(image_sobel1):\n",
    "    \"\"\"\n",
    "    Args:\n",
    "        image_sobel1: an ndarray as the initial edge detected image from Q1\n",
    "    Returns: \n",
    "        image_sobel2: a new image where the pixels whose value grear or equal to \n",
    "        0.05 are set to 1; othewise to 0\n",
    "    \"\"\"    \n",
    "    # WRITE YOUR CODE HERE"
   ]
  },
  {
   "cell_type": "code",
   "execution_count": 6,
   "id": "7757c77d",
   "metadata": {},
   "outputs": [],
   "source": [
    "# QUESTION 3\n",
    "def cleanup(image_graytone, image_sobel2):\n",
    "    \"\"\"\n",
    "    Args:\n",
    "        image_graytone: the grayscale image from Q1\n",
    "        image_sobel2: the image from Q2 where pixel value is either 0 or 1\n",
    "    Returns: \n",
    "        image_sobel3: a modified version of image_sobel2, where any white pixel at \n",
    "        position (r,c) is replaced by a black pixel if the value of pixel (r,c) \n",
    "        or of any of the 8 surrounding pixels in image_graytone image is below 0.5. \n",
    "    \"\"\"    \n",
    "    # WRITE YOUR CODE HERE"
   ]
  },
  {
   "cell_type": "code",
   "execution_count": 7,
   "id": "e0328d71",
   "metadata": {},
   "outputs": [],
   "source": [
    "# QUESTION 4\n",
    "def fill_cells(image_sobel3):\n",
    "    \"\"\"\n",
    "    Args:\n",
    "        edge_image: A black-and-white image, with black background and\n",
    "                    white edges\n",
    "    Returns: \n",
    "        filled_image: A new image where each close region is filled with \n",
    "                    a different grayscale value\n",
    "    \"\"\"\n",
    "    # WRITE YOUR CODE HERE\n",
    "\n"
   ]
  },
  {
   "cell_type": "code",
   "execution_count": 8,
   "id": "f4b8f89d",
   "metadata": {},
   "outputs": [],
   "source": [
    "# QUESTION 5\n",
    "def classify_cells(image_graytone, filled_image, \\\n",
    "                   min_size=1000, max_size=5000, \\\n",
    "                   infected_grayscale=0.5, min_infected_percentage=0.02):\n",
    "    \"\"\"\n",
    "    Args:\n",
    "        image_graytone: The graytone image from Q1\n",
    "        filled_image: A graytone image, with each closed region colored\n",
    "                       with a different grayscal value from Q4\n",
    "        min_size, max_size: \n",
    "            The min and max size of a region to be called a cell\n",
    "        infected_grayscale: \n",
    "            Maximum grayscale value for a pixel to be called infected\n",
    "        min_infected_percentage: \n",
    "            Smallest fraction of dark pixels needed to call a cell infected\n",
    "    Returns: A tuple of two sets, containing the grayscale values of cells \n",
    "             that are infected and not infected\n",
    "    \"\"\"\n",
    "    # WRITE YOUR CODE HERE"
   ]
  },
  {
   "cell_type": "code",
   "execution_count": 9,
   "id": "e437f79b",
   "metadata": {},
   "outputs": [],
   "source": [
    "# QUESTION 6\n",
    "def annotate_image(color_image, filled_image, infected, not_infected):\n",
    "    \"\"\"\n",
    "    Args:\n",
    "        image_color: the original color image read from image_file in Q1\n",
    "        filled_image: A graytone image, with each closed region colored\n",
    "                       with a different grayscal value in Q4\n",
    "        infected: A set of graytone values of infected cells\n",
    "        not_infected: A set of graytone values of non-infcted cells\n",
    "    Returns: A color image, with infected cells highlighted in red\n",
    "             and non-infected cells highlighted in green\n",
    "    \"\"\"    \n",
    "    # WRITE YOUR CODE HERE"
   ]
  },
  {
   "cell_type": "code",
   "execution_count": 10,
   "id": "2c67efc0",
   "metadata": {},
   "outputs": [
    {
     "ename": "TypeError",
     "evalue": "cannot unpack non-iterable NoneType object",
     "output_type": "error",
     "traceback": [
      "\u001b[1;31m---------------------------------------------------------------------------\u001b[0m",
      "\u001b[1;31mTypeError\u001b[0m                                 Traceback (most recent call last)",
      "\u001b[1;32m~\\AppData\\Local\\Temp/ipykernel_10248/809419395.py\u001b[0m in \u001b[0;36m<module>\u001b[1;34m\u001b[0m\n\u001b[0;32m      8\u001b[0m \u001b[1;33m\u001b[0m\u001b[0m\n\u001b[0;32m      9\u001b[0m     \u001b[0mimage_color\u001b[0m \u001b[1;33m=\u001b[0m \u001b[0mio\u001b[0m\u001b[1;33m.\u001b[0m\u001b[0mimread\u001b[0m\u001b[1;33m(\u001b[0m\u001b[0mimage_file\u001b[0m\u001b[1;33m)\u001b[0m\u001b[1;33m\u001b[0m\u001b[1;33m\u001b[0m\u001b[0m\n\u001b[1;32m---> 10\u001b[1;33m     \u001b[0mimage_graytone\u001b[0m\u001b[1;33m,\u001b[0m\u001b[0mimage_sobel1\u001b[0m \u001b[1;33m=\u001b[0m \u001b[0mdetect_edges\u001b[0m\u001b[1;33m(\u001b[0m\u001b[0mimage_color\u001b[0m\u001b[1;33m)\u001b[0m\u001b[1;33m\u001b[0m\u001b[1;33m\u001b[0m\u001b[0m\n\u001b[0m\u001b[0;32m     11\u001b[0m     \u001b[0mio\u001b[0m\u001b[1;33m.\u001b[0m\u001b[0mimsave\u001b[0m\u001b[1;33m(\u001b[0m\u001b[1;34m\"Q1_gray_sobel.jpg\"\u001b[0m\u001b[1;33m,\u001b[0m\u001b[0mimage_sobel1\u001b[0m\u001b[1;33m)\u001b[0m\u001b[1;33m\u001b[0m\u001b[1;33m\u001b[0m\u001b[0m\n\u001b[0;32m     12\u001b[0m \u001b[1;33m\u001b[0m\u001b[0m\n",
      "\u001b[1;31mTypeError\u001b[0m: cannot unpack non-iterable NoneType object"
     ]
    }
   ],
   "source": [
    "if __name__ == \"__main__\":  # do not remove this line\n",
    "    \n",
    "    # QUESTION 1 TEST CODE\n",
    "    # The path of the malaria image file. Default to \"malaria-1.jpg\"\n",
    "    # Change it to \"malaria-1-small.jpg\" for quick debugging    \n",
    "    image_file = \"malaria-1.jpg\"\n",
    "    # image_file = \"malaria-1-small.jpg\"\n",
    "    \n",
    "    image_color = io.imread(image_file)\n",
    "    image_graytone,image_sobel1 = detect_edges(image_color)    \n",
    "    io.imsave(\"Q1_gray_sobel.jpg\",image_sobel1)\n",
    "    \n",
    "    # QUESTION 2 TEST CODE\n",
    "    image_sobel2 = binarize_edges(image_sobel1)\n",
    "    io.imsave(\"Q2_gray_sobel_T005.jpg\",image_sobel2)\n",
    "    \n",
    "    # QUESTION 3 TEST CODE\n",
    "    image_sobel3 = cleanup(image_graytone, image_sobel2)\n",
    "    io.imsave(\"Q3_gray_sobel_T005_cleanup.jpg\",image_sobel3)\n",
    "    \n",
    "    # QUESTION 4 TEST CODE\n",
    "    image_filled=fill_cells(image_sobel3)\n",
    "    io.imsave(\"Q4_gray_sobel_T005_cleanup_filled.jpg\",image_filled)\n",
    "    \n",
    "    # QUESTION 5 TEST CODE\n",
    "    infected, not_infected = classify_cells(image_graytone, image_filled)\n",
    "    print(infected)\n",
    "    print(not_infected)\n",
    "    \n",
    "    # QUESTION 6 TEST CODE\n",
    "    annotated_image = annotate_image(image_color, image_filled, \n",
    "                                     infected, not_infected)\n",
    "    io.imsave(\"Q6_annotated.jpg\", annotated_image)"
   ]
  },
  {
   "cell_type": "code",
   "execution_count": null,
   "id": "1bfce468",
   "metadata": {},
   "outputs": [],
   "source": []
  }
 ],
 "metadata": {
  "kernelspec": {
   "display_name": "Python 3 (ipykernel)",
   "language": "python",
   "name": "python3"
  },
  "language_info": {
   "codemirror_mode": {
    "name": "ipython",
    "version": 3
   },
   "file_extension": ".py",
   "mimetype": "text/x-python",
   "name": "python",
   "nbconvert_exporter": "python",
   "pygments_lexer": "ipython3",
   "version": "3.9.7"
  }
 },
 "nbformat": 4,
 "nbformat_minor": 5
}
