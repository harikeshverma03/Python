{
 "cells": [
  {
   "cell_type": "code",
   "execution_count": null,
   "id": "76b6b8f7",
   "metadata": {},
   "outputs": [],
   "source": [
    "count = x.groupby('administrative_area_level_1').sum()\n",
    "po = x.groupby('administrative_area_level_1').sum()\n",
    "co = count[['hosp']]*1000\n",
    "po = po[['population']]\n",
    "po.rename(columns = {'population':'hosp'}, inplace = True)\n",
    "div = co.div(po).dropna()\n",
    "div = div[div['hosp'] != 0]\n",
    "fig = plt.figure(figsize = (15, 5))\n",
    "\n",
    "# creating the bar plot\n",
    "#plt.bar(div.index, div.hosp, color ='blue',width = 0.4)\n",
    "plt.hist(div.hosp)\n",
    "plt.xlabel('Hospitalizations per 1000 people')\n",
    "plt.axvline(x = div.hosp.median(), color = 'red', label = 'axvline - full height')\n",
    "plt.show()"
   ]
  },
  {
   "cell_type": "code",
   "execution_count": null,
   "id": "be623964",
   "metadata": {},
   "outputs": [],
   "source": []
  }
 ],
 "metadata": {
  "kernelspec": {
   "display_name": "Python 3 (ipykernel)",
   "language": "python",
   "name": "python3"
  },
  "language_info": {
   "codemirror_mode": {
    "name": "ipython",
    "version": 3
   },
   "file_extension": ".py",
   "mimetype": "text/x-python",
   "name": "python",
   "nbconvert_exporter": "python",
   "pygments_lexer": "ipython3",
   "version": "3.9.7"
  }
 },
 "nbformat": 4,
 "nbformat_minor": 5
}
