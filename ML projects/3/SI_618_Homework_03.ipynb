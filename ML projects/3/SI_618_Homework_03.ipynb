{
 "cells": [
  {
   "cell_type": "markdown",
   "metadata": {
    "colab_type": "text",
    "id": "UGqk3SzXsMR3",
    "tags": []
   },
   "source": [
    "# SI 618 - Homework #3: Data Visualization\n",
    "\n",
    "Version 2022.01.30.1.CT"
   ]
  },
  {
   "cell_type": "markdown",
   "metadata": {
    "colab_type": "text",
    "id": "UiAKCrOR2gYt"
   },
   "source": [
    "## Background"
   ]
  },
  {
   "cell_type": "markdown",
   "metadata": {
    "colab_type": "text",
    "id": "5_xhHLHr2gYu"
   },
   "source": [
    "This homework assignment focuses on the visual analysis of the COVID-19 data avaiable here: https://covid19datahub.io/articles/api/python.html. A description of the dataset can be found at https://covid19datahub.io/articles/doc/data.html\n",
    "\n",
    "Your main task in this assignment is to explore the data *using the data manipulation, analysis, and visualization methods we covered in class* as well as those in the assigned readings.  You may need to consult pandas, matplotlib and seaborn documentation, as well as Stack Overflow, or other online resources.  "
   ]
  },
  {
   "cell_type": "markdown",
   "metadata": {
    "colab_type": "text",
    "id": "d5D_nveM2gYv"
   },
   "source": [
    "## Total Points and Rubric\n",
    "\n",
    "Each question is worth the same number of points.  Points will be allocated according to the following rubric:\n",
    "\n",
    "- 90-100%: Question is correctly and completely answered.  Answer consists of well-written code that conforms to [PEP 8](https://www.python.org/dev/peps/pep-0008/) guidelines and is \n",
    "accompanied by a written interpretation in a Markdown block.  Written interpretation does not contain spelling, grammar or stylistic errors (see https://faculty.washington.edu/heagerty/Courses/b572/public/StrunkWhite.pdf for a detailed specifications).  Minor problems, such as formatting, incorrect submissions, missing names, etc. will result in less than 100%.\n",
    "- 75-85% : Answer is mostly complete and correct; two or fewer noticeable omissions or errors.  Minor stylistic flaws, either in code or in \n",
    "written interpretation.\n",
    "- 50-70%: Answer has significant omissions or errors; Noticeable departure from PEP-8 guildelines and/or moderate spelling, grammar, or style issues\n",
    "in written interpretations.\n",
    "- 25-45%: Question is perfunctorily attempted.  Substantial parts are missing or incorrect.\n",
    "- 0 points: Question not attempted."
   ]
  },
  {
   "cell_type": "markdown",
   "metadata": {
    "colab_type": "text",
    "id": "mZBwJn1J2gYv",
    "tags": []
   },
   "source": [
    "## Getting the data\n",
    "\n",
    "\n",
    "The following cell should install the most up-to-date version of the \n",
    "COVID-19 datahub.  Alternatively, you can consult the datahub documentation to download the data files directly."
   ]
  },
  {
   "cell_type": "code",
   "execution_count": 1,
   "metadata": {
    "colab": {
     "base_uri": "https://localhost:8080/",
     "height": 272
    },
    "colab_type": "code",
    "id": "evStchCv2gYw",
    "outputId": "db9bb133-58be-481a-f12e-5077489bb275"
   },
   "outputs": [
    {
     "name": "stdout",
     "output_type": "stream",
     "text": [
      "Requirement already satisfied: covid19dh in d:\\programdata\\anaconda3\\envs\\tf_gpu2\\lib\\site-packages (2.3.0)\n",
      "Requirement already satisfied: pandas in d:\\programdata\\anaconda3\\envs\\tf_gpu2\\lib\\site-packages (from covid19dh) (1.3.5)\n",
      "Requirement already satisfied: requests in d:\\programdata\\anaconda3\\envs\\tf_gpu2\\lib\\site-packages (from covid19dh) (2.27.1)\n",
      "Requirement already satisfied: pytz>=2017.3 in d:\\programdata\\anaconda3\\envs\\tf_gpu2\\lib\\site-packages (from pandas->covid19dh) (2021.3)\n",
      "Requirement already satisfied: python-dateutil>=2.7.3 in d:\\programdata\\anaconda3\\envs\\tf_gpu2\\lib\\site-packages (from pandas->covid19dh) (2.8.2)\n",
      "Requirement already satisfied: numpy>=1.17.3 in d:\\programdata\\anaconda3\\envs\\tf_gpu2\\lib\\site-packages (from pandas->covid19dh) (1.21.2)\n",
      "Requirement already satisfied: six>=1.5 in d:\\programdata\\anaconda3\\envs\\tf_gpu2\\lib\\site-packages (from python-dateutil>=2.7.3->pandas->covid19dh) (1.16.0)\n",
      "Requirement already satisfied: charset-normalizer~=2.0.0 in d:\\programdata\\anaconda3\\envs\\tf_gpu2\\lib\\site-packages (from requests->covid19dh) (2.0.4)\n",
      "Requirement already satisfied: certifi>=2017.4.17 in d:\\programdata\\anaconda3\\envs\\tf_gpu2\\lib\\site-packages (from requests->covid19dh) (2021.10.8)\n",
      "Requirement already satisfied: urllib3<1.27,>=1.21.1 in d:\\programdata\\anaconda3\\envs\\tf_gpu2\\lib\\site-packages (from requests->covid19dh) (1.26.7)\n",
      "Requirement already satisfied: idna<4,>=2.5 in d:\\programdata\\anaconda3\\envs\\tf_gpu2\\lib\\site-packages (from requests->covid19dh) (3.3)\n",
      "Note: you may need to restart the kernel to use updated packages.\n"
     ]
    }
   ],
   "source": [
    "pip install --upgrade covid19dh"
   ]
  },
  {
   "cell_type": "markdown",
   "metadata": {
    "colab_type": "text",
    "id": "NYWBjZGA2gY0"
   },
   "source": [
    "### Restart the kernel to import the module and access the data"
   ]
  },
  {
   "cell_type": "code",
   "execution_count": 2,
   "metadata": {
    "colab": {},
    "colab_type": "code",
    "id": "wDXh1Odt2gY1"
   },
   "outputs": [],
   "source": [
    "from covid19dh import covid19"
   ]
  },
  {
   "cell_type": "markdown",
   "metadata": {
    "colab_type": "text",
    "id": "8EV1PilWtl0Z"
   },
   "source": [
    "## Answer the questions below. \n",
    "For each question, you should\n",
    "1. Write code that can help you answer the following questions, and\n",
    "2. Explain your answers in plain English. You should use complete sentences that would be understood by an educated professional who is not necessarily a data scientist (like a product manager)."
   ]
  },
  {
   "cell_type": "code",
   "execution_count": 3,
   "metadata": {
    "colab": {
     "base_uri": "https://localhost:8080/",
     "height": 70
    },
    "colab_type": "code",
    "id": "vjY0Nbka2gY4",
    "outputId": "d208de70-5f05-4b13-8ed2-cce106469c84"
   },
   "outputs": [],
   "source": [
    "# Load all the modules\n",
    "import pandas as pd\n",
    "import numpy as np\n",
    "import matplotlib.pyplot as plt\n",
    "import seaborn as sns"
   ]
  },
  {
   "cell_type": "code",
   "execution_count": 18,
   "metadata": {},
   "outputs": [
    {
     "data": {
      "text/plain": [
       "id                                             object\n",
       "date                                   datetime64[ns]\n",
       "confirmed                                     float64\n",
       "deaths                                        float64\n",
       "recovered                                     float64\n",
       "tests                                         float64\n",
       "vaccines                                      float64\n",
       "people_vaccinated                             float64\n",
       "people_fully_vaccinated                       float64\n",
       "hosp                                          float64\n",
       "icu                                           float64\n",
       "vent                                          float64\n",
       "school_closing                                float64\n",
       "workplace_closing                             float64\n",
       "cancel_events                                 float64\n",
       "gatherings_restrictions                       float64\n",
       "transport_closing                             float64\n",
       "stay_home_restrictions                        float64\n",
       "internal_movement_restrictions                float64\n",
       "international_movement_restrictions           float64\n",
       "information_campaigns                         float64\n",
       "testing_policy                                float64\n",
       "contact_tracing                               float64\n",
       "facial_coverings                              float64\n",
       "vaccination_policy                            float64\n",
       "elderly_people_protection                     float64\n",
       "government_response_index                     float64\n",
       "stringency_index                              float64\n",
       "containment_health_index                      float64\n",
       "economic_support_index                        float64\n",
       "administrative_area_level                       int64\n",
       "administrative_area_level_1                    object\n",
       "administrative_area_level_2                   float64\n",
       "administrative_area_level_3                   float64\n",
       "latitude                                      float64\n",
       "longitude                                     float64\n",
       "population                                    float64\n",
       "iso_alpha_3                                    object\n",
       "iso_alpha_2                                    object\n",
       "iso_numeric                                   float64\n",
       "iso_currency                                   object\n",
       "key_local                                     float64\n",
       "key_google_mobility                            object\n",
       "key_apple_mobility                             object\n",
       "key_jhu_csse                                   object\n",
       "key_nuts                                      float64\n",
       "key_gadm                                       object\n",
       "dtype: object"
      ]
     },
     "execution_count": 18,
     "metadata": {},
     "output_type": "execute_result"
    }
   ],
   "source": [
    "x.dtypes"
   ]
  },
  {
   "cell_type": "markdown",
   "metadata": {
    "colab_type": "text",
    "id": "PfjXDtHoabcS"
   },
   "source": [
    "### <font color='#8B0000'> Q1 How many different countries are represented in the country-level data set?</font>\n",
    "- Refer to the documentation to call the covid19() function with appropriate parameters (https://covid19datahub.io/articles/api/python.html)"
   ]
  },
  {
   "cell_type": "code",
   "execution_count": 40,
   "metadata": {
    "colab": {},
    "colab_type": "code",
    "id": "ttHwVC8ot5Ur"
   },
   "outputs": [
    {
     "name": "stdout",
     "output_type": "stream",
     "text": [
      "Total Number of Countries represented in the dataset as per ISO-3166-1 standards are:  234\n"
     ]
    }
   ],
   "source": [
    "x, src = covid19(verbose = False)\n",
    "print('Total Number of Countries represented in the dataset as per ISO-3166-1 standards are: ', len(x.iso_alpha_3.unique()))"
   ]
  },
  {
   "cell_type": "markdown",
   "metadata": {
    "colab_type": "text",
    "id": "g1RAXO76uN-A"
   },
   "source": [
    "There are total 249 countries which are listed in ISO-3166-1 country codes table. Out of these 249 coutries 234 are represented in the dataset which concludes to 0.9397 portion of the total number of countries represented in the dataset"
   ]
  },
  {
   "cell_type": "markdown",
   "metadata": {
    "colab_type": "text",
    "id": "tbmL9-kta0o4"
   },
   "source": [
    "### <font color='#8B0000'> Q2 Create a line chart that shows the total number of cases over time.</font>"
   ]
  },
  {
   "cell_type": "code",
   "execution_count": 22,
   "metadata": {
    "colab": {},
    "colab_type": "code",
    "id": "33LcHThyt5_N"
   },
   "outputs": [
    {
     "data": {
      "text/plain": [
       "[<matplotlib.lines.Line2D at 0x23683e2bf70>]"
      ]
     },
     "execution_count": 22,
     "metadata": {},
     "output_type": "execute_result"
    },
    {
     "data": {
      "image/png": "[encoded data removed]",
      "text/plain": [
       "<Figure size 720x504 with 1 Axes>"
      ]
     },
     "metadata": {
      "needs_background": "light"
     },
     "output_type": "display_data"
    }
   ],
   "source": [
    "count = x.groupby(['date']).sum()\n",
    "count = count[['confirmed']]\n",
    "fig = plt.figure(figsize=(10, 7))\n",
    "plt.plot(co.index, co.confirmed)"
   ]
  },
  {
   "cell_type": "markdown",
   "metadata": {
    "colab_type": "text",
    "id": "FD6-7-D-uWmX"
   },
   "source": [
    "A quadratic increase in total number of cases can be observed. A huge increase in the number of cases was observed from the third quater of 2020 which might show the onset of 2nd wave all over the world "
   ]
  },
  {
   "cell_type": "markdown",
   "metadata": {
    "colab_type": "text",
    "id": "0u5VM5ksbCTm"
   },
   "source": [
    "### <font color='#8B0000'>Q3 Use the country-level data set to create a histogram to:</font>\n",
    "- Show the distribution of values for the number of hospitalizations per 1000 people.  \n",
    "- Draw a red vertical line that shows the median value on the histogram."
   ]
  },
  {
   "cell_type": "code",
   "execution_count": 205,
   "metadata": {
    "colab": {},
    "colab_type": "code",
    "id": "JtI8ru2at6ZU"
   },
   "outputs": [
    {
     "data": {
      "image/png": "[encoded data removed]",
      "text/plain": [
       "<Figure size 1080x360 with 1 Axes>"
      ]
     },
     "metadata": {
      "needs_background": "light"
     },
     "output_type": "display_data"
    },
    {
     "name": "stdout",
     "output_type": "stream",
     "text": [
      "0.1292810329658189\n"
     ]
    }
   ],
   "source": [
    "# put your code here\n",
    "count = x.groupby('administrative_area_level_1').sum()\n",
    "count['hosp_per_1000'] = count['hosp']*1000/count['population']\n",
    "count = count[count['hosp_per_1000'] != 0]\n",
    "fig = plt.figure(figsize = (15, 5))\n",
    "\n",
    "plt.hist(count.hosp_per_1000)\n",
    "plt.xlabel('Hospitalizations per 1000 people')\n",
    "plt.axvline(x = count.hosp_per_1000.median(), color = 'red', label = 'axvline - full height')\n",
    "plt.show()\n",
    "print(count.hosp_per_1000.median())"
   ]
  },
  {
   "cell_type": "markdown",
   "metadata": {
    "colab_type": "text",
    "id": "CCuxztg3uYPQ"
   },
   "source": [
    "The plot shows that most countries have number of hopitalization per 1000 people in the range 0 - 5 with the median being 0.1293. One abberation is that some coutries are having hopitalization per 1000 people in the range 44-50"
   ]
  },
  {
   "cell_type": "markdown",
   "metadata": {
    "colab_type": "text",
    "id": "2wH5ikUcbb16"
   },
   "source": [
    "### <font color='#8B0000'> Q4 Create a visualization that shows the  number of tests per day in the United States and indicate the median value on your visualization.</font>"
   ]
  },
  {
   "cell_type": "code",
   "execution_count": 207,
   "metadata": {
    "colab": {},
    "colab_type": "code",
    "id": "EFwU7diL2gZI"
   },
   "outputs": [
    {
     "name": "stdout",
     "output_type": "stream",
     "text": [
      "1040682.0\n",
      "1135988.4807417975\n"
     ]
    },
    {
     "data": {
      "image/png": "[encoded data removed]",
      "text/plain": [
       "<Figure size 432x288 with 1 Axes>"
      ]
     },
     "metadata": {
      "needs_background": "light"
     },
     "output_type": "display_data"
    }
   ],
   "source": [
    "# put your code here\n",
    "usa,src = covid19(\"USA\",level = 2, verbose = False)\n",
    "count = usa.groupby(['date']).sum()\n",
    "count = count[count['tests'] != 0]\n",
    "count['Daily'] = count['tests'].diff().fillna(count['tests'])\n",
    "count = count[count['Daily'] > 0]\n",
    "plt.hist(count.Daily)\n",
    "plt.ylabel('Distribution')\n",
    "plt.xlabel('Number of tests per day')\n",
    "plt.axvline(x = count.Daily.median(), color = 'red', label = 'axvline - full height')\n",
    "print(count.Daily.median())\n",
    "print(count.Daily.mean())"
   ]
  },
  {
   "cell_type": "markdown",
   "metadata": {
    "colab_type": "text",
    "id": "WlWYu2_5uY7K"
   },
   "source": [
    "The mean number of tests per day is 1135988.48 and median is 1040682 as can also be observed from the plot. There are very less number of days when the number of tests are above .3 *10^7. There are a very few days when the number of tests are 10 times the average value "
   ]
  },
  {
   "cell_type": "markdown",
   "metadata": {
    "colab_type": "text",
    "id": "CVnHVSV12gZL"
   },
   "source": [
    "## For questions below:\n",
    "- You will have to call the covid19() function again **with parameters specific to Canada**. \n",
    "- Set the parameter <code>level = 2</code> in the call to covid19()."
   ]
  },
  {
   "cell_type": "code",
   "execution_count": 146,
   "metadata": {},
   "outputs": [],
   "source": [
    "canada,src = covid19(\"CAN\",level = 2, verbose = False)"
   ]
  },
  {
   "cell_type": "code",
   "execution_count": 147,
   "metadata": {},
   "outputs": [
    {
     "data": {
      "text/plain": [
       "3484          0.0\n",
       "3485          0.0\n",
       "3486          0.0\n",
       "3487          0.0\n",
       "3488          0.0\n",
       "           ...   \n",
       "496541    39811.0\n",
       "496542    39852.0\n",
       "496543    39852.0\n",
       "496544    39878.0\n",
       "496545    39886.0\n",
       "Name: tests, Length: 9141, dtype: float64"
      ]
     },
     "execution_count": 147,
     "metadata": {},
     "output_type": "execute_result"
    }
   ],
   "source": [
    "canada.tests"
   ]
  },
  {
   "cell_type": "markdown",
   "metadata": {
    "colab_type": "text",
    "id": "ggXQN25h2gZM"
   },
   "source": [
    "### <font color='#8B0000'> Q5 Create a bar plot to show the number of tests conducted in each province.  </font>\n",
    "Order the provinces from west to east (use your best judgement for cases where the order is unclear).  Which Canadian province that has conducted the most tests?"
   ]
  },
  {
   "cell_type": "code",
   "execution_count": 165,
   "metadata": {
    "colab": {},
    "colab_type": "code",
    "id": "AtRQgtZL2gZM"
   },
   "outputs": [
    {
     "data": {
      "text/plain": [
       "<AxesSubplot:xlabel='administrative_area_level_2', ylabel='tests'>"
      ]
     },
     "execution_count": 165,
     "metadata": {},
     "output_type": "execute_result"
    },
    {
     "data": {
      "image/png": "[encoded data removed]",
      "text/plain": [
       "<Figure size 1080x504 with 1 Axes>"
      ]
     },
     "metadata": {
      "needs_background": "light"
     },
     "output_type": "display_data"
    }
   ],
   "source": [
    "# put your code here\n",
    "count = canada.groupby(['administrative_area_level_2']).sum().sort_values('longitude')\n",
    "fig = plt.figure(figsize=(15, 7))\n",
    "sns.barplot(x = count.index, y = count['tests'])"
   ]
  },
  {
   "cell_type": "markdown",
   "metadata": {
    "colab_type": "text",
    "id": "YEfyfQtu2gZQ"
   },
   "source": [
    "The ordering was done using the longitude of the provinces in the dataset from west to east. From the plot it is clear that Ontario has conducted most number of tests"
   ]
  },
  {
   "cell_type": "markdown",
   "metadata": {
    "colab_type": "text",
    "id": "Skkue0wv2gZQ"
   },
   "source": [
    "### <font color='#8B0000'> Q6 Create a bar plot that shows the number of tests conducted per 1000 people for each province in Canada.</font>\n",
    "How would you interpret the results of this bar plot given the results of bar plot in question 5. "
   ]
  },
  {
   "cell_type": "code",
   "execution_count": 189,
   "metadata": {
    "colab": {},
    "colab_type": "code",
    "id": "J3sgn95f2gZQ"
   },
   "outputs": [
    {
     "data": {
      "image/png": "[encoded data removed]",
      "text/plain": [
       "<Figure size 1080x504 with 1 Axes>"
      ]
     },
     "metadata": {
      "needs_background": "light"
     },
     "output_type": "display_data"
    }
   ],
   "source": [
    "# put your code here\n",
    "count = canada.groupby(['administrative_area_level_2']).sum().sort_values('longitude')\n",
    "count['tests_per_1000'] = count['tests']*1000/count['population']\n",
    "count = count[count['tests_per_1000'] != 0]\n",
    "\n",
    "fig = plt.figure(figsize=(15, 7))\n",
    "sns.barplot(x = count.index, y = count['tests_per_1000'])\n",
    "plt.show()"
   ]
  },
  {
   "cell_type": "markdown",
   "metadata": {
    "colab_type": "text",
    "id": "OeTYYDMO2gZT"
   },
   "source": [
    "Given the plot from question 2 we can say that the population of Alberta is very low as compared to Ontario, Similary population of all the provinces can be compared using both the plots"
   ]
  },
  {
   "cell_type": "markdown",
   "metadata": {
    "colab_type": "text",
    "id": "kF2a-RsJ2gZU"
   },
   "source": [
    "### <font color='#8B0000'> Q7 Create a visualization that shows which Canadian province has the highest recovery rate. </font>\n",
    "Recovery rate is calculated as the number of recovered cases divided by the number of confirmed cases."
   ]
  },
  {
   "cell_type": "code",
   "execution_count": 209,
   "metadata": {
    "colab": {},
    "colab_type": "code",
    "id": "JpzjGH8S5gIy"
   },
   "outputs": [
    {
     "data": {
      "image/png": "[encoded data removed]",
      "text/plain": [
       "<Figure size 1080x504 with 1 Axes>"
      ]
     },
     "metadata": {
      "needs_background": "light"
     },
     "output_type": "display_data"
    }
   ],
   "source": [
    "# put your code here\n",
    "count = canada.groupby(['administrative_area_level_2']).sum().sort_values('longitude')\n",
    "count['recovery_rate'] = count['recovered']/count['confirmed']\n",
    "\n",
    "fig = plt.figure(figsize=(15, 7))\n",
    "sns.barplot(x = count.index, y = count['recovery_rate'])\n",
    "plt.show()"
   ]
  },
  {
   "cell_type": "markdown",
   "metadata": {
    "colab_type": "text",
    "id": "Au4YdEij2gZU"
   },
   "source": [
    "The recovery rate of Ontario is the highest. It can also be seen that recovery rate for all the provinces are nearly similar"
   ]
  },
  {
   "cell_type": "markdown",
   "metadata": {
    "colab_type": "text",
    "id": "1ypeZjWN2gZV"
   },
   "source": [
    "### <font color='#8B0000'> Q8 Create visualizations that show the impacts of _at least_ three policy measures on mortality or infection rates.</font>\n",
    "\n",
    "\n",
    "See https://covid19datahub.io/articles/doc/data.html for descriptions of the available policy measures.  You are not limited to histograms and bar charts.  Remember that you can use subplots!\n"
   ]
  },
  {
   "cell_type": "code",
   "execution_count": 204,
   "metadata": {
    "colab": {},
    "colab_type": "code",
    "id": "-7-V1pJ52gZW"
   },
   "outputs": [
    {
     "data": {
      "text/plain": [
       "<AxesSubplot:xlabel='stay_home_restrictions', ylabel='infection_rate'>"
      ]
     },
     "execution_count": 204,
     "metadata": {},
     "output_type": "execute_result"
    },
    {
     "data": {
      "image/png": "[encoded data removed]",
      "text/plain": [
       "<Figure size 1080x1080 with 4 Axes>"
      ]
     },
     "metadata": {
      "needs_background": "light"
     },
     "output_type": "display_data"
    }
   ],
   "source": [
    "# put your code here\n",
    "# transport Closing\n",
    "count = canada.groupby(['transport_closing']).sum().sort_values('longitude')\n",
    "count['infection_rate'] = count['confirmed']/count['population']\n",
    "\n",
    "fig, axs = plt.subplots(2, 2)\n",
    "fig.set_figheight(15)\n",
    "fig.set_figwidth(15)\n",
    "sns.barplot(x = count.index, y = count['infection_rate'], ax = axs[0,0])\n",
    "\n",
    "# School Closing\n",
    "count = canada.groupby(['school_closing']).sum().sort_values('longitude')\n",
    "count['infection_rate'] = count['confirmed']/count['population']\n",
    "\n",
    "sns.barplot(x = count.index, y = count['infection_rate'], ax = axs[0,1])\n",
    "\n",
    "# gatherings_restrictions\n",
    "count = canada.groupby(['gatherings_restrictions']).sum().sort_values('longitude')\n",
    "count['infection_rate'] = count['confirmed']/count['population']\n",
    "\n",
    "sns.barplot(x = count.index, y = count['infection_rate'], ax = axs[1,0])\n",
    "\n",
    "# stay_home_restrictions\n",
    "count = canada.groupby(['stay_home_restrictions']).sum().sort_values('longitude')\n",
    "count['infection_rate'] = count['confirmed']/count['population']\n",
    "\n",
    "sns.barplot(x = count.index, y = count['infection_rate'], ax = axs[1,1])"
   ]
  },
  {
   "cell_type": "markdown",
   "metadata": {
    "colab_type": "text",
    "id": "83mPoFFx2gZY"
   },
   "source": [
    "It can bee seen that putting restrictions at public places such as school and transport and public gatherings helps in restricting the spread of infection. But from the plot it is observed that infection rate is high during stay home restrictions, which can be interpreted as stay home restrictions are applied only when the infection rate is very high"
   ]
  },
  {
   "cell_type": "markdown",
   "metadata": {
    "colab_type": "text",
    "id": "ezPjmQTU2gZY"
   },
   "source": [
    "## <font color='green'> Please submit your completed notebook in .IPYNB and .HTML formats via Canvas </font>"
   ]
  }
 ],
 "metadata": {
  "colab": {
   "collapsed_sections": [],
   "name": "370_Homework_2.ipynb",
   "provenance": []
  },
  "kernelspec": {
   "display_name": "Python 3 (ipykernel)",
   "language": "python",
   "name": "python3"
  },
  "language_info": {
   "codemirror_mode": {
    "name": "ipython",
    "version": 3
   },
   "file_extension": ".py",
   "mimetype": "text/x-python",
   "name": "python",
   "nbconvert_exporter": "python",
   "pygments_lexer": "ipython3",
   "version": "3.9.7"
  },
  "varInspector": {
   "cols": {
    "lenName": 16,
    "lenType": 16,
    "lenVar": 40
   },
   "kernels_config": {
    "python": {
     "delete_cmd_postfix": "",
     "delete_cmd_prefix": "del ",
     "library": "var_list.py",
     "varRefreshCmd": "print(var_dic_list())"
    },
    "r": {
     "delete_cmd_postfix": ") ",
     "delete_cmd_prefix": "rm(",
     "library": "var_list.r",
     "varRefreshCmd": "cat(var_dic_list()) "
    }
   },
   "types_to_exclude": [
    "module",
    "function",
    "builtin_function_or_method",
    "instance",
    "_Feature"
   ],
   "window_display": false
  }
 },
 "nbformat": 4,
 "nbformat_minor": 4
}
