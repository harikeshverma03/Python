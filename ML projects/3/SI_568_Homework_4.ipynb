{
 "cells": [
  {
   "cell_type": "markdown",
   "metadata": {
    "deletable": false,
    "editable": false,
    "id": "QXfiw99xlcxo",
    "nbgrader": {
     "grade": false,
     "locked": true,
     "solution": false
    }
   },
   "source": [
    "# SI 568 Homework 4\n",
    "\n",
    "There are  9  problems on this assignment, split into two sections ('Probability' and 'Linear Algebra'). You must pick at least  5  questions to complete, with at least one problem from each section.  ***You must complete Problem 1, and also either Problem 8 or Problem 9*** (or both!)."
   ]
  },
  {
   "cell_type": "markdown",
   "metadata": {
    "deletable": false,
    "editable": false,
    "id": "gyJhLoc5fT45",
    "nbgrader": {
     "grade": false,
     "locked": true,
     "solution": false
    }
   },
   "source": [
    "## Probability\n",
    "\n"
   ]
  },
  {
   "cell_type": "markdown",
   "metadata": {
    "deletable": false,
    "editable": false,
    "id": "rudtyhmHR_qw",
    "nbgrader": {
     "grade": false,
     "locked": true,
     "solution": false
    }
   },
   "source": [
    "**Problem 1 (required)**: We need to search $10$ identical boxes in the attic for a family heirloom.  We will try two different searching methods:\n",
    "- **a naive random search**: We pick a box randomly and uniformly from the set of boxes, and if it does not contain the heirloom we set it back down and try again, _without marking whether or not we have searched the box_.  Because we did not mark the box, it is possible we search the same box multiple times in a row.  We continue with this search until we find the heirloom.\n",
    "- **a reasonable random search**: We pick a box randomly and uniformly from the set of boxes, and if it does not contain the heirloom we mark it with an 'X' and set if off to the side and try again, pulling from the remaining boxes (i.e. we search each box no more than once).\n",
    "\n",
    "For both algorithms listed above, answer the following questions:\n",
    "  \n",
    "Note: use float('inf') or import numpy or math to use numpy.inf or math.inf to represent infinity.\n",
    "\n",
    "(a)  In the best case scenario, what is the fewest number of boxes we need to search to find the heirloom? Store solutions in `naive_a` and `reasonable_a` for the autograder.\n",
    "  \n",
    "(b)  In the worst case scenario, what is the largest number of boxes we need to search to find the heirloom? Store solutions in `naive_b` and `reasonable_b` for the autograder.\n",
    "  \n",
    "(c)  How many boxes do we _expect_ to have to search to find the heirloom? Store solutions in `naive_c` and `reasonable_c` for the autograder.\n",
    "  \n",
    "(d)  How do your answers change if we have to search $n$ boxes instead of $10$? Hand graded.\n"
   ]
  },
  {
   "cell_type": "code",
   "execution_count": 1,
   "metadata": {
    "collapsed": true
   },
   "outputs": [],
   "source": [
    "naive_a = naive_b = naive_c = reasonable_a = reasonable_b = reasonable_c = 0\n",
    "###\n",
    "### YOUR CODE HERE\n",
    "###\n"
   ]
  },
  {
   "cell_type": "code",
   "execution_count": 2,
   "metadata": {
    "collapsed": true,
    "deletable": false,
    "editable": false,
    "nbgrader": {
     "grade": true,
     "grade_id": "p1_auto",
     "locked": true,
     "points": "0.5",
     "solution": false
    }
   },
   "outputs": [],
   "source": [
    "###\n",
    "### AUTOGRADER TEST - DO NOT REMOVE\n",
    "###\n"
   ]
  },
  {
   "cell_type": "markdown",
   "metadata": {
    "deletable": false,
    "editable": false,
    "id": "AWNDfEd8Xe0_",
    "nbgrader": {
     "grade": false,
     "locked": true,
     "solution": false
    }
   },
   "source": [
    "**Problem 2**:  Simulate both of the search algorithms from **Problem 1** with $n=10$ boxes for $10^6$ trials. This problem is hand graded.  \n",
    "\n",
    "(a)  Plot a histogram of the number of boxes you had to search before you found the heirloom, and report the mean and variance of each distribution.  _Editor's Note:_ To ensure that your histogram prints nicely (at least for the \"reasonable\" search), you may want to manually choose the bin edges in your histogram to ensure that each possible value is visually represented.  If your list of experiments is stored in a numpy array called `ctrs`, then you could plot the histogram with the line `plt.hist(ctrs,bins=np.arange(min(ctrs)-0.5,max(ctrs)+1.5,1))`, which will ensure that each bin represents every integer value that `ctrs` contains.\n",
    "\n",
    "\n",
    "\n",
    "(b)  Describe qualitatively the features of the observed distribution.  \n",
    "\n",
    "\n",
    "(c)  For each distribution, pick two trials from your $10^6$ trials and compute the $z$-score.  Remember that if $x$ is a sample of a random variable from a distribution with mean $\\mu$ and variance $\\sigma^2$, then the $z$-score is given by $$z = \\frac{x-\\mu}{\\sigma}$$\n",
    "Try to pick your trials such that one has a positive $z$-score and one has a negative $z$-score.  Do the $z$-scores provide comparable information about your sample in both situations?  Put another way, suppose you had a sample with a $z$-score of $1.5$.  If this sample is from the distribution corresponding to the naive search, does this tell you something different than if this sample is from the distribution corresponding to the reasonable search?\n"
   ]
  },
  {
   "cell_type": "code",
   "execution_count": 3,
   "metadata": {
    "colab": {
     "base_uri": "https://localhost:8080/",
     "height": 656
    },
    "id": "lqNiV4VHKje8",
    "outputId": "5a2e13be-a24f-4923-9044-d5653aebf0e9"
   },
   "outputs": [],
   "source": [
    "###\n",
    "### YOUR CODE HERE\n",
    "###\n"
   ]
  },
  {
   "cell_type": "markdown",
   "metadata": {
    "deletable": false,
    "editable": false,
    "id": "Z8zVM0xRAONq",
    "nbgrader": {
     "grade": false,
     "locked": true,
     "solution": false
    }
   },
   "source": [
    "**Problem 3**:  Is it possible to have random variables $X$ and $Y$ where $\\mathbb{E}\\left(XY\\right) = \\mathbb{E}\\left(X\\right)\\mathbb{E}\\left(Y\\right)$ even though $X$ and $Y$ are _not_ independent?  If so, provide an example.  If not, justify. Partially hand graded, but store 'yes' or 'no' into 'prob_3' for the autograder."
   ]
  },
  {
   "cell_type": "code",
   "execution_count": 4,
   "metadata": {
    "collapsed": true
   },
   "outputs": [],
   "source": [
    "prob_3 = 0\n",
    "###\n",
    "### YOUR CODE HERE\n",
    "###\n"
   ]
  },
  {
   "cell_type": "code",
   "execution_count": 5,
   "metadata": {
    "collapsed": true,
    "deletable": false,
    "editable": false,
    "nbgrader": {
     "grade": true,
     "grade_id": "p3_auto",
     "locked": true,
     "points": "0.5",
     "solution": false
    }
   },
   "outputs": [],
   "source": [
    "###\n",
    "### AUTOGRADER TEST - DO NOT REMOVE\n",
    "###\n"
   ]
  },
  {
   "cell_type": "markdown",
   "metadata": {
    "deletable": false,
    "editable": false,
    "id": "zp0I1joOSQIF",
    "nbgrader": {
     "grade": false,
     "locked": true,
     "solution": false
    }
   },
   "source": [
    "**Problem 4**:  In this problem we will explore covariances and correlations and trying to interpret them in term of data.  To do this, we will need to be able to load some data from an outside source (in this case, a URL).  In the code snippet below, we load the datasets for parts (a) and (b) into numpy arrays.\n",
    "\n"
   ]
  },
  {
   "cell_type": "code",
   "execution_count": 6,
   "metadata": {
    "collapsed": true,
    "id": "3cGFA9xMV-mI"
   },
   "outputs": [],
   "source": [
    "#load this for convenient calculations\n",
    "import numpy as np\n",
    "import pandas as pd\n",
    "\n",
    "#load this for plotting\n",
    "import matplotlib.pyplot as plt\n",
    "\n",
    "#these libraries allow us to load data from a URL\n",
    "import requests\n",
    "import io\n",
    "\n",
    "#Load a dataset -- this is the dataset for part (a)\n",
    "response = requests.get('https://epimath.org/misc/SampleData2.npy')\n",
    "response.raise_for_status()\n",
    "sample_data_a = np.load(io.BytesIO(response.content))\n",
    "\n",
    "#load a dataset -- this is the dataset for part (b)\n",
    "response = requests.get('https://epimath.org/misc/fake_simpson_sample.txt')\n",
    "response.raise_for_status()\n",
    "data_part_b = pd.read_csv(io.BytesIO(response.content),header=None)\n",
    "sample_data_b=data_part_b.to_numpy()\n"
   ]
  },
  {
   "cell_type": "markdown",
   "metadata": {
    "deletable": false,
    "editable": false,
    "id": "sy7Rp-xIV3RO",
    "nbgrader": {
     "grade": false,
     "locked": true,
     "solution": false
    }
   },
   "source": [
    "(a) For this part, `sample_data_a` contains $500$ samples of two variables $X$ and $Y$.  Compute estimates of the expected values of $X$ and $Y$, the variances of $X$ and $Y$, the covariance of $X$ and $Y$, and the correlation coefficient between the two.  Generate a plot of $Y$ vs. $X$ and explain if your results make sense in light of this picture. Partially hand graded, but store solutions into 'exp_x' 'exp_y' 'var_x' 'var_y' 'covariance' 'correlation' for the autograder. Include 4 decimal places."
   ]
  },
  {
   "cell_type": "code",
   "execution_count": 7,
   "metadata": {
    "colab": {
     "base_uri": "https://localhost:8080/",
     "height": 363
    },
    "id": "geDK2-cVTvCf",
    "outputId": "a784e5e3-e5d7-4f1b-ce52-061e2f83721f"
   },
   "outputs": [],
   "source": [
    "exp_x = exp_y = var_x = var_y = covariance = correlation = 0\n",
    "###\n",
    "### YOUR CODE HERE\n",
    "###\n"
   ]
  },
  {
   "cell_type": "code",
   "execution_count": 8,
   "metadata": {
    "collapsed": true,
    "deletable": false,
    "editable": false,
    "nbgrader": {
     "grade": true,
     "grade_id": "p4_a_auto",
     "locked": true,
     "points": "0.25",
     "solution": false
    }
   },
   "outputs": [],
   "source": [
    "###\n",
    "### AUTOGRADER TEST - DO NOT REMOVE\n",
    "###\n"
   ]
  },
  {
   "cell_type": "markdown",
   "metadata": {
    "deletable": false,
    "editable": false,
    "id": "3-Z82OyLTp_D",
    "nbgrader": {
     "grade": false,
     "locked": true,
     "solution": false
    }
   },
   "source": [
    "(b) For this part, the `sample_data_b` contains $3$ pieces of data for $1000$ different dogs.\n",
    "  - the first column contains number of minutes per hour the dog spent training\n",
    "  - the second column contains the percent of the time that the dog disobeyed a command (e.g. didn't stay, ate a treat when told to leave it, etc.)\n",
    "  - the third column contains a $1$, $2$, or $3$, representing different breeds of dog (border collies=1, golden retrievers=2, and shiba inus=3)\n",
    "  \n",
    "(i)  Separating the data by dog breed, compute the correlation between minutes per hour spent training and percent time a command is disobeyed. Interpret this result. Store the results in 'corr_1' 'corr_2' and 'corr_3' for the autograder.\n",
    "  \n",
    "(ii)  Ignoring dog breed (i.e. considering the entire set of $1000$ dogs as a single group), compute the correlation between minutes per hour spent training and percent time a command is disobeyed.  Interpret this result. Store the result in 'ignore_corr' for the autograder.\n",
    "  \n",
    "(iii)  If the interpretations from parts (i) and (ii) are different, explain why there is a discrepancy.  If the interpretations from parts (i) and (ii) are the same, go back and check your work. Hand graded."
   ]
  },
  {
   "cell_type": "code",
   "execution_count": 9,
   "metadata": {
    "colab": {
     "base_uri": "https://localhost:8080/",
     "height": 346
    },
    "id": "dwjtE0UzXhCm",
    "outputId": "f6f688fa-6bca-4f16-c026-5ae358e3b971"
   },
   "outputs": [],
   "source": [
    "corr_1 = corr_2 = corr_3 = ignore_corr = 0\n",
    "###\n",
    "### YOUR CODE HERE\n",
    "###\n"
   ]
  },
  {
   "cell_type": "code",
   "execution_count": 10,
   "metadata": {
    "collapsed": true,
    "deletable": false,
    "editable": false,
    "nbgrader": {
     "grade": true,
     "grade_id": "p4_b_auto",
     "locked": true,
     "points": "0.25",
     "solution": false
    }
   },
   "outputs": [],
   "source": [
    "###\n",
    "### AUTOGRADER TEST - DO NOT REMOVE\n",
    "###\n"
   ]
  },
  {
   "cell_type": "markdown",
   "metadata": {
    "deletable": false,
    "editable": false,
    "id": "P9MbWp45fXeB",
    "nbgrader": {
     "grade": false,
     "locked": true,
     "solution": false
    }
   },
   "source": [
    "## Linear Algebra\n",
    "\n",
    "First, let's load a few libraries we'll use throughout this section and set the plot size."
   ]
  },
  {
   "cell_type": "code",
   "execution_count": 11,
   "metadata": {
    "collapsed": true,
    "id": "g5bnV9rf8xNz"
   },
   "outputs": [],
   "source": [
    "import numpy as np\n",
    "import matplotlib.pyplot as plt # for plotting\n",
    "from numpy import linalg as la  # linear algebra tools\n",
    "from numpy.random import default_rng as rng # for random number generation\n",
    "\n",
    "# The below libraries are to allow us to load data from a URL\n",
    "import requests\n",
    "import io"
   ]
  },
  {
   "cell_type": "code",
   "execution_count": 12,
   "metadata": {
    "collapsed": true,
    "id": "pZFtACvi8t-j"
   },
   "outputs": [],
   "source": [
    "plt.rcParams[\"figure.figsize\"] = (10,10)"
   ]
  },
  {
   "cell_type": "markdown",
   "metadata": {
    "deletable": false,
    "editable": false,
    "id": "6So-oim6fp2H",
    "nbgrader": {
     "grade": false,
     "locked": true,
     "solution": false
    }
   },
   "source": [
    "**Problem 5**: More on thinking about matrices. Hand graded.\n",
    "\n",
    "1. Find a 2x2 matrix that rotates the plane ($\\mathbb{R}^2$) 45 degrees counterclockwise.\n",
    "2. Find a 2x2 matrix that reflects (flips) the plane across the x axis.\n",
    "3. Find a 2x2 matrix that rotates the plane 45 degrees counterclockwise and then reflects it across the x axis.\n",
    "4. Find a 2x2 matrix that collapses the plane onto the line $y=x$."
   ]
  },
  {
   "cell_type": "code",
   "execution_count": 13,
   "metadata": {
    "collapsed": true,
    "id": "30F7dQaVL1pA"
   },
   "outputs": [],
   "source": [
    "### YOUR SOLUTION HERE"
   ]
  },
  {
   "cell_type": "markdown",
   "metadata": {
    "deletable": false,
    "editable": false,
    "id": "n0N1ZnGY717T",
    "nbgrader": {
     "grade": false,
     "locked": true,
     "solution": false
    }
   },
   "source": [
    "**Problem 6**: Which of the following spaces are vector spaces? If a set is not a vector space, explain why not.    \n",
    "  \n",
    "Partially hand graded, but store solutions as 'yes' or 'no' into 'part_1' 'part_2' 'part_3' for the autograder.  \n",
    "\n",
    "1. The set of linear functions of two variables, i.e. functions of the form $a_0 + a_1 x_1 + a_2 x_2$, where we form vectors of the coefficients $a_0$, $a_1$, and $a_2$, using scalar multiplication by the real numbers.\n",
    "\n",
    "2. The set of all 2x2 matrices, using scalar multiplication by the real numbers\n",
    "\n",
    "3. The set of integers in two dimensions, i.e. vectors of the form $(x,y)$, where $x$ and $y$ are integers, assuming scalar multiplication by the real numbers."
   ]
  },
  {
   "cell_type": "code",
   "execution_count": 14,
   "metadata": {
    "collapsed": true,
    "id": "LxIyZT-CiiFq"
   },
   "outputs": [],
   "source": [
    "part_1 = part_2 = part_3 = 0\n",
    "###\n",
    "### YOUR CODE HERE\n",
    "###\n"
   ]
  },
  {
   "cell_type": "code",
   "execution_count": 15,
   "metadata": {
    "collapsed": true,
    "deletable": false,
    "editable": false,
    "nbgrader": {
     "grade": true,
     "grade_id": "p6_auto",
     "locked": true,
     "points": "0.5",
     "solution": false
    }
   },
   "outputs": [],
   "source": [
    "###\n",
    "### AUTOGRADER TEST - DO NOT REMOVE\n",
    "###\n"
   ]
  },
  {
   "cell_type": "markdown",
   "metadata": {
    "deletable": false,
    "editable": false,
    "id": "01hY5QYbotA-",
    "nbgrader": {
     "grade": false,
     "locked": true,
     "solution": false
    }
   },
   "source": [
    "**Problem 7**: Which of the following are subspaces of the vector space $\\mathbb{R}^2$, assuming scalar multiplication using the real numbers? If the set is not a subspace, explain why not. Partially hand graded, but store solutions as 'yes' or 'no' into 'part_1' 'part_2' 'part_3' for the autograder.  \n",
    "\n",
    "1. The line $y = x$ in the plane, i.e. $\\{(x,y) \\in \\mathbb{R}^2 | y = x\\}$, using scalar multiplication by the real numbers\n",
    "\n",
    "2. The line $y = x + 2$ in the plane, i.e. $\\{(x,y) \\in \\mathbb{R}^2 | y = x+2\\}$, using scalar multiplication by the real numbers\n",
    "\n",
    "3. The positive quadrant, i.e. $\\{(x,y) \\in \\mathbb{R}^2 | x \\geq 0, y \\geq 0\\}$"
   ]
  },
  {
   "cell_type": "code",
   "execution_count": 16,
   "metadata": {
    "collapsed": true,
    "id": "E6vE_GHipnX3"
   },
   "outputs": [],
   "source": [
    "part_1 = part_2 = part_3 = 0\n",
    "###\n",
    "### YOUR CODE HERE\n",
    "###\n"
   ]
  },
  {
   "cell_type": "code",
   "execution_count": 17,
   "metadata": {
    "collapsed": true,
    "deletable": false,
    "editable": false,
    "nbgrader": {
     "grade": true,
     "grade_id": "p7_auto",
     "locked": true,
     "points": "0.5",
     "solution": false
    }
   },
   "outputs": [],
   "source": [
    "###\n",
    "### AUTOGRADER TEST - DO NOT REMOVE\n",
    "###\n"
   ]
  },
  {
   "cell_type": "markdown",
   "metadata": {
    "deletable": false,
    "editable": false,
    "id": "WMYIlu-FfZJs",
    "nbgrader": {
     "grade": false,
     "locked": true,
     "solution": false
    }
   },
   "source": [
    "**Problem 8**: Eigenvalues, eigenvectors, and data dimension reduction (in other words, working up to PCA!). In this problem, we will explore how eigenvalues and eigenvectors can help us understand the covariance of a data set. Hand graded.\n",
    "\n",
    "The code below will load and plot a data set as a numpy array called `data`. The data is arranged in two rows: the first row is the *x* values of the data, and the second row is the *y* values of the data. \n",
    "\n",
    "1. *Calculate the covariance matrix* of the data set using the function `np.cov()`. What do the entries of the covariance matrix tell you about the shape of the data set?\n",
    "\n",
    "2. *Calculate the eigenvalues and eigenvectors of the covariance matrix* using `la.eig()`. Then, plot the eigenvectors on top of your data set, with the length of the eigenvectors scaled by the square root of the corresponding eigenvalues (we'll learn more about why the square root in class next week). \n",
    "\n",
    "    To plot the eigenvectors, you can use the `arrow` plotting command, for example like this: `plt.arrow(x, y, dx, dy, width = 0.25, color='#fb8500', zorder=2)`, where `x` and `y` are the coordinates for the base of the arrow (in this case the mean values of the x and y values of the data), and the `dx` and `dy` are the displacement components for where the point of the arrow should go (these should be the square-root scaled eigenvalue components described above). \n",
    "\n",
    "    From the plot, what do the eigenvalues and eigenvectors tell you about the covariance matrix and the shape of the data set? \n",
    "\n",
    "3. *Transform the data using the matrix of eigenvectors*. Lastly, take the matrix of eigenvectors that you got from calling `la.eig()`. Transpose that matrix and multiply it by your data set. Then re-plot the data. What does this appear to have done to your data? How might this be useful for data analysis?"
   ]
  },
  {
   "cell_type": "code",
   "execution_count": 18,
   "metadata": {
    "colab": {
     "base_uri": "https://localhost:8080/",
     "height": 592
    },
    "id": "JzCLrSQ3zC88",
    "outputId": "8fc81882-e308-43b6-f3eb-ca718bfdd356"
   },
   "outputs": [],
   "source": [
    "# Load dataset\n",
    "response = requests.get('https://epimath.org/misc/ExampleData1.npy')\n",
    "response.raise_for_status()\n",
    "data = np.load(io.BytesIO(response.content))\n",
    "\n",
    "# Plot the data\n",
    "plt.plot(data[0,:], data[1,:], 'o')\n",
    "plt.axis('equal')\n",
    "plt.show()"
   ]
  },
  {
   "cell_type": "code",
   "execution_count": 19,
   "metadata": {
    "colab": {
     "base_uri": "https://localhost:8080/",
     "height": 1000
    },
    "id": "9we0hvk5d2RA",
    "outputId": "09fed4f7-9be2-4ca5-a687-f50c86438530"
   },
   "outputs": [],
   "source": [
    "###\n",
    "### YOUR CODE HERE\n",
    "###\n"
   ]
  },
  {
   "cell_type": "markdown",
   "metadata": {
    "deletable": false,
    "editable": false,
    "id": "UDYn-JSMJx_d",
    "nbgrader": {
     "grade": false,
     "locked": true,
     "solution": false
    }
   },
   "source": [
    "**Problem 9: Boolean text vectors**. Suppose we have a text data set (e.g. a collection of tweets, yelp reviews, movie summaries, book titles or text, etc.). Let $S$ be the set of all distinct words in the entire data set (i.e. each word appears only once in $S$, but every word used in the data is in there).\n",
    "\n",
    "Now we can represent each data point (i.e. each tweet/yelp review/book title) as a vector, where we put a zero or a one for each word to indicate whether that word is included in the data point. (You can also think if this as putting a TRUE or FALSE boolean variable for each word.) We will define $V(S)$ to be the set of all possible vectors that we can make this way, i.e. all possible subsets of $S$.\n",
    "\n",
    "We will define addition of vectors to be element-wise, where the $0$ and $1$ entries of the vector add like this: \n",
    "- $1+1=0$, \n",
    "- $1+0=0+1=1$, and \n",
    "- $0+0=0$. \n",
    "\n",
    "Then, instead of using $\\mathbb{R}$ or $\\mathbb{C}$ to be our scalars, we will define our scalars to just be the numbers $1$ and $0$, where we define multiplication like this:\n",
    "- Scalars multiply with each other as: $0\\cdot 0 = 0$, &nbsp; $0\\cdot 1 = 1\\cdot 0 = 0$, &nbsp; $1\\cdot 1 = 1$\n",
    "- Scalars multiply vectors as: $0\\cdot \\vec{v} = \\vec{0}$ and $1\\cdot \\vec{v} = \\vec{v}$. \n",
    "\n",
    "*Questions*  \n",
    "  \n",
    "This problem is mostly hand graded, but partially autograded.\n",
    "\n",
    "1. An example. Let's consider the following text data (in this case, the first 3 sentences of the syllabus): \n",
    "\n",
    "    > What is Data Science? What does it mean to be a Data Scientist? This course aims to help students achieve a deeper understanding of the ins and outs of this field with real world case scenarios and examples.\n",
    "\n",
    "    Let $S$ be the set of all unique words in the text above, and lets consider each sentence of the above text data to be one data point. How big is $S? (I.e. how many distinct words are there in the data?) Write down the vector for each sentence above, using alphabetical order for the words. Store the number of distinct words into 'part_1' for the autograder.\n",
    "\n",
    "2. Do these three vectors span the vector space $V(S)$? (I.e. from these three vectors, could you make any vector in the vector space through addition and scalar multiplication?)  Why or why not? Store 'yes' or 'no' into 'part_2' for the autograder.\n",
    "\n",
    "3. If $|S| = n$ (i.e. there are $n$ distinct words in our data set), how many possible vectors are there? (I.e. what is the size of $V(S)$?) Apply n=30 to your solution and store the result into 'part_3' for the autograder.\n",
    "\n",
    "4. Next, let's show that the set $V(S)$, with scalar multiplication using $\\{0,1\\}$ as described above, is a vector space. We can see that addition is commutative from the definition, since it says that $1+0=0+1$ (and order doesn't matter for $1+1$ and $0+0$). Similarly, the scalar $1$ is the multiplicative identity, as by definition $1\\cdot \\vec{v} = \\vec{v}$. Let us also assume the associative and distributive properties are true (although if you want to show them go for it! I'll include the proofs in the solutions also). Show the additive identity and additive inverse properties for $V(S)$. In other words, explain what the additive identity and the additive inverses should be for this vector space and why they work."
   ]
  },
  {
   "cell_type": "code",
   "execution_count": 20,
   "metadata": {
    "collapsed": true,
    "id": "3eWzMVQPUwJ3"
   },
   "outputs": [],
   "source": [
    "part_1 = part_2 = part_3 = 0\n",
    "###\n",
    "### YOUR CODE HERE\n",
    "###\n"
   ]
  },
  {
   "cell_type": "code",
   "execution_count": 21,
   "metadata": {
    "collapsed": true,
    "deletable": false,
    "editable": false,
    "nbgrader": {
     "grade": true,
     "grade_id": "p9_auto",
     "locked": true,
     "points": "0.5",
     "solution": false
    }
   },
   "outputs": [],
   "source": [
    "###\n",
    "### AUTOGRADER TEST - DO NOT REMOVE\n",
    "###\n"
   ]
  }
 ],
 "metadata": {
  "colab": {
   "collapsed_sections": [],
   "name": "SI 568 HW4 Solutions.ipynb",
   "provenance": []
  },
  "kernelspec": {
   "display_name": "Python 3 (ipykernel)",
   "language": "python",
   "name": "python3"
  },
  "language_info": {
   "codemirror_mode": {
    "name": "ipython",
    "version": 3
   },
   "file_extension": ".py",
   "mimetype": "text/x-python",
   "name": "python",
   "nbconvert_exporter": "python",
   "pygments_lexer": "ipython3",
   "version": "3.9.7"
  }
 },
 "nbformat": 4,
 "nbformat_minor": 1
}
