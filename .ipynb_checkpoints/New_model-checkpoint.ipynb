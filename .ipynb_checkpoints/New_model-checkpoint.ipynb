{
 "cells": [
  {
   "cell_type": "code",
   "execution_count": 1,
   "metadata": {
    "id": "WLCXDmoVL5UC"
   },
   "outputs": [
    {
     "ename": "ModuleNotFoundError",
     "evalue": "No module named 'google'",
     "output_type": "error",
     "traceback": [
      "\u001b[1;31m---------------------------------------------------------------------------\u001b[0m",
      "\u001b[1;31mModuleNotFoundError\u001b[0m                       Traceback (most recent call last)",
      "\u001b[1;32m<ipython-input-1-d5df0069828e>\u001b[0m in \u001b[0;36m<module>\u001b[1;34m\u001b[0m\n\u001b[1;32m----> 1\u001b[1;33m \u001b[1;32mfrom\u001b[0m \u001b[0mgoogle\u001b[0m\u001b[1;33m.\u001b[0m\u001b[0mcolab\u001b[0m \u001b[1;32mimport\u001b[0m \u001b[0mdrive\u001b[0m\u001b[1;33m\u001b[0m\u001b[1;33m\u001b[0m\u001b[0m\n\u001b[0m\u001b[0;32m      2\u001b[0m \u001b[0mdrive\u001b[0m\u001b[1;33m.\u001b[0m\u001b[0mmount\u001b[0m\u001b[1;33m(\u001b[0m\u001b[1;34m'/content/drive'\u001b[0m\u001b[1;33m)\u001b[0m\u001b[1;33m\u001b[0m\u001b[1;33m\u001b[0m\u001b[0m\n",
      "\u001b[1;31mModuleNotFoundError\u001b[0m: No module named 'google'"
     ]
    }
   ],
   "source": [
    "from google.colab import drive\n",
    "drive.mount('/content/drive')"
   ]
  },
  {
   "cell_type": "code",
   "execution_count": 4,
   "metadata": {
    "id": "6ofk6L19TIIU"
   },
   "outputs": [
    {
     "name": "stdout",
     "output_type": "stream",
     "text": [
      "C:\\Users\\harik\\OneDrive\\Documents\\Projects\\BTP\\elpv-dataset-master\n"
     ]
    }
   ],
   "source": [
    "cd C:\\Users\\harik\\OneDrive\\Documents\\Projects\\BTP\\elpv-dataset-master"
   ]
  },
  {
   "cell_type": "code",
   "execution_count": 5,
   "metadata": {
    "id": "Flqodl8gL5aT"
   },
   "outputs": [
    {
     "ename": "ModuleNotFoundError",
     "evalue": "No module named 'tensorflow'",
     "output_type": "error",
     "traceback": [
      "\u001b[1;31m---------------------------------------------------------------------------\u001b[0m",
      "\u001b[1;31mModuleNotFoundError\u001b[0m                       Traceback (most recent call last)",
      "\u001b[1;32m<ipython-input-5-c5adfce731ad>\u001b[0m in \u001b[0;36m<module>\u001b[1;34m\u001b[0m\n\u001b[0;32m      1\u001b[0m \u001b[1;32mfrom\u001b[0m \u001b[0melpv_reader\u001b[0m \u001b[1;32mimport\u001b[0m \u001b[0mload_dataset\u001b[0m\u001b[1;33m\u001b[0m\u001b[1;33m\u001b[0m\u001b[0m\n\u001b[1;32m----> 2\u001b[1;33m \u001b[1;32mimport\u001b[0m \u001b[0mtensorflow\u001b[0m \u001b[1;32mas\u001b[0m \u001b[0mtf\u001b[0m\u001b[1;33m\u001b[0m\u001b[1;33m\u001b[0m\u001b[0m\n\u001b[0m\u001b[0;32m      3\u001b[0m \u001b[1;32mimport\u001b[0m \u001b[0mtensorflow\u001b[0m\u001b[1;33m.\u001b[0m\u001b[0mkeras\u001b[0m\u001b[1;33m\u001b[0m\u001b[1;33m\u001b[0m\u001b[0m\n\u001b[0;32m      4\u001b[0m \u001b[1;32mfrom\u001b[0m \u001b[0mtensorflow\u001b[0m \u001b[1;32mimport\u001b[0m \u001b[0mkeras\u001b[0m\u001b[1;33m\u001b[0m\u001b[1;33m\u001b[0m\u001b[0m\n\u001b[0;32m      5\u001b[0m \u001b[1;32mimport\u001b[0m \u001b[0mmatplotlib\u001b[0m\u001b[1;33m.\u001b[0m\u001b[0mpyplot\u001b[0m \u001b[1;32mas\u001b[0m \u001b[0mplt\u001b[0m\u001b[1;33m\u001b[0m\u001b[1;33m\u001b[0m\u001b[0m\n",
      "\u001b[1;31mModuleNotFoundError\u001b[0m: No module named 'tensorflow'"
     ]
    }
   ],
   "source": [
    "from elpv_reader import load_dataset\n",
    "import tensorflow as tf\n",
    "import tensorflow.keras\n",
    "from tensorflow import keras\n",
    "import matplotlib.pyplot as plt\n",
    "import os\n",
    "import time\n",
    "import pandas as pd\n",
    "import random\n",
    "import numpy as np\n",
    "from keras.preprocessing.image import ImageDataGenerator, load_img, img_to_array\n",
    "from matplotlib import pyplot\n",
    "from sklearn.model_selection import train_test_split\n",
    "from tensorflow.compat.v1 import ConfigProto\n",
    "from tensorflow.compat.v1 import InteractiveSession\n",
    "from tensorflow import keras\n",
    "from tensorflow.keras import layers\n",
    "from tensorflow.keras.models import Sequential\n",
    "config = ConfigProto()\n",
    "config.gpu_options.allow_growth = True\n",
    "session = InteractiveSession(config=config)\n",
    "\n",
    "physical_devices = tf.config.list_physical_devices('GPU')\n",
    "tf.config.experimental.set_memory_growth(physical_devices[0], True)"
   ]
  },
  {
   "cell_type": "code",
   "execution_count": null,
   "metadata": {
    "id": "Jdrpb0T4L5dL"
   },
   "outputs": [],
   "source": [
    "c = os.path.abspath(\"C:\\Users\\harik\\OneDrive\\Documents\\Projects\\BTP\\elpv-dataset-master\")\n",
    "fname = os.path.join(c, 'labels.csv')\n",
    "print(fname)\n",
    "images, proba, types = load_dataset(fname)"
   ]
  },
  {
   "cell_type": "code",
   "execution_count": null,
   "metadata": {
    "id": "uX-26QguVb1w"
   },
   "outputs": [],
   "source": [
    "import cv2\n",
    "total = images.shape\n",
    "print(total[0])\n",
    "rgb_img = [];\n",
    "for i in range(0, total[0]):\n",
    "  gray = images[i];\n",
    "  backtorgb = cv2.cvtColor(gray,cv2.COLOR_GRAY2RGB);\n",
    "  rgb_img.append(backtorgb)\n",
    "plt.imshow(rgb_img[0])\n",
    "print(len(rgb_img))\n",
    "X = np.array(rgb_img)"
   ]
  },
  {
   "cell_type": "code",
   "execution_count": null,
   "metadata": {
    "id": "-Y6-x8fAB24w"
   },
   "outputs": [],
   "source": [
    "y = []\n",
    "for i in proba:\n",
    "  temp = np.zeros(4);\n",
    "  if(i == 1):\n",
    "    temp[0] = 1;\n",
    "  elif(i == 0):\n",
    "    temp[3] = 1;\n",
    "  elif(i < 0.5):\n",
    "    temp[2] = 1;\n",
    "  elif(i > 0.5):\n",
    "    temp[1] = 1;\n",
    "  y.append(temp);\n",
    "y = np.array(y)\n",
    "print(y.shape)"
   ]
  },
  {
   "cell_type": "code",
   "execution_count": null,
   "metadata": {
    "id": "3tYwHKvsL5fi"
   },
   "outputs": [],
   "source": [
    "from sklearn.model_selection import train_test_split\n",
    "X_train, X_test, y_train, y_test = train_test_split(X, y, random_state=0, test_size = 0.2)\n"
   ]
  },
  {
   "cell_type": "code",
   "execution_count": null,
   "metadata": {
    "id": "uIPuGfNNXG0z"
   },
   "outputs": [],
   "source": [
    "\n",
    "#X_train_scaled = X_train / 255\n",
    "#X_test_scaled = X_test / 255"
   ]
  },
  {
   "cell_type": "code",
   "execution_count": null,
   "metadata": {
    "id": "QOx_swDmoGNB"
   },
   "outputs": [],
   "source": [
    "data_augmentation = keras.Sequential(\n",
    "  [\n",
    "    layers.experimental.preprocessing.RandomFlip(\"horizontal\", \n",
    "                                                 input_shape=(300, 300,3)),\n",
    "   layers.experimental.preprocessing.RandomFlip(\"vertical\", \n",
    "                                                 input_shape=(300,300,3)),\n",
    "    layers.experimental.preprocessing.RandomRotation(0.0082),\n",
    "    layers.experimental.preprocessing.RandomZoom(0.02),\n",
    "  ]\n",
    ")"
   ]
  },
  {
   "cell_type": "code",
   "execution_count": null,
   "metadata": {
    "id": "DwUNks20L5Wa"
   },
   "outputs": [],
   "source": [
    "\n",
    "\n",
    "model = keras.models.Sequential([\n",
    "    data_augmentation,                             \n",
    "    keras.layers.Conv2D(filters=64, kernel_size=(3,3), strides=(1,1), activation='relu', input_shape=(300,300,3)),\n",
    "    keras.layers.BatchNormalization(),\n",
    "    keras.layers.MaxPool2D(),\n",
    "    keras.layers.Conv2D(filters=64, kernel_size=(3,3), strides=(1,1), activation='relu'),\n",
    "    keras.layers.BatchNormalization(),\n",
    "    keras.layers.MaxPool2D(),\n",
    "    keras.layers.Conv2D(filters=64, kernel_size=(3,3), strides=(1,1), activation='relu'),\n",
    "    keras.layers.BatchNormalization(),\n",
    "    keras.layers.MaxPool2D(pool_size=(2,2)),\n",
    "    keras.layers.Conv2D(filters=32, kernel_size=(3,3), strides=(1,1), activation='relu'),\n",
    "    keras.layers.BatchNormalization(),\n",
    "    keras.layers.MaxPool2D(pool_size=(4,4), strides=(1,1)),\n",
    "    keras.layers.Flatten(),\n",
    "    keras.layers.Dense(64, activation='relu'),\n",
    "    keras.layers.Dropout(0.5),\n",
    "    keras.layers.Dense(4, activation='softmax')\n",
    "])\n",
    "print(model.summary())"
   ]
  },
  {
   "cell_type": "code",
   "execution_count": null,
   "metadata": {
    "id": "Q3GCe3n5UOAw"
   },
   "outputs": [],
   "source": [
    "model.compile(loss = 'categorical_crossentropy', optimizer=tf.optimizers.SGD(learning_rate=0.001), metrics=['accuracy'])\n",
    "              \n",
    "history = model.fit(X_train_scaled, y_train, shuffle = True, validation_split = 0.1,  epochs = 50)"
   ]
  },
  {
   "cell_type": "code",
   "execution_count": null,
   "metadata": {
    "id": "y9EuvUusJciK"
   },
   "outputs": [],
   "source": [
    "loss_train = history.history['loss']\n",
    "loss_val = history.history['val_loss']\n",
    "epochs = range(1,6)\n",
    "print(len(epochs))\n",
    "plt.plot(epochs, loss_train, 'g', label='Training loss')\n",
    "plt.plot(epochs, loss_val, 'b', label='validation loss')\n",
    "plt.title('Training and Validation loss')\n",
    "plt.xlabel('Epochs')\n",
    "plt.ylabel('Loss')\n",
    "plt.legend()\n",
    "plt.show()"
   ]
  },
  {
   "cell_type": "code",
   "execution_count": null,
   "metadata": {
    "id": "20NkiyNxm3ul"
   },
   "outputs": [],
   "source": [
    "model.evaluate(X_test, y_test)"
   ]
  },
  {
   "cell_type": "code",
   "execution_count": null,
   "metadata": {
    "id": "oADVEsLlJbX6"
   },
   "outputs": [],
   "source": [
    "pre = model.predict(X_test)"
   ]
  },
  {
   "cell_type": "code",
   "execution_count": null,
   "metadata": {
    "id": "sQv5sQy-hgRB"
   },
   "outputs": [],
   "source": [
    "def process( n):\n",
    "  print(pre[n])\n",
    "  print(y_test[n])\n",
    "  img = np.squeeze(X_test[n])\n",
    "  plt.imshow(img)"
   ]
  },
  {
   "cell_type": "code",
   "execution_count": null,
   "metadata": {
    "id": "6s_mVGVzmU57"
   },
   "outputs": [],
   "source": [
    "process(80)"
   ]
  },
  {
   "cell_type": "code",
   "execution_count": null,
   "metadata": {
    "id": "Tf3cZ3634EDA"
   },
   "outputs": [],
   "source": []
  },
  {
   "cell_type": "code",
   "execution_count": null,
   "metadata": {
    "id": "Ym1X7OFV4EF5"
   },
   "outputs": [],
   "source": []
  },
  {
   "cell_type": "code",
   "execution_count": null,
   "metadata": {
    "id": "vGxhSsFAh7Uv"
   },
   "outputs": [],
   "source": [
    "model.compile(loss = tf.keras.losses.MeanSquaredError(), optimizer='adam', metrics=['accuracy'])\n",
    "              \n",
    "history = model.fit(X_train, y_train, shuffle = True, validation_split = 0.1,  epochs = 5)"
   ]
  },
  {
   "cell_type": "code",
   "execution_count": null,
   "metadata": {
    "id": "8nOahvMe4EIj"
   },
   "outputs": [],
   "source": []
  },
  {
   "cell_type": "code",
   "execution_count": null,
   "metadata": {
    "id": "_R2-tMFy4EL7"
   },
   "outputs": [],
   "source": []
  },
  {
   "cell_type": "markdown",
   "metadata": {
    "id": "x1PZ6VGM4EdE"
   },
   "source": [
    "# **Using a pretrained Model**"
   ]
  },
  {
   "cell_type": "code",
   "execution_count": null,
   "metadata": {
    "id": "aIbSRYB748fT"
   },
   "outputs": [],
   "source": [
    "from sklearn.model_selection import train_test_split\n",
    "X_train_r, X_test_r, y_train_r, y_test_r = train_test_split(X, y, random_state=0, test_size = 0.2)\n",
    "#X_train_scaled_r = X_train_r / 255\n",
    "#X_test_scaled_r = X_test_r / 255"
   ]
  },
  {
   "cell_type": "code",
   "execution_count": null,
   "metadata": {
    "id": "QxIIGXEDxJ4Y"
   },
   "outputs": [],
   "source": [
    "#from keras.applications.vgg19 import VGG19\n",
    "model_new= tf.keras.applications.VGG19(weights=\"imagenet\", include_top=False, input_shape = (300,300,3))\n",
    "print(model_new.summary())"
   ]
  },
  {
   "cell_type": "code",
   "execution_count": null,
   "metadata": {
    "id": "wGT3T5t17gIm"
   },
   "outputs": [],
   "source": [
    "\n",
    "for layer in model_new.layers[:]:\n",
    "    layer.trainable = False\n",
    "for layer in model_new.layers:\n",
    "\n",
    "    print(layer, layer.trainable)\n"
   ]
  },
  {
   "cell_type": "code",
   "execution_count": null,
   "metadata": {
    "id": "ChfNSbtg7uj9"
   },
   "outputs": [],
   "source": [
    "\n",
    "# Create the model\n",
    "from tensorflow.keras.layers import Flatten\n",
    "from tensorflow.keras.layers import Dense\n",
    "new_model = Sequential()\n",
    "# Add the vgg convolutional base model\n",
    "\n",
    "new_model.add(data_augmentation)\n",
    "new_model.add(model_new)\n",
    "\n",
    "new_model.add(Flatten())\n",
    "new_model.add(Dense(64, activation='relu'))\n",
    "new_model.add(tensorflow.keras.layers.Dropout(0.5))\n",
    "new_model.add(Dense(4, activation='softmax'))\n",
    "# Show a summary of the new_model. Check the number of trainable parameters\n",
    "\n",
    "new_model.summary()\n"
   ]
  },
  {
   "cell_type": "code",
   "execution_count": null,
   "metadata": {
    "id": "1ew4BdbgyaBP"
   },
   "outputs": [],
   "source": [
    "new_model.compile(loss = 'categorical_crossentropy', optimizer=tf.optimizers.SGD(learning_rate=0.001), metrics=['accuracy'])\n",
    "              \n",
    "history = new_model.fit(X_train_r, y_train_r, shuffle = True, validation_split = 0.1,  epochs = 30)"
   ]
  },
  {
   "cell_type": "code",
   "execution_count": null,
   "metadata": {
    "id": "MpqT8_SI7t0W"
   },
   "outputs": [],
   "source": [
    "loss_train = history.history['loss']\n",
    "loss_val = history.history['val_loss']\n",
    "epochs = range(1,31)\n",
    "print(len(epochs))\n",
    "plt.plot(epochs, loss_train, 'g', label='Training loss')\n",
    "plt.plot(epochs, loss_val, 'b', label='validation loss')\n",
    "plt.title('Training and Validation loss')\n",
    "plt.xlabel('Epochs')\n",
    "plt.ylabel('Loss')\n",
    "plt.legend()\n",
    "plt.show()"
   ]
  },
  {
   "cell_type": "code",
   "execution_count": null,
   "metadata": {
    "id": "JPNSLqNTaiZC"
   },
   "outputs": [],
   "source": [
    "new_model.evaluate(X_test_r, y_test_r)"
   ]
  },
  {
   "cell_type": "code",
   "execution_count": null,
   "metadata": {
    "id": "y7C45JqlasK0"
   },
   "outputs": [],
   "source": [
    "pre = new_model.predict(X_test_r)"
   ]
  },
  {
   "cell_type": "code",
   "execution_count": null,
   "metadata": {
    "id": "yLBO08R9asK1"
   },
   "outputs": [],
   "source": [
    "def process( n):\n",
    "  #print(pre[n])\n",
    "  #print(y_test_r[n])\n",
    "  score = tf.nn.softmax(pre[n])\n",
    "  #print(np.argmax(score))\n",
    "  #print(np.argmax(y_test_r[n]))\n",
    "  img = np.squeeze(X_test[n])\n",
    "  #plt.imshow(img)\n",
    "  return(np.argmax(score) - np.argmax(y_test_r[n]))"
   ]
  },
  {
   "cell_type": "code",
   "execution_count": null,
   "metadata": {
    "id": "0DZFIJxFasK1"
   },
   "outputs": [],
   "source": [
    "wrong = []\n",
    "for i in range(0,pre.shape[0]):\n",
    "  if(process(i) != 0):\n",
    "    wrong.append(i)\n",
    "wrong\n",
    "print(len(wrong))"
   ]
  },
  {
   "cell_type": "markdown",
   "metadata": {
    "id": "dG8nb3DokC_d"
   },
   "source": [
    "pre = model.predict(X_test)\n"
   ]
  },
  {
   "cell_type": "markdown",
   "metadata": {
    "id": "iPvo0Z75kDzc"
   },
   "source": [
    "# **Extras**"
   ]
  },
  {
   "cell_type": "code",
   "execution_count": null,
   "metadata": {
    "id": "k60uBy5uJYUA"
   },
   "outputs": [],
   "source": [
    "from numpy import expand_dims\n",
    "import cv2\n",
    "img = load_img(\"/content/drive/MyDrive/trainClassName/good/\" + sample)\n",
    "x = img_to_array(img)\n",
    "x = x.astype('uint8')\n",
    "x = expand_dims(x,0) \n",
    "pyplot.imshow(x[0])\n",
    "datagen = ImageDataGenerator(\n",
    "    rotation_range=15,\n",
    "    rescale=1./255,\n",
    "    shear_range=0.1,\n",
    "    zoom_range=0.2,\n",
    "    horizontal_flip=True,\n",
    "    width_shift_range=0.1,\n",
    "    height_shift_range=0.1\n",
    ")\n",
    "it = datagen.flow(x, batch_size=1)\n",
    "# generate samples and plot\n",
    "i = 0\n",
    "for batch in datagen.flow(x, batch_size=1,\n",
    "                          save_to_dir='preview', save_prefix='img', save_format='JPG'):\n",
    "    i += 1\n",
    "    if i > 20:\n",
    "        break  # otherwise the generator would loop indefinitely\n"
   ]
  }
 ],
 "metadata": {
  "accelerator": "TPU",
  "colab": {
   "collapsed_sections": [],
   "name": "Untitled1.ipynb",
   "provenance": []
  },
  "kernelspec": {
   "display_name": "Python 3",
   "language": "python",
   "name": "python3"
  },
  "language_info": {
   "codemirror_mode": {
    "name": "ipython",
    "version": 3
   },
   "file_extension": ".py",
   "mimetype": "text/x-python",
   "name": "python",
   "nbconvert_exporter": "python",
   "pygments_lexer": "ipython3",
   "version": "3.8.10"
  }
 },
 "nbformat": 4,
 "nbformat_minor": 1
}
