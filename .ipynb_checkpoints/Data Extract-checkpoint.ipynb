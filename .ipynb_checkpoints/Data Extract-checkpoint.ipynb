{
 "cells": [
  {
   "cell_type": "code",
   "execution_count": 16,
   "id": "a3c0efec",
   "metadata": {},
   "outputs": [
    {
     "ename": "SyntaxError",
     "evalue": "invalid syntax (<ipython-input-16-f229a0e1dd78>, line 2)",
     "output_type": "error",
     "traceback": [
      "\u001b[1;36m  File \u001b[1;32m\"<ipython-input-16-f229a0e1dd78>\"\u001b[1;36m, line \u001b[1;32m2\u001b[0m\n\u001b[1;33m    cd ..\u001b[0m\n\u001b[1;37m        ^\u001b[0m\n\u001b[1;31mSyntaxError\u001b[0m\u001b[1;31m:\u001b[0m invalid syntax\n"
     ]
    }
   ],
   "source": [
    "import pandas as pd"
   ]
  },
  {
   "cell_type": "code",
   "execution_count": 24,
   "id": "5099c64a",
   "metadata": {},
   "outputs": [
    {
     "name": "stdout",
     "output_type": "stream",
     "text": [
      "E:\\Results\\New-1\n"
     ]
    }
   ],
   "source": [
    "cd .."
   ]
  },
  {
   "cell_type": "code",
   "execution_count": 25,
   "id": "2b0af5a0",
   "metadata": {},
   "outputs": [
    {
     "ename": "NameError",
     "evalue": "name 'imp_range' is not defined",
     "output_type": "error",
     "traceback": [
      "\u001b[1;31m---------------------------------------------------------------------------\u001b[0m",
      "\u001b[1;31mNameError\u001b[0m                                 Traceback (most recent call last)",
      "\u001b[1;32m<ipython-input-25-a7b4af45fc2a>\u001b[0m in \u001b[0;36m<module>\u001b[1;34m\u001b[0m\n\u001b[0;32m      2\u001b[0m \u001b[0mimp\u001b[0m\u001b[1;33m.\u001b[0m\u001b[0mto_csv\u001b[0m\u001b[1;33m(\u001b[0m\u001b[1;34m\"Import_reg.csv\"\u001b[0m\u001b[1;33m)\u001b[0m\u001b[1;33m\u001b[0m\u001b[1;33m\u001b[0m\u001b[0m\n\u001b[0;32m      3\u001b[0m \u001b[0mhyd\u001b[0m\u001b[1;33m.\u001b[0m\u001b[0mto_csv\u001b[0m\u001b[1;33m(\u001b[0m\u001b[1;34m\"Hydro_reg.csv\"\u001b[0m\u001b[1;33m)\u001b[0m\u001b[1;33m\u001b[0m\u001b[1;33m\u001b[0m\u001b[0m\n\u001b[1;32m----> 4\u001b[1;33m \u001b[0mimp_range\u001b[0m\u001b[1;33m.\u001b[0m\u001b[0mto_csv\u001b[0m\u001b[1;33m(\u001b[0m\u001b[1;34m\"Import_range_reg.csv\"\u001b[0m\u001b[1;33m)\u001b[0m\u001b[1;33m\u001b[0m\u001b[1;33m\u001b[0m\u001b[0m\n\u001b[0m",
      "\u001b[1;31mNameError\u001b[0m: name 'imp_range' is not defined"
     ]
    }
   ],
   "source": [
    "therm.to_csv(\"Therm_reg.csv\")\n",
    "imp.to_csv(\"Import_reg.csv\")\n",
    "hyd.to_csv(\"Hydro_reg.csv\")\n",
    "imp_range.to_csv(\"Import_range_reg.csv\")"
   ]
  },
  {
   "cell_type": "code",
   "execution_count": null,
   "id": "345c8a11",
   "metadata": {},
   "outputs": [],
   "source": [
    "cd E:\\Results\\New-1\\hol"
   ]
  },
  {
   "cell_type": "code",
   "execution_count": 11,
   "id": "19681233",
   "metadata": {},
   "outputs": [
    {
     "name": "stdout",
     "output_type": "stream",
     "text": [
      "E:\\Results\\New-1\n"
     ]
    }
   ],
   "source": [
    "\n",
    "name =  str(1) + \"_Thermal_per.csv\"\n",
    "therm = pd.read_csv(name)\n",
    "for month in range(1,12):\n",
    "    name =  str(month+1) + \"_Thermal_per.csv\"\n",
    "    Alloc_in = pd.read_csv(name)\n",
    "    therm = pd.concat([therm, Alloc_in])\n",
    "\n",
    "name =  str(1) + \"_Import_per.csv\"\n",
    "imp = pd.read_csv(name)\n",
    "for month in range(1,12):\n",
    "    name =  str(month+1) + \"_Import_per.csv\"\n",
    "    Alloc_in = pd.read_csv(name)\n",
    "    imp = pd.concat([imp, Alloc_in])\n",
    "\n",
    "name =  str(1) + \"_Hydro_per.csv\"\n",
    "hyd = pd.read_csv(name)\n",
    "for month in range(1,12):\n",
    "    name =  str(month+1) + \"_Hydro_per.csv\"\n",
    "    Alloc_in = pd.read_csv(name)\n",
    "    hyd = pd.concat([hyd, Alloc_in])\n",
    "    \n",
    "name =  str(1) + \"_Import_per_range.csv\"\n",
    "imp_range = pd.read_csv(name)\n",
    "for month in range(1,12):\n",
    "    name =  str(month+1) + \"_Import_per_range.csv\"\n",
    "    Alloc_in = pd.read_csv(name)\n",
    "    imp_range = pd.concat([imp_range, Alloc_in])"
   ]
  },
  {
   "cell_type": "code",
   "execution_count": null,
   "id": "a835f180",
   "metadata": {},
   "outputs": [],
   "source": [
    "cd .."
   ]
  },
  {
   "cell_type": "code",
   "execution_count": null,
   "id": "2079c926",
   "metadata": {},
   "outputs": [],
   "source": [
    "therm.to_csv(\"Therm_hol.csv\")\n",
    "imp.to_csv(\"Import_hol.csv\")\n",
    "hyd.to_csv(\"Hydro_hol.csv\")\n",
    "imp_range.to_csv(\"Import_range_hol.csv\")"
   ]
  },
  {
   "cell_type": "code",
   "execution_count": 28,
   "id": "987427c0",
   "metadata": {},
   "outputs": [
    {
     "data": {
      "text/plain": [
       "array([[           nan, 0.00000000e+00],\n",
       "       [0.00000000e+00, 3.57935250e+03],\n",
       "       [1.00000000e+00, 4.26162038e+03],\n",
       "       [2.00000000e+00, 4.95484750e+03],\n",
       "       [3.00000000e+00, 4.02962822e+02],\n",
       "       [4.00000000e+00, 9.45562454e-02]])"
      ]
     },
     "execution_count": 28,
     "metadata": {},
     "output_type": "execute_result"
    }
   ],
   "source": []
  },
  {
   "cell_type": "code",
   "execution_count": null,
   "id": "2b4d12f8",
   "metadata": {},
   "outputs": [],
   "source": []
  }
 ],
 "metadata": {
  "kernelspec": {
   "display_name": "Python 3",
   "language": "python",
   "name": "python3"
  },
  "language_info": {
   "codemirror_mode": {
    "name": "ipython",
    "version": 3
   },
   "file_extension": ".py",
   "mimetype": "text/x-python",
   "name": "python",
   "nbconvert_exporter": "python",
   "pygments_lexer": "ipython3",
   "version": "3.8.8"
  }
 },
 "nbformat": 4,
 "nbformat_minor": 5
}
