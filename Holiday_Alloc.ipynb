{
 "cells": [
  {
   "cell_type": "markdown",
   "metadata": {
    "id": "oGe1W2qtk2ZI"
   },
   "source": [
    "# **Importing Data**"
   ]
  },
  {
   "cell_type": "code",
   "execution_count": null,
   "metadata": {
    "colab": {
     "base_uri": "https://localhost:8080/"
    },
    "id": "CAc7DXcCl4p1",
    "outputId": "100ffa97-fd85-4878-806b-c75bbf727b63"
   },
   "outputs": [
    {
     "name": "stdout",
     "output_type": "stream",
     "text": [
      "Downloading...\n",
      "From: https://drive.google.com/uc?id=1l04EdxugtgruzkuOWdYZ24Vk7wBBIfzg\n",
      "To: /content/Alloc_Jan.csv\n",
      "141MB [00:00, 226MB/s]\n"
     ]
    }
   ],
   "source": [
    "# !gdown --id 1S5_OlhERoxvRHh5jTffjPcykFGMO5UFk\n",
    "# !gdown --id 1bMS5XK4JbfJo3NkMTHngBXtF5ldKpbfB\n",
    "# !gdown --id 1wpWLUN-ATWn6-PnZ6CN-Kr4YC6j-8RdX #Monthly_Alloc\n",
    "\n",
    "#Alloc_Jan 1l04EdxugtgruzkuOWdYZ24Vk7wBBIfzg \n",
    "#Alloc_Feb 1pWE2EC8XXCUtzQLUIZLWjLWR8Y1-lwex\n",
    "#Alloc_Mar 1OFpn8DX-Wd-XlCtjql1LEtFUF_AoRBMU \n",
    "#Alloc_Apr 1mh_j2C8L9EWdDDXgPtwFsvVmmowUuvl5\n",
    "#Alloc_May 1XPeGZRX4ROMbnAHI4012ymSJ-5FvuuRN\n",
    "#Alloc_Jun 1i31IoEyIQxWzn6u8LmQFTz6WxLJ0H1pm\n",
    "#Alloc_Jul 1bkZRDR9PGYM2cP87y96k_wFD1SvqY_jK\n",
    "#Alloc_Aug 1rolqSD7lj4EVTwyW4LK1DHAolD6DMOpm\n",
    "#Alloc_Sep 1KruzsSbyv0yyPHKlN8C6vLyOvs7FIzmO\n",
    "#Alloc_Oct 1Be867mJp07Za3dAM9awzxPTUz5x9CaJL\n",
    "#Alloc_Nov 1faYhUx9FtFlBL8J8EKfSBIlkWAT0piID\n",
    "#Alloc_Dec 1rEyK-CgcIrwMYLye91PjEKIVaki6Ytgx"
   ]
  },
  {
   "cell_type": "code",
   "execution_count": 1,
   "metadata": {
    "colab": {
     "base_uri": "https://localhost:8080/"
    },
    "id": "p9Ud2uQVwtPC",
    "outputId": "d80c0360-14f9-492d-c8eb-22b4d4e40bc4"
   },
   "outputs": [
    {
     "name": "stdout",
     "output_type": "stream",
     "text": [
      "Downloading...\n",
      "From: https://drive.google.com/uc?id=1KruzsSbyv0yyPHKlN8C6vLyOvs7FIzmO\n",
      "To: /content/Alloc_Sep.csv\n",
      "163MB [00:01, 101MB/s]\n"
     ]
    }
   ],
   "source": [
    "!gdown --id 1KruzsSbyv0yyPHKlN8C6vLyOvs7FIzmO"
   ]
  },
  {
   "cell_type": "markdown",
   "metadata": {
    "id": "pO7NOZn8k9tc"
   },
   "source": [
    "# **Main**"
   ]
  },
  {
   "cell_type": "code",
   "execution_count": 3,
   "metadata": {
    "id": "EaFRBsqkdNYR"
   },
   "outputs": [
    {
     "data": {
      "text/plain": [
       "(24, 1100001)"
      ]
     },
     "execution_count": 3,
     "metadata": {},
     "output_type": "execute_result"
    }
   ],
   "source": [
    "%matplotlib inline\n",
    "import pandas as pd\n",
    "import numpy as np\n",
    "\n",
    "\n",
    "Alloc_in = pd.read_csv(\"Alloc_Jan.csv\")\n",
    "Alloc_in.shape"
   ]
  },
  {
   "cell_type": "code",
   "execution_count": null,
   "metadata": {
    "colab": {
     "base_uri": "https://localhost:8080/",
     "height": 910
    },
    "id": "2oXbZFgBeMDg",
    "outputId": "8281dfaf-b6d7-42ba-9760-bffc7ec30044"
   },
   "outputs": [],
   "source": [
    "Alloc_in = Alloc_in.drop(Alloc_in.columns[[0]], axis=1)\n",
    "Alloc_in"
   ]
  },
  {
   "cell_type": "code",
   "execution_count": null,
   "metadata": {
    "id": "qMtpLHBuo37a"
   },
   "outputs": [],
   "source": [
    "allocInNumpy=np.array(Alloc_in)\n",
    "#Alloc_in"
   ]
  },
  {
   "cell_type": "code",
   "execution_count": null,
   "metadata": {
    "colab": {
     "base_uri": "https://localhost:8080/"
    },
    "id": "Zb1hn2oTs5eh",
    "outputId": "31adcb97-2b5d-4912-e112-51b199a92dbb"
   },
   "outputs": [
    {
     "data": {
      "text/plain": [
       "692516"
      ]
     },
     "execution_count": 14,
     "metadata": {
      "tags": []
     },
     "output_type": "execute_result"
    }
   ],
   "source": [
    "for i in range(1099999, 0, -1):\n",
    "  if (allocInNumpy[0,i] > 0):\n",
    "    j = i\n",
    "    break\n",
    "while(j%22 != 0):\n",
    "  j = j+1\n",
    "j\n"
   ]
  },
  {
   "cell_type": "code",
   "execution_count": null,
   "metadata": {
    "colab": {
     "base_uri": "https://localhost:8080/"
    },
    "id": "dletSp7vvuHl",
    "outputId": "44f9d6ff-560b-4ce3-a663-c7877da1cbb7"
   },
   "outputs": [
    {
     "name": "stdout",
     "output_type": "stream",
     "text": [
      "(24, 692516)\n"
     ]
    }
   ],
   "source": [
    "allocInNumpy = allocInNumpy[:,0:j]\n",
    "print(allocInNumpy.shape)\n",
    "k = int(j/22)"
   ]
  },
  {
   "cell_type": "markdown",
   "metadata": {
    "id": "ORTZS4FUjVb4"
   },
   "source": [
    "# **Thermal**"
   ]
  },
  {
   "cell_type": "code",
   "execution_count": null,
   "metadata": {
    "colab": {
     "base_uri": "https://localhost:8080/"
    },
    "id": "YkLfXD8zyskJ",
    "outputId": "09843d1c-7101-4ef9-856e-cb74b30aec05"
   },
   "outputs": [
    {
     "name": "stdout",
     "output_type": "stream",
     "text": [
      "[[1.46215  1.37387  1.36542  ... 1.41976  1.32904  1.36229 ]\n",
      " [1.32441  1.24445  1.23679  ... 1.28601  1.20384  1.23396 ]\n",
      " [1.26084  1.18471  1.17743  ... 1.22429  1.14606  1.17473 ]\n",
      " ...\n",
      " [1.8      1.76213  1.75129  ... 1.821    1.70464  1.495   ]\n",
      " [1.495    1.56302  1.55341  ... 1.61523  1.512024 1.495   ]\n",
      " [1.44096  1.35396  1.34563  ... 1.39918  1.30978  1.34255 ]]\n"
     ]
    }
   ],
   "source": [
    "temp2 = np.zeros((24,k))\n",
    "for i in range(0,k):\n",
    "    temp1 = np.sum(allocInNumpy[:,(i*22+10):(i*22+17)], axis = 1, keepdims = True)\n",
    "    temp1 = temp1.reshape(24)\n",
    "    temp2[:,i] = temp1\n",
    "\n",
    "print(temp2)"
   ]
  },
  {
   "cell_type": "code",
   "execution_count": null,
   "metadata": {
    "colab": {
     "base_uri": "https://localhost:8080/"
    },
    "id": "yvCTVfX9pFR6",
    "outputId": "e0668c93-5987-4e6a-c280-ea402dd7c6db"
   },
   "outputs": [
    {
     "data": {
      "text/plain": [
       "(24, 31478)"
      ]
     },
     "execution_count": 19,
     "metadata": {
      "tags": []
     },
     "output_type": "execute_result"
    }
   ],
   "source": [
    "df = pd.DataFrame(temp2 )\n",
    "df.to_csv('Jan_Thermal.csv')\n",
    "df.shape"
   ]
  },
  {
   "cell_type": "code",
   "execution_count": null,
   "metadata": {
    "colab": {
     "base_uri": "https://localhost:8080/"
    },
    "id": "-klkqe_WdNYa",
    "outputId": "db6b36b5-86c5-4c71-85d3-e344ced3e56c"
   },
   "outputs": [
    {
     "name": "stdout",
     "output_type": "stream",
     "text": [
      "         0         1         2   ...        21        22        23\n",
      "0  0.820000  0.820000  0.820000  ...  1.495000  1.373000  1.242761\n",
      "1  1.365231  1.238484  1.179757  ...  1.694685  1.523643  1.348383\n",
      "2  1.467561  1.329422  1.265611  ...  1.875269  1.660161  1.446412\n",
      "\n",
      "[3 rows x 24 columns]\n"
     ]
    }
   ],
   "source": [
    "y = []\n",
    "for j in range(0,3):\n",
    "  x = []\n",
    "  for i in range(0,24):\n",
    "    if (j == 0):\n",
    "      x.append(np.percentile(temp2[i,:], 2.5))\n",
    "    if (j == 1):\n",
    "      x.append(np.mean(temp2[i,:]))\n",
    "    if (j == 2):\n",
    "      x.append(np.percentile(temp2[i,:], 97.5))\n",
    "  y.append(x)\n",
    "#print(y)\n",
    "Jan = pd.DataFrame(y)  \n",
    "print(Jan)    \n",
    "# saving the dataframe  \n",
    "Jan.to_csv('Jan_Therm_per.csv') "
   ]
  },
  {
   "cell_type": "markdown",
   "metadata": {
    "id": "MsOyKTVMjcPp"
   },
   "source": [
    "# **Hydro**"
   ]
  },
  {
   "cell_type": "code",
   "execution_count": null,
   "metadata": {
    "id": "az1SYjVGWkqC"
   },
   "outputs": [],
   "source": [
    "temp2 = np.zeros((24,k))\n",
    "for i in range(0,k):\n",
    "    temp1 = allocInNumpy[:,(i*22+18)]\n",
    "    temp1 = temp1.reshape(24)\n",
    "    temp2[:,i] = temp1"
   ]
  },
  {
   "cell_type": "code",
   "execution_count": null,
   "metadata": {
    "colab": {
     "base_uri": "https://localhost:8080/"
    },
    "id": "P2on24SXiYvi",
    "outputId": "c1ff45a5-2c48-4afc-e88a-d5b3d61181e0"
   },
   "outputs": [
    {
     "data": {
      "text/plain": [
       "(24, 31478)"
      ]
     },
     "execution_count": 23,
     "metadata": {
      "tags": []
     },
     "output_type": "execute_result"
    }
   ],
   "source": [
    "df = pd.DataFrame(temp2 )\n",
    "df.to_csv('Jan_Hydro.csv')\n",
    "df.shape"
   ]
  },
  {
   "cell_type": "code",
   "execution_count": null,
   "metadata": {
    "colab": {
     "base_uri": "https://localhost:8080/"
    },
    "id": "bEeXDKR_iY9Q",
    "outputId": "56b7956c-ed1d-42af-fc76-6a0e8d048346"
   },
   "outputs": [
    {
     "name": "stdout",
     "output_type": "stream",
     "text": [
      "         0         1         2   ...        21        22       23\n",
      "0  0.000000  0.000000  0.000000  ...  0.000000  0.000000  0.00000\n",
      "1  0.002941  0.003705  0.002549  ...  0.006261  0.008266  0.00325\n",
      "2  0.000000  0.000000  0.000000  ...  0.000000  0.076573  0.00000\n",
      "\n",
      "[3 rows x 24 columns]\n"
     ]
    }
   ],
   "source": [
    "y = []\n",
    "for j in range(0,3):\n",
    "  x = []\n",
    "  for i in range(0,24):\n",
    "    if (j == 0):\n",
    "      x.append(np.percentile(temp2[i,:], 2.5))\n",
    "    if (j == 1):\n",
    "      x.append(np.mean(temp2[i,:]))\n",
    "    if (j == 2):\n",
    "      x.append(np.percentile(temp2[i,:], 97.5))\n",
    "  y.append(x)\n",
    "#print(y)\n",
    "Jan = pd.DataFrame(y)  \n",
    "print(Jan)    \n",
    "# saving the dataframe  \n",
    "Jan.to_csv('Feb_Hydro_per.csv') "
   ]
  },
  {
   "cell_type": "markdown",
   "metadata": {
    "id": "PLShubzFkPyo"
   },
   "source": [
    "# **Import**"
   ]
  },
  {
   "cell_type": "code",
   "execution_count": null,
   "metadata": {
    "id": "TbWhSGd1kPGP"
   },
   "outputs": [],
   "source": [
    "temp2 = np.zeros((24,k))\n",
    "for i in range(0,k):\n",
    "    temp1 = allocInNumpy[:,(i*22+21)]\n",
    "    temp1 = temp1.reshape(24)\n",
    "    temp2[:,i] = temp1"
   ]
  },
  {
   "cell_type": "code",
   "execution_count": null,
   "metadata": {
    "colab": {
     "base_uri": "https://localhost:8080/"
    },
    "id": "2HlZiSjCkPOV",
    "outputId": "0b594c4d-fe92-42bb-f1e3-a91dab69edfe"
   },
   "outputs": [
    {
     "data": {
      "text/plain": [
       "(24, 31478)"
      ]
     },
     "execution_count": 29,
     "metadata": {
      "tags": []
     },
     "output_type": "execute_result"
    }
   ],
   "source": [
    "df = pd.DataFrame(temp2 )\n",
    "df.to_csv('Jan_Import.csv')\n",
    "df.shape"
   ]
  },
  {
   "cell_type": "code",
   "execution_count": null,
   "metadata": {
    "colab": {
     "base_uri": "https://localhost:8080/"
    },
    "id": "NQ6ZCxQXkPYs",
    "outputId": "27e056e5-9d71-4993-aacc-4298a3f59994"
   },
   "outputs": [
    {
     "name": "stdout",
     "output_type": "stream",
     "text": [
      "         0             1             2   ...        21        22        23\n",
      "0  0.000000  0.000000e+00  0.000000e+00  ...  0.000000  0.000000  0.000000\n",
      "1  0.020786  1.592604e-02  1.541883e-02  ...  0.080543  0.048282  0.017195\n",
      "2  0.135694  2.220400e-16  2.220400e-16  ...  0.391611  0.212293  0.065360\n",
      "\n",
      "[3 rows x 24 columns]\n"
     ]
    }
   ],
   "source": [
    "y = []\n",
    "for j in range(0,3):\n",
    "  x = []\n",
    "  for i in range(0,24):\n",
    "    if (j == 0):\n",
    "      x.append(np.percentile(temp2[i,:], 2.5))\n",
    "    if (j == 1):\n",
    "      x.append(np.mean(temp2[i,:]))\n",
    "    if (j == 2):\n",
    "      x.append(np.percentile(temp2[i,:], 97.5))\n",
    "  y.append(x)\n",
    "#print(y)\n",
    "Jan = pd.DataFrame(y)  \n",
    "print(Jan)    \n",
    "# saving the dataframe  \n",
    "Jan.to_csv('Jan_Import_per.csv')"
   ]
  },
  {
   "cell_type": "markdown",
   "metadata": {
    "id": "EY-y6gnWkLzn"
   },
   "source": [
    "# **Extra**"
   ]
  },
  {
   "cell_type": "code",
   "execution_count": null,
   "metadata": {
    "id": "UQOXZ4XqdNYe"
   },
   "outputs": [],
   "source": [
    "temp2 = np.zeros((5, 24))\n",
    "for i in range(0,1):\n",
    "  for j in range(1,5):\n",
    "    if (j == 0):\n",
    "      temp1 = np.sum(allocInNumpy[:,(i*22+3):(i*22+10)], axis = 1, keepdims = True)\n",
    "      temp1 = temp1.reshape(1,24)\n",
    "    elif (j == 1):\n",
    "      temp1 = allocInNumpy[:,(i*22+17)]\n",
    "    elif (j == 2):\n",
    "      temp1 = allocInNumpy[:,(i*22+19) ]\n",
    "    elif (j == 3):\n",
    "      temp1 = allocInNumpy[:,(i*22+20)]\n",
    "    temp2[i*j+j,:] = temp1\n",
    "\n",
    "#print(temp2)\n",
    "df = pd.DataFrame(temp2 )\n",
    "df "
   ]
  },
  {
   "cell_type": "code",
   "execution_count": null,
   "metadata": {
    "colab": {
     "base_uri": "https://localhost:8080/"
    },
    "id": "BWbjyPF9kj7H",
    "outputId": "ba2df5b1-bbb2-4c70-f08c-24177c0f14ee"
   },
   "outputs": [
    {
     "name": "stdout",
     "output_type": "stream",
     "text": [
      "Mounted at /content/drive\n"
     ]
    }
   ],
   "source": [
    "from google.colab import drive\n",
    "drive.mount('/content/drive')"
   ]
  },
  {
   "cell_type": "code",
   "execution_count": null,
   "metadata": {
    "id": "LGX3uGoCknAe"
   },
   "outputs": [],
   "source": []
  }
 ],
 "metadata": {
  "colab": {
   "collapsed_sections": [
    "oGe1W2qtk2ZI",
    "ORTZS4FUjVb4",
    "MsOyKTVMjcPp",
    "-dfJR-r1jnCg",
    "PLShubzFkPyo",
    "EY-y6gnWkLzn"
   ],
   "name": "Holiday Alloc.ipynb",
   "provenance": []
  },
  "kernelspec": {
   "display_name": "Python 3",
   "language": "python",
   "name": "python3"
  },
  "language_info": {
   "codemirror_mode": {
    "name": "ipython",
    "version": 3
   },
   "file_extension": ".py",
   "mimetype": "text/x-python",
   "name": "python",
   "nbconvert_exporter": "python",
   "pygments_lexer": "ipython3",
   "version": "3.8.5"
  }
 },
 "nbformat": 4,
 "nbformat_minor": 1
}
