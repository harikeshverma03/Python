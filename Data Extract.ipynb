{
 "cells": [
  {
   "cell_type": "code",
   "execution_count": 16,
   "id": "dd04c443",
   "metadata": {},
   "outputs": [
    {
     "ename": "SyntaxError",
     "evalue": "invalid syntax (<ipython-input-16-f229a0e1dd78>, line 2)",
     "output_type": "error",
     "traceback": [
      "\u001b[1;36m  File \u001b[1;32m\"<ipython-input-16-f229a0e1dd78>\"\u001b[1;36m, line \u001b[1;32m2\u001b[0m\n\u001b[1;33m    cd ..\u001b[0m\n\u001b[1;37m        ^\u001b[0m\n\u001b[1;31mSyntaxError\u001b[0m\u001b[1;31m:\u001b[0m invalid syntax\n"
     ]
    }
   ],
   "source": [
    "import pandas as pd"
   ]
  },
  {
   "cell_type": "code",
   "execution_count": 34,
   "id": "ba437687",
   "metadata": {},
   "outputs": [
    {
     "name": "stdout",
     "output_type": "stream",
     "text": [
      "E:\\Results\\New-1\\reg\n"
     ]
    }
   ],
   "source": [
    "cd E:\\Results\\New-1\\reg"
   ]
  },
  {
   "cell_type": "code",
   "execution_count": 36,
   "id": "3b558a56",
   "metadata": {},
   "outputs": [],
   "source": [
    "\n",
    "name =  str(1) + \"_Thermal_per.csv\"\n",
    "therm = pd.read_csv(name)\n",
    "for month in range(1,12):\n",
    "    name =  str(month+1) + \"_Thermal_per.csv\"\n",
    "    Alloc_in = pd.read_csv(name)\n",
    "    therm = pd.concat([therm, Alloc_in])\n",
    "\n",
    "name =  str(1) + \"_Import_per.csv\"\n",
    "imp = pd.read_csv(name)\n",
    "for month in range(1,12):\n",
    "    name =  str(month+1) + \"_Import_per.csv\"\n",
    "    Alloc_in = pd.read_csv(name)\n",
    "    imp = pd.concat([imp, Alloc_in])\n",
    "\n",
    "name =  str(1) + \"_Hydro_per.csv\"\n",
    "hyd = pd.read_csv(name)\n",
    "for month in range(1,12):\n",
    "    name =  str(month+1) + \"_Hydro_per.csv\"\n",
    "    Alloc_in = pd.read_csv(name)\n",
    "    hyd = pd.concat([hyd, Alloc_in])\n",
    "    \n",
    "name =  str(1) + \"_Import_per_range.csv\"\n",
    "imp_range = pd.read_csv(name)\n",
    "for month in range(1,12):\n",
    "    name =  str(month+1) + \"_Import_per_range.csv\"\n",
    "    Alloc_in = pd.read_csv(name)\n",
    "    imp_range = pd.concat([imp_range, Alloc_in])\n",
    "    \n",
    "name =  str(1) + \"_Objective_per.csv\"\n",
    "obj = pd.read_csv(name)\n",
    "for month in range(1,12):\n",
    "    name =  str(month+1) + \"_Objective_per.csv\"\n",
    "    Alloc_in = pd.read_csv(name)\n",
    "    obj = pd.concat([obj, Alloc_in])\n",
    "    \n",
    "name =  str(1) + \"_Objective_per_range.csv\"\n",
    "obj_range = pd.read_csv(name)\n",
    "for month in range(1,12):\n",
    "    name =  str(month+1) + \"_Objective_per_range.csv\"\n",
    "    Alloc_in = pd.read_csv(name)\n",
    "    obj_range = pd.concat([obj_range, Alloc_in])"
   ]
  },
  {
   "cell_type": "code",
   "execution_count": 38,
   "id": "8a6ce0b1",
   "metadata": {},
   "outputs": [
    {
     "name": "stdout",
     "output_type": "stream",
     "text": [
      "E:\\Results\\New-1\n"
     ]
    }
   ],
   "source": [
    "cd .."
   ]
  },
  {
   "cell_type": "code",
   "execution_count": 39,
   "id": "f445bd59",
   "metadata": {},
   "outputs": [],
   "source": [
    "therm.to_csv(\"Therm_reg.csv\")\n",
    "imp.to_csv(\"Import_reg.csv\")\n",
    "hyd.to_csv(\"Hydro_reg.csv\")\n",
    "imp_range.to_csv(\"Import_range_reg.csv\")\n",
    "obj.to_csv(\"Objective_per.csv\")\n",
    "obj_range.to_csv(\"Objective_per_range.csv\")"
   ]
  },
  {
   "cell_type": "code",
   "execution_count": 40,
   "id": "6566f908",
   "metadata": {},
   "outputs": [
    {
     "name": "stdout",
     "output_type": "stream",
     "text": [
      "E:\\Results\\New-1\\hol\n"
     ]
    }
   ],
   "source": [
    "cd E:\\Results\\New-1\\hol"
   ]
  },
  {
   "cell_type": "code",
   "execution_count": 41,
   "id": "485ceac2",
   "metadata": {},
   "outputs": [],
   "source": [
    "\n",
    "name =  str(1) + \"_Thermal_per.csv\"\n",
    "therm = pd.read_csv(name)\n",
    "for month in range(1,12):\n",
    "    name =  str(month+1) + \"_Thermal_per.csv\"\n",
    "    Alloc_in = pd.read_csv(name)\n",
    "    therm = pd.concat([therm, Alloc_in])\n",
    "\n",
    "name =  str(1) + \"_Import_per.csv\"\n",
    "imp = pd.read_csv(name)\n",
    "for month in range(1,12):\n",
    "    name =  str(month+1) + \"_Import_per.csv\"\n",
    "    Alloc_in = pd.read_csv(name)\n",
    "    imp = pd.concat([imp, Alloc_in])\n",
    "\n",
    "name =  str(1) + \"_Hydro_per.csv\"\n",
    "hyd = pd.read_csv(name)\n",
    "for month in range(1,12):\n",
    "    name =  str(month+1) + \"_Hydro_per.csv\"\n",
    "    Alloc_in = pd.read_csv(name)\n",
    "    hyd = pd.concat([hyd, Alloc_in])\n",
    "    \n",
    "name =  str(1) + \"_Import_per_range.csv\"\n",
    "imp_range = pd.read_csv(name)\n",
    "for month in range(1,12):\n",
    "    name =  str(month+1) + \"_Import_per_range.csv\"\n",
    "    Alloc_in = pd.read_csv(name)\n",
    "    imp_range = pd.concat([imp_range, Alloc_in])"
   ]
  },
  {
   "cell_type": "code",
   "execution_count": 42,
   "id": "c01207ea",
   "metadata": {},
   "outputs": [
    {
     "name": "stdout",
     "output_type": "stream",
     "text": [
      "E:\\Results\\New-1\n"
     ]
    }
   ],
   "source": [
    "cd .."
   ]
  },
  {
   "cell_type": "code",
   "execution_count": 43,
   "id": "88829a77",
   "metadata": {},
   "outputs": [],
   "source": [
    "therm.to_csv(\"Therm_hol.csv\")\n",
    "imp.to_csv(\"Import_hol.csv\")\n",
    "hyd.to_csv(\"Hydro_hol.csv\")\n",
    "imp_range.to_csv(\"Import_range_hol.csv\")"
   ]
  },
  {
   "cell_type": "code",
   "execution_count": 28,
   "id": "f1f4a851",
   "metadata": {},
   "outputs": [
    {
     "data": {
      "text/plain": [
       "array([[           nan, 0.00000000e+00],\n",
       "       [0.00000000e+00, 3.57935250e+03],\n",
       "       [1.00000000e+00, 4.26162038e+03],\n",
       "       [2.00000000e+00, 4.95484750e+03],\n",
       "       [3.00000000e+00, 4.02962822e+02],\n",
       "       [4.00000000e+00, 9.45562454e-02]])"
      ]
     },
     "execution_count": 28,
     "metadata": {},
     "output_type": "execute_result"
    }
   ],
   "source": []
  },
  {
   "cell_type": "code",
   "execution_count": null,
   "id": "a36fab1f",
   "metadata": {},
   "outputs": [],
   "source": [
    "name =  str(1) + \"_Import_per_range.csv\"\n",
    "imp_range = pd.read_csv(name)\n",
    "for month in range(1,12):\n",
    "    name =  str(month+1) + \"_Import_per_range.csv\"\n",
    "    Alloc_in = pd.read_csv(name)\n",
    "    imp_range = pd.concat([imp_range, Alloc_in])"
   ]
  }
 ],
 "metadata": {
  "kernelspec": {
   "display_name": "Python 3",
   "language": "python",
   "name": "python3"
  },
  "language_info": {
   "codemirror_mode": {
    "name": "ipython",
    "version": 3
   },
   "file_extension": ".py",
   "mimetype": "text/x-python",
   "name": "python",
   "nbconvert_exporter": "python",
   "pygments_lexer": "ipython3",
   "version": "3.8.8"
  }
 },
 "nbformat": 4,
 "nbformat_minor": 5
}
